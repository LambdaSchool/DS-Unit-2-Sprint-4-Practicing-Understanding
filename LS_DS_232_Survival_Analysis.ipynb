{
  "nbformat": 4,
  "nbformat_minor": 0,
  "metadata": {
    "colab": {
      "name": "LS_DS_232_Survival_Analysis.ipynb",
      "version": "0.3.2",
      "provenance": []
    },
    "language_info": {
      "codemirror_mode": {
        "name": "ipython",
        "version": 3
      },
      "file_extension": ".py",
      "mimetype": "text/x-python",
      "name": "python",
      "nbconvert_exporter": "python",
      "pygments_lexer": "ipython3",
      "version": "3.7.1"
    },
    "kernelspec": {
      "display_name": "Python 3",
      "language": "python",
      "name": "python3"
    }
  },
  "cells": [
    {
      "cell_type": "markdown",
      "metadata": {
        "colab_type": "text",
        "id": "DSUEMY8usgwJ"
      },
      "source": [
        "# Lambda School Data Science - Survival Analysis\n",
        "![My normal approach is useless here, too.](https://imgs.xkcd.com/comics/probability.png)\n",
        "\n",
        "https://www.explainxkcd.com/wiki/index.php/881:_Probability\n",
        "\n",
        "The aim of survival analysis is to analyze the effect of different risk factors and use them to predict the duration of time between one event (\"birth\") and another (\"death\")."
      ]
    },
    {
      "cell_type": "markdown",
      "metadata": {
        "colab_type": "text",
        "id": "Xp-QnVAgfud4"
      },
      "source": [
        "# Lecture\n",
        "\n",
        "Survival analysis was first developed by actuaries and medical professionals to predict (as its name implies) how long individuals would survive. However, it has expanded into include many different applications.\n",
        "* it is referred to as **reliability analysis** in engineering\n",
        "* it can be referred to more generally as **time-to-event analysis**\n",
        "\n",
        "In the general sense, it can be thought of as a way to model anything with a finite duration - retention, churn, completion, etc. The culmination of this duration may have a \"good\" or \"bad\" (or \"neutral\") connotation, depending on the situation. However old habits die hard, so most often it is called survival analysis and the following definitions are still commonly used:\n",
        "\n",
        "* birth: the event that marks the beginning of the time period for observation\n",
        "* death: the event of interest, which then marks the end of the observation period for an individual\n",
        "\n",
        "### Examples\n",
        "* Customer churn\n",
        " * birth event: customer subscribes to a service\n",
        " * death event: customer leaves the service\n",
        "* Employee retention\n",
        " * birth event: employee is hired\n",
        " * death event: employee quits\n",
        "* Engineering, part reliability\n",
        " * birth event: part is put in use\n",
        " * death event: part fails\n",
        "* Program completion\n",
        " * birth event: student begins PhD program\n",
        " * death event: student earns PhD\n",
        "* Response time\n",
        " * birth event: 911 call is made\n",
        " * death event: police arrive\n",
        "* Lambda School\n",
        " * birth event: student graduates LambdaSchool\n",
        " * death event: student gets a job!\n",
        " \n",
        "Take a moment and try to come up with your own specific example or two.\n",
        "\n",
        "#### So... if all we're predicting here is a length of time between two events, why can't we just use regular old Linear Regression?\n",
        "Well... if you have all the data, go for it. In some situations it may be reasonably effective.\n",
        "\n",
        "#### But, data for survival times are often highly skewed and, more importantly, we don't always get a chance to observe the \"death\" event. The current time or other factors interfere with our ability to observe the time of the event of interest. These observations are said to be _censored_.\n",
        "\n",
        "Additionally, the occurrence or non-occurrence of an event is binary - so, while the time is continuous, the event itself is in some ways similar to a binary event in logistic regression.\n",
        "\n",
        "## Censorship in Data\n",
        "\n",
        "Suppose a new cancer treatment is developed. Researchers select 50 individuals for the study to undergo treatment and participate in post-treatment obsesrvation.\n",
        "\n",
        "##### Birth Event = Participant begins trial\n",
        "##### Death Event = Participant dies due to cancer or complications of cancer\n",
        "During the study:\n",
        "1. Some participants die during the course of the study--triggering their death event \n",
        "2. Some participants drop out or the researchers otherwise lose contact with them. The researchers have their data up intil the time they dropped out, but they don't have a death event to record\n",
        "3. Some participants are still be alive at the end of the observation period. So again, researchers have their data up until some point, but there is no death event to record\n",
        "\n",
        "We only know the interval between the \"birth\" event and the \"death\" event for participants in category 1. All others we only know that they survived _up to_ a certain point.\n",
        "\n",
        "### Dealing with Censored Data\n",
        "\n",
        "Without survival analysis, we could deal with censored data in two ways:\n",
        "* We could just treat the end of the observation period as the time of the death event\n",
        "* (Even worse) We could drop the censored data using the rationale that we have \"incomplete data\" for those observations\n",
        "\n",
        "But... both of these will underestimate survival rates for the purpose of the study. We **know** that all those individuals \"survived\" the \"death event\" past a certain point.\n",
        "\n",
        "Luckily, in the 1980s a pair of smarty pants named David (main author Cox and coauthor Oakes) did the hard math work to make it possible to incorporate additional features as predictive measures to survival time probabilities. (Fun fact, the one named Cox also came up with logistic regression with non-David coauthor, Joyce Snell.)\n",
        "\n",
        "## lifelines\n",
        "It wasn't until 2014 that some other smart people made an implementation of survival analysis in Python called lifelines. It is built over Pandas and follows the same conventions for usage as scikit-learn.\n",
        "\n",
        "#### https://github.com/CamDavidsonPilon/lifelines\n",
        "- Local, Anaconda: `conda install -c conda-forge lifelines`\n",
        "- Google Colab: `pip install lifelines`"
      ]
    },
    {
      "cell_type": "code",
      "metadata": {
        "id": "z4251Zeb6Ec1",
        "colab_type": "code",
        "colab": {
          "base_uri": "https://localhost:8080/",
          "height": 310
        },
        "outputId": "43f5c270-cf83-4479-e5ed-f116e8bbfc6a"
      },
      "source": [
        "!pip install lifelines"
      ],
      "execution_count": 126,
      "outputs": [
        {
          "output_type": "stream",
          "text": [
            "Requirement already satisfied: lifelines in /usr/local/lib/python3.6/dist-packages (0.21.1)\n",
            "Requirement already satisfied: matplotlib>=3.0 in /usr/local/lib/python3.6/dist-packages (from lifelines) (3.0.3)\n",
            "Requirement already satisfied: scipy>=1.0 in /usr/local/lib/python3.6/dist-packages (from lifelines) (1.2.1)\n",
            "Requirement already satisfied: pandas>=0.23.0 in /usr/local/lib/python3.6/dist-packages (from lifelines) (0.24.2)\n",
            "Requirement already satisfied: numpy>=1.6.0 in /usr/local/lib/python3.6/dist-packages (from lifelines) (1.16.3)\n",
            "Requirement already satisfied: autograd>=1.2 in /usr/local/lib/python3.6/dist-packages (from lifelines) (1.2)\n",
            "Requirement already satisfied: bottleneck>=1.0 in /usr/local/lib/python3.6/dist-packages (from lifelines) (1.2.1)\n",
            "Requirement already satisfied: python-dateutil>=2.1 in /usr/local/lib/python3.6/dist-packages (from matplotlib>=3.0->lifelines) (2.5.3)\n",
            "Requirement already satisfied: cycler>=0.10 in /usr/local/lib/python3.6/dist-packages (from matplotlib>=3.0->lifelines) (0.10.0)\n",
            "Requirement already satisfied: kiwisolver>=1.0.1 in /usr/local/lib/python3.6/dist-packages (from matplotlib>=3.0->lifelines) (1.1.0)\n",
            "Requirement already satisfied: pyparsing!=2.0.4,!=2.1.2,!=2.1.6,>=2.0.1 in /usr/local/lib/python3.6/dist-packages (from matplotlib>=3.0->lifelines) (2.4.0)\n",
            "Requirement already satisfied: pytz>=2011k in /usr/local/lib/python3.6/dist-packages (from pandas>=0.23.0->lifelines) (2018.9)\n",
            "Requirement already satisfied: future>=0.15.2 in /usr/local/lib/python3.6/dist-packages (from autograd>=1.2->lifelines) (0.16.0)\n",
            "Requirement already satisfied: six>=1.5 in /usr/local/lib/python3.6/dist-packages (from python-dateutil>=2.1->matplotlib>=3.0->lifelines) (1.12.0)\n",
            "Requirement already satisfied: setuptools in /usr/local/lib/python3.6/dist-packages (from kiwisolver>=1.0.1->matplotlib>=3.0->lifelines) (41.0.1)\n"
          ],
          "name": "stdout"
        }
      ]
    },
    {
      "cell_type": "code",
      "metadata": {
        "colab_type": "code",
        "id": "E8rpzq9zsgwn",
        "colab": {
          "base_uri": "https://localhost:8080/",
          "height": 35
        },
        "outputId": "61a1fb2e-c647-42fe-dbb5-70d235fe7956"
      },
      "source": [
        "%matplotlib inline\n",
        "import lifelines\n",
        "import matplotlib.pyplot as plt\n",
        "import numpy as np\n",
        "import pandas as pd\n",
        "\n",
        "lifelines.__version__"
      ],
      "execution_count": 127,
      "outputs": [
        {
          "output_type": "execute_result",
          "data": {
            "text/plain": [
              "'0.21.1'"
            ]
          },
          "metadata": {
            "tags": []
          },
          "execution_count": 127
        }
      ]
    },
    {
      "cell_type": "code",
      "metadata": {
        "id": "0wpIQ5nQ3pHd",
        "colab_type": "code",
        "colab": {
          "base_uri": "https://localhost:8080/",
          "height": 35
        },
        "outputId": "86a25d53-3187-4848-c3fe-30a3aa00de91"
      },
      "source": [
        "# We also need matplotlib version 3\n",
        "import matplotlib\n",
        "matplotlib.__version__"
      ],
      "execution_count": 128,
      "outputs": [
        {
          "output_type": "execute_result",
          "data": {
            "text/plain": [
              "'3.0.3'"
            ]
          },
          "metadata": {
            "tags": []
          },
          "execution_count": 128
        }
      ]
    },
    {
      "cell_type": "code",
      "metadata": {
        "colab_type": "code",
        "id": "d51G4sPqsgww",
        "outputId": "9f3826fa-0c22-4949-8e1b-0d4d5c66fb92",
        "colab": {
          "base_uri": "https://localhost:8080/",
          "height": 198
        }
      },
      "source": [
        "# lifelines comes with some datasets to get you started playing around with it.\n",
        "# Most of the datasets are cleaned-up versions of real datasets. Here we will\n",
        "# use their Leukemia dataset comparing 2 different treatments taken from\n",
        "# http://web1.sph.emory.edu/dkleinb/allDatasets/surv2datasets/anderson.dat\n",
        "\n",
        "from lifelines.datasets import load_leukemia\n",
        "leukemia = load_leukemia()\n",
        "\n",
        "leukemia.head()"
      ],
      "execution_count": 129,
      "outputs": [
        {
          "output_type": "execute_result",
          "data": {
            "text/html": [
              "<div>\n",
              "<style scoped>\n",
              "    .dataframe tbody tr th:only-of-type {\n",
              "        vertical-align: middle;\n",
              "    }\n",
              "\n",
              "    .dataframe tbody tr th {\n",
              "        vertical-align: top;\n",
              "    }\n",
              "\n",
              "    .dataframe thead th {\n",
              "        text-align: right;\n",
              "    }\n",
              "</style>\n",
              "<table border=\"1\" class=\"dataframe\">\n",
              "  <thead>\n",
              "    <tr style=\"text-align: right;\">\n",
              "      <th></th>\n",
              "      <th>t</th>\n",
              "      <th>status</th>\n",
              "      <th>sex</th>\n",
              "      <th>logWBC</th>\n",
              "      <th>Rx</th>\n",
              "    </tr>\n",
              "  </thead>\n",
              "  <tbody>\n",
              "    <tr>\n",
              "      <th>0</th>\n",
              "      <td>35</td>\n",
              "      <td>0</td>\n",
              "      <td>1</td>\n",
              "      <td>1.45</td>\n",
              "      <td>0</td>\n",
              "    </tr>\n",
              "    <tr>\n",
              "      <th>1</th>\n",
              "      <td>34</td>\n",
              "      <td>0</td>\n",
              "      <td>1</td>\n",
              "      <td>1.47</td>\n",
              "      <td>0</td>\n",
              "    </tr>\n",
              "    <tr>\n",
              "      <th>2</th>\n",
              "      <td>32</td>\n",
              "      <td>0</td>\n",
              "      <td>1</td>\n",
              "      <td>2.20</td>\n",
              "      <td>0</td>\n",
              "    </tr>\n",
              "    <tr>\n",
              "      <th>3</th>\n",
              "      <td>32</td>\n",
              "      <td>0</td>\n",
              "      <td>1</td>\n",
              "      <td>2.53</td>\n",
              "      <td>0</td>\n",
              "    </tr>\n",
              "    <tr>\n",
              "      <th>4</th>\n",
              "      <td>25</td>\n",
              "      <td>0</td>\n",
              "      <td>1</td>\n",
              "      <td>1.78</td>\n",
              "      <td>0</td>\n",
              "    </tr>\n",
              "  </tbody>\n",
              "</table>\n",
              "</div>"
            ],
            "text/plain": [
              "    t  status  sex  logWBC  Rx\n",
              "0  35       0    1    1.45   0\n",
              "1  34       0    1    1.47   0\n",
              "2  32       0    1    2.20   0\n",
              "3  32       0    1    2.53   0\n",
              "4  25       0    1    1.78   0"
            ]
          },
          "metadata": {
            "tags": []
          },
          "execution_count": 129
        }
      ]
    },
    {
      "cell_type": "markdown",
      "metadata": {
        "colab_type": "text",
        "id": "xIlaPncgsgw7"
      },
      "source": [
        "### You can use any Pandas DataFrame with lifelines. \n",
        "### The only requirement is that the DataFrame includes features that describe:\n",
        "* a duration of time for the observation\n",
        "* a binary column regarding censorship (`1` if the death event was observed, `0` if the death event was not observed)\n",
        "\n",
        "Sometimes, you will have to engineer these features. How might you go about that? What information would you need?"
      ]
    },
    {
      "cell_type": "code",
      "metadata": {
        "colab_type": "code",
        "id": "DQ936c5tsgw-",
        "outputId": "0ceea9f1-bf3a-48c7-eb6d-5e6419f58eb9",
        "colab": {
          "base_uri": "https://localhost:8080/",
          "height": 199
        }
      },
      "source": [
        "leukemia.info()"
      ],
      "execution_count": 130,
      "outputs": [
        {
          "output_type": "stream",
          "text": [
            "<class 'pandas.core.frame.DataFrame'>\n",
            "RangeIndex: 42 entries, 0 to 41\n",
            "Data columns (total 5 columns):\n",
            "t         42 non-null int64\n",
            "status    42 non-null int64\n",
            "sex       42 non-null int64\n",
            "logWBC    42 non-null float64\n",
            "Rx        42 non-null int64\n",
            "dtypes: float64(1), int64(4)\n",
            "memory usage: 1.7 KB\n"
          ],
          "name": "stdout"
        }
      ]
    },
    {
      "cell_type": "code",
      "metadata": {
        "colab_type": "code",
        "id": "MDvA8Z9rsgxL",
        "outputId": "33ffcc07-7048-4078-9290-89b2afaed4bd",
        "colab": {
          "base_uri": "https://localhost:8080/",
          "height": 288
        }
      },
      "source": [
        "leukemia.describe()"
      ],
      "execution_count": 131,
      "outputs": [
        {
          "output_type": "execute_result",
          "data": {
            "text/html": [
              "<div>\n",
              "<style scoped>\n",
              "    .dataframe tbody tr th:only-of-type {\n",
              "        vertical-align: middle;\n",
              "    }\n",
              "\n",
              "    .dataframe tbody tr th {\n",
              "        vertical-align: top;\n",
              "    }\n",
              "\n",
              "    .dataframe thead th {\n",
              "        text-align: right;\n",
              "    }\n",
              "</style>\n",
              "<table border=\"1\" class=\"dataframe\">\n",
              "  <thead>\n",
              "    <tr style=\"text-align: right;\">\n",
              "      <th></th>\n",
              "      <th>t</th>\n",
              "      <th>status</th>\n",
              "      <th>sex</th>\n",
              "      <th>logWBC</th>\n",
              "      <th>Rx</th>\n",
              "    </tr>\n",
              "  </thead>\n",
              "  <tbody>\n",
              "    <tr>\n",
              "      <th>count</th>\n",
              "      <td>42.000000</td>\n",
              "      <td>42.000000</td>\n",
              "      <td>42.000000</td>\n",
              "      <td>42.000000</td>\n",
              "      <td>42.000000</td>\n",
              "    </tr>\n",
              "    <tr>\n",
              "      <th>mean</th>\n",
              "      <td>12.880952</td>\n",
              "      <td>0.714286</td>\n",
              "      <td>0.476190</td>\n",
              "      <td>2.930238</td>\n",
              "      <td>0.500000</td>\n",
              "    </tr>\n",
              "    <tr>\n",
              "      <th>std</th>\n",
              "      <td>9.347498</td>\n",
              "      <td>0.457230</td>\n",
              "      <td>0.505487</td>\n",
              "      <td>0.917522</td>\n",
              "      <td>0.506061</td>\n",
              "    </tr>\n",
              "    <tr>\n",
              "      <th>min</th>\n",
              "      <td>1.000000</td>\n",
              "      <td>0.000000</td>\n",
              "      <td>0.000000</td>\n",
              "      <td>1.450000</td>\n",
              "      <td>0.000000</td>\n",
              "    </tr>\n",
              "    <tr>\n",
              "      <th>25%</th>\n",
              "      <td>6.000000</td>\n",
              "      <td>0.000000</td>\n",
              "      <td>0.000000</td>\n",
              "      <td>2.302500</td>\n",
              "      <td>0.000000</td>\n",
              "    </tr>\n",
              "    <tr>\n",
              "      <th>50%</th>\n",
              "      <td>10.500000</td>\n",
              "      <td>1.000000</td>\n",
              "      <td>0.000000</td>\n",
              "      <td>2.800000</td>\n",
              "      <td>0.500000</td>\n",
              "    </tr>\n",
              "    <tr>\n",
              "      <th>75%</th>\n",
              "      <td>18.500000</td>\n",
              "      <td>1.000000</td>\n",
              "      <td>1.000000</td>\n",
              "      <td>3.490000</td>\n",
              "      <td>1.000000</td>\n",
              "    </tr>\n",
              "    <tr>\n",
              "      <th>max</th>\n",
              "      <td>35.000000</td>\n",
              "      <td>1.000000</td>\n",
              "      <td>1.000000</td>\n",
              "      <td>5.000000</td>\n",
              "      <td>1.000000</td>\n",
              "    </tr>\n",
              "  </tbody>\n",
              "</table>\n",
              "</div>"
            ],
            "text/plain": [
              "               t     status        sex     logWBC         Rx\n",
              "count  42.000000  42.000000  42.000000  42.000000  42.000000\n",
              "mean   12.880952   0.714286   0.476190   2.930238   0.500000\n",
              "std     9.347498   0.457230   0.505487   0.917522   0.506061\n",
              "min     1.000000   0.000000   0.000000   1.450000   0.000000\n",
              "25%     6.000000   0.000000   0.000000   2.302500   0.000000\n",
              "50%    10.500000   1.000000   0.000000   2.800000   0.500000\n",
              "75%    18.500000   1.000000   1.000000   3.490000   1.000000\n",
              "max    35.000000   1.000000   1.000000   5.000000   1.000000"
            ]
          },
          "metadata": {
            "tags": []
          },
          "execution_count": 131
        }
      ]
    },
    {
      "cell_type": "code",
      "metadata": {
        "colab_type": "code",
        "id": "tDasOEocsgxQ",
        "outputId": "ff23a485-d9c3-409c-a35e-e63f54cfc2a7",
        "colab": {
          "base_uri": "https://localhost:8080/",
          "height": 295
        }
      },
      "source": [
        "time = leukemia.t.values\n",
        "event = leukemia.status.values\n",
        "\n",
        "ax = lifelines.plotting.plot_lifetimes(time, event_observed=event)\n",
        "ax.set_xlim(0, 40)\n",
        "ax.grid(axis='x')\n",
        "ax.set_xlabel(\"Time in Months\")\n",
        "ax.set_title(\"Lifelines for Survival of Leukemia Patients\");\n",
        "plt.plot();"
      ],
      "execution_count": 132,
      "outputs": [
        {
          "output_type": "display_data",
          "data": {
            "image/png": "[encoded data removed]",
            "text/plain": [
              "<Figure size 432x288 with 1 Axes>"
            ]
          },
          "metadata": {
            "tags": []
          }
        }
      ]
    },
    {
      "cell_type": "markdown",
      "metadata": {
        "colab_type": "text",
        "id": "5oEzZ_aqsgxV"
      },
      "source": [
        "## Kaplan-Meier survival estimate\n",
        " \n",
        "The Kaplan-Meier method estimates survival probability from observed survival times. It results in a step function that changes value only at the time of each event, and confidence intervals can be computer for the survival probabilities. \n",
        "\n",
        "The KM survival curve,a plot of KM survival probability against time, provides a useful summary of the data.\n",
        "It can be used to estimate measures such as median survival time.\n",
        "\n",
        "It CANNOT account for risk factors and is NOT regression. It is *non-parametric* (does not involve parameters).\n",
        "\n",
        "However it is a good way to visualize a survival dataset, and can be useful to compare the effects of a single categorical variable."
      ]
    },
    {
      "cell_type": "code",
      "metadata": {
        "colab_type": "code",
        "id": "5XoM5PzGsgxX",
        "outputId": "bd30f361-2c77-4b9a-9933-7c3cfacdd4a1",
        "colab": {
          "base_uri": "https://localhost:8080/",
          "height": 35
        }
      },
      "source": [
        "kmf = lifelines.KaplanMeierFitter()\n",
        "\n",
        "kmf.fit(time, event_observed=event)"
      ],
      "execution_count": 133,
      "outputs": [
        {
          "output_type": "execute_result",
          "data": {
            "text/plain": [
              "<lifelines.KaplanMeierFitter: fitted with 42 observations, 12 censored>"
            ]
          },
          "metadata": {
            "tags": []
          },
          "execution_count": 133
        }
      ]
    },
    {
      "cell_type": "code",
      "metadata": {
        "colab_type": "code",
        "id": "8lnpLxmhsgxc",
        "outputId": "055b86b7-9c52-4daa-ad7e-8af10af53856",
        "colab": {
          "base_uri": "https://localhost:8080/",
          "height": 314
        }
      },
      "source": [
        "kmf.survival_function_.plot()\n",
        "plt.title('Survival Function Leukemia Patients');\n",
        "print(f'Median Survival: {kmf.median_} months after treatment')"
      ],
      "execution_count": 134,
      "outputs": [
        {
          "output_type": "stream",
          "text": [
            "Median Survival: 12.0 months after treatment\n"
          ],
          "name": "stdout"
        },
        {
          "output_type": "display_data",
          "data": {
            "image/png": "[encoded data removed]",
            "text/plain": [
              "<Figure size 432x288 with 1 Axes>"
            ]
          },
          "metadata": {
            "tags": []
          }
        }
      ]
    },
    {
      "cell_type": "code",
      "metadata": {
        "colab_type": "code",
        "id": "udKT7uBAsgxi",
        "outputId": "da6ba6e9-044c-4845-fdbf-3f105f0c95f2",
        "colab": {
          "base_uri": "https://localhost:8080/",
          "height": 332
        }
      },
      "source": [
        "ax = plt.subplot(111)\n",
        "\n",
        "treatment = (leukemia[\"Rx\"] == 1)\n",
        "kmf.fit(time[treatment], event_observed=event[treatment], label=\"Treatment 1\")\n",
        "kmf.plot(ax=ax)\n",
        "print(f'Median survival time with Treatment 1: {kmf.median_} months')\n",
        "\n",
        "kmf.fit(time[~treatment], event_observed=event[~treatment], label=\"Treatment 0\")\n",
        "kmf.plot(ax=ax)\n",
        "print(f'Median survival time with Treatment 0: {kmf.median_} months')\n",
        "\n",
        "plt.ylim(0, 1);\n",
        "plt.title(\"Survival Times for Leukemia Treatments\");"
      ],
      "execution_count": 135,
      "outputs": [
        {
          "output_type": "stream",
          "text": [
            "Median survival time with Treatment 1: 8.0 months\n",
            "Median survival time with Treatment 0: 23.0 months\n"
          ],
          "name": "stdout"
        },
        {
          "output_type": "display_data",
          "data": {
            "image/png": "[encoded data removed]",
            "text/plain": [
              "<Figure size 432x288 with 1 Axes>"
            ]
          },
          "metadata": {
            "tags": []
          }
        }
      ]
    },
    {
      "cell_type": "markdown",
      "metadata": {
        "id": "J_22x4sv3pIq",
        "colab_type": "text"
      },
      "source": [
        "## Recividism"
      ]
    },
    {
      "cell_type": "code",
      "metadata": {
        "colab_type": "code",
        "id": "z7NNzQ_5sgyh",
        "outputId": "60a6e34d-5639-433f-edcf-9235b59f2c30",
        "colab": {
          "base_uri": "https://localhost:8080/",
          "height": 198
        }
      },
      "source": [
        "# lifelines comes with some datasets to get you started playing around with it\n",
        "# The Rossi dataset originally comes from Rossi et al. (1980), \n",
        "# and is used as an example in Allison (1995). \n",
        "\n",
        "# The data pertain to 432 convicts who were released from Maryland state prisons \n",
        "# in the 1970s and who were followed up for one year after release. Half the \n",
        "# released convicts were assigned at random to an experimental treatment in \n",
        "# which they were given financial aid; half did not receive aid.\n",
        "\n",
        "from lifelines.datasets import load_rossi\n",
        "recidivism = load_rossi()\n",
        "\n",
        "recidivism.head()\n",
        "\n",
        "# Looking at the Rossi dataset, how long do you think the study lasted?\n",
        "\n",
        "# All features are coded with numerical values, but which features do you think \n",
        "# are actually categorical?"
      ],
      "execution_count": 136,
      "outputs": [
        {
          "output_type": "execute_result",
          "data": {
            "text/html": [
              "<div>\n",
              "<style scoped>\n",
              "    .dataframe tbody tr th:only-of-type {\n",
              "        vertical-align: middle;\n",
              "    }\n",
              "\n",
              "    .dataframe tbody tr th {\n",
              "        vertical-align: top;\n",
              "    }\n",
              "\n",
              "    .dataframe thead th {\n",
              "        text-align: right;\n",
              "    }\n",
              "</style>\n",
              "<table border=\"1\" class=\"dataframe\">\n",
              "  <thead>\n",
              "    <tr style=\"text-align: right;\">\n",
              "      <th></th>\n",
              "      <th>week</th>\n",
              "      <th>arrest</th>\n",
              "      <th>fin</th>\n",
              "      <th>age</th>\n",
              "      <th>race</th>\n",
              "      <th>wexp</th>\n",
              "      <th>mar</th>\n",
              "      <th>paro</th>\n",
              "      <th>prio</th>\n",
              "    </tr>\n",
              "  </thead>\n",
              "  <tbody>\n",
              "    <tr>\n",
              "      <th>0</th>\n",
              "      <td>20</td>\n",
              "      <td>1</td>\n",
              "      <td>0</td>\n",
              "      <td>27</td>\n",
              "      <td>1</td>\n",
              "      <td>0</td>\n",
              "      <td>0</td>\n",
              "      <td>1</td>\n",
              "      <td>3</td>\n",
              "    </tr>\n",
              "    <tr>\n",
              "      <th>1</th>\n",
              "      <td>17</td>\n",
              "      <td>1</td>\n",
              "      <td>0</td>\n",
              "      <td>18</td>\n",
              "      <td>1</td>\n",
              "      <td>0</td>\n",
              "      <td>0</td>\n",
              "      <td>1</td>\n",
              "      <td>8</td>\n",
              "    </tr>\n",
              "    <tr>\n",
              "      <th>2</th>\n",
              "      <td>25</td>\n",
              "      <td>1</td>\n",
              "      <td>0</td>\n",
              "      <td>19</td>\n",
              "      <td>0</td>\n",
              "      <td>1</td>\n",
              "      <td>0</td>\n",
              "      <td>1</td>\n",
              "      <td>13</td>\n",
              "    </tr>\n",
              "    <tr>\n",
              "      <th>3</th>\n",
              "      <td>52</td>\n",
              "      <td>0</td>\n",
              "      <td>1</td>\n",
              "      <td>23</td>\n",
              "      <td>1</td>\n",
              "      <td>1</td>\n",
              "      <td>1</td>\n",
              "      <td>1</td>\n",
              "      <td>1</td>\n",
              "    </tr>\n",
              "    <tr>\n",
              "      <th>4</th>\n",
              "      <td>52</td>\n",
              "      <td>0</td>\n",
              "      <td>0</td>\n",
              "      <td>19</td>\n",
              "      <td>0</td>\n",
              "      <td>1</td>\n",
              "      <td>0</td>\n",
              "      <td>1</td>\n",
              "      <td>3</td>\n",
              "    </tr>\n",
              "  </tbody>\n",
              "</table>\n",
              "</div>"
            ],
            "text/plain": [
              "   week  arrest  fin  age  race  wexp  mar  paro  prio\n",
              "0    20       1    0   27     1     0    0     1     3\n",
              "1    17       1    0   18     1     0    0     1     8\n",
              "2    25       1    0   19     0     1    0     1    13\n",
              "3    52       0    1   23     1     1    1     1     1\n",
              "4    52       0    0   19     0     1    0     1     3"
            ]
          },
          "metadata": {
            "tags": []
          },
          "execution_count": 136
        }
      ]
    },
    {
      "cell_type": "code",
      "metadata": {
        "colab_type": "code",
        "id": "LVq_ZOFgsgyq",
        "outputId": "f70c85b0-62dd-42ca-e00c-246b311855dc",
        "colab": {
          "base_uri": "https://localhost:8080/",
          "height": 288
        }
      },
      "source": [
        "recidivism.describe()"
      ],
      "execution_count": 137,
      "outputs": [
        {
          "output_type": "execute_result",
          "data": {
            "text/html": [
              "<div>\n",
              "<style scoped>\n",
              "    .dataframe tbody tr th:only-of-type {\n",
              "        vertical-align: middle;\n",
              "    }\n",
              "\n",
              "    .dataframe tbody tr th {\n",
              "        vertical-align: top;\n",
              "    }\n",
              "\n",
              "    .dataframe thead th {\n",
              "        text-align: right;\n",
              "    }\n",
              "</style>\n",
              "<table border=\"1\" class=\"dataframe\">\n",
              "  <thead>\n",
              "    <tr style=\"text-align: right;\">\n",
              "      <th></th>\n",
              "      <th>week</th>\n",
              "      <th>arrest</th>\n",
              "      <th>fin</th>\n",
              "      <th>age</th>\n",
              "      <th>race</th>\n",
              "      <th>wexp</th>\n",
              "      <th>mar</th>\n",
              "      <th>paro</th>\n",
              "      <th>prio</th>\n",
              "    </tr>\n",
              "  </thead>\n",
              "  <tbody>\n",
              "    <tr>\n",
              "      <th>count</th>\n",
              "      <td>432.000000</td>\n",
              "      <td>432.000000</td>\n",
              "      <td>432.00000</td>\n",
              "      <td>432.000000</td>\n",
              "      <td>432.000000</td>\n",
              "      <td>432.000000</td>\n",
              "      <td>432.000000</td>\n",
              "      <td>432.000000</td>\n",
              "      <td>432.000000</td>\n",
              "    </tr>\n",
              "    <tr>\n",
              "      <th>mean</th>\n",
              "      <td>45.854167</td>\n",
              "      <td>0.263889</td>\n",
              "      <td>0.50000</td>\n",
              "      <td>24.597222</td>\n",
              "      <td>0.877315</td>\n",
              "      <td>0.571759</td>\n",
              "      <td>0.122685</td>\n",
              "      <td>0.618056</td>\n",
              "      <td>2.983796</td>\n",
              "    </tr>\n",
              "    <tr>\n",
              "      <th>std</th>\n",
              "      <td>12.662293</td>\n",
              "      <td>0.441251</td>\n",
              "      <td>0.50058</td>\n",
              "      <td>6.113375</td>\n",
              "      <td>0.328456</td>\n",
              "      <td>0.495398</td>\n",
              "      <td>0.328456</td>\n",
              "      <td>0.486426</td>\n",
              "      <td>2.896068</td>\n",
              "    </tr>\n",
              "    <tr>\n",
              "      <th>min</th>\n",
              "      <td>1.000000</td>\n",
              "      <td>0.000000</td>\n",
              "      <td>0.00000</td>\n",
              "      <td>17.000000</td>\n",
              "      <td>0.000000</td>\n",
              "      <td>0.000000</td>\n",
              "      <td>0.000000</td>\n",
              "      <td>0.000000</td>\n",
              "      <td>0.000000</td>\n",
              "    </tr>\n",
              "    <tr>\n",
              "      <th>25%</th>\n",
              "      <td>50.000000</td>\n",
              "      <td>0.000000</td>\n",
              "      <td>0.00000</td>\n",
              "      <td>20.000000</td>\n",
              "      <td>1.000000</td>\n",
              "      <td>0.000000</td>\n",
              "      <td>0.000000</td>\n",
              "      <td>0.000000</td>\n",
              "      <td>1.000000</td>\n",
              "    </tr>\n",
              "    <tr>\n",
              "      <th>50%</th>\n",
              "      <td>52.000000</td>\n",
              "      <td>0.000000</td>\n",
              "      <td>0.50000</td>\n",
              "      <td>23.000000</td>\n",
              "      <td>1.000000</td>\n",
              "      <td>1.000000</td>\n",
              "      <td>0.000000</td>\n",
              "      <td>1.000000</td>\n",
              "      <td>2.000000</td>\n",
              "    </tr>\n",
              "    <tr>\n",
              "      <th>75%</th>\n",
              "      <td>52.000000</td>\n",
              "      <td>1.000000</td>\n",
              "      <td>1.00000</td>\n",
              "      <td>27.000000</td>\n",
              "      <td>1.000000</td>\n",
              "      <td>1.000000</td>\n",
              "      <td>0.000000</td>\n",
              "      <td>1.000000</td>\n",
              "      <td>4.000000</td>\n",
              "    </tr>\n",
              "    <tr>\n",
              "      <th>max</th>\n",
              "      <td>52.000000</td>\n",
              "      <td>1.000000</td>\n",
              "      <td>1.00000</td>\n",
              "      <td>44.000000</td>\n",
              "      <td>1.000000</td>\n",
              "      <td>1.000000</td>\n",
              "      <td>1.000000</td>\n",
              "      <td>1.000000</td>\n",
              "      <td>18.000000</td>\n",
              "    </tr>\n",
              "  </tbody>\n",
              "</table>\n",
              "</div>"
            ],
            "text/plain": [
              "             week      arrest        fin  ...         mar        paro        prio\n",
              "count  432.000000  432.000000  432.00000  ...  432.000000  432.000000  432.000000\n",
              "mean    45.854167    0.263889    0.50000  ...    0.122685    0.618056    2.983796\n",
              "std     12.662293    0.441251    0.50058  ...    0.328456    0.486426    2.896068\n",
              "min      1.000000    0.000000    0.00000  ...    0.000000    0.000000    0.000000\n",
              "25%     50.000000    0.000000    0.00000  ...    0.000000    0.000000    1.000000\n",
              "50%     52.000000    0.000000    0.50000  ...    0.000000    1.000000    2.000000\n",
              "75%     52.000000    1.000000    1.00000  ...    0.000000    1.000000    4.000000\n",
              "max     52.000000    1.000000    1.00000  ...    1.000000    1.000000   18.000000\n",
              "\n",
              "[8 rows x 9 columns]"
            ]
          },
          "metadata": {
            "tags": []
          },
          "execution_count": 137
        }
      ]
    },
    {
      "cell_type": "markdown",
      "metadata": {
        "colab_type": "text",
        "id": "Wg1s1bpJsgyt"
      },
      "source": [
        "### These are the \"lifelines\" of the study participants as they attempt to avoid recidivism"
      ]
    },
    {
      "cell_type": "code",
      "metadata": {
        "colab_type": "code",
        "id": "XqhPJfltsgyv",
        "outputId": "ed1f2c79-d0cd-497d-d568-71ed04a01f9f",
        "colab": {
          "base_uri": "https://localhost:8080/",
          "height": 295
        }
      },
      "source": [
        "recidivism_sample = recidivism.sample(n=25)\n",
        "\n",
        "duration = recidivism_sample.week.values\n",
        "arrested = recidivism_sample.arrest.values\n",
        "\n",
        "ax = lifelines.plotting.plot_lifetimes(duration, event_observed=arrested)\n",
        "ax.set_xlim(0, 78)\n",
        "ax.grid(axis='x')\n",
        "ax.vlines(52, 0, 25, lw=2, linestyles='--')\n",
        "ax.set_xlabel(\"Time in Weeks\")\n",
        "ax.set_title(\"Recidivism Rates\");\n",
        "plt.plot();"
      ],
      "execution_count": 138,
      "outputs": [
        {
          "output_type": "display_data",
          "data": {
            "image/png": "[encoded data removed]",
            "text/plain": [
              "<Figure size 432x288 with 1 Axes>"
            ]
          },
          "metadata": {
            "tags": []
          }
        }
      ]
    },
    {
      "cell_type": "code",
      "metadata": {
        "colab_type": "code",
        "id": "lz4mF5kHsgy1",
        "outputId": "f15edc73-84c0-416d-a49d-778eeeb60f35",
        "colab": {
          "base_uri": "https://localhost:8080/",
          "height": 35
        }
      },
      "source": [
        "kmf = lifelines.KaplanMeierFitter()\n",
        "\n",
        "duration = recidivism.week\n",
        "arrested = recidivism.arrest\n",
        "\n",
        "kmf.fit(duration, arrested)\n"
      ],
      "execution_count": 139,
      "outputs": [
        {
          "output_type": "execute_result",
          "data": {
            "text/plain": [
              "<lifelines.KaplanMeierFitter: fitted with 432 observations, 318 censored>"
            ]
          },
          "metadata": {
            "tags": []
          },
          "execution_count": 139
        }
      ]
    },
    {
      "cell_type": "code",
      "metadata": {
        "colab_type": "code",
        "id": "PXveA6jesgy8",
        "outputId": "260d783c-9566-4782-b10a-faca0f64c30c",
        "colab": {
          "base_uri": "https://localhost:8080/",
          "height": 295
        }
      },
      "source": [
        "kmf.plot()\n",
        "plt.title('Survival Function of Recidivism Data');"
      ],
      "execution_count": 140,
      "outputs": [
        {
          "output_type": "display_data",
          "data": {
            "image/png": "[encoded data removed]",
            "text/plain": [
              "<Figure size 432x288 with 1 Axes>"
            ]
          },
          "metadata": {
            "tags": []
          }
        }
      ]
    },
    {
      "cell_type": "code",
      "metadata": {
        "colab_type": "code",
        "id": "c9e5lAV7sgzH",
        "outputId": "aa22f8df-ff9f-43a9-c9df-8869dd041c30",
        "colab": {
          "base_uri": "https://localhost:8080/",
          "height": 295
        }
      },
      "source": [
        "kmf_w_aid = lifelines.KaplanMeierFitter()\n",
        "kmf_no_aid = lifelines.KaplanMeierFitter()\n",
        "\n",
        "ax = plt.subplot(111)\n",
        "\n",
        "w_aid = (recidivism['fin']==1)\n",
        "\n",
        "t = np.linspace(0, 70, 71)\n",
        "kmf_w_aid.fit(duration[w_aid], event_observed=arrested[w_aid], timeline=t, label=\"Received Financial Aid\")\n",
        "ax = kmf_w_aid.plot(ax=ax)\n",
        "#print(\"Median survival time of democratic:\", kmf.median_)\n",
        "\n",
        "kmf_no_aid.fit(duration[~w_aid], event_observed=arrested[~w_aid], timeline=t, label=\"No Financial Aid\")\n",
        "ax = kmf_no_aid.plot(ax=ax)\n",
        "#print(\"Median survival time of non-democratic:\", kmf.median_)\n",
        "\n",
        "plt.ylim(.5,1)\n",
        "plt.title(\"Recidivism for Participants Who Received Financial Aid \\vs. Those Who Did Not\");"
      ],
      "execution_count": 141,
      "outputs": [
        {
          "output_type": "display_data",
          "data": {
            "image/png": "[encoded data removed]",
            "text/plain": [
              "<Figure size 432x288 with 1 Axes>"
            ]
          },
          "metadata": {
            "tags": []
          }
        }
      ]
    },
    {
      "cell_type": "code",
      "metadata": {
        "colab_type": "code",
        "id": "zdM4GOAOsgzN",
        "outputId": "8443e98d-80ff-48d1-b8f8-b375ce4a528a",
        "colab": {
          "base_uri": "https://localhost:8080/",
          "height": 429
        }
      },
      "source": [
        "naf = lifelines.NelsonAalenFitter()\n",
        "naf.fit(duration, arrested)\n",
        "\n",
        "print(naf.cumulative_hazard_.head())\n",
        "naf.plot()"
      ],
      "execution_count": 142,
      "outputs": [
        {
          "output_type": "stream",
          "text": [
            "          NA_estimate\n",
            "timeline             \n",
            "0.0          0.000000\n",
            "1.0          0.002315\n",
            "2.0          0.004635\n",
            "3.0          0.006961\n",
            "4.0          0.009292\n"
          ],
          "name": "stdout"
        },
        {
          "output_type": "execute_result",
          "data": {
            "text/plain": [
              "<matplotlib.axes._subplots.AxesSubplot at 0x7fd212454048>"
            ]
          },
          "metadata": {
            "tags": []
          },
          "execution_count": 142
        },
        {
          "output_type": "display_data",
          "data": {
            "image/png": "[encoded data removed]",
            "text/plain": [
              "<Figure size 432x288 with 1 Axes>"
            ]
          },
          "metadata": {
            "tags": []
          }
        }
      ]
    },
    {
      "cell_type": "code",
      "metadata": {
        "colab_type": "code",
        "id": "uJVPVtmYsgzR",
        "outputId": "cc1eaf16-6067-47c4-8c88-1ebf13c76595",
        "colab": {
          "base_uri": "https://localhost:8080/",
          "height": 325
        }
      },
      "source": [
        "naf_w_aid = lifelines.NelsonAalenFitter()\n",
        "naf_no_aid = lifelines.NelsonAalenFitter()\n",
        "\n",
        "naf_w_aid.fit(duration[w_aid], event_observed=arrested[w_aid], timeline=t, label=\"Received Financial Aid\")\n",
        "ax = naf_w_aid.plot(loc=slice(0, 50))\n",
        "naf_no_aid.fit(duration[~w_aid], event_observed=arrested[~w_aid], timeline=t, label=\"No Financial Aid\")\n",
        "ax = naf_no_aid.plot(ax=ax, loc=slice(0, 50))\n",
        "plt.title(\"Recidivism Cumulative Hazard\\nfor Participants Who Received Financial Aid \\nvs. Those Who Did Not\");\n",
        "plt.show()"
      ],
      "execution_count": 143,
      "outputs": [
        {
          "output_type": "display_data",
          "data": {
            "image/png": "[encoded data removed]",
            "text/plain": [
              "<Figure size 432x288 with 1 Axes>"
            ]
          },
          "metadata": {
            "tags": []
          }
        }
      ]
    },
    {
      "cell_type": "markdown",
      "metadata": {
        "colab_type": "text",
        "id": "XY-yJuKcsgz1"
      },
      "source": [
        "## The Intuition - Hazard and Survival Functions\n",
        "\n",
        "### Hazard Function - the dangerous bathtub\n",
        "\n",
        "The hazard function represents the *instantaneous* likelihood of failure. It can be treated as a PDF (probability density function), and with real-world data comes in three typical shapes.\n",
        "\n",
        "![Different hazard functions](https://upload.wikimedia.org/wikipedia/commons/2/25/Compsyseng17_04.jpg)\n",
        "\n",
        "Increasing and decreasing failure rate are fairly intuitive - the \"bathtub\" shaped is perhaps the most surprising, but actually models many real-world situations. In fact, life expectancy in general, and most threats to it, assume this shape.\n",
        "\n",
        "What the \"bathtub\" means is that - threats are highest at youth (e.g. infant mortality), but then decrease and stabilize at maturity, only to eventually re-emerge in old age. Many diseases primarily threaten children and elderly, and middle aged people are also more robust to physical trauma.\n",
        "\n",
        "The \"bathtub\" is also suitable for many non-human situations - often with reliability analysis, mechanical parts either fail early (due to manufacturing defects), or they survive and have a relatively long lifetime to eventually fail out of age and use.\n",
        "\n",
        "### Survival Function (aka reliability function) - it's just a (backwards) CDF\n",
        "\n",
        "Since the hazard function can be treated as a probability density function, it makes sense to think about the corresponding cumulative distribution function (CDF). But because we're modeling time to failure, it's actually more interesting to look at the CDF backwards - this is called the complementary cumulative distribution function.\n",
        "\n",
        "In survival analysis there's a special name for it - the survival function - and it gives the probability that the object being studied will survive beyond a given time.\n",
        "\n",
        "![4 survival functions](https://upload.wikimedia.org/wikipedia/commons/e/e0/Four_survival_functions.svg)\n",
        "\n",
        "As you can see they all start at 1 for time 0 - at the beginning, all things are alive. Then they all move down over time to eventually approach and converge to 0. The different shapes reflect the average/expected retention of a population subject to this function over time, and as such this is a particularly useful visualization when modeling overall retention/churn situations.\n",
        "\n",
        "### Ways to estimate/model survival analysis - terms to be aware of\n",
        "Key Components Necessary for these models - duration, and whether observation is censored.\n",
        "\n",
        "- Kaplan Meier Estimator\n",
        "- Nelson-Aalen Estimator\n",
        "- Proportional Hazards (Cox Model, integrates covariates)\n",
        "- Additive Hazards Model (Aalen's Additive Model, when covariates are time-dependent)\n",
        "\n",
        "As with most statistics, these are all refinements of the general principles, with the math to back them up. Software packages will tend to select reasonable defaults, and allow you to use parameters to tune or select things. The math for these gets varied and deep - but feel free to [dive in](https://en.wikipedia.org/wiki/Survival_analysis) if you're curious!"
      ]
    },
    {
      "cell_type": "markdown",
      "metadata": {
        "colab_type": "text",
        "id": "8tMyVxHRa3cQ"
      },
      "source": [
        "# Assignment - Customer Churn\n",
        "\n",
        "Treselle Systems, a data consulting service, [analyzed customer churn data using logistic regression](http://www.treselle.com/blog/customer-churn-logistic-regression-with-r/). For simply modeling whether or not a customer left this can work, but if we want to model the actual tenure of a customer, survival analysis is more appropriate.\n",
        "\n",
        "The \"tenure\" feature represents the duration that a given customer has been with them, and \"churn\" represents whether or not that customer left (i.e. the \"event\", from a survival analysis perspective). So, any situation where churn is \"no\" means that a customer is still active, and so from a survival analysis perspective the observation is censored (we have their tenure up to now, but we don't know their *true* duration until event).\n",
        "\n",
        "Your assignment is to [use their data](https://github.com/treselle-systems/customer_churn_analysis) to fit a survival model, and answer the following questions:\n",
        "\n",
        "- What features best model customer churn?\n",
        "- What would you characterize as the \"warning signs\" that a customer may discontinue service?\n",
        "- What actions would you recommend to this business to try to improve their customer retention?\n",
        "\n",
        "Please create at least *3* plots or visualizations to support your findings, and in general write your summary/results targeting an \"interested layperson\" (e.g. your hypothetical business manager) as your audience.\n",
        "\n",
        "This means that, as is often the case in data science, there isn't a single objective right answer - your goal is to *support* your answer, whatever it is, with data and reasoning.\n",
        "\n",
        "Good luck!"
      ]
    },
    {
      "cell_type": "code",
      "metadata": {
        "colab_type": "code",
        "id": "OIfMQKnSy8Zl",
        "outputId": "4d0dbf3e-1e02-4b86-96b8-11e7c55f8b4c",
        "colab": {
          "base_uri": "https://localhost:8080/",
          "height": 287
        }
      },
      "source": [
        "# Loading the data to get you started\n",
        "churn_data = pd.read_csv(\n",
        "    'https://raw.githubusercontent.com/treselle-systems/'\n",
        "    'customer_churn_analysis/master/WA_Fn-UseC_-Telco-Customer-Churn.csv')\n",
        "churn_data.head()"
      ],
      "execution_count": 172,
      "outputs": [
        {
          "output_type": "execute_result",
          "data": {
            "text/html": [
              "<div>\n",
              "<style scoped>\n",
              "    .dataframe tbody tr th:only-of-type {\n",
              "        vertical-align: middle;\n",
              "    }\n",
              "\n",
              "    .dataframe tbody tr th {\n",
              "        vertical-align: top;\n",
              "    }\n",
              "\n",
              "    .dataframe thead th {\n",
              "        text-align: right;\n",
              "    }\n",
              "</style>\n",
              "<table border=\"1\" class=\"dataframe\">\n",
              "  <thead>\n",
              "    <tr style=\"text-align: right;\">\n",
              "      <th></th>\n",
              "      <th>customerID</th>\n",
              "      <th>gender</th>\n",
              "      <th>SeniorCitizen</th>\n",
              "      <th>Partner</th>\n",
              "      <th>Dependents</th>\n",
              "      <th>tenure</th>\n",
              "      <th>PhoneService</th>\n",
              "      <th>MultipleLines</th>\n",
              "      <th>InternetService</th>\n",
              "      <th>OnlineSecurity</th>\n",
              "      <th>OnlineBackup</th>\n",
              "      <th>DeviceProtection</th>\n",
              "      <th>TechSupport</th>\n",
              "      <th>StreamingTV</th>\n",
              "      <th>StreamingMovies</th>\n",
              "      <th>Contract</th>\n",
              "      <th>PaperlessBilling</th>\n",
              "      <th>PaymentMethod</th>\n",
              "      <th>MonthlyCharges</th>\n",
              "      <th>TotalCharges</th>\n",
              "      <th>Churn</th>\n",
              "    </tr>\n",
              "  </thead>\n",
              "  <tbody>\n",
              "    <tr>\n",
              "      <th>0</th>\n",
              "      <td>7590-VHVEG</td>\n",
              "      <td>Female</td>\n",
              "      <td>0</td>\n",
              "      <td>Yes</td>\n",
              "      <td>No</td>\n",
              "      <td>1</td>\n",
              "      <td>No</td>\n",
              "      <td>No phone service</td>\n",
              "      <td>DSL</td>\n",
              "      <td>No</td>\n",
              "      <td>Yes</td>\n",
              "      <td>No</td>\n",
              "      <td>No</td>\n",
              "      <td>No</td>\n",
              "      <td>No</td>\n",
              "      <td>Month-to-month</td>\n",
              "      <td>Yes</td>\n",
              "      <td>Electronic check</td>\n",
              "      <td>29.85</td>\n",
              "      <td>29.85</td>\n",
              "      <td>No</td>\n",
              "    </tr>\n",
              "    <tr>\n",
              "      <th>1</th>\n",
              "      <td>5575-GNVDE</td>\n",
              "      <td>Male</td>\n",
              "      <td>0</td>\n",
              "      <td>No</td>\n",
              "      <td>No</td>\n",
              "      <td>34</td>\n",
              "      <td>Yes</td>\n",
              "      <td>No</td>\n",
              "      <td>DSL</td>\n",
              "      <td>Yes</td>\n",
              "      <td>No</td>\n",
              "      <td>Yes</td>\n",
              "      <td>No</td>\n",
              "      <td>No</td>\n",
              "      <td>No</td>\n",
              "      <td>One year</td>\n",
              "      <td>No</td>\n",
              "      <td>Mailed check</td>\n",
              "      <td>56.95</td>\n",
              "      <td>1889.5</td>\n",
              "      <td>No</td>\n",
              "    </tr>\n",
              "    <tr>\n",
              "      <th>2</th>\n",
              "      <td>3668-QPYBK</td>\n",
              "      <td>Male</td>\n",
              "      <td>0</td>\n",
              "      <td>No</td>\n",
              "      <td>No</td>\n",
              "      <td>2</td>\n",
              "      <td>Yes</td>\n",
              "      <td>No</td>\n",
              "      <td>DSL</td>\n",
              "      <td>Yes</td>\n",
              "      <td>Yes</td>\n",
              "      <td>No</td>\n",
              "      <td>No</td>\n",
              "      <td>No</td>\n",
              "      <td>No</td>\n",
              "      <td>Month-to-month</td>\n",
              "      <td>Yes</td>\n",
              "      <td>Mailed check</td>\n",
              "      <td>53.85</td>\n",
              "      <td>108.15</td>\n",
              "      <td>Yes</td>\n",
              "    </tr>\n",
              "    <tr>\n",
              "      <th>3</th>\n",
              "      <td>7795-CFOCW</td>\n",
              "      <td>Male</td>\n",
              "      <td>0</td>\n",
              "      <td>No</td>\n",
              "      <td>No</td>\n",
              "      <td>45</td>\n",
              "      <td>No</td>\n",
              "      <td>No phone service</td>\n",
              "      <td>DSL</td>\n",
              "      <td>Yes</td>\n",
              "      <td>No</td>\n",
              "      <td>Yes</td>\n",
              "      <td>Yes</td>\n",
              "      <td>No</td>\n",
              "      <td>No</td>\n",
              "      <td>One year</td>\n",
              "      <td>No</td>\n",
              "      <td>Bank transfer (automatic)</td>\n",
              "      <td>42.30</td>\n",
              "      <td>1840.75</td>\n",
              "      <td>No</td>\n",
              "    </tr>\n",
              "    <tr>\n",
              "      <th>4</th>\n",
              "      <td>9237-HQITU</td>\n",
              "      <td>Female</td>\n",
              "      <td>0</td>\n",
              "      <td>No</td>\n",
              "      <td>No</td>\n",
              "      <td>2</td>\n",
              "      <td>Yes</td>\n",
              "      <td>No</td>\n",
              "      <td>Fiber optic</td>\n",
              "      <td>No</td>\n",
              "      <td>No</td>\n",
              "      <td>No</td>\n",
              "      <td>No</td>\n",
              "      <td>No</td>\n",
              "      <td>No</td>\n",
              "      <td>Month-to-month</td>\n",
              "      <td>Yes</td>\n",
              "      <td>Electronic check</td>\n",
              "      <td>70.70</td>\n",
              "      <td>151.65</td>\n",
              "      <td>Yes</td>\n",
              "    </tr>\n",
              "  </tbody>\n",
              "</table>\n",
              "</div>"
            ],
            "text/plain": [
              "   customerID  gender  SeniorCitizen  ... MonthlyCharges TotalCharges  Churn\n",
              "0  7590-VHVEG  Female              0  ...          29.85        29.85     No\n",
              "1  5575-GNVDE    Male              0  ...          56.95       1889.5     No\n",
              "2  3668-QPYBK    Male              0  ...          53.85       108.15    Yes\n",
              "3  7795-CFOCW    Male              0  ...          42.30      1840.75     No\n",
              "4  9237-HQITU  Female              0  ...          70.70       151.65    Yes\n",
              "\n",
              "[5 rows x 21 columns]"
            ]
          },
          "metadata": {
            "tags": []
          },
          "execution_count": 172
        }
      ]
    },
    {
      "cell_type": "code",
      "metadata": {
        "id": "y1XV_TALKyte",
        "colab_type": "code",
        "colab": {}
      },
      "source": [
        "cd = churn_data.copy()\n",
        "\n",
        "#cleaning:\n",
        "\n",
        "drop_cols = ['customerID']\n",
        "cd.drop(columns=drop_cols, inplace=True)\n",
        "cd.replace({'Yes':1, 'No': 0, 'Female': 0, 'Male': 1, 'No internet service': 2, 'No phone service': 2}, inplace=True)\n",
        "cd.InternetService.replace({'Fiber optic':1, 'DSL':2}, inplace=True)\n",
        "cd.Contract.replace({'Month-to-month':0, 'Two year': 2, 'One year': 1},\n",
        "                            inplace=True)\n",
        "cd.PaymentMethod.replace({'Electronic check': 0, 'Mailed check': 1, \n",
        "                                  'Bank transfer (automatic)': 2, \n",
        "                                  'Credit card (automatic)':3}, inplace=True)\n",
        "cd.TotalCharges = cd.TotalCharges.replace({' ':0}).astype('float')\n"
      ],
      "execution_count": 0,
      "outputs": []
    },
    {
      "cell_type": "code",
      "metadata": {
        "colab_type": "code",
        "id": "lmGBY5fX0bmu",
        "outputId": "c37f472e-25a7-4380-82df-edac86afcb23",
        "colab": {
          "base_uri": "https://localhost:8080/",
          "height": 472
        }
      },
      "source": [
        "cd.info()"
      ],
      "execution_count": 146,
      "outputs": [
        {
          "output_type": "stream",
          "text": [
            "<class 'pandas.core.frame.DataFrame'>\n",
            "RangeIndex: 7043 entries, 0 to 7042\n",
            "Data columns (total 20 columns):\n",
            "gender              7043 non-null int64\n",
            "SeniorCitizen       7043 non-null int64\n",
            "Partner             7043 non-null int64\n",
            "Dependents          7043 non-null int64\n",
            "tenure              7043 non-null int64\n",
            "PhoneService        7043 non-null int64\n",
            "MultipleLines       7043 non-null int64\n",
            "InternetService     7043 non-null int64\n",
            "OnlineSecurity      7043 non-null int64\n",
            "OnlineBackup        7043 non-null int64\n",
            "DeviceProtection    7043 non-null int64\n",
            "TechSupport         7043 non-null int64\n",
            "StreamingTV         7043 non-null int64\n",
            "StreamingMovies     7043 non-null int64\n",
            "Contract            7043 non-null int64\n",
            "PaperlessBilling    7043 non-null int64\n",
            "PaymentMethod       7043 non-null int64\n",
            "MonthlyCharges      7043 non-null float64\n",
            "TotalCharges        7043 non-null float64\n",
            "Churn               7043 non-null int64\n",
            "dtypes: float64(2), int64(18)\n",
            "memory usage: 1.1 MB\n"
          ],
          "name": "stdout"
        }
      ]
    },
    {
      "cell_type": "code",
      "metadata": {
        "id": "U-anBtdWklep",
        "colab_type": "code",
        "colab": {
          "base_uri": "https://localhost:8080/",
          "height": 308
        },
        "outputId": "b5fb0e4f-cb30-47ff-ccf6-e0f0db021967"
      },
      "source": [
        "cd.describe()"
      ],
      "execution_count": 186,
      "outputs": [
        {
          "output_type": "execute_result",
          "data": {
            "text/html": [
              "<div>\n",
              "<style scoped>\n",
              "    .dataframe tbody tr th:only-of-type {\n",
              "        vertical-align: middle;\n",
              "    }\n",
              "\n",
              "    .dataframe tbody tr th {\n",
              "        vertical-align: top;\n",
              "    }\n",
              "\n",
              "    .dataframe thead th {\n",
              "        text-align: right;\n",
              "    }\n",
              "</style>\n",
              "<table border=\"1\" class=\"dataframe\">\n",
              "  <thead>\n",
              "    <tr style=\"text-align: right;\">\n",
              "      <th></th>\n",
              "      <th>gender</th>\n",
              "      <th>SeniorCitizen</th>\n",
              "      <th>Partner</th>\n",
              "      <th>Dependents</th>\n",
              "      <th>tenure</th>\n",
              "      <th>PhoneService</th>\n",
              "      <th>MultipleLines</th>\n",
              "      <th>InternetService</th>\n",
              "      <th>OnlineSecurity</th>\n",
              "      <th>OnlineBackup</th>\n",
              "      <th>DeviceProtection</th>\n",
              "      <th>TechSupport</th>\n",
              "      <th>StreamingTV</th>\n",
              "      <th>StreamingMovies</th>\n",
              "      <th>Contract</th>\n",
              "      <th>PaperlessBilling</th>\n",
              "      <th>PaymentMethod</th>\n",
              "      <th>MonthlyCharges</th>\n",
              "      <th>TotalCharges</th>\n",
              "      <th>Churn</th>\n",
              "    </tr>\n",
              "  </thead>\n",
              "  <tbody>\n",
              "    <tr>\n",
              "      <th>count</th>\n",
              "      <td>7043.000000</td>\n",
              "      <td>7043.000000</td>\n",
              "      <td>7043.000000</td>\n",
              "      <td>7043.000000</td>\n",
              "      <td>7043.000000</td>\n",
              "      <td>7043.000000</td>\n",
              "      <td>7043.000000</td>\n",
              "      <td>7043.000000</td>\n",
              "      <td>7043.000000</td>\n",
              "      <td>7043.000000</td>\n",
              "      <td>7043.000000</td>\n",
              "      <td>7043.000000</td>\n",
              "      <td>7043.000000</td>\n",
              "      <td>7043.000000</td>\n",
              "      <td>7043.000000</td>\n",
              "      <td>7043.000000</td>\n",
              "      <td>7043.000000</td>\n",
              "      <td>7043.000000</td>\n",
              "      <td>7043.000000</td>\n",
              "      <td>7043.000000</td>\n",
              "    </tr>\n",
              "    <tr>\n",
              "      <th>mean</th>\n",
              "      <td>0.504756</td>\n",
              "      <td>0.162147</td>\n",
              "      <td>0.483033</td>\n",
              "      <td>0.299588</td>\n",
              "      <td>32.371149</td>\n",
              "      <td>0.903166</td>\n",
              "      <td>0.615505</td>\n",
              "      <td>1.127077</td>\n",
              "      <td>0.720006</td>\n",
              "      <td>0.778220</td>\n",
              "      <td>0.777226</td>\n",
              "      <td>0.723555</td>\n",
              "      <td>0.817691</td>\n",
              "      <td>0.821241</td>\n",
              "      <td>0.690473</td>\n",
              "      <td>0.592219</td>\n",
              "      <td>1.315633</td>\n",
              "      <td>64.761692</td>\n",
              "      <td>2279.734304</td>\n",
              "      <td>0.265370</td>\n",
              "    </tr>\n",
              "    <tr>\n",
              "      <th>std</th>\n",
              "      <td>0.500013</td>\n",
              "      <td>0.368612</td>\n",
              "      <td>0.499748</td>\n",
              "      <td>0.458110</td>\n",
              "      <td>24.559481</td>\n",
              "      <td>0.295752</td>\n",
              "      <td>0.656039</td>\n",
              "      <td>0.737796</td>\n",
              "      <td>0.796885</td>\n",
              "      <td>0.778472</td>\n",
              "      <td>0.778826</td>\n",
              "      <td>0.795896</td>\n",
              "      <td>0.763212</td>\n",
              "      <td>0.761725</td>\n",
              "      <td>0.833755</td>\n",
              "      <td>0.491457</td>\n",
              "      <td>1.148907</td>\n",
              "      <td>30.090047</td>\n",
              "      <td>2266.794470</td>\n",
              "      <td>0.441561</td>\n",
              "    </tr>\n",
              "    <tr>\n",
              "      <th>min</th>\n",
              "      <td>0.000000</td>\n",
              "      <td>0.000000</td>\n",
              "      <td>0.000000</td>\n",
              "      <td>0.000000</td>\n",
              "      <td>0.000000</td>\n",
              "      <td>0.000000</td>\n",
              "      <td>0.000000</td>\n",
              "      <td>0.000000</td>\n",
              "      <td>0.000000</td>\n",
              "      <td>0.000000</td>\n",
              "      <td>0.000000</td>\n",
              "      <td>0.000000</td>\n",
              "      <td>0.000000</td>\n",
              "      <td>0.000000</td>\n",
              "      <td>0.000000</td>\n",
              "      <td>0.000000</td>\n",
              "      <td>0.000000</td>\n",
              "      <td>18.250000</td>\n",
              "      <td>0.000000</td>\n",
              "      <td>0.000000</td>\n",
              "    </tr>\n",
              "    <tr>\n",
              "      <th>25%</th>\n",
              "      <td>0.000000</td>\n",
              "      <td>0.000000</td>\n",
              "      <td>0.000000</td>\n",
              "      <td>0.000000</td>\n",
              "      <td>9.000000</td>\n",
              "      <td>1.000000</td>\n",
              "      <td>0.000000</td>\n",
              "      <td>1.000000</td>\n",
              "      <td>0.000000</td>\n",
              "      <td>0.000000</td>\n",
              "      <td>0.000000</td>\n",
              "      <td>0.000000</td>\n",
              "      <td>0.000000</td>\n",
              "      <td>0.000000</td>\n",
              "      <td>0.000000</td>\n",
              "      <td>0.000000</td>\n",
              "      <td>0.000000</td>\n",
              "      <td>35.500000</td>\n",
              "      <td>398.550000</td>\n",
              "      <td>0.000000</td>\n",
              "    </tr>\n",
              "    <tr>\n",
              "      <th>50%</th>\n",
              "      <td>1.000000</td>\n",
              "      <td>0.000000</td>\n",
              "      <td>0.000000</td>\n",
              "      <td>0.000000</td>\n",
              "      <td>29.000000</td>\n",
              "      <td>1.000000</td>\n",
              "      <td>1.000000</td>\n",
              "      <td>1.000000</td>\n",
              "      <td>1.000000</td>\n",
              "      <td>1.000000</td>\n",
              "      <td>1.000000</td>\n",
              "      <td>1.000000</td>\n",
              "      <td>1.000000</td>\n",
              "      <td>1.000000</td>\n",
              "      <td>0.000000</td>\n",
              "      <td>1.000000</td>\n",
              "      <td>1.000000</td>\n",
              "      <td>70.350000</td>\n",
              "      <td>1394.550000</td>\n",
              "      <td>0.000000</td>\n",
              "    </tr>\n",
              "    <tr>\n",
              "      <th>75%</th>\n",
              "      <td>1.000000</td>\n",
              "      <td>0.000000</td>\n",
              "      <td>1.000000</td>\n",
              "      <td>1.000000</td>\n",
              "      <td>55.000000</td>\n",
              "      <td>1.000000</td>\n",
              "      <td>1.000000</td>\n",
              "      <td>2.000000</td>\n",
              "      <td>1.000000</td>\n",
              "      <td>1.000000</td>\n",
              "      <td>1.000000</td>\n",
              "      <td>1.000000</td>\n",
              "      <td>1.000000</td>\n",
              "      <td>1.000000</td>\n",
              "      <td>1.000000</td>\n",
              "      <td>1.000000</td>\n",
              "      <td>2.000000</td>\n",
              "      <td>89.850000</td>\n",
              "      <td>3786.600000</td>\n",
              "      <td>1.000000</td>\n",
              "    </tr>\n",
              "    <tr>\n",
              "      <th>max</th>\n",
              "      <td>1.000000</td>\n",
              "      <td>1.000000</td>\n",
              "      <td>1.000000</td>\n",
              "      <td>1.000000</td>\n",
              "      <td>72.000000</td>\n",
              "      <td>1.000000</td>\n",
              "      <td>2.000000</td>\n",
              "      <td>2.000000</td>\n",
              "      <td>2.000000</td>\n",
              "      <td>2.000000</td>\n",
              "      <td>2.000000</td>\n",
              "      <td>2.000000</td>\n",
              "      <td>2.000000</td>\n",
              "      <td>2.000000</td>\n",
              "      <td>2.000000</td>\n",
              "      <td>1.000000</td>\n",
              "      <td>3.000000</td>\n",
              "      <td>118.750000</td>\n",
              "      <td>8684.800000</td>\n",
              "      <td>1.000000</td>\n",
              "    </tr>\n",
              "  </tbody>\n",
              "</table>\n",
              "</div>"
            ],
            "text/plain": [
              "            gender  SeniorCitizen  ...  TotalCharges        Churn\n",
              "count  7043.000000    7043.000000  ...   7043.000000  7043.000000\n",
              "mean      0.504756       0.162147  ...   2279.734304     0.265370\n",
              "std       0.500013       0.368612  ...   2266.794470     0.441561\n",
              "min       0.000000       0.000000  ...      0.000000     0.000000\n",
              "25%       0.000000       0.000000  ...    398.550000     0.000000\n",
              "50%       1.000000       0.000000  ...   1394.550000     0.000000\n",
              "75%       1.000000       0.000000  ...   3786.600000     1.000000\n",
              "max       1.000000       1.000000  ...   8684.800000     1.000000\n",
              "\n",
              "[8 rows x 20 columns]"
            ]
          },
          "metadata": {
            "tags": []
          },
          "execution_count": 186
        }
      ]
    },
    {
      "cell_type": "code",
      "metadata": {
        "id": "qPlxp7bCALZ1",
        "colab_type": "code",
        "colab": {
          "base_uri": "https://localhost:8080/",
          "height": 405
        },
        "outputId": "895611e1-269a-4d27-b4ff-196555db1110"
      },
      "source": [
        "churn_sample = cd.sample(n=50)\n",
        "time = churn_sample.tenure.values\n",
        "event = churn_sample.Churn.values\n",
        "\n",
        "fig, ax = plt.subplots(figsize=(8,6))\n",
        "lifelines.plotting.plot_lifetimes(time, event_observed=event, ax=ax)\n",
        "ax.set_xlim(0, 40)\n",
        "ax.grid(axis='x')\n",
        "ax.set_xlabel(\"Time in Months\")\n",
        "ax.set_title(\"Lifelines for Churn of Customers\");\n",
        "plt.show();"
      ],
      "execution_count": 208,
      "outputs": [
        {
          "output_type": "display_data",
          "data": {
            "image/png": "[encoded data removed]",
            "text/plain": [
              "<Figure size 576x432 with 1 Axes>"
            ]
          },
          "metadata": {
            "tags": []
          }
        }
      ]
    },
    {
      "cell_type": "code",
      "metadata": {
        "id": "DXrZ1TxgKr0D",
        "colab_type": "code",
        "colab": {
          "base_uri": "https://localhost:8080/",
          "height": 411
        },
        "outputId": "0b9a2c24-21bb-4f08-9645-197b9d70b363"
      },
      "source": [
        "kmf = lifelines.KaplanMeierFitter()\n",
        "\n",
        "tenure = cd.tenure\n",
        "churn = cd.Churn\n",
        "\n",
        "kmf.fit(tenure, churn)\n",
        "fig, ax = plt.subplots(figsize=(8,6))\n",
        "kmf.plot(ax=ax)"
      ],
      "execution_count": 207,
      "outputs": [
        {
          "output_type": "execute_result",
          "data": {
            "text/plain": [
              "<matplotlib.axes._subplots.AxesSubplot at 0x7fd2112d0e48>"
            ]
          },
          "metadata": {
            "tags": []
          },
          "execution_count": 207
        },
        {
          "output_type": "display_data",
          "data": {
            "image/png": "[encoded data removed]",
            "text/plain": [
              "<Figure size 576x432 with 1 Axes>"
            ]
          },
          "metadata": {
            "tags": []
          }
        }
      ]
    },
    {
      "cell_type": "code",
      "metadata": {
        "id": "LNuLHq-6eC3Y",
        "colab_type": "code",
        "colab": {
          "base_uri": "https://localhost:8080/",
          "height": 459
        },
        "outputId": "d86172ad-fe5a-474f-a05e-0a020e4d8ce3"
      },
      "source": [
        "kmf_zero = lifelines.KaplanMeierFitter()\n",
        "kmf_one = lifelines.KaplanMeierFitter()\n",
        "\n",
        "zero = cd[cd.gender == 0]\n",
        "one = cd[cd.gender == 1]\n",
        "\n",
        "fig, ax = plt.subplots(figsize=(8,6))\n",
        "\n",
        "t = np.linspace(0, 75, 76)\n",
        "\n",
        "kmf_zero = kmf_zero.fit(zero.tenure, zero.Churn, timeline=t, label = '0')\n",
        "kmf_zero.plot(ax=ax)\n",
        "print(f'Median customer tenure for {col} category Zero: {kmf_zero.median_} months')\n",
        "kmf_one = kmf_one.fit(one.tenure, one.Churn, timeline=t, label='1')\n",
        "kmf_one.plot(ax=ax)\n",
        "print(f'Median customer tenure for {col} category One: {kmf_one.median_} months')\n",
        "plt.title('Title')\n"
      ],
      "execution_count": 209,
      "outputs": [
        {
          "output_type": "stream",
          "text": [
            "Median customer tenure for Contract category Zero: inf months\n",
            "Median customer tenure for Contract category One: inf months\n"
          ],
          "name": "stdout"
        },
        {
          "output_type": "execute_result",
          "data": {
            "text/plain": [
              "Text(0.5, 1.0, 'Title')"
            ]
          },
          "metadata": {
            "tags": []
          },
          "execution_count": 209
        },
        {
          "output_type": "display_data",
          "data": {
            "image/png": "[encoded data removed]",
            "text/plain": [
              "<Figure size 576x432 with 1 Axes>"
            ]
          },
          "metadata": {
            "tags": []
          }
        }
      ]
    },
    {
      "cell_type": "code",
      "metadata": {
        "id": "JDwZAjtZbFKk",
        "colab_type": "code",
        "colab": {}
      },
      "source": [
        "binary_cols = []\n",
        "\n",
        "for col in cd.columns:\n",
        "  if len(cd[col].value_counts()) == 2:\n",
        "    binary_cols.append(col)"
      ],
      "execution_count": 0,
      "outputs": []
    },
    {
      "cell_type": "code",
      "metadata": {
        "id": "W8o-ae5rbevQ",
        "colab_type": "code",
        "colab": {
          "base_uri": "https://localhost:8080/",
          "height": 145
        },
        "outputId": "b3f3372f-5d18-465d-8260-44f7ab70d108"
      },
      "source": [
        "binary_cols"
      ],
      "execution_count": 178,
      "outputs": [
        {
          "output_type": "execute_result",
          "data": {
            "text/plain": [
              "['gender',\n",
              " 'SeniorCitizen',\n",
              " 'Partner',\n",
              " 'Dependents',\n",
              " 'PhoneService',\n",
              " 'PaperlessBilling',\n",
              " 'Churn']"
            ]
          },
          "metadata": {
            "tags": []
          },
          "execution_count": 178
        }
      ]
    },
    {
      "cell_type": "code",
      "metadata": {
        "id": "EAHQdOVfgaxC",
        "colab_type": "code",
        "colab": {
          "base_uri": "https://localhost:8080/",
          "height": 35
        },
        "outputId": "a27c8154-88dc-4672-c563-a7fb563e5df8"
      },
      "source": [
        "#remove the target feature from binary cols:\n",
        "binary_cols.pop()"
      ],
      "execution_count": 179,
      "outputs": [
        {
          "output_type": "execute_result",
          "data": {
            "text/plain": [
              "'Churn'"
            ]
          },
          "metadata": {
            "tags": []
          },
          "execution_count": 179
        }
      ]
    },
    {
      "cell_type": "code",
      "metadata": {
        "id": "nhpugw2TaVul",
        "colab_type": "code",
        "colab": {
          "base_uri": "https://localhost:8080/",
          "height": 2559
        },
        "outputId": "e83680d9-a12d-4762-c1cb-554fe4701e0b"
      },
      "source": [
        "for col in binary_cols:\n",
        "  kmf_zero = lifelines.KaplanMeierFitter()\n",
        "  kmf_one = lifelines.KaplanMeierFitter()\n",
        "\n",
        "  zero = cd[cd[col] == 0]\n",
        "  one = cd[cd[col] == 1]\n",
        "\n",
        "  fig, ax = plt.subplots(figsize=(8,6))\n",
        "  t = np.linspace(0, 75, 76)\n",
        "\n",
        "  kmf_zero = kmf_zero.fit(zero.tenure, zero.Churn, timeline=t, label = '0')\n",
        "  kmf_zero.plot(ax=ax)\n",
        "  print(f'Median customer tenure for {col} category Zero: {kmf_zero.median_} months')\n",
        "  kmf_one = kmf_one.fit(one.tenure, one.Churn, timeline=t, label='1')\n",
        "  kmf_one.plot(ax=ax)\n",
        "  print(f'Median customer tenure for {col} category One: {kmf_one.median_} months')\n",
        "  plt.title(col)"
      ],
      "execution_count": 201,
      "outputs": [
        {
          "output_type": "stream",
          "text": [
            "Median customer tenure for gender category Zero: inf months\n",
            "Median customer tenure for gender category One: inf months\n",
            "Median customer tenure for SeniorCitizen category Zero: inf months\n",
            "Median customer tenure for SeniorCitizen category One: 65.0 months\n",
            "Median customer tenure for Partner category Zero: 68.0 months\n",
            "Median customer tenure for Partner category One: inf months\n",
            "Median customer tenure for Dependents category Zero: inf months\n",
            "Median customer tenure for Dependents category One: inf months\n",
            "Median customer tenure for PhoneService category Zero: inf months\n",
            "Median customer tenure for PhoneService category One: inf months\n",
            "Median customer tenure for PaperlessBilling category Zero: inf months\n",
            "Median customer tenure for PaperlessBilling category One: inf months\n"
          ],
          "name": "stdout"
        },
        {
          "output_type": "display_data",
          "data": {
            "image/png": "[encoded data removed]",
            "text/plain": [
              "<Figure size 576x432 with 1 Axes>"
            ]
          },
          "metadata": {
            "tags": []
          }
        },
        {
          "output_type": "display_data",
          "data": {
            "image/png": "[encoded data removed]",
            "text/plain": [
              "<Figure size 576x432 with 1 Axes>"
            ]
          },
          "metadata": {
            "tags": []
          }
        },
        {
          "output_type": "display_data",
          "data": {
            "image/png": "[encoded data removed]",
            "text/plain": [
              "<Figure size 576x432 with 1 Axes>"
            ]
          },
          "metadata": {
            "tags": []
          }
        },
        {
          "output_type": "display_data",
          "data": {
            "image/png": "[encoded data removed]",
            "text/plain": [
              "<Figure size 576x432 with 1 Axes>"
            ]
          },
          "metadata": {
            "tags": []
          }
        },
        {
          "output_type": "display_data",
          "data": {
            "image/png": "[encoded data removed]",
            "text/plain": [
              "<Figure size 576x432 with 1 Axes>"
            ]
          },
          "metadata": {
            "tags": []
          }
        },
        {
          "output_type": "display_data",
          "data": {
            "image/png": "[encoded data removed]",
            "text/plain": [
              "<Figure size 576x432 with 1 Axes>"
            ]
          },
          "metadata": {
            "tags": []
          }
        }
      ]
    },
    {
      "cell_type": "code",
      "metadata": {
        "id": "4rTSDKlsgmEM",
        "colab_type": "code",
        "colab": {
          "base_uri": "https://localhost:8080/",
          "height": 181
        },
        "outputId": "5326b6ac-c7c6-4b1e-9f43-8dc98fd4ce24"
      },
      "source": [
        "trinary_cols = []\n",
        "\n",
        "for col in cd.columns:\n",
        "  if len(cd[col].value_counts()) == 3:\n",
        "    trinary_cols.append(col)\n",
        "    \n",
        "trinary_cols"
      ],
      "execution_count": 162,
      "outputs": [
        {
          "output_type": "execute_result",
          "data": {
            "text/plain": [
              "['MultipleLines',\n",
              " 'InternetService',\n",
              " 'OnlineSecurity',\n",
              " 'OnlineBackup',\n",
              " 'DeviceProtection',\n",
              " 'TechSupport',\n",
              " 'StreamingTV',\n",
              " 'StreamingMovies',\n",
              " 'Contract']"
            ]
          },
          "metadata": {
            "tags": []
          },
          "execution_count": 162
        }
      ]
    },
    {
      "cell_type": "code",
      "metadata": {
        "id": "BLTfRkrGgvS3",
        "colab_type": "code",
        "colab": {
          "base_uri": "https://localhost:8080/",
          "height": 3994
        },
        "outputId": "94fd4dbe-76d2-4020-a54c-4da14d1c9cec"
      },
      "source": [
        "for col in trinary_cols:\n",
        "  kmf_zero = lifelines.KaplanMeierFitter()\n",
        "  kmf_one = lifelines.KaplanMeierFitter()\n",
        "  kmf_two = lifelines.KaplanMeierFitter()\n",
        "\n",
        "  zero = cd[cd[col] == 0]\n",
        "  one = cd[cd[col] == 1]\n",
        "  two = cd[cd[col] == 2]\n",
        "\n",
        "  fig, ax = plt.subplots(figsize=(8,6))\n",
        "  t = np.linspace(0, 75, 76)\n",
        "\n",
        "  kmf_zero = kmf_zero.fit(zero.tenure, zero.Churn, timeline=t, label = '0')\n",
        "  kmf_zero.plot(ax=ax)\n",
        "  print(f'Median customer tenure for {col} category Zero: {kmf_zero.median_} months')\n",
        "  kmf_one = kmf_one.fit(one.tenure, one.Churn, timeline=t, label='1')\n",
        "  kmf_one.plot(ax=ax)\n",
        "  print(f'Median customer tenure for {col} category One: {kmf_one.median_} months')\n",
        "  kmf_two = kmf_one.fit(two.tenure, two.Churn, timeline=t, label='2')\n",
        "  kmf_two.plot(ax=ax)\n",
        "  print(f'Median customer tenure for {col} category Two: {kmf_two.median_} months')\n",
        "  plt.title(col)"
      ],
      "execution_count": 203,
      "outputs": [
        {
          "output_type": "stream",
          "text": [
            "Median customer tenure for MultipleLines category Zero: inf months\n",
            "Median customer tenure for MultipleLines category One: inf months\n",
            "Median customer tenure for MultipleLines category Two: inf months\n",
            "Median customer tenure for InternetService category Zero: inf months\n",
            "Median customer tenure for InternetService category One: 65.0 months\n",
            "Median customer tenure for InternetService category Two: inf months\n",
            "Median customer tenure for OnlineSecurity category Zero: 53.0 months\n",
            "Median customer tenure for OnlineSecurity category One: inf months\n",
            "Median customer tenure for OnlineSecurity category Two: inf months\n",
            "Median customer tenure for OnlineBackup category Zero: 52.0 months\n",
            "Median customer tenure for OnlineBackup category One: inf months\n",
            "Median customer tenure for OnlineBackup category Two: inf months\n",
            "Median customer tenure for DeviceProtection category Zero: 54.0 months\n",
            "Median customer tenure for DeviceProtection category One: inf months\n",
            "Median customer tenure for DeviceProtection category Two: inf months\n",
            "Median customer tenure for TechSupport category Zero: 53.0 months\n",
            "Median customer tenure for TechSupport category One: inf months\n",
            "Median customer tenure for TechSupport category Two: inf months\n",
            "Median customer tenure for StreamingTV category Zero: inf months\n",
            "Median customer tenure for StreamingTV category One: inf months\n",
            "Median customer tenure for StreamingTV category Two: inf months\n",
            "Median customer tenure for StreamingMovies category Zero: inf months\n",
            "Median customer tenure for StreamingMovies category One: inf months\n",
            "Median customer tenure for StreamingMovies category Two: inf months\n",
            "Median customer tenure for Contract category Zero: 35.0 months\n",
            "Median customer tenure for Contract category One: inf months\n",
            "Median customer tenure for Contract category Two: inf months\n"
          ],
          "name": "stdout"
        },
        {
          "output_type": "display_data",
          "data": {
            "image/png": "[encoded data removed]",
            "text/plain": [
              "<Figure size 576x432 with 1 Axes>"
            ]
          },
          "metadata": {
            "tags": []
          }
        },
        {
          "output_type": "display_data",
          "data": {
            "image/png": "[encoded data removed]",
            "text/plain": [
              "<Figure size 576x432 with 1 Axes>"
            ]
          },
          "metadata": {
            "tags": []
          }
        },
        {
          "output_type": "display_data",
          "data": {
            "image/png": "[encoded data removed]",
            "text/plain": [
              "<Figure size 576x432 with 1 Axes>"
            ]
          },
          "metadata": {
            "tags": []
          }
        },
        {
          "output_type": "display_data",
          "data": {
            "image/png": "[encoded data removed]",
            "text/plain": [
              "<Figure size 576x432 with 1 Axes>"
            ]
          },
          "metadata": {
            "tags": []
          }
        },
        {
          "output_type": "display_data",
          "data": {
            "image/png": "[encoded data removed]",
            "text/plain": [
              "<Figure size 576x432 with 1 Axes>"
            ]
          },
          "metadata": {
            "tags": []
          }
        },
        {
          "output_type": "display_data",
          "data": {
            "image/png": "[encoded data removed]",
            "text/plain": [
              "<Figure size 576x432 with 1 Axes>"
            ]
          },
          "metadata": {
            "tags": []
          }
        },
        {
          "output_type": "display_data",
          "data": {
            "image/png": "[encoded data removed]",
            "text/plain": [
              "<Figure size 576x432 with 1 Axes>"
            ]
          },
          "metadata": {
            "tags": []
          }
        },
        {
          "output_type": "display_data",
          "data": {
            "image/png": "[encoded data removed]",
            "text/plain": [
              "<Figure size 576x432 with 1 Axes>"
            ]
          },
          "metadata": {
            "tags": []
          }
        },
        {
          "output_type": "display_data",
          "data": {
            "image/png": "[encoded data removed]",
            "text/plain": [
              "<Figure size 576x432 with 1 Axes>"
            ]
          },
          "metadata": {
            "tags": []
          }
        }
      ]
    },
    {
      "cell_type": "markdown",
      "metadata": {
        "colab_type": "text",
        "id": "Vaqh-1Dqa4hz"
      },
      "source": [
        "# Resources and stretch goals\n",
        "\n",
        "Resources:\n",
        "- [Wikipedia on Survival analysis](https://en.wikipedia.org/wiki/Survival_analysis)\n",
        "- [Wikipedia on Survival functions](https://en.wikipedia.org/wiki/Survival_function)\n",
        "- [Summary of survival analysis by a biostatistician](http://sphweb.bumc.bu.edu/otlt/MPH-Modules/BS/BS704_Survival/BS704_Survival_print.html)\n",
        "- [Another medical statistics article on survival analysis](https://www.sciencedirect.com/science/article/pii/S1756231716300639)\n",
        "- [Survival analysis using R lecture slides](http://www.stat.columbia.edu/~madigan/W2025/notes/survival.pdf)\n",
        "\n",
        "Stretch goals:\n",
        "- Make ~5 slides that summarize and deliver your findings, as if you were to present them in a business meeting\n",
        "- Revisit any of the data from the lecture material, and explore/dig deeper\n",
        "- Write your own Python functions to calculate a simple hazard or survival function, and try to generate and plot data with them"
      ]
    }
  ]
}