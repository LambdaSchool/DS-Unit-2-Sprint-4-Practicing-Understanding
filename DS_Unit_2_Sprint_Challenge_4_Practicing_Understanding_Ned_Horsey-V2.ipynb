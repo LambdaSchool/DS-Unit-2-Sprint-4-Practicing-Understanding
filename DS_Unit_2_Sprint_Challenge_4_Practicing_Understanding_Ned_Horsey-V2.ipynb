{
 "cells": [
  {
   "cell_type": "markdown",
   "metadata": {},
   "source": [
    "_Lambda School Data Science Unit 2_\n",
    " \n",
    " # Sprint Challenge: Practicing & Understanding Predictive Modeling"
   ]
  },
  {
   "cell_type": "markdown",
   "metadata": {},
   "source": [
    "### Chicago Food Inspections\n",
    "\n",
    "For this Sprint Challenge, you'll use a dataset with information from inspections of restaurants and other food establishments in Chicago from January 2010 to March 2019. \n",
    "\n",
    "[See this PDF](https://data.cityofchicago.org/api/assets/BAD5301B-681A-4202-9D25-51B2CAE672FF) for descriptions of the data elements included in this dataset.\n",
    "\n",
    "According to [Chicago Department of Public Health — Food Protection Services](https://www.chicago.gov/city/en/depts/cdph/provdrs/healthy_restaurants/svcs/food-protection-services.html), \"Chicago is home to 16,000 food establishments like restaurants, grocery stores, bakeries, wholesalers, lunchrooms, mobile food vendors and more. Our business is food safety and sanitation with one goal, to prevent the spread of food-borne disease. We do this by inspecting food businesses, responding to complaints and food recalls.\" "
   ]
  },
  {
   "cell_type": "markdown",
   "metadata": {},
   "source": [
    "#### Your challenge: Predict whether inspections failed\n",
    "\n",
    "The target is the `Fail` column.\n",
    "\n",
    "- When the food establishment failed the inspection, the target is `1`.\n",
    "- When the establishment passed, the target is `0`."
   ]
  },
  {
   "cell_type": "markdown",
   "metadata": {},
   "source": [
    "#### Run this cell to load the data:"
   ]
  },
  {
   "cell_type": "code",
   "execution_count": 1,
   "metadata": {},
   "outputs": [],
   "source": [
    "import pandas as pd\n",
    "\n",
    "train_url = 'https://drive.google.com/uc?export=download&id=13_tP9JpLcZHSPVpWcua4t2rY44K_s4H5'\n",
    "test_url  = 'https://drive.google.com/uc?export=download&id=1GkDHjsiGrzOXoF_xcYjdzBTSjOIi3g5a'\n",
    "\n",
    "train = pd.read_csv(train_url)\n",
    "test  = pd.read_csv(test_url)\n",
    "\n",
    "assert train.shape == (51916, 17)\n",
    "assert test.shape  == (17306, 17)"
   ]
  },
  {
   "cell_type": "markdown",
   "metadata": {},
   "source": [
    "### Part 1: Preprocessing\n",
    "\n",
    "You may choose which features you want to use, and whether/how you will preprocess them. If you use categorical features, you may use any tools and techniques for encoding. (Pandas, category_encoders, sklearn.preprocessing, or any other library.)\n",
    "\n",
    "_To earn a score of 3 for this part, find and explain leakage. The dataset has a feature that will give you an ROC AUC score > 0.90 if you process and use the feature. Find the leakage and explain why the feature shouldn't be used in a real-world model to predict the results of future inspections._\n",
    "\n",
    "### Part 2: Modeling\n",
    "\n",
    "**Fit a model** with the train set. (You may use scikit-learn, xgboost, or any other library.) **Use cross-validation** to **do hyperparameter optimization**, and **estimate your ROC AUC** validation score.\n",
    "\n",
    "Use your model to **predict probabilities** for the test set. **Get an ROC AUC test score >= 0.60.**\n",
    "\n",
    "_To earn a score of 3 for this part, get an ROC AUC test score >= 0.70 (without using the feature with leakage)._\n",
    "\n",
    "\n",
    "### Part 3: Visualization\n",
    "\n",
    "Make one visualization for model interpretation. (You may use any libraries.) Choose one of these types:\n",
    "\n",
    "- Feature Importances\n",
    "- Permutation Importances\n",
    "- Partial Dependence Plot\n",
    "- Shapley Values\n",
    "\n",
    "_To earn a score of 3 for this part, make at least two of these visualization types._\n",
    "\n",
    "### Part 4: Gradient Descent\n",
    "\n",
    "Answer both of these two questions:\n",
    "\n",
    "- What does Gradient Descent seek to minimize?\n",
    "- What is the \"Learning Rate\" and what is its function?\n",
    "\n",
    "One sentence is sufficient for each.\n",
    "\n",
    "_To earn a score of 3 for this part, go above and beyond. Show depth of understanding and mastery of intuition in your answers._"
   ]
  },
  {
   "cell_type": "markdown",
   "metadata": {},
   "source": [
    "# Project Start"
   ]
  },
  {
   "cell_type": "markdown",
   "metadata": {},
   "source": [
    "Step 1 is to establish a naive baselin to judge our model against."
   ]
  },
  {
   "cell_type": "code",
   "execution_count": 5,
   "metadata": {},
   "outputs": [
    {
     "data": {
      "text/plain": [
       "0    0.741419\n",
       "1    0.258581\n",
       "Name: Fail, dtype: float64"
      ]
     },
     "execution_count": 5,
     "metadata": {},
     "output_type": "execute_result"
    }
   ],
   "source": [
    "# train['Fail'].value_counts(normalize=True0)\n",
    "test['Fail'].value_counts(normalize=True)"
   ]
  },
  {
   "cell_type": "markdown",
   "metadata": {},
   "source": [
    "### Part 1: Preprocessing\n",
    "\n",
    "You may choose which features you want to use, and whether/how you will preprocess them. If you use categorical features, you may use any tools and techniques for encoding. (Pandas, category_encoders, sklearn.preprocessing, or any other library.)\n",
    "\n",
    "_To earn a score of 3 for this part, find and explain leakage. The dataset has a feature that will give you an ROC AUC score > 0.90 if you process and use the feature. Find the leakage and explain why the feature shouldn't be used in a real-world model to predict the results of future inspections._"
   ]
  },
  {
   "cell_type": "code",
   "execution_count": 6,
   "metadata": {},
   "outputs": [],
   "source": [
    "%matplotlib inline\n",
    "import matplotlib.pyplot as plt\n",
    "import category_encoders as ce\n",
    "from sklearn.pipeline import make_pipeline\n",
    "from sklearn.impute import \n"
   ]
  },
  {
   "cell_type": "code",
   "execution_count": 13,
   "metadata": {},
   "outputs": [
    {
     "data": {
      "text/plain": [
       "['Inspection ID',\n",
       " 'DBA Name',\n",
       " 'AKA Name',\n",
       " 'License #',\n",
       " 'Facility Type',\n",
       " 'Risk',\n",
       " 'Address',\n",
       " 'City',\n",
       " 'State',\n",
       " 'Zip',\n",
       " 'Inspection Date',\n",
       " 'Inspection Type',\n",
       " 'Violations',\n",
       " 'Latitude',\n",
       " 'Longitude',\n",
       " 'Location',\n",
       " 'Fail']"
      ]
     },
     "execution_count": 13,
     "metadata": {},
     "output_type": "execute_result"
    }
   ],
   "source": [
    "train.columns.tolist()"
   ]
  },
  {
   "cell_type": "code",
   "execution_count": 12,
   "metadata": {},
   "outputs": [
    {
     "data": {
      "text/plain": [
       "0    0.885655\n",
       "1    0.114345\n",
       "Name: Fail, dtype: float64"
      ]
     },
     "execution_count": 12,
     "metadata": {},
     "output_type": "execute_result"
    }
   ],
   "source": [
    "train[train['Violations'].isna()]['Fail'].value_counts(normalize=True)\n",
    "# leaky variable"
   ]
  },
  {
   "cell_type": "markdown",
   "metadata": {},
   "source": [
    "'Inspection ID', - arbitraty id drop\n",
    " 'DBA Name', - arbitraty id drop\n",
    " 'AKA Name', - arbitraty id drop\n",
    " 'License #', - arbitraty id drop\n",
    " 'Facility Type' -category\n",
    " 'Risk', - ordinal \n",
    " 'Address' - drop\n",
    " 'City', - drop\n",
    " 'State' - drop\n",
    " 'Zip', - drop\n",
    " 'Inspection Date', -?\n",
    " 'Inspection Type', -?\n",
    " 'Violations', -leaky, drop\n",
    " 'Latitude', -use for grouping\n",
    " 'Longitude' -use for grouping\n",
    " 'Location' - drop, use lat/long\n",
    " 'Fail' - target"
   ]
  },
  {
   "cell_type": "code",
   "execution_count": 21,
   "metadata": {},
   "outputs": [
    {
     "data": {
      "text/plain": [
       "Inspection ID         0\n",
       "DBA Name              0\n",
       "AKA Name            623\n",
       "License #             5\n",
       "Facility Type       224\n",
       "Risk                 12\n",
       "Address               0\n",
       "City                 53\n",
       "State                10\n",
       "Zip                  26\n",
       "Inspection Date       0\n",
       "Inspection Type       1\n",
       "Violations         9655\n",
       "Latitude            198\n",
       "Longitude           198\n",
       "Location            198\n",
       "Fail                  0\n",
       "dtype: int64"
      ]
     },
     "execution_count": 21,
     "metadata": {},
     "output_type": "execute_result"
    }
   ],
   "source": [
    "train.isna().sum()"
   ]
  },
  {
   "cell_type": "code",
   "execution_count": 23,
   "metadata": {},
   "outputs": [
    {
     "data": {
      "text/plain": [
       "canvass                                   0.466483\n",
       "license                                   0.237003\n",
       "complaint                                 0.158722\n",
       "canvass re-inspection                     0.034560\n",
       "license re-inspection                     0.028750\n",
       "short form complaint                      0.024579\n",
       "complaint re-inspection                   0.017354\n",
       "license-task force                        0.009757\n",
       "suspected food poisoning                  0.005512\n",
       "out of business                           0.003501\n",
       "consultation                              0.003277\n",
       "task force liquor 1475                    0.003277\n",
       "complaint-fire                            0.001341\n",
       "no entry                                  0.000894\n",
       "recent inspection                         0.000819\n",
       "short form fire-complaint                 0.000819\n",
       "tag removal                               0.000596\n",
       "package liquor 1474                       0.000521\n",
       "special events (festivals)                0.000447\n",
       "pre-license consultation                  0.000372\n",
       "not ready                                 0.000223\n",
       "suspected food poisoning re-inspection    0.000223\n",
       "non-inspection                            0.000149\n",
       "recall inspection                         0.000074\n",
       "complaint-fire re-inspection              0.000074\n",
       "kids cafe                                 0.000074\n",
       "two people ate and got sick.              0.000074\n",
       "reinspection of 48 hour notice            0.000074\n",
       "sfp/complaint                             0.000074\n",
       "task force liquor 1470                    0.000074\n",
       "license request                           0.000074\n",
       "tavern 1470                               0.000074\n",
       "special task force                        0.000074\n",
       "license wrong address                     0.000074\n",
       "Name: Inspection Type, dtype: float64"
      ]
     },
     "execution_count": 23,
     "metadata": {},
     "output_type": "execute_result"
    }
   ],
   "source": [
    "train[train['Fail']==1]['Inspection Type'].value_counts(normalize=True)"
   ]
  },
  {
   "cell_type": "code",
   "execution_count": 24,
   "metadata": {},
   "outputs": [
    {
     "data": {
      "text/plain": [
       "canvass                                   0.465250\n",
       "canvass re-inspection                     0.152823\n",
       "license                                   0.120658\n",
       "complaint                                 0.073190\n",
       "license re-inspection                     0.067967\n",
       "complaint re-inspection                   0.052171\n",
       "short form complaint                      0.046065\n",
       "consultation                              0.003767\n",
       "tag removal                               0.003585\n",
       "suspected food poisoning                  0.003456\n",
       "license-task force                        0.002156\n",
       "out of business                           0.001663\n",
       "recent inspection                         0.001429\n",
       "suspected food poisoning re-inspection    0.001429\n",
       "task force liquor 1475                    0.001247\n",
       "complaint-fire                            0.000857\n",
       "short form fire-complaint                 0.000650\n",
       "special events (festivals)                0.000390\n",
       "complaint-fire re-inspection              0.000338\n",
       "no entry                                  0.000286\n",
       "package liquor 1474                       0.000234\n",
       "addendum                                  0.000026\n",
       "non-inspection                            0.000026\n",
       "sfp/complaint                             0.000026\n",
       "canvass special events                    0.000026\n",
       "illegal operation                         0.000026\n",
       "changed court date                        0.000026\n",
       "possible fbi                              0.000026\n",
       "task force liquor (1481)                  0.000026\n",
       "license consultation                      0.000026\n",
       "smoking complaint                         0.000026\n",
       "license daycare 1586                      0.000026\n",
       "pre-license consultation                  0.000026\n",
       "close-up/complaint reinspection           0.000026\n",
       "canvass/special event                     0.000026\n",
       "license renewal for daycare               0.000026\n",
       "Name: Inspection Type, dtype: float64"
      ]
     },
     "execution_count": 24,
     "metadata": {},
     "output_type": "execute_result"
    }
   ],
   "source": [
    "train[train['Fail']==0]['Inspection Type'].value_counts(normalize=True)"
   ]
  },
  {
   "cell_type": "markdown",
   "metadata": {},
   "source": [
    "no significant difference, just keep it in"
   ]
  },
  {
   "cell_type": "code",
   "execution_count": 40,
   "metadata": {},
   "outputs": [],
   "source": [
    "drop_features = ['Inspection ID',\n",
    "                 'License #',\n",
    "                 'Address',\n",
    "                 'City',\n",
    "                 'State',\n",
    "                 'Zip',\n",
    "                 'Location',\n",
    "                 'Violations',\n",
    " 'DBA Name',\n",
    " 'AKA Name',\n",
    "  'Fail']"
   ]
  },
  {
   "cell_type": "code",
   "execution_count": 41,
   "metadata": {},
   "outputs": [],
   "source": [
    "train['Inspection Type'] = train['Inspection Type'].str.lower()\n",
    "test['Inspection Type'] = test['Inspection Type'].str.lower() #.value_counts(normalize=True)"
   ]
  },
  {
   "cell_type": "code",
   "execution_count": 42,
   "metadata": {},
   "outputs": [],
   "source": [
    "X_train = train.drop(columns = drop_features)\n",
    "y_train = train['Fail']\n",
    "\n",
    "X_test = test.drop(columns = drop_features)\n",
    "y_test = test['Fail']"
   ]
  },
  {
   "cell_type": "code",
   "execution_count": 61,
   "metadata": {},
   "outputs": [],
   "source": [
    "X_train[['Inspection Y', 'Inspection M', 'Inspection D']] = X_train['Inspection Date'].str.split(pat='-',expand=True)\n",
    "X_train[['Inspection D', 'Time']] = X_train['Inspection D'].str.split(pat='T', expand=True)#replace('T00:00:00','')\n",
    "X_train = X_train.drop(columns=['Time', 'Inspection Date'])"
   ]
  },
  {
   "cell_type": "code",
   "execution_count": 66,
   "metadata": {},
   "outputs": [],
   "source": [
    "X_test[['Inspection Y', 'Inspection M', 'Inspection D']] = X_test['Inspection Date'].str.split(pat='-',expand=True)\n",
    "X_test[['Inspection D', 'Time']] = X_test['Inspection D'].str.split(pat='T', expand=True)#replace('T00:00:00','')\n",
    "X_test = X_test.drop(columns=['Time', 'Inspection Date'])"
   ]
  },
  {
   "cell_type": "code",
   "execution_count": 67,
   "metadata": {},
   "outputs": [
    {
     "data": {
      "text/plain": [
       "Facility Type       object\n",
       "Risk                object\n",
       "Inspection Date     object\n",
       "Inspection Type     object\n",
       "Violations          object\n",
       "Latitude           float64\n",
       "Longitude          float64\n",
       "Inspection Y        object\n",
       "Inspection M        object\n",
       "Inspection D        object\n",
       "dtype: object"
      ]
     },
     "execution_count": 67,
     "metadata": {},
     "output_type": "execute_result"
    }
   ],
   "source": [
    "X_train.dtypes"
   ]
  },
  {
   "cell_type": "markdown",
   "metadata": {},
   "source": [
    "### Part 2: Modeling\n",
    "\n",
    "**Fit a model** with the train set. (You may use scikit-learn, xgboost, or any other library.) **Use cross-validation** to **do hyperparameter optimization**, and **estimate your ROC AUC** validation score.\n",
    "\n",
    "Use your model to **predict probabilities** for the test set. **Get an ROC AUC test score >= 0.60.**\n",
    "\n",
    "_To earn a score of 3 for this part, get an ROC AUC test score >= 0.70 (without using the feature with leakage)._"
   ]
  },
  {
   "cell_type": "code",
   "execution_count": 97,
   "metadata": {},
   "outputs": [],
   "source": [
    "from sklearn.model_selection import RandomizedSearchCV\n",
    "from xgboost import XGBClassifier\n",
    "from scipy.stats import randint\n",
    "import numpy as np\n",
    "from sklearn.metrics import roc_auc_score"
   ]
  },
  {
   "cell_type": "code",
   "execution_count": 98,
   "metadata": {},
   "outputs": [],
   "source": [
    "# set randseed for our tests\n",
    "rseed = 314"
   ]
  },
  {
   "cell_type": "code",
   "execution_count": 99,
   "metadata": {},
   "outputs": [
    {
     "data": {
      "text/plain": [
       "((51916, 10), (51916,))"
      ]
     },
     "execution_count": 99,
     "metadata": {},
     "output_type": "execute_result"
    }
   ],
   "source": [
    "X_train.shape, y_train.shape"
   ]
  },
  {
   "cell_type": "code",
   "execution_count": 104,
   "metadata": {},
   "outputs": [
    {
     "name": "stdout",
     "output_type": "stream",
     "text": [
      "Fitting 3 folds for each of 20 candidates, totalling 60 fits\n"
     ]
    },
    {
     "name": "stderr",
     "output_type": "stream",
     "text": [
      "[Parallel(n_jobs=-1)]: Using backend LokyBackend with 4 concurrent workers.\n",
      "[Parallel(n_jobs=-1)]: Done   5 tasks      | elapsed:    8.9s\n",
      "[Parallel(n_jobs=-1)]: Done  10 tasks      | elapsed:   14.8s\n",
      "[Parallel(n_jobs=-1)]: Done  17 tasks      | elapsed:   23.5s\n",
      "/home/nedderlander/anaconda3/lib/python3.7/site-packages/sklearn/externals/joblib/externals/loky/process_executor.py:706: UserWarning: A worker stopped while some jobs were given to the executor. This can be caused by a too short worker timeout or by a memory leak.\n",
      "  \"timeout or by a memory leak.\", UserWarning\n",
      "[Parallel(n_jobs=-1)]: Done  24 tasks      | elapsed:   32.2s\n",
      "[Parallel(n_jobs=-1)]: Done  33 tasks      | elapsed:   51.4s\n",
      "[Parallel(n_jobs=-1)]: Done  42 tasks      | elapsed:  1.0min\n",
      "[Parallel(n_jobs=-1)]: Done  53 tasks      | elapsed:  1.3min\n",
      "[Parallel(n_jobs=-1)]: Done  60 out of  60 | elapsed:  1.4min remaining:    0.0s\n",
      "[Parallel(n_jobs=-1)]: Done  60 out of  60 | elapsed:  1.4min finished\n"
     ]
    },
    {
     "data": {
      "text/plain": [
       "RandomizedSearchCV(cv=3, error_score='raise-deprecating',\n",
       "          estimator=Pipeline(memory=None,\n",
       "     steps=[('binaryencoder', BinaryEncoder(cols=None, drop_invariant=False, handle_missing='value',\n",
       "       handle_unknown='value', mapping=None, return_df=True, verbose=0)), ('simpleimputer', SimpleImputer(copy=True, fill_value=None, missing_values=nan, strategy='mean',\n",
       "       verbose=0)), ('xgbclassifi...te=314, reg_alpha=0, reg_lambda=1, scale_pos_weight=1,\n",
       "       seed=None, silent=True, subsample=1))]),\n",
       "          fit_params=None, iid='warn', n_iter=20, n_jobs=-1,\n",
       "          param_distributions={'xgbclassifier__n_estimators': <scipy.stats._distn_infrastructure.rv_frozen object at 0x7f621c312a20>, 'xgbclassifier__max_depth': <scipy.stats._distn_infrastructure.rv_frozen object at 0x7f621c312080>},\n",
       "          pre_dispatch='2*n_jobs', random_state=None, refit=True,\n",
       "          return_train_score=True, scoring='roc_auc', verbose=10)"
      ]
     },
     "execution_count": 104,
     "metadata": {},
     "output_type": "execute_result"
    }
   ],
   "source": [
    "#pre-process with simple imputer and binary encoder\n",
    "pipe = make_pipeline(\n",
    "    ce.BinaryEncoder(),\n",
    "    SimpleImputer(),\n",
    "    XGBClassifier(n_jobs=-1, random_state=rseed)\n",
    ")\n",
    "\n",
    "param_distributions = {\n",
    "    'xgbclassifier__n_estimators': randint(90,150),\n",
    "    'xgbclassifier__max_depth': randint(2,5),\n",
    "#     'xgbclassifier__learning_rate': randint(0.01,0.1),\n",
    "    'xgbclassifier__tree_method': ['gpu_exact','gpu_hist']\n",
    "}\n",
    "\n",
    "search = RandomizedSearchCV(\n",
    "    estimator = pipe,\n",
    "    param_distributions = param_distributions,\n",
    "    n_iter=20,\n",
    "    scoring='roc_auc',\n",
    "    n_jobs=-1,\n",
    "    cv=3,\n",
    "    verbose=10,\n",
    "    return_train_score=True,\n",
    ")\n",
    "\n",
    "\n",
    "search.fit(X_train, y_train)"
   ]
  },
  {
   "cell_type": "code",
   "execution_count": 107,
   "metadata": {},
   "outputs": [
    {
     "data": {
      "text/html": [
       "<div>\n",
       "<style scoped>\n",
       "    .dataframe tbody tr th:only-of-type {\n",
       "        vertical-align: middle;\n",
       "    }\n",
       "\n",
       "    .dataframe tbody tr th {\n",
       "        vertical-align: top;\n",
       "    }\n",
       "\n",
       "    .dataframe thead th {\n",
       "        text-align: right;\n",
       "    }\n",
       "</style>\n",
       "<table border=\"1\" class=\"dataframe\">\n",
       "  <thead>\n",
       "    <tr style=\"text-align: right;\">\n",
       "      <th></th>\n",
       "      <th>mean_fit_time</th>\n",
       "      <th>std_fit_time</th>\n",
       "      <th>mean_score_time</th>\n",
       "      <th>std_score_time</th>\n",
       "      <th>param_xgbclassifier__max_depth</th>\n",
       "      <th>param_xgbclassifier__n_estimators</th>\n",
       "      <th>params</th>\n",
       "      <th>split0_test_score</th>\n",
       "      <th>split1_test_score</th>\n",
       "      <th>split2_test_score</th>\n",
       "      <th>mean_test_score</th>\n",
       "      <th>std_test_score</th>\n",
       "      <th>rank_test_score</th>\n",
       "      <th>split0_train_score</th>\n",
       "      <th>split1_train_score</th>\n",
       "      <th>split2_train_score</th>\n",
       "      <th>mean_train_score</th>\n",
       "      <th>std_train_score</th>\n",
       "    </tr>\n",
       "  </thead>\n",
       "  <tbody>\n",
       "    <tr>\n",
       "      <th>5</th>\n",
       "      <td>3.184808</td>\n",
       "      <td>0.101729</td>\n",
       "      <td>0.149824</td>\n",
       "      <td>0.014525</td>\n",
       "      <td>2</td>\n",
       "      <td>104</td>\n",
       "      <td>{'xgbclassifier__max_depth': 2, 'xgbclassifier...</td>\n",
       "      <td>0.688255</td>\n",
       "      <td>0.697501</td>\n",
       "      <td>0.694169</td>\n",
       "      <td>0.693308</td>\n",
       "      <td>0.003823</td>\n",
       "      <td>20</td>\n",
       "      <td>0.716041</td>\n",
       "      <td>0.700978</td>\n",
       "      <td>0.697285</td>\n",
       "      <td>0.704768</td>\n",
       "      <td>0.008113</td>\n",
       "    </tr>\n",
       "    <tr>\n",
       "      <th>1</th>\n",
       "      <td>3.214859</td>\n",
       "      <td>0.086225</td>\n",
       "      <td>0.139061</td>\n",
       "      <td>0.002476</td>\n",
       "      <td>2</td>\n",
       "      <td>107</td>\n",
       "      <td>{'xgbclassifier__max_depth': 2, 'xgbclassifier...</td>\n",
       "      <td>0.688746</td>\n",
       "      <td>0.697033</td>\n",
       "      <td>0.695612</td>\n",
       "      <td>0.693797</td>\n",
       "      <td>0.003619</td>\n",
       "      <td>19</td>\n",
       "      <td>0.716378</td>\n",
       "      <td>0.701689</td>\n",
       "      <td>0.698399</td>\n",
       "      <td>0.705488</td>\n",
       "      <td>0.007816</td>\n",
       "    </tr>\n",
       "    <tr>\n",
       "      <th>19</th>\n",
       "      <td>3.305018</td>\n",
       "      <td>0.116348</td>\n",
       "      <td>0.141405</td>\n",
       "      <td>0.013303</td>\n",
       "      <td>2</td>\n",
       "      <td>112</td>\n",
       "      <td>{'xgbclassifier__max_depth': 2, 'xgbclassifier...</td>\n",
       "      <td>0.688737</td>\n",
       "      <td>0.697654</td>\n",
       "      <td>0.696741</td>\n",
       "      <td>0.694378</td>\n",
       "      <td>0.004006</td>\n",
       "      <td>18</td>\n",
       "      <td>0.716902</td>\n",
       "      <td>0.702656</td>\n",
       "      <td>0.700352</td>\n",
       "      <td>0.706637</td>\n",
       "      <td>0.007320</td>\n",
       "    </tr>\n",
       "    <tr>\n",
       "      <th>3</th>\n",
       "      <td>3.531192</td>\n",
       "      <td>0.129936</td>\n",
       "      <td>0.158544</td>\n",
       "      <td>0.017738</td>\n",
       "      <td>2</td>\n",
       "      <td>116</td>\n",
       "      <td>{'xgbclassifier__max_depth': 2, 'xgbclassifier...</td>\n",
       "      <td>0.689578</td>\n",
       "      <td>0.698244</td>\n",
       "      <td>0.696861</td>\n",
       "      <td>0.694894</td>\n",
       "      <td>0.003801</td>\n",
       "      <td>17</td>\n",
       "      <td>0.717349</td>\n",
       "      <td>0.703565</td>\n",
       "      <td>0.701616</td>\n",
       "      <td>0.707510</td>\n",
       "      <td>0.007003</td>\n",
       "    </tr>\n",
       "    <tr>\n",
       "      <th>18</th>\n",
       "      <td>3.994037</td>\n",
       "      <td>0.050463</td>\n",
       "      <td>0.181563</td>\n",
       "      <td>0.015163</td>\n",
       "      <td>3</td>\n",
       "      <td>94</td>\n",
       "      <td>{'xgbclassifier__max_depth': 3, 'xgbclassifier...</td>\n",
       "      <td>0.697350</td>\n",
       "      <td>0.704861</td>\n",
       "      <td>0.701165</td>\n",
       "      <td>0.701125</td>\n",
       "      <td>0.003066</td>\n",
       "      <td>16</td>\n",
       "      <td>0.732974</td>\n",
       "      <td>0.720615</td>\n",
       "      <td>0.722440</td>\n",
       "      <td>0.725343</td>\n",
       "      <td>0.005447</td>\n",
       "    </tr>\n",
       "  </tbody>\n",
       "</table>\n",
       "</div>"
      ],
      "text/plain": [
       "    mean_fit_time  std_fit_time  mean_score_time  std_score_time  \\\n",
       "5        3.184808      0.101729         0.149824        0.014525   \n",
       "1        3.214859      0.086225         0.139061        0.002476   \n",
       "19       3.305018      0.116348         0.141405        0.013303   \n",
       "3        3.531192      0.129936         0.158544        0.017738   \n",
       "18       3.994037      0.050463         0.181563        0.015163   \n",
       "\n",
       "   param_xgbclassifier__max_depth param_xgbclassifier__n_estimators  \\\n",
       "5                               2                               104   \n",
       "1                               2                               107   \n",
       "19                              2                               112   \n",
       "3                               2                               116   \n",
       "18                              3                                94   \n",
       "\n",
       "                                               params  split0_test_score  \\\n",
       "5   {'xgbclassifier__max_depth': 2, 'xgbclassifier...           0.688255   \n",
       "1   {'xgbclassifier__max_depth': 2, 'xgbclassifier...           0.688746   \n",
       "19  {'xgbclassifier__max_depth': 2, 'xgbclassifier...           0.688737   \n",
       "3   {'xgbclassifier__max_depth': 2, 'xgbclassifier...           0.689578   \n",
       "18  {'xgbclassifier__max_depth': 3, 'xgbclassifier...           0.697350   \n",
       "\n",
       "    split1_test_score  split2_test_score  mean_test_score  std_test_score  \\\n",
       "5            0.697501           0.694169         0.693308        0.003823   \n",
       "1            0.697033           0.695612         0.693797        0.003619   \n",
       "19           0.697654           0.696741         0.694378        0.004006   \n",
       "3            0.698244           0.696861         0.694894        0.003801   \n",
       "18           0.704861           0.701165         0.701125        0.003066   \n",
       "\n",
       "    rank_test_score  split0_train_score  split1_train_score  \\\n",
       "5                20            0.716041            0.700978   \n",
       "1                19            0.716378            0.701689   \n",
       "19               18            0.716902            0.702656   \n",
       "3                17            0.717349            0.703565   \n",
       "18               16            0.732974            0.720615   \n",
       "\n",
       "    split2_train_score  mean_train_score  std_train_score  \n",
       "5             0.697285          0.704768         0.008113  \n",
       "1             0.698399          0.705488         0.007816  \n",
       "19            0.700352          0.706637         0.007320  \n",
       "3             0.701616          0.707510         0.007003  \n",
       "18            0.722440          0.725343         0.005447  "
      ]
     },
     "execution_count": 107,
     "metadata": {},
     "output_type": "execute_result"
    }
   ],
   "source": [
    "pd.DataFrame(search.cv_results_).sort_values('mean_test_score').head()"
   ]
  },
  {
   "cell_type": "code",
   "execution_count": null,
   "metadata": {},
   "outputs": [],
   "source": [
    "best=search.best_estimator_\n",
    "\n",
    "# process x_test\n",
    "encoder = ce.BinaryEncoder()\n",
    "X_test = encoder.fit_transform(X_test)\n",
    "X_test = SimpleImputer().fit_transform(X_test)"
   ]
  },
  {
   "cell_type": "code",
   "execution_count": 114,
   "metadata": {},
   "outputs": [
    {
     "data": {
      "text/plain": [
       "((17306, 52), (51916, 10))"
      ]
     },
     "execution_count": 114,
     "metadata": {},
     "output_type": "execute_result"
    }
   ],
   "source": [
    "X_test.shape, X_train.shape"
   ]
  },
  {
   "cell_type": "code",
   "execution_count": 112,
   "metadata": {},
   "outputs": [
    {
     "ename": "ValueError",
     "evalue": "Unexpected input dimension 52, expected 10",
     "output_type": "error",
     "traceback": [
      "\u001b[0;31m---------------------------------------------------------------------------\u001b[0m",
      "\u001b[0;31mValueError\u001b[0m                                Traceback (most recent call last)",
      "\u001b[0;32m<ipython-input-112-d7cd21a1afe5>\u001b[0m in \u001b[0;36m<module>\u001b[0;34m\u001b[0m\n\u001b[1;32m      6\u001b[0m \u001b[0mX_test\u001b[0m \u001b[0;34m=\u001b[0m \u001b[0mSimpleImputer\u001b[0m\u001b[0;34m(\u001b[0m\u001b[0;34m)\u001b[0m\u001b[0;34m.\u001b[0m\u001b[0mfit_transform\u001b[0m\u001b[0;34m(\u001b[0m\u001b[0mX_test\u001b[0m\u001b[0;34m)\u001b[0m\u001b[0;34m\u001b[0m\u001b[0;34m\u001b[0m\u001b[0m\n\u001b[1;32m      7\u001b[0m \u001b[0;34m\u001b[0m\u001b[0m\n\u001b[0;32m----> 8\u001b[0;31m \u001b[0my_test_pred_proba\u001b[0m \u001b[0;34m=\u001b[0m \u001b[0mbest\u001b[0m\u001b[0;34m.\u001b[0m\u001b[0mpredict_proba\u001b[0m\u001b[0;34m(\u001b[0m\u001b[0mX_test\u001b[0m\u001b[0;34m)\u001b[0m\u001b[0;34m[\u001b[0m\u001b[0;34m:\u001b[0m\u001b[0;34m,\u001b[0m\u001b[0;36m1\u001b[0m\u001b[0;34m]\u001b[0m\u001b[0;34m\u001b[0m\u001b[0;34m\u001b[0m\u001b[0m\n\u001b[0m\u001b[1;32m      9\u001b[0m \u001b[0;34m\u001b[0m\u001b[0m\n\u001b[1;32m     10\u001b[0m \u001b[0mprint\u001b[0m\u001b[0;34m(\u001b[0m\u001b[0;34m'ROC_AUC  held out test score: '\u001b[0m\u001b[0;34m,\u001b[0m \u001b[0mroc_auc_score\u001b[0m\u001b[0;34m(\u001b[0m\u001b[0my_test\u001b[0m\u001b[0;34m,\u001b[0m \u001b[0my_test_pred_proba\u001b[0m\u001b[0;34m)\u001b[0m\u001b[0;34m)\u001b[0m\u001b[0;34m\u001b[0m\u001b[0;34m\u001b[0m\u001b[0m\n",
      "\u001b[0;32m~/anaconda3/lib/python3.7/site-packages/sklearn/utils/metaestimators.py\u001b[0m in \u001b[0;36m<lambda>\u001b[0;34m(*args, **kwargs)\u001b[0m\n\u001b[1;32m    116\u001b[0m \u001b[0;34m\u001b[0m\u001b[0m\n\u001b[1;32m    117\u001b[0m         \u001b[0;31m# lambda, but not partial, allows help() to work with update_wrapper\u001b[0m\u001b[0;34m\u001b[0m\u001b[0;34m\u001b[0m\u001b[0;34m\u001b[0m\u001b[0m\n\u001b[0;32m--> 118\u001b[0;31m         \u001b[0mout\u001b[0m \u001b[0;34m=\u001b[0m \u001b[0;32mlambda\u001b[0m \u001b[0;34m*\u001b[0m\u001b[0margs\u001b[0m\u001b[0;34m,\u001b[0m \u001b[0;34m**\u001b[0m\u001b[0mkwargs\u001b[0m\u001b[0;34m:\u001b[0m \u001b[0mself\u001b[0m\u001b[0;34m.\u001b[0m\u001b[0mfn\u001b[0m\u001b[0;34m(\u001b[0m\u001b[0mobj\u001b[0m\u001b[0;34m,\u001b[0m \u001b[0;34m*\u001b[0m\u001b[0margs\u001b[0m\u001b[0;34m,\u001b[0m \u001b[0;34m**\u001b[0m\u001b[0mkwargs\u001b[0m\u001b[0;34m)\u001b[0m\u001b[0;34m\u001b[0m\u001b[0;34m\u001b[0m\u001b[0m\n\u001b[0m\u001b[1;32m    119\u001b[0m         \u001b[0;31m# update the docstring of the returned function\u001b[0m\u001b[0;34m\u001b[0m\u001b[0;34m\u001b[0m\u001b[0;34m\u001b[0m\u001b[0m\n\u001b[1;32m    120\u001b[0m         \u001b[0mupdate_wrapper\u001b[0m\u001b[0;34m(\u001b[0m\u001b[0mout\u001b[0m\u001b[0;34m,\u001b[0m \u001b[0mself\u001b[0m\u001b[0;34m.\u001b[0m\u001b[0mfn\u001b[0m\u001b[0;34m)\u001b[0m\u001b[0;34m\u001b[0m\u001b[0;34m\u001b[0m\u001b[0m\n",
      "\u001b[0;32m~/anaconda3/lib/python3.7/site-packages/sklearn/pipeline.py\u001b[0m in \u001b[0;36mpredict_proba\u001b[0;34m(self, X)\u001b[0m\n\u001b[1;32m    379\u001b[0m         \u001b[0;32mfor\u001b[0m \u001b[0mname\u001b[0m\u001b[0;34m,\u001b[0m \u001b[0mtransform\u001b[0m \u001b[0;32min\u001b[0m \u001b[0mself\u001b[0m\u001b[0;34m.\u001b[0m\u001b[0msteps\u001b[0m\u001b[0;34m[\u001b[0m\u001b[0;34m:\u001b[0m\u001b[0;34m-\u001b[0m\u001b[0;36m1\u001b[0m\u001b[0;34m]\u001b[0m\u001b[0;34m:\u001b[0m\u001b[0;34m\u001b[0m\u001b[0;34m\u001b[0m\u001b[0m\n\u001b[1;32m    380\u001b[0m             \u001b[0;32mif\u001b[0m \u001b[0mtransform\u001b[0m \u001b[0;32mis\u001b[0m \u001b[0;32mnot\u001b[0m \u001b[0;32mNone\u001b[0m\u001b[0;34m:\u001b[0m\u001b[0;34m\u001b[0m\u001b[0;34m\u001b[0m\u001b[0m\n\u001b[0;32m--> 381\u001b[0;31m                 \u001b[0mXt\u001b[0m \u001b[0;34m=\u001b[0m \u001b[0mtransform\u001b[0m\u001b[0;34m.\u001b[0m\u001b[0mtransform\u001b[0m\u001b[0;34m(\u001b[0m\u001b[0mXt\u001b[0m\u001b[0;34m)\u001b[0m\u001b[0;34m\u001b[0m\u001b[0;34m\u001b[0m\u001b[0m\n\u001b[0m\u001b[1;32m    382\u001b[0m         \u001b[0;32mreturn\u001b[0m \u001b[0mself\u001b[0m\u001b[0;34m.\u001b[0m\u001b[0msteps\u001b[0m\u001b[0;34m[\u001b[0m\u001b[0;34m-\u001b[0m\u001b[0;36m1\u001b[0m\u001b[0;34m]\u001b[0m\u001b[0;34m[\u001b[0m\u001b[0;34m-\u001b[0m\u001b[0;36m1\u001b[0m\u001b[0;34m]\u001b[0m\u001b[0;34m.\u001b[0m\u001b[0mpredict_proba\u001b[0m\u001b[0;34m(\u001b[0m\u001b[0mXt\u001b[0m\u001b[0;34m)\u001b[0m\u001b[0;34m\u001b[0m\u001b[0;34m\u001b[0m\u001b[0m\n\u001b[1;32m    383\u001b[0m \u001b[0;34m\u001b[0m\u001b[0m\n",
      "\u001b[0;32m~/anaconda3/lib/python3.7/site-packages/category_encoders/binary.py\u001b[0m in \u001b[0;36mtransform\u001b[0;34m(self, X, override_return_df)\u001b[0m\n\u001b[1;32m    123\u001b[0m         \"\"\"\n\u001b[1;32m    124\u001b[0m \u001b[0;34m\u001b[0m\u001b[0m\n\u001b[0;32m--> 125\u001b[0;31m         \u001b[0;32mreturn\u001b[0m \u001b[0mself\u001b[0m\u001b[0;34m.\u001b[0m\u001b[0mbase_n_encoder\u001b[0m\u001b[0;34m.\u001b[0m\u001b[0mtransform\u001b[0m\u001b[0;34m(\u001b[0m\u001b[0mX\u001b[0m\u001b[0;34m)\u001b[0m\u001b[0;34m\u001b[0m\u001b[0;34m\u001b[0m\u001b[0m\n\u001b[0m\u001b[1;32m    126\u001b[0m \u001b[0;34m\u001b[0m\u001b[0m\n\u001b[1;32m    127\u001b[0m     \u001b[0;32mdef\u001b[0m \u001b[0minverse_transform\u001b[0m\u001b[0;34m(\u001b[0m\u001b[0mself\u001b[0m\u001b[0;34m,\u001b[0m \u001b[0mX_in\u001b[0m\u001b[0;34m)\u001b[0m\u001b[0;34m:\u001b[0m\u001b[0;34m\u001b[0m\u001b[0;34m\u001b[0m\u001b[0m\n",
      "\u001b[0;32m~/anaconda3/lib/python3.7/site-packages/category_encoders/basen.py\u001b[0m in \u001b[0;36mtransform\u001b[0;34m(self, X, override_return_df)\u001b[0m\n\u001b[1;32m    219\u001b[0m         \u001b[0;31m# then make sure that it is the right size\u001b[0m\u001b[0;34m\u001b[0m\u001b[0;34m\u001b[0m\u001b[0;34m\u001b[0m\u001b[0m\n\u001b[1;32m    220\u001b[0m         \u001b[0;32mif\u001b[0m \u001b[0mX\u001b[0m\u001b[0;34m.\u001b[0m\u001b[0mshape\u001b[0m\u001b[0;34m[\u001b[0m\u001b[0;36m1\u001b[0m\u001b[0;34m]\u001b[0m \u001b[0;34m!=\u001b[0m \u001b[0mself\u001b[0m\u001b[0;34m.\u001b[0m\u001b[0m_dim\u001b[0m\u001b[0;34m:\u001b[0m\u001b[0;34m\u001b[0m\u001b[0;34m\u001b[0m\u001b[0m\n\u001b[0;32m--> 221\u001b[0;31m             \u001b[0;32mraise\u001b[0m \u001b[0mValueError\u001b[0m\u001b[0;34m(\u001b[0m\u001b[0;34m'Unexpected input dimension %d, expected %d'\u001b[0m \u001b[0;34m%\u001b[0m \u001b[0;34m(\u001b[0m\u001b[0mX\u001b[0m\u001b[0;34m.\u001b[0m\u001b[0mshape\u001b[0m\u001b[0;34m[\u001b[0m\u001b[0;36m1\u001b[0m\u001b[0;34m]\u001b[0m\u001b[0;34m,\u001b[0m \u001b[0mself\u001b[0m\u001b[0;34m.\u001b[0m\u001b[0m_dim\u001b[0m\u001b[0;34m,\u001b[0m\u001b[0;34m)\u001b[0m\u001b[0;34m)\u001b[0m\u001b[0;34m\u001b[0m\u001b[0;34m\u001b[0m\u001b[0m\n\u001b[0m\u001b[1;32m    222\u001b[0m \u001b[0;34m\u001b[0m\u001b[0m\n\u001b[1;32m    223\u001b[0m         \u001b[0;32mif\u001b[0m \u001b[0;32mnot\u001b[0m \u001b[0mself\u001b[0m\u001b[0;34m.\u001b[0m\u001b[0mcols\u001b[0m\u001b[0;34m:\u001b[0m\u001b[0;34m\u001b[0m\u001b[0;34m\u001b[0m\u001b[0m\n",
      "\u001b[0;31mValueError\u001b[0m: Unexpected input dimension 52, expected 10"
     ]
    }
   ],
   "source": [
    "y_test_pred_proba = best.predict_proba(X_test)[:,1]\n",
    "\n",
    "print('ROC_AUC  held out test score: ', roc_auc_score(y_test, y_test_pred_proba))"
   ]
  },
  {
   "cell_type": "code",
   "execution_count": 262,
   "metadata": {},
   "outputs": [
    {
     "name": "stdout",
     "output_type": "stream",
     "text": [
      "Fitting 3 folds for each of 20 candidates, totalling 60 fits\n"
     ]
    },
    {
     "name": "stderr",
     "output_type": "stream",
     "text": [
      "[Parallel(n_jobs=-1)]: Using backend LokyBackend with 4 concurrent workers.\n",
      "[Parallel(n_jobs=-1)]: Done   5 tasks      | elapsed:    6.7s\n",
      "[Parallel(n_jobs=-1)]: Done  10 tasks      | elapsed:   10.6s\n",
      "[Parallel(n_jobs=-1)]: Done  17 tasks      | elapsed:   26.3s\n",
      "[Parallel(n_jobs=-1)]: Done  24 tasks      | elapsed:   44.8s\n",
      "[Parallel(n_jobs=-1)]: Done  33 tasks      | elapsed:   52.6s\n",
      "[Parallel(n_jobs=-1)]: Done  42 tasks      | elapsed:  1.0min\n",
      "[Parallel(n_jobs=-1)]: Done  53 tasks      | elapsed:  1.3min\n",
      "[Parallel(n_jobs=-1)]: Done  60 out of  60 | elapsed:  1.5min remaining:    0.0s\n",
      "[Parallel(n_jobs=-1)]: Done  60 out of  60 | elapsed:  1.5min finished\n"
     ]
    },
    {
     "data": {
      "text/plain": [
       "RandomizedSearchCV(cv=3, error_score='raise-deprecating',\n",
       "          estimator=XGBClassifier(base_score=0.5, booster='gbtree', colsample_bylevel=1,\n",
       "       colsample_bytree=1, gamma=0, learning_rate=0.1, max_delta_step=0,\n",
       "       max_depth=3, min_child_weight=1, missing=None, n_estimators=100,\n",
       "       n_jobs=-1, nthread=None, objective='binary:logistic',\n",
       "       random_state=314, reg_alpha=0, reg_lambda=1, scale_pos_weight=1,\n",
       "       seed=None, silent=True, subsample=1),\n",
       "          fit_params=None, iid='warn', n_iter=20, n_jobs=-1,\n",
       "          param_distributions={'n_estimators': [50, 100, 200, 300, 500], 'max_depth': [3, 4, 5, 6], 'subsample': [0.5, 0.8], 'learning_rate': [0.01, 0.05, 0.01]},\n",
       "          pre_dispatch='2*n_jobs', random_state=314, refit=True,\n",
       "          return_train_score=True, scoring='roc_auc', verbose=10)"
      ]
     },
     "execution_count": 262,
     "metadata": {},
     "output_type": "execute_result"
    }
   ],
   "source": [
    "\n",
    "\n",
    "param_distributions = {\n",
    "    'n_estimators': [50, 100, 200, 300, 500],\n",
    "    'max_depth': [3, 4, 5, 6],\n",
    "    'subsample': [0.5, 0.8],\n",
    "    'learning_rate': [0.01, 0.05, 0.01]\n",
    "}\n",
    "\n",
    "search = RandomizedSearchCV(\n",
    "    estimator = XGBClassifier(n_jobs=-1, random_state=randseed),\n",
    "    param_distributions = param_distributions,\n",
    "    n_iter=20,\n",
    "    scoring='roc_auc',\n",
    "    n_jobs=-1,\n",
    "    cv=3,\n",
    "    verbose=10,\n",
    "    return_train_score=True,\n",
    "    random_state=randseed\n",
    ")\n",
    "\n",
    "search.fit(X, y)"
   ]
  },
  {
   "cell_type": "code",
   "execution_count": 264,
   "metadata": {},
   "outputs": [
    {
     "data": {
      "text/html": [
       "<div>\n",
       "<style scoped>\n",
       "    .dataframe tbody tr th:only-of-type {\n",
       "        vertical-align: middle;\n",
       "    }\n",
       "\n",
       "    .dataframe tbody tr th {\n",
       "        vertical-align: top;\n",
       "    }\n",
       "\n",
       "    .dataframe thead th {\n",
       "        text-align: right;\n",
       "    }\n",
       "</style>\n",
       "<table border=\"1\" class=\"dataframe\">\n",
       "  <thead>\n",
       "    <tr style=\"text-align: right;\">\n",
       "      <th></th>\n",
       "      <th>mean_fit_time</th>\n",
       "      <th>std_fit_time</th>\n",
       "      <th>mean_score_time</th>\n",
       "      <th>std_score_time</th>\n",
       "      <th>param_subsample</th>\n",
       "      <th>param_n_estimators</th>\n",
       "      <th>param_max_depth</th>\n",
       "      <th>param_learning_rate</th>\n",
       "      <th>params</th>\n",
       "      <th>split0_test_score</th>\n",
       "      <th>split1_test_score</th>\n",
       "      <th>split2_test_score</th>\n",
       "      <th>mean_test_score</th>\n",
       "      <th>std_test_score</th>\n",
       "      <th>rank_test_score</th>\n",
       "      <th>split0_train_score</th>\n",
       "      <th>split1_train_score</th>\n",
       "      <th>split2_train_score</th>\n",
       "      <th>mean_train_score</th>\n",
       "      <th>std_train_score</th>\n",
       "    </tr>\n",
       "  </thead>\n",
       "  <tbody>\n",
       "    <tr>\n",
       "      <th>1</th>\n",
       "      <td>6.324692</td>\n",
       "      <td>0.097424</td>\n",
       "      <td>0.240695</td>\n",
       "      <td>0.018913</td>\n",
       "      <td>0.8</td>\n",
       "      <td>200</td>\n",
       "      <td>6</td>\n",
       "      <td>0.05</td>\n",
       "      <td>{'subsample': 0.8, 'n_estimators': 200, 'max_d...</td>\n",
       "      <td>0.700074</td>\n",
       "      <td>0.699630</td>\n",
       "      <td>0.708773</td>\n",
       "      <td>0.702825</td>\n",
       "      <td>0.004209</td>\n",
       "      <td>1</td>\n",
       "      <td>0.732972</td>\n",
       "      <td>0.734679</td>\n",
       "      <td>0.729427</td>\n",
       "      <td>0.732359</td>\n",
       "      <td>0.002187</td>\n",
       "    </tr>\n",
       "    <tr>\n",
       "      <th>7</th>\n",
       "      <td>12.695952</td>\n",
       "      <td>0.709056</td>\n",
       "      <td>0.507854</td>\n",
       "      <td>0.035996</td>\n",
       "      <td>0.8</td>\n",
       "      <td>500</td>\n",
       "      <td>5</td>\n",
       "      <td>0.05</td>\n",
       "      <td>{'subsample': 0.8, 'n_estimators': 500, 'max_d...</td>\n",
       "      <td>0.700647</td>\n",
       "      <td>0.698500</td>\n",
       "      <td>0.708653</td>\n",
       "      <td>0.702600</td>\n",
       "      <td>0.004369</td>\n",
       "      <td>2</td>\n",
       "      <td>0.736192</td>\n",
       "      <td>0.736955</td>\n",
       "      <td>0.732775</td>\n",
       "      <td>0.735308</td>\n",
       "      <td>0.001818</td>\n",
       "    </tr>\n",
       "    <tr>\n",
       "      <th>15</th>\n",
       "      <td>4.033292</td>\n",
       "      <td>0.038154</td>\n",
       "      <td>0.135776</td>\n",
       "      <td>0.001327</td>\n",
       "      <td>0.8</td>\n",
       "      <td>200</td>\n",
       "      <td>4</td>\n",
       "      <td>0.05</td>\n",
       "      <td>{'subsample': 0.8, 'n_estimators': 200, 'max_d...</td>\n",
       "      <td>0.696219</td>\n",
       "      <td>0.696900</td>\n",
       "      <td>0.702560</td>\n",
       "      <td>0.698559</td>\n",
       "      <td>0.002842</td>\n",
       "      <td>3</td>\n",
       "      <td>0.712184</td>\n",
       "      <td>0.713737</td>\n",
       "      <td>0.709215</td>\n",
       "      <td>0.711712</td>\n",
       "      <td>0.001876</td>\n",
       "    </tr>\n",
       "    <tr>\n",
       "      <th>5</th>\n",
       "      <td>16.402098</td>\n",
       "      <td>0.694684</td>\n",
       "      <td>0.515263</td>\n",
       "      <td>0.050309</td>\n",
       "      <td>0.5</td>\n",
       "      <td>500</td>\n",
       "      <td>5</td>\n",
       "      <td>0.01</td>\n",
       "      <td>{'subsample': 0.5, 'n_estimators': 500, 'max_d...</td>\n",
       "      <td>0.695172</td>\n",
       "      <td>0.696160</td>\n",
       "      <td>0.702986</td>\n",
       "      <td>0.698106</td>\n",
       "      <td>0.003474</td>\n",
       "      <td>4</td>\n",
       "      <td>0.713062</td>\n",
       "      <td>0.714199</td>\n",
       "      <td>0.709704</td>\n",
       "      <td>0.712321</td>\n",
       "      <td>0.001908</td>\n",
       "    </tr>\n",
       "    <tr>\n",
       "      <th>16</th>\n",
       "      <td>13.237910</td>\n",
       "      <td>0.286527</td>\n",
       "      <td>0.481347</td>\n",
       "      <td>0.038326</td>\n",
       "      <td>0.8</td>\n",
       "      <td>500</td>\n",
       "      <td>5</td>\n",
       "      <td>0.01</td>\n",
       "      <td>{'subsample': 0.8, 'n_estimators': 500, 'max_d...</td>\n",
       "      <td>0.693793</td>\n",
       "      <td>0.695796</td>\n",
       "      <td>0.701895</td>\n",
       "      <td>0.697161</td>\n",
       "      <td>0.003446</td>\n",
       "      <td>5</td>\n",
       "      <td>0.711333</td>\n",
       "      <td>0.713568</td>\n",
       "      <td>0.708876</td>\n",
       "      <td>0.711259</td>\n",
       "      <td>0.001916</td>\n",
       "    </tr>\n",
       "  </tbody>\n",
       "</table>\n",
       "</div>"
      ],
      "text/plain": [
       "    mean_fit_time  std_fit_time  mean_score_time  std_score_time  \\\n",
       "1        6.324692      0.097424         0.240695        0.018913   \n",
       "7       12.695952      0.709056         0.507854        0.035996   \n",
       "15       4.033292      0.038154         0.135776        0.001327   \n",
       "5       16.402098      0.694684         0.515263        0.050309   \n",
       "16      13.237910      0.286527         0.481347        0.038326   \n",
       "\n",
       "   param_subsample param_n_estimators param_max_depth param_learning_rate  \\\n",
       "1              0.8                200               6                0.05   \n",
       "7              0.8                500               5                0.05   \n",
       "15             0.8                200               4                0.05   \n",
       "5              0.5                500               5                0.01   \n",
       "16             0.8                500               5                0.01   \n",
       "\n",
       "                                               params  split0_test_score  \\\n",
       "1   {'subsample': 0.8, 'n_estimators': 200, 'max_d...           0.700074   \n",
       "7   {'subsample': 0.8, 'n_estimators': 500, 'max_d...           0.700647   \n",
       "15  {'subsample': 0.8, 'n_estimators': 200, 'max_d...           0.696219   \n",
       "5   {'subsample': 0.5, 'n_estimators': 500, 'max_d...           0.695172   \n",
       "16  {'subsample': 0.8, 'n_estimators': 500, 'max_d...           0.693793   \n",
       "\n",
       "    split1_test_score  split2_test_score  mean_test_score  std_test_score  \\\n",
       "1            0.699630           0.708773         0.702825        0.004209   \n",
       "7            0.698500           0.708653         0.702600        0.004369   \n",
       "15           0.696900           0.702560         0.698559        0.002842   \n",
       "5            0.696160           0.702986         0.698106        0.003474   \n",
       "16           0.695796           0.701895         0.697161        0.003446   \n",
       "\n",
       "    rank_test_score  split0_train_score  split1_train_score  \\\n",
       "1                 1            0.732972            0.734679   \n",
       "7                 2            0.736192            0.736955   \n",
       "15                3            0.712184            0.713737   \n",
       "5                 4            0.713062            0.714199   \n",
       "16                5            0.711333            0.713568   \n",
       "\n",
       "    split2_train_score  mean_train_score  std_train_score  \n",
       "1             0.729427          0.732359         0.002187  \n",
       "7             0.732775          0.735308         0.001818  \n",
       "15            0.709215          0.711712         0.001876  \n",
       "5             0.709704          0.712321         0.001908  \n",
       "16            0.708876          0.711259         0.001916  "
      ]
     },
     "execution_count": 264,
     "metadata": {},
     "output_type": "execute_result"
    }
   ],
   "source": [
    "#best 5 candidates\n",
    "pd.DataFrame(search.cv_results_).sort_values(by='rank_test_score').head()\n"
   ]
  },
  {
   "cell_type": "markdown",
   "metadata": {},
   "source": [
    "## Test Results against Held Out Test Set"
   ]
  },
  {
   "cell_type": "code",
   "execution_count": 268,
   "metadata": {},
   "outputs": [],
   "source": [
    "def test_wrangle(df):\n",
    "    #change all fit_transform to transform \n",
    "    \n",
    "    X = df.copy()\n",
    "    X = X.drop(columns=['DBA Name', 'AKA Name', 'Inspection Date', 'Inspection ID',\n",
    "                        #'Inspection Type',\n",
    "                        'License #', 'City', 'State', 'Address',\n",
    "                       'Violations', \n",
    "                        'Latitude', 'Longitude', 'Location'])\n",
    "    \n",
    "    #ordinal encoding\n",
    "    enconder = ce.OrdinalEncoder().fit(train['Risk'])\n",
    "    X['Risk'] = enconder.transform(X['Risk'])\n",
    "    X['Risk'] = X['Risk'].fillna(X['Risk'].mode()[0])\n",
    "    \n",
    "    X['Facility Type'] = X['Facility Type'].str.lower()\n",
    "    X['Facility Type'] = X['Facility Type'].fillna(X['Facility Type'].mode()[0])\n",
    "    \n",
    "    enconder = ce.BinaryEncoder().fit(train['Facility Type'])\n",
    "    binary_facilities = enconder.transform(X[['Facility Type']])\n",
    "    X = X.drop(columns=['Facility Type'])\n",
    "    \n",
    "    #binary encoding\n",
    "    encoder = ce.BinaryEncoder().fit(train[['Zip']])\n",
    "    X['Zip'] = encoder.transform(X[['Zip']])\n",
    "    \n",
    "#     X['Violations'] = X['Violations'].str.lower()\n",
    "#     enconder = ce.BinaryEncoder().fit(train['Violations'])\n",
    "#     binary_violations = enconder.transform(X['Violations'])    \n",
    "#     X = X.drop(columns=['Violations'])\n",
    "    \n",
    "    X['Inspection Type'] = X['Inspection Type'].str.lower()\n",
    "    \n",
    "    enconder = ce.BinaryEncoder().fit(train['Inspection Type'])\n",
    "    binary_inspections = enconder.transform(X['Inspection Type'])\n",
    "    X = X.drop(columns=['Inspection Type'])\n",
    "    \n",
    "    #one hote encoding\n",
    "#     X = pd.merge(X, ce.OneHotEncoder().fit_transform(X['Inspection Type']), right_index=True, left_index=True)\n",
    "#     X = X.drop(columns=['Inspection Type'])\n",
    "    \n",
    "    #merge in new columns\n",
    "#     X = pd.merge(X, binary_violations, right_index=True, left_index=True)\n",
    "    X = pd.merge(X, binary_inspections, right_index=True, left_index=True)\n",
    "    X = pd.merge(X, binary_facilities, right_index=True, left_index=True)\n",
    "    \n",
    "    return X"
   ]
  },
  {
   "cell_type": "code",
   "execution_count": 269,
   "metadata": {},
   "outputs": [],
   "source": [
    " \n",
    "TEST_X = test.drop(columns='Fail')\n",
    "TEST_y = test['Fail']\n",
    "\n",
    "TEST_X = test_wrangle(TEST_X)"
   ]
  },
  {
   "cell_type": "code",
   "execution_count": 270,
   "metadata": {},
   "outputs": [],
   "source": [
    "assert(TEST_X.columns.tolist() == X.columns.tolist())"
   ]
  },
  {
   "cell_type": "code",
   "execution_count": 271,
   "metadata": {},
   "outputs": [
    {
     "name": "stdout",
     "output_type": "stream",
     "text": [
      "ROC_AUC  held out test score:  0.6081300829999273\n"
     ]
    }
   ],
   "source": [
    "best=search.best_estimator_\n",
    "\n",
    "y_test_pred_proba = best.predict_proba(TEST_X)[:,1]\n",
    "\n",
    "print('ROC_AUC  held out test score: ', roc_auc_score(TEST_y, y_test_pred_proba))"
   ]
  },
  {
   "cell_type": "markdown",
   "metadata": {},
   "source": [
    "### Part 3: Visualization\n",
    "\n",
    "Make one visualization for model interpretation. (You may use any libraries.) Choose one of these types:\n",
    "\n",
    "- Feature Importances\n",
    "- Permutation Importances\n",
    "- Partial Dependence Plot\n",
    "- Shapley Values\n",
    "\n",
    "_To earn a score of 3 for this part, make at least two of these visualization types._"
   ]
  },
  {
   "cell_type": "code",
   "execution_count": 161,
   "metadata": {},
   "outputs": [
    {
     "data": {
      "image/png": "[encoded data removed]",
      "text/plain": [
       "<Figure size 360x504 with 1 Axes>"
      ]
     },
     "metadata": {
      "needs_background": "light"
     },
     "output_type": "display_data"
    }
   ],
   "source": [
    "n = 4 #len(X_train.columns)\n",
    "figsize = (5,7)\n",
    "importances = pd.Series(best.feature_importances_, X_train.columns)\n",
    "top_n = importances.sort_values()[-n:]\n",
    "\n",
    "plt.figure(figsize=figsize)\n",
    "top_n.plot.barh();"
   ]
  },
  {
   "cell_type": "markdown",
   "metadata": {},
   "source": [
    "This graph shows that ZIP code i.e. location the most important feature in our model. Since it is correlated with income in the USA, it could indicate that restaurants in lower income areas have a higher chance of Failing, due either to an income disparity or perhaps a more intense enforcement policy towards lower income. \n",
    "\n",
    "Inspection type also indicates that we have some time traveling in our data as the type of inspection could indicate past violations."
   ]
  },
  {
   "cell_type": "code",
   "execution_count": 162,
   "metadata": {},
   "outputs": [
    {
     "data": {
      "image/png": "[encoded data removed]",
      "text/plain": [
       "<Figure size 1080x684 with 2 Axes>"
      ]
     },
     "metadata": {
      "needs_background": "light"
     },
     "output_type": "display_data"
    }
   ],
   "source": [
    "from pdpbox.pdp import pdp_isolate, pdp_plot\n",
    "\n",
    "feature = 'Risk'\n",
    "\n",
    "isolated = pdp_isolate(\n",
    "    model=best,\n",
    "    dataset=X_train,\n",
    "    model_features=X_train.columns,\n",
    "    feature = feature\n",
    ")\n",
    "\n",
    "pdp_plot(isolated, feature_name=feature);"
   ]
  },
  {
   "cell_type": "markdown",
   "metadata": {},
   "source": [
    "This is interesting, after Risk factor 3, the amount of importance of risk in the Fail outcome increases significantly. This suggests that the risk scale might be biased towards the extreme end of values or that it is difficult to evaluate risk except for an obvious violation situation. "
   ]
  },
  {
   "cell_type": "markdown",
   "metadata": {},
   "source": [
    "### Part 4: Gradient Descent\n",
    "\n",
    "Answer both of these two questions:\n",
    "\n",
    "- What does Gradient Descent seek to minimize?\n",
    "- What is the \"Learning Rate\" and what is its function?\n",
    "\n",
    "One sentence is sufficient for each.\n",
    "\n",
    "_To earn a score of 3 for this part, go above and beyond. Show depth of understanding and mastery of intuition in your answers._"
   ]
  },
  {
   "cell_type": "markdown",
   "metadata": {},
   "source": [
    "- What does Gradient Descent seek to minimize?\n",
    "\n",
    "Gradient Descent seeks to minimize the cost function of a regression. Specifically in the case of a linear regression, the cost function is the Sum of Squared Errors between the line of best fit and the y-value observations. By minimizing the gradient of the SSE function, you've fitted the best possible line to our x,y observations."
   ]
  },
  {
   "cell_type": "markdown",
   "metadata": {},
   "source": [
    "- What is the \"Learning Rate\" and what is its function?\n",
    "\n",
    "Learning Rate is the size of test correction on the test curve. A high learning rate will test values that are far from the first test value (to see if the gradient of this point is lower than the first point), where as a low learning rate will move towards a local minimum more slowly, taking shorter 'jumps.'\n",
    "\n",
    "The tradeoff in learning rate is as follows: \n",
    "\n",
    "A high learning rate may 'miss' a local minimum by jumping along the cost function too much, whereas a a low learning rate may get stuck in a local minimum that is non-optimal (there is a lower minimum out of the range of it's learning rate) and take longer to compute. "
   ]
  },
  {
   "cell_type": "code",
   "execution_count": null,
   "metadata": {},
   "outputs": [],
   "source": []
  }
 ],
 "metadata": {
  "kernelspec": {
   "display_name": "Python 3",
   "language": "python",
   "name": "python3"
  },
  "language_info": {
   "codemirror_mode": {
    "name": "ipython",
    "version": 3
   },
   "file_extension": ".py",
   "mimetype": "text/x-python",
   "name": "python",
   "nbconvert_exporter": "python",
   "pygments_lexer": "ipython3",
   "version": "3.7.3"
  }
 },
 "nbformat": 4,
 "nbformat_minor": 2
}
