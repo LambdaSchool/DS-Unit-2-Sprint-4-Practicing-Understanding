{
  "nbformat": 4,
  "nbformat_minor": 0,
  "metadata": {
    "colab": {
      "name": "DS_Unit_2_Sprint_Challenge_4_Practicing_Understanding.ipynb",
      "version": "0.3.2",
      "provenance": [],
      "include_colab_link": true
    },
    "language_info": {
      "codemirror_mode": {
        "name": "ipython",
        "version": 3
      },
      "file_extension": ".py",
      "mimetype": "text/x-python",
      "name": "python",
      "nbconvert_exporter": "python",
      "pygments_lexer": "ipython3",
      "version": "3.7.1"
    },
    "kernelspec": {
      "display_name": "Python 3",
      "language": "python",
      "name": "python3"
    }
  },
  "cells": [
    {
      "cell_type": "markdown",
      "metadata": {
        "id": "view-in-github",
        "colab_type": "text"
      },
      "source": [
        "<a href=\"https://colab.research.google.com/github/will-cotton4/DS-Unit-2-Sprint-4-Practicing-Understanding/blob/master/DS_Unit_2_Sprint_Challenge_4_Practicing_Understanding.ipynb\" target=\"_parent\"><img src=\"https://colab.research.google.com/assets/colab-badge.svg\" alt=\"Open In Colab\"/></a>"
      ]
    },
    {
      "cell_type": "markdown",
      "metadata": {
        "id": "6yknSziBT4tF",
        "colab_type": "text"
      },
      "source": [
        "_Lambda School Data Science Unit 2_\n",
        " \n",
        " # Sprint Challenge: Practicing & Understanding Predictive Modeling"
      ]
    },
    {
      "cell_type": "markdown",
      "metadata": {
        "id": "5j59LtE5T4tM",
        "colab_type": "text"
      },
      "source": [
        "### Chicago Food Inspections\n",
        "\n",
        "For this Sprint Challenge, you'll use a dataset with information from inspections of restaurants and other food establishments in Chicago from January 2010 to March 2019. \n",
        "\n",
        "[See this PDF](https://data.cityofchicago.org/api/assets/BAD5301B-681A-4202-9D25-51B2CAE672FF) for descriptions of the data elements included in this dataset.\n",
        "\n",
        "According to [Chicago Department of Public Health — Food Protection Services](https://www.chicago.gov/city/en/depts/cdph/provdrs/healthy_restaurants/svcs/food-protection-services.html), \"Chicago is home to 16,000 food establishments like restaurants, grocery stores, bakeries, wholesalers, lunchrooms, mobile food vendors and more. Our business is food safety and sanitation with one goal, to prevent the spread of food-borne disease. We do this by inspecting food businesses, responding to complaints and food recalls.\" "
      ]
    },
    {
      "cell_type": "markdown",
      "metadata": {
        "id": "PJt_dandT4tO",
        "colab_type": "text"
      },
      "source": [
        "#### Your challenge: Predict whether inspections failed\n",
        "\n",
        "The target is the `Fail` column.\n",
        "\n",
        "- When the food establishment failed the inspection, the target is `1`.\n",
        "- When the establishment passed, the target is `0`."
      ]
    },
    {
      "cell_type": "markdown",
      "metadata": {
        "id": "nDOChVFRT4tP",
        "colab_type": "text"
      },
      "source": [
        "#### Run this cell to load the data:"
      ]
    },
    {
      "cell_type": "code",
      "metadata": {
        "id": "dY9FL6cST4tQ",
        "colab_type": "code",
        "colab": {}
      },
      "source": [
        "import pandas as pd\n",
        "\n",
        "train_url = 'https://drive.google.com/uc?export=download&id=13_tP9JpLcZHSPVpWcua4t2rY44K_s4H5'\n",
        "test_url  = 'https://drive.google.com/uc?export=download&id=1GkDHjsiGrzOXoF_xcYjdzBTSjOIi3g5a'\n",
        "\n",
        "train = pd.read_csv(train_url)\n",
        "test  = pd.read_csv(test_url)\n",
        "\n",
        "assert train.shape == (51916, 17)\n",
        "assert test.shape  == (17306, 17)"
      ],
      "execution_count": 0,
      "outputs": []
    },
    {
      "cell_type": "markdown",
      "metadata": {
        "id": "gnciffNRT4tU",
        "colab_type": "text"
      },
      "source": [
        "### Part 1: Preprocessing\n",
        "\n",
        "You may choose which features you want to use, and whether/how you will preprocess them. If you use categorical features, you may use any tools and techniques for encoding. (Pandas, category_encoders, sklearn.preprocessing, or any other library.)\n",
        "\n",
        "_To earn a score of 3 for this part, find and explain leakage. The dataset has a feature that will give you an ROC AUC score > 0.90 if you process and use the feature. Find the leakage and explain why the feature shouldn't be used in a real-world model to predict the results of future inspections._"
      ]
    },
    {
      "cell_type": "markdown",
      "metadata": {
        "id": "PUWgLvPbUMzv",
        "colab_type": "text"
      },
      "source": [
        "#### Preliminary Exploration"
      ]
    },
    {
      "cell_type": "code",
      "metadata": {
        "id": "f2yzYBhVURvK",
        "colab_type": "code",
        "colab": {}
      },
      "source": [
        "!pip install category-encoders\n",
        "!pip install eli5\n",
        "!pip install shap"
      ],
      "execution_count": 0,
      "outputs": []
    },
    {
      "cell_type": "code",
      "metadata": {
        "id": "VtI4q9IGUIog",
        "colab_type": "code",
        "colab": {
          "base_uri": "https://localhost:8080/",
          "height": 102
        },
        "outputId": "578de3fe-1004-4e82-b0a0-5fe2a51077f2"
      },
      "source": [
        "train.columns"
      ],
      "execution_count": 3,
      "outputs": [
        {
          "output_type": "execute_result",
          "data": {
            "text/plain": [
              "Index(['Inspection ID', 'DBA Name', 'AKA Name', 'License #', 'Facility Type',\n",
              "       'Risk', 'Address', 'City', 'State', 'Zip', 'Inspection Date',\n",
              "       'Inspection Type', 'Violations', 'Latitude', 'Longitude', 'Location',\n",
              "       'Fail'],\n",
              "      dtype='object')"
            ]
          },
          "metadata": {
            "tags": []
          },
          "execution_count": 3
        }
      ]
    },
    {
      "cell_type": "code",
      "metadata": {
        "id": "SkFjKIkVZ3P-",
        "colab_type": "code",
        "colab": {
          "base_uri": "https://localhost:8080/",
          "height": 323
        },
        "outputId": "064682e6-361f-4151-8141-1e6c6072a04e"
      },
      "source": [
        "train.isnull().sum()"
      ],
      "execution_count": 51,
      "outputs": [
        {
          "output_type": "execute_result",
          "data": {
            "text/plain": [
              "Inspection ID        0\n",
              "DBA Name             0\n",
              "AKA Name           623\n",
              "License #            5\n",
              "Facility Type      224\n",
              "Risk                12\n",
              "Address              0\n",
              "City                53\n",
              "State               10\n",
              "Zip                 26\n",
              "Inspection Date      0\n",
              "Inspection Type      1\n",
              "Violations           0\n",
              "Latitude           198\n",
              "Longitude          198\n",
              "Location           198\n",
              "Fail                 0\n",
              "dtype: int64"
            ]
          },
          "metadata": {
            "tags": []
          },
          "execution_count": 51
        }
      ]
    },
    {
      "cell_type": "code",
      "metadata": {
        "id": "KgR7QksyfFSl",
        "colab_type": "code",
        "colab": {
          "base_uri": "https://localhost:8080/",
          "height": 1071
        },
        "outputId": "40b55ab7-c1f5-4997-de36-489b2f7c564b"
      },
      "source": [
        "train['Facility Type'].value_counts()"
      ],
      "execution_count": 91,
      "outputs": [
        {
          "output_type": "execute_result",
          "data": {
            "text/plain": [
              "Restaurant                           34235\n",
              "Grocery Store                         6889\n",
              "School                                3876\n",
              "Bakery                                 842\n",
              "Daycare (2 - 6 Years)                  830\n",
              "Children's Services Facility           802\n",
              "Daycare Above and Under 2 Years        656\n",
              "Long Term Care                         394\n",
              "Catering                               304\n",
              "Mobile Food Dispenser                  278\n",
              "Liquor                                 260\n",
              "Daycare Combo 1586                     227\n",
              "Wholesale                              199\n",
              "Golden Diner                           162\n",
              "Mobile Food Preparer                   159\n",
              "Hospital                               141\n",
              "TAVERN                                  87\n",
              "Shared Kitchen User (Long Term)         68\n",
              "Daycare (Under 2 Years)                 65\n",
              "Special Event                           60\n",
              "GAS STATION                             33\n",
              "KIOSK                                   33\n",
              "BANQUET HALL                            30\n",
              "Shelter                                 29\n",
              "Shared Kitchen                          26\n",
              "Mobile Prepared Food Vendor             25\n",
              "LIVE POULTRY                            19\n",
              "Navy Pier Kiosk                         19\n",
              "GROCERY/RESTAURANT                      17\n",
              "Daycare (2 Years)                       16\n",
              "                                     ...  \n",
              "CELL PHONE STORE                         1\n",
              "GAS STATION /SUBWAY MINI MART.           1\n",
              "CHINESE HERBS                            1\n",
              "HERBAL                                   1\n",
              "SOUP KITCHEN                             1\n",
              "HOSTEL                                   1\n",
              "GROCERY/DRUG STORE                       1\n",
              "UNUSED STORAGE                           1\n",
              "HERBALIFE STORE                          1\n",
              "DOLLAR & GROCERY STORE                   1\n",
              "EVENT VENU                               1\n",
              "1023 CHILDREN'S SERVICES FACILITY        1\n",
              "Other                                    1\n",
              "WHOLESALE BAKERY                         1\n",
              "GOLF COURSE                              1\n",
              "1584-DAY CARE ABOVE 2 YEARS              1\n",
              "donut shop                               1\n",
              "LINITED BUSINESS                         1\n",
              "SUMMER FEEDING PREP AREA                 1\n",
              "CHURCH/SPECIAL EVENT                     1\n",
              "ROOFTOP PATIO                            1\n",
              "newsstand                                1\n",
              "BAR/GRILL                                1\n",
              "DOLLAR STORE SELLING GROCERY             1\n",
              "School Cafeteria                         1\n",
              "URBAN FARM                               1\n",
              "CONVENIENT STORE                         1\n",
              "GOLF COURSE CONNCESSION STAND            1\n",
              "CHARTER SCHOOL CAFETERIA                 1\n",
              "warehouse                                1\n",
              "Name: Facility Type, Length: 325, dtype: int64"
            ]
          },
          "metadata": {
            "tags": []
          },
          "execution_count": 91
        }
      ]
    },
    {
      "cell_type": "code",
      "metadata": {
        "id": "nEm0JdGWfYlf",
        "colab_type": "code",
        "colab": {
          "base_uri": "https://localhost:8080/",
          "height": 680
        },
        "outputId": "14143554-0708-4278-cef2-cd2f2c0e1ec8"
      },
      "source": [
        "train.City.value_counts()"
      ],
      "execution_count": 95,
      "outputs": [
        {
          "output_type": "execute_result",
          "data": {
            "text/plain": [
              "CHICAGO              51427\n",
              "Chicago                 88\n",
              "chicago                 34\n",
              "CCHICAGO                16\n",
              "SCHAUMBURG               6\n",
              "CHicago                  5\n",
              "ELK GROVE VILLAGE        4\n",
              "MAYWOOD                  4\n",
              "CHESTNUT STREET          3\n",
              "CICERO                   3\n",
              "OAK PARK                 2\n",
              "ROSEMONT                 2\n",
              "EAST HAZEL CREST         2\n",
              "SKOKIE                   2\n",
              "NAPERVILLE               2\n",
              "ELMHURST                 2\n",
              "ALSIP                    2\n",
              "NILES NILES              2\n",
              "CHICAGOCHICAGO           2\n",
              "EVANSTON                 1\n",
              "CHARLES A HAYES          1\n",
              "CHICAGO HEIGHTS          1\n",
              "HIGHLAND PARK            1\n",
              "BERWYN                   1\n",
              "BRIDGEVIEW               1\n",
              "CHICAGOHICAGO            1\n",
              "SCHILLER PARK            1\n",
              "BROADVIEW                1\n",
              "SUMMIT                   1\n",
              "TINLEY PARK              1\n",
              "WORTH                    1\n",
              "LAKE BLUFF               1\n",
              "CHCHICAGO                1\n",
              "CHICAGOI                 1\n",
              "BEDFORD PARK             1\n",
              "OLYMPIA FIELDS           1\n",
              "STREAMWOOD               1\n",
              "BOLINGBROOK              1\n",
              "Name: City, dtype: int64"
            ]
          },
          "metadata": {
            "tags": []
          },
          "execution_count": 95
        }
      ]
    },
    {
      "cell_type": "code",
      "metadata": {
        "id": "7f59Ti4ffgpR",
        "colab_type": "code",
        "colab": {
          "base_uri": "https://localhost:8080/",
          "height": 51
        },
        "outputId": "f2ccb2f6-bbbd-495d-baf3-59c14b9dec70"
      },
      "source": [
        "train.State.value_counts()"
      ],
      "execution_count": 97,
      "outputs": [
        {
          "output_type": "execute_result",
          "data": {
            "text/plain": [
              "IL    51627\n",
              "Name: State, dtype: int64"
            ]
          },
          "metadata": {
            "tags": []
          },
          "execution_count": 97
        }
      ]
    },
    {
      "cell_type": "code",
      "metadata": {
        "id": "7xRRRUq9X8IX",
        "colab_type": "code",
        "colab": {}
      },
      "source": [
        "import category_encoders as ce\n",
        "\n",
        "train = pd.read_csv(train_url)\n",
        "test  = pd.read_csv(test_url)\n",
        "\n",
        "def wrangle(df): \n",
        "  df = df.copy()\n",
        "  # Remove values that have too many options/don't provide helpful info\n",
        "  df = df.drop(columns = ['DBA Name', 'AKA Name', 'License #', 'Address', 'Location', 'City', 'State'])\n",
        "  \n",
        "  # Broken\n",
        "#   # Bin violations by type\n",
        "#   df.Violations = df.fillna(0)\n",
        "#   df.Violations = df.Violations.apply(str)\n",
        "#   print(df.sample(1).Violations)\n",
        "#   def clean_violation(entry):\n",
        "#       return int(entry.split('.')[0])\n",
        "#   df.Violations = df.Violations.apply(clean_violation)\n",
        "#   df.Violations = df.Violations.apply(int)\n",
        "  \n",
        "  #Rename risk categories:\n",
        "  risk_dict = {'Risk 1 (High)': 1, 'Risk 2 (Medium)': 2, 'Risk 3 (Low)': 3}\n",
        "  df.Risk = df.Risk.replace(risk_dict)\n",
        "  \n",
        "  features = ['Facility Type', 'Risk',  'Zip', 'Inspection Date', 'Inspection Type']\n",
        "  # Remove missing values\n",
        "  df = df.dropna()\n",
        "  \n",
        "  # One-hot encode risk\n",
        "  one_hot = pd.get_dummies(df['Risk'], prefix = 'Risk')\n",
        "  df = df.join(one_hot)\n",
        "  \n",
        "  df = df.drop(columns=[\"Risk\"])\n",
        "  \n",
        "  df['Inspection Date'] = pd.to_datetime(df['Inspection Date'])\n",
        "  \n",
        "  return df\n",
        "\n",
        "train = wrangle(train)\n",
        "test = wrangle(test)"
      ],
      "execution_count": 0,
      "outputs": []
    },
    {
      "cell_type": "code",
      "metadata": {
        "id": "VIvX43sRgevG",
        "colab_type": "code",
        "colab": {
          "base_uri": "https://localhost:8080/",
          "height": 595
        },
        "outputId": "043f09d9-7584-4523-affb-64bc168f693e"
      },
      "source": [
        "train['Inspection Type'].value_counts()"
      ],
      "execution_count": 119,
      "outputs": [
        {
          "output_type": "execute_result",
          "data": {
            "text/plain": [
              "Canvass                                   22972\n",
              "License                                    5082\n",
              "Complaint                                  4792\n",
              "Canvass Re-Inspection                      4363\n",
              "Complaint Re-Inspection                    1512\n",
              "Short Form Complaint                       1472\n",
              "License Re-Inspection                      1134\n",
              "Suspected Food Poisoning                    200\n",
              "Tag Removal                                 114\n",
              "Consultation                                104\n",
              "License-Task Force                           99\n",
              "Recent Inspection                            44\n",
              "Complaint-Fire                               42\n",
              "Suspected Food Poisoning Re-inspection       38\n",
              "Task Force Liquor 1475                       33\n",
              "Short Form Fire-Complaint                    22\n",
              "Special Events (Festivals)                   14\n",
              "Complaint-Fire Re-inspection                  9\n",
              "Package Liquor 1474                           4\n",
              "LICENSE RENEWAL FOR DAYCARE                   1\n",
              "KIDS CAFE                                     1\n",
              "SFP/COMPLAINT                                 1\n",
              "LICENSE DAYCARE 1586                          1\n",
              "SMOKING COMPLAINT                             1\n",
              "TWO PEOPLE ATE AND GOT SICK.                  1\n",
              "CANVASS/SPECIAL EVENT                         1\n",
              "REINSPECTION OF 48 HOUR NOTICE                1\n",
              "POSSIBLE FBI                                  1\n",
              "SPECIAL TASK FORCE                            1\n",
              "TAVERN 1470                                   1\n",
              "SFP/Complaint                                 1\n",
              "Pre-License Consultation                      1\n",
              "CANVASS SPECIAL EVENTS                        1\n",
              "Name: Inspection Type, dtype: int64"
            ]
          },
          "metadata": {
            "tags": []
          },
          "execution_count": 119
        }
      ]
    },
    {
      "cell_type": "markdown",
      "metadata": {
        "id": "5uJ6s0z-ZdVz",
        "colab_type": "text"
      },
      "source": [
        "##### NOT FINISHED"
      ]
    },
    {
      "cell_type": "code",
      "metadata": {
        "id": "iRCBslLqY8R9",
        "colab_type": "code",
        "colab": {}
      },
      "source": [
        "features = ['Facility Type', 'Risk', 'City', 'State', 'Zip', 'Inspection Date',\n",
        "       'Inspection Type', 'Violations', 'Latitude', 'Longitude', 'Location','Fail']"
      ],
      "execution_count": 0,
      "outputs": []
    },
    {
      "cell_type": "markdown",
      "metadata": {
        "id": "yUgpfHebUl_P",
        "colab_type": "text"
      },
      "source": [
        "**`Violations` is leaky; some of the `violation`s are immediate fails, so positive values there would indicate that the restaurant failed.**"
      ]
    },
    {
      "cell_type": "code",
      "metadata": {
        "id": "sg9IhJbpVAeC",
        "colab_type": "code",
        "colab": {}
      },
      "source": [
        "train.Violations = train.Violations.fillna(0)"
      ],
      "execution_count": 0,
      "outputs": []
    },
    {
      "cell_type": "code",
      "metadata": {
        "id": "R7LkCpK_YHDC",
        "colab_type": "code",
        "colab": {
          "base_uri": "https://localhost:8080/",
          "height": 142
        },
        "outputId": "831e9f4d-a51e-49a6-9a03-acf5b39724e8"
      },
      "source": [
        "pd.crosstab()"
      ],
      "execution_count": 49,
      "outputs": [
        {
          "output_type": "execute_result",
          "data": {
            "text/html": [
              "<div>\n",
              "<style scoped>\n",
              "    .dataframe tbody tr th:only-of-type {\n",
              "        vertical-align: middle;\n",
              "    }\n",
              "\n",
              "    .dataframe tbody tr th {\n",
              "        vertical-align: top;\n",
              "    }\n",
              "\n",
              "    .dataframe thead th {\n",
              "        text-align: right;\n",
              "    }\n",
              "</style>\n",
              "<table border=\"1\" class=\"dataframe\">\n",
              "  <thead>\n",
              "    <tr style=\"text-align: right;\">\n",
              "      <th></th>\n",
              "      <th>Zip</th>\n",
              "      <th>Latitude</th>\n",
              "      <th>Longitude</th>\n",
              "    </tr>\n",
              "    <tr>\n",
              "      <th>Fail</th>\n",
              "      <th></th>\n",
              "      <th></th>\n",
              "      <th></th>\n",
              "    </tr>\n",
              "  </thead>\n",
              "  <tbody>\n",
              "    <tr>\n",
              "      <th>0</th>\n",
              "      <td>2.332384e+09</td>\n",
              "      <td>1.605312e+06</td>\n",
              "      <td>-3.360755e+06</td>\n",
              "    </tr>\n",
              "    <tr>\n",
              "      <th>1</th>\n",
              "      <td>8.136463e+08</td>\n",
              "      <td>5.606158e+05</td>\n",
              "      <td>-1.173706e+06</td>\n",
              "    </tr>\n",
              "  </tbody>\n",
              "</table>\n",
              "</div>"
            ],
            "text/plain": [
              "               Zip      Latitude     Longitude\n",
              "Fail                                          \n",
              "0     2.332384e+09  1.605312e+06 -3.360755e+06\n",
              "1     8.136463e+08  5.606158e+05 -1.173706e+06"
            ]
          },
          "metadata": {
            "tags": []
          },
          "execution_count": 49
        }
      ]
    },
    {
      "cell_type": "code",
      "metadata": {
        "id": "Sb_4311gVjLP",
        "colab_type": "code",
        "colab": {}
      },
      "source": [
        "train.Violations.value_counts()"
      ],
      "execution_count": 0,
      "outputs": []
    },
    {
      "cell_type": "code",
      "metadata": {
        "id": "pCVW23TMV7l1",
        "colab_type": "code",
        "colab": {
          "base_uri": "https://localhost:8080/",
          "height": 102
        },
        "outputId": "f4fdf60f-5e58-4a5d-aab4-9f1f6315dff3"
      },
      "source": [
        "# Clean and replace values:\n",
        "def clean_violation(string):\n",
        "  return int(string.split('.')[0])\n",
        "\n"
      ],
      "execution_count": 31,
      "outputs": [
        {
          "output_type": "stream",
          "text": [
            "3\n",
            "32\n",
            "35\n",
            "38\n",
            "34\n"
          ],
          "name": "stdout"
        }
      ]
    },
    {
      "cell_type": "code",
      "metadata": {
        "id": "ClklMnQCVRUg",
        "colab_type": "code",
        "colab": {
          "base_uri": "https://localhost:8080/",
          "height": 68
        },
        "outputId": "4197f5da-9396-4c7c-9ef8-bccae693fd32"
      },
      "source": [
        "train[train.Violations!=0].Fail.value_counts()"
      ],
      "execution_count": 10,
      "outputs": [
        {
          "output_type": "execute_result",
          "data": {
            "text/plain": [
              "0    29939\n",
              "1    12322\n",
              "Name: Fail, dtype: int64"
            ]
          },
          "metadata": {
            "tags": []
          },
          "execution_count": 10
        }
      ]
    },
    {
      "cell_type": "markdown",
      "metadata": {
        "id": "KZxpSlyFUCMz",
        "colab_type": "text"
      },
      "source": [
        "\n",
        "### Part 2: Modeling\n",
        "\n",
        "**Fit a model** with the train set. (You may use scikit-learn, xgboost, or any other library.) **Use cross-validation** to **do hyperparameter optimization**, and **estimate your ROC AUC** validation score.\n",
        "\n",
        "Use your model to **predict probabilities** for the test set. **Get an ROC AUC test score >= 0.60.**\n",
        "\n",
        "_To earn a score of 3 for this part, get an ROC AUC test score >= 0.70 (without using the feature with leakage)._"
      ]
    },
    {
      "cell_type": "code",
      "metadata": {
        "id": "_-uhqnQkegWf",
        "colab_type": "code",
        "colab": {
          "base_uri": "https://localhost:8080/",
          "height": 85
        },
        "outputId": "6369f80f-38f1-47ca-8033-06d0f4ffe91a"
      },
      "source": [
        "train.columns"
      ],
      "execution_count": 104,
      "outputs": [
        {
          "output_type": "execute_result",
          "data": {
            "text/plain": [
              "Index(['Inspection ID', 'Facility Type', 'Zip', 'Inspection Date',\n",
              "       'Inspection Type', 'Violations', 'Latitude', 'Longitude', 'Fail',\n",
              "       'Risk_1.0', 'Risk_2.0', 'Risk_3.0'],\n",
              "      dtype='object')"
            ]
          },
          "metadata": {
            "tags": []
          },
          "execution_count": 104
        }
      ]
    },
    {
      "cell_type": "code",
      "metadata": {
        "id": "oIyk8YA4dhVr",
        "colab_type": "code",
        "colab": {}
      },
      "source": [
        "features = ['Risk_1.0', 'Risk_2.0', 'Risk_3.0', 'Zip']\n",
        "\n",
        "X_train = train[features].dropna()\n",
        "y_train = train['Fail'].dropna()\n",
        "\n",
        "X_test = test[features].dropna()\n",
        "y_test = test['Fail'].dropna()"
      ],
      "execution_count": 0,
      "outputs": []
    },
    {
      "cell_type": "code",
      "metadata": {
        "id": "JWOd8AUsgrhR",
        "colab_type": "code",
        "colab": {
          "base_uri": "https://localhost:8080/",
          "height": 102
        },
        "outputId": "cfa39afb-dcde-4c27-9536-2eec516e4e45"
      },
      "source": [
        "X_train.isnull().sum()"
      ],
      "execution_count": 121,
      "outputs": [
        {
          "output_type": "execute_result",
          "data": {
            "text/plain": [
              "Risk_1.0    0\n",
              "Risk_2.0    0\n",
              "Risk_3.0    0\n",
              "Zip         0\n",
              "dtype: int64"
            ]
          },
          "metadata": {
            "tags": []
          },
          "execution_count": 121
        }
      ]
    },
    {
      "cell_type": "code",
      "metadata": {
        "id": "l1Lzsmd1es68",
        "colab_type": "code",
        "colab": {
          "base_uri": "https://localhost:8080/",
          "height": 340
        },
        "outputId": "c76a584a-70ca-4ab5-885c-cb851b57f96b"
      },
      "source": [
        "from sklearn.model_selection import RandomizedSearchCV\n",
        "from sklearn.ensemble import RandomForestClassifier\n",
        "\n",
        "param_distributions = {\n",
        "    'n_estimators': [100, 200], \n",
        "    'max_depth': [4, 5], \n",
        "    'criterion': ['mse', 'mae']\n",
        "}\n",
        "\n",
        "gridsearch = RandomizedSearchCV(\n",
        "    RandomForestClassifier(n_jobs=-1, random_state=42), \n",
        "    param_distributions=param_distributions, \n",
        "    n_iter=8, \n",
        "    cv=3, \n",
        "    scoring='roc_auc', \n",
        "    verbose=10, \n",
        "    return_train_score=True, \n",
        "    n_jobs=-1\n",
        ")\n",
        "\n",
        "gridsearch.fit(X_train, y_train)"
      ],
      "execution_count": 122,
      "outputs": [
        {
          "output_type": "error",
          "ename": "ValueError",
          "evalue": "ignored",
          "traceback": [
            "\u001b[0;31m---------------------------------------------------------------------------\u001b[0m",
            "\u001b[0;31mValueError\u001b[0m                                Traceback (most recent call last)",
            "\u001b[0;32m<ipython-input-122-5b84f4b402db>\u001b[0m in \u001b[0;36m<module>\u001b[0;34m()\u001b[0m\n\u001b[1;32m     19\u001b[0m )\n\u001b[1;32m     20\u001b[0m \u001b[0;34m\u001b[0m\u001b[0m\n\u001b[0;32m---> 21\u001b[0;31m \u001b[0mgridsearch\u001b[0m\u001b[0;34m.\u001b[0m\u001b[0mfit\u001b[0m\u001b[0;34m(\u001b[0m\u001b[0mX_train\u001b[0m\u001b[0;34m,\u001b[0m \u001b[0my_train\u001b[0m\u001b[0;34m)\u001b[0m\u001b[0;34m\u001b[0m\u001b[0;34m\u001b[0m\u001b[0m\n\u001b[0m",
            "\u001b[0;32m/usr/local/lib/python3.6/dist-packages/sklearn/model_selection/_search.py\u001b[0m in \u001b[0;36mfit\u001b[0;34m(self, X, y, groups, **fit_params)\u001b[0m\n\u001b[1;32m    672\u001b[0m             \u001b[0mrefit_metric\u001b[0m \u001b[0;34m=\u001b[0m \u001b[0;34m'score'\u001b[0m\u001b[0;34m\u001b[0m\u001b[0;34m\u001b[0m\u001b[0m\n\u001b[1;32m    673\u001b[0m \u001b[0;34m\u001b[0m\u001b[0m\n\u001b[0;32m--> 674\u001b[0;31m         \u001b[0mX\u001b[0m\u001b[0;34m,\u001b[0m \u001b[0my\u001b[0m\u001b[0;34m,\u001b[0m \u001b[0mgroups\u001b[0m \u001b[0;34m=\u001b[0m \u001b[0mindexable\u001b[0m\u001b[0;34m(\u001b[0m\u001b[0mX\u001b[0m\u001b[0;34m,\u001b[0m \u001b[0my\u001b[0m\u001b[0;34m,\u001b[0m \u001b[0mgroups\u001b[0m\u001b[0;34m)\u001b[0m\u001b[0;34m\u001b[0m\u001b[0;34m\u001b[0m\u001b[0m\n\u001b[0m\u001b[1;32m    675\u001b[0m         \u001b[0mn_splits\u001b[0m \u001b[0;34m=\u001b[0m \u001b[0mcv\u001b[0m\u001b[0;34m.\u001b[0m\u001b[0mget_n_splits\u001b[0m\u001b[0;34m(\u001b[0m\u001b[0mX\u001b[0m\u001b[0;34m,\u001b[0m \u001b[0my\u001b[0m\u001b[0;34m,\u001b[0m \u001b[0mgroups\u001b[0m\u001b[0;34m)\u001b[0m\u001b[0;34m\u001b[0m\u001b[0;34m\u001b[0m\u001b[0m\n\u001b[1;32m    676\u001b[0m \u001b[0;34m\u001b[0m\u001b[0m\n",
            "\u001b[0;32m/usr/local/lib/python3.6/dist-packages/sklearn/utils/validation.py\u001b[0m in \u001b[0;36mindexable\u001b[0;34m(*iterables)\u001b[0m\n\u001b[1;32m    258\u001b[0m         \u001b[0;32melse\u001b[0m\u001b[0;34m:\u001b[0m\u001b[0;34m\u001b[0m\u001b[0;34m\u001b[0m\u001b[0m\n\u001b[1;32m    259\u001b[0m             \u001b[0mresult\u001b[0m\u001b[0;34m.\u001b[0m\u001b[0mappend\u001b[0m\u001b[0;34m(\u001b[0m\u001b[0mnp\u001b[0m\u001b[0;34m.\u001b[0m\u001b[0marray\u001b[0m\u001b[0;34m(\u001b[0m\u001b[0mX\u001b[0m\u001b[0;34m)\u001b[0m\u001b[0;34m)\u001b[0m\u001b[0;34m\u001b[0m\u001b[0;34m\u001b[0m\u001b[0m\n\u001b[0;32m--> 260\u001b[0;31m     \u001b[0mcheck_consistent_length\u001b[0m\u001b[0;34m(\u001b[0m\u001b[0;34m*\u001b[0m\u001b[0mresult\u001b[0m\u001b[0;34m)\u001b[0m\u001b[0;34m\u001b[0m\u001b[0;34m\u001b[0m\u001b[0m\n\u001b[0m\u001b[1;32m    261\u001b[0m     \u001b[0;32mreturn\u001b[0m \u001b[0mresult\u001b[0m\u001b[0;34m\u001b[0m\u001b[0;34m\u001b[0m\u001b[0m\n\u001b[1;32m    262\u001b[0m \u001b[0;34m\u001b[0m\u001b[0m\n",
            "\u001b[0;32m/usr/local/lib/python3.6/dist-packages/sklearn/utils/validation.py\u001b[0m in \u001b[0;36mcheck_consistent_length\u001b[0;34m(*arrays)\u001b[0m\n\u001b[1;32m    233\u001b[0m     \u001b[0;32mif\u001b[0m \u001b[0mlen\u001b[0m\u001b[0;34m(\u001b[0m\u001b[0muniques\u001b[0m\u001b[0;34m)\u001b[0m \u001b[0;34m>\u001b[0m \u001b[0;36m1\u001b[0m\u001b[0;34m:\u001b[0m\u001b[0;34m\u001b[0m\u001b[0;34m\u001b[0m\u001b[0m\n\u001b[1;32m    234\u001b[0m         raise ValueError(\"Found input variables with inconsistent numbers of\"\n\u001b[0;32m--> 235\u001b[0;31m                          \" samples: %r\" % [int(l) for l in lengths])\n\u001b[0m\u001b[1;32m    236\u001b[0m \u001b[0;34m\u001b[0m\u001b[0m\n\u001b[1;32m    237\u001b[0m \u001b[0;34m\u001b[0m\u001b[0m\n",
            "\u001b[0;31mValueError\u001b[0m: Found input variables with inconsistent numbers of samples: [51660, 51916]"
          ]
        }
      ]
    },
    {
      "cell_type": "code",
      "metadata": {
        "id": "5ExlVH0Ae3NM",
        "colab_type": "code",
        "colab": {}
      },
      "source": [
        ""
      ],
      "execution_count": 0,
      "outputs": []
    },
    {
      "cell_type": "markdown",
      "metadata": {
        "id": "p9vRcoMEUE3d",
        "colab_type": "text"
      },
      "source": [
        "### Part 3: Visualization\n",
        "\n",
        "Make one visualization for model interpretation. (You may use any libraries.) Choose one of these types:\n",
        "\n",
        "- Feature Importances\n",
        "- Permutation Importances\n",
        "- Partial Dependence Plot\n",
        "- Shapley Values\n",
        "\n",
        "_To earn a score of 3 for this part, make at least two of these visualization types._"
      ]
    },
    {
      "cell_type": "markdown",
      "metadata": {
        "id": "chyi5gHjUHBH",
        "colab_type": "text"
      },
      "source": [
        "### Part 4: Gradient Descent\n",
        "\n",
        "Answer both of these two questions:\n",
        "\n",
        "- What does Gradient Descent seek to minimize?\n",
        "- What is the \"Learning Rate\" and what is its function?\n",
        "\n",
        "One sentence is sufficient for each.\n",
        "\n",
        "_To earn a score of 3 for this part, go above and beyond. Show depth of understanding and mastery of intuition in your answers._"
      ]
    },
    {
      "cell_type": "markdown",
      "metadata": {
        "id": "1jWDp3B3hbkB",
        "colab_type": "text"
      },
      "source": [
        "1. Gradent descent seeks to minimize a cost function for a given problem by locating the direction of steepest descent (along the negative gradient) and traveling in that direction.\n",
        "\n",
        "2. The learning rate determines how much to scale the gradient when iterating through the GD algorithm. For example, a learning rate of 0.1 would indicate that we would travel in the direction of the negative gradient with a length of 0.1 times the original gradient length."
      ]
    }
  ]
}