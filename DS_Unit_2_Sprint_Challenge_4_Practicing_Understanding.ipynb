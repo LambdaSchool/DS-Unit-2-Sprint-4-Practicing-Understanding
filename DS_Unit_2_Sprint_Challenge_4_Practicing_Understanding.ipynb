{
 "cells": [
  {
   "cell_type": "markdown",
   "metadata": {},
   "source": [
    "_Lambda School Data Science Unit 2_\n",
    " \n",
    " # Sprint Challenge: Practicing & Understanding Predictive Modeling"
   ]
  },
  {
   "cell_type": "markdown",
   "metadata": {},
   "source": [
    "### Chicago Food Inspections\n",
    "\n",
    "For this Sprint Challenge, you'll use a dataset with information from inspections of restaurants and other food establishments in Chicago from January 2010 to March 2019. \n",
    "\n",
    "[See this PDF](https://data.cityofchicago.org/api/assets/BAD5301B-681A-4202-9D25-51B2CAE672FF) for descriptions of the data elements included in this dataset.\n",
    "\n",
    "According to [Chicago Department of Public Health — Food Protection Services](https://www.chicago.gov/city/en/depts/cdph/provdrs/healthy_restaurants/svcs/food-protection-services.html), \"Chicago is home to 16,000 food establishments like restaurants, grocery stores, bakeries, wholesalers, lunchrooms, mobile food vendors and more. Our business is food safety and sanitation with one goal, to prevent the spread of food-borne disease. We do this by inspecting food businesses, responding to complaints and food recalls.\" "
   ]
  },
  {
   "cell_type": "markdown",
   "metadata": {},
   "source": [
    "#### Your challenge: Predict whether inspections failed\n",
    "\n",
    "The target is the `Fail` column.\n",
    "\n",
    "- When the food establishment failed the inspection, the target is `1`.\n",
    "- When the establishment passed, the target is `0`."
   ]
  },
  {
   "cell_type": "markdown",
   "metadata": {},
   "source": [
    "#### Run this cell to load the data:"
   ]
  },
  {
   "cell_type": "code",
   "execution_count": 1,
   "metadata": {},
   "outputs": [],
   "source": [
    "import pandas as pd\n",
    "\n",
    "train_url = 'https://drive.google.com/uc?export=download&id=13_tP9JpLcZHSPVpWcua4t2rY44K_s4H5'\n",
    "test_url  = 'https://drive.google.com/uc?export=download&id=1GkDHjsiGrzOXoF_xcYjdzBTSjOIi3g5a'\n",
    "\n",
    "train = pd.read_csv(train_url)\n",
    "test  = pd.read_csv(test_url)\n",
    "\n",
    "assert train.shape == (51916, 17)\n",
    "assert test.shape  == (17306, 17)"
   ]
  },
  {
   "cell_type": "markdown",
   "metadata": {},
   "source": [
    "### Part 1: Preprocessing\n",
    "\n",
    "You may choose which features you want to use, and whether/how you will preprocess them. If you use categorical features, you may use any tools and techniques for encoding. (Pandas, category_encoders, sklearn.preprocessing, or any other library.)\n",
    "\n",
    "_To earn a score of 3 for this part, find and explain leakage. The dataset has a feature that will give you an ROC AUC score > 0.90 if you process and use the feature. Find the leakage and explain why the feature shouldn't be used in a real-world model to predict the results of future inspections._\n",
    "\n",
    "### Part 2: Modeling\n",
    "\n",
    "**Fit a model** with the train set. (You may use scikit-learn, xgboost, or any other library.) **Use cross-validation** to **do hyperparameter optimization**, and **estimate your ROC AUC** validation score.\n",
    "\n",
    "Use your model to **predict probabilities** for the test set. **Get an ROC AUC test score >= 0.60.**\n",
    "\n",
    "_To earn a score of 3 for this part, get an ROC AUC test score >= 0.70 (without using the feature with leakage)._\n",
    "\n",
    "\n",
    "### Part 3: Visualization\n",
    "\n",
    "Make one visualization for model interpretation. (You may use any libraries.) Choose one of these types:\n",
    "\n",
    "- Feature Importances\n",
    "- Permutation Importances\n",
    "- Partial Dependence Plot\n",
    "- Shapley Values\n",
    "\n",
    "_To earn a score of 3 for this part, make at least two of these visualization types._\n",
    "\n",
    "### Part 4: Gradient Descent\n",
    "\n",
    "Answer both of these two questions:\n",
    "\n",
    "- What does Gradient Descent seek to minimize?\n",
    "- What is the \"Learning Rate\" and what is its function?\n",
    "\n",
    "One sentence is sufficient for each.\n",
    "\n",
    "_To earn a score of 3 for this part, go above and beyond. Show depth of understanding and mastery of intuition in your answers._"
   ]
  },
  {
   "cell_type": "markdown",
   "metadata": {},
   "source": [
    "# 1. PreProcessing"
   ]
  },
  {
   "cell_type": "code",
   "execution_count": 2,
   "metadata": {},
   "outputs": [],
   "source": [
    "import numpy as np\n",
    "import pandas as pd\n",
    "import matplotlib.pyplot as plt\n",
    "import category_encoders as ce\n"
   ]
  },
  {
   "cell_type": "code",
   "execution_count": 3,
   "metadata": {},
   "outputs": [
    {
     "data": {
      "text/plain": [
       "Index(['Inspection ID', 'DBA Name', 'AKA Name', 'License #', 'Facility Type',\n",
       "       'Risk', 'Address', 'City', 'State', 'Zip', 'Inspection Date',\n",
       "       'Inspection Type', 'Violations', 'Latitude', 'Longitude', 'Location',\n",
       "       'Fail'],\n",
       "      dtype='object')"
      ]
     },
     "execution_count": 3,
     "metadata": {},
     "output_type": "execute_result"
    }
   ],
   "source": [
    "train.columns\n"
   ]
  },
  {
   "cell_type": "code",
   "execution_count": 4,
   "metadata": {},
   "outputs": [],
   "source": [
    "train['Zip'] = train['Zip'].ffill()"
   ]
  },
  {
   "cell_type": "code",
   "execution_count": 5,
   "metadata": {},
   "outputs": [
    {
     "data": {
      "text/plain": [
       "False    51916\n",
       "Name: Zip, dtype: int64"
      ]
     },
     "execution_count": 5,
     "metadata": {},
     "output_type": "execute_result"
    }
   ],
   "source": [
    "train['Zip'].isnull().value_counts()"
   ]
  },
  {
   "cell_type": "code",
   "execution_count": 6,
   "metadata": {},
   "outputs": [
    {
     "data": {
      "text/html": [
       "<div>\n",
       "<style scoped>\n",
       "    .dataframe tbody tr th:only-of-type {\n",
       "        vertical-align: middle;\n",
       "    }\n",
       "\n",
       "    .dataframe tbody tr th {\n",
       "        vertical-align: top;\n",
       "    }\n",
       "\n",
       "    .dataframe thead th {\n",
       "        text-align: right;\n",
       "    }\n",
       "</style>\n",
       "<table border=\"1\" class=\"dataframe\">\n",
       "  <thead>\n",
       "    <tr style=\"text-align: right;\">\n",
       "      <th></th>\n",
       "      <th>Inspection ID</th>\n",
       "      <th>DBA Name</th>\n",
       "      <th>AKA Name</th>\n",
       "      <th>License #</th>\n",
       "      <th>Facility Type</th>\n",
       "      <th>Risk</th>\n",
       "      <th>Address</th>\n",
       "      <th>City</th>\n",
       "      <th>State</th>\n",
       "      <th>Zip</th>\n",
       "      <th>Inspection Date</th>\n",
       "      <th>Inspection Type</th>\n",
       "      <th>Violations</th>\n",
       "      <th>Latitude</th>\n",
       "      <th>Longitude</th>\n",
       "      <th>Location</th>\n",
       "      <th>Fail</th>\n",
       "    </tr>\n",
       "  </thead>\n",
       "  <tbody>\n",
       "    <tr>\n",
       "      <th>0</th>\n",
       "      <td>2088270</td>\n",
       "      <td>TOM YUM RICE &amp; NOODLE, INC.</td>\n",
       "      <td>TOM YUM CAFE</td>\n",
       "      <td>2354911.0</td>\n",
       "      <td>Restaurant</td>\n",
       "      <td>Risk 1 (High)</td>\n",
       "      <td>608 W BARRY</td>\n",
       "      <td>CHICAGO</td>\n",
       "      <td>IL</td>\n",
       "      <td>60657.0</td>\n",
       "      <td>2017-09-15T00:00:00</td>\n",
       "      <td>Canvass</td>\n",
       "      <td>3. POTENTIALLY HAZARDOUS FOOD MEETS TEMPERATUR...</td>\n",
       "      <td>41.938007</td>\n",
       "      <td>-87.644755</td>\n",
       "      <td>{'longitude': '-87.6447545707008', 'latitude':...</td>\n",
       "      <td>1</td>\n",
       "    </tr>\n",
       "    <tr>\n",
       "      <th>1</th>\n",
       "      <td>555268</td>\n",
       "      <td>FILLING STATION  &amp; CONVENIENCE  STORE</td>\n",
       "      <td>FILLING STATION  &amp; CONVENIENCE  STORE</td>\n",
       "      <td>1044901.0</td>\n",
       "      <td>Grocery Store</td>\n",
       "      <td>Risk 3 (Low)</td>\n",
       "      <td>6646-6658 S WESTERN AVE</td>\n",
       "      <td>CHICAGO</td>\n",
       "      <td>IL</td>\n",
       "      <td>60636.0</td>\n",
       "      <td>2011-10-20T00:00:00</td>\n",
       "      <td>Complaint Re-Inspection</td>\n",
       "      <td>32. FOOD AND NON-FOOD CONTACT SURFACES PROPERL...</td>\n",
       "      <td>41.772402</td>\n",
       "      <td>-87.683603</td>\n",
       "      <td>{'longitude': '-87.68360273081268', 'latitude'...</td>\n",
       "      <td>0</td>\n",
       "    </tr>\n",
       "    <tr>\n",
       "      <th>2</th>\n",
       "      <td>1751394</td>\n",
       "      <td>A P DELI</td>\n",
       "      <td>A P DELI</td>\n",
       "      <td>47405.0</td>\n",
       "      <td>Restaurant</td>\n",
       "      <td>Risk 1 (High)</td>\n",
       "      <td>2025 E 75TH ST</td>\n",
       "      <td>CHICAGO</td>\n",
       "      <td>IL</td>\n",
       "      <td>60649.0</td>\n",
       "      <td>2016-04-05T00:00:00</td>\n",
       "      <td>Canvass Re-Inspection</td>\n",
       "      <td>35. WALLS, CEILINGS, ATTACHED EQUIPMENT CONSTR...</td>\n",
       "      <td>41.758779</td>\n",
       "      <td>-87.575054</td>\n",
       "      <td>{'longitude': '-87.57505446746121', 'latitude'...</td>\n",
       "      <td>0</td>\n",
       "    </tr>\n",
       "    <tr>\n",
       "      <th>3</th>\n",
       "      <td>1763905</td>\n",
       "      <td>FRANK'S CHICAGO SHRIMP HOUSE</td>\n",
       "      <td>FRANK'S CHICAGO SHRIMP HOUSE</td>\n",
       "      <td>6414.0</td>\n",
       "      <td>Restaurant</td>\n",
       "      <td>Risk 2 (Medium)</td>\n",
       "      <td>4459 S ARCHER AVE</td>\n",
       "      <td>CHICAGO</td>\n",
       "      <td>IL</td>\n",
       "      <td>60632.0</td>\n",
       "      <td>2016-04-29T00:00:00</td>\n",
       "      <td>Canvass</td>\n",
       "      <td>38. VENTILATION: ROOMS AND EQUIPMENT VENTED AS...</td>\n",
       "      <td>41.812181</td>\n",
       "      <td>-87.707125</td>\n",
       "      <td>{'longitude': '-87.70712481334274', 'latitude'...</td>\n",
       "      <td>0</td>\n",
       "    </tr>\n",
       "    <tr>\n",
       "      <th>4</th>\n",
       "      <td>453326</td>\n",
       "      <td>MORRILL</td>\n",
       "      <td>MORRILL</td>\n",
       "      <td>24571.0</td>\n",
       "      <td>School</td>\n",
       "      <td>Risk 1 (High)</td>\n",
       "      <td>6011 S Rockwell (2600W) AVE</td>\n",
       "      <td>CHICAGO</td>\n",
       "      <td>IL</td>\n",
       "      <td>60629.0</td>\n",
       "      <td>2011-01-10T00:00:00</td>\n",
       "      <td>Canvass</td>\n",
       "      <td>34. FLOORS: CONSTRUCTED PER CODE, CLEANED, GOO...</td>\n",
       "      <td>NaN</td>\n",
       "      <td>NaN</td>\n",
       "      <td>NaN</td>\n",
       "      <td>0</td>\n",
       "    </tr>\n",
       "  </tbody>\n",
       "</table>\n",
       "</div>"
      ],
      "text/plain": [
       "   Inspection ID                               DBA Name  \\\n",
       "0        2088270            TOM YUM RICE & NOODLE, INC.   \n",
       "1         555268  FILLING STATION  & CONVENIENCE  STORE   \n",
       "2        1751394                               A P DELI   \n",
       "3        1763905           FRANK'S CHICAGO SHRIMP HOUSE   \n",
       "4         453326                                MORRILL   \n",
       "\n",
       "                                AKA Name  License #  Facility Type  \\\n",
       "0                           TOM YUM CAFE  2354911.0     Restaurant   \n",
       "1  FILLING STATION  & CONVENIENCE  STORE  1044901.0  Grocery Store   \n",
       "2                               A P DELI    47405.0     Restaurant   \n",
       "3           FRANK'S CHICAGO SHRIMP HOUSE     6414.0     Restaurant   \n",
       "4                                MORRILL    24571.0         School   \n",
       "\n",
       "              Risk                       Address     City State      Zip  \\\n",
       "0    Risk 1 (High)                  608 W BARRY   CHICAGO    IL  60657.0   \n",
       "1     Risk 3 (Low)      6646-6658 S WESTERN AVE   CHICAGO    IL  60636.0   \n",
       "2    Risk 1 (High)               2025 E 75TH ST   CHICAGO    IL  60649.0   \n",
       "3  Risk 2 (Medium)            4459 S ARCHER AVE   CHICAGO    IL  60632.0   \n",
       "4    Risk 1 (High)  6011 S Rockwell (2600W) AVE   CHICAGO    IL  60629.0   \n",
       "\n",
       "       Inspection Date          Inspection Type  \\\n",
       "0  2017-09-15T00:00:00                  Canvass   \n",
       "1  2011-10-20T00:00:00  Complaint Re-Inspection   \n",
       "2  2016-04-05T00:00:00    Canvass Re-Inspection   \n",
       "3  2016-04-29T00:00:00                  Canvass   \n",
       "4  2011-01-10T00:00:00                  Canvass   \n",
       "\n",
       "                                          Violations   Latitude  Longitude  \\\n",
       "0  3. POTENTIALLY HAZARDOUS FOOD MEETS TEMPERATUR...  41.938007 -87.644755   \n",
       "1  32. FOOD AND NON-FOOD CONTACT SURFACES PROPERL...  41.772402 -87.683603   \n",
       "2  35. WALLS, CEILINGS, ATTACHED EQUIPMENT CONSTR...  41.758779 -87.575054   \n",
       "3  38. VENTILATION: ROOMS AND EQUIPMENT VENTED AS...  41.812181 -87.707125   \n",
       "4  34. FLOORS: CONSTRUCTED PER CODE, CLEANED, GOO...        NaN        NaN   \n",
       "\n",
       "                                            Location  Fail  \n",
       "0  {'longitude': '-87.6447545707008', 'latitude':...     1  \n",
       "1  {'longitude': '-87.68360273081268', 'latitude'...     0  \n",
       "2  {'longitude': '-87.57505446746121', 'latitude'...     0  \n",
       "3  {'longitude': '-87.70712481334274', 'latitude'...     0  \n",
       "4                                                NaN     0  "
      ]
     },
     "execution_count": 6,
     "metadata": {},
     "output_type": "execute_result"
    }
   ],
   "source": [
    "train.head()"
   ]
  },
  {
   "cell_type": "code",
   "execution_count": 7,
   "metadata": {},
   "outputs": [],
   "source": [
    "X_train = train.drop('Fail', axis=1)\n",
    "y_train = train['Fail']\n",
    "\n",
    "X_test = test.drop('Fail', axis=1)\n",
    "y_test = test['Fail']"
   ]
  },
  {
   "cell_type": "code",
   "execution_count": null,
   "metadata": {},
   "outputs": [],
   "source": []
  },
  {
   "cell_type": "code",
   "execution_count": 8,
   "metadata": {},
   "outputs": [
    {
     "data": {
      "text/html": [
       "<div>\n",
       "<style scoped>\n",
       "    .dataframe tbody tr th:only-of-type {\n",
       "        vertical-align: middle;\n",
       "    }\n",
       "\n",
       "    .dataframe tbody tr th {\n",
       "        vertical-align: top;\n",
       "    }\n",
       "\n",
       "    .dataframe thead th {\n",
       "        text-align: right;\n",
       "    }\n",
       "</style>\n",
       "<table border=\"1\" class=\"dataframe\">\n",
       "  <thead>\n",
       "    <tr style=\"text-align: right;\">\n",
       "      <th></th>\n",
       "      <th>count</th>\n",
       "      <th>unique</th>\n",
       "      <th>top</th>\n",
       "      <th>freq</th>\n",
       "    </tr>\n",
       "  </thead>\n",
       "  <tbody>\n",
       "    <tr>\n",
       "      <th>State</th>\n",
       "      <td>51906</td>\n",
       "      <td>1</td>\n",
       "      <td>IL</td>\n",
       "      <td>51906</td>\n",
       "    </tr>\n",
       "    <tr>\n",
       "      <th>Risk</th>\n",
       "      <td>51904</td>\n",
       "      <td>3</td>\n",
       "      <td>Risk 1 (High)</td>\n",
       "      <td>37731</td>\n",
       "    </tr>\n",
       "    <tr>\n",
       "      <th>City</th>\n",
       "      <td>51863</td>\n",
       "      <td>39</td>\n",
       "      <td>CHICAGO</td>\n",
       "      <td>51659</td>\n",
       "    </tr>\n",
       "    <tr>\n",
       "      <th>Inspection Type</th>\n",
       "      <td>51915</td>\n",
       "      <td>51</td>\n",
       "      <td>Canvass</td>\n",
       "      <td>24170</td>\n",
       "    </tr>\n",
       "    <tr>\n",
       "      <th>Facility Type</th>\n",
       "      <td>51692</td>\n",
       "      <td>329</td>\n",
       "      <td>Restaurant</td>\n",
       "      <td>34264</td>\n",
       "    </tr>\n",
       "    <tr>\n",
       "      <th>Inspection Date</th>\n",
       "      <td>51916</td>\n",
       "      <td>2257</td>\n",
       "      <td>2017-03-23T00:00:00</td>\n",
       "      <td>50</td>\n",
       "    </tr>\n",
       "    <tr>\n",
       "      <th>Location</th>\n",
       "      <td>51718</td>\n",
       "      <td>13410</td>\n",
       "      <td>{'longitude': '-87.91442843927047', 'latitude'...</td>\n",
       "      <td>741</td>\n",
       "    </tr>\n",
       "    <tr>\n",
       "      <th>Address</th>\n",
       "      <td>51916</td>\n",
       "      <td>13954</td>\n",
       "      <td>11601 W TOUHY AVE</td>\n",
       "      <td>741</td>\n",
       "    </tr>\n",
       "    <tr>\n",
       "      <th>AKA Name</th>\n",
       "      <td>51293</td>\n",
       "      <td>16350</td>\n",
       "      <td>SUBWAY</td>\n",
       "      <td>802</td>\n",
       "    </tr>\n",
       "    <tr>\n",
       "      <th>DBA Name</th>\n",
       "      <td>51916</td>\n",
       "      <td>17049</td>\n",
       "      <td>SUBWAY</td>\n",
       "      <td>654</td>\n",
       "    </tr>\n",
       "    <tr>\n",
       "      <th>Violations</th>\n",
       "      <td>42261</td>\n",
       "      <td>42164</td>\n",
       "      <td>38. VENTILATION: ROOMS AND EQUIPMENT VENTED AS...</td>\n",
       "      <td>3</td>\n",
       "    </tr>\n",
       "  </tbody>\n",
       "</table>\n",
       "</div>"
      ],
      "text/plain": [
       "                 count unique  \\\n",
       "State            51906      1   \n",
       "Risk             51904      3   \n",
       "City             51863     39   \n",
       "Inspection Type  51915     51   \n",
       "Facility Type    51692    329   \n",
       "Inspection Date  51916   2257   \n",
       "Location         51718  13410   \n",
       "Address          51916  13954   \n",
       "AKA Name         51293  16350   \n",
       "DBA Name         51916  17049   \n",
       "Violations       42261  42164   \n",
       "\n",
       "                                                               top   freq  \n",
       "State                                                           IL  51906  \n",
       "Risk                                                 Risk 1 (High)  37731  \n",
       "City                                                       CHICAGO  51659  \n",
       "Inspection Type                                            Canvass  24170  \n",
       "Facility Type                                           Restaurant  34264  \n",
       "Inspection Date                                2017-03-23T00:00:00     50  \n",
       "Location         {'longitude': '-87.91442843927047', 'latitude'...    741  \n",
       "Address                                         11601 W TOUHY AVE     741  \n",
       "AKA Name                                                    SUBWAY    802  \n",
       "DBA Name                                                    SUBWAY    654  \n",
       "Violations       38. VENTILATION: ROOMS AND EQUIPMENT VENTED AS...      3  "
      ]
     },
     "execution_count": 8,
     "metadata": {},
     "output_type": "execute_result"
    }
   ],
   "source": [
    "X_train.describe(exclude='number').T.sort_values(by='unique')"
   ]
  },
  {
   "cell_type": "code",
   "execution_count": 9,
   "metadata": {},
   "outputs": [],
   "source": [
    "feature = ['Risk', 'City', 'Inspection Type', 'Facility Type']"
   ]
  },
  {
   "cell_type": "code",
   "execution_count": 10,
   "metadata": {},
   "outputs": [
    {
     "name": "stdout",
     "output_type": "stream",
     "text": [
      "1 column, Risk                 4\n",
      "City                40\n",
      "Inspection Type     52\n",
      "Facility Type      330\n",
      "dtype: int64 unique values\n"
     ]
    },
    {
     "data": {
      "text/html": [
       "<div>\n",
       "<style scoped>\n",
       "    .dataframe tbody tr th:only-of-type {\n",
       "        vertical-align: middle;\n",
       "    }\n",
       "\n",
       "    .dataframe tbody tr th {\n",
       "        vertical-align: top;\n",
       "    }\n",
       "\n",
       "    .dataframe thead th {\n",
       "        text-align: right;\n",
       "    }\n",
       "</style>\n",
       "<table border=\"1\" class=\"dataframe\">\n",
       "  <thead>\n",
       "    <tr style=\"text-align: right;\">\n",
       "      <th></th>\n",
       "      <th>Risk</th>\n",
       "      <th>City</th>\n",
       "      <th>Inspection Type</th>\n",
       "      <th>Facility Type</th>\n",
       "    </tr>\n",
       "  </thead>\n",
       "  <tbody>\n",
       "    <tr>\n",
       "      <th>0</th>\n",
       "      <td>1</td>\n",
       "      <td>1</td>\n",
       "      <td>1</td>\n",
       "      <td>1</td>\n",
       "    </tr>\n",
       "    <tr>\n",
       "      <th>1</th>\n",
       "      <td>2</td>\n",
       "      <td>1</td>\n",
       "      <td>2</td>\n",
       "      <td>2</td>\n",
       "    </tr>\n",
       "    <tr>\n",
       "      <th>2</th>\n",
       "      <td>1</td>\n",
       "      <td>1</td>\n",
       "      <td>3</td>\n",
       "      <td>1</td>\n",
       "    </tr>\n",
       "    <tr>\n",
       "      <th>3</th>\n",
       "      <td>3</td>\n",
       "      <td>1</td>\n",
       "      <td>1</td>\n",
       "      <td>1</td>\n",
       "    </tr>\n",
       "    <tr>\n",
       "      <th>4</th>\n",
       "      <td>1</td>\n",
       "      <td>1</td>\n",
       "      <td>1</td>\n",
       "      <td>3</td>\n",
       "    </tr>\n",
       "  </tbody>\n",
       "</table>\n",
       "</div>"
      ],
      "text/plain": [
       "   Risk  City  Inspection Type  Facility Type\n",
       "0     1     1                1              1\n",
       "1     2     1                2              2\n",
       "2     1     1                3              1\n",
       "3     3     1                1              1\n",
       "4     1     1                1              3"
      ]
     },
     "execution_count": 10,
     "metadata": {},
     "output_type": "execute_result"
    }
   ],
   "source": [
    "encoder = ce.OrdinalEncoder()\n",
    "encoded = encoder.fit_transform(X_train[feature])\n",
    "print(f'1 column, {encoded[feature].nunique()} unique values')\n",
    "encoded.head()"
   ]
  },
  {
   "cell_type": "code",
   "execution_count": 11,
   "metadata": {},
   "outputs": [],
   "source": [
    "encoded['Violations'] = len(X_train['Violations'])"
   ]
  },
  {
   "cell_type": "code",
   "execution_count": 12,
   "metadata": {},
   "outputs": [],
   "source": [
    "encoded['Zip'] = train['Zip']"
   ]
  },
  {
   "cell_type": "code",
   "execution_count": 13,
   "metadata": {},
   "outputs": [],
   "source": [
    "train['Latitude'] = train['Latitude'].ffill()\n",
    "train['Longitude'] = train['Longitude'].ffill()"
   ]
  },
  {
   "cell_type": "code",
   "execution_count": 14,
   "metadata": {},
   "outputs": [],
   "source": [
    "encoded['Loc'] = train['Latitude'] * train['Longitude']"
   ]
  },
  {
   "cell_type": "code",
   "execution_count": 15,
   "metadata": {},
   "outputs": [],
   "source": [
    "encoded['riskInspection Type'] = encoded['Risk'] * encoded['Inspection Type']"
   ]
  },
  {
   "cell_type": "markdown",
   "metadata": {},
   "source": [
    "# 2. Model"
   ]
  },
  {
   "cell_type": "code",
   "execution_count": 16,
   "metadata": {},
   "outputs": [],
   "source": [
    "from sklearn.metrics import mean_absolute_error"
   ]
  },
  {
   "cell_type": "code",
   "execution_count": 17,
   "metadata": {},
   "outputs": [],
   "source": [
    "from sklearn.linear_model import LinearRegression\n",
    "from sklearn.model_selection import cross_validate\n",
    "\n",
    "scores = cross_validate(LinearRegression(), encoded, y_train,\n",
    "                        scoring='neg_mean_absolute_error', cv=3,\n",
    "                        return_train_score=True, return_estimator=True, error_score='raise')"
   ]
  },
  {
   "cell_type": "code",
   "execution_count": 18,
   "metadata": {},
   "outputs": [
    {
     "data": {
      "text/html": [
       "<div>\n",
       "<style scoped>\n",
       "    .dataframe tbody tr th:only-of-type {\n",
       "        vertical-align: middle;\n",
       "    }\n",
       "\n",
       "    .dataframe tbody tr th {\n",
       "        vertical-align: top;\n",
       "    }\n",
       "\n",
       "    .dataframe thead th {\n",
       "        text-align: right;\n",
       "    }\n",
       "</style>\n",
       "<table border=\"1\" class=\"dataframe\">\n",
       "  <thead>\n",
       "    <tr style=\"text-align: right;\">\n",
       "      <th></th>\n",
       "      <th>fit_time</th>\n",
       "      <th>score_time</th>\n",
       "      <th>estimator</th>\n",
       "      <th>test_score</th>\n",
       "      <th>train_score</th>\n",
       "    </tr>\n",
       "  </thead>\n",
       "  <tbody>\n",
       "    <tr>\n",
       "      <th>0</th>\n",
       "      <td>0.026022</td>\n",
       "      <td>0.002080</td>\n",
       "      <td>LinearRegression(copy_X=True, fit_intercept=Tr...</td>\n",
       "      <td>-0.380952</td>\n",
       "      <td>-0.379061</td>\n",
       "    </tr>\n",
       "    <tr>\n",
       "      <th>1</th>\n",
       "      <td>0.005893</td>\n",
       "      <td>0.001507</td>\n",
       "      <td>LinearRegression(copy_X=True, fit_intercept=Tr...</td>\n",
       "      <td>-0.379980</td>\n",
       "      <td>-0.381450</td>\n",
       "    </tr>\n",
       "    <tr>\n",
       "      <th>2</th>\n",
       "      <td>0.005585</td>\n",
       "      <td>0.001331</td>\n",
       "      <td>LinearRegression(copy_X=True, fit_intercept=Tr...</td>\n",
       "      <td>-0.380208</td>\n",
       "      <td>-0.380414</td>\n",
       "    </tr>\n",
       "  </tbody>\n",
       "</table>\n",
       "</div>"
      ],
      "text/plain": [
       "   fit_time  score_time                                          estimator  \\\n",
       "0  0.026022    0.002080  LinearRegression(copy_X=True, fit_intercept=Tr...   \n",
       "1  0.005893    0.001507  LinearRegression(copy_X=True, fit_intercept=Tr...   \n",
       "2  0.005585    0.001331  LinearRegression(copy_X=True, fit_intercept=Tr...   \n",
       "\n",
       "   test_score  train_score  \n",
       "0   -0.380952    -0.379061  \n",
       "1   -0.379980    -0.381450  \n",
       "2   -0.380208    -0.380414  "
      ]
     },
     "execution_count": 18,
     "metadata": {},
     "output_type": "execute_result"
    }
   ],
   "source": [
    "pd.DataFrame(scores)"
   ]
  },
  {
   "cell_type": "code",
   "execution_count": 19,
   "metadata": {},
   "outputs": [
    {
     "name": "stdout",
     "output_type": "stream",
     "text": [
      "Model from cross-validation fold #0\n",
      "Intercept -14.78577980906509\n",
      "Risk                  -5.780065e-03\n",
      "City                  -3.757043e-03\n",
      "Inspection Type        7.959050e-03\n",
      "Facility Type          1.559192e-04\n",
      "Violations            -3.469447e-18\n",
      "Zip                    2.972222e-04\n",
      "Loc                    8.188177e-04\n",
      "riskInspection Type    3.420023e-03\n",
      "\n",
      "\n",
      "Model from cross-validation fold #1\n",
      "Intercept -14.832889899870105\n",
      "Risk                  -7.797982e-03\n",
      "City                  -5.397340e-03\n",
      "Inspection Type        6.510800e-03\n",
      "Facility Type          2.656542e-04\n",
      "Violations             3.903128e-18\n",
      "Zip                    2.974264e-04\n",
      "Loc                    8.066071e-04\n",
      "riskInspection Type    3.549061e-03\n",
      "\n",
      "\n",
      "Model from cross-validation fold #2\n",
      "Intercept -21.34826189112726\n",
      "Risk                  -5.181945e-03\n",
      "City                  -2.519008e-03\n",
      "Inspection Type        7.152727e-03\n",
      "Facility Type          1.201665e-04\n",
      "Violations            -8.673617e-19\n",
      "Zip                    3.864492e-04\n",
      "Loc                    5.051711e-04\n",
      "riskInspection Type    4.070695e-03\n",
      "\n",
      "\n"
     ]
    }
   ],
   "source": [
    "for i, model in enumerate(scores['estimator']):\n",
    "    #print(i, ' ', model)\n",
    "    coefficients = model.coef_\n",
    "    intercept = model.intercept_\n",
    "    feature_names = encoded.columns\n",
    "    \n",
    "    print(f'Model from cross-validation fold #{i}')\n",
    "    print('Intercept', intercept)\n",
    "    print(pd.Series(coefficients, feature_names).to_string())\n",
    "    print('\\n')\n",
    "    "
   ]
  },
  {
   "cell_type": "code",
   "execution_count": 20,
   "metadata": {},
   "outputs": [
    {
     "data": {
      "text/html": [
       "<div>\n",
       "<style scoped>\n",
       "    .dataframe tbody tr th:only-of-type {\n",
       "        vertical-align: middle;\n",
       "    }\n",
       "\n",
       "    .dataframe tbody tr th {\n",
       "        vertical-align: top;\n",
       "    }\n",
       "\n",
       "    .dataframe thead th {\n",
       "        text-align: right;\n",
       "    }\n",
       "</style>\n",
       "<table border=\"1\" class=\"dataframe\">\n",
       "  <thead>\n",
       "    <tr style=\"text-align: right;\">\n",
       "      <th></th>\n",
       "      <th>fit_time</th>\n",
       "      <th>score_time</th>\n",
       "      <th>estimator</th>\n",
       "      <th>test_score</th>\n",
       "      <th>train_score</th>\n",
       "    </tr>\n",
       "  </thead>\n",
       "  <tbody>\n",
       "    <tr>\n",
       "      <th>0</th>\n",
       "      <td>1.886244</td>\n",
       "      <td>0.105636</td>\n",
       "      <td>(DecisionTreeClassifier(class_weight=None, cri...</td>\n",
       "      <td>-0.307119</td>\n",
       "      <td>-0.086391</td>\n",
       "    </tr>\n",
       "    <tr>\n",
       "      <th>1</th>\n",
       "      <td>0.785136</td>\n",
       "      <td>0.103776</td>\n",
       "      <td>(DecisionTreeClassifier(class_weight=None, cri...</td>\n",
       "      <td>-0.304767</td>\n",
       "      <td>-0.087631</td>\n",
       "    </tr>\n",
       "    <tr>\n",
       "      <th>2</th>\n",
       "      <td>0.812557</td>\n",
       "      <td>0.103993</td>\n",
       "      <td>(DecisionTreeClassifier(class_weight=None, cri...</td>\n",
       "      <td>-0.301185</td>\n",
       "      <td>-0.085377</td>\n",
       "    </tr>\n",
       "  </tbody>\n",
       "</table>\n",
       "</div>"
      ],
      "text/plain": [
       "   fit_time  score_time                                          estimator  \\\n",
       "0  1.886244    0.105636  (DecisionTreeClassifier(class_weight=None, cri...   \n",
       "1  0.785136    0.103776  (DecisionTreeClassifier(class_weight=None, cri...   \n",
       "2  0.812557    0.103993  (DecisionTreeClassifier(class_weight=None, cri...   \n",
       "\n",
       "   test_score  train_score  \n",
       "0   -0.307119    -0.086391  \n",
       "1   -0.304767    -0.087631  \n",
       "2   -0.301185    -0.085377  "
      ]
     },
     "execution_count": 20,
     "metadata": {},
     "output_type": "execute_result"
    }
   ],
   "source": [
    "from sklearn.ensemble import RandomForestClassifier\n",
    "\n",
    "model = RandomForestClassifier(n_estimators = 100, max_depth=None, n_jobs=-1)\n",
    "\n",
    "scores = cross_validate(model, encoded, y_train,\n",
    "                        scoring='neg_mean_absolute_error',\n",
    "                        cv = 3, return_train_score=True,\n",
    "                        return_estimator=True)\n",
    "pd.DataFrame(scores)"
   ]
  },
  {
   "cell_type": "code",
   "execution_count": 21,
   "metadata": {},
   "outputs": [
    {
     "data": {
      "image/png": "[encoded data removed]",
      "text/plain": [
       "<Figure size 432x288 with 1 Axes>"
      ]
     },
     "metadata": {
      "needs_background": "light"
     },
     "output_type": "display_data"
    }
   ],
   "source": [
    "import matplotlib.pyplot as plt\n",
    "from sklearn.model_selection import validation_curve\n",
    "\n",
    "model = RandomForestClassifier(n_estimators=100)\n",
    "\n",
    "depth = [2, 3, 4, 5, 6]\n",
    "train_score, val_score = validation_curve(\n",
    "    model, encoded, y_train,\n",
    "    param_name='max_depth', param_range=depth, \n",
    "    scoring='neg_mean_absolute_error', cv=3)\n",
    "\n",
    "plt.plot(depth, np.median(train_score, 1), color='blue', label='training score')\n",
    "plt.plot(depth, np.median(val_score, 1), color='red', label='validation score')\n",
    "plt.legend(loc='best')\n",
    "plt.xlabel('depth');"
   ]
  },
  {
   "cell_type": "code",
   "execution_count": 22,
   "metadata": {},
   "outputs": [],
   "source": [
    "from sklearn.metrics import roc_auc_score\n"
   ]
  },
  {
   "cell_type": "code",
   "execution_count": 23,
   "metadata": {},
   "outputs": [
    {
     "data": {
      "text/plain": [
       "array([0, 1, 0, ..., 0, 0, 0])"
      ]
     },
     "execution_count": 23,
     "metadata": {},
     "output_type": "execute_result"
    }
   ],
   "source": [
    "pd.DataFrame(scores)['estimator'][0].predict(encoded)"
   ]
  },
  {
   "cell_type": "code",
   "execution_count": 24,
   "metadata": {},
   "outputs": [
    {
     "name": "stdout",
     "output_type": "stream",
     "text": [
      "0.7677568006795484\n"
     ]
    }
   ],
   "source": [
    "print(roc_auc_score(y_train,pd.DataFrame(scores)['estimator'][0].predict(encoded)))"
   ]
  },
  {
   "cell_type": "code",
   "execution_count": 25,
   "metadata": {},
   "outputs": [
    {
     "data": {
      "text/plain": [
       "['Risk',\n",
       " 'City',\n",
       " 'Inspection Type',\n",
       " 'Facility Type',\n",
       " 'Violations',\n",
       " 'Zip',\n",
       " 'Loc',\n",
       " 'riskInspection Type']"
      ]
     },
     "execution_count": 25,
     "metadata": {},
     "output_type": "execute_result"
    }
   ],
   "source": [
    "list(encoded.columns)"
   ]
  },
  {
   "cell_type": "code",
   "execution_count": null,
   "metadata": {},
   "outputs": [],
   "source": []
  },
  {
   "cell_type": "markdown",
   "metadata": {},
   "source": [
    "# 3. Visualization"
   ]
  },
  {
   "cell_type": "code",
   "execution_count": 26,
   "metadata": {},
   "outputs": [
    {
     "data": {
      "image/png": "[encoded data removed]",
      "text/plain": [
       "<Figure size 1080x684 with 2 Axes>"
      ]
     },
     "metadata": {
      "needs_background": "light"
     },
     "output_type": "display_data"
    }
   ],
   "source": [
    "from pdpbox.pdp import pdp_isolate, pdp_plot\n",
    "\n",
    "feature =  'Loc'\n",
    "isolated = pdp_isolate(\n",
    "    model=pd.DataFrame(scores)['estimator'][0], \n",
    "    dataset=encoded, \n",
    "    model_features=encoded.columns, \n",
    "    feature=feature\n",
    ")\n",
    "\n",
    "pdp_plot(isolated, feature_name=feature);"
   ]
  },
  {
   "cell_type": "markdown",
   "metadata": {},
   "source": [
    "# 4. Gradient Descent"
   ]
  },
  {
   "cell_type": "markdown",
   "metadata": {},
   "source": [
    "- What does Gradient Descent seek to minimize?\n",
    "-- Gradient Descent seeks to minimize the result of a given Formula.\n",
    "-- (It minimizes the y of a given y = f(x)\n",
    "\n",
    "- What is the \"Learning Rate\" and what is its function?\n",
    "-- Learning Rate is what determines how quickly the the descent minimizes the function.\n",
    "-- The function of the learning rate, is to set how much the value moves twards the minimum.\n"
   ]
  }
 ],
 "metadata": {
  "kernelspec": {
   "display_name": "Python 3",
   "language": "python",
   "name": "python3"
  },
  "language_info": {
   "codemirror_mode": {
    "name": "ipython",
    "version": 3
   },
   "file_extension": ".py",
   "mimetype": "text/x-python",
   "name": "python",
   "nbconvert_exporter": "python",
   "pygments_lexer": "ipython3",
   "version": "3.7.3"
  }
 },
 "nbformat": 4,
 "nbformat_minor": 2
}
