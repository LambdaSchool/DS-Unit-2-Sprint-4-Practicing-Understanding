{
  "nbformat": 4,
  "nbformat_minor": 0,
  "metadata": {
    "colab": {
      "name": "DS_Unit_2_Sprint_Challenge_4_Practicing_Understanding.ipynb",
      "version": "0.3.2",
      "provenance": [],
      "include_colab_link": true
    },
    "language_info": {
      "codemirror_mode": {
        "name": "ipython",
        "version": 3
      },
      "file_extension": ".py",
      "mimetype": "text/x-python",
      "name": "python",
      "nbconvert_exporter": "python",
      "pygments_lexer": "ipython3",
      "version": "3.7.1"
    },
    "kernelspec": {
      "display_name": "Python 3",
      "language": "python",
      "name": "python3"
    }
  },
  "cells": [
    {
      "cell_type": "markdown",
      "metadata": {
        "id": "view-in-github",
        "colab_type": "text"
      },
      "source": [
        "<a href=\"https://colab.research.google.com/github/DylanGraves/DS-Unit-2-Sprint-4-Practicing-Understanding/blob/master/DS_Unit_2_Sprint_Challenge_4_Practicing_Understanding.ipynb\" target=\"_parent\"><img src=\"https://colab.research.google.com/assets/colab-badge.svg\" alt=\"Open In Colab\"/></a>"
      ]
    },
    {
      "cell_type": "markdown",
      "metadata": {
        "id": "Z8GdZLFKTxfj",
        "colab_type": "text"
      },
      "source": [
        "_Lambda School Data Science Unit 2_\n",
        " \n",
        " # Sprint Challenge: Practicing & Understanding Predictive Modeling"
      ]
    },
    {
      "cell_type": "markdown",
      "metadata": {
        "id": "R1TqaV5rTxfn",
        "colab_type": "text"
      },
      "source": [
        "### Chicago Food Inspections\n",
        "\n",
        "For this Sprint Challenge, you'll use a dataset with information from inspections of restaurants and other food establishments in Chicago from January 2010 to March 2019. \n",
        "\n",
        "[See this PDF](https://data.cityofchicago.org/api/assets/BAD5301B-681A-4202-9D25-51B2CAE672FF) for descriptions of the data elements included in this dataset.\n",
        "\n",
        "According to [Chicago Department of Public Health — Food Protection Services](https://www.chicago.gov/city/en/depts/cdph/provdrs/healthy_restaurants/svcs/food-protection-services.html), \"Chicago is home to 16,000 food establishments like restaurants, grocery stores, bakeries, wholesalers, lunchrooms, mobile food vendors and more. Our business is food safety and sanitation with one goal, to prevent the spread of food-borne disease. We do this by inspecting food businesses, responding to complaints and food recalls.\" "
      ]
    },
    {
      "cell_type": "markdown",
      "metadata": {
        "id": "1kHqOagFTxfq",
        "colab_type": "text"
      },
      "source": [
        "#### Your challenge: Predict whether inspections failed\n",
        "\n",
        "The target is the `Fail` column.\n",
        "\n",
        "- When the food establishment failed the inspection, the target is `1`.\n",
        "- When the establishment passed, the target is `0`."
      ]
    },
    {
      "cell_type": "markdown",
      "metadata": {
        "id": "WhOWC1suTxft",
        "colab_type": "text"
      },
      "source": [
        "#### Run this cell to load the data:"
      ]
    },
    {
      "cell_type": "code",
      "metadata": {
        "id": "U4asLd0pTxfx",
        "colab_type": "code",
        "colab": {}
      },
      "source": [
        "import pandas as pd\n",
        "\n",
        "train_url = 'https://drive.google.com/uc?export=download&id=13_tP9JpLcZHSPVpWcua4t2rY44K_s4H5'\n",
        "test_url  = 'https://drive.google.com/uc?export=download&id=1GkDHjsiGrzOXoF_xcYjdzBTSjOIi3g5a'\n",
        "\n",
        "train = pd.read_csv(train_url)\n",
        "test  = pd.read_csv(test_url)\n",
        "\n",
        "assert train.shape == (51916, 17)\n",
        "assert test.shape  == (17306, 17)"
      ],
      "execution_count": 0,
      "outputs": []
    },
    {
      "cell_type": "markdown",
      "metadata": {
        "id": "sieaUbLATxf4",
        "colab_type": "text"
      },
      "source": [
        "### Part 1: Preprocessing\n",
        "\n",
        "You may choose which features you want to use, and whether/how you will preprocess them. If you use categorical features, you may use any tools and techniques for encoding. (Pandas, category_encoders, sklearn.preprocessing, or any other library.)\n",
        "\n",
        "_To earn a score of 3 for this part, find and explain leakage. The dataset has a feature that will give you an ROC AUC score > 0.90 if you process and use the feature. Find the leakage and explain why the feature shouldn't be used in a real-world model to predict the results of future inspections._\n",
        "\n",
        "### Part 2: Modeling\n",
        "\n",
        "**Fit a model** with the train set. (You may use scikit-learn, xgboost, or any other library.) **Use cross-validation** to **do hyperparameter optimization**, and **estimate your ROC AUC** validation score.\n",
        "\n",
        "Use your model to **predict probabilities** for the test set. **Get an ROC AUC test score >= 0.60.**\n",
        "\n",
        "_To earn a score of 3 for this part, get an ROC AUC test score >= 0.70 (without using the feature with leakage)._\n",
        "\n",
        "\n",
        "### Part 3: Visualization\n",
        "\n",
        "Make one visualization for model interpretation. (You may use any libraries.) Choose one of these types:\n",
        "\n",
        "- Feature Importances\n",
        "- Permutation Importances\n",
        "- Partial Dependence Plot\n",
        "- Shapley Values\n",
        "\n",
        "_To earn a score of 3 for this part, make at least two of these visualization types._\n",
        "\n",
        "### Part 4: Gradient Descent\n",
        "\n",
        "Answer both of these two questions:\n",
        "\n",
        "- What does Gradient Descent seek to minimize?\n",
        "- What is the \"Learning Rate\" and what is its function?\n",
        "\n",
        "One sentence is sufficient for each.\n",
        "\n",
        "_To earn a score of 3 for this part, go above and beyond. Show depth of understanding and mastery of intuition in your answers._"
      ]
    },
    {
      "cell_type": "code",
      "metadata": {
        "id": "6Fp1vvWNUZ5u",
        "colab_type": "code",
        "outputId": "d9633694-00e0-4b66-9a00-a1da0fc8ffb7",
        "colab": {
          "base_uri": "https://localhost:8080/",
          "height": 34
        }
      },
      "source": [
        "# Taking a look at the data\n",
        "\n",
        "train.shape, test.shape"
      ],
      "execution_count": 2,
      "outputs": [
        {
          "output_type": "execute_result",
          "data": {
            "text/plain": [
              "((51916, 17), (17306, 17))"
            ]
          },
          "metadata": {
            "tags": []
          },
          "execution_count": 2
        }
      ]
    },
    {
      "cell_type": "code",
      "metadata": {
        "id": "t-rhFc6rUrLB",
        "colab_type": "code",
        "colab": {}
      },
      "source": [
        "pd.set_option('display.max_rows', 500)"
      ],
      "execution_count": 0,
      "outputs": []
    },
    {
      "cell_type": "code",
      "metadata": {
        "id": "vXL42HdCUW8r",
        "colab_type": "code",
        "outputId": "1d897dea-4d19-4d1f-af62-d7ab5d6c96fd",
        "colab": {
          "base_uri": "https://localhost:8080/",
          "height": 519
        }
      },
      "source": [
        "train.head()"
      ],
      "execution_count": 4,
      "outputs": [
        {
          "output_type": "execute_result",
          "data": {
            "text/html": [
              "<div>\n",
              "<style scoped>\n",
              "    .dataframe tbody tr th:only-of-type {\n",
              "        vertical-align: middle;\n",
              "    }\n",
              "\n",
              "    .dataframe tbody tr th {\n",
              "        vertical-align: top;\n",
              "    }\n",
              "\n",
              "    .dataframe thead th {\n",
              "        text-align: right;\n",
              "    }\n",
              "</style>\n",
              "<table border=\"1\" class=\"dataframe\">\n",
              "  <thead>\n",
              "    <tr style=\"text-align: right;\">\n",
              "      <th></th>\n",
              "      <th>Inspection ID</th>\n",
              "      <th>DBA Name</th>\n",
              "      <th>AKA Name</th>\n",
              "      <th>License #</th>\n",
              "      <th>Facility Type</th>\n",
              "      <th>Risk</th>\n",
              "      <th>Address</th>\n",
              "      <th>City</th>\n",
              "      <th>State</th>\n",
              "      <th>Zip</th>\n",
              "      <th>Inspection Date</th>\n",
              "      <th>Inspection Type</th>\n",
              "      <th>Violations</th>\n",
              "      <th>Latitude</th>\n",
              "      <th>Longitude</th>\n",
              "      <th>Location</th>\n",
              "      <th>Fail</th>\n",
              "    </tr>\n",
              "  </thead>\n",
              "  <tbody>\n",
              "    <tr>\n",
              "      <th>0</th>\n",
              "      <td>2088270</td>\n",
              "      <td>TOM YUM RICE &amp; NOODLE, INC.</td>\n",
              "      <td>TOM YUM CAFE</td>\n",
              "      <td>2354911.0</td>\n",
              "      <td>Restaurant</td>\n",
              "      <td>Risk 1 (High)</td>\n",
              "      <td>608 W BARRY</td>\n",
              "      <td>CHICAGO</td>\n",
              "      <td>IL</td>\n",
              "      <td>60657.0</td>\n",
              "      <td>2017-09-15T00:00:00</td>\n",
              "      <td>Canvass</td>\n",
              "      <td>3. POTENTIALLY HAZARDOUS FOOD MEETS TEMPERATUR...</td>\n",
              "      <td>41.938007</td>\n",
              "      <td>-87.644755</td>\n",
              "      <td>{'longitude': '-87.6447545707008', 'latitude':...</td>\n",
              "      <td>1</td>\n",
              "    </tr>\n",
              "    <tr>\n",
              "      <th>1</th>\n",
              "      <td>555268</td>\n",
              "      <td>FILLING STATION  &amp; CONVENIENCE  STORE</td>\n",
              "      <td>FILLING STATION  &amp; CONVENIENCE  STORE</td>\n",
              "      <td>1044901.0</td>\n",
              "      <td>Grocery Store</td>\n",
              "      <td>Risk 3 (Low)</td>\n",
              "      <td>6646-6658 S WESTERN AVE</td>\n",
              "      <td>CHICAGO</td>\n",
              "      <td>IL</td>\n",
              "      <td>60636.0</td>\n",
              "      <td>2011-10-20T00:00:00</td>\n",
              "      <td>Complaint Re-Inspection</td>\n",
              "      <td>32. FOOD AND NON-FOOD CONTACT SURFACES PROPERL...</td>\n",
              "      <td>41.772402</td>\n",
              "      <td>-87.683603</td>\n",
              "      <td>{'longitude': '-87.68360273081268', 'latitude'...</td>\n",
              "      <td>0</td>\n",
              "    </tr>\n",
              "    <tr>\n",
              "      <th>2</th>\n",
              "      <td>1751394</td>\n",
              "      <td>A P DELI</td>\n",
              "      <td>A P DELI</td>\n",
              "      <td>47405.0</td>\n",
              "      <td>Restaurant</td>\n",
              "      <td>Risk 1 (High)</td>\n",
              "      <td>2025 E 75TH ST</td>\n",
              "      <td>CHICAGO</td>\n",
              "      <td>IL</td>\n",
              "      <td>60649.0</td>\n",
              "      <td>2016-04-05T00:00:00</td>\n",
              "      <td>Canvass Re-Inspection</td>\n",
              "      <td>35. WALLS, CEILINGS, ATTACHED EQUIPMENT CONSTR...</td>\n",
              "      <td>41.758779</td>\n",
              "      <td>-87.575054</td>\n",
              "      <td>{'longitude': '-87.57505446746121', 'latitude'...</td>\n",
              "      <td>0</td>\n",
              "    </tr>\n",
              "    <tr>\n",
              "      <th>3</th>\n",
              "      <td>1763905</td>\n",
              "      <td>FRANK'S CHICAGO SHRIMP HOUSE</td>\n",
              "      <td>FRANK'S CHICAGO SHRIMP HOUSE</td>\n",
              "      <td>6414.0</td>\n",
              "      <td>Restaurant</td>\n",
              "      <td>Risk 2 (Medium)</td>\n",
              "      <td>4459 S ARCHER AVE</td>\n",
              "      <td>CHICAGO</td>\n",
              "      <td>IL</td>\n",
              "      <td>60632.0</td>\n",
              "      <td>2016-04-29T00:00:00</td>\n",
              "      <td>Canvass</td>\n",
              "      <td>38. VENTILATION: ROOMS AND EQUIPMENT VENTED AS...</td>\n",
              "      <td>41.812181</td>\n",
              "      <td>-87.707125</td>\n",
              "      <td>{'longitude': '-87.70712481334274', 'latitude'...</td>\n",
              "      <td>0</td>\n",
              "    </tr>\n",
              "    <tr>\n",
              "      <th>4</th>\n",
              "      <td>453326</td>\n",
              "      <td>MORRILL</td>\n",
              "      <td>MORRILL</td>\n",
              "      <td>24571.0</td>\n",
              "      <td>School</td>\n",
              "      <td>Risk 1 (High)</td>\n",
              "      <td>6011 S Rockwell (2600W) AVE</td>\n",
              "      <td>CHICAGO</td>\n",
              "      <td>IL</td>\n",
              "      <td>60629.0</td>\n",
              "      <td>2011-01-10T00:00:00</td>\n",
              "      <td>Canvass</td>\n",
              "      <td>34. FLOORS: CONSTRUCTED PER CODE, CLEANED, GOO...</td>\n",
              "      <td>NaN</td>\n",
              "      <td>NaN</td>\n",
              "      <td>NaN</td>\n",
              "      <td>0</td>\n",
              "    </tr>\n",
              "  </tbody>\n",
              "</table>\n",
              "</div>"
            ],
            "text/plain": [
              "   Inspection ID  ... Fail\n",
              "0        2088270  ...    1\n",
              "1         555268  ...    0\n",
              "2        1751394  ...    0\n",
              "3        1763905  ...    0\n",
              "4         453326  ...    0\n",
              "\n",
              "[5 rows x 17 columns]"
            ]
          },
          "metadata": {
            "tags": []
          },
          "execution_count": 4
        }
      ]
    },
    {
      "cell_type": "code",
      "metadata": {
        "id": "wZIzMX7rUY0L",
        "colab_type": "code",
        "outputId": "06d838b5-8189-463c-c5db-1e0e6051454d",
        "colab": {
          "base_uri": "https://localhost:8080/",
          "height": 501
        }
      },
      "source": [
        "train.describe(include='all')"
      ],
      "execution_count": 5,
      "outputs": [
        {
          "output_type": "execute_result",
          "data": {
            "text/html": [
              "<div>\n",
              "<style scoped>\n",
              "    .dataframe tbody tr th:only-of-type {\n",
              "        vertical-align: middle;\n",
              "    }\n",
              "\n",
              "    .dataframe tbody tr th {\n",
              "        vertical-align: top;\n",
              "    }\n",
              "\n",
              "    .dataframe thead th {\n",
              "        text-align: right;\n",
              "    }\n",
              "</style>\n",
              "<table border=\"1\" class=\"dataframe\">\n",
              "  <thead>\n",
              "    <tr style=\"text-align: right;\">\n",
              "      <th></th>\n",
              "      <th>Inspection ID</th>\n",
              "      <th>DBA Name</th>\n",
              "      <th>AKA Name</th>\n",
              "      <th>License #</th>\n",
              "      <th>Facility Type</th>\n",
              "      <th>Risk</th>\n",
              "      <th>Address</th>\n",
              "      <th>City</th>\n",
              "      <th>State</th>\n",
              "      <th>Zip</th>\n",
              "      <th>Inspection Date</th>\n",
              "      <th>Inspection Type</th>\n",
              "      <th>Violations</th>\n",
              "      <th>Latitude</th>\n",
              "      <th>Longitude</th>\n",
              "      <th>Location</th>\n",
              "      <th>Fail</th>\n",
              "    </tr>\n",
              "  </thead>\n",
              "  <tbody>\n",
              "    <tr>\n",
              "      <th>count</th>\n",
              "      <td>5.191600e+04</td>\n",
              "      <td>51916</td>\n",
              "      <td>51293</td>\n",
              "      <td>5.191100e+04</td>\n",
              "      <td>51692</td>\n",
              "      <td>51904</td>\n",
              "      <td>51916</td>\n",
              "      <td>51863</td>\n",
              "      <td>51906</td>\n",
              "      <td>51890.000000</td>\n",
              "      <td>51916</td>\n",
              "      <td>51915</td>\n",
              "      <td>42261</td>\n",
              "      <td>51718.000000</td>\n",
              "      <td>51718.000000</td>\n",
              "      <td>51718</td>\n",
              "      <td>51916.000000</td>\n",
              "    </tr>\n",
              "    <tr>\n",
              "      <th>unique</th>\n",
              "      <td>NaN</td>\n",
              "      <td>17049</td>\n",
              "      <td>16350</td>\n",
              "      <td>NaN</td>\n",
              "      <td>329</td>\n",
              "      <td>3</td>\n",
              "      <td>13954</td>\n",
              "      <td>39</td>\n",
              "      <td>1</td>\n",
              "      <td>NaN</td>\n",
              "      <td>2257</td>\n",
              "      <td>51</td>\n",
              "      <td>42164</td>\n",
              "      <td>NaN</td>\n",
              "      <td>NaN</td>\n",
              "      <td>13410</td>\n",
              "      <td>NaN</td>\n",
              "    </tr>\n",
              "    <tr>\n",
              "      <th>top</th>\n",
              "      <td>NaN</td>\n",
              "      <td>SUBWAY</td>\n",
              "      <td>SUBWAY</td>\n",
              "      <td>NaN</td>\n",
              "      <td>Restaurant</td>\n",
              "      <td>Risk 1 (High)</td>\n",
              "      <td>11601 W TOUHY AVE</td>\n",
              "      <td>CHICAGO</td>\n",
              "      <td>IL</td>\n",
              "      <td>NaN</td>\n",
              "      <td>2017-03-23T00:00:00</td>\n",
              "      <td>Canvass</td>\n",
              "      <td>45. FOOD HANDLER REQUIREMENTS MET - Comments: ...</td>\n",
              "      <td>NaN</td>\n",
              "      <td>NaN</td>\n",
              "      <td>{'longitude': '-87.91442843927047', 'latitude'...</td>\n",
              "      <td>NaN</td>\n",
              "    </tr>\n",
              "    <tr>\n",
              "      <th>freq</th>\n",
              "      <td>NaN</td>\n",
              "      <td>654</td>\n",
              "      <td>802</td>\n",
              "      <td>NaN</td>\n",
              "      <td>34264</td>\n",
              "      <td>37731</td>\n",
              "      <td>741</td>\n",
              "      <td>51659</td>\n",
              "      <td>51906</td>\n",
              "      <td>NaN</td>\n",
              "      <td>50</td>\n",
              "      <td>24170</td>\n",
              "      <td>3</td>\n",
              "      <td>NaN</td>\n",
              "      <td>NaN</td>\n",
              "      <td>741</td>\n",
              "      <td>NaN</td>\n",
              "    </tr>\n",
              "    <tr>\n",
              "      <th>mean</th>\n",
              "      <td>1.330265e+06</td>\n",
              "      <td>NaN</td>\n",
              "      <td>NaN</td>\n",
              "      <td>1.549491e+06</td>\n",
              "      <td>NaN</td>\n",
              "      <td>NaN</td>\n",
              "      <td>NaN</td>\n",
              "      <td>NaN</td>\n",
              "      <td>NaN</td>\n",
              "      <td>60628.834669</td>\n",
              "      <td>NaN</td>\n",
              "      <td>NaN</td>\n",
              "      <td>NaN</td>\n",
              "      <td>41.879568</td>\n",
              "      <td>-87.676663</td>\n",
              "      <td>NaN</td>\n",
              "      <td>0.258610</td>\n",
              "    </tr>\n",
              "    <tr>\n",
              "      <th>std</th>\n",
              "      <td>6.202664e+05</td>\n",
              "      <td>NaN</td>\n",
              "      <td>NaN</td>\n",
              "      <td>9.018283e+05</td>\n",
              "      <td>NaN</td>\n",
              "      <td>NaN</td>\n",
              "      <td>NaN</td>\n",
              "      <td>NaN</td>\n",
              "      <td>NaN</td>\n",
              "      <td>22.736963</td>\n",
              "      <td>NaN</td>\n",
              "      <td>NaN</td>\n",
              "      <td>NaN</td>\n",
              "      <td>0.081126</td>\n",
              "      <td>0.059509</td>\n",
              "      <td>NaN</td>\n",
              "      <td>0.437875</td>\n",
              "    </tr>\n",
              "    <tr>\n",
              "      <th>min</th>\n",
              "      <td>4.425000e+04</td>\n",
              "      <td>NaN</td>\n",
              "      <td>NaN</td>\n",
              "      <td>0.000000e+00</td>\n",
              "      <td>NaN</td>\n",
              "      <td>NaN</td>\n",
              "      <td>NaN</td>\n",
              "      <td>NaN</td>\n",
              "      <td>NaN</td>\n",
              "      <td>60007.000000</td>\n",
              "      <td>NaN</td>\n",
              "      <td>NaN</td>\n",
              "      <td>NaN</td>\n",
              "      <td>41.644670</td>\n",
              "      <td>-87.914428</td>\n",
              "      <td>NaN</td>\n",
              "      <td>0.000000</td>\n",
              "    </tr>\n",
              "    <tr>\n",
              "      <th>25%</th>\n",
              "      <td>6.796205e+05</td>\n",
              "      <td>NaN</td>\n",
              "      <td>NaN</td>\n",
              "      <td>1.140745e+06</td>\n",
              "      <td>NaN</td>\n",
              "      <td>NaN</td>\n",
              "      <td>NaN</td>\n",
              "      <td>NaN</td>\n",
              "      <td>NaN</td>\n",
              "      <td>60614.000000</td>\n",
              "      <td>NaN</td>\n",
              "      <td>NaN</td>\n",
              "      <td>NaN</td>\n",
              "      <td>41.830296</td>\n",
              "      <td>-87.707857</td>\n",
              "      <td>NaN</td>\n",
              "      <td>0.000000</td>\n",
              "    </tr>\n",
              "    <tr>\n",
              "      <th>50%</th>\n",
              "      <td>1.424226e+06</td>\n",
              "      <td>NaN</td>\n",
              "      <td>NaN</td>\n",
              "      <td>1.958619e+06</td>\n",
              "      <td>NaN</td>\n",
              "      <td>NaN</td>\n",
              "      <td>NaN</td>\n",
              "      <td>NaN</td>\n",
              "      <td>NaN</td>\n",
              "      <td>60625.000000</td>\n",
              "      <td>NaN</td>\n",
              "      <td>NaN</td>\n",
              "      <td>NaN</td>\n",
              "      <td>41.890166</td>\n",
              "      <td>-87.666524</td>\n",
              "      <td>NaN</td>\n",
              "      <td>0.000000</td>\n",
              "    </tr>\n",
              "    <tr>\n",
              "      <th>75%</th>\n",
              "      <td>1.946952e+06</td>\n",
              "      <td>NaN</td>\n",
              "      <td>NaN</td>\n",
              "      <td>2.215507e+06</td>\n",
              "      <td>NaN</td>\n",
              "      <td>NaN</td>\n",
              "      <td>NaN</td>\n",
              "      <td>NaN</td>\n",
              "      <td>NaN</td>\n",
              "      <td>60643.000000</td>\n",
              "      <td>NaN</td>\n",
              "      <td>NaN</td>\n",
              "      <td>NaN</td>\n",
              "      <td>41.939167</td>\n",
              "      <td>-87.634461</td>\n",
              "      <td>NaN</td>\n",
              "      <td>1.000000</td>\n",
              "    </tr>\n",
              "    <tr>\n",
              "      <th>max</th>\n",
              "      <td>2.279709e+06</td>\n",
              "      <td>NaN</td>\n",
              "      <td>NaN</td>\n",
              "      <td>8.700606e+06</td>\n",
              "      <td>NaN</td>\n",
              "      <td>NaN</td>\n",
              "      <td>NaN</td>\n",
              "      <td>NaN</td>\n",
              "      <td>NaN</td>\n",
              "      <td>60827.000000</td>\n",
              "      <td>NaN</td>\n",
              "      <td>NaN</td>\n",
              "      <td>NaN</td>\n",
              "      <td>42.021064</td>\n",
              "      <td>-87.525094</td>\n",
              "      <td>NaN</td>\n",
              "      <td>1.000000</td>\n",
              "    </tr>\n",
              "  </tbody>\n",
              "</table>\n",
              "</div>"
            ],
            "text/plain": [
              "        Inspection ID  ...          Fail\n",
              "count    5.191600e+04  ...  51916.000000\n",
              "unique            NaN  ...           NaN\n",
              "top               NaN  ...           NaN\n",
              "freq              NaN  ...           NaN\n",
              "mean     1.330265e+06  ...      0.258610\n",
              "std      6.202664e+05  ...      0.437875\n",
              "min      4.425000e+04  ...      0.000000\n",
              "25%      6.796205e+05  ...      0.000000\n",
              "50%      1.424226e+06  ...      0.000000\n",
              "75%      1.946952e+06  ...      1.000000\n",
              "max      2.279709e+06  ...      1.000000\n",
              "\n",
              "[11 rows x 17 columns]"
            ]
          },
          "metadata": {
            "tags": []
          },
          "execution_count": 5
        }
      ]
    },
    {
      "cell_type": "code",
      "metadata": {
        "id": "OMewDDwawDd9",
        "colab_type": "code",
        "outputId": "a5572444-5bf2-4bc8-dc70-0b6eac0535b5",
        "colab": {
          "base_uri": "https://localhost:8080/",
          "height": 300
        }
      },
      "source": [
        "train.describe()"
      ],
      "execution_count": 6,
      "outputs": [
        {
          "output_type": "execute_result",
          "data": {
            "text/html": [
              "<div>\n",
              "<style scoped>\n",
              "    .dataframe tbody tr th:only-of-type {\n",
              "        vertical-align: middle;\n",
              "    }\n",
              "\n",
              "    .dataframe tbody tr th {\n",
              "        vertical-align: top;\n",
              "    }\n",
              "\n",
              "    .dataframe thead th {\n",
              "        text-align: right;\n",
              "    }\n",
              "</style>\n",
              "<table border=\"1\" class=\"dataframe\">\n",
              "  <thead>\n",
              "    <tr style=\"text-align: right;\">\n",
              "      <th></th>\n",
              "      <th>Inspection ID</th>\n",
              "      <th>License #</th>\n",
              "      <th>Zip</th>\n",
              "      <th>Latitude</th>\n",
              "      <th>Longitude</th>\n",
              "      <th>Fail</th>\n",
              "    </tr>\n",
              "  </thead>\n",
              "  <tbody>\n",
              "    <tr>\n",
              "      <th>count</th>\n",
              "      <td>5.191600e+04</td>\n",
              "      <td>5.191100e+04</td>\n",
              "      <td>51890.000000</td>\n",
              "      <td>51718.000000</td>\n",
              "      <td>51718.000000</td>\n",
              "      <td>51916.000000</td>\n",
              "    </tr>\n",
              "    <tr>\n",
              "      <th>mean</th>\n",
              "      <td>1.330265e+06</td>\n",
              "      <td>1.549491e+06</td>\n",
              "      <td>60628.834669</td>\n",
              "      <td>41.879568</td>\n",
              "      <td>-87.676663</td>\n",
              "      <td>0.258610</td>\n",
              "    </tr>\n",
              "    <tr>\n",
              "      <th>std</th>\n",
              "      <td>6.202664e+05</td>\n",
              "      <td>9.018283e+05</td>\n",
              "      <td>22.736963</td>\n",
              "      <td>0.081126</td>\n",
              "      <td>0.059509</td>\n",
              "      <td>0.437875</td>\n",
              "    </tr>\n",
              "    <tr>\n",
              "      <th>min</th>\n",
              "      <td>4.425000e+04</td>\n",
              "      <td>0.000000e+00</td>\n",
              "      <td>60007.000000</td>\n",
              "      <td>41.644670</td>\n",
              "      <td>-87.914428</td>\n",
              "      <td>0.000000</td>\n",
              "    </tr>\n",
              "    <tr>\n",
              "      <th>25%</th>\n",
              "      <td>6.796205e+05</td>\n",
              "      <td>1.140745e+06</td>\n",
              "      <td>60614.000000</td>\n",
              "      <td>41.830296</td>\n",
              "      <td>-87.707857</td>\n",
              "      <td>0.000000</td>\n",
              "    </tr>\n",
              "    <tr>\n",
              "      <th>50%</th>\n",
              "      <td>1.424226e+06</td>\n",
              "      <td>1.958619e+06</td>\n",
              "      <td>60625.000000</td>\n",
              "      <td>41.890166</td>\n",
              "      <td>-87.666524</td>\n",
              "      <td>0.000000</td>\n",
              "    </tr>\n",
              "    <tr>\n",
              "      <th>75%</th>\n",
              "      <td>1.946952e+06</td>\n",
              "      <td>2.215507e+06</td>\n",
              "      <td>60643.000000</td>\n",
              "      <td>41.939167</td>\n",
              "      <td>-87.634461</td>\n",
              "      <td>1.000000</td>\n",
              "    </tr>\n",
              "    <tr>\n",
              "      <th>max</th>\n",
              "      <td>2.279709e+06</td>\n",
              "      <td>8.700606e+06</td>\n",
              "      <td>60827.000000</td>\n",
              "      <td>42.021064</td>\n",
              "      <td>-87.525094</td>\n",
              "      <td>1.000000</td>\n",
              "    </tr>\n",
              "  </tbody>\n",
              "</table>\n",
              "</div>"
            ],
            "text/plain": [
              "       Inspection ID     License #  ...     Longitude          Fail\n",
              "count   5.191600e+04  5.191100e+04  ...  51718.000000  51916.000000\n",
              "mean    1.330265e+06  1.549491e+06  ...    -87.676663      0.258610\n",
              "std     6.202664e+05  9.018283e+05  ...      0.059509      0.437875\n",
              "min     4.425000e+04  0.000000e+00  ...    -87.914428      0.000000\n",
              "25%     6.796205e+05  1.140745e+06  ...    -87.707857      0.000000\n",
              "50%     1.424226e+06  1.958619e+06  ...    -87.666524      0.000000\n",
              "75%     1.946952e+06  2.215507e+06  ...    -87.634461      1.000000\n",
              "max     2.279709e+06  8.700606e+06  ...    -87.525094      1.000000\n",
              "\n",
              "[8 rows x 6 columns]"
            ]
          },
          "metadata": {
            "tags": []
          },
          "execution_count": 6
        }
      ]
    },
    {
      "cell_type": "code",
      "metadata": {
        "id": "xjqO-yCdV8Xz",
        "colab_type": "code",
        "outputId": "3096a6f6-6381-4b4e-8394-3570e06b3c96",
        "colab": {
          "base_uri": "https://localhost:8080/",
          "height": 52
        }
      },
      "source": [
        "train['State'].value_counts()"
      ],
      "execution_count": 7,
      "outputs": [
        {
          "output_type": "execute_result",
          "data": {
            "text/plain": [
              "IL    51906\n",
              "Name: State, dtype: int64"
            ]
          },
          "metadata": {
            "tags": []
          },
          "execution_count": 7
        }
      ]
    },
    {
      "cell_type": "code",
      "metadata": {
        "id": "jXcXeD9BVEBX",
        "colab_type": "code",
        "outputId": "4d686fb0-1f19-4995-c9d2-0b07c645c99e",
        "colab": {
          "base_uri": "https://localhost:8080/",
          "height": 712
        }
      },
      "source": [
        "train['City'].value_counts()"
      ],
      "execution_count": 8,
      "outputs": [
        {
          "output_type": "execute_result",
          "data": {
            "text/plain": [
              "CHICAGO              51659\n",
              "Chicago                 91\n",
              "chicago                 34\n",
              "CCHICAGO                16\n",
              "SCHAUMBURG               6\n",
              "CHicago                  5\n",
              "ELK GROVE VILLAGE        4\n",
              "MAYWOOD                  4\n",
              "CHESTNUT STREET          3\n",
              "CICERO                   3\n",
              "NILES NILES              2\n",
              "OAK PARK                 2\n",
              "CHICAGOCHICAGO           2\n",
              "EAST HAZEL CREST         2\n",
              "ALSIP                    2\n",
              "ROSEMONT                 2\n",
              "NAPERVILLE               2\n",
              "SKOKIE                   2\n",
              "ELMHURST                 2\n",
              "EVANSTON                 1\n",
              "CHCHICAGO                1\n",
              "OLYMPIA FIELDS           1\n",
              "STREAMWOOD               1\n",
              "CHICAGOI                 1\n",
              "BROADVIEW                1\n",
              "CHICAGOHICAGO            1\n",
              "SCHILLER PARK            1\n",
              "BRIDGEVIEW               1\n",
              "OOLYMPIA FIELDS          1\n",
              "WORTH                    1\n",
              "BEDFORD PARK             1\n",
              "SUMMIT                   1\n",
              "BOLINGBROOK              1\n",
              "BERWYN                   1\n",
              "TINLEY PARK              1\n",
              "CHARLES A HAYES          1\n",
              "HIGHLAND PARK            1\n",
              "LAKE BLUFF               1\n",
              "CHICAGO HEIGHTS          1\n",
              "Name: City, dtype: int64"
            ]
          },
          "metadata": {
            "tags": []
          },
          "execution_count": 8
        }
      ]
    },
    {
      "cell_type": "code",
      "metadata": {
        "id": "J10QXFKMWDAO",
        "colab_type": "code",
        "outputId": "4358de49-bcf1-4b37-89fe-e605c7da43d1",
        "colab": {
          "base_uri": "https://localhost:8080/",
          "height": 5748
        }
      },
      "source": [
        "train['Facility Type'].value_counts()"
      ],
      "execution_count": 9,
      "outputs": [
        {
          "output_type": "execute_result",
          "data": {
            "text/plain": [
              "Restaurant                                         34264\n",
              "Grocery Store                                       6904\n",
              "School                                              3876\n",
              "Bakery                                               846\n",
              "Daycare (2 - 6 Years)                                830\n",
              "Children's Services Facility                         802\n",
              "Daycare Above and Under 2 Years                      656\n",
              "Long Term Care                                       394\n",
              "Catering                                             304\n",
              "Mobile Food Dispenser                                280\n",
              "Liquor                                               261\n",
              "Daycare Combo 1586                                   227\n",
              "Wholesale                                            203\n",
              "Golden Diner                                         162\n",
              "Mobile Food Preparer                                 159\n",
              "Hospital                                             141\n",
              "TAVERN                                                88\n",
              "Shared Kitchen User (Long Term)                       69\n",
              "Daycare (Under 2 Years)                               65\n",
              "Special Event                                         62\n",
              "KIOSK                                                 33\n",
              "GAS STATION                                           33\n",
              "BANQUET HALL                                          30\n",
              "Shelter                                               29\n",
              "Shared Kitchen                                        26\n",
              "Mobile Prepared Food Vendor                           25\n",
              "LIVE POULTRY                                          19\n",
              "Navy Pier Kiosk                                       19\n",
              "GROCERY/RESTAURANT                                    17\n",
              "Daycare (2 Years)                                     16\n",
              "CAFETERIA                                             14\n",
              "CHURCH KITCHEN                                        13\n",
              "STADIUM                                               12\n",
              "RESTAURANT/BAR                                        12\n",
              "PRIVATE SCHOOL                                        11\n",
              "DAYCARE                                               11\n",
              "convenience store                                     11\n",
              "BANQUET                                               10\n",
              "STORE                                                 10\n",
              "1023-CHILDREN'S SERVICES FACILITY                      9\n",
              "tavern                                                 9\n",
              "Shared Kitchen User (Short Term)                       9\n",
              "RESTAURANT/GROCERY STORE                               9\n",
              "CHARTER SCHOOL                                         9\n",
              "CONVENIENCE STORE                                      9\n",
              "GAS STATION/MINI MART                                  8\n",
              "MOBILE FOOD TRUCK                                      8\n",
              "Grocery(Sushi prep)                                    8\n",
              "THEATER                                                8\n",
              "PALETERIA                                              7\n",
              "gas station                                            7\n",
              "coffee shop                                            7\n",
              "CHURCH                                                 7\n",
              "CONVENIENCE                                            7\n",
              "1023 CHILDERN'S SERVICES FACILITY                      7\n",
              "HOTEL                                                  7\n",
              "GAS STATION/RESTAURANT                                 7\n",
              "Grocery & Restaurant                                   7\n",
              "Mobile Frozen Desserts Vendor                          7\n",
              "COMMISSARY                                             7\n",
              "SLAUGHTER HOUSE/ GROCERY                               7\n",
              "ROOFTOP                                                7\n",
              "Church                                                 6\n",
              "Tavern                                                 6\n",
              "PUBLIC SHCOOL                                          6\n",
              "NURSING HOME                                           6\n",
              "CULINARY SCHOOL                                        6\n",
              "UNIVERSITY CAFETERIA                                   6\n",
              "PASTRY school                                          6\n",
              "RIVERWALK                                              6\n",
              "Banquet Hall                                           5\n",
              "MOVIE THEATRE                                          5\n",
              "RESTAURANT.BANQUET HALLS                               5\n",
              "Rest/GYM                                               5\n",
              "ROOF TOPS                                              5\n",
              "pharmacy/grocery                                       5\n",
              "CHURCH/SPECIAL EVENTS                                  5\n",
              "GAS STATION/STORE                                      5\n",
              "THEATRE                                                5\n",
              "ROOF TOP                                               5\n",
              "ICE CREAM SHOP                                         5\n",
              "GROCERY STORE/GAS STATION                              5\n",
              "Airport Lounge                                         5\n",
              "CUSTOM POULTRY SLAUGHTER                               5\n",
              "Private School                                         5\n",
              "GROCERY STORE/COOKING SCHOOL                           4\n",
              "WAREHOUSE                                              4\n",
              "convenience                                            4\n",
              "SCHOOL                                                 4\n",
              "banquets                                               4\n",
              "COFFEE SHOP                                            4\n",
              "WINE STORE                                             4\n",
              "REHAB CENTER                                           4\n",
              "BAKERY/DELI                                            4\n",
              "RESTAURANT/GAS STATION                                 4\n",
              "employee kitchen                                       4\n",
              "grocery/dollar store                                   4\n",
              "Banquet rooms                                          4\n",
              "ASSISTED LIVING                                        4\n",
              "BREWPUB                                                4\n",
              "Wrigley Roof Top                                       4\n",
              "BREWERY                                                4\n",
              "Long Term Care Facility                                4\n",
              "1023                                                   4\n",
              "WRIGLEY ROOFTOP                                        4\n",
              "convenience/drug store                                 4\n",
              "CANDY/GELATO                                           4\n",
              "cafeteria                                              4\n",
              "CITY OF CHICAGO COLLEGE                                4\n",
              "RESTAURANT/HOSPITAL                                    4\n",
              "GROCERY& RESTAURANT                                    4\n",
              "GROCERY AND BUTCHER                                    4\n",
              "1023 CHILDERN'S SERVICE FACILITY                       4\n",
              "JUICE BAR                                              4\n",
              "Banquet Dining                                         3\n",
              "BANQUET HALL/CATERING                                  3\n",
              "CHURCH (SPECIAL EVENTS)                                3\n",
              "GROCERY STORE/BAKERY                                   3\n",
              "Cafeteria                                              3\n",
              "A-Not-For-Profit Chef Training Program                 3\n",
              "CHARITY AID KITCHEN                                    3\n",
              "HERBAL MEDICINE                                        3\n",
              "Live Poultry                                           3\n",
              "DRUG/FOOD STORE                                        3\n",
              "GROCERY/GAS STATION                                    3\n",
              "O'Hare Kiosk                                           3\n",
              "CATERING/CAFE                                          3\n",
              "GROCERY/TAQUERIA                                       3\n",
              "CAFE/STORE                                             3\n",
              "CHILDERN'S SERVICE FACILITY                            3\n",
              "Deli                                                   3\n",
              "TEACHING SCHOOL                                        3\n",
              "MEXICAN CANDY STORE                                    3\n",
              "COOKING SCHOOL                                         3\n",
              "ROOFTOPS                                               3\n",
              "RESTAURANT/BAKERY                                      3\n",
              "BAR                                                    3\n",
              "MOBILE FROZEN DESSERTS DISPENSER-NON-MOTORIZED         3\n",
              "SMOKEHOUSE                                             3\n",
              "fish market                                            3\n",
              "REST/ROOFTOP                                           3\n",
              "Restaurant(protein shake bar)                          3\n",
              "LOUNGE/BANQUET HALL                                    3\n",
              "REST/GROCERY                                           3\n",
              "Animal Shelter Cafe Permit                             3\n",
              "COFFEE VENDING MACHINE                                 3\n",
              "Daycare Night                                          3\n",
              "snack shop                                             3\n",
              "banquet hall                                           2\n",
              "DAYCARE 6 WKS-5YRS                                     2\n",
              "SUPPORTIVE LIVING FACILITY                             2\n",
              "SENIOR DAY CARE                                        2\n",
              "AFTER SCHOOL PROGRAM                                   2\n",
              "ICE CREAM PARLOR                                       2\n",
              "CHILDRENS SERVICES FACILITY                            2\n",
              "DINING HALL                                            2\n",
              "COFFEE KIOSK                                           2\n",
              "GROCERY/BAKERY                                         2\n",
              "PHARMACY                                               2\n",
              "Long-Term Care                                         2\n",
              "GAS STATION/STORE GROCERY                              2\n",
              "LIQUOR CONSUMPTION ON PREMISES.                        2\n",
              "Adult Family Care Center                               2\n",
              "weight loss program                                    2\n",
              "ART GALLERY W/WINE AND BEER                            2\n",
              "Pool                                                   2\n",
              "ROOM SERVICE                                           2\n",
              "cooking school                                         2\n",
              "dollar store                                           2\n",
              "school cafeteria                                       2\n",
              "COLD/FROZEN FOOD STORAGE                               2\n",
              "TEA BREWING                                            2\n",
              "DISTRIBUTION CENTER                                    2\n",
              "SUPPORTIVE LIVING                                      2\n",
              "PACKAGED LIQUOR                                        2\n",
              "COLLEGE                                                2\n",
              "REGULATED BUSINESS                                     2\n",
              "HEALTH/ JUICE BAR                                      2\n",
              "DELI/GROCERY STORE                                     2\n",
              "Coffee shop                                            2\n",
              "LIQUOR/COFFEE KIOSK                                    2\n",
              "bakery/restaurant                                      2\n",
              "Church Kitchen                                         2\n",
              "FITNESS CENTER                                         2\n",
              "grocery                                                2\n",
              "THEATER/BAR                                            2\n",
              "GROCERY STORE / GAS STATION                            2\n",
              "RESTUARANT AND BAR                                     2\n",
              "MOVIE THEATER                                          2\n",
              "MOBILE FROZEN DESSERTS VENDOR                          2\n",
              "TENT RSTAURANT                                         2\n",
              "GROCERY STORE/TAQUERIA                                 2\n",
              "grocery/butcher                                        2\n",
              "CANDY STORE                                            2\n",
              "DRUG/GROCERY STORE                                     2\n",
              "CAFE                                                   2\n",
              "GROCERY/SERVICE GAS STATION                            2\n",
              "butcher shop                                           1\n",
              "ROOFTOP/RESTAURANT                                     1\n",
              "DRUG STORE/W/ FOOD                                     1\n",
              "Nutrition Store                                        1\n",
              "warehouse                                              1\n",
              "Shuffleboard Club with Bar                             1\n",
              "CELL PHONE STORE                                       1\n",
              "SOUP KITCHEN                                           1\n",
              "CONVNIENCE STORE                                       1\n",
              "NP-KIOSK                                               1\n",
              "candy/gelato                                           1\n",
              "MOBILE FROZEN DESSERTS DISPENSER-NON-MOTOR             1\n",
              "Candy                                                  1\n",
              "GAS STATION /SUBWAY MINI MART.                         1\n",
              "LINITED BUSINESS                                       1\n",
              "PACKAGED HEALTH FOODS                                  1\n",
              "MOBILE FROZEN DESSERTS DISPENSER-NON- MOTORIZED        1\n",
              "CONVENIENT STORE                                       1\n",
              "COFFEE/TEA                                             1\n",
              "SUMMER FEEDING PREP AREA                               1\n",
              "PROTEIN SHAKE BAR                                      1\n",
              "FROZEN DESSERTS DISPENSER -NON MOTORIZED               1\n",
              "CHARTER SCHOOL CAFETERIA                               1\n",
              "COMMIASARY                                             1\n",
              "BAR/GRILL                                              1\n",
              "DOLLAR STORE SELLING GROCERY                           1\n",
              "CHURCH/AFTER SCHOOL PROGRAM                            1\n",
              "HOT DOG STATION                                        1\n",
              "HOSTEL                                                 1\n",
              "HERBAL LIFE SHOP                                       1\n",
              "Commissary                                             1\n",
              "PUSH CARTS                                             1\n",
              "TAVERN GRILL                                           1\n",
              "HERBAL REMEDY                                          1\n",
              "(gas station)                                          1\n",
              "GROCERY/LIQUOR                                         1\n",
              "LIQUORE STORE/BAR                                      1\n",
              "GELATO SHOP                                            1\n",
              "URBAN FARM                                             1\n",
              "donut shop                                             1\n",
              "smoothie bar                                           1\n",
              "(convenience store)                                    1\n",
              "HERBALIFE                                              1\n",
              "RESTAURANT/BAR/THEATER                                 1\n",
              "HERBALIFE STORE                                        1\n",
              "TOBACCO STORE                                          1\n",
              "RETAIL STORE                                           1\n",
              "GROCERY STORE/DELI                                     1\n",
              "GIFT/CARD SHOP WITH CANDY                              1\n",
              "Social Club                                            1\n",
              "live butcher                                           1\n",
              "CHINESE HERBS                                          1\n",
              "1584-DAY CARE ABOVE 2 YEARS                            1\n",
              "ROOFTOP PATIO                                          1\n",
              "UNUSED STORAGE                                         1\n",
              "MOBILE DESSERTS VENDOR                                 1\n",
              "DOLLAR & GROCERY STORE                                 1\n",
              "KIDS CAFE                                              1\n",
              "CHURCH/DAY CARE                                        1\n",
              "JUICE AND SALAD BAR                                    1\n",
              "Food Vending Machines                                  1\n",
              "banquets/room service                                  1\n",
              "GAS STATION STORE                                      1\n",
              "GAS STATION/ GROCERY STORE                             1\n",
              "DAYCARE 1586                                           1\n",
              "GOLF COURSE CONNCESSION STAND                          1\n",
              "CHICAGO PARK DISTRICT                                  1\n",
              "PREPACKAGE MEAL DISTRIBUTOR (1006 Retail)              1\n",
              "Theater & Restaurant                                   1\n",
              "FROZEN DESSERTS DISPENSER-NON-MOTORIZED                1\n",
              "blockbuster video                                      1\n",
              "School Cafeteria                                       1\n",
              "NOT FOR PROFIT                                         1\n",
              "WINE TASTING BAR                                       1\n",
              "UNLICENSED FACILITY                                    1\n",
              "GOLF COURSE                                            1\n",
              "MOBILE FROZEN DESSERT VENDOR                           1\n",
              "GAS STATION/FOOD                                       1\n",
              "Assisted Living Senior Care                            1\n",
              "NIGHT CLUB                                             1\n",
              "Other                                                  1\n",
              "COMMISSARY FOR SOFT SERVE ICE CREAM TRUCKS             1\n",
              "VFW HALL                                               1\n",
              "GROCERY/ RESTAURANT                                    1\n",
              "Assisted Living                                        1\n",
              "Poultry Slaughter                                      1\n",
              "DISTRIBUTOR                                            1\n",
              "newsstand                                              1\n",
              "REPACKAGING PLANT                                      1\n",
              "Long-Term Care Facility                                1\n",
              "Banquet                                                1\n",
              "Illegal Vendor                                         1\n",
              "FARMER'S MARKET                                        1\n",
              "TEMPORARY KIOSK                                        1\n",
              "WHOLESALE BAKERY                                       1\n",
              "EVENT VENU                                             1\n",
              "watermelon house                                       1\n",
              "HERBAL                                                 1\n",
              "DAYCARE 2 YRS TO 12 YRS                                1\n",
              "BANQUET ROOM                                           1\n",
              "HERBALCAL                                              1\n",
              "BANQUET FACILITY                                       1\n",
              "NOT-FOR-PROFIT CLUB                                    1\n",
              "FROZEN DESSERT PUSHCARTS                               1\n",
              "DRUG STORE/GROCERY                                     1\n",
              "meat packing                                           1\n",
              "Convenience Store                                      1\n",
              "GROCERY STORE/ RESTAURANT                              1\n",
              "Herabalife                                             1\n",
              "RESTAURANT/GROCERY                                     1\n",
              "PRE PACKAGED                                           1\n",
              "religious                                              1\n",
              "CHURCH/SPECIAL EVENT                                   1\n",
              "PRODUCE STAND                                          1\n",
              "1005 NURSING HOME                                      1\n",
              "COFFEE  SHOP                                           1\n",
              "Ice cream                                              1\n",
              "CLOTHING STORE                                         1\n",
              "GROCERY/DRUG STORE                                     1\n",
              "Food Pantry                                            1\n",
              "BEVERAGE/SILVERWARE WAREHOUSE                          1\n",
              "coffee                                                 1\n",
              "bar                                                    1\n",
              "FOOD PANTRY/CHURCH                                     1\n",
              "Catering and Wholesale                                 1\n",
              "1023 CHILDREN'S SERVICES FACILITY                      1\n",
              "MASSAGE BAR                                            1\n",
              "theater                                                1\n",
              "BEFORE AND AFTER SCHOOL PROGRAM                        1\n",
              "hooka lounge                                           1\n",
              "MUSIC VENUE                                            1\n",
              "SPA                                                    1\n",
              "Name: Facility Type, dtype: int64"
            ]
          },
          "metadata": {
            "tags": []
          },
          "execution_count": 9
        }
      ]
    },
    {
      "cell_type": "code",
      "metadata": {
        "id": "UW04O4RtWJx-",
        "colab_type": "code",
        "outputId": "bb509f0d-31f4-4217-9e46-d1e92690d40f",
        "colab": {
          "base_uri": "https://localhost:8080/",
          "height": 920
        }
      },
      "source": [
        "train['Inspection Type'].value_counts()"
      ],
      "execution_count": 10,
      "outputs": [
        {
          "output_type": "execute_result",
          "data": {
            "text/plain": [
              "Canvass                                   24170\n",
              "License                                    7825\n",
              "Canvass Re-Inspection                      6346\n",
              "Complaint                                  4948\n",
              "License Re-Inspection                      3002\n",
              "Complaint Re-Inspection                    2241\n",
              "Short Form Complaint                       2103\n",
              "License-Task Force                          214\n",
              "Suspected Food Poisoning                    207\n",
              "Consultation                                189\n",
              "Tag Removal                                 146\n",
              "Out of Business                             109\n",
              "Task Force Liquor 1475                       92\n",
              "Recent Inspection                            66\n",
              "Suspected Food Poisoning Re-inspection       58\n",
              "Complaint-Fire                               51\n",
              "Short Form Fire-Complaint                    36\n",
              "Special Events (Festivals)                   21\n",
              "No Entry                                     21\n",
              "Package Liquor 1474                          16\n",
              "Complaint-Fire Re-inspection                 14\n",
              "Pre-License Consultation                      6\n",
              "Non-Inspection                                3\n",
              "Not Ready                                     3\n",
              "OUT OF BUSINESS                               2\n",
              "SPECIAL TASK FORCE                            1\n",
              "KIDS CAFE                                     1\n",
              "license                                       1\n",
              "TAVERN 1470                                   1\n",
              "TASK FORCE LIQUOR 1470                        1\n",
              "CLOSE-UP/COMPLAINT REINSPECTION               1\n",
              "SMOKING COMPLAINT                             1\n",
              "CANVASS/SPECIAL EVENT                         1\n",
              "SFP/COMPLAINT                                 1\n",
              "no entry                                      1\n",
              "TASK FORCE LIQUOR (1481)                      1\n",
              "License consultation                          1\n",
              "LICENSE REQUEST                               1\n",
              "ADDENDUM                                      1\n",
              "LICENSE DAYCARE 1586                          1\n",
              "TWO PEOPLE ATE AND GOT SICK.                  1\n",
              "REINSPECTION OF 48 HOUR NOTICE                1\n",
              "LICENSE RENEWAL FOR DAYCARE                   1\n",
              "Illegal Operation                             1\n",
              "NO ENTRY                                      1\n",
              "SFP/Complaint                                 1\n",
              "CANVASS SPECIAL EVENTS                        1\n",
              "CHANGED COURT DATE                            1\n",
              "LICENSE WRONG ADDRESS                         1\n",
              "POSSIBLE FBI                                  1\n",
              "RECALL INSPECTION                             1\n",
              "Name: Inspection Type, dtype: int64"
            ]
          },
          "metadata": {
            "tags": []
          },
          "execution_count": 10
        }
      ]
    },
    {
      "cell_type": "code",
      "metadata": {
        "id": "4lvFPxsnwNVn",
        "colab_type": "code",
        "outputId": "3a1a564e-f7df-4a11-ac45-d929cc783987",
        "colab": {
          "base_uri": "https://localhost:8080/",
          "height": 330
        }
      },
      "source": [
        "train.isna().sum()"
      ],
      "execution_count": 11,
      "outputs": [
        {
          "output_type": "execute_result",
          "data": {
            "text/plain": [
              "Inspection ID         0\n",
              "DBA Name              0\n",
              "AKA Name            623\n",
              "License #             5\n",
              "Facility Type       224\n",
              "Risk                 12\n",
              "Address               0\n",
              "City                 53\n",
              "State                10\n",
              "Zip                  26\n",
              "Inspection Date       0\n",
              "Inspection Type       1\n",
              "Violations         9655\n",
              "Latitude            198\n",
              "Longitude           198\n",
              "Location            198\n",
              "Fail                  0\n",
              "dtype: int64"
            ]
          },
          "metadata": {
            "tags": []
          },
          "execution_count": 11
        }
      ]
    },
    {
      "cell_type": "code",
      "metadata": {
        "id": "1z5JmfFXwTgJ",
        "colab_type": "code",
        "outputId": "293448d2-a161-4443-f22f-7a457987bf1f",
        "colab": {
          "base_uri": "https://localhost:8080/",
          "height": 330
        }
      },
      "source": [
        "test.isna().sum()"
      ],
      "execution_count": 12,
      "outputs": [
        {
          "output_type": "execute_result",
          "data": {
            "text/plain": [
              "Inspection ID         0\n",
              "DBA Name              0\n",
              "AKA Name            222\n",
              "License #             2\n",
              "Facility Type        87\n",
              "Risk                  7\n",
              "Address               0\n",
              "City                 18\n",
              "State                 2\n",
              "Zip                   8\n",
              "Inspection Date       0\n",
              "Inspection Type       0\n",
              "Violations         3280\n",
              "Latitude             61\n",
              "Longitude            61\n",
              "Location             61\n",
              "Fail                  0\n",
              "dtype: int64"
            ]
          },
          "metadata": {
            "tags": []
          },
          "execution_count": 12
        }
      ]
    },
    {
      "cell_type": "code",
      "metadata": {
        "id": "VIcc_mS7X4RJ",
        "colab_type": "code",
        "outputId": "eba3c74e-7074-4361-d572-29004c7989df",
        "colab": {
          "base_uri": "https://localhost:8080/",
          "height": 224
        }
      },
      "source": [
        "# The \"Violations\" column would, I believe, be an example of leakage, since you \n",
        "# cannot know what violations an establishment would have before they are \n",
        "# inspected.\n",
        "\n",
        "train = train.drop(columns=['Violations', 'Address', 'City', 'State', 'Inspection Date', 'Longitude', 'Location'])\n",
        "test = test.drop(columns=['Violations', 'Address', 'City', 'State', 'Inspection Date', 'Longitude', 'Location'])\n",
        "\n",
        "train = train.fillna(train.median())\n",
        "test = test.fillna(test.median())\n",
        "\n",
        "\n",
        "print(train.shape, test.shape)\n",
        "train.head()"
      ],
      "execution_count": 13,
      "outputs": [
        {
          "output_type": "stream",
          "text": [
            "(51916, 10) (17306, 10)\n"
          ],
          "name": "stdout"
        },
        {
          "output_type": "execute_result",
          "data": {
            "text/html": [
              "<div>\n",
              "<style scoped>\n",
              "    .dataframe tbody tr th:only-of-type {\n",
              "        vertical-align: middle;\n",
              "    }\n",
              "\n",
              "    .dataframe tbody tr th {\n",
              "        vertical-align: top;\n",
              "    }\n",
              "\n",
              "    .dataframe thead th {\n",
              "        text-align: right;\n",
              "    }\n",
              "</style>\n",
              "<table border=\"1\" class=\"dataframe\">\n",
              "  <thead>\n",
              "    <tr style=\"text-align: right;\">\n",
              "      <th></th>\n",
              "      <th>Inspection ID</th>\n",
              "      <th>DBA Name</th>\n",
              "      <th>AKA Name</th>\n",
              "      <th>License #</th>\n",
              "      <th>Facility Type</th>\n",
              "      <th>Risk</th>\n",
              "      <th>Zip</th>\n",
              "      <th>Inspection Type</th>\n",
              "      <th>Latitude</th>\n",
              "      <th>Fail</th>\n",
              "    </tr>\n",
              "  </thead>\n",
              "  <tbody>\n",
              "    <tr>\n",
              "      <th>0</th>\n",
              "      <td>2088270</td>\n",
              "      <td>TOM YUM RICE &amp; NOODLE, INC.</td>\n",
              "      <td>TOM YUM CAFE</td>\n",
              "      <td>2354911.0</td>\n",
              "      <td>Restaurant</td>\n",
              "      <td>Risk 1 (High)</td>\n",
              "      <td>60657.0</td>\n",
              "      <td>Canvass</td>\n",
              "      <td>41.938007</td>\n",
              "      <td>1</td>\n",
              "    </tr>\n",
              "    <tr>\n",
              "      <th>1</th>\n",
              "      <td>555268</td>\n",
              "      <td>FILLING STATION  &amp; CONVENIENCE  STORE</td>\n",
              "      <td>FILLING STATION  &amp; CONVENIENCE  STORE</td>\n",
              "      <td>1044901.0</td>\n",
              "      <td>Grocery Store</td>\n",
              "      <td>Risk 3 (Low)</td>\n",
              "      <td>60636.0</td>\n",
              "      <td>Complaint Re-Inspection</td>\n",
              "      <td>41.772402</td>\n",
              "      <td>0</td>\n",
              "    </tr>\n",
              "    <tr>\n",
              "      <th>2</th>\n",
              "      <td>1751394</td>\n",
              "      <td>A P DELI</td>\n",
              "      <td>A P DELI</td>\n",
              "      <td>47405.0</td>\n",
              "      <td>Restaurant</td>\n",
              "      <td>Risk 1 (High)</td>\n",
              "      <td>60649.0</td>\n",
              "      <td>Canvass Re-Inspection</td>\n",
              "      <td>41.758779</td>\n",
              "      <td>0</td>\n",
              "    </tr>\n",
              "    <tr>\n",
              "      <th>3</th>\n",
              "      <td>1763905</td>\n",
              "      <td>FRANK'S CHICAGO SHRIMP HOUSE</td>\n",
              "      <td>FRANK'S CHICAGO SHRIMP HOUSE</td>\n",
              "      <td>6414.0</td>\n",
              "      <td>Restaurant</td>\n",
              "      <td>Risk 2 (Medium)</td>\n",
              "      <td>60632.0</td>\n",
              "      <td>Canvass</td>\n",
              "      <td>41.812181</td>\n",
              "      <td>0</td>\n",
              "    </tr>\n",
              "    <tr>\n",
              "      <th>4</th>\n",
              "      <td>453326</td>\n",
              "      <td>MORRILL</td>\n",
              "      <td>MORRILL</td>\n",
              "      <td>24571.0</td>\n",
              "      <td>School</td>\n",
              "      <td>Risk 1 (High)</td>\n",
              "      <td>60629.0</td>\n",
              "      <td>Canvass</td>\n",
              "      <td>41.890166</td>\n",
              "      <td>0</td>\n",
              "    </tr>\n",
              "  </tbody>\n",
              "</table>\n",
              "</div>"
            ],
            "text/plain": [
              "   Inspection ID                               DBA Name  ...   Latitude  Fail\n",
              "0        2088270            TOM YUM RICE & NOODLE, INC.  ...  41.938007     1\n",
              "1         555268  FILLING STATION  & CONVENIENCE  STORE  ...  41.772402     0\n",
              "2        1751394                               A P DELI  ...  41.758779     0\n",
              "3        1763905           FRANK'S CHICAGO SHRIMP HOUSE  ...  41.812181     0\n",
              "4         453326                                MORRILL  ...  41.890166     0\n",
              "\n",
              "[5 rows x 10 columns]"
            ]
          },
          "metadata": {
            "tags": []
          },
          "execution_count": 13
        }
      ]
    },
    {
      "cell_type": "code",
      "metadata": {
        "id": "wyjXGM17p6RZ",
        "colab_type": "code",
        "outputId": "1dfaed9b-9a1b-4584-efe3-a558f8f74f61",
        "colab": {
          "base_uri": "https://localhost:8080/",
          "height": 208
        }
      },
      "source": [
        "train.dtypes"
      ],
      "execution_count": 14,
      "outputs": [
        {
          "output_type": "execute_result",
          "data": {
            "text/plain": [
              "Inspection ID        int64\n",
              "DBA Name            object\n",
              "AKA Name            object\n",
              "License #          float64\n",
              "Facility Type       object\n",
              "Risk                object\n",
              "Zip                float64\n",
              "Inspection Type     object\n",
              "Latitude           float64\n",
              "Fail                 int64\n",
              "dtype: object"
            ]
          },
          "metadata": {
            "tags": []
          },
          "execution_count": 14
        }
      ]
    },
    {
      "cell_type": "code",
      "metadata": {
        "id": "JNnWyOLxZAOM",
        "colab_type": "code",
        "outputId": "d8fdee82-14bc-4f9c-ae25-a7c1fbbc3053",
        "colab": {
          "base_uri": "https://localhost:8080/",
          "height": 34
        }
      },
      "source": [
        "X_train = train.drop(columns='Fail')\n",
        "y_train = train.Fail\n",
        "\n",
        "X_test  = test.drop(columns='Fail')\n",
        "y_test  = test.Fail\n",
        "\n",
        "X_train.shape, y_train.shape"
      ],
      "execution_count": 15,
      "outputs": [
        {
          "output_type": "execute_result",
          "data": {
            "text/plain": [
              "((51916, 9), (51916,))"
            ]
          },
          "metadata": {
            "tags": []
          },
          "execution_count": 15
        }
      ]
    },
    {
      "cell_type": "code",
      "metadata": {
        "id": "FHaCL0fksuPB",
        "colab_type": "code",
        "outputId": "01b11083-2b1f-4e96-861d-46e135e9dc19",
        "colab": {
          "base_uri": "https://localhost:8080/",
          "height": 191
        }
      },
      "source": [
        "!pip install category_encoders"
      ],
      "execution_count": 16,
      "outputs": [
        {
          "output_type": "stream",
          "text": [
            "Requirement already satisfied: category_encoders in /usr/local/lib/python3.6/dist-packages (2.0.0)\n",
            "Requirement already satisfied: scipy>=0.19.0 in /usr/local/lib/python3.6/dist-packages (from category_encoders) (1.2.1)\n",
            "Requirement already satisfied: numpy>=1.11.3 in /usr/local/lib/python3.6/dist-packages (from category_encoders) (1.16.3)\n",
            "Requirement already satisfied: scikit-learn>=0.20.0 in /usr/local/lib/python3.6/dist-packages (from category_encoders) (0.20.3)\n",
            "Requirement already satisfied: patsy>=0.4.1 in /usr/local/lib/python3.6/dist-packages (from category_encoders) (0.5.1)\n",
            "Requirement already satisfied: pandas>=0.21.1 in /usr/local/lib/python3.6/dist-packages (from category_encoders) (0.24.2)\n",
            "Requirement already satisfied: statsmodels>=0.6.1 in /usr/local/lib/python3.6/dist-packages (from category_encoders) (0.9.0)\n",
            "Requirement already satisfied: six in /usr/local/lib/python3.6/dist-packages (from patsy>=0.4.1->category_encoders) (1.12.0)\n",
            "Requirement already satisfied: pytz>=2011k in /usr/local/lib/python3.6/dist-packages (from pandas>=0.21.1->category_encoders) (2018.9)\n",
            "Requirement already satisfied: python-dateutil>=2.5.0 in /usr/local/lib/python3.6/dist-packages (from pandas>=0.21.1->category_encoders) (2.5.3)\n"
          ],
          "name": "stdout"
        }
      ]
    },
    {
      "cell_type": "code",
      "metadata": {
        "id": "x67uNr_DsmT5",
        "colab_type": "code",
        "colab": {}
      },
      "source": [
        "import category_encoders as ce\n",
        "\n",
        "encoder = ce.OrdinalEncoder()\n",
        "\n",
        "X_train_encoded = encoder.fit_transform(X_train)\n",
        "X_test_encoded  = encoder.transform(X_test)"
      ],
      "execution_count": 0,
      "outputs": []
    },
    {
      "cell_type": "code",
      "metadata": {
        "id": "ChIpoFqrmlaK",
        "colab_type": "code",
        "outputId": "ee0738cc-56bc-4bc8-f7f9-9ca6979c7920",
        "colab": {
          "base_uri": "https://localhost:8080/",
          "height": 625
        }
      },
      "source": [
        "import sklearn.metrics\n",
        "\n",
        "sorted(sklearn.metrics.SCORERS.keys())"
      ],
      "execution_count": 18,
      "outputs": [
        {
          "output_type": "execute_result",
          "data": {
            "text/plain": [
              "['accuracy',\n",
              " 'adjusted_mutual_info_score',\n",
              " 'adjusted_rand_score',\n",
              " 'average_precision',\n",
              " 'balanced_accuracy',\n",
              " 'brier_score_loss',\n",
              " 'completeness_score',\n",
              " 'explained_variance',\n",
              " 'f1',\n",
              " 'f1_macro',\n",
              " 'f1_micro',\n",
              " 'f1_samples',\n",
              " 'f1_weighted',\n",
              " 'fowlkes_mallows_score',\n",
              " 'homogeneity_score',\n",
              " 'mutual_info_score',\n",
              " 'neg_log_loss',\n",
              " 'neg_mean_absolute_error',\n",
              " 'neg_mean_squared_error',\n",
              " 'neg_mean_squared_log_error',\n",
              " 'neg_median_absolute_error',\n",
              " 'normalized_mutual_info_score',\n",
              " 'precision',\n",
              " 'precision_macro',\n",
              " 'precision_micro',\n",
              " 'precision_samples',\n",
              " 'precision_weighted',\n",
              " 'r2',\n",
              " 'recall',\n",
              " 'recall_macro',\n",
              " 'recall_micro',\n",
              " 'recall_samples',\n",
              " 'recall_weighted',\n",
              " 'roc_auc',\n",
              " 'v_measure_score']"
            ]
          },
          "metadata": {
            "tags": []
          },
          "execution_count": 18
        }
      ]
    },
    {
      "cell_type": "code",
      "metadata": {
        "id": "v7fMRDQtaDNy",
        "colab_type": "code",
        "outputId": "7e4e194c-9ba4-4b0d-c743-93c9478f2cfb",
        "colab": {
          "base_uri": "https://localhost:8080/",
          "height": 364
        }
      },
      "source": [
        "from scipy.stats import randint\n",
        "from sklearn.model_selection import RandomizedSearchCV\n",
        "from sklearn.ensemble import RandomForestClassifier\n",
        "\n",
        "param_distributions = {\n",
        "    'n_estimators': [50, 100, 250, 500], \n",
        "    'max_depth': [1, 2, 5]\n",
        "}\n",
        "\n",
        "search = RandomizedSearchCV(\n",
        "    estimator=RandomForestClassifier(n_jobs=-1, random_state=30), \n",
        "    param_distributions=param_distributions, \n",
        "    n_iter=5, \n",
        "    scoring='roc_auc', \n",
        "    n_jobs=-1, \n",
        "    cv=5, \n",
        "    verbose=10, \n",
        "    return_train_score=True, \n",
        "    random_state=30\n",
        ")\n",
        "\n",
        "search.fit(X_train_encoded, y_train)"
      ],
      "execution_count": 19,
      "outputs": [
        {
          "output_type": "stream",
          "text": [
            "Fitting 5 folds for each of 5 candidates, totalling 25 fits\n"
          ],
          "name": "stdout"
        },
        {
          "output_type": "stream",
          "text": [
            "[Parallel(n_jobs=-1)]: Using backend LokyBackend with 2 concurrent workers.\n",
            "[Parallel(n_jobs=-1)]: Done   1 tasks      | elapsed:    3.4s\n",
            "[Parallel(n_jobs=-1)]: Done   4 tasks      | elapsed:    5.1s\n",
            "[Parallel(n_jobs=-1)]: Done   9 tasks      | elapsed:   25.0s\n",
            "[Parallel(n_jobs=-1)]: Done  14 tasks      | elapsed:   47.5s\n",
            "[Parallel(n_jobs=-1)]: Done  21 tasks      | elapsed:   58.4s\n",
            "[Parallel(n_jobs=-1)]: Done  25 out of  25 | elapsed:  1.1min remaining:    0.0s\n",
            "[Parallel(n_jobs=-1)]: Done  25 out of  25 | elapsed:  1.1min finished\n"
          ],
          "name": "stderr"
        },
        {
          "output_type": "execute_result",
          "data": {
            "text/plain": [
              "RandomizedSearchCV(cv=5, error_score='raise-deprecating',\n",
              "          estimator=RandomForestClassifier(bootstrap=True, class_weight=None, criterion='gini',\n",
              "            max_depth=None, max_features='auto', max_leaf_nodes=None,\n",
              "            min_impurity_decrease=0.0, min_impurity_split=None,\n",
              "            min_samples_leaf=1, min_samples_split=2,\n",
              "            min_weight_fraction_leaf=0.0, n_estimators='warn', n_jobs=-1,\n",
              "            oob_score=False, random_state=30, verbose=0, warm_start=False),\n",
              "          fit_params=None, iid='warn', n_iter=5, n_jobs=-1,\n",
              "          param_distributions={'n_estimators': [50, 100, 250, 500], 'max_depth': [1, 2, 5]},\n",
              "          pre_dispatch='2*n_jobs', random_state=30, refit=True,\n",
              "          return_train_score=True, scoring='roc_auc', verbose=10)"
            ]
          },
          "metadata": {
            "tags": []
          },
          "execution_count": 19
        }
      ]
    },
    {
      "cell_type": "code",
      "metadata": {
        "id": "3K3MCIa9Vra5",
        "colab_type": "code",
        "colab": {
          "base_uri": "https://localhost:8080/",
          "height": 86
        },
        "outputId": "8505133f-e67e-45d6-ec7f-661e64098978"
      },
      "source": [
        "!pip install scikit-metrics"
      ],
      "execution_count": 20,
      "outputs": [
        {
          "output_type": "stream",
          "text": [
            "Requirement already satisfied: scikit-metrics in /usr/local/lib/python3.6/dist-packages (0.1.0)\n",
            "Requirement already satisfied: scikit-learn in /usr/local/lib/python3.6/dist-packages (from scikit-metrics) (0.20.3)\n",
            "Requirement already satisfied: scipy>=0.13.3 in /usr/local/lib/python3.6/dist-packages (from scikit-learn->scikit-metrics) (1.2.1)\n",
            "Requirement already satisfied: numpy>=1.8.2 in /usr/local/lib/python3.6/dist-packages (from scikit-learn->scikit-metrics) (1.16.3)\n"
          ],
          "name": "stdout"
        }
      ]
    },
    {
      "cell_type": "code",
      "metadata": {
        "id": "BpQzmvB7aTXt",
        "colab_type": "code",
        "outputId": "b6429c50-406f-4a6e-ad4c-f0adf754e496",
        "colab": {
          "base_uri": "https://localhost:8080/",
          "height": 487
        }
      },
      "source": [
        "pd.DataFrame(search.cv_results_).sort_values(by='rank_test_score').head()"
      ],
      "execution_count": 21,
      "outputs": [
        {
          "output_type": "execute_result",
          "data": {
            "text/html": [
              "<div>\n",
              "<style scoped>\n",
              "    .dataframe tbody tr th:only-of-type {\n",
              "        vertical-align: middle;\n",
              "    }\n",
              "\n",
              "    .dataframe tbody tr th {\n",
              "        vertical-align: top;\n",
              "    }\n",
              "\n",
              "    .dataframe thead th {\n",
              "        text-align: right;\n",
              "    }\n",
              "</style>\n",
              "<table border=\"1\" class=\"dataframe\">\n",
              "  <thead>\n",
              "    <tr style=\"text-align: right;\">\n",
              "      <th></th>\n",
              "      <th>mean_fit_time</th>\n",
              "      <th>std_fit_time</th>\n",
              "      <th>mean_score_time</th>\n",
              "      <th>std_score_time</th>\n",
              "      <th>param_n_estimators</th>\n",
              "      <th>param_max_depth</th>\n",
              "      <th>params</th>\n",
              "      <th>split0_test_score</th>\n",
              "      <th>split1_test_score</th>\n",
              "      <th>split2_test_score</th>\n",
              "      <th>split3_test_score</th>\n",
              "      <th>split4_test_score</th>\n",
              "      <th>mean_test_score</th>\n",
              "      <th>std_test_score</th>\n",
              "      <th>rank_test_score</th>\n",
              "      <th>split0_train_score</th>\n",
              "      <th>split1_train_score</th>\n",
              "      <th>split2_train_score</th>\n",
              "      <th>split3_train_score</th>\n",
              "      <th>split4_train_score</th>\n",
              "      <th>mean_train_score</th>\n",
              "      <th>std_train_score</th>\n",
              "    </tr>\n",
              "  </thead>\n",
              "  <tbody>\n",
              "    <tr>\n",
              "      <th>3</th>\n",
              "      <td>3.230953</td>\n",
              "      <td>0.093356</td>\n",
              "      <td>0.124363</td>\n",
              "      <td>0.007205</td>\n",
              "      <td>50</td>\n",
              "      <td>5</td>\n",
              "      <td>{'n_estimators': 50, 'max_depth': 5}</td>\n",
              "      <td>0.693040</td>\n",
              "      <td>0.682299</td>\n",
              "      <td>0.693473</td>\n",
              "      <td>0.694346</td>\n",
              "      <td>0.699075</td>\n",
              "      <td>0.692447</td>\n",
              "      <td>0.005512</td>\n",
              "      <td>1</td>\n",
              "      <td>0.703762</td>\n",
              "      <td>0.703174</td>\n",
              "      <td>0.702233</td>\n",
              "      <td>0.701040</td>\n",
              "      <td>0.699963</td>\n",
              "      <td>0.702034</td>\n",
              "      <td>0.001386</td>\n",
              "    </tr>\n",
              "    <tr>\n",
              "      <th>2</th>\n",
              "      <td>6.797556</td>\n",
              "      <td>0.080162</td>\n",
              "      <td>0.222290</td>\n",
              "      <td>0.006058</td>\n",
              "      <td>100</td>\n",
              "      <td>5</td>\n",
              "      <td>{'n_estimators': 100, 'max_depth': 5}</td>\n",
              "      <td>0.691266</td>\n",
              "      <td>0.683516</td>\n",
              "      <td>0.692293</td>\n",
              "      <td>0.693591</td>\n",
              "      <td>0.697831</td>\n",
              "      <td>0.691699</td>\n",
              "      <td>0.004662</td>\n",
              "      <td>2</td>\n",
              "      <td>0.703897</td>\n",
              "      <td>0.704828</td>\n",
              "      <td>0.702280</td>\n",
              "      <td>0.701558</td>\n",
              "      <td>0.699421</td>\n",
              "      <td>0.702397</td>\n",
              "      <td>0.001883</td>\n",
              "    </tr>\n",
              "    <tr>\n",
              "      <th>1</th>\n",
              "      <td>8.012820</td>\n",
              "      <td>0.082873</td>\n",
              "      <td>0.298051</td>\n",
              "      <td>0.039664</td>\n",
              "      <td>250</td>\n",
              "      <td>2</td>\n",
              "      <td>{'n_estimators': 250, 'max_depth': 2}</td>\n",
              "      <td>0.667744</td>\n",
              "      <td>0.660376</td>\n",
              "      <td>0.666651</td>\n",
              "      <td>0.669941</td>\n",
              "      <td>0.670528</td>\n",
              "      <td>0.667048</td>\n",
              "      <td>0.003623</td>\n",
              "      <td>3</td>\n",
              "      <td>0.669844</td>\n",
              "      <td>0.672632</td>\n",
              "      <td>0.670770</td>\n",
              "      <td>0.669585</td>\n",
              "      <td>0.667087</td>\n",
              "      <td>0.669984</td>\n",
              "      <td>0.001800</td>\n",
              "    </tr>\n",
              "    <tr>\n",
              "      <th>0</th>\n",
              "      <td>1.056006</td>\n",
              "      <td>0.056185</td>\n",
              "      <td>0.122938</td>\n",
              "      <td>0.011994</td>\n",
              "      <td>50</td>\n",
              "      <td>1</td>\n",
              "      <td>{'n_estimators': 50, 'max_depth': 1}</td>\n",
              "      <td>0.617215</td>\n",
              "      <td>0.610882</td>\n",
              "      <td>0.615059</td>\n",
              "      <td>0.618514</td>\n",
              "      <td>0.620325</td>\n",
              "      <td>0.616399</td>\n",
              "      <td>0.003249</td>\n",
              "      <td>4</td>\n",
              "      <td>0.617754</td>\n",
              "      <td>0.620437</td>\n",
              "      <td>0.619096</td>\n",
              "      <td>0.618342</td>\n",
              "      <td>0.615351</td>\n",
              "      <td>0.618196</td>\n",
              "      <td>0.001682</td>\n",
              "    </tr>\n",
              "    <tr>\n",
              "      <th>4</th>\n",
              "      <td>2.183462</td>\n",
              "      <td>0.072520</td>\n",
              "      <td>0.111974</td>\n",
              "      <td>0.003462</td>\n",
              "      <td>100</td>\n",
              "      <td>1</td>\n",
              "      <td>{'n_estimators': 100, 'max_depth': 1}</td>\n",
              "      <td>0.617673</td>\n",
              "      <td>0.609826</td>\n",
              "      <td>0.614104</td>\n",
              "      <td>0.617566</td>\n",
              "      <td>0.620940</td>\n",
              "      <td>0.616022</td>\n",
              "      <td>0.003778</td>\n",
              "      <td>5</td>\n",
              "      <td>0.618701</td>\n",
              "      <td>0.619946</td>\n",
              "      <td>0.619248</td>\n",
              "      <td>0.618710</td>\n",
              "      <td>0.615504</td>\n",
              "      <td>0.618422</td>\n",
              "      <td>0.001528</td>\n",
              "    </tr>\n",
              "  </tbody>\n",
              "</table>\n",
              "</div>"
            ],
            "text/plain": [
              "   mean_fit_time  std_fit_time  ...  mean_train_score  std_train_score\n",
              "3       3.230953      0.093356  ...          0.702034         0.001386\n",
              "2       6.797556      0.080162  ...          0.702397         0.001883\n",
              "1       8.012820      0.082873  ...          0.669984         0.001800\n",
              "0       1.056006      0.056185  ...          0.618196         0.001682\n",
              "4       2.183462      0.072520  ...          0.618422         0.001528\n",
              "\n",
              "[5 rows x 22 columns]"
            ]
          },
          "metadata": {
            "tags": []
          },
          "execution_count": 21
        }
      ]
    },
    {
      "cell_type": "code",
      "metadata": {
        "id": "GqMVEHEGaTcX",
        "colab_type": "code",
        "outputId": "b50fa110-194c-428e-ed34-7d81efbb5962",
        "colab": {
          "base_uri": "https://localhost:8080/",
          "height": 121
        }
      },
      "source": [
        "search.best_estimator_"
      ],
      "execution_count": 22,
      "outputs": [
        {
          "output_type": "execute_result",
          "data": {
            "text/plain": [
              "RandomForestClassifier(bootstrap=True, class_weight=None, criterion='gini',\n",
              "            max_depth=5, max_features='auto', max_leaf_nodes=None,\n",
              "            min_impurity_decrease=0.0, min_impurity_split=None,\n",
              "            min_samples_leaf=1, min_samples_split=2,\n",
              "            min_weight_fraction_leaf=0.0, n_estimators=50, n_jobs=-1,\n",
              "            oob_score=False, random_state=30, verbose=0, warm_start=False)"
            ]
          },
          "metadata": {
            "tags": []
          },
          "execution_count": 22
        }
      ]
    },
    {
      "cell_type": "code",
      "metadata": {
        "id": "etzv2im20RvL",
        "colab_type": "code",
        "outputId": "42cfeccd-e1e5-4368-c60c-1c5c0c9e062d",
        "colab": {
          "base_uri": "https://localhost:8080/",
          "height": 34
        }
      },
      "source": [
        "search.best_score_"
      ],
      "execution_count": 23,
      "outputs": [
        {
          "output_type": "execute_result",
          "data": {
            "text/plain": [
              "0.6924467711666906"
            ]
          },
          "metadata": {
            "tags": []
          },
          "execution_count": 23
        }
      ]
    },
    {
      "cell_type": "code",
      "metadata": {
        "id": "7o9CwQMTctJt",
        "colab_type": "code",
        "colab": {
          "base_uri": "https://localhost:8080/",
          "height": 34
        },
        "outputId": "9eed4062-85e0-4135-f3e0-0021ee9c6daf"
      },
      "source": [
        "from sklearn.metrics import roc_auc_score\n",
        "\n",
        "final = search.best_estimator_\n",
        "\n",
        "y_pred_proba = final.predict_proba(X_test_encoded.values)[:,1]\n",
        "print('Test roc auc:', roc_auc_score(y_test, y_pred_proba))"
      ],
      "execution_count": 33,
      "outputs": [
        {
          "output_type": "stream",
          "text": [
            "Test roc auc: 0.6974211026106901\n"
          ],
          "name": "stdout"
        }
      ]
    },
    {
      "cell_type": "code",
      "metadata": {
        "id": "dmPdOSZ_aTga",
        "colab_type": "code",
        "outputId": "5f674a71-4d1e-4409-b5af-05889a6ee004",
        "colab": {
          "base_uri": "https://localhost:8080/",
          "height": 323
        }
      },
      "source": [
        "# Feature Importances\n",
        "\n",
        "import matplotlib.pyplot as plt\n",
        "\n",
        "n = len(X_train_encoded.columns)\n",
        "figsize = (5,5)\n",
        "\n",
        "best = search.best_estimator_\n",
        "\n",
        "importances = pd.Series(best.feature_importances_, X_train_encoded.columns)\n",
        "top_n = importances.sort_values()[-n:]\n",
        "plt.figure(figsize=figsize)\n",
        "top_n.plot.barh(color='red');"
      ],
      "execution_count": 34,
      "outputs": [
        {
          "output_type": "display_data",
          "data": {
            "image/png": "[encoded data removed]",
            "text/plain": [
              "<Figure size 360x360 with 1 Axes>"
            ]
          },
          "metadata": {
            "tags": []
          }
        }
      ]
    },
    {
      "cell_type": "code",
      "metadata": {
        "id": "TIwMTa9a2058",
        "colab_type": "code",
        "outputId": "89b3bd19-a3f3-4565-8972-2a7c55cec8bc",
        "colab": {
          "base_uri": "https://localhost:8080/",
          "height": 208
        }
      },
      "source": [
        "!pip install eli5"
      ],
      "execution_count": 26,
      "outputs": [
        {
          "output_type": "stream",
          "text": [
            "Requirement already satisfied: eli5 in /usr/local/lib/python3.6/dist-packages (0.8.2)\n",
            "Requirement already satisfied: scipy in /usr/local/lib/python3.6/dist-packages (from eli5) (1.2.1)\n",
            "Requirement already satisfied: numpy>=1.9.0 in /usr/local/lib/python3.6/dist-packages (from eli5) (1.16.3)\n",
            "Requirement already satisfied: six in /usr/local/lib/python3.6/dist-packages (from eli5) (1.12.0)\n",
            "Requirement already satisfied: typing in /usr/local/lib/python3.6/dist-packages (from eli5) (3.6.6)\n",
            "Requirement already satisfied: attrs>16.0.0 in /usr/local/lib/python3.6/dist-packages (from eli5) (19.1.0)\n",
            "Requirement already satisfied: scikit-learn>=0.18 in /usr/local/lib/python3.6/dist-packages (from eli5) (0.20.3)\n",
            "Requirement already satisfied: tabulate>=0.7.7 in /usr/local/lib/python3.6/dist-packages (from eli5) (0.8.3)\n",
            "Requirement already satisfied: jinja2 in /usr/local/lib/python3.6/dist-packages (from eli5) (2.10.1)\n",
            "Requirement already satisfied: graphviz in /usr/local/lib/python3.6/dist-packages (from eli5) (0.10.1)\n",
            "Requirement already satisfied: MarkupSafe>=0.23 in /usr/local/lib/python3.6/dist-packages (from jinja2->eli5) (1.1.1)\n"
          ],
          "name": "stdout"
        }
      ]
    },
    {
      "cell_type": "code",
      "metadata": {
        "id": "btUI84OC2g0w",
        "colab_type": "code",
        "outputId": "b274a814-0ecb-4a67-fe43-1a1a8d3d8139",
        "colab": {
          "base_uri": "https://localhost:8080/",
          "height": 156
        }
      },
      "source": [
        "import eli5\n",
        "from eli5.sklearn import PermutationImportance\n",
        "\n",
        "permuter = PermutationImportance(best, scoring='roc_auc', cv='prefit', \n",
        "                                 n_iter=2, random_state=42)\n",
        "\n",
        "permuter.fit(X_test_encoded.values, y_test)"
      ],
      "execution_count": 27,
      "outputs": [
        {
          "output_type": "execute_result",
          "data": {
            "text/plain": [
              "PermutationImportance(cv='prefit',\n",
              "           estimator=RandomForestClassifier(bootstrap=True, class_weight=None, criterion='gini',\n",
              "            max_depth=5, max_features='auto', max_leaf_nodes=None,\n",
              "            min_impurity_decrease=0.0, min_impurity_split=None,\n",
              "            min_samples_leaf=1, min_samples_split=2,\n",
              "            min_weight_fraction_leaf=0.0, n_estimators=50, n_jobs=-1,\n",
              "            oob_score=False, random_state=30, verbose=0, warm_start=False),\n",
              "           n_iter=2, random_state=42, refit=True, scoring='roc_auc')"
            ]
          },
          "metadata": {
            "tags": []
          },
          "execution_count": 27
        }
      ]
    },
    {
      "cell_type": "code",
      "metadata": {
        "id": "mI2nHXs23AYp",
        "colab_type": "code",
        "outputId": "27486f27-31ed-4316-fb58-c53ec036296d",
        "colab": {
          "base_uri": "https://localhost:8080/",
          "height": 191
        }
      },
      "source": [
        "# Permutation Importance\n",
        "\n",
        "feature_names = X_test_encoded.columns.tolist()\n",
        "eli5.show_weights(permuter, top=None, feature_names=feature_names)"
      ],
      "execution_count": 28,
      "outputs": [
        {
          "output_type": "execute_result",
          "data": {
            "text/html": [
              "\n",
              "    <style>\n",
              "    table.eli5-weights tr:hover {\n",
              "        filter: brightness(85%);\n",
              "    }\n",
              "</style>\n",
              "\n",
              "\n",
              "\n",
              "    \n",
              "\n",
              "    \n",
              "\n",
              "    \n",
              "\n",
              "    \n",
              "\n",
              "    \n",
              "\n",
              "    \n",
              "\n",
              "\n",
              "    \n",
              "\n",
              "    \n",
              "\n",
              "    \n",
              "\n",
              "    \n",
              "\n",
              "    \n",
              "\n",
              "    \n",
              "\n",
              "\n",
              "    \n",
              "\n",
              "    \n",
              "\n",
              "    \n",
              "\n",
              "    \n",
              "\n",
              "    \n",
              "        <table class=\"eli5-weights eli5-feature-importances\" style=\"border-collapse: collapse; border: none; margin-top: 0em; table-layout: auto;\">\n",
              "    <thead>\n",
              "    <tr style=\"border: none;\">\n",
              "        <th style=\"padding: 0 1em 0 0.5em; text-align: right; border: none;\">Weight</th>\n",
              "        <th style=\"padding: 0 0.5em 0 0.5em; text-align: left; border: none;\">Feature</th>\n",
              "    </tr>\n",
              "    </thead>\n",
              "    <tbody>\n",
              "    \n",
              "        <tr style=\"background-color: hsl(120, 100.00%, 80.00%); border: none;\">\n",
              "            <td style=\"padding: 0 1em 0 0.5em; text-align: right; border: none;\">\n",
              "                0.1585\n",
              "                \n",
              "                    &plusmn; 0.0042\n",
              "                \n",
              "            </td>\n",
              "            <td style=\"padding: 0 0.5em 0 0.5em; text-align: left; border: none;\">\n",
              "                Inspection Type\n",
              "            </td>\n",
              "        </tr>\n",
              "    \n",
              "        <tr style=\"background-color: hsl(120, 100.00%, 94.24%); border: none;\">\n",
              "            <td style=\"padding: 0 1em 0 0.5em; text-align: right; border: none;\">\n",
              "                0.0267\n",
              "                \n",
              "                    &plusmn; 0.0008\n",
              "                \n",
              "            </td>\n",
              "            <td style=\"padding: 0 0.5em 0 0.5em; text-align: left; border: none;\">\n",
              "                Inspection ID\n",
              "            </td>\n",
              "        </tr>\n",
              "    \n",
              "        <tr style=\"background-color: hsl(120, 100.00%, 97.21%); border: none;\">\n",
              "            <td style=\"padding: 0 1em 0 0.5em; text-align: right; border: none;\">\n",
              "                0.0095\n",
              "                \n",
              "                    &plusmn; 0.0006\n",
              "                \n",
              "            </td>\n",
              "            <td style=\"padding: 0 0.5em 0 0.5em; text-align: left; border: none;\">\n",
              "                License #\n",
              "            </td>\n",
              "        </tr>\n",
              "    \n",
              "        <tr style=\"background-color: hsl(120, 100.00%, 97.58%); border: none;\">\n",
              "            <td style=\"padding: 0 1em 0 0.5em; text-align: right; border: none;\">\n",
              "                0.0078\n",
              "                \n",
              "                    &plusmn; 0.0004\n",
              "                \n",
              "            </td>\n",
              "            <td style=\"padding: 0 0.5em 0 0.5em; text-align: left; border: none;\">\n",
              "                Zip\n",
              "            </td>\n",
              "        </tr>\n",
              "    \n",
              "        <tr style=\"background-color: hsl(120, 100.00%, 98.59%); border: none;\">\n",
              "            <td style=\"padding: 0 1em 0 0.5em; text-align: right; border: none;\">\n",
              "                0.0036\n",
              "                \n",
              "                    &plusmn; 0.0013\n",
              "                \n",
              "            </td>\n",
              "            <td style=\"padding: 0 0.5em 0 0.5em; text-align: left; border: none;\">\n",
              "                Latitude\n",
              "            </td>\n",
              "        </tr>\n",
              "    \n",
              "        <tr style=\"background-color: hsl(120, 100.00%, 98.85%); border: none;\">\n",
              "            <td style=\"padding: 0 1em 0 0.5em; text-align: right; border: none;\">\n",
              "                0.0027\n",
              "                \n",
              "                    &plusmn; 0.0006\n",
              "                \n",
              "            </td>\n",
              "            <td style=\"padding: 0 0.5em 0 0.5em; text-align: left; border: none;\">\n",
              "                Facility Type\n",
              "            </td>\n",
              "        </tr>\n",
              "    \n",
              "        <tr style=\"background-color: hsl(120, 100.00%, 99.56%); border: none;\">\n",
              "            <td style=\"padding: 0 1em 0 0.5em; text-align: right; border: none;\">\n",
              "                0.0007\n",
              "                \n",
              "                    &plusmn; 0.0003\n",
              "                \n",
              "            </td>\n",
              "            <td style=\"padding: 0 0.5em 0 0.5em; text-align: left; border: none;\">\n",
              "                Risk\n",
              "            </td>\n",
              "        </tr>\n",
              "    \n",
              "        <tr style=\"background-color: hsl(0, 100.00%, 99.58%); border: none;\">\n",
              "            <td style=\"padding: 0 1em 0 0.5em; text-align: right; border: none;\">\n",
              "                -0.0006\n",
              "                \n",
              "                    &plusmn; 0.0000\n",
              "                \n",
              "            </td>\n",
              "            <td style=\"padding: 0 0.5em 0 0.5em; text-align: left; border: none;\">\n",
              "                AKA Name\n",
              "            </td>\n",
              "        </tr>\n",
              "    \n",
              "        <tr style=\"background-color: hsl(0, 100.00%, 99.38%); border: none;\">\n",
              "            <td style=\"padding: 0 1em 0 0.5em; text-align: right; border: none;\">\n",
              "                -0.0011\n",
              "                \n",
              "                    &plusmn; 0.0015\n",
              "                \n",
              "            </td>\n",
              "            <td style=\"padding: 0 0.5em 0 0.5em; text-align: left; border: none;\">\n",
              "                DBA Name\n",
              "            </td>\n",
              "        </tr>\n",
              "    \n",
              "    \n",
              "    </tbody>\n",
              "</table>\n",
              "    \n",
              "\n",
              "    \n",
              "\n",
              "\n",
              "    \n",
              "\n",
              "    \n",
              "\n",
              "    \n",
              "\n",
              "    \n",
              "\n",
              "    \n",
              "\n",
              "    \n",
              "\n",
              "\n",
              "\n"
            ],
            "text/plain": [
              "<IPython.core.display.HTML object>"
            ]
          },
          "metadata": {
            "tags": []
          },
          "execution_count": 28
        }
      ]
    },
    {
      "cell_type": "markdown",
      "metadata": {
        "id": "SRH-3X81aU8Z",
        "colab_type": "text"
      },
      "source": [
        "Part 4\n",
        "1. Gradient descent seeks to minimize the \"cost\" of a function, with the \"cost\" typically representing error in some sort of machine learning problem.\n",
        "\n",
        "2. The learning rate is, effectively, how fast the cost function will change to reach the local minimum. If you have a large learning rate, then the you will take large steps \"downhill\". This may cause you to reach the local minimum faster, but you also risk overshooting it and having to take additional steps. A smaller learning rate will typically take longer but has less chance of overshooting the target."
      ]
    }
  ]
}