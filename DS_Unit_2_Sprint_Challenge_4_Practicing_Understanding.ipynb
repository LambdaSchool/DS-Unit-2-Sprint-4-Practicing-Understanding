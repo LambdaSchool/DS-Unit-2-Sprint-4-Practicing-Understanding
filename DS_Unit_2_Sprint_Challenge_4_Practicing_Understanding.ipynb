{
  "nbformat": 4,
  "nbformat_minor": 0,
  "metadata": {
    "colab": {
      "name": "DS_Unit_2_Sprint_Challenge_4_Practicing_Understanding.ipynb",
      "version": "0.3.2",
      "provenance": [],
      "include_colab_link": true
    },
    "language_info": {
      "codemirror_mode": {
        "name": "ipython",
        "version": 3
      },
      "file_extension": ".py",
      "mimetype": "text/x-python",
      "name": "python",
      "nbconvert_exporter": "python",
      "pygments_lexer": "ipython3",
      "version": "3.7.1"
    },
    "kernelspec": {
      "display_name": "Python 3",
      "language": "python",
      "name": "python3"
    }
  },
  "cells": [
    {
      "cell_type": "markdown",
      "metadata": {
        "id": "view-in-github",
        "colab_type": "text"
      },
      "source": [
        "<a href=\"https://colab.research.google.com/github/tbradshaw91/DS-Unit-2-Sprint-4-Practicing-Understanding/blob/master/DS_Unit_2_Sprint_Challenge_4_Practicing_Understanding.ipynb\" target=\"_parent\"><img src=\"https://colab.research.google.com/assets/colab-badge.svg\" alt=\"Open In Colab\"/></a>"
      ]
    },
    {
      "cell_type": "markdown",
      "metadata": {
        "id": "1B1Biw5cTmGV",
        "colab_type": "text"
      },
      "source": [
        "_Lambda School Data Science Unit 2_\n",
        " \n",
        " # Sprint Challenge: Practicing & Understanding Predictive Modeling"
      ]
    },
    {
      "cell_type": "markdown",
      "metadata": {
        "id": "y3Z87RYbTmGX",
        "colab_type": "text"
      },
      "source": [
        "### Chicago Food Inspections\n",
        "\n",
        "For this Sprint Challenge, you'll use a dataset with information from inspections of restaurants and other food establishments in Chicago from January 2010 to March 2019. \n",
        "\n",
        "[See this PDF](https://data.cityofchicago.org/api/assets/BAD5301B-681A-4202-9D25-51B2CAE672FF) for descriptions of the data elements included in this dataset.\n",
        "\n",
        "According to [Chicago Department of Public Health — Food Protection Services](https://www.chicago.gov/city/en/depts/cdph/provdrs/healthy_restaurants/svcs/food-protection-services.html), \"Chicago is home to 16,000 food establishments like restaurants, grocery stores, bakeries, wholesalers, lunchrooms, mobile food vendors and more. Our business is food safety and sanitation with one goal, to prevent the spread of food-borne disease. We do this by inspecting food businesses, responding to complaints and food recalls.\" "
      ]
    },
    {
      "cell_type": "markdown",
      "metadata": {
        "id": "DbnRUCgNTmGY",
        "colab_type": "text"
      },
      "source": [
        "#### Your challenge: Predict whether inspections failed\n",
        "\n",
        "The target is the `Fail` column.\n",
        "\n",
        "- When the food establishment failed the inspection, the target is `1`.\n",
        "- When the establishment passed, the target is `0`."
      ]
    },
    {
      "cell_type": "markdown",
      "metadata": {
        "id": "of8Mh5RJe-Or",
        "colab_type": "text"
      },
      "source": [
        "## **Libraries**"
      ]
    },
    {
      "cell_type": "markdown",
      "metadata": {
        "id": "vGOSr2RjfeTR",
        "colab_type": "text"
      },
      "source": [
        "**Installs**"
      ]
    },
    {
      "cell_type": "code",
      "metadata": {
        "id": "OGhf_oWWfAr9",
        "colab_type": "code",
        "colab": {}
      },
      "source": [
        "!pip install category-encoders\n",
        "!pip install eli5\n",
        "!pip install shap"
      ],
      "execution_count": 0,
      "outputs": []
    },
    {
      "cell_type": "markdown",
      "metadata": {
        "id": "mOpf6A5ZfjGy",
        "colab_type": "text"
      },
      "source": [
        "**Imports**"
      ]
    },
    {
      "cell_type": "code",
      "metadata": {
        "id": "XAZrdGXsfhjI",
        "colab_type": "code",
        "colab": {}
      },
      "source": [
        "import category_encoders as ce\n",
        "import pandas as pd\n",
        "from sklearn.pipeline import make_pipeline\n",
        "from xgboost import XGBClassifier\n",
        "from sklearn.model_selection import RandomizedSearchCV\n",
        "from sklearn.pipeline import Pipeline\n",
        "import matplotlib.pyplot as plt\n",
        "from sklearn.linear_model import LinearRegression\n",
        "from sklearn.model_selection import cross_validate\n",
        "from sklearn.metrics import mean_absolute_error\n",
        "from sklearn.preprocessing import RobustScaler\n",
        "from sklearn.impute import SimpleImputer\n",
        "from scipy.stats import randint\n",
        "from xgboost import XGBClassifier\n",
        "from sklearn.ensemble import RandomForestClassifier"
      ],
      "execution_count": 0,
      "outputs": []
    },
    {
      "cell_type": "markdown",
      "metadata": {
        "id": "0Ld_ZnkqTmGa",
        "colab_type": "text"
      },
      "source": [
        "#### Run this cell to load the data:"
      ]
    },
    {
      "cell_type": "code",
      "metadata": {
        "id": "MhalkAfFTmGb",
        "colab_type": "code",
        "colab": {}
      },
      "source": [
        "train_url = 'https://drive.google.com/uc?export=download&id=13_tP9JpLcZHSPVpWcua4t2rY44K_s4H5'\n",
        "test_url  = 'https://drive.google.com/uc?export=download&id=1GkDHjsiGrzOXoF_xcYjdzBTSjOIi3g5a'\n",
        "\n",
        "train = pd.read_csv(train_url)\n",
        "test  = pd.read_csv(test_url)\n",
        "\n",
        "assert train.shape == (51916, 17)\n",
        "assert test.shape  == (17306, 17)"
      ],
      "execution_count": 0,
      "outputs": []
    },
    {
      "cell_type": "markdown",
      "metadata": {
        "id": "jcDWP3psTmGh",
        "colab_type": "text"
      },
      "source": [
        "### Part 1: Preprocessing\n",
        "\n",
        "You may choose which features you want to use, and whether/how you will preprocess them. If you use categorical features, you may use any tools and techniques for encoding. (Pandas, category_encoders, sklearn.preprocessing, or any other library.)\n",
        "\n",
        "_To earn a score of 3 for this part, find and explain leakage. The dataset has a feature that will give you an ROC AUC score > 0.90 if you process and use the feature. Find the leakage and explain why the feature shouldn't be used in a real-world model to predict the results of future inspections._\n",
        "\n",
        "### Part 2: Modeling\n",
        "\n",
        "**Fit a model** with the train set. (You may use scikit-learn, xgboost, or any other library.) **Use cross-validation** to **do hyperparameter optimization**, and **estimate your ROC AUC** validation score.\n",
        "\n",
        "Use your model to **predict probabilities** for the test set. **Get an ROC AUC test score >= 0.60.**\n",
        "\n",
        "_To earn a score of 3 for this part, get an ROC AUC test score >= 0.70 (without using the feature with leakage)._\n",
        "\n",
        "\n",
        "### Part 3: Visualization\n",
        "\n",
        "Make one visualization for model interpretation. (You may use any libraries.) Choose one of these types:\n",
        "\n",
        "- Feature Importances\n",
        "- Permutation Importances\n",
        "- Partial Dependence Plot\n",
        "- Shapley Values\n",
        "\n",
        "_To earn a score of 3 for this part, make at least two of these visualization types._\n",
        "\n",
        "### Part 4: Gradient Descent\n",
        "\n",
        "Answer both of these two questions:\n",
        "\n",
        "- What does Gradient Descent seek to minimize?\n",
        "- What is the \"Learning Rate\" and what is its function?\n",
        "\n",
        "One sentence is sufficient for each.\n",
        "\n",
        "_To earn a score of 3 for this part, go above and beyond. Show depth of understanding and mastery of intuition in your answers._"
      ]
    },
    {
      "cell_type": "markdown",
      "metadata": {
        "id": "tpwdx9ZqTw3m",
        "colab_type": "text"
      },
      "source": [
        "# **Part 1: Preprocessing**"
      ]
    },
    {
      "cell_type": "markdown",
      "metadata": {
        "id": "gKLjga1Ofxcu",
        "colab_type": "text"
      },
      "source": [
        "## **Initial Exploration**"
      ]
    },
    {
      "cell_type": "markdown",
      "metadata": {
        "id": "lKCcAPX-f4Rw",
        "colab_type": "text"
      },
      "source": [
        "**Taking a look at the data**"
      ]
    },
    {
      "cell_type": "code",
      "metadata": {
        "id": "14ki4TYigQYI",
        "colab_type": "code",
        "colab": {}
      },
      "source": [
        "train = pd.read_csv(train_url)\n",
        "test  = pd.read_csv(test_url)"
      ],
      "execution_count": 0,
      "outputs": []
    },
    {
      "cell_type": "code",
      "metadata": {
        "id": "qegF_SIwT2fs",
        "colab_type": "code",
        "colab": {
          "base_uri": "https://localhost:8080/",
          "height": 284
        },
        "outputId": "7343e090-b0a9-4b19-8350-3d5e43d9ab5f"
      },
      "source": [
        "train.head(2)"
      ],
      "execution_count": 10,
      "outputs": [
        {
          "output_type": "execute_result",
          "data": {
            "text/html": [
              "<div>\n",
              "<style scoped>\n",
              "    .dataframe tbody tr th:only-of-type {\n",
              "        vertical-align: middle;\n",
              "    }\n",
              "\n",
              "    .dataframe tbody tr th {\n",
              "        vertical-align: top;\n",
              "    }\n",
              "\n",
              "    .dataframe thead th {\n",
              "        text-align: right;\n",
              "    }\n",
              "</style>\n",
              "<table border=\"1\" class=\"dataframe\">\n",
              "  <thead>\n",
              "    <tr style=\"text-align: right;\">\n",
              "      <th></th>\n",
              "      <th>Inspection ID</th>\n",
              "      <th>DBA Name</th>\n",
              "      <th>AKA Name</th>\n",
              "      <th>License #</th>\n",
              "      <th>Facility Type</th>\n",
              "      <th>Risk</th>\n",
              "      <th>Address</th>\n",
              "      <th>City</th>\n",
              "      <th>State</th>\n",
              "      <th>Zip</th>\n",
              "      <th>Inspection Date</th>\n",
              "      <th>Inspection Type</th>\n",
              "      <th>Violations</th>\n",
              "      <th>Latitude</th>\n",
              "      <th>Longitude</th>\n",
              "      <th>Location</th>\n",
              "      <th>Fail</th>\n",
              "    </tr>\n",
              "  </thead>\n",
              "  <tbody>\n",
              "    <tr>\n",
              "      <th>0</th>\n",
              "      <td>2088270</td>\n",
              "      <td>TOM YUM RICE &amp; NOODLE, INC.</td>\n",
              "      <td>TOM YUM CAFE</td>\n",
              "      <td>2354911.0</td>\n",
              "      <td>Restaurant</td>\n",
              "      <td>Risk 1 (High)</td>\n",
              "      <td>608 W BARRY</td>\n",
              "      <td>CHICAGO</td>\n",
              "      <td>IL</td>\n",
              "      <td>60657.0</td>\n",
              "      <td>2017-09-15T00:00:00</td>\n",
              "      <td>Canvass</td>\n",
              "      <td>3. POTENTIALLY HAZARDOUS FOOD MEETS TEMPERATUR...</td>\n",
              "      <td>41.938007</td>\n",
              "      <td>-87.644755</td>\n",
              "      <td>{'longitude': '-87.6447545707008', 'latitude':...</td>\n",
              "      <td>1</td>\n",
              "    </tr>\n",
              "    <tr>\n",
              "      <th>1</th>\n",
              "      <td>555268</td>\n",
              "      <td>FILLING STATION  &amp; CONVENIENCE  STORE</td>\n",
              "      <td>FILLING STATION  &amp; CONVENIENCE  STORE</td>\n",
              "      <td>1044901.0</td>\n",
              "      <td>Grocery Store</td>\n",
              "      <td>Risk 3 (Low)</td>\n",
              "      <td>6646-6658 S WESTERN AVE</td>\n",
              "      <td>CHICAGO</td>\n",
              "      <td>IL</td>\n",
              "      <td>60636.0</td>\n",
              "      <td>2011-10-20T00:00:00</td>\n",
              "      <td>Complaint Re-Inspection</td>\n",
              "      <td>32. FOOD AND NON-FOOD CONTACT SURFACES PROPERL...</td>\n",
              "      <td>41.772402</td>\n",
              "      <td>-87.683603</td>\n",
              "      <td>{'longitude': '-87.68360273081268', 'latitude'...</td>\n",
              "      <td>0</td>\n",
              "    </tr>\n",
              "  </tbody>\n",
              "</table>\n",
              "</div>"
            ],
            "text/plain": [
              "   Inspection ID  ... Fail\n",
              "0        2088270  ...    1\n",
              "1         555268  ...    0\n",
              "\n",
              "[2 rows x 17 columns]"
            ]
          },
          "metadata": {
            "tags": []
          },
          "execution_count": 10
        }
      ]
    },
    {
      "cell_type": "markdown",
      "metadata": {
        "id": "Uaqh-DicgADt",
        "colab_type": "text"
      },
      "source": [
        "**Checking out the nulls**"
      ]
    },
    {
      "cell_type": "code",
      "metadata": {
        "id": "xDt-7xQhfRsR",
        "colab_type": "code",
        "colab": {
          "base_uri": "https://localhost:8080/",
          "height": 323
        },
        "outputId": "71379aa8-823c-4576-c7df-c42bf3c8d363"
      },
      "source": [
        "train.isnull().sum()"
      ],
      "execution_count": 11,
      "outputs": [
        {
          "output_type": "execute_result",
          "data": {
            "text/plain": [
              "Inspection ID         0\n",
              "DBA Name              0\n",
              "AKA Name            623\n",
              "License #             5\n",
              "Facility Type       224\n",
              "Risk                 12\n",
              "Address               0\n",
              "City                 53\n",
              "State                10\n",
              "Zip                  26\n",
              "Inspection Date       0\n",
              "Inspection Type       1\n",
              "Violations         9655\n",
              "Latitude            198\n",
              "Longitude           198\n",
              "Location            198\n",
              "Fail                  0\n",
              "dtype: int64"
            ]
          },
          "metadata": {
            "tags": []
          },
          "execution_count": 11
        }
      ]
    },
    {
      "cell_type": "markdown",
      "metadata": {
        "id": "enaqI2w7gGE1",
        "colab_type": "text"
      },
      "source": [
        "**Since the objective is to predict fails, I am looking at how that breaks down**"
      ]
    },
    {
      "cell_type": "code",
      "metadata": {
        "id": "qdnjJDEox27i",
        "colab_type": "code",
        "colab": {
          "base_uri": "https://localhost:8080/",
          "height": 68
        },
        "outputId": "3dac2eb9-9537-4c5d-d6ac-204d8d3acde6"
      },
      "source": [
        "# Failed = 1\n",
        "# Passed = 0\n",
        "train['Fail'].value_counts(normalize=True)"
      ],
      "execution_count": 12,
      "outputs": [
        {
          "output_type": "execute_result",
          "data": {
            "text/plain": [
              "0    0.74139\n",
              "1    0.25861\n",
              "Name: Fail, dtype: float64"
            ]
          },
          "metadata": {
            "tags": []
          },
          "execution_count": 12
        }
      ]
    },
    {
      "cell_type": "code",
      "metadata": {
        "id": "SeHU0Xe5opVU",
        "colab_type": "code",
        "colab": {
          "base_uri": "https://localhost:8080/",
          "height": 102
        },
        "outputId": "4e38673b-7240-4a1a-fa5b-7715cf471807"
      },
      "source": [
        "train.columns"
      ],
      "execution_count": 13,
      "outputs": [
        {
          "output_type": "execute_result",
          "data": {
            "text/plain": [
              "Index(['Inspection ID', 'DBA Name', 'AKA Name', 'License #', 'Facility Type',\n",
              "       'Risk', 'Address', 'City', 'State', 'Zip', 'Inspection Date',\n",
              "       'Inspection Type', 'Violations', 'Latitude', 'Longitude', 'Location',\n",
              "       'Fail'],\n",
              "      dtype='object')"
            ]
          },
          "metadata": {
            "tags": []
          },
          "execution_count": 13
        }
      ]
    },
    {
      "cell_type": "code",
      "metadata": {
        "id": "QxWtsPUBp02j",
        "colab_type": "code",
        "colab": {}
      },
      "source": [
        "preprocessor = make_pipeline(\n",
        "    ce.OrdinalEncoder()\n",
        ")"
      ],
      "execution_count": 0,
      "outputs": []
    },
    {
      "cell_type": "markdown",
      "metadata": {
        "id": "lYjeqYv6wK5N",
        "colab_type": "text"
      },
      "source": [
        "## **Good Features**"
      ]
    },
    {
      "cell_type": "code",
      "metadata": {
        "id": "lqjShqx1nYwA",
        "colab_type": "code",
        "colab": {}
      },
      "source": [
        "features = ['Facility Type', 'Risk', 'Zip', 'Inspection Type']\n",
        "target = 'Fail'"
      ],
      "execution_count": 0,
      "outputs": []
    },
    {
      "cell_type": "code",
      "metadata": {
        "id": "qDqaVVuapxR1",
        "colab_type": "code",
        "colab": {}
      },
      "source": [
        "X_train = train[features]\n",
        "y_train = train[target]"
      ],
      "execution_count": 0,
      "outputs": []
    },
    {
      "cell_type": "markdown",
      "metadata": {
        "id": "sdfyISDEs-M5",
        "colab_type": "text"
      },
      "source": [
        "## **What is leakage?**"
      ]
    },
    {
      "cell_type": "markdown",
      "metadata": {
        "id": "pxRrrVJNtCVO",
        "colab_type": "text"
      },
      "source": [
        "* \"Leaky\" data or data leakage is unexpected additional information in the training data, allowing a model or machine learning algorithm to make unrealistically good predictions. This can be caused by human or mechanical error and makes the model useless in the real world. "
      ]
    },
    {
      "cell_type": "code",
      "metadata": {
        "id": "RFd7lOLbtl3T",
        "colab_type": "code",
        "colab": {}
      },
      "source": [
        "# Violations is our leak\n",
        "# Save this for later \n",
        "\n",
        "leak_and_features = ['Facility Type', 'Risk', 'Zip', 'Inspection Date',\n",
        "                     'Inspection Type', 'Violations']"
      ],
      "execution_count": 0,
      "outputs": []
    },
    {
      "cell_type": "code",
      "metadata": {
        "id": "md8y-sh8vKlX",
        "colab_type": "code",
        "colab": {
          "base_uri": "https://localhost:8080/",
          "height": 34
        },
        "outputId": "5d61fb4c-098b-4fe8-f103-2679e6ebfc83"
      },
      "source": [
        "# Any nulls?\n",
        "train.Violations.isnull().sum()"
      ],
      "execution_count": 55,
      "outputs": [
        {
          "output_type": "execute_result",
          "data": {
            "text/plain": [
              "9655"
            ]
          },
          "metadata": {
            "tags": []
          },
          "execution_count": 55
        }
      ]
    },
    {
      "cell_type": "code",
      "metadata": {
        "id": "gSx7XiDqvhli",
        "colab_type": "code",
        "colab": {}
      },
      "source": [
        "# Filling them with 0\n",
        "train.Violations = train.Violations.fillna(0)"
      ],
      "execution_count": 0,
      "outputs": []
    },
    {
      "cell_type": "markdown",
      "metadata": {
        "id": "i90b2wR2T3EQ",
        "colab_type": "text"
      },
      "source": [
        "# **Part 2: Modeling**"
      ]
    },
    {
      "cell_type": "markdown",
      "metadata": {
        "id": "6oVJCz6CuZq6",
        "colab_type": "text"
      },
      "source": [
        "### **Using our good to go in the real world features**"
      ]
    },
    {
      "cell_type": "code",
      "metadata": {
        "id": "vdyxkMeNT55x",
        "colab_type": "code",
        "colab": {}
      },
      "source": [
        "model = Pipeline(steps=[\n",
        "    ('preprocessor', preprocessor),\n",
        "    ('boost', XGBClassifier(n_jobs=-1))\n",
        "])\n",
        "\n",
        "param_grid = {\n",
        "    'boost__n_estimators':[100, 250],\n",
        "    'boost__max_depth':[3, 5, 7]\n",
        "}"
      ],
      "execution_count": 0,
      "outputs": []
    },
    {
      "cell_type": "code",
      "metadata": {
        "id": "AE9vKfiBqMZI",
        "colab_type": "code",
        "colab": {
          "base_uri": "https://localhost:8080/",
          "height": 207
        },
        "outputId": "e04cc03e-336d-4bfe-b45f-0d059844dc36"
      },
      "source": [
        "# Took forever, probably should have ran in anaconda\n",
        "\n",
        "search = RandomizedSearchCV(model,\n",
        "                            param_distributions = param_grid,\n",
        "                            return_train_score=True,\n",
        "                            scoring='roc_auc',\n",
        "                            n_iter=6,\n",
        "                            cv=3,\n",
        "                            n_jobs=-1\n",
        ")\n",
        "\n",
        "search.fit(X_train, y_train)"
      ],
      "execution_count": 19,
      "outputs": [
        {
          "output_type": "execute_result",
          "data": {
            "text/plain": [
              "RandomizedSearchCV(cv=3, error_score='raise-deprecating',\n",
              "          estimator=Pipeline(memory=None,\n",
              "     steps=[('preprocessor', Pipeline(memory=None,\n",
              "     steps=[('ordinalencoder', OrdinalEncoder(cols=None, drop_invariant=False, handle_missing='value',\n",
              "        handle_unknown='value', mapping=None, return_df=True, verbose=0))])), ('boost', XGBClassifier(base_score=0.5, booster='gbtree', colsample_bylev...tate=0, reg_alpha=0, reg_lambda=1, scale_pos_weight=1,\n",
              "       seed=None, silent=True, subsample=1))]),\n",
              "          fit_params=None, iid='warn', n_iter=6, n_jobs=-1,\n",
              "          param_distributions={'boost__n_estimators': [100, 250], 'boost__max_depth': [3, 5, 7]},\n",
              "          pre_dispatch='2*n_jobs', random_state=None, refit=True,\n",
              "          return_train_score=True, scoring='roc_auc', verbose=0)"
            ]
          },
          "metadata": {
            "tags": []
          },
          "execution_count": 19
        }
      ]
    },
    {
      "cell_type": "markdown",
      "metadata": {
        "id": "ZKceiax9zyYN",
        "colab_type": "text"
      },
      "source": [
        "**Cross Validation ROC Score**"
      ]
    },
    {
      "cell_type": "code",
      "metadata": {
        "id": "8E9yWT-xqnFB",
        "colab_type": "code",
        "colab": {
          "base_uri": "https://localhost:8080/",
          "height": 34
        },
        "outputId": "4f890f1a-4c02-47ec-d06f-f2e01f276c94"
      },
      "source": [
        "best = search.best_score_\n",
        "print(f'Best Cross-Validation Score: {best}')"
      ],
      "execution_count": 21,
      "outputs": [
        {
          "output_type": "stream",
          "text": [
            "Best Cross-Validation Score: 0.7038615282289701\n"
          ],
          "name": "stdout"
        }
      ]
    },
    {
      "cell_type": "code",
      "metadata": {
        "id": "w-ekIc5Pq8Bu",
        "colab_type": "code",
        "colab": {
          "base_uri": "https://localhost:8080/",
          "height": 119
        },
        "outputId": "2d7a19b9-4518-4a3a-b00c-09a83fb1a149"
      },
      "source": [
        "best_estimator = search.best_estimator_\n",
        "best_estimator.steps[1]"
      ],
      "execution_count": 22,
      "outputs": [
        {
          "output_type": "execute_result",
          "data": {
            "text/plain": [
              "('boost', XGBClassifier(base_score=0.5, booster='gbtree', colsample_bylevel=1,\n",
              "        colsample_bytree=1, gamma=0, learning_rate=0.1, max_delta_step=0,\n",
              "        max_depth=5, min_child_weight=1, missing=None, n_estimators=250,\n",
              "        n_jobs=-1, nthread=None, objective='binary:logistic',\n",
              "        random_state=0, reg_alpha=0, reg_lambda=1, scale_pos_weight=1,\n",
              "        seed=None, silent=True, subsample=1))"
            ]
          },
          "metadata": {
            "tags": []
          },
          "execution_count": 22
        }
      ]
    },
    {
      "cell_type": "markdown",
      "metadata": {
        "id": "OuP2wxWounGb",
        "colab_type": "text"
      },
      "source": [
        "### **Using the leaky feature**"
      ]
    },
    {
      "cell_type": "code",
      "metadata": {
        "id": "yfXKM7F0utbK",
        "colab_type": "code",
        "colab": {}
      },
      "source": [
        "X_train = train[leak_and_features]\n",
        "y_train = train[target]"
      ],
      "execution_count": 0,
      "outputs": []
    },
    {
      "cell_type": "code",
      "metadata": {
        "id": "ZVtX-ddHuzGV",
        "colab_type": "code",
        "colab": {}
      },
      "source": [
        "model = Pipeline(steps=[\n",
        "    ('pre_processing', pre_processing),\n",
        "    ('boost', XGBClassifier(n_jobs=-1))\n",
        "])\n",
        "\n",
        "param_grid = {\n",
        "    'boost__n_estimators':[100, 250],\n",
        "    'boost__max_depth':[3, 5, 7]\n",
        "}"
      ],
      "execution_count": 0,
      "outputs": []
    },
    {
      "cell_type": "code",
      "metadata": {
        "id": "A224nY3Nu4Qo",
        "colab_type": "code",
        "colab": {
          "base_uri": "https://localhost:8080/",
          "height": 207
        },
        "outputId": "7133dd44-ee7e-4986-c108-58198e918356"
      },
      "source": [
        "search = RandomizedSearchCV(model,\n",
        "                            param_distributions = param_grid,\n",
        "                            return_train_score=True,\n",
        "                            scoring='roc_auc',\n",
        "                            n_iter=6,\n",
        "                            cv=3,\n",
        "                            n_jobs=-1\n",
        ")\n",
        "\n",
        "search.fit(X_train, y_train)"
      ],
      "execution_count": 72,
      "outputs": [
        {
          "output_type": "execute_result",
          "data": {
            "text/plain": [
              "RandomizedSearchCV(cv=3, error_score='raise-deprecating',\n",
              "          estimator=Pipeline(memory=None,\n",
              "     steps=[('pre_processing', Pipeline(memory=None,\n",
              "     steps=[('ordinalencoder', OrdinalEncoder(cols=None, drop_invariant=False, handle_missing='value',\n",
              "        handle_unknown='value', mapping=None, return_df=True, verbose=0))])), ('boost', XGBClassifier(base_score=0.5, booster='gbtree', colsample_byl...tate=0, reg_alpha=0, reg_lambda=1, scale_pos_weight=1,\n",
              "       seed=None, silent=True, subsample=1))]),\n",
              "          fit_params=None, iid='warn', n_iter=6, n_jobs=-1,\n",
              "          param_distributions={'boost__n_estimators': [100, 250], 'boost__max_depth': [3, 5, 7]},\n",
              "          pre_dispatch='2*n_jobs', random_state=None, refit=True,\n",
              "          return_train_score=True, scoring='roc_auc', verbose=0)"
            ]
          },
          "metadata": {
            "tags": []
          },
          "execution_count": 72
        }
      ]
    },
    {
      "cell_type": "markdown",
      "metadata": {
        "id": "qCkyGy6fT6RY",
        "colab_type": "text"
      },
      "source": [
        "# **Part 3: Visualization**"
      ]
    },
    {
      "cell_type": "code",
      "metadata": {
        "id": "4sO2blkDT-7U",
        "colab_type": "code",
        "colab": {
          "base_uri": "https://localhost:8080/",
          "height": 281
        },
        "outputId": "0f268a3c-20f2-4e84-94ce-bba69637b91f"
      },
      "source": [
        "feature_importances = pd.Series(best_estimator.steps[1][1].feature_importances_, X_train.columns)\n",
        "plt.title('Feature Importances')\n",
        "plt.barh(feature_importances.index, feature_importances.values, color='hotpink');"
      ],
      "execution_count": 23,
      "outputs": [
        {
          "output_type": "display_data",
          "data": {
            "image/png": "[encoded data removed]",
            "text/plain": [
              "<Figure size 432x288 with 1 Axes>"
            ]
          },
          "metadata": {
            "tags": []
          }
        }
      ]
    },
    {
      "cell_type": "markdown",
      "metadata": {
        "id": "OrLtX3s6T_Sy",
        "colab_type": "text"
      },
      "source": [
        "# **Part 4: Gradient Descent**"
      ]
    },
    {
      "cell_type": "markdown",
      "metadata": {
        "id": "f3nNrpjwatAu",
        "colab_type": "text"
      },
      "source": [
        "## What does Gradient Descent seek to minimize?"
      ]
    },
    {
      "cell_type": "markdown",
      "metadata": {
        "id": "FspiLMTlabAw",
        "colab_type": "text"
      },
      "source": [
        "Gradient Descent is one of the most popular algorithms for training ML models. Gradient Descent is an iterative method used to minimize a cost function. "
      ]
    },
    {
      "cell_type": "markdown",
      "metadata": {
        "id": "v6E_Rm8ta3wg",
        "colab_type": "text"
      },
      "source": [
        "## **What is \"Learning Rate\" and what is its function?**"
      ]
    },
    {
      "cell_type": "markdown",
      "metadata": {
        "id": "ujuk0kBKap_N",
        "colab_type": "text"
      },
      "source": [
        "Learning rate is a hyper-parameter that controls how much we should adjust the weight of our function with in regards to the loss gradient.\n",
        "\n"
      ]
    }
  ]
}