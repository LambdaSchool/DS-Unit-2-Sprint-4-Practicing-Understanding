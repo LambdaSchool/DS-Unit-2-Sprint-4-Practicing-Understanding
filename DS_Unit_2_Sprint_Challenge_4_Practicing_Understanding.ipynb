{
  "nbformat": 4,
  "nbformat_minor": 0,
  "metadata": {
    "colab": {
      "name": "DS_Unit_2_Sprint_Challenge_4_Practicing_Understanding.ipynb",
      "version": "0.3.2",
      "provenance": [],
      "include_colab_link": true
    },
    "language_info": {
      "codemirror_mode": {
        "name": "ipython",
        "version": 3
      },
      "file_extension": ".py",
      "mimetype": "text/x-python",
      "name": "python",
      "nbconvert_exporter": "python",
      "pygments_lexer": "ipython3",
      "version": "3.7.1"
    },
    "kernelspec": {
      "display_name": "Python 3",
      "language": "python",
      "name": "python3"
    }
  },
  "cells": [
    {
      "cell_type": "markdown",
      "metadata": {
        "id": "view-in-github",
        "colab_type": "text"
      },
      "source": [
        "<a href=\"https://colab.research.google.com/github/bundickm/DS-Unit-2-Sprint-4-Practicing-Understanding/blob/master/DS_Unit_2_Sprint_Challenge_4_Practicing_Understanding.ipynb\" target=\"_parent\"><img src=\"https://colab.research.google.com/assets/colab-badge.svg\" alt=\"Open In Colab\"/></a>"
      ]
    },
    {
      "cell_type": "markdown",
      "metadata": {
        "id": "AUYNMTDITrjH",
        "colab_type": "text"
      },
      "source": [
        "_Lambda School Data Science Unit 2_\n",
        " \n",
        " # Sprint Challenge: Practicing & Understanding Predictive Modeling"
      ]
    },
    {
      "cell_type": "markdown",
      "metadata": {
        "id": "SBp0TzwITrjM",
        "colab_type": "text"
      },
      "source": [
        "## Chicago Food Inspections\n",
        "\n",
        "For this Sprint Challenge, you'll use a dataset with information from inspections of restaurants and other food establishments in Chicago from January 2010 to March 2019. \n",
        "\n",
        "[See this PDF](https://data.cityofchicago.org/api/assets/BAD5301B-681A-4202-9D25-51B2CAE672FF) for descriptions of the data elements included in this dataset.\n",
        "\n",
        "According to [Chicago Department of Public Health — Food Protection Services](https://www.chicago.gov/city/en/depts/cdph/provdrs/healthy_restaurants/svcs/food-protection-services.html), \"Chicago is home to 16,000 food establishments like restaurants, grocery stores, bakeries, wholesalers, lunchrooms, mobile food vendors and more. Our business is food safety and sanitation with one goal, to prevent the spread of food-borne disease. We do this by inspecting food businesses, responding to complaints and food recalls.\" "
      ]
    },
    {
      "cell_type": "markdown",
      "metadata": {
        "id": "XZhu75IYTrjO",
        "colab_type": "text"
      },
      "source": [
        "#### Your challenge: Predict whether inspections failed\n",
        "\n",
        "The target is the `Fail` column.\n",
        "\n",
        "- When the food establishment failed the inspection, the target is `1`.\n",
        "- When the establishment passed, the target is `0`."
      ]
    },
    {
      "cell_type": "markdown",
      "metadata": {
        "id": "wnEhhPCKTrjS",
        "colab_type": "text"
      },
      "source": [
        "#### Run this cell to load the data:"
      ]
    },
    {
      "cell_type": "code",
      "metadata": {
        "id": "Udgyjn2NTrjX",
        "colab_type": "code",
        "colab": {}
      },
      "source": [
        "import pandas as pd\n",
        "\n",
        "train_url = 'https://drive.google.com/uc?export=download&id=13_tP9JpLcZHSPVpWcua4t2rY44K_s4H5'\n",
        "test_url  = 'https://drive.google.com/uc?export=download&id=1GkDHjsiGrzOXoF_xcYjdzBTSjOIi3g5a'\n",
        "\n",
        "train = pd.read_csv(train_url)\n",
        "test  = pd.read_csv(test_url)\n",
        "\n",
        "assert train.shape == (51916, 17)\n",
        "assert test.shape  == (17306, 17)"
      ],
      "execution_count": 0,
      "outputs": []
    },
    {
      "cell_type": "code",
      "metadata": {
        "id": "93D5DNr3KRDE",
        "colab_type": "code",
        "colab": {}
      },
      "source": [
        "#copy and paste code from an EDA library I'm flirting with building\n",
        "from tabulate import tabulate\n",
        "\n",
        "def null_rec_lookup(null_percent,placeholders=False):\n",
        "  #replace with more detailed and rigorous recs\n",
        "  if placeholders:\n",
        "    return 'Possible Placeholders: Replace and rerun nulls report.'\n",
        "  elif null_percent == 100:\n",
        "    return 'Empty Column: Drop column'\n",
        "  elif null_percent >= 75:\n",
        "    return 'Near Empty Column: Create binary feature or drop'\n",
        "  elif null_percent >= 25:\n",
        "    return 'Partially Filled Column: Assess manually'\n",
        "  elif null_percent > 0:\n",
        "    return 'Mostly Filled Column: Impute values'\n",
        "  else:\n",
        "    return ''\n",
        "\n",
        "def list_to_string(list):\n",
        "  return ', '.join(str(item) for item in list)\n",
        "\n",
        "def placeholders_present(column,placeholders):\n",
        "  p_holds = []\n",
        "  for item in placeholders:\n",
        "    if len(column.isin([item]).unique())==2:\n",
        "      p_holds.append(item)\n",
        "  return list_to_string(list(set(p_holds)))\n",
        "  \n",
        "def nulls(df,placeholders = [-1,-999,-9999,'None','none','missing',\n",
        "                                   'Missing','Null','null','?']):\n",
        "  null_count = df.isnull().sum().loc\n",
        "  total = len(df)\n",
        "  \n",
        "  headers = ['Column','Nulls','%Null','Placeholders','Recommendation']\n",
        "  table = []\n",
        "  for column in df.columns:\n",
        "    calc = null_count[column]/total*100\n",
        "    null_per = str(calc)+'%'\n",
        "    p_hold = placeholders_present(df[column],placeholders)\n",
        "    rec = null_rec_lookup(calc,p_hold)\n",
        "    \n",
        "    table.append([column,null_count[column],null_per,p_hold,rec])\n",
        "    \n",
        "  print(tabulate(table,headers))\n",
        "  \n",
        "def describe(df):\n",
        "  headers = ['Column']+list(df.describe()[1:].T)\n",
        "  table = df.describe()[1:].T.reset_index().to_numpy()\n",
        "  print(tabulate(table,headers,))\n",
        "  \n",
        "def type_and_unique(df,unq_limit=10):\n",
        "  cols = df.columns\n",
        "  d_types = list(df.dtypes)\n",
        "  num_unique = list(df.nunique())\n",
        "  table = []\n",
        "  headers=['Column','Type','nUnique','Unique Values']\n",
        "  \n",
        "  for i in range(len(df.columns)):\n",
        "    unique_vals = list_to_string(list(df[cols[i]].unique()[:unq_limit]))\n",
        "    if (len(list(df[cols[i]].unique())) > unq_limit): \n",
        "      unique_vals += '...'\n",
        "\n",
        "    table.append([cols[i],str(d_types[i]),num_unique[i],unique_vals])\n",
        "  print(tabulate(table,headers=headers))\n",
        "\n",
        "def rundown(df):\n",
        "  print('DataFrame Shape')\n",
        "  print('Rows:',df.shape[0],'    Columns:',df.shape[1])\n",
        "  print()\n",
        "  nulls(df)\n",
        "  print()\n",
        "  describe(df)\n",
        "  print()\n",
        "  type_and_unique(df)"
      ],
      "execution_count": 0,
      "outputs": []
    },
    {
      "cell_type": "code",
      "metadata": {
        "id": "wn5E_CiYUGJr",
        "colab_type": "code",
        "colab": {
          "base_uri": "https://localhost:8080/",
          "height": 996
        },
        "outputId": "3decd131-17dd-4ccb-8d10-3d622d8454df"
      },
      "source": [
        "#one stop shop for basic info\n",
        "rundown(train)"
      ],
      "execution_count": 244,
      "outputs": [
        {
          "output_type": "stream",
          "text": [
            "DataFrame Shape\n",
            "Rows: 51916     Columns: 17\n",
            "\n",
            "Column             Nulls  %Null                   Placeholders    Recommendation\n",
            "---------------  -------  ----------------------  --------------  -----------------------------------\n",
            "Inspection ID          0  0.0%\n",
            "DBA Name               0  0.0%\n",
            "AKA Name             623  1.2000154095076663%                     Mostly Filled Column: Impute values\n",
            "License #              5  0.00963094229139379%                    Mostly Filled Column: Impute values\n",
            "Facility Type        224  0.43146621465444174%                    Mostly Filled Column: Impute values\n",
            "Risk                  12  0.023114261499345097%                   Mostly Filled Column: Impute values\n",
            "Address                0  0.0%\n",
            "City                  53  0.10208798828877418%                    Mostly Filled Column: Impute values\n",
            "State                 10  0.01926188458278758%                    Mostly Filled Column: Impute values\n",
            "Zip                   26  0.05008089991524771%                    Mostly Filled Column: Impute values\n",
            "Inspection Date        0  0.0%\n",
            "Inspection Type        1  0.0019261884582787582%                  Mostly Filled Column: Impute values\n",
            "Violations          9655  18.59734956468141%                      Mostly Filled Column: Impute values\n",
            "Latitude             198  0.38138531473919407%                    Mostly Filled Column: Impute values\n",
            "Longitude            198  0.38138531473919407%                    Mostly Filled Column: Impute values\n",
            "Location             198  0.38138531473919407%                    Mostly Filled Column: Impute values\n",
            "Fail                   0  0.0%\n",
            "\n",
            "Column                    mean             std         min               25%              50%              75%              max\n",
            "-------------  ---------------  --------------  ----------  ----------------  ---------------  ---------------  ---------------\n",
            "Inspection ID      1.33027e+06  620266          44250       679620                1.42423e+06      1.94695e+06      2.27971e+06\n",
            "License #          1.54949e+06  901828              0            1.14074e+06      1.95862e+06      2.21551e+06      8.70061e+06\n",
            "Zip            60628.8              22.737      60007        60614            60625            60643            60827\n",
            "Latitude          41.8796            0.0811263     41.6447      41.8303          41.8902          41.9392          42.0211\n",
            "Longitude        -87.6767            0.0595087    -87.9144     -87.7079         -87.6665         -87.6345         -87.5251\n",
            "Fail               0.25861           0.437875       0            0                0                1                1\n",
            "\n",
            "Column           Type       nUnique  Unique Values\n",
            "---------------  -------  ---------  -------------------------------------------------------------------------------------------------------------------------------------------------------------------------------------------------------------------------------------------------------------------------------------------------------------------------------------------------------------------------------------------------------------------------------------------------------------------------------------------------------------------------------------------------------------------------------------------------------------------------------------------------------------------------------------------------------------------------------------------------------------------------------------------------------------------------------------------------------------------------------------------------------------------------------------------------------------------------------------------------------------------------------------------------------------------------------------------------------------------------------------------------------------------------------------------------------------------------------------------------------------------------------------------------------------------------------------------------------------------------------------------------------------------------------------------------------------------------------------------------------------------------------------------------------------------------------------------------------------------------------------------------------------------------------------------------------------------------------------------------------------------------------------------------------------------------------------------------------------------------------------------------------------------------------------------------------------------------------------------------------------------------------------------------------------------------------------------------------------------------------------------------------------------------------------------------------------------------------------------------------------------------------------------------------------------------------------------------------------------------------------------------------------------------------------------------------------------------------------------------------------------------------------------------------------------------------------------------------------------------------------------------------------------------------------------------------------------------------------------------------------------------------------------------------------------------------------------------------------------------------------------------------------------------------------------------------------------------------------------------------------------------------------------------------------------------------------------------------------------------------------------------------------------------------------------------------------------------------------------------------------------------------------------------------------------------------------------------------------------------------------------------------------------------------------------------------------------------------------------------------------------------------------------------------------------------------------------------------------------------------------------------------------------------------------------------------------------------------------------------------------------------------------------------------------------------------------------------------------------------------------------------------------------------------------------------------------------------------------------------------------------------------------------------------------------------------------------------------------------------------------------------------------------------------------------------------------------------------------------------------------------------------------------------------------------------------------------------------------------------------------------------------------------------------------------------------------------------------------------------------------------------------------------------------------------------------------------------------------------------------------------------------------------------------------------------------------------------------------------------------------------------------------------------------------------------------------------------------------------------------------------------------------------------------------------------------------------------------------------------------------------------------------------------------------------------------------------------------------------------------------------------------------------------------------------------------------------------------------------------------------------------------------------------------------------------------------------------------------------------------------------------------------------------------------------------------------------------------------------------------------------------------------------------------------------------------------------------------------------------------------------------------------------------------------------------------------------------------------------------------------------------------------------------------------------------------------------------------------------------------------------------------------------------------------------------------------------------------------------------------------------------------------------------------------------------------------------------------------------------------------------------------------------------------------------------------------------------------------------------------------------------------------------------------------------------------------------------------------------------------------------------------------------------------------------------------------------------------------------------------------------------------------------------------------------------------------------------------------------------------------------------------------------------------------------------------------------------------------------------------------------------------------------------------------------------------------------------------------------------------------------------------------------------------------------------------------------------------------------------------------------------------------------------------------------------------------------------------------------------------------------------------------------------------------------------------------------------------------------------------------------------------------------------------------------------------------------------------------------------------------------------------------------------------------------------------------------------------------------------------------------------------------------------------------------------------------------------------------------------------------------------------------------------------------------------------------------------------------------------------------------------------------------------------------------------------------------------------------------------------------------------------------------------------------------------------------------------------------------------------------------------------------------------------------------------------------------------------------------------------------------------------------------------------------------------------------------------------------------------------------------------------------------------------------------------------------------------------------------------------------------------------------------------------------------------------------------------------------------------------------------------------------------------------------------------------------------------------------------------------------------------------------------------------------------------------------------------------------------------------------------------------------------------------------------------------------------------------------------------------------------------------------------------------------------------------------------------------------------------------------------------------------------------------------------------------------------------------------------------------------------------------------------------------------------------------------------------------------------------------------------------------------------------------------------------------------------------------------------------------------------------------------------------------------------------------------------------------------------------------------------------------------------------------------------------------------------------------------------------------------------------------------------------------------------------------------------------------------------------------------------------------------------------------------------------------------------------------------------------------------------------------------------------------------------------------------------------------------------------------------------------------------------------------------------------------------------------------------------------------------------------------------------------------------------------------------------------------------------------------------------------------------------------------------------------------------------------------------------------------------------------------------------------------------------------------------------------------------------------------------------------------------------------------------------------------------------------------------------------------------------------------------------------------------------------------------------------------------------------------------------------------------------------------------------------------------------------------------------------------------------------------------------------------------------------------------------------------------------------------------------------------------------------------------------------------------------------------------------------------------------------------------------------------------------------------------------------------------------------------------------------------------------------------------------------------------------------------------------------------------------------------------------------------------------------------------------------------------------------------------------------------------------------------------------------------------------------------------------------------------------------------------------------------------------------------------------------------------------------------------------------------------------------------------------------------------------------------------------------------------------------------------------------------------------------------------------------------------------------------------------------------------------------------------------------------------------------------------------------------------------------------------------------------------------------------------------------------------------------------------------------------------------------------------------------------------------------------------------------------------------------------------------------------------------------------------------------------------------------------------------------------------------------------------------------------------------------------------------------------------------------------------------------------------------------------------------------------------------------------------------------------------------------------------------------------------------------------------------------------------------------------------------------------------------------------------------------------------------------------------------------------------------------------------------------------------------------------------------------------------------------------------------------------------------------------------------------------------------------------------------------------------------------------------------------------\n",
            "Inspection ID    int64        51916  2088270, 555268, 1751394, 1763905, 453326, 1725221, 1981372, 1072403, 1464616, 583261...\n",
            "DBA Name         object       17049  TOM YUM RICE & NOODLE, INC., FILLING STATION  & CONVENIENCE  STORE, A P DELI, FRANK'S CHICAGO SHRIMP HOUSE, MORRILL, LAKEVIEW REHABILITATION AND NURSING CENTER, GOLD COAST DOGS, HAPPY PIZZA, THE PUMPING CO INC, YUMMY YUMMY NOODLES...\n",
            "AKA Name         object       16350  TOM YUM CAFE, FILLING STATION  & CONVENIENCE  STORE, A P DELI, FRANK'S CHICAGO SHRIMP HOUSE, MORRILL, LAKEVIEW REHABILITATION AND NURSING CENTER, GOLD COAST DOGS, nan, THE PUMPING CO, YUMMY YUMMY NOODLES...\n",
            "License #        float64      21421  2354911.0, 1044901.0, 47405.0, 6414.0, 24571.0, 2245580.0, 32318.0, 2241028.0, 1544937.0, 2098003.0...\n",
            "Facility Type    object         329  Restaurant, Grocery Store, School, Long Term Care, Liquor, Daycare Above and Under 2 Years, Children's Services Facility, Catering, Daycare Night, CHURCH...\n",
            "Risk             object           3  Risk 1 (High), Risk 3 (Low), Risk 2 (Medium), nan\n",
            "Address          object       13954  608 W BARRY , 6646-6658 S WESTERN AVE , 2025 E 75TH ST , 4459 S ARCHER AVE , 6011 S Rockwell (2600W) AVE , 735 W DIVERSEY PKWY , 225 S CANAL ST , 8710 S HALSTED ST , 6157 N BROADWAY , 2002 S WENTWORTH AVE ...\n",
            "City             object          39  CHICAGO, nan, LAKE BLUFF, BEDFORD PARK, chicago, MAYWOOD, CCHICAGO, SUMMIT, Chicago, CHicago...\n",
            "State            object           1  IL, nan\n",
            "Zip              float64         86  60657.0, 60636.0, 60649.0, 60632.0, 60629.0, 60614.0, 60606.0, 60620.0, 60660.0, 60616.0...\n",
            "Inspection Date  object        2257  2017-09-15T00:00:00, 2011-10-20T00:00:00, 2016-04-05T00:00:00, 2016-04-29T00:00:00, 2011-01-10T00:00:00, 2016-02-22T00:00:00, 2017-01-12T00:00:00, 2013-05-07T00:00:00, 2014-11-28T00:00:00, 2011-06-01T00:00:00...\n",
            "Inspection Type  object          51  Canvass, Complaint Re-Inspection, Canvass Re-Inspection, License Re-Inspection, License, Complaint, Short Form Complaint, Special Events (Festivals), Consultation, Task Force Liquor 1475...\n",
            "Violations       object       42164  3. POTENTIALLY HAZARDOUS FOOD MEETS TEMPERATURE REQUIREMENT DURING STORAGE, PREPARATION DISPLAY AND SERVICE - Comments: NOTED INTERNAL TEMPERATURES OF THE FOLLOWING HAZARDOUS FOOD ITEMS ON THE PREP TABLE TO BE IMPROPER:-CHICKEN 58.3F, NOODLES 61.7F/55.4F, EGGS 69.8F. MANAGER IMMEDIATELY AND VOLUNTARILY DISPOSED OF 8 LBS OF PRODUCTS WORTH $40.00  THROUGH DENATURING PROCESS. CRITICAL VIOLATION #7-38-005(A) | 6. HANDS WASHED AND CLEANED, GOOD HYGIENIC PRACTICES; NO BARE HAND CONTACT WITH READY-TO-EAT FOODS. - Comments: NOTED EMPLOYEE WHILE WEARING GLOVES PERFORMED THE FOLLOWING TASKS:- WASHED DISHES AT THE 3 COMPARTMENT SINK AND DID NOT CHANGES THEIR GLOVES, THEN CONTINUED PREPPING AT THE KITCHEN; CLEANED THE MOUTH AND EAR WITH THE SAME GLOVES ON AND CONTINUED AT THE PREP TABLE STILL WITHOUT CHANGING GLOVES OR WASHING HANDS. FINALLY WENT OUTSIDE OF BUILDING AND RETURNED TO THE KITCHEN TO CONTINUE PREPPING STILL WITHOUT CHANGING GLOVES OR WASHING HANDS. CRITICAL VIOLATION #7-38-010(A)  | 18. NO EVIDENCE OF RODENT OR INSECT OUTER OPENINGS PROTECTED/RODENT PROOFED, A WRITTEN LOG SHALL BE MAINTAINED AVAILABLE TO THE INSPECTORS - Comments: NOTED OVER 8 LIVE ROACHES ON PREMISE UNDERNEATH 3 COMPARTMENT SINK, UNDERNEATH SHELVING AT THE PREP AREA AND UNDERNEATH THE UTILITY SINK. INSTRUCTED TO CLEAN AND SANITIZE AFFECTED AREAS. RECOMMENDED TO CONSULT WITH PEST CONTROL COMPANY. SERIOUS VIOLATION #7-38-020 | 29. PREVIOUS MINOR VIOLATION(S) CORRECTED 7-42-090 - Comments: NOTED THE FOLLOWING PREVIOUS MINOR VIOLATIONS FROM INSPECTION REPORT #1953370 DATED 8/29/2016 NOT CORRECTED:-#30) ALL BULK FOOD/SPICE CONTAINERS MUST BE LABELED.#31) DIRTY BULK FOOD/SPICE CONTAINERS. MUST CLEAN AND MAINTAIN.#32) MUST NOT USE NEWS PAPER AS LINER FOR SHELVING THROUGHOUT. SHELVING UNDER BOTH MICROWAVE OVENS DIRTY WITH EXCESSIVE FOOD DEBRIS. MUST CLEAN AND MAINTAIN. TORN RUBBER DOOR GASKET ON LEFT DOOR OF LEFT TWO DOOR COOLER. MUST REPLACE #33)EXCESSIVE GREASE IN THE EXHAUST HOOD. DIRTY FOOD CART ON COOKS LINE WITH FOOD DEBRIS.EXTERIOR OF ALL COOKING EQUIPMENT. MUST CLEAN AND MAINTAIN ALL. #34)FLOORS THROUGHOUT ENTIRE KITCHEN AND REAR WITH DIRT, DEBRIS AND STICKY. MUST CLEAN AND MAINTAIN.  SERIOUS VIOLATION #7-42-090 | 33. FOOD AND NON-FOOD CONTACT EQUIPMENT UTENSILS CLEAN, FREE OF ABRASIVE DETERGENTS - Comments: INSTRUCTED TO CLEAN AND MAINTAIN BOTTOM SHELVE OF UPRIGHT FREEZER. , 32. FOOD AND NON-FOOD CONTACT SURFACES PROPERLY DESIGNED, CONSTRUCTED AND MAINTAINED - Comments: REMOVE CRATES OFF FLOOR AND PROVIDE SHELVING FOR EASY CLEANING AND PEST CONTROL IN REAR STORAGE AREA.   | 33. FOOD AND NON-FOOD CONTACT EQUIPMENT UTENSILS CLEAN, FREE OF ABRASIVE DETERGENTS - Comments: All food and non-food contact surfaces of equipment and all food storage utensils shall be thoroughly cleaned and sanitized daily. INTERIOR AND EXTERIOR OF CABINETS UNDER BEVERAGE AREA, 3-COMP SINK, EXPOSED SINK, UTILITY SINK, LEDGES, AND SHELVES NEED CLEANING.    | 34. FLOORS: CONSTRUCTED PER CODE, CLEANED, GOOD REPAIR, COVING INSTALLED, DUST-LESS CLEANING METHODS USED - Comments: The floors shall be constructed per code, be smooth and easily cleaned, and be kept clean and in good repair. FLOORS NEED CLEANING UNDER ALL EQUIPMENT ALONG WALLS AND IN ALL CORNERS IN SALES, STORAGE AND BEHIND COUNTER AREAS. CLEAN FLOORS INSIDE AND ALONG WOODEN LEDGES IN REAR STORAGE AREA, ALONG WALLS BEHIND ICE MACHINE (TAFFY APPLES, CIGARETTE BUTTS, ASHES, ETC), UNDER CHIP AND DISPLAY SHELVES (FOOD DEBRIS).    | 35. WALLS, CEILINGS, ATTACHED EQUIPMENT CONSTRUCTED PER CODE: GOOD REPAIR, SURFACES CLEAN AND DUST-LESS CLEANING METHODS - Comments: The walls and ceilings shall be in good repair and easily cleaned. SEAL OPENINGS AROUND PIPE FITTINGS UNDER SINK IN WASHROOM AND BEHIND TOILET. REPLACE MISSING/DAMAGED WALL TILES IN WASHROOM. CLEAN ALL CEILING VENTS. SEAL LOOSE BASEBOARDS IN SALES AREA UNDER CHIP DISPLAY, ETC. SEAL ALL OPENINGS IN WALLS AND CEILINGS, AROUND PIPE FITTINGS, ALONG BASEBOARDS, ETC IN ALL AREAS.    | 36. LIGHTING: REQUIRED MINIMUM FOOT-CANDLES OF LIGHT PROVIDED, FIXTURES SHIELDED - Comments: Shielding to protect against broken glass falling into food shall be provided for all artificial lighting sources in preparation, service, and display facilities. REPLACE MISSING LIGHT SHIELD IN WALK-IN COOLER.    | 38. VENTILATION: ROOMS AND EQUIPMENT VENTED AS REQUIRED: PLUMBING: INSTALLED AND MAINTAINED - Comments: All plumbing fixtures, such as toilets, sinks, washbasins, etc., must be adequately trapped, vented, and re-vented and properly connected to the sewer in accordance with the plumbing chapter of the Municipal Code of Chicago and the Rules and Regulations of the Board of Health. INSTALL EXTENDING FAUCET ON 3-COMP SINK. PROVIDE VENTILATION IN WASHROOM. CONNECT ALL WASTE LINES TO FLOOR DRAIN.    | 41. PREMISES MAINTAINED FREE OF LITTER, UNNECESSARY ARTICLES, CLEANING  EQUIPMENT PROPERLY STORED - Comments: All parts of the food establishment and all parts of the property used in connection with the operation of the establishment shall be kept neat and clean and should not produce any offensive odors. REMOVE ALL UNUSED EQUIPMENT AND ARTICLES IN STORAGE AREAS TO PREVENT PEST HARBORAGE. STORE MOP HEAD UPRIGHT TO PREVENT PEST BREEDING.   , 35. WALLS, CEILINGS, ATTACHED EQUIPMENT CONSTRUCTED PER CODE: GOOD REPAIR, SURFACES CLEAN AND DUST-LESS CLEANING METHODS - Comments: NOTED THE FILTERS AND HOOD ABOVE THE COOKING EQUIPMENT DIRTY. MUST CLEAN TO REMOVE GREASE AND DEBRIS., 38. VENTILATION: ROOMS AND EQUIPMENT VENTED AS REQUIRED: PLUMBING: INSTALLED AND MAINTAINED - Comments: REPAIR THE DRAIN LINE WATER LEAK UNDER THE 3 COMPARTMENT SINK. | 45. FOOD HANDLER REQUIREMENTS MET - Comments: ALL FOOD HANDLING EMPLOYEES MUST SHOW PROOF OF FOOD HANDLER TRAINING.  MUST PROVIDE., 34. FLOORS: CONSTRUCTED PER CODE, CLEANED, GOOD REPAIR, COVING INSTALLED, DUST-LESS CLEANING METHODS USED - Comments: The floors shall be constructed per code, be smooth and easily cleaned, and be kept clean and in good repair.    FLOOR TILES BEHIND COOKING EQUIPMENT IN NEED OF CORRECTING. TILES BROKEN.  MUST CORRECT AND MAINTAIN.   | 36. LIGHTING: REQUIRED MINIMUM FOOT-CANDLES OF LIGHT PROVIDED, FIXTURES SHIELDED - Comments: All rooms in which food or drink is prepared, or in which utensils are washed, shall be lighted so that a minimum of 50-foot candles of light is available on all work surfaces. Shielding to protect against broken glass falling into food shall be provided for all artificial lighting sources in preparation, service, and display facilities.    LIGHT NEEDED IN WALK-IN COOLER.  MUST CORRECT AND MAINTAIN.   | 42. APPROPRIATE METHOD OF HANDLING OF FOOD (ICE) HAIR RESTRAINTS AND CLEAN APPAREL WORN - Comments: All employees must wear garments that are clean and of washable character and nature. All employees shall be required to use effective hair restraints to confine hair. Only employees must dispense ice for consumer use with scoops, tongs, or other ice dispensing utensils. Customers must dispense ice through appropriate automatic self-service ice dispensing equipment.    ALL FOOD HANDLERS MUST WEAR HAIR RESTRAINTS.  MUST CORRECT AND MAINTAIN.  , 31. CLEAN MULTI-USE UTENSILS AND SINGLE SERVICE ARTICLES PROPERLY STORED: NO REUSE OF SINGLE SERVICE ARTICLES - Comments: MUST STORE PLASTIC WEAR IN TRAY PROPERLY IN PAPER STORAGE. | 32. FOOD AND NON-FOOD CONTACT SURFACES PROPERLY DESIGNED, CONSTRUCTED AND MAINTAINED - Comments: MUST REMOVE RUST FROM SHELVING UNITS IN WALK IN COOLER & FREEZER.MUST REPAIR OR REPLACE DAMAGED DOOR GASKETS ON WALK IN COOLER & MILK COOLER,MISSING HANDLES ON LID OF STEAM TABLE. | 33. FOOD AND NON-FOOD CONTACT EQUIPMENT UTENSILS CLEAN, FREE OF ABRASIVE DETERGENTS - Comments: MUST CLEAN DEBRI FROM LOWER SHELF OF STEAM TABLE AND STORAGE CABINETS IN PREP AREA,FOOD CART WHEEL BASES.MUST DELIME THE DISH MACHINE. | 34. FLOORS: CONSTRUCTED PER CODE, CLEANED, GOOD REPAIR, COVING INSTALLED, DUST-LESS CLEANING METHODS USED - Comments: MUST CLEAN DIRT AND DEBRI FROM FLOOR IN KITCHEN ALONG WALL BASES,DISH MACHINE AREA,LOCKER ROOM FOR MEN'S & WOMEN'S UNDER LOCKERS AND FLOOR DRAINS.MUST GROUT THE FLOOR IN KITCHEN & DISH WASHING AREA. | 35. WALLS, CEILINGS, ATTACHED EQUIPMENT CONSTRUCTED PER CODE: GOOD REPAIR, SURFACES CLEAN AND DUST-LESS CLEANING METHODS - Comments: MUST CLEAN DEAD INSECTS AND FOOD DEBRI FROM LIGHT SHIELDS IN KITCHEN & DISH WASHING AREA,FOOD DEBRI FROM WALLS AND CEILINGS IN DISH WASHING AREA,2ND FL. DINING AREA,GREASE FROM FILTERS AT HOOD OF COOKING EQUIPMENT.MUST REPAIR OR REPLACE HOLE IN CEILING IN DISH WASHING AREA,STAINED AND DAMAGED CEILING TILES IN 1ST FL. DINING AREA AND WOMEN'S STAFF LOCKER ROOM,LOOSE WALL PAPER IN STAFF BREAKROOM AND 2ND FL. DINING AREA,DAMAGED WALL BASE IN 3RD FL. DINING AREA,DAMAGED DOOR FRAME ON FRONT ENTRY DOORS.MUST ADJUST THRESHOLD AT GARBAGE & GARDEN DOORS. | 36. LIGHTING: REQUIRED MINIMUM FOOT-CANDLES OF LIGHT PROVIDED, FIXTURES SHIELDED - Comments: MUST REPLACE OR REPAIR MISSING END CAPS ON LIGHTS IN KITCHEN,DISH WASHING AREA,DAMAGED LIGHT SHIELD IN STAFF WOMEN'S LOCKER ROOM,BURNTOUT LIGHTS IN 2ND FL. DINING AREA,DISH WASHING AREA,POT & PAN STORAGE AREA. | 38. VENTILATION: ROOMS AND EQUIPMENT VENTED AS REQUIRED: PLUMBING: INSTALLED AND MAINTAINED - Comments: MUST REMOVE GARDEN HOSE FROM PLUMBING . MUST PROVIDE A BACKFLOW DEVICE ON ICE MACHINE., 30. FOOD IN ORIGINAL CONTAINER, PROPERLY LABELED: CUSTOMER ADVISORY POSTED AS NEEDED - Comments: Found potentially hazardous foods (chicken, hot dogs, etc.) without proper labels. Must label prepped, potentially hazardous foods with item name and dates. Must maintain same.  | 33. FOOD AND NON-FOOD CONTACT EQUIPMENT UTENSILS CLEAN, FREE OF ABRASIVE DETERGENTS - Comments: Found small amount of black, slimy mold like substance on lower right interior of ice machine. Must remove, clean and sanitize. Must maintain same.  | 43. FOOD (ICE) DISPENSING UTENSILS, WASH CLOTHS PROPERLY STORED - Comments: Found wiping cloths improper stored on counters. Must properly store wiping cloths in clean container, with sanitizer solution. Must maintain same. , 38. VENTILATION: ROOMS AND EQUIPMENT VENTED AS REQUIRED: PLUMBING: INSTALLED AND MAINTAINED - Comments: STOPPERS AT 3 COMPARTMENT SINK IN POOR REPAIR, INSTRUCTED MANAGER TO REPAIR OR REPLACE SAME.  , 16. FOOD PROTECTED DURING STORAGE, PREPARATION, DISPLAY, SERVICE AND TRANSPORTATION - Comments: FOUND ICE MACHINE INTERIOR NOT CLEAN. OBSERVED INTERIOR OF ICE MACHINE WALLS WITH MOLD LIKE SUBSTANCES. SERIOUS VIOLATION. CITATION ISSUED.TAGGED ICE MACHINE. | 21. * CERTIFIED FOOD MANAGER ON SITE WHEN POTENTIALLY HAZARDOUS FOODS ARE  PREPARED AND SERVED - Comments: FOUND NO CITY OF CHICAGO SANITATION MANAGER ON PREMISES WHILE HANDLING POTENTIALLY HAZARDOUS FOOD. HANDLES RAW CHICKEN, RAW BEEF,ETC. SERIOUS VIOLATION. CITATION ISSUED. | 32. FOOD AND NON-FOOD CONTACT SURFACES PROPERLY DESIGNED, CONSTRUCTED AND MAINTAINED - Comments: FOUND FOLLOWING NOT CLEAN: DISHMACHINE, INTERIOR OF ALL COOLERS, AND GRILLS. | 34. FLOORS: CONSTRUCTED PER CODE, CLEANED, GOOD REPAIR, COVING INSTALLED, DUST-LESS CLEANING METHODS USED - Comments: FOUND FLOORS AT KITYCHEN AREAS, BAR, AND BASEMENT NOT CLEAN.(EXCESSIVE FOOD DEBRIS)  FOUND LOOSE AND BROKEN FLOOR TILES AT MAIN KITCHEN. | 41. PREMISES MAINTAINED FREE OF LITTER, UNNECESSARY ARTICLES, CLEANING  EQUIPMENT PROPERLY STORED - Comments: FOUND CLUTTER AT BASEMENT THAT MUST BE REMOVED., 18. NO EVIDENCE OF RODENT OR INSECT OUTER OPENINGS PROTECTED/RODENT PROOFED, A WRITTEN LOG SHALL BE MAINTAINED AVAILABLE TO THE INSPECTORS - Comments: UNIT DOOR WITH 1/4TH INCH GAP UNDER SAID DOOR. INSTRUCTED TO MAKE TIGHT FITTING SO AS NO DAYLIGHT CAN BE SEEN TO PREVENT PEST ENTRY. SERIOUS 7-38-020. NO CITATION ISSUED. | 32. FOOD AND NON-FOOD CONTACT SURFACES PROPERLY DESIGNED, CONSTRUCTED AND MAINTAINED - Comments: MUST PROVIDE ATTACHED METAL DRAIN BOARD THAT IS ADEQUATE TO AIR DRY ALL MULTI-USE ITEMS USED FOR OPERATIONS. PROVIDE ADEQUATE SHELVES AND RACKS FOR STORAGE ITEMS IN 1ST. FLOOR STORAGE ROOM. | 33. FOOD AND NON-FOOD CONTACT EQUIPMENT UTENSILS CLEAN, FREE OF ABRASIVE DETERGENTS - Comments: CLEAN INTERIOR OF THREE COMPARTMENT SINK TO REMOVE STAINS AND MARKER. | 38. VENTILATION: ROOMS AND EQUIPMENT VENTED AS REQUIRED: PLUMBING: INSTALLED AND MAINTAINED - Comments: PROVIDE FAUCET FOR COLD WATER LINE ABOVE SMALL TWO BURNER NEXT TO WOK. PROVIDE TEMPERED WATER AT WASHBOWL IN WOMENS TOILET ROOM ON FAR LEFT SIDE. INSTALL GREASE TRAP AT THREE COMPARTMENT SINK INSIDE UNIT. | 41. PREMISES MAINTAINED FREE OF LITTER, UNNECESSARY ARTICLES, CLEANING  EQUIPMENT PROPERLY STORED - Comments: ORGANIZE CLUTTERED STORAGE ROOM, ELEVATE ALL ITEMS 6 INCHES OFF FLOOR AND AWAY FROM WALL, REMOVE UNUSED ITEMS TO PREVENT PEST HARBORAGE....\n",
            "Latitude         float64      13410  41.938006880423615, 41.77240175993757, 41.75877940103819, 41.812181052065476, nan, 41.93263163257331, 41.87853127835361, 41.735505299216186, 41.99397270196283, 41.85528170377401...\n",
            "Longitude        float64      13410  -87.6447545707008, -87.68360273081268, -87.5750544674612, -87.70712481334274, nan, -87.64797278441709, -87.63942745962717, -87.64374906595164, -87.66024237516903, -87.63199264229414...\n",
            "Location         object       13410  {'longitude': '-87.6447545707008', 'latitude': '41.938006880423615', 'needs_recoding': False}, {'longitude': '-87.68360273081268', 'latitude': '41.772401759937566', 'needs_recoding': False}, {'longitude': '-87.57505446746121', 'latitude': '41.75877940103819', 'needs_recoding': False}, {'longitude': '-87.70712481334274', 'latitude': '41.81218105206548', 'needs_recoding': False}, nan, {'longitude': '-87.64797278441709', 'latitude': '41.93263163257331', 'needs_recoding': False}, {'longitude': '-87.63942745962717', 'latitude': '41.878531278353606', 'needs_recoding': False}, {'longitude': '-87.64374906595162', 'latitude': '41.735505299216186', 'needs_recoding': False}, {'longitude': '-87.66024237516903', 'latitude': '41.99397270196283', 'needs_recoding': False}, {'longitude': '-87.63199264229414', 'latitude': '41.85528170377401', 'needs_recoding': False}...\n",
            "Fail             int64            2  1, 0\n"
          ],
          "name": "stdout"
        }
      ]
    },
    {
      "cell_type": "code",
      "metadata": {
        "id": "Mofd34b6VOt5",
        "colab_type": "code",
        "colab": {
          "base_uri": "https://localhost:8080/",
          "height": 73
        },
        "outputId": "e6b606ce-810c-4cdb-fe2d-05d75613d658"
      },
      "source": [
        "train['Fail'].value_counts(normalize=True)"
      ],
      "execution_count": 245,
      "outputs": [
        {
          "output_type": "execute_result",
          "data": {
            "text/plain": [
              "0    0.74139\n",
              "1    0.25861\n",
              "Name: Fail, dtype: float64"
            ]
          },
          "metadata": {
            "tags": []
          },
          "execution_count": 245
        }
      ]
    },
    {
      "cell_type": "code",
      "metadata": {
        "id": "8fkYP4W1Wm1p",
        "colab_type": "code",
        "colab": {
          "base_uri": "https://localhost:8080/",
          "height": 36
        },
        "outputId": "46a502f8-508e-4614-c1ce-b72be4ea15c2"
      },
      "source": [
        "#Naive model, since it is ROC_AUC it will always be .5\n",
        "from sklearn.metrics import roc_auc_score\n",
        "\n",
        "roc_auc_score(train['Fail'],([1]*51916))"
      ],
      "execution_count": 246,
      "outputs": [
        {
          "output_type": "execute_result",
          "data": {
            "text/plain": [
              "0.5"
            ]
          },
          "metadata": {
            "tags": []
          },
          "execution_count": 246
        }
      ]
    },
    {
      "cell_type": "markdown",
      "metadata": {
        "id": "jC8FlH_ITrjg",
        "colab_type": "text"
      },
      "source": [
        "## Part 1: Preprocessing\n",
        "\n",
        "You may choose which features you want to use, and whether/how you will preprocess them. If you use categorical features, you may use any tools and techniques for encoding. (Pandas, category_encoders, sklearn.preprocessing, or any other library.)\n",
        "\n",
        "_To earn a score of 3 for this part, find and explain leakage. The dataset has a feature that will give you an ROC AUC score > 0.90 if you process and use the feature. Find the leakage and explain why the feature shouldn't be used in a real-world model to predict the results of future inspections._"
      ]
    },
    {
      "cell_type": "code",
      "metadata": {
        "id": "-VBIORkAgUNn",
        "colab_type": "code",
        "colab": {}
      },
      "source": [
        "# !pip install category_encoders"
      ],
      "execution_count": 0,
      "outputs": []
    },
    {
      "cell_type": "code",
      "metadata": {
        "id": "aynafLM3eaI2",
        "colab_type": "code",
        "colab": {}
      },
      "source": [
        "import numpy as np\n",
        "import category_encoders as ce\n",
        "from sklearn.model_selection import train_test_split\n",
        "\n",
        "X = train.drop('Fail',axis=1)\n",
        "y = train['Fail']\n",
        "\n",
        "X_train, X_test, y_train, y_test = train_test_split(X,y,test_size=.2,\n",
        "                                                    random_state=42)"
      ],
      "execution_count": 0,
      "outputs": []
    },
    {
      "cell_type": "code",
      "metadata": {
        "id": "AADTKcK6bTAx",
        "colab_type": "code",
        "colab": {}
      },
      "source": [
        "def feature_engineer(df):\n",
        "  df = df.copy()\n",
        "  \n",
        "  #drop factors that shouldn't have any bearing like name and Inspection ID\n",
        "  #drop location data in favor of zip\n",
        "  #drop Violations because we wouldn't know that pre-inspection so it's leakage\n",
        "  df = df.drop(['DBA Name','AKA Name','Inspection ID','Address', 'License #',\n",
        "           'City','State','Location','Violations'], axis=1)\n",
        "  \n",
        "  #convert to datetime\n",
        "  df['Inspection Date'] = pd.to_datetime(df['Inspection Date'])\n",
        "  df['Day Of Week'] = df['Inspection Date'].dt.dayofweek\n",
        "  df['Month'] = df['Inspection Date'].dt.month\n",
        "  df['Year'] = df['Inspection Date'].dt.year\n",
        "  df = df.drop('Inspection Date',axis=1)\n",
        "  \n",
        "  #encode risk, replace NaN with medium risk\n",
        "  df['Risk'] = df['Risk'].replace({'Risk 1 (High)':2, 'Risk 3 (Low)':0, \n",
        "                                   'Risk 2 (Medium)':1, np.nan:1})\n",
        "  \n",
        "  #####All of this lowered the score###\n",
        "  #reduce categories then encode\n",
        "#   def get_facility(group):\n",
        "#     if group in ['Daycare (2 - 6 Years)','School','Daycare Above and Under 2 Years','Daycare (Under 2 Years)']:\n",
        "#       return 'School/Daycare'\n",
        "#     elif group in ['Restaurant','Golden Diner','TAVERN','RESTAURANT','Mobile Food Dispenser']:\n",
        "#       return 'Restaurant'\n",
        "#     elif group in ['Grocery Store']:\n",
        "#       return 'Grocery'\n",
        "#     else:\n",
        "#       return 'Other'\n",
        "#   df['Facility Type'] = df['Facility Type'].apply(get_facility)\n",
        "\n",
        "  \n",
        "  #reduce categories then encode\n",
        "#   df['Inspection Type'] = df['Inspection Type'].replace({np.nan:'Other'})\n",
        "#   def get_inspection(group):\n",
        "#     if group in ['Canvass','Canvass Re-Inspection']:\n",
        "#       return ''\n",
        "#     elif group in ['License','License Re-Inspection']:\n",
        "#       return 'License'\n",
        "#     elif group in ['Complaint','Complaint Re-Inspection','Short Form Complaint']:\n",
        "#       return 'Complaint'\n",
        "#     elif group in ['Suspected Food Poisoning']:\n",
        "#       return 'Food Poisoning'\n",
        "#     else:\n",
        "#       return 'Other'\n",
        "#   df['Inspection Type'] = df['Inspection Type'].apply(get_inspection)\n",
        "\n",
        "  encoder = ce.OrdinalEncoder()\n",
        "  df['Facility Type'] = encoder.fit_transform(df['Facility Type'])\n",
        "\n",
        "  encoder = ce.OrdinalEncoder()\n",
        "  df['Inspection Type'] = encoder.fit_transform(df['Inspection Type'])\n",
        "  \n",
        "  df = df.fillna(method='ffill')\n",
        "  \n",
        "  return df"
      ],
      "execution_count": 0,
      "outputs": []
    },
    {
      "cell_type": "markdown",
      "metadata": {
        "id": "dJLC8DWRVfDp",
        "colab_type": "text"
      },
      "source": [
        "## Part 2: Modeling\n",
        "\n",
        "**Fit a model** with the train set. (You may use scikit-learn, xgboost, or any other library.) **Use cross-validation** to **do hyperparameter optimization**, and **estimate your ROC AUC** validation score.\n",
        "\n",
        "Use your model to **predict probabilities** for the test set. **Get an ROC AUC test score >= 0.60.**\n",
        "\n",
        "_To earn a score of 3 for this part, get an ROC AUC test score >= 0.70 (without using the feature with leakage)._"
      ]
    },
    {
      "cell_type": "code",
      "metadata": {
        "id": "lnxhQ5oMoy8m",
        "colab_type": "code",
        "colab": {}
      },
      "source": [
        "X_train = feature_engineer(X_train)"
      ],
      "execution_count": 0,
      "outputs": []
    },
    {
      "cell_type": "code",
      "metadata": {
        "id": "RyvAnr5UoQXa",
        "colab_type": "code",
        "colab": {
          "base_uri": "https://localhost:8080/",
          "height": 265
        },
        "outputId": "286a9be5-a620-47d0-bf33-3a9b8a9bd644"
      },
      "source": [
        "from sklearn.model_selection import RandomizedSearchCV\n",
        "from sklearn.ensemble import RandomForestClassifier\n",
        "from xgboost import XGBClassifier\n",
        "\n",
        "param_distributions = {\n",
        "    'n_estimators':[125],\n",
        "    'max_depth':[7,8,9]\n",
        "}\n",
        "\n",
        "search = RandomizedSearchCV(\n",
        "    XGBClassifier(n_jobs=-1, random_state=42),\n",
        "    param_distributions=param_distributions, n_iter=3, cv=5,\n",
        "    scoring='roc_auc', verbose=10,\n",
        "    return_train_score=True, n_jobs=-1\n",
        ")\n",
        "\n",
        "search.fit(X_train, y_train)\n",
        "results = pd.DataFrame(search.cv_results_)\n",
        "results.sort_values(by='rank_test_score').head(1)"
      ],
      "execution_count": 274,
      "outputs": [
        {
          "output_type": "stream",
          "text": [
            "Fitting 5 folds for each of 3 candidates, totalling 15 fits\n"
          ],
          "name": "stdout"
        },
        {
          "output_type": "stream",
          "text": [
            "[Parallel(n_jobs=-1)]: Using backend LokyBackend with 2 concurrent workers.\n",
            "[Parallel(n_jobs=-1)]: Done   1 tasks      | elapsed:    8.0s\n",
            "[Parallel(n_jobs=-1)]: Done   4 tasks      | elapsed:   16.2s\n",
            "[Parallel(n_jobs=-1)]: Done   9 tasks      | elapsed:   42.3s\n",
            "[Parallel(n_jobs=-1)]: Done  15 out of  15 | elapsed:  1.2min finished\n"
          ],
          "name": "stderr"
        },
        {
          "output_type": "execute_result",
          "data": {
            "text/html": [
              "<div>\n",
              "<style scoped>\n",
              "    .dataframe tbody tr th:only-of-type {\n",
              "        vertical-align: middle;\n",
              "    }\n",
              "\n",
              "    .dataframe tbody tr th {\n",
              "        vertical-align: top;\n",
              "    }\n",
              "\n",
              "    .dataframe thead th {\n",
              "        text-align: right;\n",
              "    }\n",
              "</style>\n",
              "<table border=\"1\" class=\"dataframe\">\n",
              "  <thead>\n",
              "    <tr style=\"text-align: right;\">\n",
              "      <th></th>\n",
              "      <th>mean_fit_time</th>\n",
              "      <th>std_fit_time</th>\n",
              "      <th>mean_score_time</th>\n",
              "      <th>std_score_time</th>\n",
              "      <th>param_n_estimators</th>\n",
              "      <th>param_max_depth</th>\n",
              "      <th>params</th>\n",
              "      <th>split0_test_score</th>\n",
              "      <th>split1_test_score</th>\n",
              "      <th>split2_test_score</th>\n",
              "      <th>split3_test_score</th>\n",
              "      <th>split4_test_score</th>\n",
              "      <th>mean_test_score</th>\n",
              "      <th>std_test_score</th>\n",
              "      <th>rank_test_score</th>\n",
              "      <th>split0_train_score</th>\n",
              "      <th>split1_train_score</th>\n",
              "      <th>split2_train_score</th>\n",
              "      <th>split3_train_score</th>\n",
              "      <th>split4_train_score</th>\n",
              "      <th>mean_train_score</th>\n",
              "      <th>std_train_score</th>\n",
              "    </tr>\n",
              "  </thead>\n",
              "  <tbody>\n",
              "    <tr>\n",
              "      <th>0</th>\n",
              "      <td>7.445539</td>\n",
              "      <td>0.085839</td>\n",
              "      <td>0.106367</td>\n",
              "      <td>0.002529</td>\n",
              "      <td>125</td>\n",
              "      <td>7</td>\n",
              "      <td>{'n_estimators': 125, 'max_depth': 7}</td>\n",
              "      <td>0.74164</td>\n",
              "      <td>0.73256</td>\n",
              "      <td>0.720893</td>\n",
              "      <td>0.724616</td>\n",
              "      <td>0.729748</td>\n",
              "      <td>0.729892</td>\n",
              "      <td>0.007127</td>\n",
              "      <td>1</td>\n",
              "      <td>0.843397</td>\n",
              "      <td>0.835892</td>\n",
              "      <td>0.833589</td>\n",
              "      <td>0.844424</td>\n",
              "      <td>0.836432</td>\n",
              "      <td>0.838747</td>\n",
              "      <td>0.004335</td>\n",
              "    </tr>\n",
              "  </tbody>\n",
              "</table>\n",
              "</div>"
            ],
            "text/plain": [
              "   mean_fit_time  std_fit_time  ...  mean_train_score  std_train_score\n",
              "0       7.445539      0.085839  ...          0.838747         0.004335\n",
              "\n",
              "[1 rows x 22 columns]"
            ]
          },
          "metadata": {
            "tags": []
          },
          "execution_count": 274
        }
      ]
    },
    {
      "cell_type": "code",
      "metadata": {
        "id": "-L3UEWHx1hFE",
        "colab_type": "code",
        "colab": {
          "base_uri": "https://localhost:8080/",
          "height": 36
        },
        "outputId": "21a32588-3b87-4548-e047-8c6cd18b3309"
      },
      "source": [
        "best = search.best_estimator_\n",
        "# X_test = feature_engineer(X_test)\n",
        "best.fit(X_test,y_test)\n",
        "y_pred = best.predict(X_test)\n",
        "roc_auc_score(y_test,y_pred)"
      ],
      "execution_count": 276,
      "outputs": [
        {
          "output_type": "execute_result",
          "data": {
            "text/plain": [
              "0.7133855111917725"
            ]
          },
          "metadata": {
            "tags": []
          },
          "execution_count": 276
        }
      ]
    },
    {
      "cell_type": "code",
      "metadata": {
        "id": "7_SQriNB2Oom",
        "colab_type": "code",
        "colab": {
          "base_uri": "https://localhost:8080/",
          "height": 36
        },
        "outputId": "8f5d4b2e-69cb-4da2-e579-d3d1cb71c9b3"
      },
      "source": [
        "X_final_test = test.drop('Fail',axis=1)\n",
        "y_final_test = test['Fail']\n",
        "X_final_test = feature_engineer(X_final_test)\n",
        "best.fit(X_final_test,y_final_test)\n",
        "y_pred = best.predict(X_final_test)\n",
        "roc_auc_score(y_final_test,y_pred)"
      ],
      "execution_count": 277,
      "outputs": [
        {
          "output_type": "execute_result",
          "data": {
            "text/plain": [
              "0.6629453893307452"
            ]
          },
          "metadata": {
            "tags": []
          },
          "execution_count": 277
        }
      ]
    },
    {
      "cell_type": "markdown",
      "metadata": {
        "id": "qNsG1engVl4v",
        "colab_type": "text"
      },
      "source": [
        "## Part 3: Visualization\n",
        "\n",
        "Make one visualization for model interpretation. (You may use any libraries.) Choose one of these types:\n",
        "\n",
        "- Feature Importances\n",
        "- Permutation Importances\n",
        "- Partial Dependence Plot\n",
        "- Shapley Values\n",
        "\n",
        "_To earn a score of 3 for this part, make at least two of these visualization types._"
      ]
    },
    {
      "cell_type": "code",
      "metadata": {
        "id": "6ZTOlnIpqO15",
        "colab_type": "code",
        "colab": {}
      },
      "source": [
        "import matplotlib.pyplot as plt"
      ],
      "execution_count": 0,
      "outputs": []
    },
    {
      "cell_type": "code",
      "metadata": {
        "id": "f_vNgWUvp_sQ",
        "colab_type": "code",
        "colab": {
          "base_uri": "https://localhost:8080/",
          "height": 227
        },
        "outputId": "fd52aabb-394f-4f2f-ee3e-9911e3a95d3c"
      },
      "source": [
        "n = len(X_train.columns)\n",
        "figsize = (5,n//3)\n",
        "\n",
        "importances = pd.Series(best.feature_importances_, X_train.columns)\n",
        "top_n = importances.sort_values()[-n:]\n",
        "\n",
        "plt.figure(figsize=figsize)\n",
        "top_n.plot.barh(color='gray')\n",
        "plt.title('Feature Importances')\n",
        "plt.show()"
      ],
      "execution_count": 265,
      "outputs": [
        {
          "output_type": "display_data",
          "data": {
            "image/png": "[encoded data removed]",
            "text/plain": [
              "<Figure size 360x216 with 1 Axes>"
            ]
          },
          "metadata": {
            "tags": []
          }
        }
      ]
    },
    {
      "cell_type": "code",
      "metadata": {
        "id": "Vk258Ropqf4Y",
        "colab_type": "code",
        "colab": {}
      },
      "source": [
        "!pip install eli5"
      ],
      "execution_count": 0,
      "outputs": []
    },
    {
      "cell_type": "code",
      "metadata": {
        "id": "iEswCRKfqqUQ",
        "colab_type": "code",
        "colab": {}
      },
      "source": [
        "X_test = feature_engineer(X_test)"
      ],
      "execution_count": 0,
      "outputs": []
    },
    {
      "cell_type": "code",
      "metadata": {
        "id": "Hezs-8mBqeIf",
        "colab_type": "code",
        "colab": {
          "base_uri": "https://localhost:8080/",
          "height": 191
        },
        "outputId": "ef796363-5f29-408d-be22-48cd192d9625"
      },
      "source": [
        "#table of feature importances via permutation importance\n",
        "import eli5\n",
        "from eli5.sklearn import PermutationImportance\n",
        "\n",
        "permuter = PermutationImportance(best, scoring='roc_auc', cv='prefit', \n",
        "                                 n_iter=2, random_state=42)\n",
        "\n",
        "permuter.fit(X_test.values, y_test)\n",
        "\n",
        "feature_names = X_test.columns.tolist()\n",
        "eli5.show_weights(permuter, top=None, feature_names=feature_names)"
      ],
      "execution_count": 275,
      "outputs": [
        {
          "output_type": "execute_result",
          "data": {
            "text/html": [
              "\n",
              "    <style>\n",
              "    table.eli5-weights tr:hover {\n",
              "        filter: brightness(85%);\n",
              "    }\n",
              "</style>\n",
              "\n",
              "\n",
              "\n",
              "    \n",
              "\n",
              "    \n",
              "\n",
              "    \n",
              "\n",
              "    \n",
              "\n",
              "    \n",
              "\n",
              "    \n",
              "\n",
              "\n",
              "    \n",
              "\n",
              "    \n",
              "\n",
              "    \n",
              "\n",
              "    \n",
              "\n",
              "    \n",
              "\n",
              "    \n",
              "\n",
              "\n",
              "    \n",
              "\n",
              "    \n",
              "\n",
              "    \n",
              "\n",
              "    \n",
              "\n",
              "    \n",
              "        <table class=\"eli5-weights eli5-feature-importances\" style=\"border-collapse: collapse; border: none; margin-top: 0em; table-layout: auto;\">\n",
              "    <thead>\n",
              "    <tr style=\"border: none;\">\n",
              "        <th style=\"padding: 0 1em 0 0.5em; text-align: right; border: none;\">Weight</th>\n",
              "        <th style=\"padding: 0 0.5em 0 0.5em; text-align: left; border: none;\">Feature</th>\n",
              "    </tr>\n",
              "    </thead>\n",
              "    <tbody>\n",
              "    \n",
              "        <tr style=\"background-color: hsl(120, 100.00%, 80.00%); border: none;\">\n",
              "            <td style=\"padding: 0 1em 0 0.5em; text-align: right; border: none;\">\n",
              "                0.0334\n",
              "                \n",
              "                    &plusmn; 0.0048\n",
              "                \n",
              "            </td>\n",
              "            <td style=\"padding: 0 0.5em 0 0.5em; text-align: left; border: none;\">\n",
              "                Year\n",
              "            </td>\n",
              "        </tr>\n",
              "    \n",
              "        <tr style=\"background-color: hsl(120, 100.00%, 89.33%); border: none;\">\n",
              "            <td style=\"padding: 0 1em 0 0.5em; text-align: right; border: none;\">\n",
              "                0.0136\n",
              "                \n",
              "                    &plusmn; 0.0015\n",
              "                \n",
              "            </td>\n",
              "            <td style=\"padding: 0 0.5em 0 0.5em; text-align: left; border: none;\">\n",
              "                Latitude\n",
              "            </td>\n",
              "        </tr>\n",
              "    \n",
              "        <tr style=\"background-color: hsl(120, 100.00%, 89.42%); border: none;\">\n",
              "            <td style=\"padding: 0 1em 0 0.5em; text-align: right; border: none;\">\n",
              "                0.0134\n",
              "                \n",
              "                    &plusmn; 0.0016\n",
              "                \n",
              "            </td>\n",
              "            <td style=\"padding: 0 0.5em 0 0.5em; text-align: left; border: none;\">\n",
              "                Longitude\n",
              "            </td>\n",
              "        </tr>\n",
              "    \n",
              "        <tr style=\"background-color: hsl(120, 100.00%, 90.56%); border: none;\">\n",
              "            <td style=\"padding: 0 1em 0 0.5em; text-align: right; border: none;\">\n",
              "                0.0114\n",
              "                \n",
              "                    &plusmn; 0.0008\n",
              "                \n",
              "            </td>\n",
              "            <td style=\"padding: 0 0.5em 0 0.5em; text-align: left; border: none;\">\n",
              "                Zip\n",
              "            </td>\n",
              "        </tr>\n",
              "    \n",
              "        <tr style=\"background-color: hsl(120, 100.00%, 93.02%); border: none;\">\n",
              "            <td style=\"padding: 0 1em 0 0.5em; text-align: right; border: none;\">\n",
              "                0.0074\n",
              "                \n",
              "                    &plusmn; 0.0034\n",
              "                \n",
              "            </td>\n",
              "            <td style=\"padding: 0 0.5em 0 0.5em; text-align: left; border: none;\">\n",
              "                Month\n",
              "            </td>\n",
              "        </tr>\n",
              "    \n",
              "        <tr style=\"background-color: hsl(120, 100.00%, 93.93%); border: none;\">\n",
              "            <td style=\"padding: 0 1em 0 0.5em; text-align: right; border: none;\">\n",
              "                0.0061\n",
              "                \n",
              "                    &plusmn; 0.0006\n",
              "                \n",
              "            </td>\n",
              "            <td style=\"padding: 0 0.5em 0 0.5em; text-align: left; border: none;\">\n",
              "                Facility Type\n",
              "            </td>\n",
              "        </tr>\n",
              "    \n",
              "        <tr style=\"background-color: hsl(120, 100.00%, 94.26%); border: none;\">\n",
              "            <td style=\"padding: 0 1em 0 0.5em; text-align: right; border: none;\">\n",
              "                0.0056\n",
              "                \n",
              "                    &plusmn; 0.0003\n",
              "                \n",
              "            </td>\n",
              "            <td style=\"padding: 0 0.5em 0 0.5em; text-align: left; border: none;\">\n",
              "                Risk\n",
              "            </td>\n",
              "        </tr>\n",
              "    \n",
              "        <tr style=\"background-color: hsl(120, 100.00%, 97.03%); border: none;\">\n",
              "            <td style=\"padding: 0 1em 0 0.5em; text-align: right; border: none;\">\n",
              "                0.0022\n",
              "                \n",
              "                    &plusmn; 0.0013\n",
              "                \n",
              "            </td>\n",
              "            <td style=\"padding: 0 0.5em 0 0.5em; text-align: left; border: none;\">\n",
              "                Day Of Week\n",
              "            </td>\n",
              "        </tr>\n",
              "    \n",
              "        <tr style=\"background-color: hsl(0, 100.00%, 99.95%); border: none;\">\n",
              "            <td style=\"padding: 0 1em 0 0.5em; text-align: right; border: none;\">\n",
              "                -0.0000\n",
              "                \n",
              "                    &plusmn; 0.0124\n",
              "                \n",
              "            </td>\n",
              "            <td style=\"padding: 0 0.5em 0 0.5em; text-align: left; border: none;\">\n",
              "                Inspection Type\n",
              "            </td>\n",
              "        </tr>\n",
              "    \n",
              "    \n",
              "    </tbody>\n",
              "</table>\n",
              "    \n",
              "\n",
              "    \n",
              "\n",
              "\n",
              "    \n",
              "\n",
              "    \n",
              "\n",
              "    \n",
              "\n",
              "    \n",
              "\n",
              "    \n",
              "\n",
              "    \n",
              "\n",
              "\n",
              "\n"
            ],
            "text/plain": [
              "<IPython.core.display.HTML object>"
            ]
          },
          "metadata": {
            "tags": []
          },
          "execution_count": 275
        }
      ]
    },
    {
      "cell_type": "markdown",
      "metadata": {
        "id": "Quck9jVdVoov",
        "colab_type": "text"
      },
      "source": [
        "## Part 4: Gradient Descent\n",
        "\n",
        "Answer both of these two questions:\n",
        "\n",
        "- What does Gradient Descent seek to minimize?\n",
        "\n",
        "Gradient descent is an optimization algorithm used to minimize some error function by iteratively moving in the direction of steepest descent as defined by the negative of the gradient. In machine learning, we use gradient descent to update the parameters of our model.\n",
        "\n",
        "1.   Define a Cost Function\n",
        "2.   Evaluate slope (gradient) at current point\n",
        "3.   Take small step (alpha or learning rate) in direction of slope descent\n",
        "4.   Repeat steps 2 and 3 until slope approaches 0\n",
        "\n",
        "- What is the \"Learning Rate\" and what is its function?\n",
        "\n",
        "Learning rate (or alpha) is the step size taken once the direction of descent is determined. A large learning rate may train faster but has a chance of overshooting and diverging from the minimum. A small learning rate is unlikely to diverge but may take a while to converge on the minimum if the rate is too small.\n",
        "\n",
        "_To earn a score of 3 for this part, go above and beyond. Show depth of understanding and mastery of intuition in your answers._"
      ]
    }
  ]
}