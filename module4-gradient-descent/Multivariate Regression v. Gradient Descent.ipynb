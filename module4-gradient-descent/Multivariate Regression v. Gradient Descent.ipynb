{
 "cells": [
  {
   "cell_type": "markdown",
   "metadata": {},
   "source": [
    "# Import Data "
   ]
  },
  {
   "cell_type": "code",
   "execution_count": 237,
   "metadata": {},
   "outputs": [
    {
     "data": {
      "text/html": [
       "<div>\n",
       "<style scoped>\n",
       "    .dataframe tbody tr th:only-of-type {\n",
       "        vertical-align: middle;\n",
       "    }\n",
       "\n",
       "    .dataframe tbody tr th {\n",
       "        vertical-align: top;\n",
       "    }\n",
       "\n",
       "    .dataframe thead th {\n",
       "        text-align: right;\n",
       "    }\n",
       "</style>\n",
       "<table border=\"1\" class=\"dataframe\">\n",
       "  <thead>\n",
       "    <tr style=\"text-align: right;\">\n",
       "      <th></th>\n",
       "      <th>CRIM</th>\n",
       "      <th>ZN</th>\n",
       "      <th>INDUS</th>\n",
       "      <th>CHAS</th>\n",
       "      <th>NOX</th>\n",
       "      <th>RM</th>\n",
       "      <th>AGE</th>\n",
       "      <th>DIS</th>\n",
       "      <th>RAD</th>\n",
       "      <th>TAX</th>\n",
       "      <th>PTRATIO</th>\n",
       "      <th>B</th>\n",
       "      <th>LSTAT</th>\n",
       "      <th>MEDV</th>\n",
       "    </tr>\n",
       "  </thead>\n",
       "  <tbody>\n",
       "    <tr>\n",
       "      <th>0</th>\n",
       "      <td>0.00632</td>\n",
       "      <td>18.0</td>\n",
       "      <td>2.31</td>\n",
       "      <td>0.0</td>\n",
       "      <td>0.538</td>\n",
       "      <td>6.575</td>\n",
       "      <td>65.2</td>\n",
       "      <td>4.0900</td>\n",
       "      <td>1.0</td>\n",
       "      <td>296.0</td>\n",
       "      <td>15.3</td>\n",
       "      <td>396.90</td>\n",
       "      <td>4.98</td>\n",
       "      <td>24.0</td>\n",
       "    </tr>\n",
       "    <tr>\n",
       "      <th>1</th>\n",
       "      <td>0.02731</td>\n",
       "      <td>0.0</td>\n",
       "      <td>7.07</td>\n",
       "      <td>0.0</td>\n",
       "      <td>0.469</td>\n",
       "      <td>6.421</td>\n",
       "      <td>78.9</td>\n",
       "      <td>4.9671</td>\n",
       "      <td>2.0</td>\n",
       "      <td>242.0</td>\n",
       "      <td>17.8</td>\n",
       "      <td>396.90</td>\n",
       "      <td>9.14</td>\n",
       "      <td>21.6</td>\n",
       "    </tr>\n",
       "    <tr>\n",
       "      <th>2</th>\n",
       "      <td>0.02729</td>\n",
       "      <td>0.0</td>\n",
       "      <td>7.07</td>\n",
       "      <td>0.0</td>\n",
       "      <td>0.469</td>\n",
       "      <td>7.185</td>\n",
       "      <td>61.1</td>\n",
       "      <td>4.9671</td>\n",
       "      <td>2.0</td>\n",
       "      <td>242.0</td>\n",
       "      <td>17.8</td>\n",
       "      <td>392.83</td>\n",
       "      <td>4.03</td>\n",
       "      <td>34.7</td>\n",
       "    </tr>\n",
       "    <tr>\n",
       "      <th>3</th>\n",
       "      <td>0.03237</td>\n",
       "      <td>0.0</td>\n",
       "      <td>2.18</td>\n",
       "      <td>0.0</td>\n",
       "      <td>0.458</td>\n",
       "      <td>6.998</td>\n",
       "      <td>45.8</td>\n",
       "      <td>6.0622</td>\n",
       "      <td>3.0</td>\n",
       "      <td>222.0</td>\n",
       "      <td>18.7</td>\n",
       "      <td>394.63</td>\n",
       "      <td>2.94</td>\n",
       "      <td>33.4</td>\n",
       "    </tr>\n",
       "    <tr>\n",
       "      <th>4</th>\n",
       "      <td>0.06905</td>\n",
       "      <td>0.0</td>\n",
       "      <td>2.18</td>\n",
       "      <td>0.0</td>\n",
       "      <td>0.458</td>\n",
       "      <td>7.147</td>\n",
       "      <td>54.2</td>\n",
       "      <td>6.0622</td>\n",
       "      <td>3.0</td>\n",
       "      <td>222.0</td>\n",
       "      <td>18.7</td>\n",
       "      <td>396.90</td>\n",
       "      <td>5.33</td>\n",
       "      <td>36.2</td>\n",
       "    </tr>\n",
       "  </tbody>\n",
       "</table>\n",
       "</div>"
      ],
      "text/plain": [
       "      CRIM    ZN  INDUS  CHAS    NOX     RM   AGE     DIS  RAD    TAX  \\\n",
       "0  0.00632  18.0   2.31   0.0  0.538  6.575  65.2  4.0900  1.0  296.0   \n",
       "1  0.02731   0.0   7.07   0.0  0.469  6.421  78.9  4.9671  2.0  242.0   \n",
       "2  0.02729   0.0   7.07   0.0  0.469  7.185  61.1  4.9671  2.0  242.0   \n",
       "3  0.03237   0.0   2.18   0.0  0.458  6.998  45.8  6.0622  3.0  222.0   \n",
       "4  0.06905   0.0   2.18   0.0  0.458  7.147  54.2  6.0622  3.0  222.0   \n",
       "\n",
       "   PTRATIO       B  LSTAT  MEDV  \n",
       "0     15.3  396.90   4.98  24.0  \n",
       "1     17.8  396.90   9.14  21.6  \n",
       "2     17.8  392.83   4.03  34.7  \n",
       "3     18.7  394.63   2.94  33.4  \n",
       "4     18.7  396.90   5.33  36.2  "
      ]
     },
     "execution_count": 237,
     "metadata": {},
     "output_type": "execute_result"
    }
   ],
   "source": [
    "import pandas as pd\n",
    "from sklearn.datasets import load_boston\n",
    "\n",
    "boston_dataset = load_boston()\n",
    "\n",
    "boston = pd.DataFrame(boston_dataset.data, columns = boston_dataset.feature_names)\n",
    "boston['MEDV'] = boston_dataset.target\n",
    "boston.head()"
   ]
  },
  {
   "cell_type": "markdown",
   "metadata": {},
   "source": [
    "# Fit Univariate Linear Regression "
   ]
  },
  {
   "cell_type": "code",
   "execution_count": 238,
   "metadata": {},
   "outputs": [],
   "source": [
    "X = boston['PTRATIO'].values[:, np.newaxis]\n",
    "# Standardize Data\n",
    "X = (X - X.mean()) / X.std()\n",
    "# Add constant columns\n",
    "X_linalg = np.c_[np.ones(X.shape[0]), X]"
   ]
  },
  {
   "cell_type": "code",
   "execution_count": 239,
   "metadata": {},
   "outputs": [
    {
     "name": "stdout",
     "output_type": "stream",
     "text": [
      "beta 0: 22.532806324110673\n",
      "beta 1: -4.665549929257671\n"
     ]
    }
   ],
   "source": [
    "from sklearn.linear_model import LinearRegression\n",
    "from sklearn.metrics import mean_squared_error\n",
    "\n",
    "features = ['PTRATIO']\n",
    "target = 'MEDV'\n",
    "\n",
    "lr = LinearRegression()\n",
    "lr.fit(X, boston[target])\n",
    "\n",
    "beta_0 = lr.intercept_\n",
    "beta_1 = lr.coef_[0]\n",
    "\n",
    "print('beta 0:', beta_0)\n",
    "print('beta 1:', beta_1)"
   ]
  },
  {
   "cell_type": "code",
   "execution_count": 240,
   "metadata": {},
   "outputs": [
    {
     "data": {
      "image/png": "[encoded data removed]",
      "text/plain": [
       "<Figure size 432x288 with 1 Axes>"
      ]
     },
     "metadata": {
      "needs_background": "light"
     },
     "output_type": "display_data"
    }
   ],
   "source": [
    "import matplotlib.pyplot as plt\n",
    "plt.scatter(X, y)\n",
    "y_hat = [beta_1*x + beta_0 for x in X]\n",
    "plt.plot(X, y_hat)\n",
    "plt.show()"
   ]
  },
  {
   "cell_type": "markdown",
   "metadata": {},
   "source": [
    "# Univariate Gradient Descent "
   ]
  },
  {
   "cell_type": "code",
   "execution_count": 241,
   "metadata": {},
   "outputs": [],
   "source": [
    "import numpy as np"
   ]
  },
  {
   "cell_type": "code",
   "execution_count": 242,
   "metadata": {},
   "outputs": [
    {
     "name": "stdout",
     "output_type": "stream",
     "text": [
      "beta 0: 22.532806324110584\n",
      "beta 1: -4.665549929257649\n"
     ]
    }
   ],
   "source": [
    "# Hyperparameters\n",
    "alpha = 0.02\n",
    "iterations = 10000\n",
    "theta = [np.random.uniform(-10,10), np.random.uniform(-10,10)]\n",
    "\n",
    "# other parameters\n",
    "n = len(boston)\n",
    "np.random.seed(12)\n",
    "y = boston['MEDV']\n",
    "\n",
    "def gradient_descent(x, y, theta, iterations, alpha):\n",
    "    past_costs = []\n",
    "    for i in range(iterations):\n",
    "        prediction = np.dot(X_linalg, theta)\n",
    "        error = prediction - y\n",
    "        theta = theta - (alpha * (1/n)*np.dot(X_linalg.T, error))\n",
    "        cost = np.dot(error.T, error)\n",
    "        past_costs.append(cost)\n",
    "    return theta, past_costs\n",
    "\n",
    "final_theta, costs = gradient_descent(X_linalg, y, theta, iterations, alpha)\n",
    "\n",
    "print('beta 0:', final_theta[0])\n",
    "print('beta 1:', final_theta[1])"
   ]
  },
  {
   "cell_type": "code",
   "execution_count": 243,
   "metadata": {},
   "outputs": [
    {
     "data": {
      "image/png": "[encoded data removed]",
      "text/plain": [
       "<Figure size 432x288 with 1 Axes>"
      ]
     },
     "metadata": {
      "needs_background": "light"
     },
     "output_type": "display_data"
    }
   ],
   "source": [
    "plt.title('Cost Reduction by Iteration')\n",
    "plt.ylabel('Cost')\n",
    "plt.xlabel('Iterations')\n",
    "plt.plot(costs);"
   ]
  },
  {
   "cell_type": "markdown",
   "metadata": {},
   "source": [
    "# Multivariate Gradient Descent\n",
    "\n",
    "Implementation Based on: https://github.com/Tan-Moy/medium_articles/tree/master/art2_multivariate_linear_regression"
   ]
  },
  {
   "cell_type": "code",
   "execution_count": 244,
   "metadata": {},
   "outputs": [],
   "source": [
    "alpha = 0.02\n",
    "iterations = 1000\n",
    "theta = np.zeros([1,3])\n",
    "\n",
    "features = ['AGE','TAX']\n",
    "X = boston[features]\n",
    "X = (X - X.mean())/X.std()\n",
    "X_linalg = np.c_[np.ones(X.shape[0]), X]\n",
    "\n",
    "y = (boston['MEDV'].values).reshape(-1,1)"
   ]
  },
  {
   "cell_type": "code",
   "execution_count": 245,
   "metadata": {},
   "outputs": [
    {
     "name": "stdout",
     "output_type": "stream",
     "text": [
      "beta 0: 22.5328062861887\n",
      "beta 1: -1.7276561225020717\n",
      "beta 2: -3.434171516859094\n"
     ]
    }
   ],
   "source": [
    "def compute_cost(X, y, theta):\n",
    "    cost_mat = np.power( ( np.matmul(X, theta.T) - y ), 2)\n",
    "    return np.sum(cost_mat)/(2 * n)\n",
    "\n",
    "def gradientDescent(X, y, theta, iterations, alpha):\n",
    "    cost = np.ones(iterations)\n",
    "    for i in range(iterations):\n",
    "        theta = theta - (alpha/n) * np.sum(X * (np.matmul(X, theta.T) - y), axis=0)\n",
    "        cost[i] = compute_cost(X, y, theta)\n",
    "    return theta, cost\n",
    "\n",
    "theta, cost = gradientDescent(X_linalg, y, theta, iterations, alpha)\n",
    "theta\n",
    "\n",
    "print('beta 0:', theta[0][0])\n",
    "print('beta 1:', theta[0][1])\n",
    "print('beta 2:', theta[0][2])"
   ]
  },
  {
   "cell_type": "code",
   "execution_count": 246,
   "metadata": {},
   "outputs": [
    {
     "data": {
      "text/plain": [
       "31.836283561992083"
      ]
     },
     "execution_count": 246,
     "metadata": {},
     "output_type": "execute_result"
    }
   ],
   "source": [
    "finalCost = compute_cost(X_linalg, y, theta)\n",
    "finalCost"
   ]
  },
  {
   "cell_type": "code",
   "execution_count": 247,
   "metadata": {},
   "outputs": [
    {
     "data": {
      "image/png": "[encoded data removed]",
      "text/plain": [
       "<Figure size 432x288 with 1 Axes>"
      ]
     },
     "metadata": {
      "needs_background": "light"
     },
     "output_type": "display_data"
    }
   ],
   "source": [
    "plt.title('Cost Reduction by Iteration')\n",
    "plt.ylabel('Cost')\n",
    "plt.xlabel('Iterations')\n",
    "plt.plot(cost);"
   ]
  },
  {
   "cell_type": "markdown",
   "metadata": {},
   "source": [
    "# Multivariate Linear Regression"
   ]
  },
  {
   "cell_type": "code",
   "execution_count": 248,
   "metadata": {},
   "outputs": [
    {
     "name": "stdout",
     "output_type": "stream",
     "text": [
      "beta 0: 22.532806324110673\n",
      "beta 1: -1.7276133181110533\n",
      "beta 2: -3.4342143212503964\n"
     ]
    }
   ],
   "source": [
    "from sklearn.linear_model import LinearRegression\n",
    "from sklearn.metrics import mean_squared_error\n",
    "\n",
    "features = ['AGE','TAX']\n",
    "target = 'MEDV'\n",
    "\n",
    "lr = LinearRegression()\n",
    "lr.fit(X, boston[target])\n",
    "\n",
    "beta_0 = lr.intercept_\n",
    "beta_1 = lr.coef_[0]\n",
    "beta_2 = lr.coef_[1]\n",
    "\n",
    "print('beta 0:', beta_0)\n",
    "print('beta 1:', beta_1)\n",
    "print('beta 2:', beta_2)"
   ]
  }
 ],
 "metadata": {
  "kernelspec": {
   "display_name": "Python 3",
   "language": "python",
   "name": "python3"
  },
  "language_info": {
   "codemirror_mode": {
    "name": "ipython",
    "version": 3
   },
   "file_extension": ".py",
   "mimetype": "text/x-python",
   "name": "python",
   "nbconvert_exporter": "python",
   "pygments_lexer": "ipython3",
   "version": "3.6.8"
  }
 },
 "nbformat": 4,
 "nbformat_minor": 2
}
