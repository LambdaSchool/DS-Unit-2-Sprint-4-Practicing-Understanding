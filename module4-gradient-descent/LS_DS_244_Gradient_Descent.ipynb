{
  "nbformat": 4,
  "nbformat_minor": 0,
  "metadata": {
    "colab": {
      "name": "LS_DS_244_Gradient_Descent.ipynb",
      "version": "0.3.2",
      "provenance": []
    },
    "language_info": {
      "codemirror_mode": {
        "name": "ipython",
        "version": 3
      },
      "file_extension": ".py",
      "mimetype": "text/x-python",
      "name": "python",
      "nbconvert_exporter": "python",
      "pygments_lexer": "ipython3",
      "version": "3.7.1"
    },
    "kernelspec": {
      "display_name": "Python 3",
      "language": "python",
      "name": "python3"
    }
  },
  "cells": [
    {
      "cell_type": "markdown",
      "metadata": {
        "id": "16KufL75Yg8O",
        "colab_type": "text"
      },
      "source": [
        "_Lambda School Data Science — Practicing & Understanding Predictive Modeling_\n",
        "\n",
        "# Gradient Descent"
      ]
    },
    {
      "cell_type": "markdown",
      "metadata": {
        "id": "NEimR1dQYg8S",
        "colab_type": "text"
      },
      "source": [
        "<a href=\"https://twitter.com/dorrismccomics/status/1022803306173923328\"><img src=\"https://pbs.twimg.com/media/DjG6LapXcAAQ46q?format=jpg\" alt=\"oh no\"></a>"
      ]
    },
    {
      "cell_type": "markdown",
      "metadata": {
        "id": "UOZzduapYg8V",
        "colab_type": "text"
      },
      "source": [
        "## 3Blue1Brown, [Gradient descent, how neural networks learn](https://www.youtube.com/watch?v=IHZwWFHWa-w&t=2s&list=PLZHQObOWTQDNU6R1_67000Dx_ZCJB-3pi)"
      ]
    },
    {
      "cell_type": "markdown",
      "metadata": {
        "id": "N1c3uYAMYg8d",
        "colab_type": "text"
      },
      "source": [
        "It's provocative to describe a machine as learning. Once you actually see how it works, it feels a lot less like some crazy sci-fi premise and a lot more like, well, a calculus exercise. Basically it comes down to finding the minimum of a certain function. \n",
        "\n",
        "You define a cost function: a way of telling the computer: \"No, bad computer!\" But just telling the computer what a crappy job it's doing isn't very helpful. You want to tell it how to _change_ those weights and biases, so that it gets better.\n",
        "\n",
        "Just imagine a simple function that has one number as an input and one number as an output. How do you find an input that minimizes the value of this function?"
      ]
    },
    {
      "cell_type": "markdown",
      "metadata": {
        "id": "XOxmqcJQYg8i",
        "colab_type": "text"
      },
      "source": [
        "![image.png](attachment:image.png)"
      ]
    },
    {
      "cell_type": "markdown",
      "metadata": {
        "id": "kjexbOy_Yg8m",
        "colab_type": "text"
      },
      "source": [
        "Calculus students will know that you can sometimes figure out that minimum explicitly. But that's not always feasible for really complicated functions.\n",
        "\n",
        "A more flexible tactic is to start at any old input and figure out which direction you should step to make that output lower.\n",
        "\n",
        "Specifically, if you can figure out the slope of the function where you are, then shift to the left if that slope is positive, and shift the input to the right if that slope is negative.\n",
        "\n",
        "If you do this repeatedly at each point, checking the new slope and taking the appropriate step, you're gonna approach some local minimum of the function.\n",
        "\n",
        "---\n",
        "\n",
        "Bumping up the complexity a bit, imagine instead a function with _two_ inputs and one output.\n",
        "\n",
        "Now instead of asking about the slope of the function, you have to ask which direction should you step, to decrease the output of the function most quickly? In other words, what's the downhill direction? It's helpful to think of a ball rolling down that hill."
      ]
    },
    {
      "cell_type": "markdown",
      "metadata": {
        "id": "8Sp-R2uQYg8p",
        "colab_type": "text"
      },
      "source": [
        "![](https://media.giphy.com/media/cLGkK33brqidKXS8dS/giphy.gif)"
      ]
    },
    {
      "cell_type": "markdown",
      "metadata": {
        "id": "U5ruEQvZYg8t",
        "colab_type": "text"
      },
      "source": [
        "Those of you familiar with multivariable calculus will know that the gradient of a function gives you the direction of steepest ascent. Taking the negative of that gradient gives you the direction to step that decreases the function most quickly\n",
        "\n",
        "If you're unfamiliar with multivariable calculus, honestly, all that matters for you and me right now is that there exists a way to compute this downhill direction. You'll be okay if that's all you know and you're not rock solid on the details.\n",
        "\n",
        "Because if you can get that, the algorithm for minimizing the function is to \n",
        "\n",
        "- compute this gradient direction, \n",
        "- then take a small step downhill, \n",
        "- and just repeat that over and over. \n",
        "\n",
        "It's the same basic idea for a function that has 13,000 inputs instead of two inputs. This process of repeatedly nudging an input of a function by some multiple of the negative gradient is called gradient descent.\n",
        "\n",
        "---"
      ]
    },
    {
      "cell_type": "markdown",
      "metadata": {
        "id": "1X0IiaoqYg8x",
        "colab_type": "text"
      },
      "source": [
        "## Let's code it!\n",
        "\n",
        "> You define a cost function: a way of telling the computer: \"No, bad computer!\" But just telling the computer what a crappy job it's doing isn't very helpful. You want to tell it how to _change_ those weights and biases, so that it gets better.\n",
        ">\n",
        "> Just imagine a simple function that has one number as an input and one number as an output. \n",
        "\n",
        "Let's plot a function like that: $f(x) = x^2$"
      ]
    },
    {
      "cell_type": "code",
      "metadata": {
        "id": "Ljb5669RYg80",
        "colab_type": "code",
        "colab": {
          "base_uri": "https://localhost:8080/",
          "height": 341
        },
        "outputId": "6cb8ae8b-9914-47bd-91a2-a419a8b87e70"
      },
      "source": [
        "%matplotlib inline\n",
        "import matplotlib.pyplot as plt\n",
        "import numpy as np\n",
        "import seaborn as sns\n",
        "sns.set_context('poster')\n",
        "\n",
        "# plot the function x^2\n",
        "\n",
        "xs = np.linspace(start=-1, stop=1)\n",
        "\n",
        "squares = xs ** 2\n",
        "plt.plot(xs, squares)\n",
        "\n",
        "plt.xlabel('x')\n",
        "plt.ylabel('f(x) = x**2')"
      ],
      "execution_count": 4,
      "outputs": [
        {
          "output_type": "execute_result",
          "data": {
            "text/plain": [
              "Text(0, 0.5, 'f(x) = x**2')"
            ]
          },
          "metadata": {
            "tags": []
          },
          "execution_count": 4
        },
        {
          "output_type": "display_data",
          "data": {
            "image/png": "[encoded data removed]",
            "text/plain": [
              "<Figure size 432x288 with 1 Axes>"
            ]
          },
          "metadata": {
            "tags": []
          }
        }
      ]
    },
    {
      "cell_type": "markdown",
      "metadata": {
        "id": "QJ-NXfzsYg88",
        "colab_type": "text"
      },
      "source": [
        "> How do you find an input that minimizes the value of this function?\n",
        ">\n",
        "> You can sometimes figure out that minimum explicitly. But that's not always feasible for really complicated functions.\n",
        ">\n",
        "> A more flexible tactic is to start at any old input ..."
      ]
    },
    {
      "cell_type": "code",
      "metadata": {
        "id": "vRcO6fnrYg8-",
        "colab_type": "code",
        "colab": {
          "base_uri": "https://localhost:8080/",
          "height": 341
        },
        "outputId": "193d9da7-56a1-49b0-ed40-8e6a2002db74"
      },
      "source": [
        "# plot x**2\n",
        "xs = np.linspace(start=-1, stop=1)\n",
        "\n",
        "squares = xs ** 2\n",
        "plt.plot(xs, squares)\n",
        "\n",
        "plt.xlabel('x')\n",
        "plt.ylabel('f(x) = x**2')\n",
        "\n",
        "# plot point\n",
        "x = np.random.uniform(-1,1)\n",
        "y = x ** 2\n",
        "plt.scatter(x,y, color='red')\n"
      ],
      "execution_count": 16,
      "outputs": [
        {
          "output_type": "execute_result",
          "data": {
            "text/plain": [
              "<matplotlib.collections.PathCollection at 0x7f48806d5320>"
            ]
          },
          "metadata": {
            "tags": []
          },
          "execution_count": 16
        },
        {
          "output_type": "display_data",
          "data": {
            "image/png": "[encoded data removed]",
            "text/plain": [
              "<Figure size 432x288 with 1 Axes>"
            ]
          },
          "metadata": {
            "tags": []
          }
        }
      ]
    },
    {
      "cell_type": "markdown",
      "metadata": {
        "id": "Rl7cF34OYg9F",
        "colab_type": "text"
      },
      "source": [
        "> Start at any old input and figure out which direction you should step to make that output lower.\n",
        ">\n",
        "> Specifically, if you can figure out the slope of the function where you are, then shift to the left if that slope is positive, and shift the input to the right if that slope is negative."
      ]
    },
    {
      "cell_type": "code",
      "metadata": {
        "id": "Cw1Oxp-eYg9I",
        "colab_type": "code",
        "colab": {
          "base_uri": "https://localhost:8080/",
          "height": 358
        },
        "outputId": "eb5b2270-03e8-4ae8-ca82-7c6c8d1ee607"
      },
      "source": [
        "# plot x**2\n",
        "xs = np.linspace(start=-1, stop=1)\n",
        "\n",
        "squares = xs ** 2\n",
        "plt.plot(xs, squares)\n",
        "\n",
        "plt.xlabel('x')\n",
        "plt.ylabel('f(x) = x**2')\n",
        "\n",
        "# plot point\n",
        "x = np.random.uniform(-1,1)\n",
        "y = x ** 2\n",
        "plt.scatter(x,y, color='red')\n",
        "\n",
        "# calculate derivate\n",
        "derivative = 2*x\n",
        "print('Gradient:', derivative)\n",
        "\n",
        "# plot line\n",
        "\n",
        "\n",
        "if derivative > 0:\n",
        "  print('Shift to the left')\n",
        "elif derivative < 0:\n",
        "  print('Shift to the right')\n",
        "else:\n",
        "  print('Minimized value of function!')"
      ],
      "execution_count": 36,
      "outputs": [
        {
          "output_type": "stream",
          "text": [
            "Gradient: -1.2012542454072044\n",
            "Shift to the right\n"
          ],
          "name": "stdout"
        },
        {
          "output_type": "display_data",
          "data": {
            "image/png": "[encoded data removed]",
            "text/plain": [
              "<Figure size 432x288 with 1 Axes>"
            ]
          },
          "metadata": {
            "tags": []
          }
        }
      ]
    },
    {
      "cell_type": "markdown",
      "metadata": {
        "id": "p577PvETYg9N",
        "colab_type": "text"
      },
      "source": [
        "> If you do this repeatedly at each point, checking the new slope and taking the appropriate step, you're gonna approach some local minimum of the function."
      ]
    },
    {
      "cell_type": "code",
      "metadata": {
        "id": "xPB4iaMXYg9O",
        "colab_type": "code",
        "colab": {
          "base_uri": "https://localhost:8080/",
          "height": 358
        },
        "outputId": "0b632f0a-5e2d-498b-b3b8-568d2d9efa2b"
      },
      "source": [
        "def check_slope(x):\n",
        "  # plot x**2\n",
        "  xs = np.linspace(start=-1, stop=1)\n",
        "\n",
        "  squares = xs ** 2\n",
        "  plt.plot(xs, squares)\n",
        "  \n",
        "  y = x ** 2\n",
        "  plt.scatter(x,y, color='red')\n",
        "\n",
        "  plt.xlabel('x')\n",
        "  plt.ylabel('f(x) = x**2')\n",
        "  \n",
        "  # calculate derivate\n",
        "  derivative = 2*x\n",
        "  print('Gradient:', derivative)\n",
        "\n",
        "  # plot line\n",
        "\n",
        "\n",
        "  if derivative > 0:\n",
        "    print('Shift to the left')\n",
        "  elif derivative < 0:\n",
        "    print('Shift to the right')\n",
        "  else:\n",
        "    print('Minimized value of function!')\n",
        "  \n",
        "check_slope(0)  "
      ],
      "execution_count": 38,
      "outputs": [
        {
          "output_type": "stream",
          "text": [
            "Gradient: 0\n",
            "Minimized value of function!\n"
          ],
          "name": "stdout"
        },
        {
          "output_type": "display_data",
          "data": {
            "image/png": "[encoded data removed]",
            "text/plain": [
              "<Figure size 432x288 with 1 Axes>"
            ]
          },
          "metadata": {
            "tags": []
          }
        }
      ]
    },
    {
      "cell_type": "markdown",
      "metadata": {
        "id": "CajVg2jnYg9S",
        "colab_type": "text"
      },
      "source": [
        "> The algorithm for minimizing the function is to \n",
        ">\n",
        "> - compute this gradient direction, \n",
        "> - then take a small step downhill, \n",
        "> - and just repeat that over and over. \n",
        ">\n",
        "> This process of repeatedly nudging an input of a function by some multiple of the negative gradient is called gradient descent."
      ]
    },
    {
      "cell_type": "code",
      "metadata": {
        "id": "NzP2pfM0Yg9U",
        "colab_type": "code",
        "colab": {
          "base_uri": "https://localhost:8080/",
          "height": 357
        },
        "outputId": "ad072098-64cd-4836-b80a-4982b0a8fb5d"
      },
      "source": [
        "iterations = 20\n",
        "learning_rate = .1 # alpha\n",
        "\n",
        "x = np.random.uniform(-1,1)\n",
        "\n",
        "for _ in range(iterations):\n",
        "  gradient = 2*x\n",
        "  x += learning_rate * -gradient\n",
        "  print(x)"
      ],
      "execution_count": 42,
      "outputs": [
        {
          "output_type": "stream",
          "text": [
            "-0.6080390237496403\n",
            "-0.4864312189997122\n",
            "-0.38914497519976976\n",
            "-0.3113159801598158\n",
            "-0.24905278412785264\n",
            "-0.1992422273022821\n",
            "-0.15939378184182568\n",
            "-0.12751502547346055\n",
            "-0.10201202037876844\n",
            "-0.08160961630301475\n",
            "-0.0652876930424118\n",
            "-0.05223015443392944\n",
            "-0.04178412354714355\n",
            "-0.03342729883771484\n",
            "-0.026741839070171875\n",
            "-0.0213934712561375\n",
            "-0.01711477700491\n",
            "-0.013691821603928001\n",
            "-0.010953457283142402\n",
            "-0.008762765826513922\n"
          ],
          "name": "stdout"
        }
      ]
    },
    {
      "cell_type": "code",
      "metadata": {
        "id": "wszCvdW3jgt2",
        "colab_type": "code",
        "colab": {
          "base_uri": "https://localhost:8080/",
          "height": 296
        },
        "outputId": "251564ad-482d-40d2-893d-bac8c0ef78d2"
      },
      "source": [
        "def gradient_descent(start_at=np.random.uniform(-1,1), iterations=20, learning_rate=.1):\n",
        "  xs = np.linspace(-1,1)\n",
        "  squares = xs**2\n",
        "  plt.plot(xs, squares, color='grey')\n",
        "  \n",
        "  x = start_at\n",
        "  for n in range(iterations):\n",
        "    gradient = 2*x\n",
        "    x += learning_rate * -gradient\n",
        "    y = x**2\n",
        "    plt.scatter(x, y, color='blue', edgecolor='black', zorder=3)\n",
        "    \n",
        "gradient_descent(start_at=-.9, iterations=20, learning_rate=.9)"
      ],
      "execution_count": 62,
      "outputs": [
        {
          "output_type": "display_data",
          "data": {
            "image/png": "[encoded data removed]",
            "text/plain": [
              "<Figure size 432x288 with 1 Axes>"
            ]
          },
          "metadata": {
            "tags": []
          }
        }
      ]
    },
    {
      "cell_type": "markdown",
      "metadata": {
        "id": "zkfxCc_1Yg9Z",
        "colab_type": "text"
      },
      "source": [
        "## NEXT: Solving Linear Regression with Gradient Descent"
      ]
    },
    {
      "cell_type": "markdown",
      "metadata": {
        "id": "ZHJlHyimYg9a",
        "colab_type": "text"
      },
      "source": [
        "Let's look at the first quadrant of Anscombe's quartet. \n",
        "\n",
        "We can draw a line to fit the data, adjust the line's slope, and visualize the cost function."
      ]
    },
    {
      "cell_type": "code",
      "metadata": {
        "scrolled": false,
        "id": "V9a2xAeRYg9b",
        "colab_type": "code",
        "colab": {}
      },
      "source": [
        ""
      ],
      "execution_count": 0,
      "outputs": []
    },
    {
      "cell_type": "markdown",
      "metadata": {
        "id": "s-bh3PUbYg9f",
        "colab_type": "text"
      },
      "source": [
        "---\n",
        "***We can use Gradient Descent to solve Linear Regression. Here's how:***"
      ]
    },
    {
      "cell_type": "markdown",
      "metadata": {
        "id": "MT2gD-RWYg9h",
        "colab_type": "text"
      },
      "source": [
        "## Andrew Ng, [Gradient Descent for Linear Regression](https://www.coursera.org/lecture/machine-learning/gradient-descent-for-linear-regression-kCvQc) with One Variable\n",
        "\n",
        "> We're gonna put together gradient descent with our squared error cost function, and that will give us an algorithm for linear regression.\n",
        ">\n",
        "> In order to apply gradient descent, we need the partial derivative terms. Computing those partial derivative terms requires some multivariate calculus. If you know calculus, feel free to work through the derivations yourself and check that if you take the derivatives, you actually get the answers that I got. But if you're less familiar with calculus, don't worry about it and it's fine to just take these equations that were worked out.\n"
      ]
    },
    {
      "cell_type": "markdown",
      "metadata": {
        "id": "tBaMQLrrYg9i",
        "colab_type": "text"
      },
      "source": [
        "![Screen%20Shot%202019-05-16%20at%209.27.04%20AM.png](attachment:Screen%20Shot%202019-05-16%20at%209.27.04%20AM.png)"
      ]
    },
    {
      "cell_type": "markdown",
      "metadata": {
        "id": "4cp_41oSYg9k",
        "colab_type": "text"
      },
      "source": [
        "#### Let's translate this math notation into Python code:"
      ]
    },
    {
      "cell_type": "code",
      "metadata": {
        "id": "vER3rtkZYg9l",
        "colab_type": "code",
        "colab": {}
      },
      "source": [
        ""
      ],
      "execution_count": 0,
      "outputs": []
    },
    {
      "cell_type": "markdown",
      "metadata": {
        "id": "pEuDTz0sYg9p",
        "colab_type": "text"
      },
      "source": [
        "#### Then use our code to solve linear regression problems with one variable."
      ]
    },
    {
      "cell_type": "code",
      "metadata": {
        "id": "hdKa2fbIYg9q",
        "colab_type": "code",
        "colab": {}
      },
      "source": [
        ""
      ],
      "execution_count": 0,
      "outputs": []
    },
    {
      "cell_type": "markdown",
      "metadata": {
        "id": "7QgshiXmYg9s",
        "colab_type": "text"
      },
      "source": [
        "# ASSIGNMENT\n",
        "\n",
        "Choose of these options, and ***share your work with your cohort on Slack!***\n",
        "\n",
        "### Visualize\n",
        "- How can you adapt or improve these visualizations?\n",
        "   - Could you draw tangent lines in the cost function visualizations?\n",
        "   - Could you create an interactive visualization of gradient descent for linear regression?\n",
        "   - Could you explain these concepts in different ways, by creating different visualizations?\n",
        "- [Lambda School DS2 student Cole Hudson created an awesome visualization!](https://gist.github.com/colejhudson/5cb08e9c51d1600a799deb25758a1c61) He implemented gradient descent to optimize a complex [\"Rosenbrock function\"](https://en.wikipedia.org/wiki/Rosenbrock_function), and visualized it in 3D. What can you learn from this example? What will you be inspired to create?\n",
        "\n",
        "### Implement\n",
        "- We implemented gradient descent for linear regression with one variable. Can you extend the code to work for multiple regression?\n",
        "- Choose another regression dataset. Fit the data with your gradient descent code, and without. (For example, use scikit-learn's Linear Regression model.) Compare your results.\n",
        "\n",
        "### Understand\n",
        "Explore another explanation or tutorial for Gradient Descent. You can use these links, or find another link of your choice. Share a quote or image from your link to show what you learn.\n",
        "\n",
        "- [Andrew Ng, Gradient Descent](https://www.coursera.org/lecture/machine-learning/gradient-descent-8SpIM)\n",
        "- [Brandon Rohrer, How Optimization Works](https://brohrer.github.io/how_optimization_works_1.html)\n",
        "- [Google Machine Learning Crash Course, Reducing Loss: An Iterative Approach](https://developers.google.com/machine-learning/crash-course/reducing-loss/an-iterative-approach)\n",
        "- [Joel Grus, Data Science from Scratch, 2nd Edition](https://joelgrus.com/2019/05/13/data-science-from-scratch-second-edition/), Chapter 8: Gradient Descent\n",
        "- [Kalid Azad, Understanding the Gradient](https://betterexplained.com/articles/vector-calculus-understanding-the-gradient/)\n",
        "- [Siraj Raval, The Evolution of Gradient Descent](https://www.youtube.com/watch?v=nhqo0u1a6fw)\n",
        "- [Terence Parr, Jeremy Howard, How to explain gradient boosting](https://explained.ai/gradient-boosting/)\n",
        "\n",
        "### Explore more model interpretation visualizations\n",
        "Yesterday, we looked at just a few options in a few Python libraries for model interpretation visualizations. Explore more options to create new visuals in new ways. This isn't about Gradient Descent, but would be a great use of your time too!\n",
        "\n",
        "- https://github.com/TeamHG-Memex/eli5\n",
        "- https://github.com/slundberg/shap\n",
        "- https://github.com/oracle/Skater"
      ]
    }
  ]
}