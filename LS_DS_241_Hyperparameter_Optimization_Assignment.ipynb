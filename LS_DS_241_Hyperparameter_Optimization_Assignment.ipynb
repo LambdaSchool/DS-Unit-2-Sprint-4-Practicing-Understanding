{
  "nbformat": 4,
  "nbformat_minor": 0,
  "metadata": {
    "colab": {
      "name": "LS_DS_241_Hyperparameter_Optimization_Assignment.ipynb",
      "version": "0.3.2",
      "provenance": [],
      "collapsed_sections": [],
      "include_colab_link": true
    },
    "language_info": {
      "codemirror_mode": {
        "name": "ipython",
        "version": 3
      },
      "file_extension": ".py",
      "mimetype": "text/x-python",
      "name": "python",
      "nbconvert_exporter": "python",
      "pygments_lexer": "ipython3",
      "version": "3.7.1"
    },
    "kernelspec": {
      "display_name": "Python 3",
      "language": "python",
      "name": "python3"
    }
  },
  "cells": [
    {
      "cell_type": "markdown",
      "metadata": {
        "id": "view-in-github",
        "colab_type": "text"
      },
      "source": [
        "<a href=\"https://colab.research.google.com/github/LilySu/DS-Unit-2-Sprint-4-Practicing-Understanding/blob/master/LS_DS_241_Hyperparameter_Optimization_Assignment.ipynb\" target=\"_parent\"><img src=\"https://colab.research.google.com/assets/colab-badge.svg\" alt=\"Open In Colab\"/></a>"
      ]
    },
    {
      "cell_type": "code",
      "metadata": {
        "id": "TCZaoClzRU9P",
        "colab_type": "code",
        "colab": {}
      },
      "source": [
        "#Using a good validation set can prevent this. \n",
        "#You can check if your validation set is any good by seeing if your model \n",
        "#has similar scores on it to compared with on the Kaggle test set."
      ],
      "execution_count": 0,
      "outputs": []
    },
    {
      "cell_type": "markdown",
      "metadata": {
        "colab_type": "text",
        "id": "O67uhlT4MExK"
      },
      "source": [
        "_Lambda School Data Science — Practicing & Understanding Predictive Modeling_\n",
        "\n",
        "# Hyperparameter Optimization"
      ]
    },
    {
      "cell_type": "markdown",
      "metadata": {
        "colab_type": "text",
        "id": "VE4rfZd4NUGA"
      },
      "source": [
        "Today we'll use this process:\n",
        "\n",
        "## \"A universal workflow of machine learning\"\n",
        "\n",
        "_Excerpt from Francois Chollet, [Deep Learning with Python](https://github.com/fchollet/deep-learning-with-python-notebooks/blob/master/README.md), Chapter 4: Fundamentals of machine learning_\n",
        " \n",
        "**1. Define the problem at hand and the data on which you’ll train.** Collect this data, or annotate it with labels if need be.\n",
        "\n",
        "**2. Choose how you’ll measure success on your problem.** Which metrics will you monitor on your validation data?\n",
        "\n",
        "**3. Determine your evaluation protocol:** hold-out validation? K-fold validation? Which portion of the data should you use for validation?\n",
        "\n",
        "**4. Develop a first model that does better than a basic baseline:** a model with statistical power.\n",
        "\n",
        "**5. Develop a model that overfits.** The universal tension in machine learning is between optimization and generalization; the ideal model is one that stands right at the border between underfitting and overfitting; between undercapacity and overcapacity. To figure out where this border lies, first you must cross it.\n",
        "\n",
        "**6. Regularize your model and tune its hyperparameters, based on performance on the validation data.** Repeatedly modify your model, train it, evaluate on your validation data (not the test data, at this point), modify it again, and repeat, until the model is as good as it can get. \n",
        "\n",
        "**Iterate on feature engineering: add new features, or remove features that don’t seem to be informative.** \n",
        "\n",
        "Once you’ve developed a satisfactory model configuration, you can **train your final production model on all the available data (training and validation) and evaluate it one last time on the test set.**\n"
      ]
    },
    {
      "cell_type": "markdown",
      "metadata": {
        "colab_type": "text",
        "id": "3kt6bzEcOIaa"
      },
      "source": [
        "## 1. Define the problem at hand and the data on which you'll train"
      ]
    },
    {
      "cell_type": "markdown",
      "metadata": {
        "colab_type": "text",
        "id": "di16k7vpRg67"
      },
      "source": [
        "We'll apply the workflow to a [project from _Python Data Science Handbook_](https://jakevdp.github.io/PythonDataScienceHandbook/05.06-linear-regression.html#Example:-Predicting-Bicycle-Traffic) by Jake VanderPlas:\n",
        "\n",
        "> **Predicting Bicycle Traffic**\n",
        "\n",
        "> As an example, let's take a look at whether we can predict the number of bicycle trips across Seattle's Fremont Bridge based on weather, season, and other factors.\n",
        "\n",
        "> We will join the bike data with another dataset, and try to determine the extent to which weather and seasonal factors—temperature, precipitation, and daylight hours—affect the volume of bicycle traffic through this corridor. Fortunately, the NOAA makes available their daily [weather station data](http://www.ncdc.noaa.gov/cdo-web/search?datasetid=GHCND) (I used station ID USW00024233) and we can easily use Pandas to join the two data sources.\n",
        "\n",
        "> Let's start by loading the two datasets, indexing by date:"
      ]
    },
    {
      "cell_type": "markdown",
      "metadata": {
        "colab_type": "text",
        "id": "19dpb_d0R1A6"
      },
      "source": [
        "So this is a regression problem, not a classification problem. We'll define the target, choose an evaluation metric, and choose models that are appropriate for regression problems.\n",
        "\n",
        "\n"
      ]
    },
    {
      "cell_type": "markdown",
      "metadata": {
        "colab_type": "text",
        "id": "os1zruXQ30KM"
      },
      "source": [
        "### Download data"
      ]
    },
    {
      "cell_type": "code",
      "metadata": {
        "colab_type": "code",
        "id": "5XVu-HSeMDtV",
        "outputId": "1fdb87c0-5aef-4d34-e30a-d619531bba29",
        "colab": {
          "base_uri": "https://localhost:8080/",
          "height": 71
        }
      },
      "source": [
        "!curl -o FremontBridge.csv https://data.seattle.gov/api/views/65db-xm6k/rows.csv?accessType=DOWNLOAD"
      ],
      "execution_count": 2,
      "outputs": [
        {
          "output_type": "stream",
          "text": [
            "  % Total    % Received % Xferd  Average Speed   Time    Time     Time  Current\n",
            "                                 Dload  Upload   Total   Spent    Left  Speed\n",
            "100 1616k    0 1616k    0     0  1057k      0 --:--:--  0:00:01 --:--:-- 1057k\n"
          ],
          "name": "stdout"
        }
      ]
    },
    {
      "cell_type": "code",
      "metadata": {
        "colab_type": "code",
        "id": "sih_7mTzMdfr",
        "outputId": "63cf6444-5a1b-4cef-f029-42f73ace1ee0",
        "colab": {
          "base_uri": "https://localhost:8080/",
          "height": 214
        }
      },
      "source": [
        "!wget https://raw.githubusercontent.com/jakevdp/PythonDataScienceHandbook/master/notebooks/data/BicycleWeather.csv"
      ],
      "execution_count": 3,
      "outputs": [
        {
          "output_type": "stream",
          "text": [
            "--2019-05-24 14:56:43--  https://raw.githubusercontent.com/jakevdp/PythonDataScienceHandbook/master/notebooks/data/BicycleWeather.csv\n",
            "Resolving raw.githubusercontent.com (raw.githubusercontent.com)... 151.101.0.133, 151.101.64.133, 151.101.128.133, ...\n",
            "Connecting to raw.githubusercontent.com (raw.githubusercontent.com)|151.101.0.133|:443... connected.\n",
            "HTTP request sent, awaiting response... 200 OK\n",
            "Length: 234945 (229K) [text/plain]\n",
            "Saving to: ‘BicycleWeather.csv’\n",
            "\n",
            "\rBicycleWeather.csv    0%[                    ]       0  --.-KB/s               \rBicycleWeather.csv  100%[===================>] 229.44K  --.-KB/s    in 0.07s   \n",
            "\n",
            "2019-05-24 14:56:44 (3.43 MB/s) - ‘BicycleWeather.csv’ saved [234945/234945]\n",
            "\n"
          ],
          "name": "stdout"
        }
      ]
    },
    {
      "cell_type": "markdown",
      "metadata": {
        "colab_type": "text",
        "id": "9GYm74kD34OQ"
      },
      "source": [
        "### Load data"
      ]
    },
    {
      "cell_type": "code",
      "metadata": {
        "colab_type": "code",
        "id": "BfQ7gE28MNdF",
        "colab": {}
      },
      "source": [
        "# Modified from cells 15, 16, and 20, at\n",
        "# https://jakevdp.github.io/PythonDataScienceHandbook/05.06-linear-regression.html#Example:-Predicting-Bicycle-Traffic\n",
        "\n",
        "import pandas as pd\n",
        "\n",
        "# Download and join data into a dataframe\n",
        "def load(): \n",
        "    fremont_bridge = 'https://data.seattle.gov/api/views/65db-xm6k/rows.csv?accessType=DOWNLOAD'\n",
        "    \n",
        "    bicycle_weather = 'https://raw.githubusercontent.com/jakevdp/PythonDataScienceHandbook/master/notebooks/data/BicycleWeather.csv'\n",
        "\n",
        "    counts = pd.read_csv(fremont_bridge, index_col='Date', parse_dates=True, \n",
        "                         infer_datetime_format=True)\n",
        "\n",
        "    weather = pd.read_csv(bicycle_weather, index_col='DATE', parse_dates=True, \n",
        "                          infer_datetime_format=True)\n",
        "\n",
        "    daily = counts.resample('d').sum()\n",
        "    daily['Total'] = daily.sum(axis=1)\n",
        "    daily = daily[['Total']] # remove other columns\n",
        "\n",
        "    weather_columns = ['PRCP', 'SNOW', 'SNWD', 'TMAX', 'TMIN', 'AWND']\n",
        "    daily = daily.join(weather[weather_columns], how='inner')\n",
        "    \n",
        "    # Make a feature for yesterday's total\n",
        "    daily['Total_yesterday'] = daily.Total.shift(1)\n",
        "    daily = daily.drop(index=daily.index[0])\n",
        "    \n",
        "    return daily\n",
        "\n",
        "daily = load()"
      ],
      "execution_count": 0,
      "outputs": []
    },
    {
      "cell_type": "code",
      "metadata": {
        "id": "QznSxqvjWThH",
        "colab_type": "code",
        "outputId": "199030a9-bab5-44af-83f7-90d09f8e5aef",
        "colab": {
          "base_uri": "https://localhost:8080/",
          "height": 294
        }
      },
      "source": [
        "daily.head().T"
      ],
      "execution_count": 5,
      "outputs": [
        {
          "output_type": "execute_result",
          "data": {
            "text/html": [
              "<div>\n",
              "<style scoped>\n",
              "    .dataframe tbody tr th:only-of-type {\n",
              "        vertical-align: middle;\n",
              "    }\n",
              "\n",
              "    .dataframe tbody tr th {\n",
              "        vertical-align: top;\n",
              "    }\n",
              "\n",
              "    .dataframe thead th {\n",
              "        text-align: right;\n",
              "    }\n",
              "</style>\n",
              "<table border=\"1\" class=\"dataframe\">\n",
              "  <thead>\n",
              "    <tr style=\"text-align: right;\">\n",
              "      <th></th>\n",
              "      <th>2012-10-04 00:00:00</th>\n",
              "      <th>2012-10-05 00:00:00</th>\n",
              "      <th>2012-10-06 00:00:00</th>\n",
              "      <th>2012-10-07 00:00:00</th>\n",
              "      <th>2012-10-08 00:00:00</th>\n",
              "    </tr>\n",
              "  </thead>\n",
              "  <tbody>\n",
              "    <tr>\n",
              "      <th>Total</th>\n",
              "      <td>3475.0</td>\n",
              "      <td>3148.0</td>\n",
              "      <td>2006.0</td>\n",
              "      <td>2142.0</td>\n",
              "      <td>3537.0</td>\n",
              "    </tr>\n",
              "    <tr>\n",
              "      <th>PRCP</th>\n",
              "      <td>0.0</td>\n",
              "      <td>0.0</td>\n",
              "      <td>0.0</td>\n",
              "      <td>0.0</td>\n",
              "      <td>0.0</td>\n",
              "    </tr>\n",
              "    <tr>\n",
              "      <th>SNOW</th>\n",
              "      <td>0.0</td>\n",
              "      <td>0.0</td>\n",
              "      <td>0.0</td>\n",
              "      <td>0.0</td>\n",
              "      <td>0.0</td>\n",
              "    </tr>\n",
              "    <tr>\n",
              "      <th>SNWD</th>\n",
              "      <td>0.0</td>\n",
              "      <td>0.0</td>\n",
              "      <td>0.0</td>\n",
              "      <td>0.0</td>\n",
              "      <td>0.0</td>\n",
              "    </tr>\n",
              "    <tr>\n",
              "      <th>TMAX</th>\n",
              "      <td>189.0</td>\n",
              "      <td>217.0</td>\n",
              "      <td>239.0</td>\n",
              "      <td>239.0</td>\n",
              "      <td>211.0</td>\n",
              "    </tr>\n",
              "    <tr>\n",
              "      <th>TMIN</th>\n",
              "      <td>83.0</td>\n",
              "      <td>89.0</td>\n",
              "      <td>78.0</td>\n",
              "      <td>78.0</td>\n",
              "      <td>78.0</td>\n",
              "    </tr>\n",
              "    <tr>\n",
              "      <th>AWND</th>\n",
              "      <td>65.0</td>\n",
              "      <td>57.0</td>\n",
              "      <td>51.0</td>\n",
              "      <td>13.0</td>\n",
              "      <td>19.0</td>\n",
              "    </tr>\n",
              "    <tr>\n",
              "      <th>Total_yesterday</th>\n",
              "      <td>3521.0</td>\n",
              "      <td>3475.0</td>\n",
              "      <td>3148.0</td>\n",
              "      <td>2006.0</td>\n",
              "      <td>2142.0</td>\n",
              "    </tr>\n",
              "  </tbody>\n",
              "</table>\n",
              "</div>"
            ],
            "text/plain": [
              "                 2012-10-04  2012-10-05  2012-10-06  2012-10-07  2012-10-08\n",
              "Total                3475.0      3148.0      2006.0      2142.0      3537.0\n",
              "PRCP                    0.0         0.0         0.0         0.0         0.0\n",
              "SNOW                    0.0         0.0         0.0         0.0         0.0\n",
              "SNWD                    0.0         0.0         0.0         0.0         0.0\n",
              "TMAX                  189.0       217.0       239.0       239.0       211.0\n",
              "TMIN                   83.0        89.0        78.0        78.0        78.0\n",
              "AWND                   65.0        57.0        51.0        13.0        19.0\n",
              "Total_yesterday      3521.0      3475.0      3148.0      2006.0      2142.0"
            ]
          },
          "metadata": {
            "tags": []
          },
          "execution_count": 5
        }
      ]
    },
    {
      "cell_type": "code",
      "metadata": {
        "id": "0VJnqNOnwSCp",
        "colab_type": "code",
        "colab": {}
      },
      "source": [
        "#choose evaluation metric, and models"
      ],
      "execution_count": 0,
      "outputs": []
    },
    {
      "cell_type": "markdown",
      "metadata": {
        "colab_type": "text",
        "id": "VVB3g4704An5"
      },
      "source": [
        "### First fast look at the data\n",
        "- What's the shape?\n",
        "- What's the date range?\n",
        "- What's the target and the features?"
      ]
    },
    {
      "cell_type": "code",
      "metadata": {
        "id": "HNbIspCbyLy-",
        "colab_type": "code",
        "outputId": "e1a82788-699e-47a3-abf3-d3468c472ad2",
        "colab": {
          "base_uri": "https://localhost:8080/",
          "height": 35
        }
      },
      "source": [
        "daily.shape"
      ],
      "execution_count": 7,
      "outputs": [
        {
          "output_type": "execute_result",
          "data": {
            "text/plain": [
              "(1063, 8)"
            ]
          },
          "metadata": {
            "tags": []
          },
          "execution_count": 7
        }
      ]
    },
    {
      "cell_type": "code",
      "metadata": {
        "id": "zwZzFlDvyReB",
        "colab_type": "code",
        "outputId": "46b34245-5de9-427e-dd38-0b5a7b7e93a3",
        "colab": {
          "base_uri": "https://localhost:8080/",
          "height": 202
        }
      },
      "source": [
        "daily.tail()"
      ],
      "execution_count": 8,
      "outputs": [
        {
          "output_type": "execute_result",
          "data": {
            "text/html": [
              "<div>\n",
              "<style scoped>\n",
              "    .dataframe tbody tr th:only-of-type {\n",
              "        vertical-align: middle;\n",
              "    }\n",
              "\n",
              "    .dataframe tbody tr th {\n",
              "        vertical-align: top;\n",
              "    }\n",
              "\n",
              "    .dataframe thead th {\n",
              "        text-align: right;\n",
              "    }\n",
              "</style>\n",
              "<table border=\"1\" class=\"dataframe\">\n",
              "  <thead>\n",
              "    <tr style=\"text-align: right;\">\n",
              "      <th></th>\n",
              "      <th>Total</th>\n",
              "      <th>PRCP</th>\n",
              "      <th>SNOW</th>\n",
              "      <th>SNWD</th>\n",
              "      <th>TMAX</th>\n",
              "      <th>TMIN</th>\n",
              "      <th>AWND</th>\n",
              "      <th>Total_yesterday</th>\n",
              "    </tr>\n",
              "  </thead>\n",
              "  <tbody>\n",
              "    <tr>\n",
              "      <th>2015-08-28</th>\n",
              "      <td>2653.0</td>\n",
              "      <td>5</td>\n",
              "      <td>0</td>\n",
              "      <td>0</td>\n",
              "      <td>233</td>\n",
              "      <td>156</td>\n",
              "      <td>26</td>\n",
              "      <td>4336.0</td>\n",
              "    </tr>\n",
              "    <tr>\n",
              "      <th>2015-08-29</th>\n",
              "      <td>699.0</td>\n",
              "      <td>325</td>\n",
              "      <td>0</td>\n",
              "      <td>0</td>\n",
              "      <td>222</td>\n",
              "      <td>133</td>\n",
              "      <td>58</td>\n",
              "      <td>2653.0</td>\n",
              "    </tr>\n",
              "    <tr>\n",
              "      <th>2015-08-30</th>\n",
              "      <td>1213.0</td>\n",
              "      <td>102</td>\n",
              "      <td>0</td>\n",
              "      <td>0</td>\n",
              "      <td>200</td>\n",
              "      <td>128</td>\n",
              "      <td>47</td>\n",
              "      <td>699.0</td>\n",
              "    </tr>\n",
              "    <tr>\n",
              "      <th>2015-08-31</th>\n",
              "      <td>2823.0</td>\n",
              "      <td>0</td>\n",
              "      <td>0</td>\n",
              "      <td>0</td>\n",
              "      <td>189</td>\n",
              "      <td>161</td>\n",
              "      <td>58</td>\n",
              "      <td>1213.0</td>\n",
              "    </tr>\n",
              "    <tr>\n",
              "      <th>2015-09-01</th>\n",
              "      <td>2876.0</td>\n",
              "      <td>58</td>\n",
              "      <td>0</td>\n",
              "      <td>0</td>\n",
              "      <td>194</td>\n",
              "      <td>139</td>\n",
              "      <td>-9999</td>\n",
              "      <td>2823.0</td>\n",
              "    </tr>\n",
              "  </tbody>\n",
              "</table>\n",
              "</div>"
            ],
            "text/plain": [
              "             Total  PRCP  SNOW  SNWD  TMAX  TMIN  AWND  Total_yesterday\n",
              "2015-08-28  2653.0     5     0     0   233   156    26           4336.0\n",
              "2015-08-29   699.0   325     0     0   222   133    58           2653.0\n",
              "2015-08-30  1213.0   102     0     0   200   128    47            699.0\n",
              "2015-08-31  2823.0     0     0     0   189   161    58           1213.0\n",
              "2015-09-01  2876.0    58     0     0   194   139 -9999           2823.0"
            ]
          },
          "metadata": {
            "tags": []
          },
          "execution_count": 8
        }
      ]
    },
    {
      "cell_type": "code",
      "metadata": {
        "id": "8ScRNK4pyYfw",
        "colab_type": "code",
        "outputId": "eaf0f2aa-faaf-428f-91e2-ed1cb7744129",
        "colab": {
          "base_uri": "https://localhost:8080/",
          "height": 250
        }
      },
      "source": [
        "daily.info()"
      ],
      "execution_count": 9,
      "outputs": [
        {
          "output_type": "stream",
          "text": [
            "<class 'pandas.core.frame.DataFrame'>\n",
            "DatetimeIndex: 1063 entries, 2012-10-04 to 2015-09-01\n",
            "Data columns (total 8 columns):\n",
            "Total              1063 non-null float64\n",
            "PRCP               1063 non-null int64\n",
            "SNOW               1063 non-null int64\n",
            "SNWD               1063 non-null int64\n",
            "TMAX               1063 non-null int64\n",
            "TMIN               1063 non-null int64\n",
            "AWND               1063 non-null int64\n",
            "Total_yesterday    1063 non-null float64\n",
            "dtypes: float64(2), int64(6)\n",
            "memory usage: 74.7 KB\n"
          ],
          "name": "stdout"
        }
      ]
    },
    {
      "cell_type": "markdown",
      "metadata": {
        "colab_type": "text",
        "id": "XgMvCsaWJR7Q"
      },
      "source": [
        "Target\n",
        "- Total : Daily total number of bicycle trips across Seattle's Fremont Bridge\n",
        "\n",
        "Features\n",
        "- Date (index) : from 2012-10-04 to 2015-09-01 in index\n",
        "- Total_yesterday : Total trips yesterday\n",
        "- PRCP : Precipitation (1/10 mm)\n",
        "- SNOW : Snowfall (1/10 mm)\n",
        "- SNWD : Snow depth (1/10 mm)\n",
        "- TMAX : Maximum temperature (1/10 Celsius)\n",
        "- TMIN : Minimum temperature (1/10 Celsius)\n",
        "- AWND : Average daily wind speed (1/10 meters per second)"
      ]
    },
    {
      "cell_type": "markdown",
      "metadata": {
        "colab_type": "text",
        "id": "lenL-przSYCo"
      },
      "source": [
        "2. Choose how you’ll measure success on your problem.\n",
        "\n",
        "Which metrics will you monitor on your validation data?\n",
        "\n",
        "This is a regression problem, so we need to choose a regression [metric](https://scikit-learn.org/stable/modules/model_evaluation.html#common-cases-predefined-values).\n",
        "\n",
        "\n",
        "\n",
        "I'll choose mean absolute error.\n",
        "\n"
      ]
    },
    {
      "cell_type": "code",
      "metadata": {
        "colab_type": "code",
        "id": "1TqbomapSyRP",
        "colab": {}
      },
      "source": [
        "from sklearn.metrics import mean_absolute_error\n",
        "#regression problem, we choose regression metric\n",
        "#on average, how many bike passengers pass the tremont bridge"
      ],
      "execution_count": 0,
      "outputs": []
    },
    {
      "cell_type": "code",
      "metadata": {
        "id": "3157h4iKzG-2",
        "colab_type": "code",
        "colab": {}
      },
      "source": [
        "#we want hyperparameter optimization.\n",
        "#these last 100 days, we'll hold those out, with slice notation"
      ],
      "execution_count": 0,
      "outputs": []
    },
    {
      "cell_type": "code",
      "metadata": {
        "id": "RaqPEHaXzTwR",
        "colab_type": "code",
        "outputId": "7119181e-8d0a-4071-8d9f-2e363aec72cb",
        "colab": {
          "base_uri": "https://localhost:8080/",
          "height": 35
        }
      },
      "source": [
        "#out of time test\n",
        "train = daily[:-100]#everything but the last 100 days\n",
        "test = daily[-100:]#last 100 days\n",
        "train.shape, test.shape"
      ],
      "execution_count": 12,
      "outputs": [
        {
          "output_type": "execute_result",
          "data": {
            "text/plain": [
              "((963, 8), (100, 8))"
            ]
          },
          "metadata": {
            "tags": []
          },
          "execution_count": 12
        }
      ]
    },
    {
      "cell_type": "code",
      "metadata": {
        "id": "b920hEnhznPE",
        "colab_type": "code",
        "colab": {}
      },
      "source": [
        "#to predict the future, we can rewind time to 100 days ago\n",
        "#then predict for past 100 days with the next 100 days\n",
        "# it is a more difficult test than a random set, worse test scores, but maybe more realistic"
      ],
      "execution_count": 0,
      "outputs": []
    },
    {
      "cell_type": "code",
      "metadata": {
        "id": "Ehy2kpRSzXUi",
        "colab_type": "code",
        "outputId": "40879937-2f94-4728-a493-263ddd0562e1",
        "colab": {
          "base_uri": "https://localhost:8080/",
          "height": 35
        }
      },
      "source": [
        "X_train = train.drop(columns='Total')\n",
        "y_train = train['Total']\n",
        "\n",
        "X_test = test.drop(columns='Total')\n",
        "y_test = test['Total']\n",
        "\n",
        "X_train.shape, y_train.shape, X_test.shape, y_test.shape"
      ],
      "execution_count": 14,
      "outputs": [
        {
          "output_type": "execute_result",
          "data": {
            "text/plain": [
              "((963, 7), (963,), (100, 7), (100,))"
            ]
          },
          "metadata": {
            "tags": []
          },
          "execution_count": 14
        }
      ]
    },
    {
      "cell_type": "markdown",
      "metadata": {
        "colab_type": "text",
        "id": "IRHrB3rsS5hF"
      },
      "source": [
        "3. Determine your evaluation protocol \n",
        "\n",
        "We're doing model selection, hyperparameter optimization, and performance estimation. So generally we have two ideal [options](https://sebastianraschka.com/images/blog/2018/model-evaluation-selection-part4/model-eval-conclusions.jpg) to choose from:\n",
        "\n",
        "- 3-way holdout method (train/validation/test split)\n",
        "- Cross-validation with independent test set\n",
        "\n",
        "I'll choose cross-validation with independent test set. Scikit-learn makes cross-validation convenient for us!\n",
        "\n",
        "Specifically, I will use random shuffled cross validation to train and validate, but I will hold out an \"out-of-time\" test set, from the last 100 days of data:\n",
        "\n",
        "\n",
        "\n"
      ]
    },
    {
      "cell_type": "code",
      "metadata": {
        "colab_type": "code",
        "id": "A3xo6HgbPMFm",
        "colab": {}
      },
      "source": [
        "# TODO"
      ],
      "execution_count": 0,
      "outputs": []
    },
    {
      "cell_type": "markdown",
      "metadata": {
        "colab_type": "text",
        "id": "vH6IsORQTvTU"
      },
      "source": [
        "4. Develop a first model that does better than a basic baseline"
      ]
    },
    {
      "cell_type": "markdown",
      "metadata": {
        "colab_type": "text",
        "id": "DJBs2nQkj7oB"
      },
      "source": [
        "### Look at the target's distribution and descriptive stats"
      ]
    },
    {
      "cell_type": "code",
      "metadata": {
        "colab_type": "code",
        "id": "P5peakv9Zs71",
        "outputId": "c758e83c-c3a6-46a0-ce2d-ec6aaa2d307c",
        "colab": {
          "base_uri": "https://localhost:8080/",
          "height": 283
        }
      },
      "source": [
        "# TODO\n",
        "%matplotlib inline\n",
        "import seaborn as sns\n",
        "sns.distplot(y_train);\n",
        "#if gives negative number, poisson and other models"
      ],
      "execution_count": 16,
      "outputs": [
        {
          "output_type": "display_data",
          "data": {
            "image/png": "[encoded data removed]",
            "text/plain": [
              "<Figure size 432x288 with 1 Axes>"
            ]
          },
          "metadata": {
            "tags": []
          }
        }
      ]
    },
    {
      "cell_type": "code",
      "metadata": {
        "id": "a3CguYXi0ZZB",
        "colab_type": "code",
        "colab": {}
      },
      "source": [
        "#if this were to have an extremem right skew, we might do a log linear \n",
        "#poisson if I want it to be positive"
      ],
      "execution_count": 0,
      "outputs": []
    },
    {
      "cell_type": "code",
      "metadata": {
        "id": "yx6F0J2oAxWK",
        "colab_type": "code",
        "outputId": "f731bda8-6f52-4fd4-9f5c-19c2c3389f6e",
        "colab": {
          "base_uri": "https://localhost:8080/",
          "height": 178
        }
      },
      "source": [
        "y_train.describe()"
      ],
      "execution_count": 18,
      "outputs": [
        {
          "output_type": "execute_result",
          "data": {
            "text/plain": [
              "count     963.000000\n",
              "mean     2534.329180\n",
              "std      1224.065027\n",
              "min        98.000000\n",
              "25%      1755.000000\n",
              "50%      2381.000000\n",
              "75%      3317.500000\n",
              "max      6088.000000\n",
              "Name: Total, dtype: float64"
            ]
          },
          "metadata": {
            "tags": []
          },
          "execution_count": 18
        }
      ]
    },
    {
      "cell_type": "markdown",
      "metadata": {
        "colab_type": "text",
        "id": "fEjxxgV9kExY"
      },
      "source": [
        "### Basic baseline 1"
      ]
    },
    {
      "cell_type": "code",
      "metadata": {
        "colab_type": "code",
        "id": "6GepKdQjYcEP",
        "outputId": "247fb1b3-99ad-4aa3-cdd1-7191944a384a",
        "colab": {
          "base_uri": "https://localhost:8080/",
          "height": 35
        }
      },
      "source": [
        "y_pred = [y_train.median()] * len(y_train)# a variety of baselines work\n",
        "mean_absolute_error(y_train, y_pred)\n",
        "#if I always predicted the median number of bicyclists per day, then I would be off 972 days"
      ],
      "execution_count": 19,
      "outputs": [
        {
          "output_type": "execute_result",
          "data": {
            "text/plain": [
              "971.9376947040498"
            ]
          },
          "metadata": {
            "tags": []
          },
          "execution_count": 19
        }
      ]
    },
    {
      "cell_type": "markdown",
      "metadata": {
        "colab_type": "text",
        "id": "tN2I_F3FkIHb"
      },
      "source": [
        "### Basic baseline 2"
      ]
    },
    {
      "cell_type": "code",
      "metadata": {
        "colab_type": "code",
        "id": "ZW8bhZFtTunV",
        "outputId": "5037ab20-2705-4195-a835-bdc41ff4071a",
        "colab": {
          "base_uri": "https://localhost:8080/",
          "height": 202
        }
      },
      "source": [
        "X_train.head()"
      ],
      "execution_count": 20,
      "outputs": [
        {
          "output_type": "execute_result",
          "data": {
            "text/html": [
              "<div>\n",
              "<style scoped>\n",
              "    .dataframe tbody tr th:only-of-type {\n",
              "        vertical-align: middle;\n",
              "    }\n",
              "\n",
              "    .dataframe tbody tr th {\n",
              "        vertical-align: top;\n",
              "    }\n",
              "\n",
              "    .dataframe thead th {\n",
              "        text-align: right;\n",
              "    }\n",
              "</style>\n",
              "<table border=\"1\" class=\"dataframe\">\n",
              "  <thead>\n",
              "    <tr style=\"text-align: right;\">\n",
              "      <th></th>\n",
              "      <th>PRCP</th>\n",
              "      <th>SNOW</th>\n",
              "      <th>SNWD</th>\n",
              "      <th>TMAX</th>\n",
              "      <th>TMIN</th>\n",
              "      <th>AWND</th>\n",
              "      <th>Total_yesterday</th>\n",
              "    </tr>\n",
              "  </thead>\n",
              "  <tbody>\n",
              "    <tr>\n",
              "      <th>2012-10-04</th>\n",
              "      <td>0</td>\n",
              "      <td>0</td>\n",
              "      <td>0</td>\n",
              "      <td>189</td>\n",
              "      <td>83</td>\n",
              "      <td>65</td>\n",
              "      <td>3521.0</td>\n",
              "    </tr>\n",
              "    <tr>\n",
              "      <th>2012-10-05</th>\n",
              "      <td>0</td>\n",
              "      <td>0</td>\n",
              "      <td>0</td>\n",
              "      <td>217</td>\n",
              "      <td>89</td>\n",
              "      <td>57</td>\n",
              "      <td>3475.0</td>\n",
              "    </tr>\n",
              "    <tr>\n",
              "      <th>2012-10-06</th>\n",
              "      <td>0</td>\n",
              "      <td>0</td>\n",
              "      <td>0</td>\n",
              "      <td>239</td>\n",
              "      <td>78</td>\n",
              "      <td>51</td>\n",
              "      <td>3148.0</td>\n",
              "    </tr>\n",
              "    <tr>\n",
              "      <th>2012-10-07</th>\n",
              "      <td>0</td>\n",
              "      <td>0</td>\n",
              "      <td>0</td>\n",
              "      <td>239</td>\n",
              "      <td>78</td>\n",
              "      <td>13</td>\n",
              "      <td>2006.0</td>\n",
              "    </tr>\n",
              "    <tr>\n",
              "      <th>2012-10-08</th>\n",
              "      <td>0</td>\n",
              "      <td>0</td>\n",
              "      <td>0</td>\n",
              "      <td>211</td>\n",
              "      <td>78</td>\n",
              "      <td>19</td>\n",
              "      <td>2142.0</td>\n",
              "    </tr>\n",
              "  </tbody>\n",
              "</table>\n",
              "</div>"
            ],
            "text/plain": [
              "            PRCP  SNOW  SNWD  TMAX  TMIN  AWND  Total_yesterday\n",
              "2012-10-04     0     0     0   189    83    65           3521.0\n",
              "2012-10-05     0     0     0   217    89    57           3475.0\n",
              "2012-10-06     0     0     0   239    78    51           3148.0\n",
              "2012-10-07     0     0     0   239    78    13           2006.0\n",
              "2012-10-08     0     0     0   211    78    19           2142.0"
            ]
          },
          "metadata": {
            "tags": []
          },
          "execution_count": 20
        }
      ]
    },
    {
      "cell_type": "code",
      "metadata": {
        "id": "hb8F3n741yRN",
        "colab_type": "code",
        "outputId": "22d86d77-7859-40e2-dc85-67d8599923c1",
        "colab": {
          "base_uri": "https://localhost:8080/",
          "height": 125
        }
      },
      "source": [
        "y_train.head()"
      ],
      "execution_count": 21,
      "outputs": [
        {
          "output_type": "execute_result",
          "data": {
            "text/plain": [
              "2012-10-04    3475.0\n",
              "2012-10-05    3148.0\n",
              "2012-10-06    2006.0\n",
              "2012-10-07    2142.0\n",
              "2012-10-08    3537.0\n",
              "Name: Total, dtype: float64"
            ]
          },
          "metadata": {
            "tags": []
          },
          "execution_count": 21
        }
      ]
    },
    {
      "cell_type": "code",
      "metadata": {
        "id": "kXwLm5nC1x7d",
        "colab_type": "code",
        "outputId": "c1b8a1ad-3203-45bd-a3b4-d102c368b15f",
        "colab": {
          "base_uri": "https://localhost:8080/",
          "height": 35
        }
      },
      "source": [
        "y_pred = X_train['Total_yesterday']#we're going to predict if today is the same as yesterday\n",
        "mean_absolute_error(y_train,y_pred)#we're going to be off this many days"
      ],
      "execution_count": 22,
      "outputs": [
        {
          "output_type": "execute_result",
          "data": {
            "text/plain": [
              "708.061266874351"
            ]
          },
          "metadata": {
            "tags": []
          },
          "execution_count": 22
        }
      ]
    },
    {
      "cell_type": "markdown",
      "metadata": {
        "colab_type": "text",
        "id": "Ggf3VpxwkJ0T"
      },
      "source": [
        "### First model that does better than a basic baseline"
      ]
    },
    {
      "cell_type": "markdown",
      "metadata": {
        "colab_type": "text",
        "id": "KfaqL1Ezer2-"
      },
      "source": [
        "https://scikit-learn.org/stable/modules/generated/sklearn.model_selection.cross_validate.html"
      ]
    },
    {
      "cell_type": "code",
      "metadata": {
        "id": "6_EE9ee42N2c",
        "colab_type": "code",
        "colab": {}
      },
      "source": [
        "from sklearn.linear_model import LinearRegression\n",
        "from sklearn.model_selection import cross_validate# returns dictionary on test scores in test set\n",
        "#estimator itself\n",
        "#scoring is none on default\n",
        "#return dictionary of validation scores on test and train scores"
      ],
      "execution_count": 0,
      "outputs": []
    },
    {
      "cell_type": "code",
      "metadata": {
        "id": "7TTl0XIo2eBy",
        "colab_type": "code",
        "colab": {}
      },
      "source": [
        "#neg_mean_absolute_error doesn't maximize, like other scikitlearn functions\n",
        "#regularly mean absolute error would return a smaller number, \n",
        "#but by taking a negative mean absolute error, we can flip it for a bigger number"
      ],
      "execution_count": 0,
      "outputs": []
    },
    {
      "cell_type": "code",
      "metadata": {
        "colab_type": "code",
        "id": "OeBtU68skfW-",
        "colab": {}
      },
      "source": [
        "scores = cross_validate(LinearRegression(), X_train, y_train,\n",
        "                        scoring = 'neg_mean_absolute_error', cv = 3,#higher numbers may have more variance, could be 5 or 7, computational time increases\n",
        "                        return_train_score = True, return_estimator = True)#we return training scores as well as test score. We can put the dictionary this outputs into a dataframe"
      ],
      "execution_count": 0,
      "outputs": []
    },
    {
      "cell_type": "code",
      "metadata": {
        "id": "VoW_vfHzEVKE",
        "colab_type": "code",
        "outputId": "6e6a5716-7072-4224-f5d6-7726c9869c1d",
        "colab": {
          "base_uri": "https://localhost:8080/",
          "height": 141
        }
      },
      "source": [
        "pd.DataFrame(scores)\n",
        "#-mean absolute error optimizing for scikitlearn \n",
        "#most scikit learn scores tries to maximize scores, when taking the negative, then the lower the mean absolute error fits, lower\n",
        "#Neg_mean_abs_error optimizes for closer to zero. where 0= good."
      ],
      "execution_count": 26,
      "outputs": [
        {
          "output_type": "execute_result",
          "data": {
            "text/html": [
              "<div>\n",
              "<style scoped>\n",
              "    .dataframe tbody tr th:only-of-type {\n",
              "        vertical-align: middle;\n",
              "    }\n",
              "\n",
              "    .dataframe tbody tr th {\n",
              "        vertical-align: top;\n",
              "    }\n",
              "\n",
              "    .dataframe thead th {\n",
              "        text-align: right;\n",
              "    }\n",
              "</style>\n",
              "<table border=\"1\" class=\"dataframe\">\n",
              "  <thead>\n",
              "    <tr style=\"text-align: right;\">\n",
              "      <th></th>\n",
              "      <th>fit_time</th>\n",
              "      <th>score_time</th>\n",
              "      <th>estimator</th>\n",
              "      <th>test_score</th>\n",
              "      <th>train_score</th>\n",
              "    </tr>\n",
              "  </thead>\n",
              "  <tbody>\n",
              "    <tr>\n",
              "      <th>0</th>\n",
              "      <td>0.030067</td>\n",
              "      <td>0.001734</td>\n",
              "      <td>LinearRegression(copy_X=True, fit_intercept=Tr...</td>\n",
              "      <td>-555.186275</td>\n",
              "      <td>-619.509206</td>\n",
              "    </tr>\n",
              "    <tr>\n",
              "      <th>1</th>\n",
              "      <td>0.003715</td>\n",
              "      <td>0.001307</td>\n",
              "      <td>LinearRegression(copy_X=True, fit_intercept=Tr...</td>\n",
              "      <td>-651.126513</td>\n",
              "      <td>-583.427702</td>\n",
              "    </tr>\n",
              "    <tr>\n",
              "      <th>2</th>\n",
              "      <td>0.002944</td>\n",
              "      <td>0.001214</td>\n",
              "      <td>LinearRegression(copy_X=True, fit_intercept=Tr...</td>\n",
              "      <td>-615.965800</td>\n",
              "      <td>-589.341301</td>\n",
              "    </tr>\n",
              "  </tbody>\n",
              "</table>\n",
              "</div>"
            ],
            "text/plain": [
              "   fit_time  score_time  ...  test_score  train_score\n",
              "0  0.030067    0.001734  ... -555.186275  -619.509206\n",
              "1  0.003715    0.001307  ... -651.126513  -583.427702\n",
              "2  0.002944    0.001214  ... -615.965800  -589.341301\n",
              "\n",
              "[3 rows x 5 columns]"
            ]
          },
          "metadata": {
            "tags": []
          },
          "execution_count": 26
        }
      ]
    },
    {
      "cell_type": "code",
      "metadata": {
        "id": "sqVITZdX28Pl",
        "colab_type": "code",
        "colab": {}
      },
      "source": [
        "#We see above that for 3-fold validation, each time we get a different test score from training score"
      ],
      "execution_count": 0,
      "outputs": []
    },
    {
      "cell_type": "code",
      "metadata": {
        "id": "kWJxbflKE-VO",
        "colab_type": "code",
        "outputId": "7f3e5569-1a3b-4c31-8267-8e35bcb1dca9",
        "colab": {
          "base_uri": "https://localhost:8080/",
          "height": 35
        }
      },
      "source": [
        "-scores['test_score'].mean()#like multiplying by negative one \n",
        "#we're off by 600 bicyclists per day"
      ],
      "execution_count": 28,
      "outputs": [
        {
          "output_type": "execute_result",
          "data": {
            "text/plain": [
              "607.4261958631806"
            ]
          },
          "metadata": {
            "tags": []
          },
          "execution_count": 28
        }
      ]
    },
    {
      "cell_type": "code",
      "metadata": {
        "id": "kk3xWLvM4IfF",
        "colab_type": "code",
        "outputId": "3fd1e649-f987-4283-e9de-4dfa3e511ac2",
        "colab": {
          "base_uri": "https://localhost:8080/",
          "height": 35
        }
      },
      "source": [
        "scores['estimator'][0]"
      ],
      "execution_count": 29,
      "outputs": [
        {
          "output_type": "execute_result",
          "data": {
            "text/plain": [
              "LinearRegression(copy_X=True, fit_intercept=True, n_jobs=None, normalize=False)"
            ]
          },
          "metadata": {
            "tags": []
          },
          "execution_count": 29
        }
      ]
    },
    {
      "cell_type": "code",
      "metadata": {
        "id": "1h6fGxUwFVti",
        "colab_type": "code",
        "outputId": "89b23d29-b6ac-4303-92a2-cda0743dceec",
        "colab": {
          "base_uri": "https://localhost:8080/",
          "height": 35
        }
      },
      "source": [
        "type(scores['estimator'][0])#so I can get out the intercept and coefficents from this model"
      ],
      "execution_count": 30,
      "outputs": [
        {
          "output_type": "execute_result",
          "data": {
            "text/plain": [
              "sklearn.linear_model.base.LinearRegression"
            ]
          },
          "metadata": {
            "tags": []
          },
          "execution_count": 30
        }
      ]
    },
    {
      "cell_type": "code",
      "metadata": {
        "id": "J2nCGksiFf83",
        "colab_type": "code",
        "outputId": "c8feea0b-685f-4423-f071-6e390abfbedf",
        "colab": {
          "base_uri": "https://localhost:8080/",
          "height": 53
        }
      },
      "source": [
        "scores['estimator'][0].coef_"
      ],
      "execution_count": 31,
      "outputs": [
        {
          "output_type": "execute_result",
          "data": {
            "text/plain": [
              "array([ -3.52510306,  -0.08202866, -12.04502742,   9.4752378 ,\n",
              "        -4.6077746 ,  -2.74519066,   0.41736022])"
            ]
          },
          "metadata": {
            "tags": []
          },
          "execution_count": 31
        }
      ]
    },
    {
      "cell_type": "code",
      "metadata": {
        "id": "CflHX_3X4T9a",
        "colab_type": "code",
        "outputId": "6a9b01cc-5010-41e8-d72c-48c5d897c2ed",
        "colab": {
          "base_uri": "https://localhost:8080/",
          "height": 35
        }
      },
      "source": [
        "scores['estimator'][0].intercept_"
      ],
      "execution_count": 32,
      "outputs": [
        {
          "output_type": "execute_result",
          "data": {
            "text/plain": [
              "566.7766337283679"
            ]
          },
          "metadata": {
            "tags": []
          },
          "execution_count": 32
        }
      ]
    },
    {
      "cell_type": "code",
      "metadata": {
        "id": "J0gmf3flFjfP",
        "colab_type": "code",
        "outputId": "d29cfb9d-6e4f-40a8-b8f5-9e664a1d217a",
        "colab": {
          "base_uri": "https://localhost:8080/",
          "height": 608
        }
      },
      "source": [
        "for i, model in enumerate(scores['estimator']):#loop over scores dictionary\n",
        "  #enumerate iterates if I want the thing itself and also some index number\n",
        "  #for each score, we have an linear regression model and i, an integer\n",
        "  coefficients = model.coef_\n",
        "  intercept = model.intercept_\n",
        "  feature_names = X_train.columns\n",
        "  #get their intercept\n",
        "  #get their column name\n",
        "  \n",
        "  print(f'Model form cross-validation fold #{i}')\n",
        "  print('Intercept', intercept)\n",
        "  print(pd.Series(coefficients, feature_names).to_string())\n",
        "  print('\\n')\n",
        "  #we split training data into a, b and c\n",
        "  #fold #0: train a and b and tested on c, what are intercepts and coefficients\n",
        "  #fold #1: train a and c\n",
        "  #fold #2: train b and c\n",
        "  "
      ],
      "execution_count": 33,
      "outputs": [
        {
          "output_type": "stream",
          "text": [
            "Model form cross-validation fold #0\n",
            "Intercept 566.7766337283679\n",
            "PRCP               -3.525103\n",
            "SNOW               -0.082029\n",
            "SNWD              -12.045027\n",
            "TMAX                9.475238\n",
            "TMIN               -4.607775\n",
            "AWND               -2.745191\n",
            "Total_yesterday     0.417360\n",
            "\n",
            "\n",
            "Model form cross-validation fold #1\n",
            "Intercept 671.9064515706045\n",
            "PRCP               -2.772253\n",
            "SNOW               -0.000995\n",
            "SNWD               20.800688\n",
            "TMAX                8.804948\n",
            "TMIN               -3.741386\n",
            "AWND               -6.108300\n",
            "Total_yesterday     0.405074\n",
            "\n",
            "\n",
            "Model form cross-validation fold #2\n",
            "Intercept 465.84525362296563\n",
            "PRCP               -2.876196\n",
            "SNOW               -0.016432\n",
            "SNWD               -8.809696\n",
            "TMAX               10.419441\n",
            "TMIN               -5.862868\n",
            "AWND               -2.398991\n",
            "Total_yesterday     0.423493\n",
            "\n",
            "\n"
          ],
          "name": "stdout"
        }
      ]
    },
    {
      "cell_type": "code",
      "metadata": {
        "id": "fzxaRH7j5b0L",
        "colab_type": "code",
        "colab": {}
      },
      "source": [
        "#analogous to stats models at the 95% confidence interval - having a high p value for this coef so we do not reject the null hypothesis\n",
        "#that the coefficient's value might be zero, we're not sure if it is positive or negative"
      ],
      "execution_count": 0,
      "outputs": []
    },
    {
      "cell_type": "code",
      "metadata": {
        "id": "KBToNKw8G2Lv",
        "colab_type": "code",
        "colab": {}
      },
      "source": [
        "#univariate linear regression\n",
        "# linear regression plus other models should be better, at 607 a day compared to other scores"
      ],
      "execution_count": 0,
      "outputs": []
    },
    {
      "cell_type": "code",
      "metadata": {
        "id": "zMhqNOsW6NfN",
        "colab_type": "code",
        "colab": {}
      },
      "source": [
        "#with no additional features, no feature engineering done\n",
        "#It's like saying we have X_train['Total_yesterday'] as the feature, where intercept is zero\n",
        "#and coefficient of 1, so 1 multiplied by ['Total_yesterday'] + 0, which is nothing,\n",
        "#So a model that uses this useless feature plus another feature should outperform it"
      ],
      "execution_count": 0,
      "outputs": []
    },
    {
      "cell_type": "markdown",
      "metadata": {
        "colab_type": "text",
        "id": "fg1YI4X8n9nI"
      },
      "source": [
        "## 5. Develop a model that overfits. \n",
        "\n",
        "\"The universal tension in machine learning is between optimization and generalization; the ideal model is one that stands right at the border between underfitting and overfitting; between undercapacity and overcapacity. To figure out where this border lies, first you must cross it.\" —Chollet"
      ]
    },
    {
      "cell_type": "markdown",
      "metadata": {
        "colab_type": "text",
        "id": "lodd6UPOoy89"
      },
      "source": [
        "<img src=\"https://jakevdp.github.io/PythonDataScienceHandbook/figures/05.03-validation-curve.png\">\n",
        "\n",
        "Diagram Source: https://jakevdp.github.io/PythonDataScienceHandbook/05.03-hyperparameters-and-model-validation.html#Validation-curves-in-Scikit-Learn"
      ]
    },
    {
      "cell_type": "markdown",
      "metadata": {
        "colab_type": "text",
        "id": "xj82P0VdwYlh"
      },
      "source": [
        "### Random Forest?\n",
        "\n",
        "https://scikit-learn.org/stable/modules/generated/sklearn.ensemble.RandomForestRegressor.html"
      ]
    },
    {
      "cell_type": "code",
      "metadata": {
        "id": "PRM5bVgr67S9",
        "colab_type": "code",
        "colab": {}
      },
      "source": [
        "#With a more complex model, your training score should keep improving\n",
        "#Yet your validation score could decrease with model complexity until it gets overfit"
      ],
      "execution_count": 0,
      "outputs": []
    },
    {
      "cell_type": "code",
      "metadata": {
        "id": "Xv-RWS4l7O1e",
        "colab_type": "code",
        "colab": {}
      },
      "source": [
        "#Your training score should provide a ceiling for your validation score"
      ],
      "execution_count": 0,
      "outputs": []
    },
    {
      "cell_type": "code",
      "metadata": {
        "colab_type": "code",
        "id": "_yYXpk99C4cM",
        "outputId": "da08ddcc-408b-4c23-c318-7a38060e8807",
        "colab": {
          "base_uri": "https://localhost:8080/",
          "height": 141
        }
      },
      "source": [
        "# Random Forest Regressor - this is a regressor problem\n",
        "from sklearn. ensemble import RandomForestRegressor\n",
        "model = RandomForestRegressor(n_estimators=100, max_depth=None, n_jobs=-1)#Instantiating Random Forest Regressor Object\n",
        "#this model should pick up non-linear, non-monotonic and interactions between features. \n",
        "#With these features this is the best that can be done without feature engineering and hyperparameter tuning\n",
        "\n",
        "scores = cross_validate(model, X_train, y_train,#doing cross validation with random forest\n",
        "                        scoring='neg_mean_absolute_error',\n",
        "                        cv=3, return_train_score=True,\n",
        "                        return_estimator=True)\n",
        "pd.DataFrame(scores)\n",
        "#random forest not performing as well as linear regression"
      ],
      "execution_count": 39,
      "outputs": [
        {
          "output_type": "execute_result",
          "data": {
            "text/html": [
              "<div>\n",
              "<style scoped>\n",
              "    .dataframe tbody tr th:only-of-type {\n",
              "        vertical-align: middle;\n",
              "    }\n",
              "\n",
              "    .dataframe tbody tr th {\n",
              "        vertical-align: top;\n",
              "    }\n",
              "\n",
              "    .dataframe thead th {\n",
              "        text-align: right;\n",
              "    }\n",
              "</style>\n",
              "<table border=\"1\" class=\"dataframe\">\n",
              "  <thead>\n",
              "    <tr style=\"text-align: right;\">\n",
              "      <th></th>\n",
              "      <th>fit_time</th>\n",
              "      <th>score_time</th>\n",
              "      <th>estimator</th>\n",
              "      <th>test_score</th>\n",
              "      <th>train_score</th>\n",
              "    </tr>\n",
              "  </thead>\n",
              "  <tbody>\n",
              "    <tr>\n",
              "      <th>0</th>\n",
              "      <td>0.219840</td>\n",
              "      <td>0.010069</td>\n",
              "      <td>(DecisionTreeRegressor(criterion='mse', max_de...</td>\n",
              "      <td>-556.361963</td>\n",
              "      <td>-241.256963</td>\n",
              "    </tr>\n",
              "    <tr>\n",
              "      <th>1</th>\n",
              "      <td>0.223354</td>\n",
              "      <td>0.010139</td>\n",
              "      <td>(DecisionTreeRegressor(criterion='mse', max_de...</td>\n",
              "      <td>-646.182399</td>\n",
              "      <td>-222.050327</td>\n",
              "    </tr>\n",
              "    <tr>\n",
              "      <th>2</th>\n",
              "      <td>0.217767</td>\n",
              "      <td>0.011117</td>\n",
              "      <td>(DecisionTreeRegressor(criterion='mse', max_de...</td>\n",
              "      <td>-636.941651</td>\n",
              "      <td>-227.856153</td>\n",
              "    </tr>\n",
              "  </tbody>\n",
              "</table>\n",
              "</div>"
            ],
            "text/plain": [
              "   fit_time  score_time  ...  test_score  train_score\n",
              "0  0.219840    0.010069  ... -556.361963  -241.256963\n",
              "1  0.223354    0.010139  ... -646.182399  -222.050327\n",
              "2  0.217767    0.011117  ... -636.941651  -227.856153\n",
              "\n",
              "[3 rows x 5 columns]"
            ]
          },
          "metadata": {
            "tags": []
          },
          "execution_count": 39
        }
      ]
    },
    {
      "cell_type": "code",
      "metadata": {
        "id": "z-Mn33G-NbM1",
        "colab_type": "code",
        "outputId": "d15c34f1-9321-4ebf-f395-9bae91c429f7",
        "colab": {
          "base_uri": "https://localhost:8080/",
          "height": 35
        }
      },
      "source": [
        "-scores['test_score'].mean()"
      ],
      "execution_count": 40,
      "outputs": [
        {
          "output_type": "execute_result",
          "data": {
            "text/plain": [
              "613.1620041536864"
            ]
          },
          "metadata": {
            "tags": []
          },
          "execution_count": 40
        }
      ]
    },
    {
      "cell_type": "code",
      "metadata": {
        "id": "qfIhRgpGLlIe",
        "colab_type": "code",
        "outputId": "afe89f5f-94b4-4381-c546-6fd43171d950",
        "colab": {
          "base_uri": "https://localhost:8080/",
          "height": 248
        }
      },
      "source": [
        "# TODO\n",
        "from xgboost import XGBRegressor\n",
        "model = XGBRegressor(n_estimators=50)\n",
        "\n",
        "scores = cross_validate(model, X_train, y_train,\n",
        "                        scoring='neg_mean_absolute_error',\n",
        "                        cv=3, return_train_score=True,\n",
        "                        return_estimator=True)\n",
        "pd.DataFrame(scores)\n",
        "#random forest not performing as well as linear regression"
      ],
      "execution_count": 41,
      "outputs": [
        {
          "output_type": "stream",
          "text": [
            "/usr/local/lib/python3.6/dist-packages/xgboost/core.py:587: FutureWarning: Series.base is deprecated and will be removed in a future version\n",
            "  if getattr(data, 'base', None) is not None and \\\n",
            "/usr/local/lib/python3.6/dist-packages/xgboost/core.py:587: FutureWarning: Series.base is deprecated and will be removed in a future version\n",
            "  if getattr(data, 'base', None) is not None and \\\n",
            "/usr/local/lib/python3.6/dist-packages/xgboost/core.py:587: FutureWarning: Series.base is deprecated and will be removed in a future version\n",
            "  if getattr(data, 'base', None) is not None and \\\n"
          ],
          "name": "stderr"
        },
        {
          "output_type": "execute_result",
          "data": {
            "text/html": [
              "<div>\n",
              "<style scoped>\n",
              "    .dataframe tbody tr th:only-of-type {\n",
              "        vertical-align: middle;\n",
              "    }\n",
              "\n",
              "    .dataframe tbody tr th {\n",
              "        vertical-align: top;\n",
              "    }\n",
              "\n",
              "    .dataframe thead th {\n",
              "        text-align: right;\n",
              "    }\n",
              "</style>\n",
              "<table border=\"1\" class=\"dataframe\">\n",
              "  <thead>\n",
              "    <tr style=\"text-align: right;\">\n",
              "      <th></th>\n",
              "      <th>fit_time</th>\n",
              "      <th>score_time</th>\n",
              "      <th>estimator</th>\n",
              "      <th>test_score</th>\n",
              "      <th>train_score</th>\n",
              "    </tr>\n",
              "  </thead>\n",
              "  <tbody>\n",
              "    <tr>\n",
              "      <th>0</th>\n",
              "      <td>0.258080</td>\n",
              "      <td>0.002476</td>\n",
              "      <td>XGBRegressor(base_score=0.5, booster='gbtree',...</td>\n",
              "      <td>-544.872138</td>\n",
              "      <td>-523.867542</td>\n",
              "    </tr>\n",
              "    <tr>\n",
              "      <th>1</th>\n",
              "      <td>0.025489</td>\n",
              "      <td>0.002414</td>\n",
              "      <td>XGBRegressor(base_score=0.5, booster='gbtree',...</td>\n",
              "      <td>-639.600249</td>\n",
              "      <td>-489.142993</td>\n",
              "    </tr>\n",
              "    <tr>\n",
              "      <th>2</th>\n",
              "      <td>0.025455</td>\n",
              "      <td>0.002299</td>\n",
              "      <td>XGBRegressor(base_score=0.5, booster='gbtree',...</td>\n",
              "      <td>-633.515497</td>\n",
              "      <td>-480.231481</td>\n",
              "    </tr>\n",
              "  </tbody>\n",
              "</table>\n",
              "</div>"
            ],
            "text/plain": [
              "   fit_time  score_time  ...  test_score  train_score\n",
              "0  0.258080    0.002476  ... -544.872138  -523.867542\n",
              "1  0.025489    0.002414  ... -639.600249  -489.142993\n",
              "2  0.025455    0.002299  ... -633.515497  -480.231481\n",
              "\n",
              "[3 rows x 5 columns]"
            ]
          },
          "metadata": {
            "tags": []
          },
          "execution_count": 41
        }
      ]
    },
    {
      "cell_type": "code",
      "metadata": {
        "id": "VzQ-IX2uN1pE",
        "colab_type": "code",
        "outputId": "bec9e0b8-7dd4-4cce-ddc6-0a2af31477a0",
        "colab": {
          "base_uri": "https://localhost:8080/",
          "height": 35
        }
      },
      "source": [
        "-scores['test_score'].mean()"
      ],
      "execution_count": 42,
      "outputs": [
        {
          "output_type": "execute_result",
          "data": {
            "text/plain": [
              "605.9959611585701"
            ]
          },
          "metadata": {
            "tags": []
          },
          "execution_count": 42
        }
      ]
    },
    {
      "cell_type": "markdown",
      "metadata": {
        "colab_type": "text",
        "id": "_ryO1hVKr-6f"
      },
      "source": [
        "### Validation Curve\n",
        "\n",
        "https://scikit-learn.org/stable/modules/generated/sklearn.model_selection.validation_curve.html\n",
        "\n",
        "> Validation curve. Determine training and test scores for varying parameter values. This is similar to grid search with one parameter."
      ]
    },
    {
      "cell_type": "code",
      "metadata": {
        "id": "3bKiU7068Ecg",
        "colab_type": "code",
        "outputId": "4b1330e5-eda2-4396-9acb-13b2dcbf574d",
        "colab": {
          "base_uri": "https://localhost:8080/",
          "height": 35
        }
      },
      "source": [
        "-scores['test_score'].mean()"
      ],
      "execution_count": 43,
      "outputs": [
        {
          "output_type": "execute_result",
          "data": {
            "text/plain": [
              "605.9959611585701"
            ]
          },
          "metadata": {
            "tags": []
          },
          "execution_count": 43
        }
      ]
    },
    {
      "cell_type": "code",
      "metadata": {
        "colab_type": "code",
        "id": "apKk4vKiwgtM",
        "outputId": "bf3faa86-51f2-4559-9f52-477112ad54bb",
        "colab": {
          "base_uri": "https://localhost:8080/",
          "height": 283
        }
      },
      "source": [
        "# Modified from cell 13 at\n",
        "# https://jakevdp.github.io/PythonDataScienceHandbook/05.03-hyperparameters-and-model-validation.html#Validation-curves-in-Scikit-Learn\n",
        "\n",
        "%matplotlib inline\n",
        "import numpy as np\n",
        "import matplotlib.pyplot as plt\n",
        "from sklearn.model_selection import validation_curve#allows for any given model a variety of parameter values\n",
        "\n",
        "model = RandomForestRegressor(n_estimators=100)\n",
        "\n",
        "depth = [2, 3, 4, 5, 6]#try a variety of parameters for model\n",
        "train_score, val_score = validation_curve(\n",
        "    model, X_train, y_train,\n",
        "    param_name='max_depth', param_range=depth, \n",
        "    scoring='neg_mean_absolute_error', cv=3)\n",
        "\n",
        "plt.plot(depth, np.median(train_score, 1), color='blue', label='training score')\n",
        "plt.plot(depth, np.median(val_score, 1), color='red', label='validation score')\n",
        "plt.legend(loc='best')\n",
        "plt.xlabel('depth');\n",
        "#like training with max-depth 2, train with 3, 4 etc"
      ],
      "execution_count": 44,
      "outputs": [
        {
          "output_type": "display_data",
          "data": {
            "image/png": "[encoded data removed]",
            "text/plain": [
              "<Figure size 432x288 with 1 Axes>"
            ]
          },
          "metadata": {
            "tags": []
          }
        }
      ]
    },
    {
      "cell_type": "code",
      "metadata": {
        "id": "3iy-njNQ8e_O",
        "colab_type": "code",
        "colab": {}
      },
      "source": [
        "#It is possible and recommended to search the hyperparameter space for the best cross validation score\n",
        "#GridSearchCV will exhaustively consider all parameter combinations\n",
        "#RandomizedSearchCV can sample a given number of subjects"
      ],
      "execution_count": 0,
      "outputs": []
    },
    {
      "cell_type": "markdown",
      "metadata": {
        "colab_type": "text",
        "id": "DQoMvZ7-yCAQ"
      },
      "source": [
        "### `RandomizedSearchCV`\n",
        "\n",
        "https://scikit-learn.org/stable/modules/generated/sklearn.model_selection.RandomizedSearchCV.html\n",
        "\n",
        "https://scikit-learn.org/stable/modules/grid_search.html"
      ]
    },
    {
      "cell_type": "code",
      "metadata": {
        "colab_type": "code",
        "id": "bk_dX_mByKm7",
        "outputId": "01530d40-bdaa-4905-a6fb-5ed4a6e1a2ea",
        "colab": {
          "base_uri": "https://localhost:8080/",
          "height": 1486
        }
      },
      "source": [
        "# recommended to search with highest validation score, gridsearch will exhaustively consider all parameters\n",
        "#Gridsearch may take a long time, to get an incrementally better score\n",
        "# RandomizedSearch CV can sample a given number of candidates\n",
        "from sklearn.model_selection import RandomizedSearchCV\n",
        "\n",
        "param_distributions = {#What is the distribution of values that we'll try\n",
        "     'n_estimators': [100, 200],#Do exactly one hundred or two hundred\n",
        "     'max_depth': [4, 5],\n",
        "     'criterion': ['mse', 'mae']#Mean Squared Error, Mean Absolute Error, we try both and see what does the best.\n",
        "}#I can try different options for my pipeline\n",
        "#in real world, you will have more parameter values\n",
        "\n",
        "gridsearch = RandomizedSearchCV(\n",
        "    RandomForestRegressor(n_jobs=-1, random_state=42),#parameters, what are the estimators we are using\n",
        "    param_distributions=param_distributions,\n",
        "    n_iter = 8,#if that took too long, can try like 4, tradeoff of runtime to optimization of solution\n",
        "    #We have 2 n_estimators, multiply by 2 max depth, multiplied by criterion - 8 will exhaustively use all which will equal GridSearchCV\n",
        "    #grid search would take too long, Randomized Search is faster\n",
        "    #at 8 iterations, this equals grid search\n",
        "    cv=3,\n",
        "    scoring='neg_mean_absolute_error',\n",
        "    verbose=10,#operate where it's at, because it might take too long\n",
        "    return_train_score=True\n",
        ")\n",
        "\n",
        "gridsearch.fit(X_train, y_train)\n",
        "#n_iter trades off runtime vs quality of solution\n",
        "#criterion measure quality of split using mean squared error or mean absolute error, not going to make a huge difference "
      ],
      "execution_count": 46,
      "outputs": [
        {
          "output_type": "stream",
          "text": [
            "Fitting 3 folds for each of 8 candidates, totalling 24 fits\n",
            "[CV] n_estimators=100, max_depth=4, criterion=mse ....................\n",
            "[CV]  n_estimators=100, max_depth=4, criterion=mse, score=(train=-574.472, test=-557.174), total=   0.1s\n",
            "[CV] n_estimators=100, max_depth=4, criterion=mse ....................\n"
          ],
          "name": "stdout"
        },
        {
          "output_type": "stream",
          "text": [
            "[Parallel(n_jobs=1)]: Using backend SequentialBackend with 1 concurrent workers.\n",
            "[Parallel(n_jobs=1)]: Done   1 out of   1 | elapsed:    0.1s remaining:    0.0s\n"
          ],
          "name": "stderr"
        },
        {
          "output_type": "stream",
          "text": [
            "[CV]  n_estimators=100, max_depth=4, criterion=mse, score=(train=-530.248, test=-642.450), total=   0.1s\n",
            "[CV] n_estimators=100, max_depth=4, criterion=mse ....................\n",
            "[CV]  n_estimators=100, max_depth=4, criterion=mse, score=(train=-538.577, test=-629.072), total=   0.1s\n",
            "[CV] n_estimators=200, max_depth=4, criterion=mse ....................\n"
          ],
          "name": "stdout"
        },
        {
          "output_type": "stream",
          "text": [
            "[Parallel(n_jobs=1)]: Done   2 out of   2 | elapsed:    0.3s remaining:    0.0s\n",
            "[Parallel(n_jobs=1)]: Done   3 out of   3 | elapsed:    0.4s remaining:    0.0s\n"
          ],
          "name": "stderr"
        },
        {
          "output_type": "stream",
          "text": [
            "[CV]  n_estimators=200, max_depth=4, criterion=mse, score=(train=-572.253, test=-555.635), total=   0.2s\n",
            "[CV] n_estimators=200, max_depth=4, criterion=mse ....................\n"
          ],
          "name": "stdout"
        },
        {
          "output_type": "stream",
          "text": [
            "[Parallel(n_jobs=1)]: Done   4 out of   4 | elapsed:    0.7s remaining:    0.0s\n"
          ],
          "name": "stderr"
        },
        {
          "output_type": "stream",
          "text": [
            "[CV]  n_estimators=200, max_depth=4, criterion=mse, score=(train=-529.626, test=-640.866), total=   0.2s\n",
            "[CV] n_estimators=200, max_depth=4, criterion=mse ....................\n"
          ],
          "name": "stdout"
        },
        {
          "output_type": "stream",
          "text": [
            "[Parallel(n_jobs=1)]: Done   5 out of   5 | elapsed:    0.9s remaining:    0.0s\n"
          ],
          "name": "stderr"
        },
        {
          "output_type": "stream",
          "text": [
            "[CV]  n_estimators=200, max_depth=4, criterion=mse, score=(train=-536.655, test=-625.854), total=   0.2s\n",
            "[CV] n_estimators=100, max_depth=5, criterion=mse ....................\n",
            "[CV]  n_estimators=100, max_depth=5, criterion=mse, score=(train=-526.882, test=-546.995), total=   0.1s\n",
            "[CV] n_estimators=100, max_depth=5, criterion=mse ....................\n"
          ],
          "name": "stdout"
        },
        {
          "output_type": "stream",
          "text": [
            "[Parallel(n_jobs=1)]: Done   6 out of   6 | elapsed:    1.2s remaining:    0.0s\n",
            "[Parallel(n_jobs=1)]: Done   7 out of   7 | elapsed:    1.3s remaining:    0.0s\n"
          ],
          "name": "stderr"
        },
        {
          "output_type": "stream",
          "text": [
            "[CV]  n_estimators=100, max_depth=5, criterion=mse, score=(train=-490.560, test=-639.081), total=   0.1s\n",
            "[CV] n_estimators=100, max_depth=5, criterion=mse ....................\n",
            "[CV]  n_estimators=100, max_depth=5, criterion=mse, score=(train=-492.253, test=-629.838), total=   0.1s\n",
            "[CV] n_estimators=200, max_depth=5, criterion=mse ....................\n"
          ],
          "name": "stdout"
        },
        {
          "output_type": "stream",
          "text": [
            "[Parallel(n_jobs=1)]: Done   8 out of   8 | elapsed:    1.4s remaining:    0.0s\n",
            "[Parallel(n_jobs=1)]: Done   9 out of   9 | elapsed:    1.6s remaining:    0.0s\n"
          ],
          "name": "stderr"
        },
        {
          "output_type": "stream",
          "text": [
            "[CV]  n_estimators=200, max_depth=5, criterion=mse, score=(train=-524.163, test=-545.774), total=   0.3s\n",
            "[CV] n_estimators=200, max_depth=5, criterion=mse ....................\n",
            "[CV]  n_estimators=200, max_depth=5, criterion=mse, score=(train=-490.204, test=-637.307), total=   0.3s\n",
            "[CV] n_estimators=200, max_depth=5, criterion=mse ....................\n",
            "[CV]  n_estimators=200, max_depth=5, criterion=mse, score=(train=-490.472, test=-627.617), total=   0.3s\n",
            "[CV] n_estimators=100, max_depth=4, criterion=mae ....................\n",
            "[CV]  n_estimators=100, max_depth=4, criterion=mae, score=(train=-554.611, test=-545.554), total=   0.7s\n",
            "[CV] n_estimators=100, max_depth=4, criterion=mae ....................\n",
            "[CV]  n_estimators=100, max_depth=4, criterion=mae, score=(train=-515.604, test=-635.479), total=   0.7s\n",
            "[CV] n_estimators=100, max_depth=4, criterion=mae ....................\n",
            "[CV]  n_estimators=100, max_depth=4, criterion=mae, score=(train=-525.162, test=-609.899), total=   0.6s\n",
            "[CV] n_estimators=200, max_depth=4, criterion=mae ....................\n",
            "[CV]  n_estimators=200, max_depth=4, criterion=mae, score=(train=-554.013, test=-545.616), total=   1.4s\n",
            "[CV] n_estimators=200, max_depth=4, criterion=mae ....................\n",
            "[CV]  n_estimators=200, max_depth=4, criterion=mae, score=(train=-515.754, test=-634.227), total=   1.3s\n",
            "[CV] n_estimators=200, max_depth=4, criterion=mae ....................\n",
            "[CV]  n_estimators=200, max_depth=4, criterion=mae, score=(train=-524.948, test=-611.571), total=   1.3s\n",
            "[CV] n_estimators=100, max_depth=5, criterion=mae ....................\n",
            "[CV]  n_estimators=100, max_depth=5, criterion=mae, score=(train=-513.925, test=-539.744), total=   0.8s\n",
            "[CV] n_estimators=100, max_depth=5, criterion=mae ....................\n",
            "[CV]  n_estimators=100, max_depth=5, criterion=mae, score=(train=-475.585, test=-635.248), total=   0.7s\n",
            "[CV] n_estimators=100, max_depth=5, criterion=mae ....................\n",
            "[CV]  n_estimators=100, max_depth=5, criterion=mae, score=(train=-489.149, test=-610.870), total=   0.7s\n",
            "[CV] n_estimators=200, max_depth=5, criterion=mae ....................\n",
            "[CV]  n_estimators=200, max_depth=5, criterion=mae, score=(train=-514.399, test=-537.343), total=   1.5s\n",
            "[CV] n_estimators=200, max_depth=5, criterion=mae ....................\n",
            "[CV]  n_estimators=200, max_depth=5, criterion=mae, score=(train=-476.132, test=-633.188), total=   1.4s\n",
            "[CV] n_estimators=200, max_depth=5, criterion=mae ....................\n",
            "[CV]  n_estimators=200, max_depth=5, criterion=mae, score=(train=-486.785, test=-611.812), total=   1.5s\n"
          ],
          "name": "stdout"
        },
        {
          "output_type": "stream",
          "text": [
            "[Parallel(n_jobs=1)]: Done  24 out of  24 | elapsed:   15.2s finished\n"
          ],
          "name": "stderr"
        },
        {
          "output_type": "execute_result",
          "data": {
            "text/plain": [
              "RandomizedSearchCV(cv=3, error_score='raise-deprecating',\n",
              "                   estimator=RandomForestRegressor(bootstrap=True,\n",
              "                                                   criterion='mse',\n",
              "                                                   max_depth=None,\n",
              "                                                   max_features='auto',\n",
              "                                                   max_leaf_nodes=None,\n",
              "                                                   min_impurity_decrease=0.0,\n",
              "                                                   min_impurity_split=None,\n",
              "                                                   min_samples_leaf=1,\n",
              "                                                   min_samples_split=2,\n",
              "                                                   min_weight_fraction_leaf=0.0,\n",
              "                                                   n_estimators='warn',\n",
              "                                                   n_jobs=-1, oob_score=False,\n",
              "                                                   random_state=42, verbose=0,\n",
              "                                                   warm_start=False),\n",
              "                   iid='warn', n_iter=8, n_jobs=None,\n",
              "                   param_distributions={'criterion': ['mse', 'mae'],\n",
              "                                        'max_depth': [4, 5],\n",
              "                                        'n_estimators': [100, 200]},\n",
              "                   pre_dispatch='2*n_jobs', random_state=None, refit=True,\n",
              "                   return_train_score=True, scoring='neg_mean_absolute_error',\n",
              "                   verbose=10)"
            ]
          },
          "metadata": {
            "tags": []
          },
          "execution_count": 46
        }
      ]
    },
    {
      "cell_type": "code",
      "metadata": {
        "id": "-iGSpdqi_xly",
        "colab_type": "code",
        "outputId": "5bdb4360-38b1-4f93-9e9e-09646d62e9a8",
        "colab": {
          "base_uri": "https://localhost:8080/",
          "height": 895
        }
      },
      "source": [
        "gridsearch.cv_results_"
      ],
      "execution_count": 47,
      "outputs": [
        {
          "output_type": "execute_result",
          "data": {
            "text/plain": [
              "{'mean_fit_time': array([0.116551  , 0.22920903, 0.12828557, 0.25599813, 0.65637207,\n",
              "        1.32135288, 0.7406865 , 1.45469753]),\n",
              " 'mean_score_time': array([0.00641394, 0.01089835, 0.00676219, 0.01144775, 0.00671895,\n",
              "        0.01170913, 0.00676529, 0.01157951]),\n",
              " 'mean_test_score': array([-609.56563333, -607.45161258, -605.30455589, -603.56609775,\n",
              "        -596.97695742, -597.13798027, -595.28737799, -594.11456386]),\n",
              " 'mean_train_score': array([-547.76556914, -546.17783635, -503.23167945, -501.61335502,\n",
              "        -531.79222741, -531.57189642, -492.88619678, -492.43870067]),\n",
              " 'param_criterion': masked_array(data=['mse', 'mse', 'mse', 'mse', 'mae', 'mae', 'mae', 'mae'],\n",
              "              mask=[False, False, False, False, False, False, False, False],\n",
              "        fill_value='?',\n",
              "             dtype=object),\n",
              " 'param_max_depth': masked_array(data=[4, 4, 5, 5, 4, 4, 5, 5],\n",
              "              mask=[False, False, False, False, False, False, False, False],\n",
              "        fill_value='?',\n",
              "             dtype=object),\n",
              " 'param_n_estimators': masked_array(data=[100, 200, 100, 200, 100, 200, 100, 200],\n",
              "              mask=[False, False, False, False, False, False, False, False],\n",
              "        fill_value='?',\n",
              "             dtype=object),\n",
              " 'params': [{'criterion': 'mse', 'max_depth': 4, 'n_estimators': 100},\n",
              "  {'criterion': 'mse', 'max_depth': 4, 'n_estimators': 200},\n",
              "  {'criterion': 'mse', 'max_depth': 5, 'n_estimators': 100},\n",
              "  {'criterion': 'mse', 'max_depth': 5, 'n_estimators': 200},\n",
              "  {'criterion': 'mae', 'max_depth': 4, 'n_estimators': 100},\n",
              "  {'criterion': 'mae', 'max_depth': 4, 'n_estimators': 200},\n",
              "  {'criterion': 'mae', 'max_depth': 5, 'n_estimators': 100},\n",
              "  {'criterion': 'mae', 'max_depth': 5, 'n_estimators': 200}],\n",
              " 'rank_test_score': array([8, 7, 6, 5, 3, 4, 2, 1], dtype=int32),\n",
              " 'split0_test_score': array([-557.17430214, -555.63475734, -546.99524341, -545.77435434,\n",
              "        -545.55373832, -545.61595016, -539.74433022, -537.3432243 ]),\n",
              " 'split0_train_score': array([-574.47210189, -572.25254961, -526.88233641, -524.16346899,\n",
              "        -554.61092679, -554.01271417, -513.92496106, -514.39913941]),\n",
              " 'split1_test_score': array([-642.45041671, -640.86616693, -639.08060657, -637.3070047 ,\n",
              "        -635.47862928, -634.22667445, -635.24777259, -633.18806854]),\n",
              " 'split1_train_score': array([-530.24807905, -529.62567374, -490.56019005, -490.20413021,\n",
              "        -515.60358255, -515.75447819, -475.58502336, -476.13220794]),\n",
              " 'split2_test_score': array([-629.07218115, -625.85391347, -629.83781768, -627.61693421,\n",
              "        -609.89850467, -611.5713162 , -610.87003115, -611.81239875]),\n",
              " 'split2_train_score': array([-538.57652647, -536.65528569, -492.25251187, -490.47246587,\n",
              "        -525.1621729 , -524.94849688, -489.14860592, -486.78475467]),\n",
              " 'std_fit_time': array([0.00503772, 0.00190801, 0.0023718 , 0.00217113, 0.01775933,\n",
              "        0.02844368, 0.0339286 , 0.02140143]),\n",
              " 'std_score_time': array([1.28145199e-04, 1.82421947e-04, 1.25476346e-04, 1.02212788e-04,\n",
              "        3.02190781e-04, 6.14065131e-04, 5.98654868e-05, 1.14759030e-04]),\n",
              " 'std_test_score': array([37.44669977, 37.14908526, 41.40321427, 41.05596645, 37.83161192,\n",
              "        37.58728513, 40.51617937, 41.08096527]),\n",
              " 'std_train_score': array([19.18801584, 18.6596153 , 16.7378049 , 15.9457148 , 16.60043058,\n",
              "        16.30593391, 15.87377071, 16.12585584])}"
            ]
          },
          "metadata": {
            "tags": []
          },
          "execution_count": 47
        }
      ]
    },
    {
      "cell_type": "code",
      "metadata": {
        "id": "4JdVs19SQ7i7",
        "colab_type": "code",
        "outputId": "7b09e260-15f5-4b61-a701-3a340154a1ce",
        "colab": {
          "base_uri": "https://localhost:8080/",
          "height": 168
        }
      },
      "source": [
        "results = pd.DataFrame(gridsearch.cv_results_)\n",
        "print(f'Best result from search of  {len(results)} parameter combinations')\n",
        "results.sort_values(by='rank_test_score').head(1)#spits out 8 rows\n",
        "#randomized search cv, we have to look at parameters"
      ],
      "execution_count": 48,
      "outputs": [
        {
          "output_type": "stream",
          "text": [
            "Best result from search of  8 parameter combinations\n"
          ],
          "name": "stdout"
        },
        {
          "output_type": "execute_result",
          "data": {
            "text/html": [
              "<div>\n",
              "<style scoped>\n",
              "    .dataframe tbody tr th:only-of-type {\n",
              "        vertical-align: middle;\n",
              "    }\n",
              "\n",
              "    .dataframe tbody tr th {\n",
              "        vertical-align: top;\n",
              "    }\n",
              "\n",
              "    .dataframe thead th {\n",
              "        text-align: right;\n",
              "    }\n",
              "</style>\n",
              "<table border=\"1\" class=\"dataframe\">\n",
              "  <thead>\n",
              "    <tr style=\"text-align: right;\">\n",
              "      <th></th>\n",
              "      <th>mean_fit_time</th>\n",
              "      <th>std_fit_time</th>\n",
              "      <th>mean_score_time</th>\n",
              "      <th>std_score_time</th>\n",
              "      <th>param_n_estimators</th>\n",
              "      <th>param_max_depth</th>\n",
              "      <th>param_criterion</th>\n",
              "      <th>params</th>\n",
              "      <th>split0_test_score</th>\n",
              "      <th>split1_test_score</th>\n",
              "      <th>split2_test_score</th>\n",
              "      <th>mean_test_score</th>\n",
              "      <th>std_test_score</th>\n",
              "      <th>rank_test_score</th>\n",
              "      <th>split0_train_score</th>\n",
              "      <th>split1_train_score</th>\n",
              "      <th>split2_train_score</th>\n",
              "      <th>mean_train_score</th>\n",
              "      <th>std_train_score</th>\n",
              "    </tr>\n",
              "  </thead>\n",
              "  <tbody>\n",
              "    <tr>\n",
              "      <th>7</th>\n",
              "      <td>1.454698</td>\n",
              "      <td>0.021401</td>\n",
              "      <td>0.01158</td>\n",
              "      <td>0.000115</td>\n",
              "      <td>200</td>\n",
              "      <td>5</td>\n",
              "      <td>mae</td>\n",
              "      <td>{'n_estimators': 200, 'max_depth': 5, 'criteri...</td>\n",
              "      <td>-537.343224</td>\n",
              "      <td>-633.188069</td>\n",
              "      <td>-611.812399</td>\n",
              "      <td>-594.114564</td>\n",
              "      <td>41.080965</td>\n",
              "      <td>1</td>\n",
              "      <td>-514.399139</td>\n",
              "      <td>-476.132208</td>\n",
              "      <td>-486.784755</td>\n",
              "      <td>-492.438701</td>\n",
              "      <td>16.125856</td>\n",
              "    </tr>\n",
              "  </tbody>\n",
              "</table>\n",
              "</div>"
            ],
            "text/plain": [
              "   mean_fit_time  std_fit_time  ...  mean_train_score  std_train_score\n",
              "7       1.454698      0.021401  ...       -492.438701        16.125856\n",
              "\n",
              "[1 rows x 19 columns]"
            ]
          },
          "metadata": {
            "tags": []
          },
          "execution_count": 48
        }
      ]
    },
    {
      "cell_type": "code",
      "metadata": {
        "id": "rr3BCDvKWhIM",
        "colab_type": "code",
        "colab": {
          "base_uri": "https://localhost:8080/",
          "height": 35
        },
        "outputId": "c3f6baae-6283-4156-c6de-1cf8b113a9ac"
      },
      "source": [
        "-gridsearch.best_score_"
      ],
      "execution_count": 59,
      "outputs": [
        {
          "output_type": "execute_result",
          "data": {
            "text/plain": [
              "594.1145638629284"
            ]
          },
          "metadata": {
            "tags": []
          },
          "execution_count": 59
        }
      ]
    },
    {
      "cell_type": "code",
      "metadata": {
        "id": "PhN92ZFyAJ8H",
        "colab_type": "code",
        "outputId": "c59f3887-325e-4888-9d17-b983f4badb59",
        "colab": {
          "base_uri": "https://localhost:8080/",
          "height": 35
        }
      },
      "source": [
        "type(gridsearch.best_estimator_)"
      ],
      "execution_count": 49,
      "outputs": [
        {
          "output_type": "execute_result",
          "data": {
            "text/plain": [
              "sklearn.ensemble.forest.RandomForestRegressor"
            ]
          },
          "metadata": {
            "tags": []
          },
          "execution_count": 49
        }
      ]
    },
    {
      "cell_type": "code",
      "metadata": {
        "id": "UzNsYkkdRwC4",
        "colab_type": "code",
        "outputId": "c7abd95a-d121-496b-8941-f53f0e952d20",
        "colab": {
          "base_uri": "https://localhost:8080/",
          "height": 142
        }
      },
      "source": [
        "gridsearch.best_estimator_\n",
        "# gridsearch.best_estimator_.predict_proba"
      ],
      "execution_count": 50,
      "outputs": [
        {
          "output_type": "execute_result",
          "data": {
            "text/plain": [
              "RandomForestRegressor(bootstrap=True, criterion='mae', max_depth=5,\n",
              "                      max_features='auto', max_leaf_nodes=None,\n",
              "                      min_impurity_decrease=0.0, min_impurity_split=None,\n",
              "                      min_samples_leaf=1, min_samples_split=2,\n",
              "                      min_weight_fraction_leaf=0.0, n_estimators=200, n_jobs=-1,\n",
              "                      oob_score=False, random_state=42, verbose=0,\n",
              "                      warm_start=False)"
            ]
          },
          "metadata": {
            "tags": []
          },
          "execution_count": 50
        }
      ]
    },
    {
      "cell_type": "code",
      "metadata": {
        "id": "KUR-tAkISNO2",
        "colab_type": "code",
        "colab": {}
      },
      "source": [
        "#It's important to develop a model that overfits, otherwise it is not working\n",
        "#Deep learning is less feature engineering, more architecture"
      ],
      "execution_count": 0,
      "outputs": []
    },
    {
      "cell_type": "code",
      "metadata": {
        "id": "FRCsCSHIBURt",
        "colab_type": "code",
        "colab": {}
      },
      "source": [
        "#deep learning can memorize noise, so if you are not able to overfit, something is wrong\n",
        "#in deep learning there is more emphasis on regularization and tuning of hyperparameters"
      ],
      "execution_count": 0,
      "outputs": []
    },
    {
      "cell_type": "code",
      "metadata": {
        "id": "MhHFoXY8BtU5",
        "colab_type": "code",
        "colab": {}
      },
      "source": [
        "#get to the basic baseline first, then emphasize feature engineering"
      ],
      "execution_count": 0,
      "outputs": []
    },
    {
      "cell_type": "markdown",
      "metadata": {
        "colab_type": "text",
        "id": "ZW5HfYtU0GW2"
      },
      "source": [
        " FEATURE ENGINEERING!"
      ]
    },
    {
      "cell_type": "markdown",
      "metadata": {
        "colab_type": "text",
        "id": "0ms-eoOHFvPG"
      },
      "source": [
        "Jake VanderPlas demonstrates this feature engineering: \n",
        "https://jakevdp.github.io/PythonDataScienceHandbook/05.06-linear-regression.html#Example:-Predicting-Bicycle-Traffic\n",
        "He has some awesome examples"
      ]
    },
    {
      "cell_type": "code",
      "metadata": {
        "colab_type": "code",
        "id": "sEwME8wR3A5g",
        "colab": {}
      },
      "source": [
        "import numpy as np\n",
        "from datetime import date, datetime, timedelta\n",
        "# Modified from code cells 17-21 at\n",
        "# https://jakevdp.github.io/PythonDataScienceHandbook/05.06-linear-regression.html#Example:-Predicting-Bicycle-Traffic\n",
        "\n",
        "def jake_wrangle(X):  \n",
        "    X = X.copy()\n",
        "\n",
        "    # patterns of use generally vary from day to day; \n",
        "    # let's add binary columns that indicate the day of the week:\n",
        "    days = ['Mon', 'Tue', 'Wed', 'Thu', 'Fri', 'Sat', 'Sun']#manual one hot encoding\n",
        "    for i, day in enumerate(days):\n",
        "        X[day] = (X.index.dayofweek == i).astype(float)\n",
        "    X['IsWeekday'] = X['Mon']+X['Tue']+X['Wed']+X['Thu']+X['Fri'] == 1#--------------------Is Weekday?\n",
        "\n",
        "    # we might expect riders to behave differently on holidays; \n",
        "    # let's add an indicator of this as well:\n",
        "#     from pandas.tseries.holiday import USFederalHolidayCalendar\n",
        "#     cal = USFederalHolidayCalendar()\n",
        "#     holidays = cal.holidays('2012', '2016')\n",
        "#     X = X.join(pd.Series(1, index=holidays, name='holiday'))\n",
        "#     X['holiday'].fillna(0, inplace=True)\n",
        "\n",
        "\n",
        "    # We also might suspect that the hours of daylight would affect \n",
        "    # how many people ride; let's use the standard astronomical calculation \n",
        "    # to add this information:\n",
        "    def hours_of_daylight(date, axis=23.44, latitude=47.61):\n",
        "        \"\"\"Compute the hours of daylight for the given date\"\"\"\n",
        "        days = (date - pd.datetime(2000, 12, 21)).days\n",
        "        m = (1. - np.tan(np.radians(latitude))\n",
        "             * np.tan(np.radians(axis) * np.cos(days * 2 * np.pi / 365.25)))\n",
        "        return 24. * np.degrees(np.arccos(1 - np.clip(m, 0, 2))) / 180.\n",
        "      \n",
        "\n",
        "#     DOY = X.index.values\n",
        "#     DOY = pd.to_datetime(DOY)\n",
        "#     Y = DOY.year\n",
        "#     M = DOY.month\n",
        "#     D = DOY.date\n",
        "\n",
        "#     Winter = X.loc[datetime.date(year=Y,month=12,day=21):datetime.date(year=Y,month=3,day=19)]\n",
        "#     X['IsWinter'] = DOY in Winter\n",
        "    X['Month'] = X.index.month\n",
        "    X['Day'] = X.index.day\n",
        "    \n",
        "    X['IsWinter'] = ((X['Month'] == 3) & (X['Day'] < 21)) & ((X['Month'] == 12) & (X['Day'] >= 21)) & (X['Month'] <= 2) #--------------------Is from 12/22 - 3/21?\n",
        "    X['NearPopRidership'] = (X['Month'] == 5) & (abs(X['Day'] - 14) < 5)\n",
        "\n",
        "\n",
        "    X['daylight_hrs'] = list(map(hours_of_daylight, X.index))\n",
        "\n",
        "    \n",
        "    # temperatures are in 1/10 deg C; convert to C\n",
        "    X['TMIN'] /= 10\n",
        "    X['TMINear13'] = abs(X['TMIN'] - 13) < 3#--------------------Is below 45F?\n",
        "    X['TMAX'] /= 10\n",
        "    X['TMAXNear28'] = abs(X['TMAX'] - 28) < 3#--------------------Is above 90F?\n",
        "    X['daylight_hrsNear15'] = abs(X['daylight_hrs'] - 15) < 3\n",
        "    \n",
        "    # We can also calcuate the average temperature.\n",
        "    X['Temp (C)'] = 0.5 * (X['TMIN'] + X['TMAX'])\n",
        "\n",
        "    # precip is in 1/10 mm; convert to inches\n",
        "    X['PRCP'] /= 254\n",
        "    X['PrecipitationAboveHalfin'] = X['PRCP'] > 0.5#--------------------Is above .5 in? \n",
        "\n",
        "    # In addition to the inches of precipitation, let's add a flag that \n",
        "    # indicates whether a day is dry (has zero precipitation):\n",
        "    X['dry day'] = (X['PRCP'] == 0).astype(int)#binary flag of whether a day is dry or not\n",
        "    \n",
        "    #wind speed is in 1/10 meters per second, convert to miles per hour\n",
        "    X['AWND'] *= .2237\n",
        "    X['WindAbove8mph'] = X['AWND'] > 8\n",
        "\n",
        "\n",
        "    # Let's add a counter that increases from day 1, and measures how many \n",
        "    # years have passed. This will let us measure any observed annual increase \n",
        "    # or decrease in daily crossings:\n",
        "    X['annual'] = (X.index - X.index[0]).days / 365.\n",
        "    \n",
        "    X['AvgPast6DayCount'] = (X['Total_yesterday'].shift(1) + X['Total_yesterday'].shift(2) + X['Total_yesterday'].shift(3) + X['Total_yesterday'].shift(4) + X['Total_yesterday'].shift(5) + X['Total_yesterday'].shift(6))/6#--------------------Avg 3 Past Day Count\n",
        "    X['AvgPast6DayTempMin'] = (X['TMIN'].shift(1) + X['TMIN'].shift(2) + X['TMIN'].shift(3) + X['TMIN'].shift(4) + X['TMIN'].shift(5) + X['TMIN'].shift(6))/6#--------------------Avg Past 3 Day Temp\n",
        "    X['AvgPast6DayTempMax'] = (X['TMAX'].shift(1) + X['TMAX'].shift(2) + X['TMAX'].shift(3) + X['TMIN'].shift(4) + X['TMIN'].shift(5) + X['TMIN'].shift(6))/6#--------------------Avg Past 3 Day Temp\n",
        "    \n",
        "    NewDFNearestTmax = X.iloc[(X['TMAX']-1).abs().argsort()[:20]]    \n",
        "    X['Avg3PastDayMAXTemp'] = NewDFNearestTmax['TMAX'].mean()#--------------------Nearest Temperature Max\n",
        "    X['Avg3PastDayMAXCount'] = NewDFNearestTmax['AvgPast6DayCount'].mean()#--------------------Nearest Temperature Max\n",
        "    \n",
        "    NewDFNearestTmax = X.iloc[(X['TMIN']-1).abs().argsort()[:20]]    \n",
        "    X['Avg3PastDayMINTemp'] = NewDFNearestTmax['TMIN'].mean()#--------------------Nearest Temperature Max\n",
        "    X['Avg3PastDayMINCount'] = NewDFNearestTmax['AvgPast6DayCount'].mean()#--------------------Nearest Temperature Max\n",
        "    \n",
        "#     X.index - timedelta(2)\n",
        "    \n",
        "#     X['AvgLast3Days'] = X.iloc['Total_yesterday',['GetDayBeforeYesName']]\n",
        "\n",
        "    return X\n",
        "\n",
        "X_train = jake_wrangle(X_train)"
      ],
      "execution_count": 0,
      "outputs": []
    },
    {
      "cell_type": "code",
      "metadata": {
        "id": "ZhQqgtlJIkwP",
        "colab_type": "code",
        "outputId": "532b9100-d3f5-4f6c-bdba-e2357089773b",
        "colab": {
          "base_uri": "https://localhost:8080/",
          "height": 1141
        }
      },
      "source": [
        "X_train.tail(10).T"
      ],
      "execution_count": 61,
      "outputs": [
        {
          "output_type": "execute_result",
          "data": {
            "text/html": [
              "<div>\n",
              "<style scoped>\n",
              "    .dataframe tbody tr th:only-of-type {\n",
              "        vertical-align: middle;\n",
              "    }\n",
              "\n",
              "    .dataframe tbody tr th {\n",
              "        vertical-align: top;\n",
              "    }\n",
              "\n",
              "    .dataframe thead th {\n",
              "        text-align: right;\n",
              "    }\n",
              "</style>\n",
              "<table border=\"1\" class=\"dataframe\">\n",
              "  <thead>\n",
              "    <tr style=\"text-align: right;\">\n",
              "      <th></th>\n",
              "      <th>2015-05-15 00:00:00</th>\n",
              "      <th>2015-05-16 00:00:00</th>\n",
              "      <th>2015-05-17 00:00:00</th>\n",
              "      <th>2015-05-18 00:00:00</th>\n",
              "      <th>2015-05-19 00:00:00</th>\n",
              "      <th>2015-05-20 00:00:00</th>\n",
              "      <th>2015-05-21 00:00:00</th>\n",
              "      <th>2015-05-22 00:00:00</th>\n",
              "      <th>2015-05-23 00:00:00</th>\n",
              "      <th>2015-05-24 00:00:00</th>\n",
              "    </tr>\n",
              "  </thead>\n",
              "  <tbody>\n",
              "    <tr>\n",
              "      <th>PRCP</th>\n",
              "      <td>0</td>\n",
              "      <td>0</td>\n",
              "      <td>0</td>\n",
              "      <td>0</td>\n",
              "      <td>0</td>\n",
              "      <td>0</td>\n",
              "      <td>0</td>\n",
              "      <td>0</td>\n",
              "      <td>0</td>\n",
              "      <td>0</td>\n",
              "    </tr>\n",
              "    <tr>\n",
              "      <th>SNOW</th>\n",
              "      <td>0</td>\n",
              "      <td>0</td>\n",
              "      <td>0</td>\n",
              "      <td>0</td>\n",
              "      <td>0</td>\n",
              "      <td>0</td>\n",
              "      <td>0</td>\n",
              "      <td>0</td>\n",
              "      <td>0</td>\n",
              "      <td>0</td>\n",
              "    </tr>\n",
              "    <tr>\n",
              "      <th>SNWD</th>\n",
              "      <td>0</td>\n",
              "      <td>0</td>\n",
              "      <td>0</td>\n",
              "      <td>0</td>\n",
              "      <td>0</td>\n",
              "      <td>0</td>\n",
              "      <td>0</td>\n",
              "      <td>0</td>\n",
              "      <td>0</td>\n",
              "      <td>0</td>\n",
              "    </tr>\n",
              "    <tr>\n",
              "      <th>TMAX</th>\n",
              "      <td>20</td>\n",
              "      <td>15.6</td>\n",
              "      <td>19.4</td>\n",
              "      <td>25.6</td>\n",
              "      <td>21.7</td>\n",
              "      <td>23.3</td>\n",
              "      <td>25.6</td>\n",
              "      <td>16.7</td>\n",
              "      <td>16.1</td>\n",
              "      <td>17.8</td>\n",
              "    </tr>\n",
              "    <tr>\n",
              "      <th>TMIN</th>\n",
              "      <td>9.4</td>\n",
              "      <td>11.1</td>\n",
              "      <td>10.6</td>\n",
              "      <td>12.2</td>\n",
              "      <td>11.7</td>\n",
              "      <td>10.6</td>\n",
              "      <td>11.7</td>\n",
              "      <td>11.7</td>\n",
              "      <td>11.7</td>\n",
              "      <td>11.1</td>\n",
              "    </tr>\n",
              "    <tr>\n",
              "      <th>AWND</th>\n",
              "      <td>6.2636</td>\n",
              "      <td>6.711</td>\n",
              "      <td>4.6977</td>\n",
              "      <td>6.711</td>\n",
              "      <td>5.8162</td>\n",
              "      <td>4.0266</td>\n",
              "      <td>4.6977</td>\n",
              "      <td>8.2769</td>\n",
              "      <td>5.8162</td>\n",
              "      <td>6.0399</td>\n",
              "    </tr>\n",
              "    <tr>\n",
              "      <th>Total_yesterday</th>\n",
              "      <td>3811</td>\n",
              "      <td>5053</td>\n",
              "      <td>1655</td>\n",
              "      <td>2011</td>\n",
              "      <td>4845</td>\n",
              "      <td>4872</td>\n",
              "      <td>4580</td>\n",
              "      <td>4768</td>\n",
              "      <td>3668</td>\n",
              "      <td>1580</td>\n",
              "    </tr>\n",
              "    <tr>\n",
              "      <th>Mon</th>\n",
              "      <td>0</td>\n",
              "      <td>0</td>\n",
              "      <td>0</td>\n",
              "      <td>1</td>\n",
              "      <td>0</td>\n",
              "      <td>0</td>\n",
              "      <td>0</td>\n",
              "      <td>0</td>\n",
              "      <td>0</td>\n",
              "      <td>0</td>\n",
              "    </tr>\n",
              "    <tr>\n",
              "      <th>Tue</th>\n",
              "      <td>0</td>\n",
              "      <td>0</td>\n",
              "      <td>0</td>\n",
              "      <td>0</td>\n",
              "      <td>1</td>\n",
              "      <td>0</td>\n",
              "      <td>0</td>\n",
              "      <td>0</td>\n",
              "      <td>0</td>\n",
              "      <td>0</td>\n",
              "    </tr>\n",
              "    <tr>\n",
              "      <th>Wed</th>\n",
              "      <td>0</td>\n",
              "      <td>0</td>\n",
              "      <td>0</td>\n",
              "      <td>0</td>\n",
              "      <td>0</td>\n",
              "      <td>1</td>\n",
              "      <td>0</td>\n",
              "      <td>0</td>\n",
              "      <td>0</td>\n",
              "      <td>0</td>\n",
              "    </tr>\n",
              "    <tr>\n",
              "      <th>Thu</th>\n",
              "      <td>0</td>\n",
              "      <td>0</td>\n",
              "      <td>0</td>\n",
              "      <td>0</td>\n",
              "      <td>0</td>\n",
              "      <td>0</td>\n",
              "      <td>1</td>\n",
              "      <td>0</td>\n",
              "      <td>0</td>\n",
              "      <td>0</td>\n",
              "    </tr>\n",
              "    <tr>\n",
              "      <th>Fri</th>\n",
              "      <td>1</td>\n",
              "      <td>0</td>\n",
              "      <td>0</td>\n",
              "      <td>0</td>\n",
              "      <td>0</td>\n",
              "      <td>0</td>\n",
              "      <td>0</td>\n",
              "      <td>1</td>\n",
              "      <td>0</td>\n",
              "      <td>0</td>\n",
              "    </tr>\n",
              "    <tr>\n",
              "      <th>Sat</th>\n",
              "      <td>0</td>\n",
              "      <td>1</td>\n",
              "      <td>0</td>\n",
              "      <td>0</td>\n",
              "      <td>0</td>\n",
              "      <td>0</td>\n",
              "      <td>0</td>\n",
              "      <td>0</td>\n",
              "      <td>1</td>\n",
              "      <td>0</td>\n",
              "    </tr>\n",
              "    <tr>\n",
              "      <th>Sun</th>\n",
              "      <td>0</td>\n",
              "      <td>0</td>\n",
              "      <td>1</td>\n",
              "      <td>0</td>\n",
              "      <td>0</td>\n",
              "      <td>0</td>\n",
              "      <td>0</td>\n",
              "      <td>0</td>\n",
              "      <td>0</td>\n",
              "      <td>1</td>\n",
              "    </tr>\n",
              "    <tr>\n",
              "      <th>IsWeekday</th>\n",
              "      <td>True</td>\n",
              "      <td>False</td>\n",
              "      <td>False</td>\n",
              "      <td>True</td>\n",
              "      <td>True</td>\n",
              "      <td>True</td>\n",
              "      <td>True</td>\n",
              "      <td>True</td>\n",
              "      <td>False</td>\n",
              "      <td>False</td>\n",
              "    </tr>\n",
              "    <tr>\n",
              "      <th>Month</th>\n",
              "      <td>5</td>\n",
              "      <td>5</td>\n",
              "      <td>5</td>\n",
              "      <td>5</td>\n",
              "      <td>5</td>\n",
              "      <td>5</td>\n",
              "      <td>5</td>\n",
              "      <td>5</td>\n",
              "      <td>5</td>\n",
              "      <td>5</td>\n",
              "    </tr>\n",
              "    <tr>\n",
              "      <th>Day</th>\n",
              "      <td>15</td>\n",
              "      <td>16</td>\n",
              "      <td>17</td>\n",
              "      <td>18</td>\n",
              "      <td>19</td>\n",
              "      <td>20</td>\n",
              "      <td>21</td>\n",
              "      <td>22</td>\n",
              "      <td>23</td>\n",
              "      <td>24</td>\n",
              "    </tr>\n",
              "    <tr>\n",
              "      <th>IsWinter</th>\n",
              "      <td>False</td>\n",
              "      <td>False</td>\n",
              "      <td>False</td>\n",
              "      <td>False</td>\n",
              "      <td>False</td>\n",
              "      <td>False</td>\n",
              "      <td>False</td>\n",
              "      <td>False</td>\n",
              "      <td>False</td>\n",
              "      <td>False</td>\n",
              "    </tr>\n",
              "    <tr>\n",
              "      <th>NearPopRidership</th>\n",
              "      <td>True</td>\n",
              "      <td>True</td>\n",
              "      <td>True</td>\n",
              "      <td>True</td>\n",
              "      <td>False</td>\n",
              "      <td>False</td>\n",
              "      <td>False</td>\n",
              "      <td>False</td>\n",
              "      <td>False</td>\n",
              "      <td>False</td>\n",
              "    </tr>\n",
              "    <tr>\n",
              "      <th>daylight_hrs</th>\n",
              "      <td>14.8806</td>\n",
              "      <td>14.9232</td>\n",
              "      <td>14.9651</td>\n",
              "      <td>15.0061</td>\n",
              "      <td>15.0464</td>\n",
              "      <td>15.0858</td>\n",
              "      <td>15.1244</td>\n",
              "      <td>15.1621</td>\n",
              "      <td>15.1989</td>\n",
              "      <td>15.2347</td>\n",
              "    </tr>\n",
              "    <tr>\n",
              "      <th>TMINear13</th>\n",
              "      <td>False</td>\n",
              "      <td>True</td>\n",
              "      <td>True</td>\n",
              "      <td>True</td>\n",
              "      <td>True</td>\n",
              "      <td>True</td>\n",
              "      <td>True</td>\n",
              "      <td>True</td>\n",
              "      <td>True</td>\n",
              "      <td>True</td>\n",
              "    </tr>\n",
              "    <tr>\n",
              "      <th>TMAXNear28</th>\n",
              "      <td>False</td>\n",
              "      <td>False</td>\n",
              "      <td>False</td>\n",
              "      <td>True</td>\n",
              "      <td>False</td>\n",
              "      <td>False</td>\n",
              "      <td>True</td>\n",
              "      <td>False</td>\n",
              "      <td>False</td>\n",
              "      <td>False</td>\n",
              "    </tr>\n",
              "    <tr>\n",
              "      <th>daylight_hrsNear15</th>\n",
              "      <td>True</td>\n",
              "      <td>True</td>\n",
              "      <td>True</td>\n",
              "      <td>True</td>\n",
              "      <td>True</td>\n",
              "      <td>True</td>\n",
              "      <td>True</td>\n",
              "      <td>True</td>\n",
              "      <td>True</td>\n",
              "      <td>True</td>\n",
              "    </tr>\n",
              "    <tr>\n",
              "      <th>Temp (C)</th>\n",
              "      <td>14.7</td>\n",
              "      <td>13.35</td>\n",
              "      <td>15</td>\n",
              "      <td>18.9</td>\n",
              "      <td>16.7</td>\n",
              "      <td>16.95</td>\n",
              "      <td>18.65</td>\n",
              "      <td>14.2</td>\n",
              "      <td>13.9</td>\n",
              "      <td>14.45</td>\n",
              "    </tr>\n",
              "    <tr>\n",
              "      <th>PrecipitationAboveHalfin</th>\n",
              "      <td>False</td>\n",
              "      <td>False</td>\n",
              "      <td>False</td>\n",
              "      <td>False</td>\n",
              "      <td>False</td>\n",
              "      <td>False</td>\n",
              "      <td>False</td>\n",
              "      <td>False</td>\n",
              "      <td>False</td>\n",
              "      <td>False</td>\n",
              "    </tr>\n",
              "    <tr>\n",
              "      <th>dry day</th>\n",
              "      <td>1</td>\n",
              "      <td>1</td>\n",
              "      <td>1</td>\n",
              "      <td>1</td>\n",
              "      <td>1</td>\n",
              "      <td>1</td>\n",
              "      <td>1</td>\n",
              "      <td>1</td>\n",
              "      <td>1</td>\n",
              "      <td>1</td>\n",
              "    </tr>\n",
              "    <tr>\n",
              "      <th>WindAbove8mph</th>\n",
              "      <td>False</td>\n",
              "      <td>False</td>\n",
              "      <td>False</td>\n",
              "      <td>False</td>\n",
              "      <td>False</td>\n",
              "      <td>False</td>\n",
              "      <td>False</td>\n",
              "      <td>True</td>\n",
              "      <td>False</td>\n",
              "      <td>False</td>\n",
              "    </tr>\n",
              "    <tr>\n",
              "      <th>annual</th>\n",
              "      <td>2.61096</td>\n",
              "      <td>2.6137</td>\n",
              "      <td>2.61644</td>\n",
              "      <td>2.61918</td>\n",
              "      <td>2.62192</td>\n",
              "      <td>2.62466</td>\n",
              "      <td>2.6274</td>\n",
              "      <td>2.63014</td>\n",
              "      <td>2.63288</td>\n",
              "      <td>2.63562</td>\n",
              "    </tr>\n",
              "    <tr>\n",
              "      <th>AvgPast6DayCount</th>\n",
              "      <td>3199.83</td>\n",
              "      <td>3093</td>\n",
              "      <td>3476.33</td>\n",
              "      <td>3425.83</td>\n",
              "      <td>3148.33</td>\n",
              "      <td>3347</td>\n",
              "      <td>3707.83</td>\n",
              "      <td>3836</td>\n",
              "      <td>3788.5</td>\n",
              "      <td>4124</td>\n",
              "    </tr>\n",
              "    <tr>\n",
              "      <th>AvgPast6DayTempMin</th>\n",
              "      <td>10.0833</td>\n",
              "      <td>10.0833</td>\n",
              "      <td>10.0833</td>\n",
              "      <td>10.1833</td>\n",
              "      <td>10.45</td>\n",
              "      <td>10.7333</td>\n",
              "      <td>10.9333</td>\n",
              "      <td>11.3167</td>\n",
              "      <td>11.4167</td>\n",
              "      <td>11.6</td>\n",
              "    </tr>\n",
              "    <tr>\n",
              "      <th>AvgPast6DayTempMax</th>\n",
              "      <td>12.6833</td>\n",
              "      <td>13.6167</td>\n",
              "      <td>14</td>\n",
              "      <td>14.1667</td>\n",
              "      <td>14.9</td>\n",
              "      <td>16.1</td>\n",
              "      <td>16.95</td>\n",
              "      <td>17.4167</td>\n",
              "      <td>16.6833</td>\n",
              "      <td>15.4833</td>\n",
              "    </tr>\n",
              "    <tr>\n",
              "      <th>Avg3PastDayMAXTemp</th>\n",
              "      <td>2.24</td>\n",
              "      <td>2.24</td>\n",
              "      <td>2.24</td>\n",
              "      <td>2.24</td>\n",
              "      <td>2.24</td>\n",
              "      <td>2.24</td>\n",
              "      <td>2.24</td>\n",
              "      <td>2.24</td>\n",
              "      <td>2.24</td>\n",
              "      <td>2.24</td>\n",
              "    </tr>\n",
              "    <tr>\n",
              "      <th>Avg3PastDayMAXCount</th>\n",
              "      <td>1486.12</td>\n",
              "      <td>1486.12</td>\n",
              "      <td>1486.12</td>\n",
              "      <td>1486.12</td>\n",
              "      <td>1486.12</td>\n",
              "      <td>1486.12</td>\n",
              "      <td>1486.12</td>\n",
              "      <td>1486.12</td>\n",
              "      <td>1486.12</td>\n",
              "      <td>1486.12</td>\n",
              "    </tr>\n",
              "    <tr>\n",
              "      <th>Avg3PastDayMINTemp</th>\n",
              "      <td>1.05</td>\n",
              "      <td>1.05</td>\n",
              "      <td>1.05</td>\n",
              "      <td>1.05</td>\n",
              "      <td>1.05</td>\n",
              "      <td>1.05</td>\n",
              "      <td>1.05</td>\n",
              "      <td>1.05</td>\n",
              "      <td>1.05</td>\n",
              "      <td>1.05</td>\n",
              "    </tr>\n",
              "    <tr>\n",
              "      <th>Avg3PastDayMINCount</th>\n",
              "      <td>1876.8</td>\n",
              "      <td>1876.8</td>\n",
              "      <td>1876.8</td>\n",
              "      <td>1876.8</td>\n",
              "      <td>1876.8</td>\n",
              "      <td>1876.8</td>\n",
              "      <td>1876.8</td>\n",
              "      <td>1876.8</td>\n",
              "      <td>1876.8</td>\n",
              "      <td>1876.8</td>\n",
              "    </tr>\n",
              "  </tbody>\n",
              "</table>\n",
              "</div>"
            ],
            "text/plain": [
              "                         2015-05-15 2015-05-16  ... 2015-05-23 2015-05-24\n",
              "PRCP                              0          0  ...          0          0\n",
              "SNOW                              0          0  ...          0          0\n",
              "SNWD                              0          0  ...          0          0\n",
              "TMAX                             20       15.6  ...       16.1       17.8\n",
              "TMIN                            9.4       11.1  ...       11.7       11.1\n",
              "AWND                         6.2636      6.711  ...     5.8162     6.0399\n",
              "Total_yesterday                3811       5053  ...       3668       1580\n",
              "Mon                               0          0  ...          0          0\n",
              "Tue                               0          0  ...          0          0\n",
              "Wed                               0          0  ...          0          0\n",
              "Thu                               0          0  ...          0          0\n",
              "Fri                               1          0  ...          0          0\n",
              "Sat                               0          1  ...          1          0\n",
              "Sun                               0          0  ...          0          1\n",
              "IsWeekday                      True      False  ...      False      False\n",
              "Month                             5          5  ...          5          5\n",
              "Day                              15         16  ...         23         24\n",
              "IsWinter                      False      False  ...      False      False\n",
              "NearPopRidership               True       True  ...      False      False\n",
              "daylight_hrs                14.8806    14.9232  ...    15.1989    15.2347\n",
              "TMINear13                     False       True  ...       True       True\n",
              "TMAXNear28                    False      False  ...      False      False\n",
              "daylight_hrsNear15             True       True  ...       True       True\n",
              "Temp (C)                       14.7      13.35  ...       13.9      14.45\n",
              "PrecipitationAboveHalfin      False      False  ...      False      False\n",
              "dry day                           1          1  ...          1          1\n",
              "WindAbove8mph                 False      False  ...      False      False\n",
              "annual                      2.61096     2.6137  ...    2.63288    2.63562\n",
              "AvgPast6DayCount            3199.83       3093  ...     3788.5       4124\n",
              "AvgPast6DayTempMin          10.0833    10.0833  ...    11.4167       11.6\n",
              "AvgPast6DayTempMax          12.6833    13.6167  ...    16.6833    15.4833\n",
              "Avg3PastDayMAXTemp             2.24       2.24  ...       2.24       2.24\n",
              "Avg3PastDayMAXCount         1486.12    1486.12  ...    1486.12    1486.12\n",
              "Avg3PastDayMINTemp             1.05       1.05  ...       1.05       1.05\n",
              "Avg3PastDayMINCount          1876.8     1876.8  ...     1876.8     1876.8\n",
              "\n",
              "[35 rows x 10 columns]"
            ]
          },
          "metadata": {
            "tags": []
          },
          "execution_count": 61
        }
      ]
    },
    {
      "cell_type": "code",
      "metadata": {
        "id": "vwiGmwRv_oeE",
        "colab_type": "code",
        "outputId": "3df33682-929a-4705-ca4b-08c4f1aac359",
        "colab": {
          "base_uri": "https://localhost:8080/",
          "height": 1124
        }
      },
      "source": [
        "# X_train['Total_yesterday'].max\n",
        "maxval = X_train.loc[X_train['Total_yesterday'].idxmax()]\n",
        "maxval.to_frame()\n",
        "# df.loc[df['Value'].idxmax()]"
      ],
      "execution_count": 62,
      "outputs": [
        {
          "output_type": "execute_result",
          "data": {
            "text/html": [
              "<div>\n",
              "<style scoped>\n",
              "    .dataframe tbody tr th:only-of-type {\n",
              "        vertical-align: middle;\n",
              "    }\n",
              "\n",
              "    .dataframe tbody tr th {\n",
              "        vertical-align: top;\n",
              "    }\n",
              "\n",
              "    .dataframe thead th {\n",
              "        text-align: right;\n",
              "    }\n",
              "</style>\n",
              "<table border=\"1\" class=\"dataframe\">\n",
              "  <thead>\n",
              "    <tr style=\"text-align: right;\">\n",
              "      <th></th>\n",
              "      <th>2014-05-14 00:00:00</th>\n",
              "    </tr>\n",
              "  </thead>\n",
              "  <tbody>\n",
              "    <tr>\n",
              "      <th>PRCP</th>\n",
              "      <td>0</td>\n",
              "    </tr>\n",
              "    <tr>\n",
              "      <th>SNOW</th>\n",
              "      <td>0</td>\n",
              "    </tr>\n",
              "    <tr>\n",
              "      <th>SNWD</th>\n",
              "      <td>0</td>\n",
              "    </tr>\n",
              "    <tr>\n",
              "      <th>TMAX</th>\n",
              "      <td>27.8</td>\n",
              "    </tr>\n",
              "    <tr>\n",
              "      <th>TMIN</th>\n",
              "      <td>13.3</td>\n",
              "    </tr>\n",
              "    <tr>\n",
              "      <th>AWND</th>\n",
              "      <td>7.3821</td>\n",
              "    </tr>\n",
              "    <tr>\n",
              "      <th>Total_yesterday</th>\n",
              "      <td>6088</td>\n",
              "    </tr>\n",
              "    <tr>\n",
              "      <th>Mon</th>\n",
              "      <td>0</td>\n",
              "    </tr>\n",
              "    <tr>\n",
              "      <th>Tue</th>\n",
              "      <td>0</td>\n",
              "    </tr>\n",
              "    <tr>\n",
              "      <th>Wed</th>\n",
              "      <td>1</td>\n",
              "    </tr>\n",
              "    <tr>\n",
              "      <th>Thu</th>\n",
              "      <td>0</td>\n",
              "    </tr>\n",
              "    <tr>\n",
              "      <th>Fri</th>\n",
              "      <td>0</td>\n",
              "    </tr>\n",
              "    <tr>\n",
              "      <th>Sat</th>\n",
              "      <td>0</td>\n",
              "    </tr>\n",
              "    <tr>\n",
              "      <th>Sun</th>\n",
              "      <td>0</td>\n",
              "    </tr>\n",
              "    <tr>\n",
              "      <th>IsWeekday</th>\n",
              "      <td>True</td>\n",
              "    </tr>\n",
              "    <tr>\n",
              "      <th>Month</th>\n",
              "      <td>5</td>\n",
              "    </tr>\n",
              "    <tr>\n",
              "      <th>Day</th>\n",
              "      <td>14</td>\n",
              "    </tr>\n",
              "    <tr>\n",
              "      <th>IsWinter</th>\n",
              "      <td>False</td>\n",
              "    </tr>\n",
              "    <tr>\n",
              "      <th>NearPopRidership</th>\n",
              "      <td>True</td>\n",
              "    </tr>\n",
              "    <tr>\n",
              "      <th>daylight_hrs</th>\n",
              "      <td>14.8481</td>\n",
              "    </tr>\n",
              "    <tr>\n",
              "      <th>TMINear13</th>\n",
              "      <td>True</td>\n",
              "    </tr>\n",
              "    <tr>\n",
              "      <th>TMAXNear28</th>\n",
              "      <td>True</td>\n",
              "    </tr>\n",
              "    <tr>\n",
              "      <th>daylight_hrsNear15</th>\n",
              "      <td>True</td>\n",
              "    </tr>\n",
              "    <tr>\n",
              "      <th>Temp (C)</th>\n",
              "      <td>20.55</td>\n",
              "    </tr>\n",
              "    <tr>\n",
              "      <th>PrecipitationAboveHalfin</th>\n",
              "      <td>False</td>\n",
              "    </tr>\n",
              "    <tr>\n",
              "      <th>dry day</th>\n",
              "      <td>1</td>\n",
              "    </tr>\n",
              "    <tr>\n",
              "      <th>WindAbove8mph</th>\n",
              "      <td>False</td>\n",
              "    </tr>\n",
              "    <tr>\n",
              "      <th>annual</th>\n",
              "      <td>1.60822</td>\n",
              "    </tr>\n",
              "    <tr>\n",
              "      <th>AvgPast6DayCount</th>\n",
              "      <td>3542.33</td>\n",
              "    </tr>\n",
              "    <tr>\n",
              "      <th>AvgPast6DayTempMin</th>\n",
              "      <td>9.05</td>\n",
              "    </tr>\n",
              "    <tr>\n",
              "      <th>AvgPast6DayTempMax</th>\n",
              "      <td>15.6333</td>\n",
              "    </tr>\n",
              "    <tr>\n",
              "      <th>Avg3PastDayMAXTemp</th>\n",
              "      <td>2.24</td>\n",
              "    </tr>\n",
              "    <tr>\n",
              "      <th>Avg3PastDayMAXCount</th>\n",
              "      <td>1486.12</td>\n",
              "    </tr>\n",
              "    <tr>\n",
              "      <th>Avg3PastDayMINTemp</th>\n",
              "      <td>1.05</td>\n",
              "    </tr>\n",
              "    <tr>\n",
              "      <th>Avg3PastDayMINCount</th>\n",
              "      <td>1876.8</td>\n",
              "    </tr>\n",
              "  </tbody>\n",
              "</table>\n",
              "</div>"
            ],
            "text/plain": [
              "                         2014-05-14\n",
              "PRCP                              0\n",
              "SNOW                              0\n",
              "SNWD                              0\n",
              "TMAX                           27.8\n",
              "TMIN                           13.3\n",
              "AWND                         7.3821\n",
              "Total_yesterday                6088\n",
              "Mon                               0\n",
              "Tue                               0\n",
              "Wed                               1\n",
              "Thu                               0\n",
              "Fri                               0\n",
              "Sat                               0\n",
              "Sun                               0\n",
              "IsWeekday                      True\n",
              "Month                             5\n",
              "Day                              14\n",
              "IsWinter                      False\n",
              "NearPopRidership               True\n",
              "daylight_hrs                14.8481\n",
              "TMINear13                      True\n",
              "TMAXNear28                     True\n",
              "daylight_hrsNear15             True\n",
              "Temp (C)                      20.55\n",
              "PrecipitationAboveHalfin      False\n",
              "dry day                           1\n",
              "WindAbove8mph                 False\n",
              "annual                      1.60822\n",
              "AvgPast6DayCount            3542.33\n",
              "AvgPast6DayTempMin             9.05\n",
              "AvgPast6DayTempMax          15.6333\n",
              "Avg3PastDayMAXTemp             2.24\n",
              "Avg3PastDayMAXCount         1486.12\n",
              "Avg3PastDayMINTemp             1.05\n",
              "Avg3PastDayMINCount          1876.8"
            ]
          },
          "metadata": {
            "tags": []
          },
          "execution_count": 62
        }
      ]
    },
    {
      "cell_type": "code",
      "metadata": {
        "id": "2d6SaaqXHqd2",
        "colab_type": "code",
        "outputId": "0b112144-c147-4aad-8ad9-1e9a19a5880b",
        "colab": {
          "base_uri": "https://localhost:8080/",
          "height": 89
        }
      },
      "source": [
        "# X_train.nlargest(3, X_train.Total_yesterday)\n",
        "X_train.apply(lambda s: s.abs()).max().nlargest(3)"
      ],
      "execution_count": 63,
      "outputs": [
        {
          "output_type": "execute_result",
          "data": {
            "text/plain": [
              "SNOW                9999.0\n",
              "Total_yesterday     6088.0\n",
              "AvgPast6DayCount    5137.5\n",
              "dtype: float64"
            ]
          },
          "metadata": {
            "tags": []
          },
          "execution_count": 63
        }
      ]
    },
    {
      "cell_type": "code",
      "metadata": {
        "id": "DenYRZbmJkTU",
        "colab_type": "code",
        "outputId": "0fcdab69-9e8e-4516-e888-2c52ccef08c4",
        "colab": {
          "base_uri": "https://localhost:8080/",
          "height": 564
        }
      },
      "source": [
        "X_train.sort_values(by = 'Total_yesterday', ascending = False)[:10]\n"
      ],
      "execution_count": 64,
      "outputs": [
        {
          "output_type": "execute_result",
          "data": {
            "text/html": [
              "<div>\n",
              "<style scoped>\n",
              "    .dataframe tbody tr th:only-of-type {\n",
              "        vertical-align: middle;\n",
              "    }\n",
              "\n",
              "    .dataframe tbody tr th {\n",
              "        vertical-align: top;\n",
              "    }\n",
              "\n",
              "    .dataframe thead th {\n",
              "        text-align: right;\n",
              "    }\n",
              "</style>\n",
              "<table border=\"1\" class=\"dataframe\">\n",
              "  <thead>\n",
              "    <tr style=\"text-align: right;\">\n",
              "      <th></th>\n",
              "      <th>PRCP</th>\n",
              "      <th>SNOW</th>\n",
              "      <th>SNWD</th>\n",
              "      <th>TMAX</th>\n",
              "      <th>TMIN</th>\n",
              "      <th>AWND</th>\n",
              "      <th>Total_yesterday</th>\n",
              "      <th>Mon</th>\n",
              "      <th>Tue</th>\n",
              "      <th>Wed</th>\n",
              "      <th>Thu</th>\n",
              "      <th>Fri</th>\n",
              "      <th>Sat</th>\n",
              "      <th>Sun</th>\n",
              "      <th>IsWeekday</th>\n",
              "      <th>Month</th>\n",
              "      <th>Day</th>\n",
              "      <th>IsWinter</th>\n",
              "      <th>NearPopRidership</th>\n",
              "      <th>daylight_hrs</th>\n",
              "      <th>TMINear13</th>\n",
              "      <th>TMAXNear28</th>\n",
              "      <th>daylight_hrsNear15</th>\n",
              "      <th>Temp (C)</th>\n",
              "      <th>PrecipitationAboveHalfin</th>\n",
              "      <th>dry day</th>\n",
              "      <th>WindAbove8mph</th>\n",
              "      <th>annual</th>\n",
              "      <th>AvgPast6DayCount</th>\n",
              "      <th>AvgPast6DayTempMin</th>\n",
              "      <th>AvgPast6DayTempMax</th>\n",
              "      <th>Avg3PastDayMAXTemp</th>\n",
              "      <th>Avg3PastDayMAXCount</th>\n",
              "      <th>Avg3PastDayMINTemp</th>\n",
              "      <th>Avg3PastDayMINCount</th>\n",
              "    </tr>\n",
              "  </thead>\n",
              "  <tbody>\n",
              "    <tr>\n",
              "      <th>2014-05-14</th>\n",
              "      <td>0.00000</td>\n",
              "      <td>0</td>\n",
              "      <td>0</td>\n",
              "      <td>27.8</td>\n",
              "      <td>13.3</td>\n",
              "      <td>7.3821</td>\n",
              "      <td>6088.0</td>\n",
              "      <td>0.0</td>\n",
              "      <td>0.0</td>\n",
              "      <td>1.0</td>\n",
              "      <td>0.0</td>\n",
              "      <td>0.0</td>\n",
              "      <td>0.0</td>\n",
              "      <td>0.0</td>\n",
              "      <td>True</td>\n",
              "      <td>5</td>\n",
              "      <td>14</td>\n",
              "      <td>False</td>\n",
              "      <td>True</td>\n",
              "      <td>14.848126</td>\n",
              "      <td>True</td>\n",
              "      <td>True</td>\n",
              "      <td>True</td>\n",
              "      <td>20.55</td>\n",
              "      <td>False</td>\n",
              "      <td>1</td>\n",
              "      <td>False</td>\n",
              "      <td>1.608219</td>\n",
              "      <td>3542.333333</td>\n",
              "      <td>9.050000</td>\n",
              "      <td>15.633333</td>\n",
              "      <td>2.24</td>\n",
              "      <td>1486.125</td>\n",
              "      <td>1.05</td>\n",
              "      <td>1876.8</td>\n",
              "    </tr>\n",
              "    <tr>\n",
              "      <th>2014-05-02</th>\n",
              "      <td>0.00000</td>\n",
              "      <td>0</td>\n",
              "      <td>0</td>\n",
              "      <td>18.3</td>\n",
              "      <td>10.6</td>\n",
              "      <td>10.5139</td>\n",
              "      <td>5937.0</td>\n",
              "      <td>0.0</td>\n",
              "      <td>0.0</td>\n",
              "      <td>0.0</td>\n",
              "      <td>0.0</td>\n",
              "      <td>1.0</td>\n",
              "      <td>0.0</td>\n",
              "      <td>0.0</td>\n",
              "      <td>True</td>\n",
              "      <td>5</td>\n",
              "      <td>2</td>\n",
              "      <td>False</td>\n",
              "      <td>False</td>\n",
              "      <td>14.279617</td>\n",
              "      <td>True</td>\n",
              "      <td>False</td>\n",
              "      <td>True</td>\n",
              "      <td>14.45</td>\n",
              "      <td>False</td>\n",
              "      <td>1</td>\n",
              "      <td>True</td>\n",
              "      <td>1.575342</td>\n",
              "      <td>3395.500000</td>\n",
              "      <td>7.666667</td>\n",
              "      <td>16.383333</td>\n",
              "      <td>2.24</td>\n",
              "      <td>1486.125</td>\n",
              "      <td>1.05</td>\n",
              "      <td>1876.8</td>\n",
              "    </tr>\n",
              "    <tr>\n",
              "      <th>2014-05-15</th>\n",
              "      <td>0.00000</td>\n",
              "      <td>0</td>\n",
              "      <td>0</td>\n",
              "      <td>26.7</td>\n",
              "      <td>12.8</td>\n",
              "      <td>6.7110</td>\n",
              "      <td>5887.0</td>\n",
              "      <td>0.0</td>\n",
              "      <td>0.0</td>\n",
              "      <td>0.0</td>\n",
              "      <td>1.0</td>\n",
              "      <td>0.0</td>\n",
              "      <td>0.0</td>\n",
              "      <td>0.0</td>\n",
              "      <td>True</td>\n",
              "      <td>5</td>\n",
              "      <td>15</td>\n",
              "      <td>False</td>\n",
              "      <td>True</td>\n",
              "      <td>14.891306</td>\n",
              "      <td>True</td>\n",
              "      <td>True</td>\n",
              "      <td>True</td>\n",
              "      <td>19.75</td>\n",
              "      <td>False</td>\n",
              "      <td>1</td>\n",
              "      <td>False</td>\n",
              "      <td>1.610959</td>\n",
              "      <td>3647.833333</td>\n",
              "      <td>9.700000</td>\n",
              "      <td>16.933333</td>\n",
              "      <td>2.24</td>\n",
              "      <td>1486.125</td>\n",
              "      <td>1.05</td>\n",
              "      <td>1876.8</td>\n",
              "    </tr>\n",
              "    <tr>\n",
              "      <th>2014-05-17</th>\n",
              "      <td>0.00000</td>\n",
              "      <td>0</td>\n",
              "      <td>0</td>\n",
              "      <td>20.0</td>\n",
              "      <td>11.7</td>\n",
              "      <td>7.1584</td>\n",
              "      <td>5742.0</td>\n",
              "      <td>0.0</td>\n",
              "      <td>0.0</td>\n",
              "      <td>0.0</td>\n",
              "      <td>0.0</td>\n",
              "      <td>0.0</td>\n",
              "      <td>1.0</td>\n",
              "      <td>0.0</td>\n",
              "      <td>False</td>\n",
              "      <td>5</td>\n",
              "      <td>17</td>\n",
              "      <td>False</td>\n",
              "      <td>True</td>\n",
              "      <td>14.975401</td>\n",
              "      <td>True</td>\n",
              "      <td>False</td>\n",
              "      <td>True</td>\n",
              "      <td>15.85</td>\n",
              "      <td>False</td>\n",
              "      <td>1</td>\n",
              "      <td>False</td>\n",
              "      <td>1.616438</td>\n",
              "      <td>4468.000000</td>\n",
              "      <td>11.383333</td>\n",
              "      <td>17.500000</td>\n",
              "      <td>2.24</td>\n",
              "      <td>1486.125</td>\n",
              "      <td>1.05</td>\n",
              "      <td>1876.8</td>\n",
              "    </tr>\n",
              "    <tr>\n",
              "      <th>2014-05-21</th>\n",
              "      <td>0.00000</td>\n",
              "      <td>0</td>\n",
              "      <td>0</td>\n",
              "      <td>20.0</td>\n",
              "      <td>10.6</td>\n",
              "      <td>3.8029</td>\n",
              "      <td>5678.0</td>\n",
              "      <td>0.0</td>\n",
              "      <td>0.0</td>\n",
              "      <td>1.0</td>\n",
              "      <td>0.0</td>\n",
              "      <td>0.0</td>\n",
              "      <td>0.0</td>\n",
              "      <td>0.0</td>\n",
              "      <td>True</td>\n",
              "      <td>5</td>\n",
              "      <td>21</td>\n",
              "      <td>False</td>\n",
              "      <td>False</td>\n",
              "      <td>15.133898</td>\n",
              "      <td>True</td>\n",
              "      <td>False</td>\n",
              "      <td>True</td>\n",
              "      <td>15.30</td>\n",
              "      <td>False</td>\n",
              "      <td>1</td>\n",
              "      <td>False</td>\n",
              "      <td>1.627397</td>\n",
              "      <td>4268.166667</td>\n",
              "      <td>11.133333</td>\n",
              "      <td>16.583333</td>\n",
              "      <td>2.24</td>\n",
              "      <td>1486.125</td>\n",
              "      <td>1.05</td>\n",
              "      <td>1876.8</td>\n",
              "    </tr>\n",
              "    <tr>\n",
              "      <th>2014-08-27</th>\n",
              "      <td>0.00000</td>\n",
              "      <td>0</td>\n",
              "      <td>0</td>\n",
              "      <td>28.9</td>\n",
              "      <td>16.1</td>\n",
              "      <td>3.5792</td>\n",
              "      <td>5551.0</td>\n",
              "      <td>0.0</td>\n",
              "      <td>0.0</td>\n",
              "      <td>1.0</td>\n",
              "      <td>0.0</td>\n",
              "      <td>0.0</td>\n",
              "      <td>0.0</td>\n",
              "      <td>0.0</td>\n",
              "      <td>True</td>\n",
              "      <td>8</td>\n",
              "      <td>27</td>\n",
              "      <td>False</td>\n",
              "      <td>False</td>\n",
              "      <td>13.460724</td>\n",
              "      <td>False</td>\n",
              "      <td>True</td>\n",
              "      <td>True</td>\n",
              "      <td>22.50</td>\n",
              "      <td>False</td>\n",
              "      <td>1</td>\n",
              "      <td>False</td>\n",
              "      <td>1.895890</td>\n",
              "      <td>3696.666667</td>\n",
              "      <td>13.600000</td>\n",
              "      <td>20.550000</td>\n",
              "      <td>2.24</td>\n",
              "      <td>1486.125</td>\n",
              "      <td>1.05</td>\n",
              "      <td>1876.8</td>\n",
              "    </tr>\n",
              "    <tr>\n",
              "      <th>2014-05-08</th>\n",
              "      <td>0.53937</td>\n",
              "      <td>0</td>\n",
              "      <td>0</td>\n",
              "      <td>13.9</td>\n",
              "      <td>9.4</td>\n",
              "      <td>7.6058</td>\n",
              "      <td>5455.0</td>\n",
              "      <td>0.0</td>\n",
              "      <td>0.0</td>\n",
              "      <td>0.0</td>\n",
              "      <td>1.0</td>\n",
              "      <td>0.0</td>\n",
              "      <td>0.0</td>\n",
              "      <td>0.0</td>\n",
              "      <td>True</td>\n",
              "      <td>5</td>\n",
              "      <td>8</td>\n",
              "      <td>False</td>\n",
              "      <td>False</td>\n",
              "      <td>14.574602</td>\n",
              "      <td>False</td>\n",
              "      <td>False</td>\n",
              "      <td>True</td>\n",
              "      <td>11.65</td>\n",
              "      <td>True</td>\n",
              "      <td>0</td>\n",
              "      <td>False</td>\n",
              "      <td>1.591781</td>\n",
              "      <td>3376.500000</td>\n",
              "      <td>8.883333</td>\n",
              "      <td>13.166667</td>\n",
              "      <td>2.24</td>\n",
              "      <td>1486.125</td>\n",
              "      <td>1.05</td>\n",
              "      <td>1876.8</td>\n",
              "    </tr>\n",
              "    <tr>\n",
              "      <th>2014-05-13</th>\n",
              "      <td>0.00000</td>\n",
              "      <td>0</td>\n",
              "      <td>0</td>\n",
              "      <td>26.7</td>\n",
              "      <td>12.8</td>\n",
              "      <td>8.5006</td>\n",
              "      <td>5432.0</td>\n",
              "      <td>0.0</td>\n",
              "      <td>1.0</td>\n",
              "      <td>0.0</td>\n",
              "      <td>0.0</td>\n",
              "      <td>0.0</td>\n",
              "      <td>0.0</td>\n",
              "      <td>0.0</td>\n",
              "      <td>True</td>\n",
              "      <td>5</td>\n",
              "      <td>13</td>\n",
              "      <td>False</td>\n",
              "      <td>True</td>\n",
              "      <td>14.804222</td>\n",
              "      <td>True</td>\n",
              "      <td>True</td>\n",
              "      <td>True</td>\n",
              "      <td>19.75</td>\n",
              "      <td>False</td>\n",
              "      <td>1</td>\n",
              "      <td>True</td>\n",
              "      <td>1.605479</td>\n",
              "      <td>3409.666667</td>\n",
              "      <td>8.116667</td>\n",
              "      <td>13.783333</td>\n",
              "      <td>2.24</td>\n",
              "      <td>1486.125</td>\n",
              "      <td>1.05</td>\n",
              "      <td>1876.8</td>\n",
              "    </tr>\n",
              "    <tr>\n",
              "      <th>2014-05-16</th>\n",
              "      <td>0.00000</td>\n",
              "      <td>0</td>\n",
              "      <td>0</td>\n",
              "      <td>20.0</td>\n",
              "      <td>11.7</td>\n",
              "      <td>9.1717</td>\n",
              "      <td>5300.0</td>\n",
              "      <td>0.0</td>\n",
              "      <td>0.0</td>\n",
              "      <td>0.0</td>\n",
              "      <td>0.0</td>\n",
              "      <td>1.0</td>\n",
              "      <td>0.0</td>\n",
              "      <td>0.0</td>\n",
              "      <td>True</td>\n",
              "      <td>5</td>\n",
              "      <td>16</td>\n",
              "      <td>False</td>\n",
              "      <td>True</td>\n",
              "      <td>14.933738</td>\n",
              "      <td>True</td>\n",
              "      <td>False</td>\n",
              "      <td>True</td>\n",
              "      <td>15.85</td>\n",
              "      <td>False</td>\n",
              "      <td>1</td>\n",
              "      <td>True</td>\n",
              "      <td>1.613699</td>\n",
              "      <td>4090.666667</td>\n",
              "      <td>10.633333</td>\n",
              "      <td>17.683333</td>\n",
              "      <td>2.24</td>\n",
              "      <td>1486.125</td>\n",
              "      <td>1.05</td>\n",
              "      <td>1876.8</td>\n",
              "    </tr>\n",
              "    <tr>\n",
              "      <th>2014-07-30</th>\n",
              "      <td>0.00000</td>\n",
              "      <td>0</td>\n",
              "      <td>0</td>\n",
              "      <td>29.4</td>\n",
              "      <td>14.4</td>\n",
              "      <td>7.6058</td>\n",
              "      <td>5248.0</td>\n",
              "      <td>0.0</td>\n",
              "      <td>0.0</td>\n",
              "      <td>1.0</td>\n",
              "      <td>0.0</td>\n",
              "      <td>0.0</td>\n",
              "      <td>0.0</td>\n",
              "      <td>0.0</td>\n",
              "      <td>True</td>\n",
              "      <td>7</td>\n",
              "      <td>30</td>\n",
              "      <td>False</td>\n",
              "      <td>False</td>\n",
              "      <td>14.880580</td>\n",
              "      <td>True</td>\n",
              "      <td>True</td>\n",
              "      <td>True</td>\n",
              "      <td>21.90</td>\n",
              "      <td>False</td>\n",
              "      <td>1</td>\n",
              "      <td>False</td>\n",
              "      <td>1.819178</td>\n",
              "      <td>3199.333333</td>\n",
              "      <td>13.983333</td>\n",
              "      <td>21.200000</td>\n",
              "      <td>2.24</td>\n",
              "      <td>1486.125</td>\n",
              "      <td>1.05</td>\n",
              "      <td>1876.8</td>\n",
              "    </tr>\n",
              "  </tbody>\n",
              "</table>\n",
              "</div>"
            ],
            "text/plain": [
              "               PRCP  SNOW  ...  Avg3PastDayMINTemp  Avg3PastDayMINCount\n",
              "2014-05-14  0.00000     0  ...                1.05               1876.8\n",
              "2014-05-02  0.00000     0  ...                1.05               1876.8\n",
              "2014-05-15  0.00000     0  ...                1.05               1876.8\n",
              "2014-05-17  0.00000     0  ...                1.05               1876.8\n",
              "2014-05-21  0.00000     0  ...                1.05               1876.8\n",
              "2014-08-27  0.00000     0  ...                1.05               1876.8\n",
              "2014-05-08  0.53937     0  ...                1.05               1876.8\n",
              "2014-05-13  0.00000     0  ...                1.05               1876.8\n",
              "2014-05-16  0.00000     0  ...                1.05               1876.8\n",
              "2014-07-30  0.00000     0  ...                1.05               1876.8\n",
              "\n",
              "[10 rows x 35 columns]"
            ]
          },
          "metadata": {
            "tags": []
          },
          "execution_count": 64
        }
      ]
    },
    {
      "cell_type": "code",
      "metadata": {
        "id": "F1Mp79p5dMC4",
        "colab_type": "code",
        "outputId": "c47a0d11-35af-4e10-d204-ba3f1c808180",
        "colab": {
          "base_uri": "https://localhost:8080/",
          "height": 662
        }
      },
      "source": [
        "X_train.dtypes"
      ],
      "execution_count": 65,
      "outputs": [
        {
          "output_type": "execute_result",
          "data": {
            "text/plain": [
              "PRCP                        float64\n",
              "SNOW                          int64\n",
              "SNWD                          int64\n",
              "TMAX                        float64\n",
              "TMIN                        float64\n",
              "AWND                        float64\n",
              "Total_yesterday             float64\n",
              "Mon                         float64\n",
              "Tue                         float64\n",
              "Wed                         float64\n",
              "Thu                         float64\n",
              "Fri                         float64\n",
              "Sat                         float64\n",
              "Sun                         float64\n",
              "IsWeekday                      bool\n",
              "Month                         int64\n",
              "Day                           int64\n",
              "IsWinter                       bool\n",
              "NearPopRidership               bool\n",
              "daylight_hrs                float64\n",
              "TMINear13                      bool\n",
              "TMAXNear28                     bool\n",
              "daylight_hrsNear15             bool\n",
              "Temp (C)                    float64\n",
              "PrecipitationAboveHalfin       bool\n",
              "dry day                       int64\n",
              "WindAbove8mph                  bool\n",
              "annual                      float64\n",
              "AvgPast6DayCount            float64\n",
              "AvgPast6DayTempMin          float64\n",
              "AvgPast6DayTempMax          float64\n",
              "Avg3PastDayMAXTemp          float64\n",
              "Avg3PastDayMAXCount         float64\n",
              "Avg3PastDayMINTemp          float64\n",
              "Avg3PastDayMINCount         float64\n",
              "dtype: object"
            ]
          },
          "metadata": {
            "tags": []
          },
          "execution_count": 65
        }
      ]
    },
    {
      "cell_type": "code",
      "metadata": {
        "id": "IzTll3Sob646",
        "colab_type": "code",
        "outputId": "671b8733-3e85-4350-dfeb-88ed3b76f063",
        "colab": {
          "base_uri": "https://localhost:8080/",
          "height": 314
        }
      },
      "source": [
        "X_train.describe()"
      ],
      "execution_count": 66,
      "outputs": [
        {
          "output_type": "execute_result",
          "data": {
            "text/html": [
              "<div>\n",
              "<style scoped>\n",
              "    .dataframe tbody tr th:only-of-type {\n",
              "        vertical-align: middle;\n",
              "    }\n",
              "\n",
              "    .dataframe tbody tr th {\n",
              "        vertical-align: top;\n",
              "    }\n",
              "\n",
              "    .dataframe thead th {\n",
              "        text-align: right;\n",
              "    }\n",
              "</style>\n",
              "<table border=\"1\" class=\"dataframe\">\n",
              "  <thead>\n",
              "    <tr style=\"text-align: right;\">\n",
              "      <th></th>\n",
              "      <th>PRCP</th>\n",
              "      <th>SNOW</th>\n",
              "      <th>SNWD</th>\n",
              "      <th>TMAX</th>\n",
              "      <th>TMIN</th>\n",
              "      <th>AWND</th>\n",
              "      <th>Total_yesterday</th>\n",
              "      <th>Mon</th>\n",
              "      <th>Tue</th>\n",
              "      <th>Wed</th>\n",
              "      <th>Thu</th>\n",
              "      <th>Fri</th>\n",
              "      <th>Sat</th>\n",
              "      <th>Sun</th>\n",
              "      <th>Month</th>\n",
              "      <th>Day</th>\n",
              "      <th>daylight_hrs</th>\n",
              "      <th>Temp (C)</th>\n",
              "      <th>dry day</th>\n",
              "      <th>annual</th>\n",
              "      <th>AvgPast6DayCount</th>\n",
              "      <th>AvgPast6DayTempMin</th>\n",
              "      <th>AvgPast6DayTempMax</th>\n",
              "      <th>Avg3PastDayMAXTemp</th>\n",
              "      <th>Avg3PastDayMAXCount</th>\n",
              "      <th>Avg3PastDayMINTemp</th>\n",
              "      <th>Avg3PastDayMINCount</th>\n",
              "    </tr>\n",
              "  </thead>\n",
              "  <tbody>\n",
              "    <tr>\n",
              "      <th>count</th>\n",
              "      <td>963.000000</td>\n",
              "      <td>963.000000</td>\n",
              "      <td>963.000000</td>\n",
              "      <td>963.000000</td>\n",
              "      <td>963.000000</td>\n",
              "      <td>963.000000</td>\n",
              "      <td>963.000000</td>\n",
              "      <td>963.000000</td>\n",
              "      <td>963.000000</td>\n",
              "      <td>963.000000</td>\n",
              "      <td>963.000000</td>\n",
              "      <td>963.000000</td>\n",
              "      <td>963.000000</td>\n",
              "      <td>963.000000</td>\n",
              "      <td>963.000000</td>\n",
              "      <td>963.000000</td>\n",
              "      <td>963.000000</td>\n",
              "      <td>963.000000</td>\n",
              "      <td>963.000000</td>\n",
              "      <td>963.000000</td>\n",
              "      <td>957.000000</td>\n",
              "      <td>957.000000</td>\n",
              "      <td>957.000000</td>\n",
              "      <td>9.630000e+02</td>\n",
              "      <td>963.000</td>\n",
              "      <td>9.630000e+02</td>\n",
              "      <td>9.630000e+02</td>\n",
              "    </tr>\n",
              "    <tr>\n",
              "      <th>mean</th>\n",
              "      <td>0.123576</td>\n",
              "      <td>-41.390447</td>\n",
              "      <td>0.109034</td>\n",
              "      <td>15.673209</td>\n",
              "      <td>7.830737</td>\n",
              "      <td>7.133544</td>\n",
              "      <td>2536.141225</td>\n",
              "      <td>0.142264</td>\n",
              "      <td>0.142264</td>\n",
              "      <td>0.142264</td>\n",
              "      <td>0.143302</td>\n",
              "      <td>0.143302</td>\n",
              "      <td>0.143302</td>\n",
              "      <td>0.143302</td>\n",
              "      <td>6.402908</td>\n",
              "      <td>15.669782</td>\n",
              "      <td>11.677381</td>\n",
              "      <td>11.751973</td>\n",
              "      <td>0.554517</td>\n",
              "      <td>1.317808</td>\n",
              "      <td>2530.738419</td>\n",
              "      <td>7.816475</td>\n",
              "      <td>11.727830</td>\n",
              "      <td>2.240000e+00</td>\n",
              "      <td>1486.125</td>\n",
              "      <td>1.050000e+00</td>\n",
              "      <td>1.876800e+03</td>\n",
              "    </tr>\n",
              "    <tr>\n",
              "      <th>std</th>\n",
              "      <td>0.264611</td>\n",
              "      <td>643.435674</td>\n",
              "      <td>2.700110</td>\n",
              "      <td>6.994807</td>\n",
              "      <td>4.914016</td>\n",
              "      <td>3.275810</td>\n",
              "      <td>1224.232861</td>\n",
              "      <td>0.349502</td>\n",
              "      <td>0.349502</td>\n",
              "      <td>0.349502</td>\n",
              "      <td>0.350563</td>\n",
              "      <td>0.350563</td>\n",
              "      <td>0.350563</td>\n",
              "      <td>0.350563</td>\n",
              "      <td>3.631073</td>\n",
              "      <td>8.747378</td>\n",
              "      <td>2.568741</td>\n",
              "      <td>5.756242</td>\n",
              "      <td>0.497277</td>\n",
              "      <td>0.762023</td>\n",
              "      <td>894.949686</td>\n",
              "      <td>4.571007</td>\n",
              "      <td>5.498708</td>\n",
              "      <td>2.665920e-15</td>\n",
              "      <td>0.000</td>\n",
              "      <td>1.866144e-14</td>\n",
              "      <td>3.071140e-11</td>\n",
              "    </tr>\n",
              "    <tr>\n",
              "      <th>min</th>\n",
              "      <td>0.000000</td>\n",
              "      <td>-9999.000000</td>\n",
              "      <td>0.000000</td>\n",
              "      <td>-1.600000</td>\n",
              "      <td>-7.100000</td>\n",
              "      <td>0.894800</td>\n",
              "      <td>98.000000</td>\n",
              "      <td>0.000000</td>\n",
              "      <td>0.000000</td>\n",
              "      <td>0.000000</td>\n",
              "      <td>0.000000</td>\n",
              "      <td>0.000000</td>\n",
              "      <td>0.000000</td>\n",
              "      <td>0.000000</td>\n",
              "      <td>1.000000</td>\n",
              "      <td>1.000000</td>\n",
              "      <td>8.218894</td>\n",
              "      <td>-3.800000</td>\n",
              "      <td>0.000000</td>\n",
              "      <td>0.000000</td>\n",
              "      <td>599.833333</td>\n",
              "      <td>-4.983333</td>\n",
              "      <td>-1.333333</td>\n",
              "      <td>2.240000e+00</td>\n",
              "      <td>1486.125</td>\n",
              "      <td>1.050000e+00</td>\n",
              "      <td>1.876800e+03</td>\n",
              "    </tr>\n",
              "    <tr>\n",
              "      <th>25%</th>\n",
              "      <td>0.000000</td>\n",
              "      <td>0.000000</td>\n",
              "      <td>0.000000</td>\n",
              "      <td>10.600000</td>\n",
              "      <td>4.400000</td>\n",
              "      <td>4.921400</td>\n",
              "      <td>1755.000000</td>\n",
              "      <td>0.000000</td>\n",
              "      <td>0.000000</td>\n",
              "      <td>0.000000</td>\n",
              "      <td>0.000000</td>\n",
              "      <td>0.000000</td>\n",
              "      <td>0.000000</td>\n",
              "      <td>0.000000</td>\n",
              "      <td>3.000000</td>\n",
              "      <td>8.000000</td>\n",
              "      <td>9.206870</td>\n",
              "      <td>7.750000</td>\n",
              "      <td>0.000000</td>\n",
              "      <td>0.658904</td>\n",
              "      <td>1837.333333</td>\n",
              "      <td>4.533333</td>\n",
              "      <td>7.516667</td>\n",
              "      <td>2.240000e+00</td>\n",
              "      <td>1486.125</td>\n",
              "      <td>1.050000e+00</td>\n",
              "      <td>1.876800e+03</td>\n",
              "    </tr>\n",
              "    <tr>\n",
              "      <th>50%</th>\n",
              "      <td>0.000000</td>\n",
              "      <td>0.000000</td>\n",
              "      <td>0.000000</td>\n",
              "      <td>14.400000</td>\n",
              "      <td>7.800000</td>\n",
              "      <td>6.487300</td>\n",
              "      <td>2381.000000</td>\n",
              "      <td>0.000000</td>\n",
              "      <td>0.000000</td>\n",
              "      <td>0.000000</td>\n",
              "      <td>0.000000</td>\n",
              "      <td>0.000000</td>\n",
              "      <td>0.000000</td>\n",
              "      <td>0.000000</td>\n",
              "      <td>6.000000</td>\n",
              "      <td>16.000000</td>\n",
              "      <td>11.364878</td>\n",
              "      <td>10.850000</td>\n",
              "      <td>1.000000</td>\n",
              "      <td>1.317808</td>\n",
              "      <td>2371.000000</td>\n",
              "      <td>7.316667</td>\n",
              "      <td>10.833333</td>\n",
              "      <td>2.240000e+00</td>\n",
              "      <td>1486.125</td>\n",
              "      <td>1.050000e+00</td>\n",
              "      <td>1.876800e+03</td>\n",
              "    </tr>\n",
              "    <tr>\n",
              "      <th>75%</th>\n",
              "      <td>0.129921</td>\n",
              "      <td>0.000000</td>\n",
              "      <td>0.000000</td>\n",
              "      <td>20.600000</td>\n",
              "      <td>11.700000</td>\n",
              "      <td>9.171700</td>\n",
              "      <td>3325.000000</td>\n",
              "      <td>0.000000</td>\n",
              "      <td>0.000000</td>\n",
              "      <td>0.000000</td>\n",
              "      <td>0.000000</td>\n",
              "      <td>0.000000</td>\n",
              "      <td>0.000000</td>\n",
              "      <td>0.000000</td>\n",
              "      <td>10.000000</td>\n",
              "      <td>23.000000</td>\n",
              "      <td>14.118901</td>\n",
              "      <td>16.375000</td>\n",
              "      <td>1.000000</td>\n",
              "      <td>1.976712</td>\n",
              "      <td>3311.833333</td>\n",
              "      <td>11.366667</td>\n",
              "      <td>16.300000</td>\n",
              "      <td>2.240000e+00</td>\n",
              "      <td>1486.125</td>\n",
              "      <td>1.050000e+00</td>\n",
              "      <td>1.876800e+03</td>\n",
              "    </tr>\n",
              "    <tr>\n",
              "      <th>max</th>\n",
              "      <td>2.200787</td>\n",
              "      <td>74.000000</td>\n",
              "      <td>80.000000</td>\n",
              "      <td>35.600000</td>\n",
              "      <td>18.300000</td>\n",
              "      <td>21.251500</td>\n",
              "      <td>6088.000000</td>\n",
              "      <td>1.000000</td>\n",
              "      <td>1.000000</td>\n",
              "      <td>1.000000</td>\n",
              "      <td>1.000000</td>\n",
              "      <td>1.000000</td>\n",
              "      <td>1.000000</td>\n",
              "      <td>1.000000</td>\n",
              "      <td>12.000000</td>\n",
              "      <td>31.000000</td>\n",
              "      <td>15.781095</td>\n",
              "      <td>26.700000</td>\n",
              "      <td>1.000000</td>\n",
              "      <td>2.635616</td>\n",
              "      <td>5137.500000</td>\n",
              "      <td>17.033333</td>\n",
              "      <td>24.166667</td>\n",
              "      <td>2.240000e+00</td>\n",
              "      <td>1486.125</td>\n",
              "      <td>1.050000e+00</td>\n",
              "      <td>1.876800e+03</td>\n",
              "    </tr>\n",
              "  </tbody>\n",
              "</table>\n",
              "</div>"
            ],
            "text/plain": [
              "             PRCP         SNOW  ...  Avg3PastDayMINTemp  Avg3PastDayMINCount\n",
              "count  963.000000   963.000000  ...        9.630000e+02         9.630000e+02\n",
              "mean     0.123576   -41.390447  ...        1.050000e+00         1.876800e+03\n",
              "std      0.264611   643.435674  ...        1.866144e-14         3.071140e-11\n",
              "min      0.000000 -9999.000000  ...        1.050000e+00         1.876800e+03\n",
              "25%      0.000000     0.000000  ...        1.050000e+00         1.876800e+03\n",
              "50%      0.000000     0.000000  ...        1.050000e+00         1.876800e+03\n",
              "75%      0.129921     0.000000  ...        1.050000e+00         1.876800e+03\n",
              "max      2.200787    74.000000  ...        1.050000e+00         1.876800e+03\n",
              "\n",
              "[8 rows x 27 columns]"
            ]
          },
          "metadata": {
            "tags": []
          },
          "execution_count": 66
        }
      ]
    },
    {
      "cell_type": "code",
      "metadata": {
        "id": "dzSYmbWwfoEt",
        "colab_type": "code",
        "outputId": "d0e1ff61-afab-4623-f686-d3c1b7e034ee",
        "colab": {
          "base_uri": "https://localhost:8080/",
          "height": 268
        }
      },
      "source": [
        "X_train_num = X_train.select_dtypes(include=['float64', 'int64'])\n",
        "Riderbymonth = X_train_num.groupby('Month')['Total_yesterday'].mean()\n",
        "Riderbymonth"
      ],
      "execution_count": 67,
      "outputs": [
        {
          "output_type": "execute_result",
          "data": {
            "text/plain": [
              "Month\n",
              "1     1762.698925\n",
              "2     1836.869048\n",
              "3     2145.290323\n",
              "4     2646.600000\n",
              "5     3640.476744\n",
              "6     3499.016667\n",
              "7     3826.354839\n",
              "8     3578.774194\n",
              "9     2942.966667\n",
              "10    2553.677778\n",
              "11    1890.888889\n",
              "12    1372.483871\n",
              "Name: Total_yesterday, dtype: float64"
            ]
          },
          "metadata": {
            "tags": []
          },
          "execution_count": 67
        }
      ]
    },
    {
      "cell_type": "code",
      "metadata": {
        "id": "ybW4mGnqjoP8",
        "colab_type": "code",
        "outputId": "b6abb5e3-9840-4e9c-a80a-fe5ca180eb43",
        "colab": {
          "base_uri": "https://localhost:8080/",
          "height": 301
        }
      },
      "source": [
        "Riderbymonth.plot()"
      ],
      "execution_count": 68,
      "outputs": [
        {
          "output_type": "execute_result",
          "data": {
            "text/plain": [
              "<matplotlib.axes._subplots.AxesSubplot at 0x7fda63d92438>"
            ]
          },
          "metadata": {
            "tags": []
          },
          "execution_count": 68
        },
        {
          "output_type": "display_data",
          "data": {
            "image/png": "[encoded data removed]",
            "text/plain": [
              "<Figure size 432x288 with 1 Axes>"
            ]
          },
          "metadata": {
            "tags": []
          }
        }
      ]
    },
    {
      "cell_type": "code",
      "metadata": {
        "id": "h5Bh7xSdj3hx",
        "colab_type": "code",
        "outputId": "e55a7443-d6cc-4f92-91ed-0e9257e1f454",
        "colab": {
          "base_uri": "https://localhost:8080/",
          "height": 301
        }
      },
      "source": [
        "windbymonth = X_train_num.groupby('AWND')['Total_yesterday'].mean()\n",
        "windbymonth.plot()"
      ],
      "execution_count": 69,
      "outputs": [
        {
          "output_type": "execute_result",
          "data": {
            "text/plain": [
              "<matplotlib.axes._subplots.AxesSubplot at 0x7fda7075f390>"
            ]
          },
          "metadata": {
            "tags": []
          },
          "execution_count": 69
        },
        {
          "output_type": "display_data",
          "data": {
            "image/png": "[encoded data removed]",
            "text/plain": [
              "<Figure size 432x288 with 1 Axes>"
            ]
          },
          "metadata": {
            "tags": []
          }
        }
      ]
    },
    {
      "cell_type": "code",
      "metadata": {
        "id": "Hxbp-1vAkf6j",
        "colab_type": "code",
        "outputId": "2f97b078-edc7-4366-9346-455b16be02fe",
        "colab": {
          "base_uri": "https://localhost:8080/",
          "height": 302
        }
      },
      "source": [
        "lightbymonth = X_train_num.groupby('daylight_hrs')['Total_yesterday'].mean()\n",
        "lightbymonth.plot()\n"
      ],
      "execution_count": 70,
      "outputs": [
        {
          "output_type": "execute_result",
          "data": {
            "text/plain": [
              "<matplotlib.axes._subplots.AxesSubplot at 0x7fda618e74a8>"
            ]
          },
          "metadata": {
            "tags": []
          },
          "execution_count": 70
        },
        {
          "output_type": "display_data",
          "data": {
            "image/png": "[encoded data removed]",
            "text/plain": [
              "<Figure size 432x288 with 1 Axes>"
            ]
          },
          "metadata": {
            "tags": []
          }
        }
      ]
    },
    {
      "cell_type": "code",
      "metadata": {
        "id": "0AQl4jVdlAzq",
        "colab_type": "code",
        "outputId": "b32205b3-881c-45a2-c297-eb437944e362",
        "colab": {
          "base_uri": "https://localhost:8080/",
          "height": 301
        }
      },
      "source": [
        "Tbymonth = X_train_num.groupby('Temp (C)')['Total_yesterday'].mean()\n",
        "Tbymonth.plot()"
      ],
      "execution_count": 71,
      "outputs": [
        {
          "output_type": "execute_result",
          "data": {
            "text/plain": [
              "<matplotlib.axes._subplots.AxesSubplot at 0x7fda61806a20>"
            ]
          },
          "metadata": {
            "tags": []
          },
          "execution_count": 71
        },
        {
          "output_type": "display_data",
          "data": {
            "image/png": "[encoded data removed]",
            "text/plain": [
              "<Figure size 432x288 with 1 Axes>"
            ]
          },
          "metadata": {
            "tags": []
          }
        }
      ]
    },
    {
      "cell_type": "code",
      "metadata": {
        "id": "Wv3IvQdiqQ7g",
        "colab_type": "code",
        "colab": {}
      },
      "source": [
        "# sns.pairplot(X_train)"
      ],
      "execution_count": 0,
      "outputs": []
    },
    {
      "cell_type": "code",
      "metadata": {
        "id": "yZtKjwQeIUw7",
        "colab_type": "code",
        "outputId": "73bc7caf-cfd4-4f51-ad71-47a800a34704",
        "colab": {
          "base_uri": "https://localhost:8080/",
          "height": 268
        }
      },
      "source": [
        "grouped = X_train.groupby([\"Month\"])\n",
        "grouped['Total_yesterday'].agg(np.mean)\n",
        "# x=pd.DataFrame(X_train.reset_index()).T\n",
        "# for i in x.columns:\n",
        "#     df1row = pd.DataFrame(x.nlargest(3, i).index.tolist(), index=['top1','top2','top3']).T\n",
        "#     rslt = pd.concat([rslt, df1row], axis=0)\n",
        "\n",
        "# print(rslt)"
      ],
      "execution_count": 74,
      "outputs": [
        {
          "output_type": "execute_result",
          "data": {
            "text/plain": [
              "Month\n",
              "1     1762.698925\n",
              "2     1836.869048\n",
              "3     2145.290323\n",
              "4     2646.600000\n",
              "5     3640.476744\n",
              "6     3499.016667\n",
              "7     3826.354839\n",
              "8     3578.774194\n",
              "9     2942.966667\n",
              "10    2553.677778\n",
              "11    1890.888889\n",
              "12    1372.483871\n",
              "Name: Total_yesterday, dtype: float64"
            ]
          },
          "metadata": {
            "tags": []
          },
          "execution_count": 74
        }
      ]
    },
    {
      "cell_type": "code",
      "metadata": {
        "id": "N5PyebIj_ob7",
        "colab_type": "code",
        "outputId": "b08244b5-551a-4053-e997-5c068c37719d",
        "colab": {
          "base_uri": "https://localhost:8080/",
          "height": 662
        }
      },
      "source": [
        "# X_train.apply(X_train['Total_yesterday']).sort_values()\n",
        "X_train.loc[X_train['Total_yesterday'].idxmax()]\n",
        "# X_train.groupby(\"Total_yesterday\").apply(lambda X_train:X_train.Total_yesterday(X_train.value.argmax()))"
      ],
      "execution_count": 75,
      "outputs": [
        {
          "output_type": "execute_result",
          "data": {
            "text/plain": [
              "PRCP                              0\n",
              "SNOW                              0\n",
              "SNWD                              0\n",
              "TMAX                           27.8\n",
              "TMIN                           13.3\n",
              "AWND                         7.3821\n",
              "Total_yesterday                6088\n",
              "Mon                               0\n",
              "Tue                               0\n",
              "Wed                               1\n",
              "Thu                               0\n",
              "Fri                               0\n",
              "Sat                               0\n",
              "Sun                               0\n",
              "IsWeekday                      True\n",
              "Month                             5\n",
              "Day                              14\n",
              "IsWinter                      False\n",
              "NearPopRidership               True\n",
              "daylight_hrs                14.8481\n",
              "TMINear13                      True\n",
              "TMAXNear28                     True\n",
              "daylight_hrsNear15             True\n",
              "Temp (C)                      20.55\n",
              "PrecipitationAboveHalfin      False\n",
              "dry day                           1\n",
              "WindAbove8mph                 False\n",
              "annual                      1.60822\n",
              "AvgPast6DayCount            3542.33\n",
              "AvgPast6DayTempMin             9.05\n",
              "AvgPast6DayTempMax          15.6333\n",
              "Avg3PastDayMAXTemp             2.24\n",
              "Avg3PastDayMAXCount         1486.12\n",
              "Avg3PastDayMINTemp             1.05\n",
              "Avg3PastDayMINCount          1876.8\n",
              "Name: 2014-05-14 00:00:00, dtype: object"
            ]
          },
          "metadata": {
            "tags": []
          },
          "execution_count": 75
        }
      ]
    },
    {
      "cell_type": "code",
      "metadata": {
        "id": "AKxB8_b87rTP",
        "colab_type": "code",
        "colab": {}
      },
      "source": [
        "X_train = X_train.fillna(X_train.mean())"
      ],
      "execution_count": 0,
      "outputs": []
    },
    {
      "cell_type": "code",
      "metadata": {
        "id": "WpS5J56S98aZ",
        "colab_type": "code",
        "colab": {}
      },
      "source": [
        "# X_train = X_train.dropna()"
      ],
      "execution_count": 0,
      "outputs": []
    },
    {
      "cell_type": "code",
      "metadata": {
        "id": "jopLTqFDIkuU",
        "colab_type": "code",
        "colab": {}
      },
      "source": [
        "# import datetime \n",
        "# DOY = X_train.index.values\n",
        "# DOY = pd.to_datetime(DOY)\n",
        "# Y = DOY.year\n",
        "# X_train.loc[datetime.date(year=Y,month=12,day=21):datetime.date(year=Y,month=3,day=19)]"
      ],
      "execution_count": 0,
      "outputs": []
    },
    {
      "cell_type": "code",
      "metadata": {
        "id": "YP9WneSRKwyN",
        "colab_type": "code",
        "outputId": "33325939-8098-4970-c786-91b66541c7cb",
        "colab": {
          "base_uri": "https://localhost:8080/",
          "height": 35
        }
      },
      "source": [
        "NewDFNearestTmax = X_train.iloc[(X_train['TMAX']-1).abs().argsort()[:3]]\n",
        "NewDFNearestTmax['TMAX'].mean()"
      ],
      "execution_count": 79,
      "outputs": [
        {
          "output_type": "execute_result",
          "data": {
            "text/plain": [
              "1.1"
            ]
          },
          "metadata": {
            "tags": []
          },
          "execution_count": 79
        }
      ]
    },
    {
      "cell_type": "code",
      "metadata": {
        "id": "FfdscVk2W74W",
        "colab_type": "code",
        "colab": {}
      },
      "source": [
        "# X_train['d'] = X_train.index.values"
      ],
      "execution_count": 0,
      "outputs": []
    },
    {
      "cell_type": "code",
      "metadata": {
        "id": "rPQFZ6JCXEd6",
        "colab_type": "code",
        "colab": {}
      },
      "source": [
        "# import datetime \n",
        "# DOY = X_train.index.values\n",
        "# DOY = pd.to_datetime(DOY)\n",
        "# Y = DOY.year\n",
        "# X_train[(X_train['d']>datetime.date(Y,1,1)) & (X_train['d']<datetime.date(Y,3,1))] "
      ],
      "execution_count": 0,
      "outputs": []
    },
    {
      "cell_type": "code",
      "metadata": {
        "id": "dkJFTh7L2PI1",
        "colab_type": "code",
        "colab": {}
      },
      "source": [
        "X_train['year'] = X_train.index.year"
      ],
      "execution_count": 0,
      "outputs": []
    },
    {
      "cell_type": "code",
      "metadata": {
        "id": "L8W9QlCF2cVM",
        "colab_type": "code",
        "colab": {}
      },
      "source": [
        "X_train['month'] = X_train.index.month"
      ],
      "execution_count": 0,
      "outputs": []
    },
    {
      "cell_type": "code",
      "metadata": {
        "id": "u_dRxXSN2y9w",
        "colab_type": "code",
        "outputId": "0ed27510-d4ff-4a00-83b9-c14fe82a3fb2",
        "colab": {
          "base_uri": "https://localhost:8080/",
          "height": 229
        }
      },
      "source": [
        "X_train.head(3)"
      ],
      "execution_count": 84,
      "outputs": [
        {
          "output_type": "execute_result",
          "data": {
            "text/html": [
              "<div>\n",
              "<style scoped>\n",
              "    .dataframe tbody tr th:only-of-type {\n",
              "        vertical-align: middle;\n",
              "    }\n",
              "\n",
              "    .dataframe tbody tr th {\n",
              "        vertical-align: top;\n",
              "    }\n",
              "\n",
              "    .dataframe thead th {\n",
              "        text-align: right;\n",
              "    }\n",
              "</style>\n",
              "<table border=\"1\" class=\"dataframe\">\n",
              "  <thead>\n",
              "    <tr style=\"text-align: right;\">\n",
              "      <th></th>\n",
              "      <th>PRCP</th>\n",
              "      <th>SNOW</th>\n",
              "      <th>SNWD</th>\n",
              "      <th>TMAX</th>\n",
              "      <th>TMIN</th>\n",
              "      <th>AWND</th>\n",
              "      <th>Total_yesterday</th>\n",
              "      <th>Mon</th>\n",
              "      <th>Tue</th>\n",
              "      <th>Wed</th>\n",
              "      <th>Thu</th>\n",
              "      <th>Fri</th>\n",
              "      <th>Sat</th>\n",
              "      <th>Sun</th>\n",
              "      <th>IsWeekday</th>\n",
              "      <th>Month</th>\n",
              "      <th>Day</th>\n",
              "      <th>IsWinter</th>\n",
              "      <th>NearPopRidership</th>\n",
              "      <th>daylight_hrs</th>\n",
              "      <th>TMINear13</th>\n",
              "      <th>TMAXNear28</th>\n",
              "      <th>daylight_hrsNear15</th>\n",
              "      <th>Temp (C)</th>\n",
              "      <th>PrecipitationAboveHalfin</th>\n",
              "      <th>dry day</th>\n",
              "      <th>WindAbove8mph</th>\n",
              "      <th>annual</th>\n",
              "      <th>AvgPast6DayCount</th>\n",
              "      <th>AvgPast6DayTempMin</th>\n",
              "      <th>AvgPast6DayTempMax</th>\n",
              "      <th>Avg3PastDayMAXTemp</th>\n",
              "      <th>Avg3PastDayMAXCount</th>\n",
              "      <th>Avg3PastDayMINTemp</th>\n",
              "      <th>Avg3PastDayMINCount</th>\n",
              "      <th>year</th>\n",
              "      <th>month</th>\n",
              "    </tr>\n",
              "  </thead>\n",
              "  <tbody>\n",
              "    <tr>\n",
              "      <th>2012-10-04</th>\n",
              "      <td>0.0</td>\n",
              "      <td>0</td>\n",
              "      <td>0</td>\n",
              "      <td>18.9</td>\n",
              "      <td>8.3</td>\n",
              "      <td>14.5405</td>\n",
              "      <td>3521.0</td>\n",
              "      <td>0.0</td>\n",
              "      <td>0.0</td>\n",
              "      <td>0.0</td>\n",
              "      <td>1.0</td>\n",
              "      <td>0.0</td>\n",
              "      <td>0.0</td>\n",
              "      <td>0.0</td>\n",
              "      <td>True</td>\n",
              "      <td>10</td>\n",
              "      <td>4</td>\n",
              "      <td>False</td>\n",
              "      <td>False</td>\n",
              "      <td>11.219142</td>\n",
              "      <td>False</td>\n",
              "      <td>False</td>\n",
              "      <td>False</td>\n",
              "      <td>13.60</td>\n",
              "      <td>False</td>\n",
              "      <td>1</td>\n",
              "      <td>True</td>\n",
              "      <td>0.000000</td>\n",
              "      <td>2530.738419</td>\n",
              "      <td>7.816475</td>\n",
              "      <td>11.72783</td>\n",
              "      <td>2.24</td>\n",
              "      <td>1486.125</td>\n",
              "      <td>1.05</td>\n",
              "      <td>1876.8</td>\n",
              "      <td>2012</td>\n",
              "      <td>10</td>\n",
              "    </tr>\n",
              "    <tr>\n",
              "      <th>2012-10-05</th>\n",
              "      <td>0.0</td>\n",
              "      <td>0</td>\n",
              "      <td>0</td>\n",
              "      <td>21.7</td>\n",
              "      <td>8.9</td>\n",
              "      <td>12.7509</td>\n",
              "      <td>3475.0</td>\n",
              "      <td>0.0</td>\n",
              "      <td>0.0</td>\n",
              "      <td>0.0</td>\n",
              "      <td>0.0</td>\n",
              "      <td>1.0</td>\n",
              "      <td>0.0</td>\n",
              "      <td>0.0</td>\n",
              "      <td>True</td>\n",
              "      <td>10</td>\n",
              "      <td>5</td>\n",
              "      <td>False</td>\n",
              "      <td>False</td>\n",
              "      <td>11.161038</td>\n",
              "      <td>False</td>\n",
              "      <td>False</td>\n",
              "      <td>False</td>\n",
              "      <td>15.30</td>\n",
              "      <td>False</td>\n",
              "      <td>1</td>\n",
              "      <td>True</td>\n",
              "      <td>0.002740</td>\n",
              "      <td>2530.738419</td>\n",
              "      <td>7.816475</td>\n",
              "      <td>11.72783</td>\n",
              "      <td>2.24</td>\n",
              "      <td>1486.125</td>\n",
              "      <td>1.05</td>\n",
              "      <td>1876.8</td>\n",
              "      <td>2012</td>\n",
              "      <td>10</td>\n",
              "    </tr>\n",
              "    <tr>\n",
              "      <th>2012-10-06</th>\n",
              "      <td>0.0</td>\n",
              "      <td>0</td>\n",
              "      <td>0</td>\n",
              "      <td>23.9</td>\n",
              "      <td>7.8</td>\n",
              "      <td>11.4087</td>\n",
              "      <td>3148.0</td>\n",
              "      <td>0.0</td>\n",
              "      <td>0.0</td>\n",
              "      <td>0.0</td>\n",
              "      <td>0.0</td>\n",
              "      <td>0.0</td>\n",
              "      <td>1.0</td>\n",
              "      <td>0.0</td>\n",
              "      <td>False</td>\n",
              "      <td>10</td>\n",
              "      <td>6</td>\n",
              "      <td>False</td>\n",
              "      <td>False</td>\n",
              "      <td>11.103056</td>\n",
              "      <td>False</td>\n",
              "      <td>False</td>\n",
              "      <td>False</td>\n",
              "      <td>15.85</td>\n",
              "      <td>False</td>\n",
              "      <td>1</td>\n",
              "      <td>True</td>\n",
              "      <td>0.005479</td>\n",
              "      <td>2530.738419</td>\n",
              "      <td>7.816475</td>\n",
              "      <td>11.72783</td>\n",
              "      <td>2.24</td>\n",
              "      <td>1486.125</td>\n",
              "      <td>1.05</td>\n",
              "      <td>1876.8</td>\n",
              "      <td>2012</td>\n",
              "      <td>10</td>\n",
              "    </tr>\n",
              "  </tbody>\n",
              "</table>\n",
              "</div>"
            ],
            "text/plain": [
              "            PRCP  SNOW  SNWD  ...  Avg3PastDayMINCount  year  month\n",
              "2012-10-04   0.0     0     0  ...               1876.8  2012     10\n",
              "2012-10-05   0.0     0     0  ...               1876.8  2012     10\n",
              "2012-10-06   0.0     0     0  ...               1876.8  2012     10\n",
              "\n",
              "[3 rows x 37 columns]"
            ]
          },
          "metadata": {
            "tags": []
          },
          "execution_count": 84
        }
      ]
    },
    {
      "cell_type": "code",
      "metadata": {
        "id": "8kefvvKr2OYR",
        "colab_type": "code",
        "colab": {}
      },
      "source": [
        "# pd.cut(orders_with_hour_of_day['order_hour_of_day'],bins=24)"
      ],
      "execution_count": 0,
      "outputs": []
    },
    {
      "cell_type": "code",
      "metadata": {
        "id": "cgI7xPSEfO_m",
        "colab_type": "code",
        "outputId": "7f7f4d86-4593-4aa6-f72e-168f6d638322",
        "colab": {
          "base_uri": "https://localhost:8080/",
          "height": 160
        }
      },
      "source": [
        "X_train.index - timedelta(1)"
      ],
      "execution_count": 86,
      "outputs": [
        {
          "output_type": "execute_result",
          "data": {
            "text/plain": [
              "DatetimeIndex(['2012-10-03', '2012-10-04', '2012-10-05', '2012-10-06',\n",
              "               '2012-10-07', '2012-10-08', '2012-10-09', '2012-10-10',\n",
              "               '2012-10-11', '2012-10-12',\n",
              "               ...\n",
              "               '2015-05-14', '2015-05-15', '2015-05-16', '2015-05-17',\n",
              "               '2015-05-18', '2015-05-19', '2015-05-20', '2015-05-21',\n",
              "               '2015-05-22', '2015-05-23'],\n",
              "              dtype='datetime64[ns]', length=963, freq='D')"
            ]
          },
          "metadata": {
            "tags": []
          },
          "execution_count": 86
        }
      ]
    },
    {
      "cell_type": "code",
      "metadata": {
        "id": "R7_I-KRGfK_v",
        "colab_type": "code",
        "outputId": "1e444cfd-e276-4565-b827-3533601a98ca",
        "colab": {
          "base_uri": "https://localhost:8080/",
          "height": 35
        }
      },
      "source": [
        "type(X_train.index)"
      ],
      "execution_count": 87,
      "outputs": [
        {
          "output_type": "execute_result",
          "data": {
            "text/plain": [
              "pandas.core.indexes.datetimes.DatetimeIndex"
            ]
          },
          "metadata": {
            "tags": []
          },
          "execution_count": 87
        }
      ]
    },
    {
      "cell_type": "code",
      "metadata": {
        "id": "jAu5noWjhNxH",
        "colab_type": "code",
        "colab": {}
      },
      "source": [
        "# springsol = \n",
        "\n",
        "# test = X_train[X_train.index.to_pydatetime() < datetime.datetime(2015,3,21)]\n",
        "# test"
      ],
      "execution_count": 0,
      "outputs": []
    },
    {
      "cell_type": "code",
      "metadata": {
        "id": "gjF8lTRfnc4i",
        "colab_type": "code",
        "colab": {}
      },
      "source": [
        "# X_train.index.values.strftime(\"%Y\")"
      ],
      "execution_count": 0,
      "outputs": []
    },
    {
      "cell_type": "code",
      "metadata": {
        "id": "TCvk75Tsnc15",
        "colab_type": "code",
        "colab": {}
      },
      "source": [
        "# uniqueyear = X_train.index.year.unique()\n",
        "# for eachyear in uniqueyear:\n",
        "#   fo\n",
        "#   test = X_train[X_train.index.to_pydatetime() < datetime.datetime(i,3,21)]\n"
      ],
      "execution_count": 0,
      "outputs": []
    },
    {
      "cell_type": "code",
      "metadata": {
        "id": "SCexCvJGrstA",
        "colab_type": "code",
        "outputId": "8913e5aa-8ea9-4fb1-8e20-fbcc96e915f0",
        "colab": {
          "base_uri": "https://localhost:8080/",
          "height": 35
        }
      },
      "source": [
        "test.shape"
      ],
      "execution_count": 90,
      "outputs": [
        {
          "output_type": "execute_result",
          "data": {
            "text/plain": [
              "(100, 8)"
            ]
          },
          "metadata": {
            "tags": []
          },
          "execution_count": 90
        }
      ]
    },
    {
      "cell_type": "code",
      "metadata": {
        "id": "Xor3MgjvjZpx",
        "colab_type": "code",
        "colab": {}
      },
      "source": [
        "# X_train['r'] = X_train[X_train.index.to_pydatetime() < datetime.datetime(2015,1,1)]"
      ],
      "execution_count": 0,
      "outputs": []
    },
    {
      "cell_type": "code",
      "metadata": {
        "id": "NEbKn4gWhjEq",
        "colab_type": "code",
        "colab": {}
      },
      "source": [
        "X_train['r'] = X_train.index.month < 3 \n",
        "X_train['r'] = X_train.index.month > 12"
      ],
      "execution_count": 0,
      "outputs": []
    },
    {
      "cell_type": "code",
      "metadata": {
        "id": "ptpLMjwKk5fx",
        "colab_type": "code",
        "colab": {}
      },
      "source": [
        "# s = X_train.index.values\n",
        "# X_tr = s.pd.to_datetime()\n"
      ],
      "execution_count": 0,
      "outputs": []
    },
    {
      "cell_type": "code",
      "metadata": {
        "id": "6hE0aFsJiFIL",
        "colab_type": "code",
        "colab": {}
      },
      "source": [
        "# |X_train.head(1)"
      ],
      "execution_count": 0,
      "outputs": []
    },
    {
      "cell_type": "code",
      "metadata": {
        "id": "1bAKH_iucv5N",
        "colab_type": "code",
        "colab": {}
      },
      "source": [
        "\n",
        "# X_train = pd.Timestamp.now()\n",
        "# X_train.to_pydatetime()\n",
        "# X_train.year"
      ],
      "execution_count": 0,
      "outputs": []
    },
    {
      "cell_type": "code",
      "metadata": {
        "id": "XQwYdVirdP1n",
        "colab_type": "code",
        "colab": {}
      },
      "source": [
        "# import calendar\n",
        "# import datetime\n",
        "# X_train['AdjustedDateToEndOfMonth'] = X_train['d'].map(\n",
        "#     lambda x: datetime.datetime(\n",
        "#         x.year,\n",
        "#         x.month,\n",
        "#         max(calendar.monthcalendar(x.year, x.month)[-1][:5])\n",
        "#     )\n",
        "# )"
      ],
      "execution_count": 0,
      "outputs": []
    },
    {
      "cell_type": "code",
      "metadata": {
        "id": "7nSboGwIdsfU",
        "colab_type": "code",
        "colab": {}
      },
      "source": [
        "# X_train['nn'] = pd.DatetimeIndex(X_train).year\n",
        "# X_train.head()"
      ],
      "execution_count": 0,
      "outputs": []
    },
    {
      "cell_type": "code",
      "metadata": {
        "id": "ZWl5VkN8bu6l",
        "colab_type": "code",
        "colab": {}
      },
      "source": [
        "# X_train['t'] = X_train.index.values in New"
      ],
      "execution_count": 0,
      "outputs": []
    },
    {
      "cell_type": "markdown",
      "metadata": {
        "colab_type": "text",
        "id": "dDGkAv813Wtj"
      },
      "source": [
        "\n",
        "Linear Regression (with new features)"
      ]
    },
    {
      "cell_type": "code",
      "metadata": {
        "colab_type": "code",
        "id": "cj3HTM6p5F1A",
        "outputId": "9594bb3a-a528-4753-d3ce-6e8803e329f3",
        "colab": {
          "base_uri": "https://localhost:8080/",
          "height": 141
        }
      },
      "source": [
        "scores = cross_validate(LinearRegression(),X_train, y_train,\n",
        "                        scoring='neg_mean_absolute_error', cv=3,\n",
        "                        return_train_score=True, return_estimator=True)\n",
        "pd.DataFrame(scores)\n",
        "#with feature engineering, we cut the error in half\n",
        "#a good prediction usually involves feature engineering and a complex model type"
      ],
      "execution_count": 98,
      "outputs": [
        {
          "output_type": "execute_result",
          "data": {
            "text/html": [
              "<div>\n",
              "<style scoped>\n",
              "    .dataframe tbody tr th:only-of-type {\n",
              "        vertical-align: middle;\n",
              "    }\n",
              "\n",
              "    .dataframe tbody tr th {\n",
              "        vertical-align: top;\n",
              "    }\n",
              "\n",
              "    .dataframe thead th {\n",
              "        text-align: right;\n",
              "    }\n",
              "</style>\n",
              "<table border=\"1\" class=\"dataframe\">\n",
              "  <thead>\n",
              "    <tr style=\"text-align: right;\">\n",
              "      <th></th>\n",
              "      <th>fit_time</th>\n",
              "      <th>score_time</th>\n",
              "      <th>estimator</th>\n",
              "      <th>test_score</th>\n",
              "      <th>train_score</th>\n",
              "    </tr>\n",
              "  </thead>\n",
              "  <tbody>\n",
              "    <tr>\n",
              "      <th>0</th>\n",
              "      <td>0.022198</td>\n",
              "      <td>0.003195</td>\n",
              "      <td>LinearRegression(copy_X=True, fit_intercept=Tr...</td>\n",
              "      <td>-306.997664</td>\n",
              "      <td>-298.169003</td>\n",
              "    </tr>\n",
              "    <tr>\n",
              "      <th>1</th>\n",
              "      <td>0.010715</td>\n",
              "      <td>0.004131</td>\n",
              "      <td>LinearRegression(copy_X=True, fit_intercept=Tr...</td>\n",
              "      <td>-309.396466</td>\n",
              "      <td>-291.528889</td>\n",
              "    </tr>\n",
              "    <tr>\n",
              "      <th>2</th>\n",
              "      <td>0.011392</td>\n",
              "      <td>0.004527</td>\n",
              "      <td>LinearRegression(copy_X=True, fit_intercept=Tr...</td>\n",
              "      <td>-328.323988</td>\n",
              "      <td>-282.728972</td>\n",
              "    </tr>\n",
              "  </tbody>\n",
              "</table>\n",
              "</div>"
            ],
            "text/plain": [
              "   fit_time  score_time  ...  test_score  train_score\n",
              "0  0.022198    0.003195  ... -306.997664  -298.169003\n",
              "1  0.010715    0.004131  ... -309.396466  -291.528889\n",
              "2  0.011392    0.004527  ... -328.323988  -282.728972\n",
              "\n",
              "[3 rows x 5 columns]"
            ]
          },
          "metadata": {
            "tags": []
          },
          "execution_count": 98
        }
      ]
    },
    {
      "cell_type": "code",
      "metadata": {
        "id": "J4WT1mPzUo6o",
        "colab_type": "code",
        "outputId": "5e0116f4-62a5-42ba-8b31-1c54c3f6972a",
        "colab": {
          "base_uri": "https://localhost:8080/",
          "height": 35
        }
      },
      "source": [
        "-scores['test_score'].mean()"
      ],
      "execution_count": 99,
      "outputs": [
        {
          "output_type": "execute_result",
          "data": {
            "text/plain": [
              "314.9060390706127"
            ]
          },
          "metadata": {
            "tags": []
          },
          "execution_count": 99
        }
      ]
    },
    {
      "cell_type": "code",
      "metadata": {
        "id": "YJpQG0AvF-MW",
        "colab_type": "code",
        "outputId": "a8ad5554-977a-4652-a0e5-4453262ee60b",
        "colab": {
          "base_uri": "https://localhost:8080/",
          "height": 1774
        }
      },
      "source": [
        "from xgboost import XGBRegressor\n",
        "model = XGBRegressor(n_estimators=100)\n",
        "\n",
        "\n",
        "param_distributions = {\n",
        "    'n_estimators': [100,125,150],#iterable\n",
        "    'max_depth' : [4,5],\n",
        "    'criterion' : ['mae']\n",
        "}\n",
        "\n",
        "#My X_train has changed with different features\n",
        "\n",
        "gridsearch2 = RandomizedSearchCV(\n",
        "    XGBRegressor(n_jobs=-1, random_state=42),\n",
        "    param_distributions=param_distributions,\n",
        "    n_iter = 100,\n",
        "    cv=3,\n",
        "    scoring='neg_mean_absolute_error',\n",
        "    verbose=10,\n",
        "    return_train_score=True\n",
        ")\n",
        "\n",
        "gridsearch2.fit(X_train, y_train)\n",
        "\n",
        "\n",
        "pd.DataFrame(scores)\n"
      ],
      "execution_count": 113,
      "outputs": [
        {
          "output_type": "stream",
          "text": [
            "/usr/local/lib/python3.6/dist-packages/sklearn/model_selection/_search.py:266: UserWarning: The total space of parameters 6 is smaller than n_iter=100. Running 6 iterations. For exhaustive searches, use GridSearchCV.\n",
            "  % (grid_size, self.n_iter, grid_size), UserWarning)\n",
            "[Parallel(n_jobs=1)]: Using backend SequentialBackend with 1 concurrent workers.\n",
            "/usr/local/lib/python3.6/dist-packages/xgboost/core.py:587: FutureWarning: Series.base is deprecated and will be removed in a future version\n",
            "  if getattr(data, 'base', None) is not None and \\\n",
            "[Parallel(n_jobs=1)]: Done   1 out of   1 | elapsed:    0.2s remaining:    0.0s\n",
            "/usr/local/lib/python3.6/dist-packages/xgboost/core.py:587: FutureWarning: Series.base is deprecated and will be removed in a future version\n",
            "  if getattr(data, 'base', None) is not None and \\\n"
          ],
          "name": "stderr"
        },
        {
          "output_type": "stream",
          "text": [
            "Fitting 3 folds for each of 6 candidates, totalling 18 fits\n",
            "[CV] n_estimators=100, max_depth=4, criterion=mae ....................\n",
            "[CV]  n_estimators=100, max_depth=4, criterion=mae, score=(train=-111.759, test=-250.997), total=   0.2s\n",
            "[CV] n_estimators=100, max_depth=4, criterion=mae ....................\n",
            "[CV]  n_estimators=100, max_depth=4, criterion=mae, score=(train=-112.012, test=-322.679), total=   0.2s\n",
            "[CV] n_estimators=100, max_depth=4, criterion=mae ....................\n",
            "[CV]  n_estimators=100, max_depth=4, criterion=mae, score=(train=-117.788, test=-284.882), total=   0.2s\n",
            "[CV] n_estimators=125, max_depth=4, criterion=mae ....................\n"
          ],
          "name": "stdout"
        },
        {
          "output_type": "stream",
          "text": [
            "[Parallel(n_jobs=1)]: Done   2 out of   2 | elapsed:    0.3s remaining:    0.0s\n",
            "/usr/local/lib/python3.6/dist-packages/xgboost/core.py:587: FutureWarning: Series.base is deprecated and will be removed in a future version\n",
            "  if getattr(data, 'base', None) is not None and \\\n",
            "[Parallel(n_jobs=1)]: Done   3 out of   3 | elapsed:    0.5s remaining:    0.0s\n",
            "/usr/local/lib/python3.6/dist-packages/xgboost/core.py:587: FutureWarning: Series.base is deprecated and will be removed in a future version\n",
            "  if getattr(data, 'base', None) is not None and \\\n"
          ],
          "name": "stderr"
        },
        {
          "output_type": "stream",
          "text": [
            "[CV]  n_estimators=125, max_depth=4, criterion=mae, score=(train=-97.520, test=-252.134), total=   0.2s\n",
            "[CV] n_estimators=125, max_depth=4, criterion=mae ....................\n"
          ],
          "name": "stdout"
        },
        {
          "output_type": "stream",
          "text": [
            "[Parallel(n_jobs=1)]: Done   4 out of   4 | elapsed:    0.7s remaining:    0.0s\n",
            "/usr/local/lib/python3.6/dist-packages/xgboost/core.py:587: FutureWarning: Series.base is deprecated and will be removed in a future version\n",
            "  if getattr(data, 'base', None) is not None and \\\n"
          ],
          "name": "stderr"
        },
        {
          "output_type": "stream",
          "text": [
            "[CV]  n_estimators=125, max_depth=4, criterion=mae, score=(train=-99.776, test=-322.058), total=   0.2s\n",
            "[CV] n_estimators=125, max_depth=4, criterion=mae ....................\n"
          ],
          "name": "stdout"
        },
        {
          "output_type": "stream",
          "text": [
            "[Parallel(n_jobs=1)]: Done   5 out of   5 | elapsed:    0.9s remaining:    0.0s\n",
            "/usr/local/lib/python3.6/dist-packages/xgboost/core.py:587: FutureWarning: Series.base is deprecated and will be removed in a future version\n",
            "  if getattr(data, 'base', None) is not None and \\\n"
          ],
          "name": "stderr"
        },
        {
          "output_type": "stream",
          "text": [
            "[CV]  n_estimators=125, max_depth=4, criterion=mae, score=(train=-101.337, test=-281.657), total=   0.2s\n",
            "[CV] n_estimators=150, max_depth=4, criterion=mae ....................\n"
          ],
          "name": "stdout"
        },
        {
          "output_type": "stream",
          "text": [
            "[Parallel(n_jobs=1)]: Done   6 out of   6 | elapsed:    1.2s remaining:    0.0s\n",
            "/usr/local/lib/python3.6/dist-packages/xgboost/core.py:587: FutureWarning: Series.base is deprecated and will be removed in a future version\n",
            "  if getattr(data, 'base', None) is not None and \\\n"
          ],
          "name": "stderr"
        },
        {
          "output_type": "stream",
          "text": [
            "[CV]  n_estimators=150, max_depth=4, criterion=mae, score=(train=-86.075, test=-257.440), total=   0.2s\n",
            "[CV] n_estimators=150, max_depth=4, criterion=mae ....................\n"
          ],
          "name": "stdout"
        },
        {
          "output_type": "stream",
          "text": [
            "[Parallel(n_jobs=1)]: Done   7 out of   7 | elapsed:    1.4s remaining:    0.0s\n",
            "/usr/local/lib/python3.6/dist-packages/xgboost/core.py:587: FutureWarning: Series.base is deprecated and will be removed in a future version\n",
            "  if getattr(data, 'base', None) is not None and \\\n"
          ],
          "name": "stderr"
        },
        {
          "output_type": "stream",
          "text": [
            "[CV]  n_estimators=150, max_depth=4, criterion=mae, score=(train=-88.506, test=-322.166), total=   0.2s\n",
            "[CV] n_estimators=150, max_depth=4, criterion=mae ....................\n"
          ],
          "name": "stdout"
        },
        {
          "output_type": "stream",
          "text": [
            "[Parallel(n_jobs=1)]: Done   8 out of   8 | elapsed:    1.7s remaining:    0.0s\n",
            "/usr/local/lib/python3.6/dist-packages/xgboost/core.py:587: FutureWarning: Series.base is deprecated and will be removed in a future version\n",
            "  if getattr(data, 'base', None) is not None and \\\n"
          ],
          "name": "stderr"
        },
        {
          "output_type": "stream",
          "text": [
            "[CV]  n_estimators=150, max_depth=4, criterion=mae, score=(train=-89.782, test=-281.982), total=   0.2s\n",
            "[CV] n_estimators=100, max_depth=5, criterion=mae ....................\n"
          ],
          "name": "stdout"
        },
        {
          "output_type": "stream",
          "text": [
            "[Parallel(n_jobs=1)]: Done   9 out of   9 | elapsed:    1.9s remaining:    0.0s\n",
            "/usr/local/lib/python3.6/dist-packages/xgboost/core.py:587: FutureWarning: Series.base is deprecated and will be removed in a future version\n",
            "  if getattr(data, 'base', None) is not None and \\\n"
          ],
          "name": "stderr"
        },
        {
          "output_type": "stream",
          "text": [
            "[CV]  n_estimators=100, max_depth=5, criterion=mae, score=(train=-68.216, test=-273.183), total=   0.2s\n",
            "[CV] n_estimators=100, max_depth=5, criterion=mae ....................\n"
          ],
          "name": "stdout"
        },
        {
          "output_type": "stream",
          "text": [
            "/usr/local/lib/python3.6/dist-packages/xgboost/core.py:587: FutureWarning: Series.base is deprecated and will be removed in a future version\n",
            "  if getattr(data, 'base', None) is not None and \\\n"
          ],
          "name": "stderr"
        },
        {
          "output_type": "stream",
          "text": [
            "[CV]  n_estimators=100, max_depth=5, criterion=mae, score=(train=-63.580, test=-321.434), total=   0.2s\n",
            "[CV] n_estimators=100, max_depth=5, criterion=mae ....................\n"
          ],
          "name": "stdout"
        },
        {
          "output_type": "stream",
          "text": [
            "/usr/local/lib/python3.6/dist-packages/xgboost/core.py:587: FutureWarning: Series.base is deprecated and will be removed in a future version\n",
            "  if getattr(data, 'base', None) is not None and \\\n"
          ],
          "name": "stderr"
        },
        {
          "output_type": "stream",
          "text": [
            "[CV]  n_estimators=100, max_depth=5, criterion=mae, score=(train=-70.700, test=-292.589), total=   0.2s\n",
            "[CV] n_estimators=125, max_depth=5, criterion=mae ....................\n"
          ],
          "name": "stdout"
        },
        {
          "output_type": "stream",
          "text": [
            "/usr/local/lib/python3.6/dist-packages/xgboost/core.py:587: FutureWarning: Series.base is deprecated and will be removed in a future version\n",
            "  if getattr(data, 'base', None) is not None and \\\n"
          ],
          "name": "stderr"
        },
        {
          "output_type": "stream",
          "text": [
            "[CV]  n_estimators=125, max_depth=5, criterion=mae, score=(train=-58.196, test=-274.453), total=   0.3s\n",
            "[CV] n_estimators=125, max_depth=5, criterion=mae ....................\n"
          ],
          "name": "stdout"
        },
        {
          "output_type": "stream",
          "text": [
            "/usr/local/lib/python3.6/dist-packages/xgboost/core.py:587: FutureWarning: Series.base is deprecated and will be removed in a future version\n",
            "  if getattr(data, 'base', None) is not None and \\\n"
          ],
          "name": "stderr"
        },
        {
          "output_type": "stream",
          "text": [
            "[CV]  n_estimators=125, max_depth=5, criterion=mae, score=(train=-51.532, test=-321.647), total=   0.3s\n",
            "[CV] n_estimators=125, max_depth=5, criterion=mae ....................\n"
          ],
          "name": "stdout"
        },
        {
          "output_type": "stream",
          "text": [
            "/usr/local/lib/python3.6/dist-packages/xgboost/core.py:587: FutureWarning: Series.base is deprecated and will be removed in a future version\n",
            "  if getattr(data, 'base', None) is not None and \\\n"
          ],
          "name": "stderr"
        },
        {
          "output_type": "stream",
          "text": [
            "[CV]  n_estimators=125, max_depth=5, criterion=mae, score=(train=-59.153, test=-292.177), total=   0.2s\n",
            "[CV] n_estimators=150, max_depth=5, criterion=mae ....................\n"
          ],
          "name": "stdout"
        },
        {
          "output_type": "stream",
          "text": [
            "/usr/local/lib/python3.6/dist-packages/xgboost/core.py:587: FutureWarning: Series.base is deprecated and will be removed in a future version\n",
            "  if getattr(data, 'base', None) is not None and \\\n"
          ],
          "name": "stderr"
        },
        {
          "output_type": "stream",
          "text": [
            "[CV]  n_estimators=150, max_depth=5, criterion=mae, score=(train=-49.724, test=-275.140), total=   0.3s\n",
            "[CV] n_estimators=150, max_depth=5, criterion=mae ....................\n"
          ],
          "name": "stdout"
        },
        {
          "output_type": "stream",
          "text": [
            "/usr/local/lib/python3.6/dist-packages/xgboost/core.py:587: FutureWarning: Series.base is deprecated and will be removed in a future version\n",
            "  if getattr(data, 'base', None) is not None and \\\n"
          ],
          "name": "stderr"
        },
        {
          "output_type": "stream",
          "text": [
            "[CV]  n_estimators=150, max_depth=5, criterion=mae, score=(train=-42.622, test=-321.917), total=   0.3s\n",
            "[CV] n_estimators=150, max_depth=5, criterion=mae ....................\n"
          ],
          "name": "stdout"
        },
        {
          "output_type": "stream",
          "text": [
            "/usr/local/lib/python3.6/dist-packages/xgboost/core.py:587: FutureWarning: Series.base is deprecated and will be removed in a future version\n",
            "  if getattr(data, 'base', None) is not None and \\\n"
          ],
          "name": "stderr"
        },
        {
          "output_type": "stream",
          "text": [
            "[CV]  n_estimators=150, max_depth=5, criterion=mae, score=(train=-49.124, test=-292.240), total=   0.3s\n"
          ],
          "name": "stdout"
        },
        {
          "output_type": "stream",
          "text": [
            "[Parallel(n_jobs=1)]: Done  18 out of  18 | elapsed:    4.3s finished\n",
            "/usr/local/lib/python3.6/dist-packages/xgboost/core.py:587: FutureWarning: Series.base is deprecated and will be removed in a future version\n",
            "  if getattr(data, 'base', None) is not None and \\\n",
            "/usr/local/lib/python3.6/dist-packages/xgboost/core.py:588: FutureWarning: Series.base is deprecated and will be removed in a future version\n",
            "  data.base is not None and isinstance(data, np.ndarray) \\\n"
          ],
          "name": "stderr"
        },
        {
          "output_type": "execute_result",
          "data": {
            "text/html": [
              "<div>\n",
              "<style scoped>\n",
              "    .dataframe tbody tr th:only-of-type {\n",
              "        vertical-align: middle;\n",
              "    }\n",
              "\n",
              "    .dataframe tbody tr th {\n",
              "        vertical-align: top;\n",
              "    }\n",
              "\n",
              "    .dataframe thead th {\n",
              "        text-align: right;\n",
              "    }\n",
              "</style>\n",
              "<table border=\"1\" class=\"dataframe\">\n",
              "  <thead>\n",
              "    <tr style=\"text-align: right;\">\n",
              "      <th></th>\n",
              "      <th>fit_time</th>\n",
              "      <th>score_time</th>\n",
              "      <th>estimator</th>\n",
              "      <th>test_score</th>\n",
              "      <th>train_score</th>\n",
              "    </tr>\n",
              "  </thead>\n",
              "  <tbody>\n",
              "    <tr>\n",
              "      <th>0</th>\n",
              "      <td>0.022198</td>\n",
              "      <td>0.003195</td>\n",
              "      <td>LinearRegression(copy_X=True, fit_intercept=Tr...</td>\n",
              "      <td>-306.997664</td>\n",
              "      <td>-298.169003</td>\n",
              "    </tr>\n",
              "    <tr>\n",
              "      <th>1</th>\n",
              "      <td>0.010715</td>\n",
              "      <td>0.004131</td>\n",
              "      <td>LinearRegression(copy_X=True, fit_intercept=Tr...</td>\n",
              "      <td>-309.396466</td>\n",
              "      <td>-291.528889</td>\n",
              "    </tr>\n",
              "    <tr>\n",
              "      <th>2</th>\n",
              "      <td>0.011392</td>\n",
              "      <td>0.004527</td>\n",
              "      <td>LinearRegression(copy_X=True, fit_intercept=Tr...</td>\n",
              "      <td>-328.323988</td>\n",
              "      <td>-282.728972</td>\n",
              "    </tr>\n",
              "  </tbody>\n",
              "</table>\n",
              "</div>"
            ],
            "text/plain": [
              "   fit_time  score_time  ...  test_score  train_score\n",
              "0  0.022198    0.003195  ... -306.997664  -298.169003\n",
              "1  0.010715    0.004131  ... -309.396466  -291.528889\n",
              "2  0.011392    0.004527  ... -328.323988  -282.728972\n",
              "\n",
              "[3 rows x 5 columns]"
            ]
          },
          "metadata": {
            "tags": []
          },
          "execution_count": 113
        }
      ]
    },
    {
      "cell_type": "code",
      "metadata": {
        "id": "BMqh_hveYLE0",
        "colab_type": "code",
        "colab": {
          "base_uri": "https://localhost:8080/",
          "height": 35
        },
        "outputId": "cc998e32-64b2-485a-afc6-5e733fdeb790"
      },
      "source": [
        "-gridsearch2.best_score_"
      ],
      "execution_count": 114,
      "outputs": [
        {
          "output_type": "execute_result",
          "data": {
            "text/plain": [
              "285.28302399664034"
            ]
          },
          "metadata": {
            "tags": []
          },
          "execution_count": 114
        }
      ]
    },
    {
      "cell_type": "code",
      "metadata": {
        "id": "7mofK1s9nYyv",
        "colab_type": "code",
        "outputId": "3e36c90d-bb9a-4d5e-b4b4-83e4bf3c49b3",
        "colab": {
          "base_uri": "https://localhost:8080/",
          "height": 287
        }
      },
      "source": [
        "plt.plot(depth, np.median(train_score, 1), color='blue', label='training score')\n",
        "plt.plot(depth, np.median(val_score, 1), color='red', label='validation score')\n",
        "plt.legend(loc='best')"
      ],
      "execution_count": 101,
      "outputs": [
        {
          "output_type": "execute_result",
          "data": {
            "text/plain": [
              "<matplotlib.legend.Legend at 0x7fda4e525320>"
            ]
          },
          "metadata": {
            "tags": []
          },
          "execution_count": 101
        },
        {
          "output_type": "display_data",
          "data": {
            "image/png": "[encoded data removed]",
            "text/plain": [
              "<Figure size 432x288 with 1 Axes>"
            ]
          },
          "metadata": {
            "tags": []
          }
        }
      ]
    },
    {
      "cell_type": "code",
      "metadata": {
        "id": "253edK6aGWvk",
        "colab_type": "code",
        "outputId": "4b869b63-fadb-4679-e767-6f4e8c290933",
        "colab": {
          "base_uri": "https://localhost:8080/",
          "height": 141
        }
      },
      "source": [
        "pd.DataFrame(scores)"
      ],
      "execution_count": 102,
      "outputs": [
        {
          "output_type": "execute_result",
          "data": {
            "text/html": [
              "<div>\n",
              "<style scoped>\n",
              "    .dataframe tbody tr th:only-of-type {\n",
              "        vertical-align: middle;\n",
              "    }\n",
              "\n",
              "    .dataframe tbody tr th {\n",
              "        vertical-align: top;\n",
              "    }\n",
              "\n",
              "    .dataframe thead th {\n",
              "        text-align: right;\n",
              "    }\n",
              "</style>\n",
              "<table border=\"1\" class=\"dataframe\">\n",
              "  <thead>\n",
              "    <tr style=\"text-align: right;\">\n",
              "      <th></th>\n",
              "      <th>fit_time</th>\n",
              "      <th>score_time</th>\n",
              "      <th>estimator</th>\n",
              "      <th>test_score</th>\n",
              "      <th>train_score</th>\n",
              "    </tr>\n",
              "  </thead>\n",
              "  <tbody>\n",
              "    <tr>\n",
              "      <th>0</th>\n",
              "      <td>0.022198</td>\n",
              "      <td>0.003195</td>\n",
              "      <td>LinearRegression(copy_X=True, fit_intercept=Tr...</td>\n",
              "      <td>-306.997664</td>\n",
              "      <td>-298.169003</td>\n",
              "    </tr>\n",
              "    <tr>\n",
              "      <th>1</th>\n",
              "      <td>0.010715</td>\n",
              "      <td>0.004131</td>\n",
              "      <td>LinearRegression(copy_X=True, fit_intercept=Tr...</td>\n",
              "      <td>-309.396466</td>\n",
              "      <td>-291.528889</td>\n",
              "    </tr>\n",
              "    <tr>\n",
              "      <th>2</th>\n",
              "      <td>0.011392</td>\n",
              "      <td>0.004527</td>\n",
              "      <td>LinearRegression(copy_X=True, fit_intercept=Tr...</td>\n",
              "      <td>-328.323988</td>\n",
              "      <td>-282.728972</td>\n",
              "    </tr>\n",
              "  </tbody>\n",
              "</table>\n",
              "</div>"
            ],
            "text/plain": [
              "   fit_time  score_time  ...  test_score  train_score\n",
              "0  0.022198    0.003195  ... -306.997664  -298.169003\n",
              "1  0.010715    0.004131  ... -309.396466  -291.528889\n",
              "2  0.011392    0.004527  ... -328.323988  -282.728972\n",
              "\n",
              "[3 rows x 5 columns]"
            ]
          },
          "metadata": {
            "tags": []
          },
          "execution_count": 102
        }
      ]
    },
    {
      "cell_type": "markdown",
      "metadata": {
        "colab_type": "text",
        "id": "b6zxN2xB3bX_"
      },
      "source": [
        "### Random Forest (with new features)"
      ]
    },
    {
      "cell_type": "code",
      "metadata": {
        "id": "JgN7WhJuFalM",
        "colab_type": "code",
        "outputId": "32ba378e-f413-4801-ddb6-172c2ad4ef28",
        "colab": {
          "base_uri": "https://localhost:8080/",
          "height": 287
        }
      },
      "source": [
        "%matplotlib inline\n",
        "import numpy as np\n",
        "import matplotlib.pyplot as plt\n",
        "from sklearn.model_selection import validation_curve\n",
        "\n",
        "model = RandomForestRegressor(n_estimators=200)\n",
        "\n",
        "depth = [2, 3, 4, 5, 6]#try a range of values for these parameters\n",
        "train_score, val_score = validation_curve(\n",
        "    model, X_train, y_train,\n",
        "    param_name='max_depth', param_range=depth, \n",
        "    scoring='neg_mean_absolute_error', cv=3)\n",
        "\n",
        "plt.plot(depth, np.median(train_score, 1), color='blue', label='training score')\n",
        "plt.plot(depth, np.median(val_score, 1), color='red', label='validation score')\n",
        "plt.legend(loc='best')"
      ],
      "execution_count": 103,
      "outputs": [
        {
          "output_type": "execute_result",
          "data": {
            "text/plain": [
              "<matplotlib.legend.Legend at 0x7fda4e496048>"
            ]
          },
          "metadata": {
            "tags": []
          },
          "execution_count": 103
        },
        {
          "output_type": "display_data",
          "data": {
            "image/png": "[encoded data removed]",
            "text/plain": [
              "<Figure size 432x288 with 1 Axes>"
            ]
          },
          "metadata": {
            "tags": []
          }
        }
      ]
    },
    {
      "cell_type": "code",
      "metadata": {
        "id": "spGTEfBAFai4",
        "colab_type": "code",
        "outputId": "6100199b-005a-409b-9dd7-2b96b401fec3",
        "colab": {
          "base_uri": "https://localhost:8080/",
          "height": 141
        }
      },
      "source": [
        "pd.DataFrame(scores)"
      ],
      "execution_count": 104,
      "outputs": [
        {
          "output_type": "execute_result",
          "data": {
            "text/html": [
              "<div>\n",
              "<style scoped>\n",
              "    .dataframe tbody tr th:only-of-type {\n",
              "        vertical-align: middle;\n",
              "    }\n",
              "\n",
              "    .dataframe tbody tr th {\n",
              "        vertical-align: top;\n",
              "    }\n",
              "\n",
              "    .dataframe thead th {\n",
              "        text-align: right;\n",
              "    }\n",
              "</style>\n",
              "<table border=\"1\" class=\"dataframe\">\n",
              "  <thead>\n",
              "    <tr style=\"text-align: right;\">\n",
              "      <th></th>\n",
              "      <th>fit_time</th>\n",
              "      <th>score_time</th>\n",
              "      <th>estimator</th>\n",
              "      <th>test_score</th>\n",
              "      <th>train_score</th>\n",
              "    </tr>\n",
              "  </thead>\n",
              "  <tbody>\n",
              "    <tr>\n",
              "      <th>0</th>\n",
              "      <td>0.022198</td>\n",
              "      <td>0.003195</td>\n",
              "      <td>LinearRegression(copy_X=True, fit_intercept=Tr...</td>\n",
              "      <td>-306.997664</td>\n",
              "      <td>-298.169003</td>\n",
              "    </tr>\n",
              "    <tr>\n",
              "      <th>1</th>\n",
              "      <td>0.010715</td>\n",
              "      <td>0.004131</td>\n",
              "      <td>LinearRegression(copy_X=True, fit_intercept=Tr...</td>\n",
              "      <td>-309.396466</td>\n",
              "      <td>-291.528889</td>\n",
              "    </tr>\n",
              "    <tr>\n",
              "      <th>2</th>\n",
              "      <td>0.011392</td>\n",
              "      <td>0.004527</td>\n",
              "      <td>LinearRegression(copy_X=True, fit_intercept=Tr...</td>\n",
              "      <td>-328.323988</td>\n",
              "      <td>-282.728972</td>\n",
              "    </tr>\n",
              "  </tbody>\n",
              "</table>\n",
              "</div>"
            ],
            "text/plain": [
              "   fit_time  score_time  ...  test_score  train_score\n",
              "0  0.022198    0.003195  ... -306.997664  -298.169003\n",
              "1  0.010715    0.004131  ... -309.396466  -291.528889\n",
              "2  0.011392    0.004527  ... -328.323988  -282.728972\n",
              "\n",
              "[3 rows x 5 columns]"
            ]
          },
          "metadata": {
            "tags": []
          },
          "execution_count": 104
        }
      ]
    },
    {
      "cell_type": "code",
      "metadata": {
        "colab_type": "code",
        "id": "3sWUDZIz1-kk",
        "outputId": "020292b7-6fdf-4f71-b057-19d38fd386bc",
        "colab": {
          "base_uri": "https://localhost:8080/",
          "height": 1112
        }
      },
      "source": [
        "param_distributions = {\n",
        "    'n_estimators': [50,100],#iterable\n",
        "    'max_depth' : [4,5],\n",
        "    'criterion' : ['mae']\n",
        "}\n",
        "\n",
        "#My X_train has changed with different features\n",
        "\n",
        "gridsearch = RandomizedSearchCV(\n",
        "    RandomForestRegressor(n_jobs=-1, random_state=42),\n",
        "    param_distributions=param_distributions,\n",
        "    n_iter = 10,\n",
        "    cv=3,\n",
        "    scoring='neg_mean_absolute_error',\n",
        "    verbose=10,\n",
        "    return_train_score=True\n",
        ")\n",
        "\n",
        "gridsearch.fit(X_train, y_train)"
      ],
      "execution_count": 105,
      "outputs": [
        {
          "output_type": "stream",
          "text": [
            "/usr/local/lib/python3.6/dist-packages/sklearn/model_selection/_search.py:266: UserWarning: The total space of parameters 4 is smaller than n_iter=10. Running 4 iterations. For exhaustive searches, use GridSearchCV.\n",
            "  % (grid_size, self.n_iter, grid_size), UserWarning)\n",
            "[Parallel(n_jobs=1)]: Using backend SequentialBackend with 1 concurrent workers.\n"
          ],
          "name": "stderr"
        },
        {
          "output_type": "stream",
          "text": [
            "Fitting 3 folds for each of 4 candidates, totalling 12 fits\n",
            "[CV] n_estimators=50, max_depth=4, criterion=mae .....................\n",
            "[CV]  n_estimators=50, max_depth=4, criterion=mae, score=(train=-319.783, test=-365.585), total=   1.1s\n",
            "[CV] n_estimators=50, max_depth=4, criterion=mae .....................\n"
          ],
          "name": "stdout"
        },
        {
          "output_type": "stream",
          "text": [
            "[Parallel(n_jobs=1)]: Done   1 out of   1 | elapsed:    1.1s remaining:    0.0s\n"
          ],
          "name": "stderr"
        },
        {
          "output_type": "stream",
          "text": [
            "[CV]  n_estimators=50, max_depth=4, criterion=mae, score=(train=-282.317, test=-401.774), total=   1.1s\n",
            "[CV] n_estimators=50, max_depth=4, criterion=mae .....................\n"
          ],
          "name": "stdout"
        },
        {
          "output_type": "stream",
          "text": [
            "[Parallel(n_jobs=1)]: Done   2 out of   2 | elapsed:    2.2s remaining:    0.0s\n"
          ],
          "name": "stderr"
        },
        {
          "output_type": "stream",
          "text": [
            "[CV]  n_estimators=50, max_depth=4, criterion=mae, score=(train=-311.063, test=-351.072), total=   1.1s\n",
            "[CV] n_estimators=100, max_depth=4, criterion=mae ....................\n"
          ],
          "name": "stdout"
        },
        {
          "output_type": "stream",
          "text": [
            "[Parallel(n_jobs=1)]: Done   3 out of   3 | elapsed:    3.4s remaining:    0.0s\n"
          ],
          "name": "stderr"
        },
        {
          "output_type": "stream",
          "text": [
            "[CV]  n_estimators=100, max_depth=4, criterion=mae, score=(train=-315.063, test=-359.684), total=   2.2s\n",
            "[CV] n_estimators=100, max_depth=4, criterion=mae ....................\n"
          ],
          "name": "stdout"
        },
        {
          "output_type": "stream",
          "text": [
            "[Parallel(n_jobs=1)]: Done   4 out of   4 | elapsed:    5.6s remaining:    0.0s\n"
          ],
          "name": "stderr"
        },
        {
          "output_type": "stream",
          "text": [
            "[CV]  n_estimators=100, max_depth=4, criterion=mae, score=(train=-280.405, test=-401.879), total=   2.2s\n",
            "[CV] n_estimators=100, max_depth=4, criterion=mae ....................\n"
          ],
          "name": "stdout"
        },
        {
          "output_type": "stream",
          "text": [
            "[Parallel(n_jobs=1)]: Done   5 out of   5 | elapsed:    7.8s remaining:    0.0s\n"
          ],
          "name": "stderr"
        },
        {
          "output_type": "stream",
          "text": [
            "[CV]  n_estimators=100, max_depth=4, criterion=mae, score=(train=-309.633, test=-349.289), total=   2.3s\n",
            "[CV] n_estimators=50, max_depth=5, criterion=mae .....................\n"
          ],
          "name": "stdout"
        },
        {
          "output_type": "stream",
          "text": [
            "[Parallel(n_jobs=1)]: Done   6 out of   6 | elapsed:   10.1s remaining:    0.0s\n"
          ],
          "name": "stderr"
        },
        {
          "output_type": "stream",
          "text": [
            "[CV]  n_estimators=50, max_depth=5, criterion=mae, score=(train=-262.427, test=-347.895), total=   1.3s\n",
            "[CV] n_estimators=50, max_depth=5, criterion=mae .....................\n"
          ],
          "name": "stdout"
        },
        {
          "output_type": "stream",
          "text": [
            "[Parallel(n_jobs=1)]: Done   7 out of   7 | elapsed:   11.3s remaining:    0.0s\n"
          ],
          "name": "stderr"
        },
        {
          "output_type": "stream",
          "text": [
            "[CV]  n_estimators=50, max_depth=5, criterion=mae, score=(train=-234.557, test=-368.680), total=   1.2s\n",
            "[CV] n_estimators=50, max_depth=5, criterion=mae .....................\n"
          ],
          "name": "stdout"
        },
        {
          "output_type": "stream",
          "text": [
            "[Parallel(n_jobs=1)]: Done   8 out of   8 | elapsed:   12.6s remaining:    0.0s\n"
          ],
          "name": "stderr"
        },
        {
          "output_type": "stream",
          "text": [
            "[CV]  n_estimators=50, max_depth=5, criterion=mae, score=(train=-257.870, test=-326.391), total=   1.3s\n",
            "[CV] n_estimators=100, max_depth=5, criterion=mae ....................\n"
          ],
          "name": "stdout"
        },
        {
          "output_type": "stream",
          "text": [
            "[Parallel(n_jobs=1)]: Done   9 out of   9 | elapsed:   13.9s remaining:    0.0s\n"
          ],
          "name": "stderr"
        },
        {
          "output_type": "stream",
          "text": [
            "[CV]  n_estimators=100, max_depth=5, criterion=mae, score=(train=-257.761, test=-340.228), total=   2.6s\n",
            "[CV] n_estimators=100, max_depth=5, criterion=mae ....................\n",
            "[CV]  n_estimators=100, max_depth=5, criterion=mae, score=(train=-232.560, test=-367.689), total=   2.5s\n",
            "[CV] n_estimators=100, max_depth=5, criterion=mae ....................\n",
            "[CV]  n_estimators=100, max_depth=5, criterion=mae, score=(train=-255.248, test=-321.294), total=   2.6s\n"
          ],
          "name": "stdout"
        },
        {
          "output_type": "stream",
          "text": [
            "[Parallel(n_jobs=1)]: Done  12 out of  12 | elapsed:   21.5s finished\n"
          ],
          "name": "stderr"
        },
        {
          "output_type": "execute_result",
          "data": {
            "text/plain": [
              "RandomizedSearchCV(cv=3, error_score='raise-deprecating',\n",
              "                   estimator=RandomForestRegressor(bootstrap=True,\n",
              "                                                   criterion='mse',\n",
              "                                                   max_depth=None,\n",
              "                                                   max_features='auto',\n",
              "                                                   max_leaf_nodes=None,\n",
              "                                                   min_impurity_decrease=0.0,\n",
              "                                                   min_impurity_split=None,\n",
              "                                                   min_samples_leaf=1,\n",
              "                                                   min_samples_split=2,\n",
              "                                                   min_weight_fraction_leaf=0.0,\n",
              "                                                   n_estimators='warn',\n",
              "                                                   n_jobs=-1, oob_score=False,\n",
              "                                                   random_state=42, verbose=0,\n",
              "                                                   warm_start=False),\n",
              "                   iid='warn', n_iter=10, n_jobs=None,\n",
              "                   param_distributions={'criterion': ['mae'],\n",
              "                                        'max_depth': [4, 5],\n",
              "                                        'n_estimators': [50, 100]},\n",
              "                   pre_dispatch='2*n_jobs', random_state=None, refit=True,\n",
              "                   return_train_score=True, scoring='neg_mean_absolute_error',\n",
              "                   verbose=10)"
            ]
          },
          "metadata": {
            "tags": []
          },
          "execution_count": 105
        }
      ]
    },
    {
      "cell_type": "code",
      "metadata": {
        "id": "xS6UUdH_pLRn",
        "colab_type": "code",
        "outputId": "7ec77f27-6cf3-469c-905c-74f7b2a730e8",
        "colab": {
          "base_uri": "https://localhost:8080/",
          "height": 396
        }
      },
      "source": [
        "pd.DataFrame(gridsearch.cv_results_)"
      ],
      "execution_count": 106,
      "outputs": [
        {
          "output_type": "execute_result",
          "data": {
            "text/html": [
              "<div>\n",
              "<style scoped>\n",
              "    .dataframe tbody tr th:only-of-type {\n",
              "        vertical-align: middle;\n",
              "    }\n",
              "\n",
              "    .dataframe tbody tr th {\n",
              "        vertical-align: top;\n",
              "    }\n",
              "\n",
              "    .dataframe thead th {\n",
              "        text-align: right;\n",
              "    }\n",
              "</style>\n",
              "<table border=\"1\" class=\"dataframe\">\n",
              "  <thead>\n",
              "    <tr style=\"text-align: right;\">\n",
              "      <th></th>\n",
              "      <th>mean_fit_time</th>\n",
              "      <th>std_fit_time</th>\n",
              "      <th>mean_score_time</th>\n",
              "      <th>std_score_time</th>\n",
              "      <th>param_n_estimators</th>\n",
              "      <th>param_max_depth</th>\n",
              "      <th>param_criterion</th>\n",
              "      <th>params</th>\n",
              "      <th>split0_test_score</th>\n",
              "      <th>split1_test_score</th>\n",
              "      <th>split2_test_score</th>\n",
              "      <th>mean_test_score</th>\n",
              "      <th>std_test_score</th>\n",
              "      <th>rank_test_score</th>\n",
              "      <th>split0_train_score</th>\n",
              "      <th>split1_train_score</th>\n",
              "      <th>split2_train_score</th>\n",
              "      <th>mean_train_score</th>\n",
              "      <th>std_train_score</th>\n",
              "    </tr>\n",
              "  </thead>\n",
              "  <tbody>\n",
              "    <tr>\n",
              "      <th>0</th>\n",
              "      <td>1.105411</td>\n",
              "      <td>0.015294</td>\n",
              "      <td>0.005009</td>\n",
              "      <td>0.000181</td>\n",
              "      <td>50</td>\n",
              "      <td>4</td>\n",
              "      <td>mae</td>\n",
              "      <td>{'n_estimators': 50, 'max_depth': 4, 'criterio...</td>\n",
              "      <td>-365.585452</td>\n",
              "      <td>-401.774486</td>\n",
              "      <td>-351.072492</td>\n",
              "      <td>-372.810810</td>\n",
              "      <td>21.320216</td>\n",
              "      <td>4</td>\n",
              "      <td>-319.783037</td>\n",
              "      <td>-282.316822</td>\n",
              "      <td>-311.063489</td>\n",
              "      <td>-304.387783</td>\n",
              "      <td>16.007355</td>\n",
              "    </tr>\n",
              "    <tr>\n",
              "      <th>1</th>\n",
              "      <td>2.221776</td>\n",
              "      <td>0.042858</td>\n",
              "      <td>0.007226</td>\n",
              "      <td>0.000070</td>\n",
              "      <td>100</td>\n",
              "      <td>4</td>\n",
              "      <td>mae</td>\n",
              "      <td>{'n_estimators': 100, 'max_depth': 4, 'criteri...</td>\n",
              "      <td>-359.684112</td>\n",
              "      <td>-401.878614</td>\n",
              "      <td>-349.288879</td>\n",
              "      <td>-370.283868</td>\n",
              "      <td>22.740363</td>\n",
              "      <td>3</td>\n",
              "      <td>-315.062889</td>\n",
              "      <td>-280.404821</td>\n",
              "      <td>-309.633442</td>\n",
              "      <td>-301.700384</td>\n",
              "      <td>15.220501</td>\n",
              "    </tr>\n",
              "    <tr>\n",
              "      <th>2</th>\n",
              "      <td>1.252183</td>\n",
              "      <td>0.014280</td>\n",
              "      <td>0.005282</td>\n",
              "      <td>0.000334</td>\n",
              "      <td>50</td>\n",
              "      <td>5</td>\n",
              "      <td>mae</td>\n",
              "      <td>{'n_estimators': 50, 'max_depth': 5, 'criterio...</td>\n",
              "      <td>-347.895202</td>\n",
              "      <td>-368.680405</td>\n",
              "      <td>-326.391121</td>\n",
              "      <td>-347.655576</td>\n",
              "      <td>17.265359</td>\n",
              "      <td>2</td>\n",
              "      <td>-262.427165</td>\n",
              "      <td>-234.556682</td>\n",
              "      <td>-257.869766</td>\n",
              "      <td>-251.617871</td>\n",
              "      <td>12.206708</td>\n",
              "    </tr>\n",
              "    <tr>\n",
              "      <th>3</th>\n",
              "      <td>2.542829</td>\n",
              "      <td>0.017243</td>\n",
              "      <td>0.007487</td>\n",
              "      <td>0.000082</td>\n",
              "      <td>100</td>\n",
              "      <td>5</td>\n",
              "      <td>mae</td>\n",
              "      <td>{'n_estimators': 100, 'max_depth': 5, 'criteri...</td>\n",
              "      <td>-340.228349</td>\n",
              "      <td>-367.688925</td>\n",
              "      <td>-321.294237</td>\n",
              "      <td>-343.070504</td>\n",
              "      <td>19.046875</td>\n",
              "      <td>1</td>\n",
              "      <td>-257.761386</td>\n",
              "      <td>-232.560078</td>\n",
              "      <td>-255.247648</td>\n",
              "      <td>-248.523037</td>\n",
              "      <td>11.334072</td>\n",
              "    </tr>\n",
              "  </tbody>\n",
              "</table>\n",
              "</div>"
            ],
            "text/plain": [
              "   mean_fit_time  std_fit_time  ...  mean_train_score  std_train_score\n",
              "0       1.105411      0.015294  ...       -304.387783        16.007355\n",
              "1       2.221776      0.042858  ...       -301.700384        15.220501\n",
              "2       1.252183      0.014280  ...       -251.617871        12.206708\n",
              "3       2.542829      0.017243  ...       -248.523037        11.334072\n",
              "\n",
              "[4 rows x 19 columns]"
            ]
          },
          "metadata": {
            "tags": []
          },
          "execution_count": 106
        }
      ]
    },
    {
      "cell_type": "code",
      "metadata": {
        "id": "nekIZkOYrcYi",
        "colab_type": "code",
        "outputId": "08ee56f8-08fe-40a1-a23a-ffe10aa005b6",
        "colab": {
          "base_uri": "https://localhost:8080/",
          "height": 141
        }
      },
      "source": [
        "pd.DataFrame(scores)"
      ],
      "execution_count": 107,
      "outputs": [
        {
          "output_type": "execute_result",
          "data": {
            "text/html": [
              "<div>\n",
              "<style scoped>\n",
              "    .dataframe tbody tr th:only-of-type {\n",
              "        vertical-align: middle;\n",
              "    }\n",
              "\n",
              "    .dataframe tbody tr th {\n",
              "        vertical-align: top;\n",
              "    }\n",
              "\n",
              "    .dataframe thead th {\n",
              "        text-align: right;\n",
              "    }\n",
              "</style>\n",
              "<table border=\"1\" class=\"dataframe\">\n",
              "  <thead>\n",
              "    <tr style=\"text-align: right;\">\n",
              "      <th></th>\n",
              "      <th>fit_time</th>\n",
              "      <th>score_time</th>\n",
              "      <th>estimator</th>\n",
              "      <th>test_score</th>\n",
              "      <th>train_score</th>\n",
              "    </tr>\n",
              "  </thead>\n",
              "  <tbody>\n",
              "    <tr>\n",
              "      <th>0</th>\n",
              "      <td>0.022198</td>\n",
              "      <td>0.003195</td>\n",
              "      <td>LinearRegression(copy_X=True, fit_intercept=Tr...</td>\n",
              "      <td>-306.997664</td>\n",
              "      <td>-298.169003</td>\n",
              "    </tr>\n",
              "    <tr>\n",
              "      <th>1</th>\n",
              "      <td>0.010715</td>\n",
              "      <td>0.004131</td>\n",
              "      <td>LinearRegression(copy_X=True, fit_intercept=Tr...</td>\n",
              "      <td>-309.396466</td>\n",
              "      <td>-291.528889</td>\n",
              "    </tr>\n",
              "    <tr>\n",
              "      <th>2</th>\n",
              "      <td>0.011392</td>\n",
              "      <td>0.004527</td>\n",
              "      <td>LinearRegression(copy_X=True, fit_intercept=Tr...</td>\n",
              "      <td>-328.323988</td>\n",
              "      <td>-282.728972</td>\n",
              "    </tr>\n",
              "  </tbody>\n",
              "</table>\n",
              "</div>"
            ],
            "text/plain": [
              "   fit_time  score_time  ...  test_score  train_score\n",
              "0  0.022198    0.003195  ... -306.997664  -298.169003\n",
              "1  0.010715    0.004131  ... -309.396466  -291.528889\n",
              "2  0.011392    0.004527  ... -328.323988  -282.728972\n",
              "\n",
              "[3 rows x 5 columns]"
            ]
          },
          "metadata": {
            "tags": []
          },
          "execution_count": 107
        }
      ]
    },
    {
      "cell_type": "code",
      "metadata": {
        "id": "EVGdblCSt-4G",
        "colab_type": "code",
        "colab": {}
      },
      "source": [
        "# importances = pd.Series(search.best_estimator_.feature_importances_,X_train.columns)\n",
        "# plt.figure(figsize=(5,10))\n",
        "# importances.sort_values().plot.barh(color='grey');"
      ],
      "execution_count": 0,
      "outputs": []
    },
    {
      "cell_type": "code",
      "metadata": {
        "id": "nUHB0Zj0Xq0V",
        "colab_type": "code",
        "colab": {
          "base_uri": "https://localhost:8080/",
          "height": 35
        },
        "outputId": "b22073a7-d774-4e61-9503-32914ac5dc85"
      },
      "source": [
        "-gridsearch.best_score_"
      ],
      "execution_count": 110,
      "outputs": [
        {
          "output_type": "execute_result",
          "data": {
            "text/plain": [
              "343.07050363447553"
            ]
          },
          "metadata": {
            "tags": []
          },
          "execution_count": 110
        }
      ]
    },
    {
      "cell_type": "markdown",
      "metadata": {
        "colab_type": "text",
        "id": "edpJ87A8A8sd"
      },
      "source": [
        "\n",
        "### Feature engineering, explained by Francois Chollet\n",
        "\n",
        "> _Feature engineering_ is the process of using your own knowledge about the data and about the machine learning algorithm at hand to make the algorithm work better by applying hardcoded (nonlearned) transformations to the data before it goes into the model. In many cases, it isn’t reasonable to expect a machine-learning model to be able to learn from completely arbitrary data. The data needs to be presented to the model in a way that will make the model’s job easier.\n",
        "\n",
        "> Let’s look at an intuitive example. Suppose you’re trying to develop a model that can take as input an image of a clock and can output the time of day.\n",
        "\n",
        "> If you choose to use the raw pixels of the image as input data, then you have a difficult machine-learning problem on your hands. You’ll need a convolutional neural network to solve it, and you’ll have to expend quite a bit of computational resources to train the network.\n",
        "\n",
        "> But if you already understand the problem at a high level (you understand how humans read time on a clock face), then you can come up with much better input features for a machine-learning algorithm: for instance, write a Python script to follow the black pixels of the clock hands and output the (x, y) coordinates of the tip of each hand. Then a simple machine-learning algorithm can learn to associate these coordinates with the appropriate time of day.\n",
        "\n",
        "> You can go even further: do a coordinate change, and express the (x, y) coordinates as polar coordinates with regard to the center of the image. Your input will become the angle theta of each clock hand. At this point, your features are making the problem so easy that no machine learning is required; a simple rounding operation and dictionary lookup are enough to recover the approximate time of day.\n",
        "\n",
        "> That’s the essence of feature engineering: making a problem easier by expressing it in a simpler way. It usually requires understanding the problem in depth.\n",
        "\n",
        "> Before convolutional neural networks became successful on the MNIST digit-classification problem, solutions were typically based on hardcoded features such as the number of loops in a digit image, the height of each digit in an image, a histogram of pixel values, and so on.\n",
        "\n",
        "> Neural networks are capable of automatically extracting useful features from raw data. Does this mean you don’t have to worry about feature engineering as long as you’re using deep neural networks? No, for two reasons:\n",
        "\n",
        "> - Good features still allow you to solve problems more elegantly while using fewer resources. For instance, it would be ridiculous to solve the problem of reading a clock face using a convolutional neural network.\n",
        "> - Good features let you solve a problem with far less data. The ability of deep-learning models to learn features on their own relies on having lots of training data available; if you have only a few samples, then the information value in their features becomes critical.\n"
      ]
    },
    {
      "cell_type": "code",
      "metadata": {
        "id": "AQGoWlNYV9u4",
        "colab_type": "code",
        "colab": {}
      },
      "source": [
        "#encoded values ie 999, -999\n",
        "\n",
        "#best_estimator = .predict"
      ],
      "execution_count": 0,
      "outputs": []
    },
    {
      "cell_type": "markdown",
      "metadata": {
        "colab_type": "text",
        "id": "oux-dd-5FD6p"
      },
      "source": [
        "ASSIGNMENT\n",
        "\n",
        "**1.** Complete the notebook cells that were originally commented **`TODO`**. \n",
        "\n",
        "**2.** Then, focus on feature engineering to improve your cross validation scores. Collaborate with your cohort on Slack. You could start with the ideas [Jake VanderPlas suggests:](https://jakevdp.github.io/PythonDataScienceHandbook/05.06-linear-regression.html#Example:-Predicting-Bicycle-Traffic)\n",
        "\n",
        "> Our model is almost certainly missing some relevant information. For example, nonlinear effects (such as effects of precipitation and cold temperature) and nonlinear trends within each variable (such as disinclination to ride at very cold and very hot temperatures) cannot be accounted for in this model. Additionally, we have thrown away some of the finer-grained information (such as the difference between a rainy morning and a rainy afternoon), and we have ignored correlations between days (such as the possible effect of a rainy Tuesday on Wednesday's numbers, or the effect of an unexpected sunny day after a streak of rainy days). These are all potentially interesting effects, and you now have the tools to begin exploring them if you wish!\n",
        "\n",
        "**3.** Experiment with the Categorical Encoding notebook.\n",
        "\n",
        "**4.** At the end of the day, take the last step in the \"universal workflow of machine learning\" — \"You can train your final production model on all the available data (training and validation) and evaluate it one last time on the test set.\"\n",
        "\n",
        "See the [`RandomizedSearchCV`](https://scikit-learn.org/stable/modules/generated/sklearn.model_selection.RandomizedSearchCV.html) documentation for the `refit` parameter, `best_estimator_` attribute, and `predict` method:\n",
        "\n",
        "> **refit : boolean, or string, default=True**\n",
        "\n",
        "> Refit an estimator using the best found parameters on the whole dataset.\n",
        "\n",
        "> The refitted estimator is made available at the `best_estimator_` attribute and permits using `predict` directly on this `GridSearchCV` instance.\n",
        "\n",
        "### STRETCH\n",
        "\n",
        "**A.** Apply this lesson other datasets you've worked with, like Ames Housing, Bank Marketing, or others.\n",
        "\n",
        "**B.** In additon to `RandomizedSearchCV`, scikit-learn has [`GridSearchCV`](https://scikit-learn.org/stable/modules/generated/sklearn.model_selection.GridSearchCV.html). Another library called scikit-optimize has [`BayesSearchCV`](https://scikit-optimize.github.io/notebooks/sklearn-gridsearchcv-replacement.html). Experiment with these alternatives.\n",
        "\n",
        "**C.** _[Introduction to Machine Learning with Python](http://shop.oreilly.com/product/0636920030515.do)_ discusses options for \"Grid-Searching Which Model To Use\" in Chapter 6:\n",
        "\n",
        "> You can even go further in combining GridSearchCV and Pipeline: it is also possible to search over the actual steps being performed in the pipeline (say whether to use StandardScaler or MinMaxScaler). This leads to an even bigger search space and should be considered carefully. Trying all possible solutions is usually not a viable machine learning strategy. However, here is an example comparing a RandomForestClassifier and an SVC ...\n",
        "\n",
        "The example is shown in [the accompanying notebook](https://github.com/amueller/introduction_to_ml_with_python/blob/master/06-algorithm-chains-and-pipelines.ipynb), code cells 35-37. Could you apply this concept to your own pipelines?"
      ]
    },
    {
      "cell_type": "code",
      "metadata": {
        "id": "2_FxInLrFDWb",
        "colab_type": "code",
        "colab": {}
      },
      "source": [
        ""
      ],
      "execution_count": 0,
      "outputs": []
    }
  ]
}