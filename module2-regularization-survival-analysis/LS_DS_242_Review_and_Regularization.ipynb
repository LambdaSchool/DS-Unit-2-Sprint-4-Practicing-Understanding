{
 "cells": [
  {
   "cell_type": "markdown",
   "metadata": {},
   "source": [
    "_Lambda School Data Science — Practicing & Understanding Predictive Modeling_\n",
    "\n",
    "# Review & Regularization"
   ]
  },
  {
   "cell_type": "markdown",
   "metadata": {},
   "source": [
    "## Start with example solution for yesterday's assignment"
   ]
  },
  {
   "cell_type": "code",
   "execution_count": 1,
   "metadata": {},
   "outputs": [],
   "source": [
    "%matplotlib inline\n",
    "import matplotlib.pyplot as plt\n",
    "import numpy as np\n",
    "import pandas as pd"
   ]
  },
  {
   "cell_type": "code",
   "execution_count": 2,
   "metadata": {},
   "outputs": [],
   "source": [
    "# We'll modify a project from Python Data Science Handbook by Jake VanderPlas\n",
    "# https://jakevdp.github.io/PythonDataScienceHandbook/05.06-linear-regression.html#Example:-Predicting-Bicycle-Traffic\n",
    "    \n",
    "# Predicting Bicycle Traffic\n",
    "\n",
    "# As an example, let's take a look at whether we can predict the number of \n",
    "# bicycle trips across Seattle's Fremont Bridge based on weather, season, \n",
    "# and other factors.\n",
    "\n",
    "# We will join the bike data with another dataset, and try to determine the \n",
    "# extent to which weather and seasonal factors—temperature, precipitation, \n",
    "# and daylight hours—affect the volume of bicycle traffic through this corridor. \n",
    "# Fortunately, the NOAA makes available their daily weather station data \n",
    "# (I used station ID USW00024233) and we can easily use Pandas to join \n",
    "# the two data sources.\n",
    "\n",
    "def load(): \n",
    "    fremont_bridge = 'https://data.seattle.gov/api/views/65db-xm6k/rows.csv?accessType=DOWNLOAD'\n",
    "    \n",
    "    bicycle_weather = 'https://raw.githubusercontent.com/jakevdp/PythonDataScienceHandbook/master/notebooks/data/BicycleWeather.csv'\n",
    "\n",
    "    counts = pd.read_csv(fremont_bridge, index_col='Date', parse_dates=True, \n",
    "                         infer_datetime_format=True)\n",
    "\n",
    "    weather = pd.read_csv(bicycle_weather, index_col='DATE', parse_dates=True, \n",
    "                          infer_datetime_format=True)\n",
    "\n",
    "    daily = counts.resample('d').sum()\n",
    "    daily['Total'] = daily.sum(axis=1)\n",
    "    daily = daily[['Total']] # remove other columns\n",
    "\n",
    "    weather_columns = ['PRCP', 'SNOW', 'SNWD', 'TMAX', 'TMIN', 'AWND']\n",
    "    daily = daily.join(weather[weather_columns], how='inner')\n",
    "    \n",
    "    # Make a feature for yesterday's total\n",
    "    daily['Total_yesterday'] = daily.Total.shift(1)\n",
    "    daily = daily.drop(index=daily.index[0])\n",
    "    \n",
    "    return daily"
   ]
  },
  {
   "cell_type": "code",
   "execution_count": 3,
   "metadata": {},
   "outputs": [],
   "source": [
    "def split(daily):\n",
    "    # Hold out an \"out-of-time\" test set, from the last 100 days of data\n",
    "    \n",
    "    train = daily[:-100]\n",
    "    test = daily[-100:]\n",
    "    \n",
    "    X_train = train.drop(columns='Total')\n",
    "    y_train = train.Total\n",
    "\n",
    "    X_test  = test.drop(columns='Total')\n",
    "    y_test  = test.Total\n",
    "    \"\"\n",
    "    return X_train, X_test, y_train, y_test"
   ]
  },
  {
   "cell_type": "code",
   "execution_count": 4,
   "metadata": {},
   "outputs": [],
   "source": [
    "def jake_wrangle(X):  \n",
    "    X = X.copy()\n",
    "\n",
    "    # patterns of use generally vary from day to day; \n",
    "    # let's add binary columns that indicate the day of the week:\n",
    "    days = ['Mon', 'Tue', 'Wed', 'Thu', 'Fri', 'Sat', 'Sun']\n",
    "    for i, day in enumerate(days):\n",
    "        X[day] = (X.index.dayofweek == i).astype(float)\n",
    "\n",
    "\n",
    "    # we might expect riders to behave differently on holidays; \n",
    "    # let's add an indicator of this as well:\n",
    "    from pandas.tseries.holiday import USFederalHolidayCalendar\n",
    "    cal = USFederalHolidayCalendar()\n",
    "    holidays = cal.holidays('2012', '2016')\n",
    "    X = X.join(pd.Series(1, index=holidays, name='holiday'))\n",
    "    X['holiday'].fillna(0, inplace=True)\n",
    "\n",
    "\n",
    "    # We also might suspect that the hours of daylight would affect \n",
    "    # how many people ride; let's use the standard astronomical calculation \n",
    "    # to add this information:\n",
    "    def hours_of_daylight(date, axis=23.44, latitude=47.61):\n",
    "        \"\"\"Compute the hours of daylight for the given date\"\"\"\n",
    "        days = (date - pd.datetime(2000, 12, 21)).days\n",
    "        m = (1. - np.tan(np.radians(latitude))\n",
    "             * np.tan(np.radians(axis) * np.cos(days * 2 * np.pi / 365.25)))\n",
    "        return 24. * np.degrees(np.arccos(1 - np.clip(m, 0, 2))) / 180.\n",
    "\n",
    "    X['daylight_hrs'] = list(map(hours_of_daylight, X.index))\n",
    "\n",
    "\n",
    "    # temperatures are in 1/10 deg C; convert to C\n",
    "    X['TMIN'] /= 10\n",
    "    X['TMAX'] /= 10\n",
    "\n",
    "    # We can also calcuate the average temperature.\n",
    "    X['Temp (C)'] = 0.5 * (X['TMIN'] + X['TMAX'])\n",
    "\n",
    "\n",
    "    # precip is in 1/10 mm; convert to inches\n",
    "    X['PRCP'] /= 254\n",
    "\n",
    "    # In addition to the inches of precipitation, let's add a flag that \n",
    "    # indicates whether a day is dry (has zero precipitation):\n",
    "    X['dry day'] = (X['PRCP'] == 0).astype(int)\n",
    "\n",
    "\n",
    "    # Let's add a counter that increases from day 1, and measures how many \n",
    "    # years have passed. This will let us measure any observed annual increase \n",
    "    # or decrease in daily crossings:\n",
    "    X['annual'] = (X.index - X.index[0]).days / 365.\n",
    "\n",
    "    return X"
   ]
  },
  {
   "cell_type": "code",
   "execution_count": 5,
   "metadata": {},
   "outputs": [],
   "source": [
    "# Download and join data into a dataframe\n",
    "data = load()"
   ]
  },
  {
   "cell_type": "markdown",
   "metadata": {},
   "source": [
    "#### `SNOW` and `AWND` have minimums of `-9999` ..."
   ]
  },
  {
   "cell_type": "code",
   "execution_count": 6,
   "metadata": {},
   "outputs": [
    {
     "data": {
      "text/html": [
       "<div>\n",
       "<style scoped>\n",
       "    .dataframe tbody tr th:only-of-type {\n",
       "        vertical-align: middle;\n",
       "    }\n",
       "\n",
       "    .dataframe tbody tr th {\n",
       "        vertical-align: top;\n",
       "    }\n",
       "\n",
       "    .dataframe thead th {\n",
       "        text-align: right;\n",
       "    }\n",
       "</style>\n",
       "<table border=\"1\" class=\"dataframe\">\n",
       "  <thead>\n",
       "    <tr style=\"text-align: right;\">\n",
       "      <th></th>\n",
       "      <th>Total</th>\n",
       "      <th>PRCP</th>\n",
       "      <th>SNOW</th>\n",
       "      <th>SNWD</th>\n",
       "      <th>TMAX</th>\n",
       "      <th>TMIN</th>\n",
       "      <th>AWND</th>\n",
       "      <th>Total_yesterday</th>\n",
       "    </tr>\n",
       "  </thead>\n",
       "  <tbody>\n",
       "    <tr>\n",
       "      <th>count</th>\n",
       "      <td>1063.000000</td>\n",
       "      <td>1063.000000</td>\n",
       "      <td>1063.000000</td>\n",
       "      <td>1063.000000</td>\n",
       "      <td>1063.000000</td>\n",
       "      <td>1063.000000</td>\n",
       "      <td>1063.000000</td>\n",
       "      <td>1063.000000</td>\n",
       "    </tr>\n",
       "    <tr>\n",
       "      <th>mean</th>\n",
       "      <td>2632.449671</td>\n",
       "      <td>29.350894</td>\n",
       "      <td>-37.496707</td>\n",
       "      <td>0.098777</td>\n",
       "      <td>166.863594</td>\n",
       "      <td>84.472248</td>\n",
       "      <td>22.338664</td>\n",
       "      <td>2633.056444</td>\n",
       "    </tr>\n",
       "    <tr>\n",
       "      <th>std</th>\n",
       "      <td>1252.864020</td>\n",
       "      <td>65.813053</td>\n",
       "      <td>612.512583</td>\n",
       "      <td>2.570041</td>\n",
       "      <td>74.779734</td>\n",
       "      <td>50.916006</td>\n",
       "      <td>307.984292</td>\n",
       "      <td>1253.138245</td>\n",
       "    </tr>\n",
       "    <tr>\n",
       "      <th>min</th>\n",
       "      <td>98.000000</td>\n",
       "      <td>0.000000</td>\n",
       "      <td>-9999.000000</td>\n",
       "      <td>0.000000</td>\n",
       "      <td>-16.000000</td>\n",
       "      <td>-71.000000</td>\n",
       "      <td>-9999.000000</td>\n",
       "      <td>98.000000</td>\n",
       "    </tr>\n",
       "    <tr>\n",
       "      <th>25%</th>\n",
       "      <td>1806.000000</td>\n",
       "      <td>0.000000</td>\n",
       "      <td>0.000000</td>\n",
       "      <td>0.000000</td>\n",
       "      <td>111.000000</td>\n",
       "      <td>44.000000</td>\n",
       "      <td>22.000000</td>\n",
       "      <td>1806.000000</td>\n",
       "    </tr>\n",
       "    <tr>\n",
       "      <th>50%</th>\n",
       "      <td>2435.000000</td>\n",
       "      <td>0.000000</td>\n",
       "      <td>0.000000</td>\n",
       "      <td>0.000000</td>\n",
       "      <td>150.000000</td>\n",
       "      <td>83.000000</td>\n",
       "      <td>29.000000</td>\n",
       "      <td>2435.000000</td>\n",
       "    </tr>\n",
       "    <tr>\n",
       "      <th>75%</th>\n",
       "      <td>3574.500000</td>\n",
       "      <td>26.500000</td>\n",
       "      <td>0.000000</td>\n",
       "      <td>0.000000</td>\n",
       "      <td>222.000000</td>\n",
       "      <td>128.000000</td>\n",
       "      <td>40.000000</td>\n",
       "      <td>3574.500000</td>\n",
       "    </tr>\n",
       "    <tr>\n",
       "      <th>max</th>\n",
       "      <td>6088.000000</td>\n",
       "      <td>559.000000</td>\n",
       "      <td>74.000000</td>\n",
       "      <td>80.000000</td>\n",
       "      <td>356.000000</td>\n",
       "      <td>183.000000</td>\n",
       "      <td>95.000000</td>\n",
       "      <td>6088.000000</td>\n",
       "    </tr>\n",
       "  </tbody>\n",
       "</table>\n",
       "</div>"
      ],
      "text/plain": [
       "             Total         PRCP         SNOW         SNWD         TMAX  \\\n",
       "count  1063.000000  1063.000000  1063.000000  1063.000000  1063.000000   \n",
       "mean   2632.449671    29.350894   -37.496707     0.098777   166.863594   \n",
       "std    1252.864020    65.813053   612.512583     2.570041    74.779734   \n",
       "min      98.000000     0.000000 -9999.000000     0.000000   -16.000000   \n",
       "25%    1806.000000     0.000000     0.000000     0.000000   111.000000   \n",
       "50%    2435.000000     0.000000     0.000000     0.000000   150.000000   \n",
       "75%    3574.500000    26.500000     0.000000     0.000000   222.000000   \n",
       "max    6088.000000   559.000000    74.000000    80.000000   356.000000   \n",
       "\n",
       "              TMIN         AWND  Total_yesterday  \n",
       "count  1063.000000  1063.000000      1063.000000  \n",
       "mean     84.472248    22.338664      2633.056444  \n",
       "std      50.916006   307.984292      1253.138245  \n",
       "min     -71.000000 -9999.000000        98.000000  \n",
       "25%      44.000000    22.000000      1806.000000  \n",
       "50%      83.000000    29.000000      2435.000000  \n",
       "75%     128.000000    40.000000      3574.500000  \n",
       "max     183.000000    95.000000      6088.000000  "
      ]
     },
     "execution_count": 6,
     "metadata": {},
     "output_type": "execute_result"
    }
   ],
   "source": [
    "data.describe(include='number')"
   ]
  },
  {
   "cell_type": "markdown",
   "metadata": {},
   "source": [
    "### Clean data and engineer features"
   ]
  },
  {
   "cell_type": "code",
   "execution_count": 7,
   "metadata": {},
   "outputs": [],
   "source": [
    "def wrangle(X):\n",
    "    X = X.copy()\n",
    "    X = X.replace(-9999, 0)\n",
    "    X = jake_wrangle(X)\n",
    "    \n",
    "    # DS1 DH\n",
    "    X['PRCP_yesterday'] = X.PRCP.shift(1).fillna(X.PRCP.mean())\n",
    "    X['Windchill'] = (((X['Temp (C)'] * (9/5) + 32) * .6215) + 34.74) - (35.75 * (X['AWND']** .16)) + (.4275 * (X['Temp (C)'])) * (X['AWND'] ** .16)\n",
    "    X['Rl_Cold'] = (((X['Temp (C)'] * (9/5) + 32) - X['Windchill']) -32) * (5/9)\n",
    "    X['TMIN_squared'] = X['TMIN'] **2\n",
    "    \n",
    "    months = ['Jan', 'Feb', 'Mar', 'Apr', 'May', 'Jun', 'Jul', 'Aug', 'Sep', 'Oct', 'Nov', 'Dec']\n",
    "    for i, month in enumerate(months):\n",
    "        X[month] = (X.index.month == i+1).astype(float)\n",
    "    \n",
    "    # DS3 JD\n",
    "    X['light_rain'] = (X['PRCP'] > 0) & (X['PRCP'] < 0.10)\n",
    "    X['moderate_rain'] = (X['PRCP'] >= 0.1) & (X['PRCP'] < 0.30)\n",
    "    X['heavy_rain'] = (X['PRCP'] >= 0.30)\n",
    "    X['weekend_day'] = (X['Sat'] == 1) | (X['Sun'] == 1)\n",
    "\n",
    "    return X"
   ]
  },
  {
   "cell_type": "code",
   "execution_count": 8,
   "metadata": {},
   "outputs": [],
   "source": [
    "# Split data into train and test\n",
    "X_train, X_test, y_train, y_test = split(data)\n",
    "\n",
    "# Do the same wrangling to X_train and X_test\n",
    "X_train = wrangle(X_train)\n",
    "X_test  = wrangle(X_test)"
   ]
  },
  {
   "cell_type": "markdown",
   "metadata": {},
   "source": [
    "### RandomizedSearchCV review / SPRINT CHALLENGE PRACTICE\n",
    "- https://twitter.com/jakevdp/status/648593367786323968\n",
    "- https://www.google.com/search?q=site%3Ascikit-learn.org+RandomizedSearchCV\n",
    "  - https://scikit-learn.org/stable/modules/generated/sklearn.model_selection.RandomizedSearchCV.html\n",
    "  - https://scikit-learn.org/stable/auto_examples/model_selection/plot_randomized_search.html\n",
    "- https://www.google.com/search?q=XGBRegressor\n",
    "  - https://xgboost.readthedocs.io/en/latest/python/python_api.html#xgboost.XGBRegressor\n",
    "- https://www.google.com/search?q=xgboost+parameter+tuning\n",
    "  - https://xgboost.readthedocs.io/en/latest/tutorials/param_tuning.html\n",
    "- https://nbviewer.jupyter.org/github/rasbt/python-machine-learning-book/blob/master/code/bonus/svm_iris_pipeline_and_gridsearch.ipynb"
   ]
  },
  {
   "cell_type": "code",
   "execution_count": 9,
   "metadata": {},
   "outputs": [],
   "source": [
    "from scipy.stats import randint\n",
    "from sklearn.model_selection import RandomizedSearchCV\n",
    "from xgboost import XGBRegressor\n",
    "\n",
    "param_distributions = {\n",
    "    'n_estimators': randint(50, 500), \n",
    "    'max_depth': randint(1, 5)\n",
    "}\n",
    "\n",
    "search = RandomizedSearchCV(\n",
    "    estimator=XGBRegressor(n_jobs=-1, random_state=42), \n",
    "    param_distributions=param_distributions, \n",
    "    n_iter=50,\n",
    "    scoring='neg_mean_absolute_error', \n",
    "    n_jobs=-1, \n",
    "    cv=3, \n",
    "    verbose=10, \n",
    "    return_train_score=True, \n",
    "    random_state=42\n",
    ")\n",
    "\n",
    "#search.fit(X_train, y_train)"
   ]
  },
  {
   "cell_type": "code",
   "execution_count": 10,
   "metadata": {},
   "outputs": [
    {
     "name": "stdout",
     "output_type": "stream",
     "text": [
      "Fitting 3 folds for each of 50 candidates, totalling 150 fits\n"
     ]
    },
    {
     "name": "stderr",
     "output_type": "stream",
     "text": [
      "[Parallel(n_jobs=-1)]: Using backend LokyBackend with 8 concurrent workers.\n",
      "[Parallel(n_jobs=-1)]: Done   2 tasks      | elapsed:    1.9s\n",
      "[Parallel(n_jobs=-1)]: Done   9 tasks      | elapsed:    2.1s\n",
      "[Parallel(n_jobs=-1)]: Done  16 tasks      | elapsed:    2.5s\n",
      "[Parallel(n_jobs=-1)]: Done  25 tasks      | elapsed:    2.9s\n",
      "[Parallel(n_jobs=-1)]: Done  34 tasks      | elapsed:    3.5s\n",
      "[Parallel(n_jobs=-1)]: Done  45 tasks      | elapsed:    4.2s\n",
      "[Parallel(n_jobs=-1)]: Done  56 tasks      | elapsed:    4.9s\n",
      "[Parallel(n_jobs=-1)]: Done  69 tasks      | elapsed:    5.6s\n",
      "[Parallel(n_jobs=-1)]: Done  82 tasks      | elapsed:    6.5s\n",
      "[Parallel(n_jobs=-1)]: Done  97 tasks      | elapsed:    7.0s\n",
      "[Parallel(n_jobs=-1)]: Done 112 tasks      | elapsed:    8.0s\n",
      "[Parallel(n_jobs=-1)]: Done 129 tasks      | elapsed:    8.8s\n",
      "[Parallel(n_jobs=-1)]: Done 150 out of 150 | elapsed:    9.9s finished\n",
      "/home/jmurphy/anaconda3/lib/python3.7/site-packages/xgboost/core.py:587: FutureWarning: Series.base is deprecated and will be removed in a future version\n",
      "  if getattr(data, 'base', None) is not None and \\\n",
      "/home/jmurphy/anaconda3/lib/python3.7/site-packages/xgboost/core.py:588: FutureWarning: Series.base is deprecated and will be removed in a future version\n",
      "  data.base is not None and isinstance(data, np.ndarray) \\\n"
     ]
    },
    {
     "data": {
      "text/plain": [
       "RandomizedSearchCV(cv=3, error_score='raise-deprecating',\n",
       "          estimator=XGBRegressor(base_score=0.5, booster='gbtree', colsample_bylevel=1,\n",
       "       colsample_bytree=1, gamma=0, importance_type='gain',\n",
       "       learning_rate=0.1, max_delta_step=0, max_depth=3,\n",
       "       min_child_weight=1, missing=None, n_estimators=100, n_jobs=-1,\n",
       "       nthread=None, objective='reg:linear', random_state=42, reg_alpha=0,\n",
       "       reg_lambda=1, scale_pos_weight=1, seed=None, silent=True,\n",
       "       subsample=1),\n",
       "          fit_params=None, iid='warn', n_iter=50, n_jobs=-1,\n",
       "          param_distributions={'n_estimators': <scipy.stats._distn_infrastructure.rv_frozen object at 0x7fe88ca7ada0>, 'max_depth': <scipy.stats._distn_infrastructure.rv_frozen object at 0x7fe886671240>},\n",
       "          pre_dispatch='2*n_jobs', random_state=42, refit=True,\n",
       "          return_train_score=True, scoring='neg_mean_absolute_error',\n",
       "          verbose=10)"
      ]
     },
     "execution_count": 10,
     "metadata": {},
     "output_type": "execute_result"
    }
   ],
   "source": [
    "search.fit(X_train,y_train)"
   ]
  },
  {
   "cell_type": "code",
   "execution_count": 17,
   "metadata": {},
   "outputs": [
    {
     "name": "stdout",
     "output_type": "stream",
     "text": [
      "Mean Absolute Error with Cross-Validation:\n",
      "Predictions are off by 265 bicyclists per day, on average\n"
     ]
    }
   ],
   "source": [
    "print('Mean Absolute Error with Cross-Validation:')\n",
    "print(f'Predictions are off by {int(-search.best_score_)} bicyclists per day, on average')"
   ]
  },
  {
   "cell_type": "code",
   "execution_count": 19,
   "metadata": {},
   "outputs": [
    {
     "data": {
      "text/html": [
       "<div>\n",
       "<style scoped>\n",
       "    .dataframe tbody tr th:only-of-type {\n",
       "        vertical-align: middle;\n",
       "    }\n",
       "\n",
       "    .dataframe tbody tr th {\n",
       "        vertical-align: top;\n",
       "    }\n",
       "\n",
       "    .dataframe thead th {\n",
       "        text-align: right;\n",
       "    }\n",
       "</style>\n",
       "<table border=\"1\" class=\"dataframe\">\n",
       "  <thead>\n",
       "    <tr style=\"text-align: right;\">\n",
       "      <th></th>\n",
       "      <th>mean_fit_time</th>\n",
       "      <th>std_fit_time</th>\n",
       "      <th>mean_score_time</th>\n",
       "      <th>std_score_time</th>\n",
       "      <th>param_max_depth</th>\n",
       "      <th>param_n_estimators</th>\n",
       "      <th>params</th>\n",
       "      <th>split0_test_score</th>\n",
       "      <th>split1_test_score</th>\n",
       "      <th>split2_test_score</th>\n",
       "      <th>mean_test_score</th>\n",
       "      <th>std_test_score</th>\n",
       "      <th>rank_test_score</th>\n",
       "      <th>split0_train_score</th>\n",
       "      <th>split1_train_score</th>\n",
       "      <th>split2_train_score</th>\n",
       "      <th>mean_train_score</th>\n",
       "      <th>std_train_score</th>\n",
       "    </tr>\n",
       "  </thead>\n",
       "  <tbody>\n",
       "    <tr>\n",
       "      <th>41</th>\n",
       "      <td>0.200919</td>\n",
       "      <td>0.009815</td>\n",
       "      <td>0.005111</td>\n",
       "      <td>0.000165</td>\n",
       "      <td>4</td>\n",
       "      <td>99</td>\n",
       "      <td>{'max_depth': 4, 'n_estimators': 99}</td>\n",
       "      <td>-239.140201</td>\n",
       "      <td>-299.719542</td>\n",
       "      <td>-258.634296</td>\n",
       "      <td>-265.831346</td>\n",
       "      <td>25.249584</td>\n",
       "      <td>1</td>\n",
       "      <td>-118.287817</td>\n",
       "      <td>-111.714466</td>\n",
       "      <td>-115.705761</td>\n",
       "      <td>-115.236015</td>\n",
       "      <td>2.704038</td>\n",
       "    </tr>\n",
       "    <tr>\n",
       "      <th>6</th>\n",
       "      <td>0.203486</td>\n",
       "      <td>0.014282</td>\n",
       "      <td>0.005506</td>\n",
       "      <td>0.000094</td>\n",
       "      <td>3</td>\n",
       "      <td>137</td>\n",
       "      <td>{'max_depth': 3, 'n_estimators': 137}</td>\n",
       "      <td>-244.438229</td>\n",
       "      <td>-304.533409</td>\n",
       "      <td>-251.465551</td>\n",
       "      <td>-266.812396</td>\n",
       "      <td>26.826627</td>\n",
       "      <td>2</td>\n",
       "      <td>-147.865735</td>\n",
       "      <td>-142.781576</td>\n",
       "      <td>-148.144886</td>\n",
       "      <td>-146.264066</td>\n",
       "      <td>2.465127</td>\n",
       "    </tr>\n",
       "    <tr>\n",
       "      <th>2</th>\n",
       "      <td>0.227611</td>\n",
       "      <td>0.048321</td>\n",
       "      <td>0.007044</td>\n",
       "      <td>0.002623</td>\n",
       "      <td>3</td>\n",
       "      <td>121</td>\n",
       "      <td>{'max_depth': 3, 'n_estimators': 121}</td>\n",
       "      <td>-243.344933</td>\n",
       "      <td>-304.401840</td>\n",
       "      <td>-254.079236</td>\n",
       "      <td>-267.275336</td>\n",
       "      <td>26.615651</td>\n",
       "      <td>3</td>\n",
       "      <td>-155.450152</td>\n",
       "      <td>-149.231834</td>\n",
       "      <td>-154.527866</td>\n",
       "      <td>-153.069951</td>\n",
       "      <td>2.739952</td>\n",
       "    </tr>\n",
       "    <tr>\n",
       "      <th>47</th>\n",
       "      <td>0.290568</td>\n",
       "      <td>0.014306</td>\n",
       "      <td>0.005834</td>\n",
       "      <td>0.000055</td>\n",
       "      <td>2</td>\n",
       "      <td>267</td>\n",
       "      <td>{'max_depth': 2, 'n_estimators': 267}</td>\n",
       "      <td>-240.444091</td>\n",
       "      <td>-302.803964</td>\n",
       "      <td>-259.613981</td>\n",
       "      <td>-267.620679</td>\n",
       "      <td>26.080246</td>\n",
       "      <td>4</td>\n",
       "      <td>-169.646317</td>\n",
       "      <td>-160.380511</td>\n",
       "      <td>-166.519723</td>\n",
       "      <td>-165.515517</td>\n",
       "      <td>3.848819</td>\n",
       "    </tr>\n",
       "    <tr>\n",
       "      <th>32</th>\n",
       "      <td>0.319920</td>\n",
       "      <td>0.016993</td>\n",
       "      <td>0.007405</td>\n",
       "      <td>0.001919</td>\n",
       "      <td>2</td>\n",
       "      <td>291</td>\n",
       "      <td>{'max_depth': 2, 'n_estimators': 291}</td>\n",
       "      <td>-241.840456</td>\n",
       "      <td>-303.311846</td>\n",
       "      <td>-259.036209</td>\n",
       "      <td>-268.062837</td>\n",
       "      <td>25.894567</td>\n",
       "      <td>5</td>\n",
       "      <td>-165.989825</td>\n",
       "      <td>-155.599304</td>\n",
       "      <td>-161.756025</td>\n",
       "      <td>-161.115051</td>\n",
       "      <td>4.266057</td>\n",
       "    </tr>\n",
       "  </tbody>\n",
       "</table>\n",
       "</div>"
      ],
      "text/plain": [
       "    mean_fit_time  std_fit_time  mean_score_time  std_score_time  \\\n",
       "41       0.200919      0.009815         0.005111        0.000165   \n",
       "6        0.203486      0.014282         0.005506        0.000094   \n",
       "2        0.227611      0.048321         0.007044        0.002623   \n",
       "47       0.290568      0.014306         0.005834        0.000055   \n",
       "32       0.319920      0.016993         0.007405        0.001919   \n",
       "\n",
       "   param_max_depth param_n_estimators                                 params  \\\n",
       "41               4                 99   {'max_depth': 4, 'n_estimators': 99}   \n",
       "6                3                137  {'max_depth': 3, 'n_estimators': 137}   \n",
       "2                3                121  {'max_depth': 3, 'n_estimators': 121}   \n",
       "47               2                267  {'max_depth': 2, 'n_estimators': 267}   \n",
       "32               2                291  {'max_depth': 2, 'n_estimators': 291}   \n",
       "\n",
       "    split0_test_score  split1_test_score  split2_test_score  mean_test_score  \\\n",
       "41        -239.140201        -299.719542        -258.634296      -265.831346   \n",
       "6         -244.438229        -304.533409        -251.465551      -266.812396   \n",
       "2         -243.344933        -304.401840        -254.079236      -267.275336   \n",
       "47        -240.444091        -302.803964        -259.613981      -267.620679   \n",
       "32        -241.840456        -303.311846        -259.036209      -268.062837   \n",
       "\n",
       "    std_test_score  rank_test_score  split0_train_score  split1_train_score  \\\n",
       "41       25.249584                1         -118.287817         -111.714466   \n",
       "6        26.826627                2         -147.865735         -142.781576   \n",
       "2        26.615651                3         -155.450152         -149.231834   \n",
       "47       26.080246                4         -169.646317         -160.380511   \n",
       "32       25.894567                5         -165.989825         -155.599304   \n",
       "\n",
       "    split2_train_score  mean_train_score  std_train_score  \n",
       "41         -115.705761       -115.236015         2.704038  \n",
       "6          -148.144886       -146.264066         2.465127  \n",
       "2          -154.527866       -153.069951         2.739952  \n",
       "47         -166.519723       -165.515517         3.848819  \n",
       "32         -161.756025       -161.115051         4.266057  "
      ]
     },
     "execution_count": 19,
     "metadata": {},
     "output_type": "execute_result"
    }
   ],
   "source": [
    "pd.DataFrame(search.cv_results_).sort_values(by='rank_test_score').head()"
   ]
  },
  {
   "cell_type": "code",
   "execution_count": 21,
   "metadata": {},
   "outputs": [
    {
     "data": {
      "text/html": [
       "<div>\n",
       "<style scoped>\n",
       "    .dataframe tbody tr th:only-of-type {\n",
       "        vertical-align: middle;\n",
       "    }\n",
       "\n",
       "    .dataframe tbody tr th {\n",
       "        vertical-align: top;\n",
       "    }\n",
       "\n",
       "    .dataframe thead th {\n",
       "        text-align: right;\n",
       "    }\n",
       "</style>\n",
       "<table border=\"1\" class=\"dataframe\">\n",
       "  <thead>\n",
       "    <tr style=\"text-align: right;\">\n",
       "      <th></th>\n",
       "      <th>mean_fit_time</th>\n",
       "      <th>std_fit_time</th>\n",
       "      <th>mean_score_time</th>\n",
       "      <th>std_score_time</th>\n",
       "      <th>param_max_depth</th>\n",
       "      <th>param_n_estimators</th>\n",
       "      <th>params</th>\n",
       "      <th>split0_test_score</th>\n",
       "      <th>split1_test_score</th>\n",
       "      <th>split2_test_score</th>\n",
       "      <th>mean_test_score</th>\n",
       "      <th>std_test_score</th>\n",
       "      <th>rank_test_score</th>\n",
       "      <th>split0_train_score</th>\n",
       "      <th>split1_train_score</th>\n",
       "      <th>split2_train_score</th>\n",
       "      <th>mean_train_score</th>\n",
       "      <th>std_train_score</th>\n",
       "    </tr>\n",
       "  </thead>\n",
       "  <tbody>\n",
       "    <tr>\n",
       "      <th>29</th>\n",
       "      <td>0.142722</td>\n",
       "      <td>0.009494</td>\n",
       "      <td>0.005321</td>\n",
       "      <td>0.000978</td>\n",
       "      <td>1</td>\n",
       "      <td>216</td>\n",
       "      <td>{'max_depth': 1, 'n_estimators': 216}</td>\n",
       "      <td>-289.782356</td>\n",
       "      <td>-328.937102</td>\n",
       "      <td>-323.153247</td>\n",
       "      <td>-313.957568</td>\n",
       "      <td>17.256765</td>\n",
       "      <td>46</td>\n",
       "      <td>-267.154350</td>\n",
       "      <td>-263.490960</td>\n",
       "      <td>-262.507895</td>\n",
       "      <td>-264.384402</td>\n",
       "      <td>1.999344</td>\n",
       "    </tr>\n",
       "    <tr>\n",
       "      <th>14</th>\n",
       "      <td>0.131762</td>\n",
       "      <td>0.003615</td>\n",
       "      <td>0.004928</td>\n",
       "      <td>0.000304</td>\n",
       "      <td>1</td>\n",
       "      <td>210</td>\n",
       "      <td>{'max_depth': 1, 'n_estimators': 210}</td>\n",
       "      <td>-289.803013</td>\n",
       "      <td>-330.444365</td>\n",
       "      <td>-323.009156</td>\n",
       "      <td>-314.418845</td>\n",
       "      <td>17.668710</td>\n",
       "      <td>47</td>\n",
       "      <td>-268.307510</td>\n",
       "      <td>-264.348917</td>\n",
       "      <td>-263.597397</td>\n",
       "      <td>-265.417941</td>\n",
       "      <td>2.066140</td>\n",
       "    </tr>\n",
       "    <tr>\n",
       "      <th>7</th>\n",
       "      <td>0.137759</td>\n",
       "      <td>0.034377</td>\n",
       "      <td>0.009402</td>\n",
       "      <td>0.005824</td>\n",
       "      <td>1</td>\n",
       "      <td>149</td>\n",
       "      <td>{'max_depth': 1, 'n_estimators': 149}</td>\n",
       "      <td>-293.405354</td>\n",
       "      <td>-342.035906</td>\n",
       "      <td>-328.566641</td>\n",
       "      <td>-321.335967</td>\n",
       "      <td>20.501132</td>\n",
       "      <td>48</td>\n",
       "      <td>-283.697866</td>\n",
       "      <td>-276.645941</td>\n",
       "      <td>-281.306564</td>\n",
       "      <td>-280.550123</td>\n",
       "      <td>2.928203</td>\n",
       "    </tr>\n",
       "    <tr>\n",
       "      <th>18</th>\n",
       "      <td>0.089419</td>\n",
       "      <td>0.010074</td>\n",
       "      <td>0.005083</td>\n",
       "      <td>0.000742</td>\n",
       "      <td>1</td>\n",
       "      <td>108</td>\n",
       "      <td>{'max_depth': 1, 'n_estimators': 108}</td>\n",
       "      <td>-320.589672</td>\n",
       "      <td>-360.931201</td>\n",
       "      <td>-340.759934</td>\n",
       "      <td>-340.760269</td>\n",
       "      <td>16.469360</td>\n",
       "      <td>49</td>\n",
       "      <td>-303.647344</td>\n",
       "      <td>-292.263201</td>\n",
       "      <td>-300.832288</td>\n",
       "      <td>-298.914278</td>\n",
       "      <td>4.841401</td>\n",
       "    </tr>\n",
       "    <tr>\n",
       "      <th>3</th>\n",
       "      <td>0.056074</td>\n",
       "      <td>0.004328</td>\n",
       "      <td>0.004540</td>\n",
       "      <td>0.000818</td>\n",
       "      <td>1</td>\n",
       "      <td>70</td>\n",
       "      <td>{'max_depth': 1, 'n_estimators': 70}</td>\n",
       "      <td>-346.360580</td>\n",
       "      <td>-397.258697</td>\n",
       "      <td>-363.825120</td>\n",
       "      <td>-369.148132</td>\n",
       "      <td>21.117219</td>\n",
       "      <td>50</td>\n",
       "      <td>-345.075502</td>\n",
       "      <td>-324.808175</td>\n",
       "      <td>-338.039347</td>\n",
       "      <td>-335.974341</td>\n",
       "      <td>8.401957</td>\n",
       "    </tr>\n",
       "  </tbody>\n",
       "</table>\n",
       "</div>"
      ],
      "text/plain": [
       "    mean_fit_time  std_fit_time  mean_score_time  std_score_time  \\\n",
       "29       0.142722      0.009494         0.005321        0.000978   \n",
       "14       0.131762      0.003615         0.004928        0.000304   \n",
       "7        0.137759      0.034377         0.009402        0.005824   \n",
       "18       0.089419      0.010074         0.005083        0.000742   \n",
       "3        0.056074      0.004328         0.004540        0.000818   \n",
       "\n",
       "   param_max_depth param_n_estimators                                 params  \\\n",
       "29               1                216  {'max_depth': 1, 'n_estimators': 216}   \n",
       "14               1                210  {'max_depth': 1, 'n_estimators': 210}   \n",
       "7                1                149  {'max_depth': 1, 'n_estimators': 149}   \n",
       "18               1                108  {'max_depth': 1, 'n_estimators': 108}   \n",
       "3                1                 70   {'max_depth': 1, 'n_estimators': 70}   \n",
       "\n",
       "    split0_test_score  split1_test_score  split2_test_score  mean_test_score  \\\n",
       "29        -289.782356        -328.937102        -323.153247      -313.957568   \n",
       "14        -289.803013        -330.444365        -323.009156      -314.418845   \n",
       "7         -293.405354        -342.035906        -328.566641      -321.335967   \n",
       "18        -320.589672        -360.931201        -340.759934      -340.760269   \n",
       "3         -346.360580        -397.258697        -363.825120      -369.148132   \n",
       "\n",
       "    std_test_score  rank_test_score  split0_train_score  split1_train_score  \\\n",
       "29       17.256765               46         -267.154350         -263.490960   \n",
       "14       17.668710               47         -268.307510         -264.348917   \n",
       "7        20.501132               48         -283.697866         -276.645941   \n",
       "18       16.469360               49         -303.647344         -292.263201   \n",
       "3        21.117219               50         -345.075502         -324.808175   \n",
       "\n",
       "    split2_train_score  mean_train_score  std_train_score  \n",
       "29         -262.507895       -264.384402         1.999344  \n",
       "14         -263.597397       -265.417941         2.066140  \n",
       "7          -281.306564       -280.550123         2.928203  \n",
       "18         -300.832288       -298.914278         4.841401  \n",
       "3          -338.039347       -335.974341         8.401957  "
      ]
     },
     "execution_count": 21,
     "metadata": {},
     "output_type": "execute_result"
    }
   ],
   "source": [
    "pd.DataFrame(search.cv_results_).sort_values(by='rank_test_score').tail()"
   ]
  },
  {
   "cell_type": "code",
   "execution_count": 22,
   "metadata": {},
   "outputs": [
    {
     "data": {
      "text/plain": [
       "XGBRegressor(base_score=0.5, booster='gbtree', colsample_bylevel=1,\n",
       "       colsample_bytree=1, gamma=0, importance_type='gain',\n",
       "       learning_rate=0.1, max_delta_step=0, max_depth=4,\n",
       "       min_child_weight=1, missing=None, n_estimators=99, n_jobs=-1,\n",
       "       nthread=None, objective='reg:linear', random_state=42, reg_alpha=0,\n",
       "       reg_lambda=1, scale_pos_weight=1, seed=None, silent=True,\n",
       "       subsample=1)"
      ]
     },
     "execution_count": 22,
     "metadata": {},
     "output_type": "execute_result"
    }
   ],
   "source": [
    "search.best_estimator_"
   ]
  },
  {
   "cell_type": "code",
   "execution_count": 23,
   "metadata": {},
   "outputs": [
    {
     "data": {
      "image/png": "[encoded data removed]",
      "text/plain": [
       "<Figure size 360x720 with 1 Axes>"
      ]
     },
     "metadata": {
      "needs_background": "light"
     },
     "output_type": "display_data"
    }
   ],
   "source": [
    "plt.figure(figsize=(5,10))\n",
    "importances = pd.Series(search.best_estimator_.feature_importances_, X_train.columns)\n",
    "importances.sort_values().plot.barh(color='gray');"
   ]
  },
  {
   "cell_type": "markdown",
   "metadata": {},
   "source": [
    "### Take the last step\n",
    "\n",
    "Yesterday's assingment said,\n",
    "\n",
    "At the end of the day, take the last step in the \"universal workflow of machine learning\" — \"You can train your final production model on all the available data (training and validation) and evaluate it one last time on the test set.\"\n",
    "\n",
    "See the [`RandomizedSearchCV`](https://scikit-learn.org/stable/modules/generated/sklearn.model_selection.RandomizedSearchCV.html) documentation for the `refit` parameter, `best_estimator_` attribute, and `predict` method:\n",
    "\n",
    "> **refit : boolean, or string, default=True**\n",
    "\n",
    "> Refit an estimator using the best found parameters on the whole dataset.\n",
    "\n",
    "> The refitted estimator is made available at the `best_estimator_` attribute and permits using `predict` directly on this `GridSearchCV` instance."
   ]
  },
  {
   "cell_type": "code",
   "execution_count": 24,
   "metadata": {},
   "outputs": [
    {
     "name": "stdout",
     "output_type": "stream",
     "text": [
      "Mean Absolute Error, with final model, on the hold-out test set: 252.56884338378907\n"
     ]
    }
   ],
   "source": [
    "from sklearn.metrics import mean_absolute_error\n",
    "final = search.best_estimator_\n",
    "y_pred = final.predict(X_test)  # We already wrangled X_test in the same way as X_train\n",
    "test_mae = mean_absolute_error(y_test, y_pred)\n",
    "print('Mean Absolute Error, with final model, on the hold-out test set:', test_mae)"
   ]
  },
  {
   "cell_type": "markdown",
   "metadata": {},
   "source": [
    "## A few new things!\n",
    "- Pipeline + RandomizedSearchCV\n",
    "- SelectKBest for feature selection, in a pipeline\n",
    "- Ridge Regression, a linear model with regularization"
   ]
  },
  {
   "cell_type": "code",
   "execution_count": 26,
   "metadata": {},
   "outputs": [
    {
     "name": "stdout",
     "output_type": "stream",
     "text": [
      "Fitting 5 folds for each of 100 candidates, totalling 500 fits\n"
     ]
    },
    {
     "name": "stderr",
     "output_type": "stream",
     "text": [
      "[Parallel(n_jobs=-1)]: Using backend LokyBackend with 8 concurrent workers.\n",
      "[Parallel(n_jobs=-1)]: Done   2 tasks      | elapsed:    1.7s\n",
      "[Parallel(n_jobs=-1)]: Done   9 tasks      | elapsed:    1.8s\n",
      "[Parallel(n_jobs=-1)]: Done  16 tasks      | elapsed:    1.9s\n",
      "[Parallel(n_jobs=-1)]: Done  25 tasks      | elapsed:    2.0s\n",
      "[Parallel(n_jobs=-1)]: Done  34 tasks      | elapsed:    2.1s\n",
      "[Parallel(n_jobs=-1)]: Batch computation too fast (0.1977s.) Setting batch_size=2.\n",
      "[Parallel(n_jobs=-1)]: Done  45 tasks      | elapsed:    2.2s\n",
      "[Parallel(n_jobs=-1)]: Batch computation too fast (0.1948s.) Setting batch_size=4.\n",
      "[Parallel(n_jobs=-1)]: Done  63 tasks      | elapsed:    2.3s\n",
      "[Parallel(n_jobs=-1)]: Done  97 tasks      | elapsed:    2.6s\n",
      "[Parallel(n_jobs=-1)]: Done 149 tasks      | elapsed:    2.9s\n",
      "[Parallel(n_jobs=-1)]: Done 209 tasks      | elapsed:    3.3s\n",
      "[Parallel(n_jobs=-1)]: Done 269 tasks      | elapsed:    3.7s\n",
      "[Parallel(n_jobs=-1)]: Done 337 tasks      | elapsed:    4.1s\n",
      "[Parallel(n_jobs=-1)]: Done 405 tasks      | elapsed:    4.6s\n",
      "[Parallel(n_jobs=-1)]: Done 485 out of 500 | elapsed:    5.0s remaining:    0.2s\n",
      "[Parallel(n_jobs=-1)]: Done 500 out of 500 | elapsed:    5.1s finished\n",
      "/home/jmurphy/anaconda3/lib/python3.7/site-packages/sklearn/model_selection/_search.py:841: DeprecationWarning: The default of the `iid` parameter will change from True to False in version 0.22 and will be removed in 0.24. This will change numeric results when test-set sizes are unequal.\n",
      "  DeprecationWarning)\n"
     ]
    },
    {
     "data": {
      "text/plain": [
       "RandomizedSearchCV(cv=5, error_score='raise-deprecating',\n",
       "          estimator=Pipeline(memory=None,\n",
       "     steps=[('robustscaler', RobustScaler(copy=True, quantile_range=(25.0, 75.0), with_centering=True,\n",
       "       with_scaling=True)), ('selectkbest', SelectKBest(k=10, score_func=<function f_regression at 0x7fe87ccc36a8>)), ('ridge', Ridge(alpha=1.0, copy_X=True, fit_intercept=True, max_iter=None,\n",
       "   normalize=False, random_state=None, solver='auto', tol=0.001))]),\n",
       "          fit_params=None, iid='warn', n_iter=100, n_jobs=-1,\n",
       "          param_distributions={'selectkbest__k': range(1, 40), 'ridge__alpha': [0.1, 1.0, 10.0]},\n",
       "          pre_dispatch='2*n_jobs', random_state=42, refit=True,\n",
       "          return_train_score=True, scoring='neg_mean_absolute_error',\n",
       "          verbose=10)"
      ]
     },
     "execution_count": 26,
     "metadata": {},
     "output_type": "execute_result"
    }
   ],
   "source": [
    "from sklearn.feature_selection import f_regression, SelectKBest\n",
    "from sklearn.linear_model import Ridge\n",
    "from sklearn.pipeline import make_pipeline\n",
    "from sklearn.preprocessing import RobustScaler\n",
    "\n",
    "pipe = make_pipeline(\n",
    "    RobustScaler(), \n",
    "    SelectKBest(f_regression), \n",
    "    Ridge())\n",
    "\n",
    "param_distributions = {\n",
    "    'selectkbest__k' : range(1, len(X_train.columns)+1), \n",
    "    'ridge__alpha': [0.1, 1.0, 10.]\n",
    "}\n",
    "\n",
    "search = RandomizedSearchCV(\n",
    "    estimator=pipe, \n",
    "    param_distributions=param_distributions, \n",
    "    n_iter=100, \n",
    "    scoring='neg_mean_absolute_error', \n",
    "    n_jobs=-1, \n",
    "    cv=5, \n",
    "    verbose=10, \n",
    "    return_train_score=True, \n",
    "    random_state=42\n",
    ")\n",
    "\n",
    "search.fit(X_train, y_train)"
   ]
  },
  {
   "cell_type": "code",
   "execution_count": 27,
   "metadata": {},
   "outputs": [
    {
     "name": "stdout",
     "output_type": "stream",
     "text": [
      "Mean Absolute Error with Cross-Validation: 311.816992628256\n"
     ]
    }
   ],
   "source": [
    "print('Mean Absolute Error with Cross-Validation:', -search.best_score_)"
   ]
  },
  {
   "cell_type": "code",
   "execution_count": 28,
   "metadata": {},
   "outputs": [
    {
     "name": "stdout",
     "output_type": "stream",
     "text": [
      "Features selected:\n",
      "PRCP\n",
      "SNOW\n",
      "SNWD\n",
      "TMAX\n",
      "TMIN\n",
      "AWND\n",
      "Total_yesterday\n",
      "Mon\n",
      "Tue\n",
      "Wed\n",
      "Thu\n",
      "Fri\n",
      "Sat\n",
      "Sun\n",
      "holiday\n",
      "daylight_hrs\n",
      "Temp (C)\n",
      "dry day\n",
      "annual\n",
      "PRCP_yesterday\n",
      "Windchill\n",
      "Rl_Cold\n",
      "TMIN_squared\n",
      "Jan\n",
      "Feb\n",
      "Mar\n",
      "Apr\n",
      "May\n",
      "Jun\n",
      "Jul\n",
      "Aug\n",
      "Sep\n",
      "Nov\n",
      "Dec\n",
      "light_rain\n",
      "moderate_rain\n",
      "heavy_rain\n",
      "weekend_day\n",
      "\n",
      " Features not selected:\n",
      "Oct\n"
     ]
    }
   ],
   "source": [
    "# Shows which features were selected\n",
    "selector = search.best_estimator_.named_steps['selectkbest']\n",
    "all_names = X_train.columns\n",
    "selected_mask = selector.get_support()\n",
    "selected_names = all_names[selected_mask]\n",
    "unselected_names = all_names[~selected_mask]\n",
    "\n",
    "print('Features selected:')\n",
    "for name in selected_names:\n",
    "    print(name)\n",
    "\n",
    "print('\\n', 'Features not selected:')\n",
    "for name in unselected_names:\n",
    "    print(name)"
   ]
  },
  {
   "cell_type": "markdown",
   "metadata": {},
   "source": [
    "## Regularization with Linear Models\n",
    "\n",
    "- https://www.google.com/search?q=site%3Ascikit-learn.org+regularization+%22linear+models%22\n",
    "  - https://scikit-learn.org/stable/modules/linear_model.html\n",
    "  - https://scikit-learn.org/stable/modules/linear_model.html#ridge-regression\n",
    "  - https://scikit-learn.org/stable/modules/linear_model.html#lasso\n",
    "  - https://scikit-learn.org/stable/modules/linear_model.html#setting-regularization-parameter\n",
    "  - https://scikit-learn.org/stable/modules/linear_model.html#using-cross-validation\n",
    "    \n",
    "> The [`Lasso`](https://scikit-learn.org/stable/modules/generated/sklearn.linear_model.Lasso.html#sklearn.linear_model.Lasso) is a linear model that estimates sparse coefficients. It is useful in some contexts due to its tendency to prefer solutions with fewer non-zero coefficients, effectively reducing the number of features upon which the given solution is dependent. \n",
    "  \n",
    "> The `alpha` parameter controls the degree of sparsity of the estimated coefficients.\n",
    "  \n",
    "> scikit-learn exposes objects that set the Lasso `alpha` parameter by cross-validation: [`LassoCV`](https://scikit-learn.org/stable/modules/generated/sklearn.linear_model.LassoCV.html#sklearn.linear_model.LassoCV) ..."
   ]
  },
  {
   "cell_type": "code",
   "execution_count": 29,
   "metadata": {},
   "outputs": [
    {
     "name": "stdout",
     "output_type": "stream",
     "text": [
      "Lasso Alpha: 0.01\n",
      "Cross-Validated Mean Absolute Error: 301.2529542761344\n"
     ]
    },
    {
     "data": {
      "image/png": "[encoded data removed]",
      "text/plain": [
       "<Figure size 1152x576 with 1 Axes>"
      ]
     },
     "metadata": {
      "needs_background": "light"
     },
     "output_type": "display_data"
    }
   ],
   "source": [
    "from ipywidgets import interact\n",
    "from sklearn.exceptions import DataConversionWarning\n",
    "from sklearn.linear_model import Lasso\n",
    "from sklearn.model_selection import cross_val_score\n",
    "\n",
    "from sklearn.preprocessing import StandardScaler\n",
    "import warnings\n",
    "warnings.filterwarnings(action='ignore', category=DataConversionWarning)\n",
    "\n",
    "def plot_lasso_coefs(power=-2):\n",
    "    # Make pipeline with StandardScaler and Lasso Linear Model\n",
    "    alpha = 10**power\n",
    "    print(f'Lasso Alpha: {alpha}')\n",
    "    pipe = make_pipeline(StandardScaler(), Lasso(alpha=alpha, max_iter=100000))\n",
    "    \n",
    "    # Get cross-validation scores\n",
    "    maes = -cross_val_score(pipe, X_train, y_train, scoring='neg_mean_absolute_error', cv=3)\n",
    "    print('Cross-Validated Mean Absolute Error:', maes.mean())\n",
    "    \n",
    "    # Get coefficients\n",
    "    pipe.fit(X_train, y_train)\n",
    "    coefficients = pd.Series(pipe.named_steps['lasso'].coef_, X_train.columns)\n",
    "    \n",
    "    # Plot coefficients\n",
    "    plt.figure(figsize=(16,8))\n",
    "    coefficients.sort_values().plot.barh(color='grey')\n",
    "    plt.xlim(-550,550)\n",
    "\n",
    "interact(plot_lasso_coefs, power=(-2,2,1));"
   ]
  },
  {
   "cell_type": "code",
   "execution_count": 30,
   "metadata": {},
   "outputs": [
    {
     "name": "stdout",
     "output_type": "stream",
     "text": [
      "Lasso Linear Model, alpha value optimized with cross validation: 5.1962170868807505\n"
     ]
    }
   ],
   "source": [
    "from sklearn.linear_model import LassoCV\n",
    "\n",
    "pipe = make_pipeline(StandardScaler(), LassoCV(cv=3))\n",
    "pipe.fit(X_train, y_train)\n",
    "lasso = pipe.named_steps['lassocv']\n",
    "print('Lasso Linear Model, alpha value optimized with cross validation:', lasso.alpha_)"
   ]
  },
  {
   "cell_type": "code",
   "execution_count": 31,
   "metadata": {},
   "outputs": [
    {
     "data": {
      "image/png": "[encoded data removed]",
      "text/plain": [
       "<Figure size 432x288 with 1 Axes>"
      ]
     },
     "metadata": {
      "needs_background": "light"
     },
     "output_type": "display_data"
    }
   ],
   "source": [
    "alphas = lasso.alphas_\n",
    "mses = lasso.mse_path_.mean(axis=1)\n",
    "rmses = np.sqrt(mses)\n",
    "plt.plot(alphas, rmses)\n",
    "plt.title('Lasso Linear Model')\n",
    "plt.xlabel('alpha')\n",
    "plt.ylabel('RMSE')\n",
    "plt.xscale('log');"
   ]
  },
  {
   "cell_type": "code",
   "execution_count": 32,
   "metadata": {},
   "outputs": [
    {
     "data": {
      "image/png": "[encoded data removed]",
      "text/plain": [
       "<Figure size 432x288 with 1 Axes>"
      ]
     },
     "metadata": {
      "needs_background": "light"
     },
     "output_type": "display_data"
    }
   ],
   "source": [
    "plt.plot(alphas, rmses)\n",
    "plt.title('Lasso Linear Model')\n",
    "plt.xlabel('alpha')\n",
    "plt.ylabel('RMSE')\n",
    "plt.xlim(1,10)\n",
    "plt.ylim(380,400);"
   ]
  },
  {
   "cell_type": "markdown",
   "metadata": {},
   "source": [
    "## Want to learn more about regularized linear models?\n",
    "- Aaron Gallant, [Ridge Regression](https://www.youtube.com/watch?v=XK5jkedy17w) (9 minute video)\n",
    "- Selecting good features, [Part 2](https://blog.datadive.net/selecting-good-features-part-ii-linear-models-and-regularization/) and [Part 4](https://blog.datadive.net/selecting-good-features-part-iv-stability-selection-rfe-and-everything-side-by-side/)\n",
    "- [_An Introduction to Statistical Learning_](http://www-bcf.usc.edu/~gareth/ISL/), Chapters 3 & 6"
   ]
  }
 ],
 "metadata": {
  "kernelspec": {
   "display_name": "Python 3",
   "language": "python",
   "name": "python3"
  },
  "language_info": {
   "codemirror_mode": {
    "name": "ipython",
    "version": 3
   },
   "file_extension": ".py",
   "mimetype": "text/x-python",
   "name": "python",
   "nbconvert_exporter": "python",
   "pygments_lexer": "ipython3",
   "version": "3.7.3"
  }
 },
 "nbformat": 4,
 "nbformat_minor": 2
}
