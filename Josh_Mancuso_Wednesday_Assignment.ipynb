{
  "nbformat": 4,
  "nbformat_minor": 0,
  "metadata": {
    "colab": {
      "name": "Josh Mancuso - Wednesday Assignment",
      "version": "0.3.2",
      "provenance": [],
      "collapsed_sections": []
    },
    "kernelspec": {
      "name": "python3",
      "display_name": "Python 3"
    }
  },
  "cells": [
    {
      "cell_type": "code",
      "metadata": {
        "id": "P5-wF2va2fNw",
        "colab_type": "code",
        "colab": {}
      },
      "source": [
        "import pandas as pd\n",
        "pd.set_option('display.max_rows', 500)\n",
        "pd.set_option('display.max_columns', 500)"
      ],
      "execution_count": 0,
      "outputs": []
    },
    {
      "cell_type": "code",
      "metadata": {
        "id": "FH_Nk4C42nXD",
        "colab_type": "code",
        "colab": {}
      },
      "source": [
        "# Download and join data into a dataframe\n",
        "def load(): \n",
        "    fremont_bridge = 'https://data.seattle.gov/api/views/65db-xm6k/rows.csv?accessType=DOWNLOAD'\n",
        "    \n",
        "    bicycle_weather = 'https://raw.githubusercontent.com/jakevdp/PythonDataScienceHandbook/master/notebooks/data/BicycleWeather.csv'\n",
        "\n",
        "    counts = pd.read_csv(fremont_bridge, index_col='Date', parse_dates=True, \n",
        "                         infer_datetime_format=True)\n",
        "\n",
        "    weather = pd.read_csv(bicycle_weather, index_col='DATE', parse_dates=True, \n",
        "                          infer_datetime_format=True)\n",
        "\n",
        "    daily = counts.resample('d').sum()\n",
        "    daily['Total'] = daily.sum(axis=1)\n",
        "    daily = daily[['Total']] # remove other columns\n",
        "\n",
        "    weather_columns = ['PRCP', 'SNOW', 'SNWD', 'TMAX', 'TMIN', 'AWND']\n",
        "    daily = daily.join(weather[weather_columns], how='inner')\n",
        "    \n",
        "    # Make a feature for yesterday's total\n",
        "    daily['Total_yesterday'] = daily.Total.shift(1)\n",
        "    #daily = daily.drop(index=daily.index[0])\n",
        "    \n",
        "    return daily\n",
        "\n",
        "daily = load()"
      ],
      "execution_count": 0,
      "outputs": []
    },
    {
      "cell_type": "code",
      "metadata": {
        "id": "86MSF6vX2uzZ",
        "colab_type": "code",
        "colab": {}
      },
      "source": [
        "import numpy as np\n",
        "\n",
        "def jake_wrangle(X):  \n",
        "    X = X.copy()\n",
        "\n",
        "    # patterns of use generally vary from day to day; \n",
        "    # let's add binary columns that indicate the day of the week:\n",
        "    days = ['Mon', 'Tue', 'Wed', 'Thu', 'Fri', 'Sat', 'Sun']\n",
        "    for i, day in enumerate(days):\n",
        "        X[day] = (X.index.dayofweek == i).astype(float)\n",
        "\n",
        "\n",
        "    # we might expect riders to behave differently on holidays; \n",
        "    # let's add an indicator of this as well:\n",
        "    from pandas.tseries.holiday import USFederalHolidayCalendar\n",
        "    cal = USFederalHolidayCalendar()\n",
        "    holidays = cal.holidays('2012', '2016')\n",
        "    X = X.join(pd.Series(1, index=holidays, name='holiday'))\n",
        "    X['holiday'].fillna(0, inplace=True)\n",
        "\n",
        "\n",
        "    # We also might suspect that the hours of daylight would affect \n",
        "    # how many people ride; let's use the standard astronomical calculation \n",
        "    # to add this information:\n",
        "    def hours_of_daylight(date, axis=23.44, latitude=47.61):\n",
        "        \"\"\"Compute the hours of daylight for the given date\"\"\"\n",
        "        days = (date - pd.datetime(2000, 12, 21)).days\n",
        "        m = (1. - np.tan(np.radians(latitude))\n",
        "             * np.tan(np.radians(axis) * np.cos(days * 2 * np.pi / 365.25)))\n",
        "        return 24. * np.degrees(np.arccos(1 - np.clip(m, 0, 2))) / 180.\n",
        "\n",
        "    X['daylight_hrs'] = list(map(hours_of_daylight, X.index))\n",
        "\n",
        "    \n",
        "    # temperatures are in 1/10 deg C; convert to C\n",
        "    X['TMIN'] /= 10\n",
        "    X['TMAX'] /= 10\n",
        "    \n",
        "    # We can also calcuate the average temperature.\n",
        "    X['Temp (C)'] = 0.5 * (X['TMIN'] + X['TMAX'])\n",
        "\n",
        "    # precip is in 1/10 mm; convert to inches\n",
        "    X['PRCP'] /= 254\n",
        "\n",
        "    # In addition to the inches of precipitation, let's add a flag that \n",
        "    # indicates whether a day is dry (has zero precipitation):\n",
        "    X['dry_day'] = (X['PRCP'] == 0).astype(int)\n",
        "\n",
        "\n",
        "    # Let's add a counter that increases from day 1, and measures how many \n",
        "    # years have passed. This will let us measure any observed annual increase \n",
        "    # or decrease in daily crossings:\n",
        "    X['annual'] = (X.index - X.index[0]).days / 365.\n",
        "\n",
        "    return X\n",
        "  \n",
        "daily = jake_wrangle(daily)\n",
        "daily = daily.reset_index().rename(columns={'index':'date'})"
      ],
      "execution_count": 0,
      "outputs": []
    },
    {
      "cell_type": "code",
      "metadata": {
        "id": "1GFNLgTv22RV",
        "colab_type": "code",
        "colab": {}
      },
      "source": [
        "#Do some more feature engineering:\n",
        "\n",
        "#is it the weekend:\n",
        "\n",
        "def weekend(X):\n",
        "  X = X.copy()\n",
        "  X['wknd'] = (X.Sat == 1) | (X.Sun == 1)\n",
        "  X['wknd'] = X['wknd'].astype('int')\n",
        "  return X\n",
        "\n",
        "daily = weekend(daily)\n",
        "\n",
        "#Cold and rainy/snowy:\n",
        "\n",
        "def cold_precip(X):\n",
        "  X = X.copy()\n",
        "  X['cold_precip'] = (X['Temp (C)'] < 10 ) & (X.dry_day ==0)\n",
        "  X['cold_precip'] = X['cold_precip'].astype('int')\n",
        "  return X\n",
        "\n",
        "daily = cold_precip(daily)\n",
        "\n",
        "#create bool col for extreme temp (below freezing or above 86 F (30C)\n",
        "def extreme_temp(X):\n",
        "  X = X.copy()\n",
        "  X['extreme_temp'] = (X['Temp (C)'] < 0) | (X['Temp (C)'] > 30) \n",
        "  X['extreme_temp'] = X['extreme_temp'].astype('int')\n",
        "  return X\n",
        "\n",
        "daily = extreme_temp(daily)\n",
        "\n",
        "#Make col for length of prior consecutive rain days as well as col for a sunny wknd that follows a rainy wknd:\n",
        "def rain_streak(X):\n",
        "  X = X.copy()\n",
        "  X['rain_streak_count'] = 0\n",
        "  for i in range(1, len(X)):\n",
        "    X.at[i, 'rain_streak_count'] = 0 if (X.at[i, 'dry_day'] == 1) else (X.at[i-1, 'rain_streak_count'] + 1)\n",
        "  X['rain_streak_now_sunny'] = (X.rain_streak_count.shift(1) > 1) & (X.dry_day == 1)\n",
        "  X['rain_streak_now_sunny'] =  X['rain_streak_now_sunny'].astype('int')\n",
        "  X['rain_streak_now_sunny_length'] =  X['rain_streak_now_sunny'].astype('int') * X['rain_streak_count'].shift(1)\n",
        "  X['dry_wknd_day_and_rained_last_wknd'] = (X.dry_day==1) & ((X.Sat == 1) & (X.dry_day.shift(7) == 0 & (X.dry_day.shift(6) == 0))) | ((X.Sun == 1) & (X.dry_day.shift(8) == 0) & (X.dry_day.shift(7) == 0) & (X.dry_day.shift(1) == 0))\n",
        "  X['dry_wknd_day_and_rained_last_wknd'] = X['dry_wknd_day_and_rained_last_wknd'].astype('int')\n",
        "  X = X.drop(index=X.index[0]).reset_index(drop=True)\n",
        "  return X\n",
        "\n",
        "daily = rain_streak(daily)\n",
        "\n",
        "def convert_date(X):\n",
        "  X = X.copy()\n",
        "  def get_month(x):\n",
        "    return x.month\n",
        "  def get_day(x):\n",
        "    return x.day\n",
        "  X['month'] = X['date'].apply(get_month)\n",
        "  X['day'] = X['date'].apply(get_day)\n",
        "  return X\n",
        "\n",
        "daily = convert_date(daily)\n",
        "\n",
        "#Fix some wacky values in the SNOW col:\n",
        "daily = daily.replace(-9999, 0)"
      ],
      "execution_count": 0,
      "outputs": []
    },
    {
      "cell_type": "code",
      "metadata": {
        "id": "nZmYRjM93NzE",
        "colab_type": "code",
        "colab": {
          "base_uri": "https://localhost:8080/",
          "height": 322
        },
        "outputId": "afb9d855-d261-4d67-81f6-560d30a30163"
      },
      "source": [
        "daily.head()"
      ],
      "execution_count": 59,
      "outputs": [
        {
          "output_type": "execute_result",
          "data": {
            "text/html": [
              "<div>\n",
              "<style scoped>\n",
              "    .dataframe tbody tr th:only-of-type {\n",
              "        vertical-align: middle;\n",
              "    }\n",
              "\n",
              "    .dataframe tbody tr th {\n",
              "        vertical-align: top;\n",
              "    }\n",
              "\n",
              "    .dataframe thead th {\n",
              "        text-align: right;\n",
              "    }\n",
              "</style>\n",
              "<table border=\"1\" class=\"dataframe\">\n",
              "  <thead>\n",
              "    <tr style=\"text-align: right;\">\n",
              "      <th></th>\n",
              "      <th>date</th>\n",
              "      <th>Total</th>\n",
              "      <th>PRCP</th>\n",
              "      <th>SNOW</th>\n",
              "      <th>SNWD</th>\n",
              "      <th>TMAX</th>\n",
              "      <th>TMIN</th>\n",
              "      <th>AWND</th>\n",
              "      <th>Total_yesterday</th>\n",
              "      <th>Mon</th>\n",
              "      <th>Tue</th>\n",
              "      <th>Wed</th>\n",
              "      <th>Thu</th>\n",
              "      <th>Fri</th>\n",
              "      <th>Sat</th>\n",
              "      <th>Sun</th>\n",
              "      <th>holiday</th>\n",
              "      <th>daylight_hrs</th>\n",
              "      <th>Temp (C)</th>\n",
              "      <th>dry_day</th>\n",
              "      <th>annual</th>\n",
              "      <th>wknd</th>\n",
              "      <th>cold_precip</th>\n",
              "      <th>extreme_temp</th>\n",
              "      <th>rain_streak_count</th>\n",
              "      <th>rain_streak_now_sunny</th>\n",
              "      <th>rain_streak_now_sunny_length</th>\n",
              "      <th>dry_wknd_day_and_rained_last_wknd</th>\n",
              "      <th>month</th>\n",
              "      <th>day</th>\n",
              "    </tr>\n",
              "  </thead>\n",
              "  <tbody>\n",
              "    <tr>\n",
              "      <th>0</th>\n",
              "      <td>2012-10-04</td>\n",
              "      <td>3475.0</td>\n",
              "      <td>0.0</td>\n",
              "      <td>0</td>\n",
              "      <td>0</td>\n",
              "      <td>18.9</td>\n",
              "      <td>8.3</td>\n",
              "      <td>65</td>\n",
              "      <td>3521.0</td>\n",
              "      <td>0.0</td>\n",
              "      <td>0.0</td>\n",
              "      <td>0.0</td>\n",
              "      <td>1.0</td>\n",
              "      <td>0.0</td>\n",
              "      <td>0.0</td>\n",
              "      <td>0.0</td>\n",
              "      <td>0.0</td>\n",
              "      <td>11.219142</td>\n",
              "      <td>13.60</td>\n",
              "      <td>1</td>\n",
              "      <td>0.002740</td>\n",
              "      <td>0</td>\n",
              "      <td>0</td>\n",
              "      <td>0</td>\n",
              "      <td>0</td>\n",
              "      <td>0</td>\n",
              "      <td>0.0</td>\n",
              "      <td>0</td>\n",
              "      <td>10</td>\n",
              "      <td>4</td>\n",
              "    </tr>\n",
              "    <tr>\n",
              "      <th>1</th>\n",
              "      <td>2012-10-05</td>\n",
              "      <td>3148.0</td>\n",
              "      <td>0.0</td>\n",
              "      <td>0</td>\n",
              "      <td>0</td>\n",
              "      <td>21.7</td>\n",
              "      <td>8.9</td>\n",
              "      <td>57</td>\n",
              "      <td>3475.0</td>\n",
              "      <td>0.0</td>\n",
              "      <td>0.0</td>\n",
              "      <td>0.0</td>\n",
              "      <td>0.0</td>\n",
              "      <td>1.0</td>\n",
              "      <td>0.0</td>\n",
              "      <td>0.0</td>\n",
              "      <td>0.0</td>\n",
              "      <td>11.161038</td>\n",
              "      <td>15.30</td>\n",
              "      <td>1</td>\n",
              "      <td>0.005479</td>\n",
              "      <td>0</td>\n",
              "      <td>0</td>\n",
              "      <td>0</td>\n",
              "      <td>0</td>\n",
              "      <td>0</td>\n",
              "      <td>0.0</td>\n",
              "      <td>0</td>\n",
              "      <td>10</td>\n",
              "      <td>5</td>\n",
              "    </tr>\n",
              "    <tr>\n",
              "      <th>2</th>\n",
              "      <td>2012-10-06</td>\n",
              "      <td>2006.0</td>\n",
              "      <td>0.0</td>\n",
              "      <td>0</td>\n",
              "      <td>0</td>\n",
              "      <td>23.9</td>\n",
              "      <td>7.8</td>\n",
              "      <td>51</td>\n",
              "      <td>3148.0</td>\n",
              "      <td>0.0</td>\n",
              "      <td>0.0</td>\n",
              "      <td>0.0</td>\n",
              "      <td>0.0</td>\n",
              "      <td>0.0</td>\n",
              "      <td>1.0</td>\n",
              "      <td>0.0</td>\n",
              "      <td>0.0</td>\n",
              "      <td>11.103056</td>\n",
              "      <td>15.85</td>\n",
              "      <td>1</td>\n",
              "      <td>0.008219</td>\n",
              "      <td>1</td>\n",
              "      <td>0</td>\n",
              "      <td>0</td>\n",
              "      <td>0</td>\n",
              "      <td>0</td>\n",
              "      <td>0.0</td>\n",
              "      <td>0</td>\n",
              "      <td>10</td>\n",
              "      <td>6</td>\n",
              "    </tr>\n",
              "    <tr>\n",
              "      <th>3</th>\n",
              "      <td>2012-10-07</td>\n",
              "      <td>2142.0</td>\n",
              "      <td>0.0</td>\n",
              "      <td>0</td>\n",
              "      <td>0</td>\n",
              "      <td>23.9</td>\n",
              "      <td>7.8</td>\n",
              "      <td>13</td>\n",
              "      <td>2006.0</td>\n",
              "      <td>0.0</td>\n",
              "      <td>0.0</td>\n",
              "      <td>0.0</td>\n",
              "      <td>0.0</td>\n",
              "      <td>0.0</td>\n",
              "      <td>0.0</td>\n",
              "      <td>1.0</td>\n",
              "      <td>0.0</td>\n",
              "      <td>11.045208</td>\n",
              "      <td>15.85</td>\n",
              "      <td>1</td>\n",
              "      <td>0.010959</td>\n",
              "      <td>1</td>\n",
              "      <td>0</td>\n",
              "      <td>0</td>\n",
              "      <td>0</td>\n",
              "      <td>0</td>\n",
              "      <td>0.0</td>\n",
              "      <td>0</td>\n",
              "      <td>10</td>\n",
              "      <td>7</td>\n",
              "    </tr>\n",
              "    <tr>\n",
              "      <th>4</th>\n",
              "      <td>2012-10-08</td>\n",
              "      <td>3537.0</td>\n",
              "      <td>0.0</td>\n",
              "      <td>0</td>\n",
              "      <td>0</td>\n",
              "      <td>21.1</td>\n",
              "      <td>7.8</td>\n",
              "      <td>19</td>\n",
              "      <td>2142.0</td>\n",
              "      <td>1.0</td>\n",
              "      <td>0.0</td>\n",
              "      <td>0.0</td>\n",
              "      <td>0.0</td>\n",
              "      <td>0.0</td>\n",
              "      <td>0.0</td>\n",
              "      <td>0.0</td>\n",
              "      <td>1.0</td>\n",
              "      <td>10.987503</td>\n",
              "      <td>14.45</td>\n",
              "      <td>1</td>\n",
              "      <td>0.013699</td>\n",
              "      <td>0</td>\n",
              "      <td>0</td>\n",
              "      <td>0</td>\n",
              "      <td>0</td>\n",
              "      <td>0</td>\n",
              "      <td>0.0</td>\n",
              "      <td>0</td>\n",
              "      <td>10</td>\n",
              "      <td>8</td>\n",
              "    </tr>\n",
              "  </tbody>\n",
              "</table>\n",
              "</div>"
            ],
            "text/plain": [
              "        date   Total  PRCP  SNOW  SNWD  TMAX  TMIN  AWND  Total_yesterday  \\\n",
              "0 2012-10-04  3475.0   0.0     0     0  18.9   8.3    65           3521.0   \n",
              "1 2012-10-05  3148.0   0.0     0     0  21.7   8.9    57           3475.0   \n",
              "2 2012-10-06  2006.0   0.0     0     0  23.9   7.8    51           3148.0   \n",
              "3 2012-10-07  2142.0   0.0     0     0  23.9   7.8    13           2006.0   \n",
              "4 2012-10-08  3537.0   0.0     0     0  21.1   7.8    19           2142.0   \n",
              "\n",
              "   Mon  Tue  Wed  Thu  Fri  Sat  Sun  holiday  daylight_hrs  Temp (C)  \\\n",
              "0  0.0  0.0  0.0  1.0  0.0  0.0  0.0      0.0     11.219142     13.60   \n",
              "1  0.0  0.0  0.0  0.0  1.0  0.0  0.0      0.0     11.161038     15.30   \n",
              "2  0.0  0.0  0.0  0.0  0.0  1.0  0.0      0.0     11.103056     15.85   \n",
              "3  0.0  0.0  0.0  0.0  0.0  0.0  1.0      0.0     11.045208     15.85   \n",
              "4  1.0  0.0  0.0  0.0  0.0  0.0  0.0      1.0     10.987503     14.45   \n",
              "\n",
              "   dry_day    annual  wknd  cold_precip  extreme_temp  rain_streak_count  \\\n",
              "0        1  0.002740     0            0             0                  0   \n",
              "1        1  0.005479     0            0             0                  0   \n",
              "2        1  0.008219     1            0             0                  0   \n",
              "3        1  0.010959     1            0             0                  0   \n",
              "4        1  0.013699     0            0             0                  0   \n",
              "\n",
              "   rain_streak_now_sunny  rain_streak_now_sunny_length  \\\n",
              "0                      0                           0.0   \n",
              "1                      0                           0.0   \n",
              "2                      0                           0.0   \n",
              "3                      0                           0.0   \n",
              "4                      0                           0.0   \n",
              "\n",
              "   dry_wknd_day_and_rained_last_wknd  month  day  \n",
              "0                                  0     10    4  \n",
              "1                                  0     10    5  \n",
              "2                                  0     10    6  \n",
              "3                                  0     10    7  \n",
              "4                                  0     10    8  "
            ]
          },
          "metadata": {
            "tags": []
          },
          "execution_count": 59
        }
      ]
    },
    {
      "cell_type": "markdown",
      "metadata": {
        "id": "cMgiOB3IOzSS",
        "colab_type": "text"
      },
      "source": [
        "# ASSIGNMENT\n",
        "\n",
        "In a clean notebook, using the **Seattle Bicycle Weather** dataset, make these visualizations:\n",
        "\n",
        "- Feature Importances\n",
        "- Permutation Importances\n",
        "- Partial Dependence Plot\n",
        "- Shapley Values"
      ]
    },
    {
      "cell_type": "code",
      "metadata": {
        "id": "87ibhHvG310t",
        "colab_type": "code",
        "colab": {}
      },
      "source": [
        "from scipy.stats import randint\n",
        "from sklearn.model_selection import RandomizedSearchCV\n",
        "from xgboost import XGBRegressor"
      ],
      "execution_count": 0,
      "outputs": []
    },
    {
      "cell_type": "code",
      "metadata": {
        "id": "-jjdI50r4E0W",
        "colab_type": "code",
        "colab": {}
      },
      "source": [
        "#Split into train/test:\n",
        "\n",
        "test = daily[-100:]\n",
        "train = daily[:-100]\n",
        "train.shape, test.shape\n",
        "\n",
        "target = 'Total'\n",
        "X_train = train.drop(columns=[target, 'date'])\n",
        "y_train = train[target]\n",
        "\n",
        "X_test = test.drop(columns=[target, 'date'])\n",
        "y_test = test[target]"
      ],
      "execution_count": 0,
      "outputs": []
    },
    {
      "cell_type": "code",
      "metadata": {
        "id": "6RHO2-Dl550z",
        "colab_type": "code",
        "colab": {
          "base_uri": "https://localhost:8080/",
          "height": 126
        },
        "outputId": "b0b84f04-08c5-46ad-8191-4b94605b9656"
      },
      "source": [
        "y_train.head()"
      ],
      "execution_count": 62,
      "outputs": [
        {
          "output_type": "execute_result",
          "data": {
            "text/plain": [
              "0    3475.0\n",
              "1    3148.0\n",
              "2    2006.0\n",
              "3    2142.0\n",
              "4    3537.0\n",
              "Name: Total, dtype: float64"
            ]
          },
          "metadata": {
            "tags": []
          },
          "execution_count": 62
        }
      ]
    },
    {
      "cell_type": "code",
      "metadata": {
        "id": "QymDmifM4RhA",
        "colab_type": "code",
        "colab": {
          "base_uri": "https://localhost:8080/",
          "height": 199
        },
        "outputId": "2de9b840-1e2e-466a-f88a-9a649b4a6d3f"
      },
      "source": [
        "from sklearn.model_selection import RandomizedSearchCV\n",
        "\n",
        "param_distributions = {\n",
        "    'n_estimators' : [100, 200, 500],\n",
        "    'max_depth': [2,3,5,10,50]\n",
        "}\n",
        "\n",
        "search = RandomizedSearchCV(\n",
        "    XGBRegressor(n_jobs=-1, random_state=42),\n",
        "    param_distributions= param_distributions,\n",
        "    n_iter=8,\n",
        "    cv=3,\n",
        "    scoring='neg_mean_absolute_error',\n",
        "    verbose=10,\n",
        "    return_train_score=True,\n",
        "    n_jobs=-1,\n",
        "    random_state=42\n",
        ")\n",
        "\n",
        "search.fit(X_train, y_train)\n",
        "\n",
        "print('Cross-Validation MAE:', search.best_score_)"
      ],
      "execution_count": 63,
      "outputs": [
        {
          "output_type": "stream",
          "text": [
            "Fitting 3 folds for each of 8 candidates, totalling 24 fits\n"
          ],
          "name": "stdout"
        },
        {
          "output_type": "stream",
          "text": [
            "[Parallel(n_jobs=-1)]: Using backend LokyBackend with 2 concurrent workers.\n",
            "[Parallel(n_jobs=-1)]: Done   1 tasks      | elapsed:    0.5s\n",
            "[Parallel(n_jobs=-1)]: Done   4 tasks      | elapsed:    2.6s\n",
            "[Parallel(n_jobs=-1)]: Done   9 tasks      | elapsed:    4.8s\n",
            "[Parallel(n_jobs=-1)]: Done  14 tasks      | elapsed:    7.2s\n",
            "[Parallel(n_jobs=-1)]: Done  21 tasks      | elapsed:    9.8s\n",
            "[Parallel(n_jobs=-1)]: Done  24 out of  24 | elapsed:   10.1s remaining:    0.0s\n",
            "[Parallel(n_jobs=-1)]: Done  24 out of  24 | elapsed:   10.1s finished\n"
          ],
          "name": "stderr"
        },
        {
          "output_type": "stream",
          "text": [
            "Cross-Validation MAE: -264.2724312795162\n"
          ],
          "name": "stdout"
        }
      ]
    },
    {
      "cell_type": "code",
      "metadata": {
        "id": "0tQN9JMp4rN7",
        "colab_type": "code",
        "colab": {
          "base_uri": "https://localhost:8080/",
          "height": 35
        },
        "outputId": "0c8b787a-c179-4fa0-b3a0-21ae18665380"
      },
      "source": [
        "from sklearn.metrics import mean_absolute_error\n",
        "\n",
        "best = search.best_estimator_\n",
        "y_pred = best.predict(X_test)\n",
        "print('Test MAE:', mean_absolute_error(y_test, y_pred))"
      ],
      "execution_count": 64,
      "outputs": [
        {
          "output_type": "stream",
          "text": [
            "Test MAE: 227.77776306152344\n"
          ],
          "name": "stdout"
        }
      ]
    },
    {
      "cell_type": "markdown",
      "metadata": {
        "id": "OBxN1gNY8WLG",
        "colab_type": "text"
      },
      "source": [
        "##Feature Importances"
      ]
    },
    {
      "cell_type": "code",
      "metadata": {
        "id": "V4w3KZ_Z76KZ",
        "colab_type": "code",
        "colab": {
          "base_uri": "https://localhost:8080/",
          "height": 505
        },
        "outputId": "b34baccc-6493-4d01-b456-4164bbe54e1d"
      },
      "source": [
        "from matplotlib import pyplot as plt\n",
        "\n",
        "figsize = (6,8)\n",
        "\n",
        "importances = pd.Series(best.feature_importances_, X_train.columns)\n",
        "\n",
        "\n",
        "plt.figure(figsize=figsize)\n",
        "importances.sort_values().plot.barh()"
      ],
      "execution_count": 65,
      "outputs": [
        {
          "output_type": "execute_result",
          "data": {
            "text/plain": [
              "<matplotlib.axes._subplots.AxesSubplot at 0x7fdabb606668>"
            ]
          },
          "metadata": {
            "tags": []
          },
          "execution_count": 65
        },
        {
          "output_type": "display_data",
          "data": {
            "image/png": "[encoded data removed]",
            "text/plain": [
              "<Figure size 432x576 with 1 Axes>"
            ]
          },
          "metadata": {
            "tags": []
          }
        }
      ]
    },
    {
      "cell_type": "markdown",
      "metadata": {
        "id": "IQ7Q_AI29LeG",
        "colab_type": "text"
      },
      "source": [
        "##Permutation Importances\n"
      ]
    },
    {
      "cell_type": "code",
      "metadata": {
        "id": "a6VhiSa28iHf",
        "colab_type": "code",
        "colab": {
          "base_uri": "https://localhost:8080/",
          "height": 199
        },
        "outputId": "970be187-71d5-46bd-b9ed-16c246358c6d"
      },
      "source": [
        "import eli5\n",
        "from eli5.sklearn import PermutationImportance\n",
        "\n",
        "permuter = PermutationImportance(best, scoring='neg_mean_absolute_error', cv='prefit', n_iter=2, random_state=42)\n",
        "\n",
        "permuter.fit(X_test, y_test)"
      ],
      "execution_count": 66,
      "outputs": [
        {
          "output_type": "execute_result",
          "data": {
            "text/plain": [
              "PermutationImportance(cv='prefit',\n",
              "           estimator=XGBRegressor(base_score=0.5, booster='gbtree', colsample_bylevel=1,\n",
              "       colsample_bytree=1, gamma=0, importance_type='gain',\n",
              "       learning_rate=0.1, max_delta_step=0, max_depth=2,\n",
              "       min_child_weight=1, missing=None, n_estimators=500, n_jobs=-1,\n",
              "       nthread=None, objective='reg:linear', random_state=42, reg_alpha=0,\n",
              "       reg_lambda=1, scale_pos_weight=1, seed=None, silent=True,\n",
              "       subsample=1),\n",
              "           n_iter=2, random_state=42, refit=True,\n",
              "           scoring='neg_mean_absolute_error')"
            ]
          },
          "metadata": {
            "tags": []
          },
          "execution_count": 66
        }
      ]
    },
    {
      "cell_type": "code",
      "metadata": {
        "id": "gPEi-rHI9ZL6",
        "colab_type": "code",
        "colab": {
          "base_uri": "https://localhost:8080/",
          "height": 518
        },
        "outputId": "870c27e9-3a55-4cf0-e613-9d04d9ab5d4a"
      },
      "source": [
        "feature_names = X_test.columns.tolist()\n",
        "eli5.show_weights(permuter, top=None, feature_names=feature_names)"
      ],
      "execution_count": 67,
      "outputs": [
        {
          "output_type": "execute_result",
          "data": {
            "text/html": [
              "\n",
              "    <style>\n",
              "    table.eli5-weights tr:hover {\n",
              "        filter: brightness(85%);\n",
              "    }\n",
              "</style>\n",
              "\n",
              "\n",
              "\n",
              "    \n",
              "\n",
              "    \n",
              "\n",
              "    \n",
              "\n",
              "    \n",
              "\n",
              "    \n",
              "\n",
              "    \n",
              "\n",
              "\n",
              "    \n",
              "\n",
              "    \n",
              "\n",
              "    \n",
              "\n",
              "    \n",
              "\n",
              "    \n",
              "\n",
              "    \n",
              "\n",
              "\n",
              "    \n",
              "\n",
              "    \n",
              "\n",
              "    \n",
              "\n",
              "    \n",
              "\n",
              "    \n",
              "        <table class=\"eli5-weights eli5-feature-importances\" style=\"border-collapse: collapse; border: none; margin-top: 0em; table-layout: auto;\">\n",
              "    <thead>\n",
              "    <tr style=\"border: none;\">\n",
              "        <th style=\"padding: 0 1em 0 0.5em; text-align: right; border: none;\">Weight</th>\n",
              "        <th style=\"padding: 0 0.5em 0 0.5em; text-align: left; border: none;\">Feature</th>\n",
              "    </tr>\n",
              "    </thead>\n",
              "    <tbody>\n",
              "    \n",
              "        <tr style=\"background-color: hsl(120, 100.00%, 80.00%); border: none;\">\n",
              "            <td style=\"padding: 0 1em 0 0.5em; text-align: right; border: none;\">\n",
              "                641.4955\n",
              "                \n",
              "                    &plusmn; 3.2226\n",
              "                \n",
              "            </td>\n",
              "            <td style=\"padding: 0 0.5em 0 0.5em; text-align: left; border: none;\">\n",
              "                wknd\n",
              "            </td>\n",
              "        </tr>\n",
              "    \n",
              "        <tr style=\"background-color: hsl(120, 100.00%, 94.09%); border: none;\">\n",
              "            <td style=\"padding: 0 1em 0 0.5em; text-align: right; border: none;\">\n",
              "                112.3072\n",
              "                \n",
              "                    &plusmn; 2.9494\n",
              "                \n",
              "            </td>\n",
              "            <td style=\"padding: 0 0.5em 0 0.5em; text-align: left; border: none;\">\n",
              "                Total_yesterday\n",
              "            </td>\n",
              "        </tr>\n",
              "    \n",
              "        <tr style=\"background-color: hsl(120, 100.00%, 95.24%); border: none;\">\n",
              "            <td style=\"padding: 0 1em 0 0.5em; text-align: right; border: none;\">\n",
              "                82.4046\n",
              "                \n",
              "                    &plusmn; 35.7262\n",
              "                \n",
              "            </td>\n",
              "            <td style=\"padding: 0 0.5em 0 0.5em; text-align: left; border: none;\">\n",
              "                TMAX\n",
              "            </td>\n",
              "        </tr>\n",
              "    \n",
              "        <tr style=\"background-color: hsl(120, 100.00%, 95.89%); border: none;\">\n",
              "            <td style=\"padding: 0 1em 0 0.5em; text-align: right; border: none;\">\n",
              "                66.8126\n",
              "                \n",
              "                    &plusmn; 21.8464\n",
              "                \n",
              "            </td>\n",
              "            <td style=\"padding: 0 0.5em 0 0.5em; text-align: left; border: none;\">\n",
              "                PRCP\n",
              "            </td>\n",
              "        </tr>\n",
              "    \n",
              "        <tr style=\"background-color: hsl(120, 100.00%, 96.26%); border: none;\">\n",
              "            <td style=\"padding: 0 1em 0 0.5em; text-align: right; border: none;\">\n",
              "                58.5115\n",
              "                \n",
              "                    &plusmn; 3.5358\n",
              "                \n",
              "            </td>\n",
              "            <td style=\"padding: 0 0.5em 0 0.5em; text-align: left; border: none;\">\n",
              "                Fri\n",
              "            </td>\n",
              "        </tr>\n",
              "    \n",
              "        <tr style=\"background-color: hsl(120, 100.00%, 97.45%); border: none;\">\n",
              "            <td style=\"padding: 0 1em 0 0.5em; text-align: right; border: none;\">\n",
              "                33.7711\n",
              "                \n",
              "                    &plusmn; 3.1641\n",
              "                \n",
              "            </td>\n",
              "            <td style=\"padding: 0 0.5em 0 0.5em; text-align: left; border: none;\">\n",
              "                holiday\n",
              "            </td>\n",
              "        </tr>\n",
              "    \n",
              "        <tr style=\"background-color: hsl(120, 100.00%, 98.15%); border: none;\">\n",
              "            <td style=\"padding: 0 1em 0 0.5em; text-align: right; border: none;\">\n",
              "                21.3979\n",
              "                \n",
              "                    &plusmn; 8.3371\n",
              "                \n",
              "            </td>\n",
              "            <td style=\"padding: 0 0.5em 0 0.5em; text-align: left; border: none;\">\n",
              "                Tue\n",
              "            </td>\n",
              "        </tr>\n",
              "    \n",
              "        <tr style=\"background-color: hsl(120, 100.00%, 98.17%); border: none;\">\n",
              "            <td style=\"padding: 0 1em 0 0.5em; text-align: right; border: none;\">\n",
              "                21.1269\n",
              "                \n",
              "                    &plusmn; 12.1749\n",
              "                \n",
              "            </td>\n",
              "            <td style=\"padding: 0 0.5em 0 0.5em; text-align: left; border: none;\">\n",
              "                TMIN\n",
              "            </td>\n",
              "        </tr>\n",
              "    \n",
              "        <tr style=\"background-color: hsl(120, 100.00%, 98.63%); border: none;\">\n",
              "            <td style=\"padding: 0 1em 0 0.5em; text-align: right; border: none;\">\n",
              "                13.9495\n",
              "                \n",
              "                    &plusmn; 8.5245\n",
              "                \n",
              "            </td>\n",
              "            <td style=\"padding: 0 0.5em 0 0.5em; text-align: left; border: none;\">\n",
              "                Sat\n",
              "            </td>\n",
              "        </tr>\n",
              "    \n",
              "        <tr style=\"background-color: hsl(120, 100.00%, 99.09%); border: none;\">\n",
              "            <td style=\"padding: 0 1em 0 0.5em; text-align: right; border: none;\">\n",
              "                7.7099\n",
              "                \n",
              "                    &plusmn; 8.6438\n",
              "                \n",
              "            </td>\n",
              "            <td style=\"padding: 0 0.5em 0 0.5em; text-align: left; border: none;\">\n",
              "                Mon\n",
              "            </td>\n",
              "        </tr>\n",
              "    \n",
              "        <tr style=\"background-color: hsl(120, 100.00%, 99.21%); border: none;\">\n",
              "            <td style=\"padding: 0 1em 0 0.5em; text-align: right; border: none;\">\n",
              "                6.3409\n",
              "                \n",
              "                    &plusmn; 1.8636\n",
              "                \n",
              "            </td>\n",
              "            <td style=\"padding: 0 0.5em 0 0.5em; text-align: left; border: none;\">\n",
              "                Wed\n",
              "            </td>\n",
              "        </tr>\n",
              "    \n",
              "        <tr style=\"background-color: hsl(120, 100.00%, 99.24%); border: none;\">\n",
              "            <td style=\"padding: 0 1em 0 0.5em; text-align: right; border: none;\">\n",
              "                5.9673\n",
              "                \n",
              "                    &plusmn; 3.7514\n",
              "                \n",
              "            </td>\n",
              "            <td style=\"padding: 0 0.5em 0 0.5em; text-align: left; border: none;\">\n",
              "                month\n",
              "            </td>\n",
              "        </tr>\n",
              "    \n",
              "        <tr style=\"background-color: hsl(120, 100.00%, 99.41%); border: none;\">\n",
              "            <td style=\"padding: 0 1em 0 0.5em; text-align: right; border: none;\">\n",
              "                4.1865\n",
              "                \n",
              "                    &plusmn; 9.7248\n",
              "                \n",
              "            </td>\n",
              "            <td style=\"padding: 0 0.5em 0 0.5em; text-align: left; border: none;\">\n",
              "                day\n",
              "            </td>\n",
              "        </tr>\n",
              "    \n",
              "        <tr style=\"background-color: hsl(120, 100.00%, 99.72%); border: none;\">\n",
              "            <td style=\"padding: 0 1em 0 0.5em; text-align: right; border: none;\">\n",
              "                1.4683\n",
              "                \n",
              "                    &plusmn; 4.9908\n",
              "                \n",
              "            </td>\n",
              "            <td style=\"padding: 0 0.5em 0 0.5em; text-align: left; border: none;\">\n",
              "                Temp (C)\n",
              "            </td>\n",
              "        </tr>\n",
              "    \n",
              "        <tr style=\"background-color: hsl(120, 100.00%, 99.73%); border: none;\">\n",
              "            <td style=\"padding: 0 1em 0 0.5em; text-align: right; border: none;\">\n",
              "                1.3708\n",
              "                \n",
              "                    &plusmn; 0.2062\n",
              "                \n",
              "            </td>\n",
              "            <td style=\"padding: 0 0.5em 0 0.5em; text-align: left; border: none;\">\n",
              "                daylight_hrs\n",
              "            </td>\n",
              "        </tr>\n",
              "    \n",
              "        <tr style=\"background-color: hsl(0, 100.00%, 100.00%); border: none;\">\n",
              "            <td style=\"padding: 0 1em 0 0.5em; text-align: right; border: none;\">\n",
              "                0\n",
              "                \n",
              "                    &plusmn; 0.0000\n",
              "                \n",
              "            </td>\n",
              "            <td style=\"padding: 0 0.5em 0 0.5em; text-align: left; border: none;\">\n",
              "                dry_day\n",
              "            </td>\n",
              "        </tr>\n",
              "    \n",
              "        <tr style=\"background-color: hsl(0, 100.00%, 100.00%); border: none;\">\n",
              "            <td style=\"padding: 0 1em 0 0.5em; text-align: right; border: none;\">\n",
              "                0\n",
              "                \n",
              "                    &plusmn; 0.0000\n",
              "                \n",
              "            </td>\n",
              "            <td style=\"padding: 0 0.5em 0 0.5em; text-align: left; border: none;\">\n",
              "                annual\n",
              "            </td>\n",
              "        </tr>\n",
              "    \n",
              "        <tr style=\"background-color: hsl(0, 100.00%, 100.00%); border: none;\">\n",
              "            <td style=\"padding: 0 1em 0 0.5em; text-align: right; border: none;\">\n",
              "                0\n",
              "                \n",
              "                    &plusmn; 0.0000\n",
              "                \n",
              "            </td>\n",
              "            <td style=\"padding: 0 0.5em 0 0.5em; text-align: left; border: none;\">\n",
              "                cold_precip\n",
              "            </td>\n",
              "        </tr>\n",
              "    \n",
              "        <tr style=\"background-color: hsl(0, 100.00%, 100.00%); border: none;\">\n",
              "            <td style=\"padding: 0 1em 0 0.5em; text-align: right; border: none;\">\n",
              "                0\n",
              "                \n",
              "                    &plusmn; 0.0000\n",
              "                \n",
              "            </td>\n",
              "            <td style=\"padding: 0 0.5em 0 0.5em; text-align: left; border: none;\">\n",
              "                extreme_temp\n",
              "            </td>\n",
              "        </tr>\n",
              "    \n",
              "        <tr style=\"background-color: hsl(0, 100.00%, 100.00%); border: none;\">\n",
              "            <td style=\"padding: 0 1em 0 0.5em; text-align: right; border: none;\">\n",
              "                0\n",
              "                \n",
              "                    &plusmn; 0.0000\n",
              "                \n",
              "            </td>\n",
              "            <td style=\"padding: 0 0.5em 0 0.5em; text-align: left; border: none;\">\n",
              "                rain_streak_count\n",
              "            </td>\n",
              "        </tr>\n",
              "    \n",
              "        <tr style=\"background-color: hsl(0, 100.00%, 100.00%); border: none;\">\n",
              "            <td style=\"padding: 0 1em 0 0.5em; text-align: right; border: none;\">\n",
              "                0\n",
              "                \n",
              "                    &plusmn; 0.0000\n",
              "                \n",
              "            </td>\n",
              "            <td style=\"padding: 0 0.5em 0 0.5em; text-align: left; border: none;\">\n",
              "                dry_wknd_day_and_rained_last_wknd\n",
              "            </td>\n",
              "        </tr>\n",
              "    \n",
              "        <tr style=\"background-color: hsl(0, 100.00%, 100.00%); border: none;\">\n",
              "            <td style=\"padding: 0 1em 0 0.5em; text-align: right; border: none;\">\n",
              "                0\n",
              "                \n",
              "                    &plusmn; 0.0000\n",
              "                \n",
              "            </td>\n",
              "            <td style=\"padding: 0 0.5em 0 0.5em; text-align: left; border: none;\">\n",
              "                SNWD\n",
              "            </td>\n",
              "        </tr>\n",
              "    \n",
              "        <tr style=\"background-color: hsl(0, 100.00%, 100.00%); border: none;\">\n",
              "            <td style=\"padding: 0 1em 0 0.5em; text-align: right; border: none;\">\n",
              "                0\n",
              "                \n",
              "                    &plusmn; 0.0000\n",
              "                \n",
              "            </td>\n",
              "            <td style=\"padding: 0 0.5em 0 0.5em; text-align: left; border: none;\">\n",
              "                SNOW\n",
              "            </td>\n",
              "        </tr>\n",
              "    \n",
              "        <tr style=\"background-color: hsl(0, 100.00%, 100.00%); border: none;\">\n",
              "            <td style=\"padding: 0 1em 0 0.5em; text-align: right; border: none;\">\n",
              "                0\n",
              "                \n",
              "                    &plusmn; 0.0000\n",
              "                \n",
              "            </td>\n",
              "            <td style=\"padding: 0 0.5em 0 0.5em; text-align: left; border: none;\">\n",
              "                Sun\n",
              "            </td>\n",
              "        </tr>\n",
              "    \n",
              "        <tr style=\"background-color: hsl(0, 100.00%, 99.94%); border: none;\">\n",
              "            <td style=\"padding: 0 1em 0 0.5em; text-align: right; border: none;\">\n",
              "                -0.1692\n",
              "                \n",
              "                    &plusmn; 7.3993\n",
              "                \n",
              "            </td>\n",
              "            <td style=\"padding: 0 0.5em 0 0.5em; text-align: left; border: none;\">\n",
              "                AWND\n",
              "            </td>\n",
              "        </tr>\n",
              "    \n",
              "        <tr style=\"background-color: hsl(0, 100.00%, 99.86%); border: none;\">\n",
              "            <td style=\"padding: 0 1em 0 0.5em; text-align: right; border: none;\">\n",
              "                -0.5351\n",
              "                \n",
              "                    &plusmn; 1.0703\n",
              "                \n",
              "            </td>\n",
              "            <td style=\"padding: 0 0.5em 0 0.5em; text-align: left; border: none;\">\n",
              "                rain_streak_now_sunny_length\n",
              "            </td>\n",
              "        </tr>\n",
              "    \n",
              "        <tr style=\"background-color: hsl(0, 100.00%, 99.80%); border: none;\">\n",
              "            <td style=\"padding: 0 1em 0 0.5em; text-align: right; border: none;\">\n",
              "                -0.8971\n",
              "                \n",
              "                    &plusmn; 0.6546\n",
              "                \n",
              "            </td>\n",
              "            <td style=\"padding: 0 0.5em 0 0.5em; text-align: left; border: none;\">\n",
              "                rain_streak_now_sunny\n",
              "            </td>\n",
              "        </tr>\n",
              "    \n",
              "        <tr style=\"background-color: hsl(0, 100.00%, 99.34%); border: none;\">\n",
              "            <td style=\"padding: 0 1em 0 0.5em; text-align: right; border: none;\">\n",
              "                -4.9550\n",
              "                \n",
              "                    &plusmn; 2.8610\n",
              "                \n",
              "            </td>\n",
              "            <td style=\"padding: 0 0.5em 0 0.5em; text-align: left; border: none;\">\n",
              "                Thu\n",
              "            </td>\n",
              "        </tr>\n",
              "    \n",
              "    \n",
              "    </tbody>\n",
              "</table>\n",
              "    \n",
              "\n",
              "    \n",
              "\n",
              "\n",
              "    \n",
              "\n",
              "    \n",
              "\n",
              "    \n",
              "\n",
              "    \n",
              "\n",
              "    \n",
              "\n",
              "    \n",
              "\n",
              "\n",
              "\n"
            ],
            "text/plain": [
              "<IPython.core.display.HTML object>"
            ]
          },
          "metadata": {
            "tags": []
          },
          "execution_count": 67
        }
      ]
    },
    {
      "cell_type": "code",
      "metadata": {
        "id": "Rl3Soan-9exa",
        "colab_type": "code",
        "colab": {
          "base_uri": "https://localhost:8080/",
          "height": 54
        },
        "outputId": "7f99644b-40fd-4b6d-b80b-4f74ce512eff"
      },
      "source": [
        "print('Shape before removing features', X_train.shape)\n",
        "\n",
        "mask = permuter.feature_importances_ > 0\n",
        "\n",
        "features = X_train.columns[mask]\n",
        "X_train = X_train[features]\n",
        "X_test = X_test[features]\n",
        "\n",
        "print('Shape after removing features: ', X_train_permuted.shape)"
      ],
      "execution_count": 78,
      "outputs": [
        {
          "output_type": "stream",
          "text": [
            "Shape before removing features (963, 28)\n",
            "Shape after removing features:  (963, 15)\n"
          ],
          "name": "stdout"
        }
      ]
    },
    {
      "cell_type": "code",
      "metadata": {
        "id": "8eaiLWdz-NU5",
        "colab_type": "code",
        "colab": {
          "base_uri": "https://localhost:8080/",
          "height": 199
        },
        "outputId": "625a4cc8-baa5-4f77-fe83-08f4c2ca1ea0"
      },
      "source": [
        "param_distributions = {\n",
        "    'n_estimators' : [100, 200, 500],\n",
        "    'max_depth': [2,3,5,10,50]\n",
        "}\n",
        "\n",
        "search = RandomizedSearchCV(\n",
        "    XGBRegressor(n_jobs=-1, random_state=42),\n",
        "    param_distributions= param_distributions,\n",
        "    n_iter=8,\n",
        "    cv=3,\n",
        "    scoring='neg_mean_absolute_error',\n",
        "    verbose=10,\n",
        "    return_train_score=True,\n",
        "    n_jobs=-1,\n",
        "    random_state=42\n",
        ")\n",
        "\n",
        "search.fit(X_train, y_train)\n",
        "\n",
        "print('Cross-Validation MAE w/ permuted features: ', search.best_score_)"
      ],
      "execution_count": 79,
      "outputs": [
        {
          "output_type": "stream",
          "text": [
            "Fitting 3 folds for each of 8 candidates, totalling 24 fits\n"
          ],
          "name": "stdout"
        },
        {
          "output_type": "stream",
          "text": [
            "[Parallel(n_jobs=-1)]: Using backend LokyBackend with 2 concurrent workers.\n",
            "[Parallel(n_jobs=-1)]: Done   1 tasks      | elapsed:    1.8s\n",
            "[Parallel(n_jobs=-1)]: Done   4 tasks      | elapsed:    3.5s\n",
            "[Parallel(n_jobs=-1)]: Done   9 tasks      | elapsed:    5.0s\n",
            "[Parallel(n_jobs=-1)]: Done  14 tasks      | elapsed:    6.7s\n",
            "[Parallel(n_jobs=-1)]: Done  21 tasks      | elapsed:    8.5s\n",
            "[Parallel(n_jobs=-1)]: Done  24 out of  24 | elapsed:    8.7s remaining:    0.0s\n",
            "[Parallel(n_jobs=-1)]: Done  24 out of  24 | elapsed:    8.7s finished\n"
          ],
          "name": "stderr"
        },
        {
          "output_type": "stream",
          "text": [
            "Cross-Validation MAE w/ permuted features:  -267.2860769210451\n"
          ],
          "name": "stdout"
        }
      ]
    },
    {
      "cell_type": "code",
      "metadata": {
        "id": "62LNLnGR-gNz",
        "colab_type": "code",
        "colab": {
          "base_uri": "https://localhost:8080/",
          "height": 35
        },
        "outputId": "a2f46838-9a95-4aed-bcf7-d580ea65d98d"
      },
      "source": [
        "best = search.best_estimator_\n",
        "y_pred = best.predict(X_test)\n",
        "print('Test MAE w/ permuted features: ', mean_absolute_error(y_test, y_pred))"
      ],
      "execution_count": 80,
      "outputs": [
        {
          "output_type": "stream",
          "text": [
            "Test MAE w/ permuted features:  247.48753051757814\n"
          ],
          "name": "stdout"
        }
      ]
    },
    {
      "cell_type": "markdown",
      "metadata": {
        "id": "dRSgpWhh_LaD",
        "colab_type": "text"
      },
      "source": [
        "##Partial Dependence Plot"
      ]
    },
    {
      "cell_type": "code",
      "metadata": {
        "id": "CuW9tKJi_Mvu",
        "colab_type": "code",
        "colab": {
          "base_uri": "https://localhost:8080/",
          "height": 584
        },
        "outputId": "dceaa80e-7fb9-4fd7-d765-0502dc05a48d"
      },
      "source": [
        "from pdpbox.pdp import pdp_isolate, pdp_plot\n",
        "\n",
        "feature = 'Total_yesterday'\n",
        "\n",
        "isolated = pdp_isolate(\n",
        "    model = best,\n",
        "    dataset = X_test,\n",
        "    model_features = X_test.columns,\n",
        "    feature = feature\n",
        ")\n",
        "\n",
        "pdp_plot(isolated, feature_name = feature);"
      ],
      "execution_count": 82,
      "outputs": [
        {
          "output_type": "display_data",
          "data": {
            "image/png": "[encoded data removed]",
            "text/plain": [
              "<Figure size 1080x684 with 2 Axes>"
            ]
          },
          "metadata": {
            "tags": []
          }
        }
      ]
    },
    {
      "cell_type": "code",
      "metadata": {
        "id": "mo6TWaiPAbP-",
        "colab_type": "code",
        "colab": {
          "base_uri": "https://localhost:8080/",
          "height": 585
        },
        "outputId": "6a22d28e-4c61-4252-d697-7078ebfb5c54"
      },
      "source": [
        "from pdpbox.pdp import pdp_interact, pdp_interact_plot\n",
        "\n",
        "features= ['PRCP', 'TMAX']\n",
        "\n",
        "interaction = pdp_interact(\n",
        "    model=best,\n",
        "    dataset=X_test,\n",
        "    model_features=X_test.columns,\n",
        "    features=features\n",
        ")\n",
        "\n",
        "pdp_interact_plot(interaction, plot_type='grid', feature_names=features);"
      ],
      "execution_count": 84,
      "outputs": [
        {
          "output_type": "display_data",
          "data": {
            "image/png": "[encoded data removed]",
            "text/plain": [
              "<Figure size 540x684 with 3 Axes>"
            ]
          },
          "metadata": {
            "tags": []
          }
        }
      ]
    },
    {
      "cell_type": "markdown",
      "metadata": {
        "id": "Jsp2E0qhB_KA",
        "colab_type": "text"
      },
      "source": [
        "##Shapley Values"
      ]
    },
    {
      "cell_type": "code",
      "metadata": {
        "id": "eiC_1fLIBY8S",
        "colab_type": "code",
        "colab": {}
      },
      "source": [
        "y_pred = (y_pred_proba >= 0.5).astype(int)\n",
        "confidence = np.abs(y_pred_proba - 0.5)\n",
        "preds = pd.DataFrame({'y_test': y_test, 'y_pred': y_pred, \n",
        "                      'y_pred_proba': y_pred_proba, \n",
        "                      'confidence': confidence})\n",
        "\n",
        "preds.head(10)"
      ],
      "execution_count": 0,
      "outputs": []
    },
    {
      "cell_type": "code",
      "metadata": {
        "id": "0knvgntWElcX",
        "colab_type": "code",
        "colab": {
          "base_uri": "https://localhost:8080/",
          "height": 326
        },
        "outputId": "46849af2-5c04-472e-d784-114d6730e11c"
      },
      "source": [
        "y_pred"
      ],
      "execution_count": 85,
      "outputs": [
        {
          "output_type": "execute_result",
          "data": {
            "text/plain": [
              "array([2018.5613, 4040.3179, 4746.357 , 4725.056 , 4737.5557, 2905.503 ,\n",
              "       2865.8064, 3153.5872, 3816.129 , 4324.443 , 4357.3657, 4309.311 ,\n",
              "       2649.6665, 2729.1343, 4861.1333, 4804.518 , 4793.7666, 4695.6865,\n",
              "       4051.9539, 2754.0679, 2631.3687, 4623.7383, 4764.3477, 4630.355 ,\n",
              "       4428.829 , 3692.3477, 2231.0945, 2474.798 , 4414.598 , 4907.925 ,\n",
              "       4299.601 , 4576.109 , 4090.6003, 2500.798 , 2244.4363, 4579.2373,\n",
              "       5095.7593, 4442.556 , 4334.489 , 3164.5076, 2400.4563, 2360.1057,\n",
              "       4595.904 , 4689.3657, 4745.0425, 4619.757 , 3698.2168, 2300.3481,\n",
              "       2158.38  , 4164.078 , 4583.5386, 4581.0547, 4469.588 , 3956.6301,\n",
              "       2443.829 , 2270.6753, 4045.763 , 4516.3384, 4440.993 , 4387.496 ,\n",
              "       3595.26  , 2030.6665, 1540.6647, 4251.6436, 4597.5264, 4767.808 ,\n",
              "       4535.025 , 4071.264 , 2528.7383, 2415.721 , 4042.7068, 4771.382 ,\n",
              "       4639.5654, 4440.7173, 4033.9526, 2340.1519, 2287.4182, 4545.3076,\n",
              "       4759.2227, 3478.8813, 4356.1157, 2429.8115, 1907.8788, 2206.95  ,\n",
              "       4280.6978, 4722.5586, 4522.61  , 3541.4663, 3720.7568, 2494.512 ,\n",
              "       2237.9812, 4132.3794, 4515.1494, 4279.2524, 4363.288 , 3455.5452,\n",
              "       1219.3751, 1070.1985, 3298.8972, 3263.1672], dtype=float32)"
            ]
          },
          "metadata": {
            "tags": []
          },
          "execution_count": 85
        }
      ]
    },
    {
      "cell_type": "code",
      "metadata": {
        "id": "zCN-176JEWyw",
        "colab_type": "code",
        "colab": {}
      },
      "source": [
        "import shap\n",
        "shap.initjs()\n",
        "\n",
        "explainer = shap.TreeExplainer(best)\n",
        "shap_values = explainer.shap_values(data_for_prediction)\n",
        "shap.force_plot(explainer.expected_value, shap_values, data_for_prediction)"
      ],
      "execution_count": 0,
      "outputs": []
    }
  ]
}