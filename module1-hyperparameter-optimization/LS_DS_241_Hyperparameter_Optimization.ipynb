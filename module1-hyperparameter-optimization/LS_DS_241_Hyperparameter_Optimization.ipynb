{
  "nbformat": 4,
  "nbformat_minor": 0,
  "metadata": {
    "colab": {
      "name": "Copy of LS_DS_243_Select_models_and_parameters.ipynb",
      "version": "0.3.2",
      "provenance": [],
      "collapsed_sections": [],
      "include_colab_link": true
    },
    "language_info": {
      "codemirror_mode": {
        "name": "ipython",
        "version": 3
      },
      "file_extension": ".py",
      "mimetype": "text/x-python",
      "name": "python",
      "nbconvert_exporter": "python",
      "pygments_lexer": "ipython3",
      "version": "3.7.1"
    },
    "kernelspec": {
      "display_name": "Python 3",
      "language": "python",
      "name": "python3"
    }
  },
  "cells": [
    {
      "cell_type": "markdown",
      "metadata": {
        "id": "view-in-github",
        "colab_type": "text"
      },
      "source": [
        "<a href=\"https://colab.research.google.com/github/dustiny5/DS-Unit-2-Sprint-4-Practicing-Understanding/blob/master/module1-hyperparameter-optimization/LS_DS_241_Hyperparameter_Optimization.ipynb\" target=\"_parent\"><img src=\"https://colab.research.google.com/assets/colab-badge.svg\" alt=\"Open In Colab\"/></a>"
      ]
    },
    {
      "cell_type": "markdown",
      "metadata": {
        "colab_type": "text",
        "id": "O67uhlT4MExK"
      },
      "source": [
        "_Lambda School Data Science — Practicing & Understanding Predictive Modeling_\n",
        "\n",
        "# Hyperparameter Optimization"
      ]
    },
    {
      "cell_type": "markdown",
      "metadata": {
        "colab_type": "text",
        "id": "VE4rfZd4NUGA"
      },
      "source": [
        "Today we'll use this process:\n",
        "\n",
        "## \"A universal workflow of machine learning\"\n",
        "\n",
        "_Excerpt from Francois Chollet, [Deep Learning with Python](https://github.com/fchollet/deep-learning-with-python-notebooks/blob/master/README.md), Chapter 4: Fundamentals of machine learning_\n",
        " \n",
        "**1. Define the problem at hand and the data on which you’ll train.** Collect this data, or annotate it with labels if need be.\n",
        "\n",
        "**2. Choose how you’ll measure success on your problem.** Which metrics will you monitor on your validation data?\n",
        "\n",
        "**3. Determine your evaluation protocol:** hold-out validation? K-fold validation? Which portion of the data should you use for validation?\n",
        "\n",
        "**4. Develop a first model that does better than a basic baseline:** a model with statistical power.\n",
        "\n",
        "**5. Develop a model that overfits.** The universal tension in machine learning is between optimization and generalization; the ideal model is one that stands right at the border between underfitting and overfitting; between undercapacity and overcapacity. To figure out where this border lies, first you must cross it.\n",
        "\n",
        "**6. Regularize your model and tune its hyperparameters, based on performance on the validation data.** Repeatedly modify your model, train it, evaluate on your validation data (not the test data, at this point), modify it again, and repeat, until the model is as good as it can get. \n",
        "\n",
        "**Iterate on feature engineering: add new features, or remove features that don’t seem to be informative.** \n",
        "\n",
        "Once you’ve developed a satisfactory model configuration, you can **train your final production model on all the available data (training and validation) and evaluate it one last time on the test set.**\n"
      ]
    },
    {
      "cell_type": "markdown",
      "metadata": {
        "colab_type": "text",
        "id": "3kt6bzEcOIaa"
      },
      "source": [
        "## 1. Define the problem at hand and the data on which you'll train"
      ]
    },
    {
      "cell_type": "markdown",
      "metadata": {
        "colab_type": "text",
        "id": "di16k7vpRg67"
      },
      "source": [
        "We'll apply the workflow to a [project from _Python Data Science Handbook_](https://jakevdp.github.io/PythonDataScienceHandbook/05.06-linear-regression.html#Example:-Predicting-Bicycle-Traffic) by Jake VanderPlas:\n",
        "\n",
        "> **Predicting Bicycle Traffic**\n",
        "\n",
        "> As an example, let's take a look at whether we can predict the number of bicycle trips across Seattle's Fremont Bridge based on weather, season, and other factors.\n",
        "\n",
        "> We will join the bike data with another dataset, and try to determine the extent to which weather and seasonal factors—temperature, precipitation, and daylight hours—affect the volume of bicycle traffic through this corridor. Fortunately, the NOAA makes available their daily [weather station data](http://www.ncdc.noaa.gov/cdo-web/search?datasetid=GHCND) (I used station ID USW00024233) and we can easily use Pandas to join the two data sources.\n",
        "\n",
        "> Let's start by loading the two datasets, indexing by date:"
      ]
    },
    {
      "cell_type": "markdown",
      "metadata": {
        "colab_type": "text",
        "id": "19dpb_d0R1A6"
      },
      "source": [
        "So this is a regression problem, not a classification problem. We'll define the target, choose an evaluation metric, and choose models that are appropriate for regression problems.\n",
        "\n",
        "\n"
      ]
    },
    {
      "cell_type": "markdown",
      "metadata": {
        "colab_type": "text",
        "id": "os1zruXQ30KM"
      },
      "source": [
        "### Download data"
      ]
    },
    {
      "cell_type": "code",
      "metadata": {
        "colab_type": "code",
        "id": "5XVu-HSeMDtV",
        "colab": {
          "base_uri": "https://localhost:8080/",
          "height": 69
        },
        "outputId": "8b451e20-66ad-4f24-af49-14a767c3a582"
      },
      "source": [
        "!curl -o FremontBridge.csv https://data.seattle.gov/api/views/65db-xm6k/rows.csv?accessType=DOWNLOAD"
      ],
      "execution_count": 46,
      "outputs": [
        {
          "output_type": "stream",
          "text": [
            "  % Total    % Received % Xferd  Average Speed   Time    Time     Time  Current\n",
            "                                 Dload  Upload   Total   Spent    Left  Speed\n",
            "100 1616k    0 1616k    0     0   441k      0 --:--:--  0:00:03 --:--:--  441k\n"
          ],
          "name": "stdout"
        }
      ]
    },
    {
      "cell_type": "code",
      "metadata": {
        "colab_type": "code",
        "id": "sih_7mTzMdfr",
        "colab": {
          "base_uri": "https://localhost:8080/",
          "height": 208
        },
        "outputId": "43a80347-1d05-4fe9-a7eb-d88c7d5cd82c"
      },
      "source": [
        "!wget https://raw.githubusercontent.com/jakevdp/PythonDataScienceHandbook/master/notebooks/data/BicycleWeather.csv"
      ],
      "execution_count": 47,
      "outputs": [
        {
          "output_type": "stream",
          "text": [
            "--2019-05-13 20:19:33--  https://raw.githubusercontent.com/jakevdp/PythonDataScienceHandbook/master/notebooks/data/BicycleWeather.csv\n",
            "Resolving raw.githubusercontent.com (raw.githubusercontent.com)... 151.101.0.133, 151.101.64.133, 151.101.128.133, ...\n",
            "Connecting to raw.githubusercontent.com (raw.githubusercontent.com)|151.101.0.133|:443... connected.\n",
            "HTTP request sent, awaiting response... 200 OK\n",
            "Length: 234945 (229K) [text/plain]\n",
            "Saving to: ‘BicycleWeather.csv’\n",
            "\n",
            "\rBicycleWeather.csv    0%[                    ]       0  --.-KB/s               \rBicycleWeather.csv  100%[===================>] 229.44K  --.-KB/s    in 0.03s   \n",
            "\n",
            "2019-05-13 20:19:33 (7.74 MB/s) - ‘BicycleWeather.csv’ saved [234945/234945]\n",
            "\n"
          ],
          "name": "stdout"
        }
      ]
    },
    {
      "cell_type": "markdown",
      "metadata": {
        "colab_type": "text",
        "id": "9GYm74kD34OQ"
      },
      "source": [
        "### Load data"
      ]
    },
    {
      "cell_type": "code",
      "metadata": {
        "colab_type": "code",
        "id": "BfQ7gE28MNdF",
        "colab": {}
      },
      "source": [
        "# Modified from cells 15, 16, and 20, at\n",
        "# https://jakevdp.github.io/PythonDataScienceHandbook/05.06-linear-regression.html#Example:-Predicting-Bicycle-Traffic\n",
        "\n",
        "import pandas as pd\n",
        "\n",
        "# Download and join data into a dataframe\n",
        "def load(): \n",
        "    fremont_bridge = 'https://data.seattle.gov/api/views/65db-xm6k/rows.csv?accessType=DOWNLOAD'\n",
        "    \n",
        "    bicycle_weather = 'https://raw.githubusercontent.com/jakevdp/PythonDataScienceHandbook/master/notebooks/data/BicycleWeather.csv'\n",
        "\n",
        "    counts = pd.read_csv(fremont_bridge, index_col='Date', parse_dates=True, \n",
        "                         infer_datetime_format=True)\n",
        "\n",
        "    weather = pd.read_csv(bicycle_weather, index_col='DATE', parse_dates=True, \n",
        "                          infer_datetime_format=True)\n",
        "\n",
        "    daily = counts.resample('d').sum()\n",
        "    daily['Total'] = daily.sum(axis=1)\n",
        "    daily = daily[['Total']] # remove other columns\n",
        "\n",
        "    weather_columns = ['PRCP', 'SNOW', 'SNWD', 'TMAX', 'TMIN', 'AWND']\n",
        "    daily = daily.join(weather[weather_columns], how='inner')\n",
        "    \n",
        "    # Make a feature for yesterday's total\n",
        "    daily['Total_yesterday'] = daily.Total.shift(1)\n",
        "    daily = daily.drop(index=daily.index[0])\n",
        "    \n",
        "    return daily\n",
        "\n",
        "daily = load()"
      ],
      "execution_count": 0,
      "outputs": []
    },
    {
      "cell_type": "markdown",
      "metadata": {
        "colab_type": "text",
        "id": "VVB3g4704An5"
      },
      "source": [
        "### First fast look at the data\n",
        "- What's the shape?\n",
        "- What's the date range?\n",
        "- What's the target and the features?"
      ]
    },
    {
      "cell_type": "code",
      "metadata": {
        "colab_type": "code",
        "id": "t50E2fTUWBBU",
        "colab": {
          "base_uri": "https://localhost:8080/",
          "height": 35
        },
        "outputId": "f748dc88-e3c0-4ca7-b3ff-a4fe22f01d75"
      },
      "source": [
        "# TODO\n",
        "daily.shape"
      ],
      "execution_count": 49,
      "outputs": [
        {
          "output_type": "execute_result",
          "data": {
            "text/plain": [
              "(1063, 8)"
            ]
          },
          "metadata": {
            "tags": []
          },
          "execution_count": 49
        }
      ]
    },
    {
      "cell_type": "code",
      "metadata": {
        "id": "X5fIalWH9nrX",
        "colab_type": "code",
        "colab": {
          "base_uri": "https://localhost:8080/",
          "height": 202
        },
        "outputId": "781fd4bf-c72f-4c60-84ba-0b29d9714765"
      },
      "source": [
        "daily.head()"
      ],
      "execution_count": 50,
      "outputs": [
        {
          "output_type": "execute_result",
          "data": {
            "text/html": [
              "<div>\n",
              "<style scoped>\n",
              "    .dataframe tbody tr th:only-of-type {\n",
              "        vertical-align: middle;\n",
              "    }\n",
              "\n",
              "    .dataframe tbody tr th {\n",
              "        vertical-align: top;\n",
              "    }\n",
              "\n",
              "    .dataframe thead th {\n",
              "        text-align: right;\n",
              "    }\n",
              "</style>\n",
              "<table border=\"1\" class=\"dataframe\">\n",
              "  <thead>\n",
              "    <tr style=\"text-align: right;\">\n",
              "      <th></th>\n",
              "      <th>Total</th>\n",
              "      <th>PRCP</th>\n",
              "      <th>SNOW</th>\n",
              "      <th>SNWD</th>\n",
              "      <th>TMAX</th>\n",
              "      <th>TMIN</th>\n",
              "      <th>AWND</th>\n",
              "      <th>Total_yesterday</th>\n",
              "    </tr>\n",
              "  </thead>\n",
              "  <tbody>\n",
              "    <tr>\n",
              "      <th>2012-10-04</th>\n",
              "      <td>3475.0</td>\n",
              "      <td>0</td>\n",
              "      <td>0</td>\n",
              "      <td>0</td>\n",
              "      <td>189</td>\n",
              "      <td>83</td>\n",
              "      <td>65</td>\n",
              "      <td>3521.0</td>\n",
              "    </tr>\n",
              "    <tr>\n",
              "      <th>2012-10-05</th>\n",
              "      <td>3148.0</td>\n",
              "      <td>0</td>\n",
              "      <td>0</td>\n",
              "      <td>0</td>\n",
              "      <td>217</td>\n",
              "      <td>89</td>\n",
              "      <td>57</td>\n",
              "      <td>3475.0</td>\n",
              "    </tr>\n",
              "    <tr>\n",
              "      <th>2012-10-06</th>\n",
              "      <td>2006.0</td>\n",
              "      <td>0</td>\n",
              "      <td>0</td>\n",
              "      <td>0</td>\n",
              "      <td>239</td>\n",
              "      <td>78</td>\n",
              "      <td>51</td>\n",
              "      <td>3148.0</td>\n",
              "    </tr>\n",
              "    <tr>\n",
              "      <th>2012-10-07</th>\n",
              "      <td>2142.0</td>\n",
              "      <td>0</td>\n",
              "      <td>0</td>\n",
              "      <td>0</td>\n",
              "      <td>239</td>\n",
              "      <td>78</td>\n",
              "      <td>13</td>\n",
              "      <td>2006.0</td>\n",
              "    </tr>\n",
              "    <tr>\n",
              "      <th>2012-10-08</th>\n",
              "      <td>3537.0</td>\n",
              "      <td>0</td>\n",
              "      <td>0</td>\n",
              "      <td>0</td>\n",
              "      <td>211</td>\n",
              "      <td>78</td>\n",
              "      <td>19</td>\n",
              "      <td>2142.0</td>\n",
              "    </tr>\n",
              "  </tbody>\n",
              "</table>\n",
              "</div>"
            ],
            "text/plain": [
              "             Total  PRCP  SNOW  SNWD  TMAX  TMIN  AWND  Total_yesterday\n",
              "2012-10-04  3475.0     0     0     0   189    83    65           3521.0\n",
              "2012-10-05  3148.0     0     0     0   217    89    57           3475.0\n",
              "2012-10-06  2006.0     0     0     0   239    78    51           3148.0\n",
              "2012-10-07  2142.0     0     0     0   239    78    13           2006.0\n",
              "2012-10-08  3537.0     0     0     0   211    78    19           2142.0"
            ]
          },
          "metadata": {
            "tags": []
          },
          "execution_count": 50
        }
      ]
    },
    {
      "cell_type": "code",
      "metadata": {
        "id": "IYpiPfFO9qfV",
        "colab_type": "code",
        "colab": {
          "base_uri": "https://localhost:8080/",
          "height": 202
        },
        "outputId": "53232232-cee9-4a72-f5d7-4a26f4198d24"
      },
      "source": [
        "daily.tail()"
      ],
      "execution_count": 51,
      "outputs": [
        {
          "output_type": "execute_result",
          "data": {
            "text/html": [
              "<div>\n",
              "<style scoped>\n",
              "    .dataframe tbody tr th:only-of-type {\n",
              "        vertical-align: middle;\n",
              "    }\n",
              "\n",
              "    .dataframe tbody tr th {\n",
              "        vertical-align: top;\n",
              "    }\n",
              "\n",
              "    .dataframe thead th {\n",
              "        text-align: right;\n",
              "    }\n",
              "</style>\n",
              "<table border=\"1\" class=\"dataframe\">\n",
              "  <thead>\n",
              "    <tr style=\"text-align: right;\">\n",
              "      <th></th>\n",
              "      <th>Total</th>\n",
              "      <th>PRCP</th>\n",
              "      <th>SNOW</th>\n",
              "      <th>SNWD</th>\n",
              "      <th>TMAX</th>\n",
              "      <th>TMIN</th>\n",
              "      <th>AWND</th>\n",
              "      <th>Total_yesterday</th>\n",
              "    </tr>\n",
              "  </thead>\n",
              "  <tbody>\n",
              "    <tr>\n",
              "      <th>2015-08-28</th>\n",
              "      <td>2653.0</td>\n",
              "      <td>5</td>\n",
              "      <td>0</td>\n",
              "      <td>0</td>\n",
              "      <td>233</td>\n",
              "      <td>156</td>\n",
              "      <td>26</td>\n",
              "      <td>4336.0</td>\n",
              "    </tr>\n",
              "    <tr>\n",
              "      <th>2015-08-29</th>\n",
              "      <td>699.0</td>\n",
              "      <td>325</td>\n",
              "      <td>0</td>\n",
              "      <td>0</td>\n",
              "      <td>222</td>\n",
              "      <td>133</td>\n",
              "      <td>58</td>\n",
              "      <td>2653.0</td>\n",
              "    </tr>\n",
              "    <tr>\n",
              "      <th>2015-08-30</th>\n",
              "      <td>1213.0</td>\n",
              "      <td>102</td>\n",
              "      <td>0</td>\n",
              "      <td>0</td>\n",
              "      <td>200</td>\n",
              "      <td>128</td>\n",
              "      <td>47</td>\n",
              "      <td>699.0</td>\n",
              "    </tr>\n",
              "    <tr>\n",
              "      <th>2015-08-31</th>\n",
              "      <td>2823.0</td>\n",
              "      <td>0</td>\n",
              "      <td>0</td>\n",
              "      <td>0</td>\n",
              "      <td>189</td>\n",
              "      <td>161</td>\n",
              "      <td>58</td>\n",
              "      <td>1213.0</td>\n",
              "    </tr>\n",
              "    <tr>\n",
              "      <th>2015-09-01</th>\n",
              "      <td>2876.0</td>\n",
              "      <td>58</td>\n",
              "      <td>0</td>\n",
              "      <td>0</td>\n",
              "      <td>194</td>\n",
              "      <td>139</td>\n",
              "      <td>-9999</td>\n",
              "      <td>2823.0</td>\n",
              "    </tr>\n",
              "  </tbody>\n",
              "</table>\n",
              "</div>"
            ],
            "text/plain": [
              "             Total  PRCP  SNOW  SNWD  TMAX  TMIN  AWND  Total_yesterday\n",
              "2015-08-28  2653.0     5     0     0   233   156    26           4336.0\n",
              "2015-08-29   699.0   325     0     0   222   133    58           2653.0\n",
              "2015-08-30  1213.0   102     0     0   200   128    47            699.0\n",
              "2015-08-31  2823.0     0     0     0   189   161    58           1213.0\n",
              "2015-09-01  2876.0    58     0     0   194   139 -9999           2823.0"
            ]
          },
          "metadata": {
            "tags": []
          },
          "execution_count": 51
        }
      ]
    },
    {
      "cell_type": "markdown",
      "metadata": {
        "colab_type": "text",
        "id": "XgMvCsaWJR7Q"
      },
      "source": [
        "Target\n",
        "- Total : Daily total number of bicycle trips across Seattle's Fremont Bridge\n",
        "\n",
        "Features\n",
        "- Date (index) : from 2012-10-04 to 2015-09-01\n",
        "- Total_yesterday : Total trips yesterday\n",
        "- PRCP : Precipitation (1/10 mm)\n",
        "- SNOW : Snowfall (1/10 mm)\n",
        "- SNWD : Snow depth (1/10 mm)\n",
        "- TMAX : Maximum temperature (1/10 Celsius)\n",
        "- TMIN : Minimum temperature (1/10 Celsius)\n",
        "- AWND : Average daily wind speed (1/10 meters per second)"
      ]
    },
    {
      "cell_type": "markdown",
      "metadata": {
        "colab_type": "text",
        "id": "lenL-przSYCo"
      },
      "source": [
        "## 2. Choose how you’ll measure success on your problem.\n",
        "\n",
        "Which metrics will you monitor on your validation data?\n",
        "\n",
        "This is a regression problem, so we need to choose a regression [metric](https://scikit-learn.org/stable/modules/model_evaluation.html#common-cases-predefined-values).\n",
        "\n",
        "\n",
        "\n",
        "I'll choose mean absolute error.\n",
        "\n"
      ]
    },
    {
      "cell_type": "code",
      "metadata": {
        "colab_type": "code",
        "id": "1TqbomapSyRP",
        "colab": {}
      },
      "source": [
        "# TODO\n",
        "from sklearn.metrics import mean_absolute_error"
      ],
      "execution_count": 0,
      "outputs": []
    },
    {
      "cell_type": "markdown",
      "metadata": {
        "colab_type": "text",
        "id": "IRHrB3rsS5hF"
      },
      "source": [
        "## 3. Determine your evaluation protocol \n",
        "\n",
        "We're doing model selection, hyperparameter optimization, and performance estimation. So generally we have two ideal [options](https://sebastianraschka.com/images/blog/2018/model-evaluation-selection-part4/model-eval-conclusions.jpg) to choose from:\n",
        "\n",
        "- 3-way holdout method (train/validation/test split)\n",
        "- Cross-validation with independent test set\n",
        "\n",
        "I'll choose cross-validation with independent test set. Scikit-learn makes cross-validation convenient for us!\n",
        "\n",
        "Specifically, I will use random shuffled cross validation to train and validate, but I will hold out an \"out-of-time\" test set, from the last 100 days of data:\n",
        "\n",
        "\n",
        "\n"
      ]
    },
    {
      "cell_type": "code",
      "metadata": {
        "colab_type": "code",
        "id": "A3xo6HgbPMFm",
        "colab": {
          "base_uri": "https://localhost:8080/",
          "height": 35
        },
        "outputId": "e02ad6c0-49a9-4dae-a31f-14039d0ed3ee"
      },
      "source": [
        "# TODO\n",
        "train = daily[:-100] # Everything but the last 100 days\n",
        "test = daily[-100:] # last 100 days\n",
        "\n",
        "train.shape, test.shape"
      ],
      "execution_count": 53,
      "outputs": [
        {
          "output_type": "execute_result",
          "data": {
            "text/plain": [
              "((963, 8), (100, 8))"
            ]
          },
          "metadata": {
            "tags": []
          },
          "execution_count": 53
        }
      ]
    },
    {
      "cell_type": "code",
      "metadata": {
        "id": "Jfg2qQc9ANKW",
        "colab_type": "code",
        "colab": {
          "base_uri": "https://localhost:8080/",
          "height": 35
        },
        "outputId": "e2db217b-5bfb-4777-9a49-82c29d65457f"
      },
      "source": [
        "X_train = train.drop(columns='Total')\n",
        "y_train = train['Total']\n",
        "\n",
        "X_test = test.drop(columns='Total')\n",
        "y_test = test['Total']\n",
        "\n",
        "X_train.shape, X_test.shape, y_train.shape, y_test.shape"
      ],
      "execution_count": 54,
      "outputs": [
        {
          "output_type": "execute_result",
          "data": {
            "text/plain": [
              "((963, 7), (100, 7), (963,), (100,))"
            ]
          },
          "metadata": {
            "tags": []
          },
          "execution_count": 54
        }
      ]
    },
    {
      "cell_type": "markdown",
      "metadata": {
        "colab_type": "text",
        "id": "vH6IsORQTvTU"
      },
      "source": [
        "## 4. Develop a first model that does better than a basic baseline"
      ]
    },
    {
      "cell_type": "markdown",
      "metadata": {
        "colab_type": "text",
        "id": "DJBs2nQkj7oB"
      },
      "source": [
        "### Look at the target's distribution and descriptive stats"
      ]
    },
    {
      "cell_type": "code",
      "metadata": {
        "colab_type": "code",
        "id": "P5peakv9Zs71",
        "colab": {
          "base_uri": "https://localhost:8080/",
          "height": 301
        },
        "outputId": "9c648b34-d3ea-44d2-cdbb-96643f560859"
      },
      "source": [
        "# TODO\n",
        "%matplotlib inline\n",
        "import seaborn as sns\n",
        "sns.distplot(y_train)"
      ],
      "execution_count": 55,
      "outputs": [
        {
          "output_type": "execute_result",
          "data": {
            "text/plain": [
              "<matplotlib.axes._subplots.AxesSubplot at 0x7fd5a2613630>"
            ]
          },
          "metadata": {
            "tags": []
          },
          "execution_count": 55
        },
        {
          "output_type": "display_data",
          "data": {
            "image/png": "[encoded data removed]",
            "text/plain": [
              "<Figure size 432x288 with 1 Axes>"
            ]
          },
          "metadata": {
            "tags": []
          }
        }
      ]
    },
    {
      "cell_type": "code",
      "metadata": {
        "id": "kgsPJqlBA0Gp",
        "colab_type": "code",
        "colab": {
          "base_uri": "https://localhost:8080/",
          "height": 173
        },
        "outputId": "c2bc2daf-e3b5-491a-8a4d-41866538966d"
      },
      "source": [
        "y_train.describe()"
      ],
      "execution_count": 56,
      "outputs": [
        {
          "output_type": "execute_result",
          "data": {
            "text/plain": [
              "count     963.000000\n",
              "mean     2534.329180\n",
              "std      1224.065027\n",
              "min        98.000000\n",
              "25%      1755.000000\n",
              "50%      2381.000000\n",
              "75%      3317.500000\n",
              "max      6088.000000\n",
              "Name: Total, dtype: float64"
            ]
          },
          "metadata": {
            "tags": []
          },
          "execution_count": 56
        }
      ]
    },
    {
      "cell_type": "markdown",
      "metadata": {
        "colab_type": "text",
        "id": "fEjxxgV9kExY"
      },
      "source": [
        "### Basic baseline 1"
      ]
    },
    {
      "cell_type": "code",
      "metadata": {
        "colab_type": "code",
        "id": "6GepKdQjYcEP",
        "colab": {
          "base_uri": "https://localhost:8080/",
          "height": 35
        },
        "outputId": "736cfa8e-57b3-4686-d68b-f0ef05becf0c"
      },
      "source": [
        "# TODO - Predict using median\n",
        "y_pred = [y_train.median()] * len(y_train)\n",
        "mean_absolute_error(y_train, y_pred)"
      ],
      "execution_count": 57,
      "outputs": [
        {
          "output_type": "execute_result",
          "data": {
            "text/plain": [
              "971.9376947040498"
            ]
          },
          "metadata": {
            "tags": []
          },
          "execution_count": 57
        }
      ]
    },
    {
      "cell_type": "markdown",
      "metadata": {
        "colab_type": "text",
        "id": "tN2I_F3FkIHb"
      },
      "source": [
        "### Basic baseline 2"
      ]
    },
    {
      "cell_type": "code",
      "metadata": {
        "colab_type": "code",
        "id": "ZW8bhZFtTunV",
        "colab": {
          "base_uri": "https://localhost:8080/",
          "height": 35
        },
        "outputId": "905286c0-b95f-4fb0-ee03-dec48efa9b86"
      },
      "source": [
        "# TODO - Predict today same as yesterday\n",
        "y_pred = X_train['Total_yesterday']\n",
        "mean_absolute_error(y_train, y_pred)"
      ],
      "execution_count": 58,
      "outputs": [
        {
          "output_type": "execute_result",
          "data": {
            "text/plain": [
              "708.061266874351"
            ]
          },
          "metadata": {
            "tags": []
          },
          "execution_count": 58
        }
      ]
    },
    {
      "cell_type": "markdown",
      "metadata": {
        "colab_type": "text",
        "id": "Ggf3VpxwkJ0T"
      },
      "source": [
        "### First model that does better than a basic baseline"
      ]
    },
    {
      "cell_type": "markdown",
      "metadata": {
        "colab_type": "text",
        "id": "KfaqL1Ezer2-"
      },
      "source": [
        "https://scikit-learn.org/stable/modules/generated/sklearn.model_selection.cross_validate.html"
      ]
    },
    {
      "cell_type": "code",
      "metadata": {
        "colab_type": "code",
        "id": "OeBtU68skfW-",
        "colab": {}
      },
      "source": [
        "# TODO\n",
        "from sklearn.linear_model import LinearRegression\n",
        "from sklearn.model_selection import cross_validate\n",
        "\n",
        "# 2 buckets train and 1 bucket test - train on a + b and test/predict on c\n",
        "scores = cross_validate(LinearRegression(), X_train, y_train,\n",
        "                        scoring='neg_mean_absolute_error', cv=3,\n",
        "                        return_train_score=True, return_estimator=True)"
      ],
      "execution_count": 0,
      "outputs": []
    },
    {
      "cell_type": "code",
      "metadata": {
        "id": "R_hHmgNoELHO",
        "colab_type": "code",
        "colab": {
          "base_uri": "https://localhost:8080/",
          "height": 141
        },
        "outputId": "c2e652f3-0250-4e52-c336-ffa5f9abc44c"
      },
      "source": [
        "pd.DataFrame(scores)"
      ],
      "execution_count": 60,
      "outputs": [
        {
          "output_type": "execute_result",
          "data": {
            "text/html": [
              "<div>\n",
              "<style scoped>\n",
              "    .dataframe tbody tr th:only-of-type {\n",
              "        vertical-align: middle;\n",
              "    }\n",
              "\n",
              "    .dataframe tbody tr th {\n",
              "        vertical-align: top;\n",
              "    }\n",
              "\n",
              "    .dataframe thead th {\n",
              "        text-align: right;\n",
              "    }\n",
              "</style>\n",
              "<table border=\"1\" class=\"dataframe\">\n",
              "  <thead>\n",
              "    <tr style=\"text-align: right;\">\n",
              "      <th></th>\n",
              "      <th>fit_time</th>\n",
              "      <th>score_time</th>\n",
              "      <th>estimator</th>\n",
              "      <th>test_score</th>\n",
              "      <th>train_score</th>\n",
              "    </tr>\n",
              "  </thead>\n",
              "  <tbody>\n",
              "    <tr>\n",
              "      <th>0</th>\n",
              "      <td>0.007975</td>\n",
              "      <td>0.003506</td>\n",
              "      <td>LinearRegression(copy_X=True, fit_intercept=Tr...</td>\n",
              "      <td>-555.186275</td>\n",
              "      <td>-619.509206</td>\n",
              "    </tr>\n",
              "    <tr>\n",
              "      <th>1</th>\n",
              "      <td>0.005259</td>\n",
              "      <td>0.002436</td>\n",
              "      <td>LinearRegression(copy_X=True, fit_intercept=Tr...</td>\n",
              "      <td>-651.126513</td>\n",
              "      <td>-583.427702</td>\n",
              "    </tr>\n",
              "    <tr>\n",
              "      <th>2</th>\n",
              "      <td>0.003351</td>\n",
              "      <td>0.001353</td>\n",
              "      <td>LinearRegression(copy_X=True, fit_intercept=Tr...</td>\n",
              "      <td>-615.965800</td>\n",
              "      <td>-589.341301</td>\n",
              "    </tr>\n",
              "  </tbody>\n",
              "</table>\n",
              "</div>"
            ],
            "text/plain": [
              "   fit_time  score_time                                          estimator  \\\n",
              "0  0.007975    0.003506  LinearRegression(copy_X=True, fit_intercept=Tr...   \n",
              "1  0.005259    0.002436  LinearRegression(copy_X=True, fit_intercept=Tr...   \n",
              "2  0.003351    0.001353  LinearRegression(copy_X=True, fit_intercept=Tr...   \n",
              "\n",
              "   test_score  train_score  \n",
              "0 -555.186275  -619.509206  \n",
              "1 -651.126513  -583.427702  \n",
              "2 -615.965800  -589.341301  "
            ]
          },
          "metadata": {
            "tags": []
          },
          "execution_count": 60
        }
      ]
    },
    {
      "cell_type": "code",
      "metadata": {
        "id": "_xNZ7slAE9DZ",
        "colab_type": "code",
        "colab": {
          "base_uri": "https://localhost:8080/",
          "height": 35
        },
        "outputId": "9b26179e-ed17-4a76-e3b1-a5178e8f99e1"
      },
      "source": [
        "-scores['test_score'].mean()"
      ],
      "execution_count": 61,
      "outputs": [
        {
          "output_type": "execute_result",
          "data": {
            "text/plain": [
              "607.4261958631806"
            ]
          },
          "metadata": {
            "tags": []
          },
          "execution_count": 61
        }
      ]
    },
    {
      "cell_type": "code",
      "metadata": {
        "id": "5thFHstNFAAm",
        "colab_type": "code",
        "colab": {
          "base_uri": "https://localhost:8080/",
          "height": 589
        },
        "outputId": "2107316d-4554-4bb1-bd37-b5323f3b0fcf"
      },
      "source": [
        "for i, model in enumerate(scores['estimator']):\n",
        "  coefficients = model.coef_\n",
        "  intercept = model.intercept_\n",
        "  features_names = X_train.columns\n",
        "  \n",
        "  print(f'Model from cross-validation fold #{i}')\n",
        "  print(f'Intercept: {intercept}')\n",
        "  print(pd.Series(coefficients, features_names).to_string())\n",
        "  print('\\n')"
      ],
      "execution_count": 62,
      "outputs": [
        {
          "output_type": "stream",
          "text": [
            "Model from cross-validation fold #0\n",
            "Intercept: 566.7766337283679\n",
            "PRCP               -3.525103\n",
            "SNOW               -0.082029\n",
            "SNWD              -12.045027\n",
            "TMAX                9.475238\n",
            "TMIN               -4.607775\n",
            "AWND               -2.745191\n",
            "Total_yesterday     0.417360\n",
            "\n",
            "\n",
            "Model from cross-validation fold #1\n",
            "Intercept: 671.9064515706045\n",
            "PRCP               -2.772253\n",
            "SNOW               -0.000995\n",
            "SNWD               20.800688\n",
            "TMAX                8.804948\n",
            "TMIN               -3.741386\n",
            "AWND               -6.108300\n",
            "Total_yesterday     0.405074\n",
            "\n",
            "\n",
            "Model from cross-validation fold #2\n",
            "Intercept: 465.84525362296563\n",
            "PRCP               -2.876196\n",
            "SNOW               -0.016432\n",
            "SNWD               -8.809696\n",
            "TMAX               10.419441\n",
            "TMIN               -5.862868\n",
            "AWND               -2.398991\n",
            "Total_yesterday     0.423493\n",
            "\n",
            "\n"
          ],
          "name": "stdout"
        }
      ]
    },
    {
      "cell_type": "markdown",
      "metadata": {
        "colab_type": "text",
        "id": "fg1YI4X8n9nI"
      },
      "source": [
        "## 5. Develop a model that overfits. \n",
        "\n",
        "\"The universal tension in machine learning is between optimization and generalization; the ideal model is one that stands right at the border between underfitting and overfitting; between undercapacity and overcapacity. To figure out where this border lies, first you must cross it.\" —Chollet"
      ]
    },
    {
      "cell_type": "markdown",
      "metadata": {
        "colab_type": "text",
        "id": "lodd6UPOoy89"
      },
      "source": [
        "<img src=\"https://jakevdp.github.io/PythonDataScienceHandbook/figures/05.03-validation-curve.png\">\n",
        "\n",
        "Diagram Source: https://jakevdp.github.io/PythonDataScienceHandbook/05.03-hyperparameters-and-model-validation.html#Validation-curves-in-Scikit-Learn"
      ]
    },
    {
      "cell_type": "markdown",
      "metadata": {
        "colab_type": "text",
        "id": "xj82P0VdwYlh"
      },
      "source": [
        "### Random Forest?\n",
        "\n",
        "https://scikit-learn.org/stable/modules/generated/sklearn.ensemble.RandomForestRegressor.html"
      ]
    },
    {
      "cell_type": "code",
      "metadata": {
        "colab_type": "code",
        "id": "_yYXpk99C4cM",
        "colab": {
          "base_uri": "https://localhost:8080/",
          "height": 141
        },
        "outputId": "f4114121-93cf-48af-9d92-e9078f7ea660"
      },
      "source": [
        "# TODO\n",
        "from sklearn.ensemble import RandomForestRegressor\n",
        "\n",
        "model = RandomForestRegressor(n_estimators=100, max_depth=None, n_jobs=-1)\n",
        "\n",
        "scores = cross_validate(model, X_train, y_train, scoring='neg_mean_absolute_error',\n",
        "                        cv=3, return_train_score=True, return_estimator=True)\n",
        "pd.DataFrame(scores)"
      ],
      "execution_count": 63,
      "outputs": [
        {
          "output_type": "execute_result",
          "data": {
            "text/html": [
              "<div>\n",
              "<style scoped>\n",
              "    .dataframe tbody tr th:only-of-type {\n",
              "        vertical-align: middle;\n",
              "    }\n",
              "\n",
              "    .dataframe tbody tr th {\n",
              "        vertical-align: top;\n",
              "    }\n",
              "\n",
              "    .dataframe thead th {\n",
              "        text-align: right;\n",
              "    }\n",
              "</style>\n",
              "<table border=\"1\" class=\"dataframe\">\n",
              "  <thead>\n",
              "    <tr style=\"text-align: right;\">\n",
              "      <th></th>\n",
              "      <th>fit_time</th>\n",
              "      <th>score_time</th>\n",
              "      <th>estimator</th>\n",
              "      <th>test_score</th>\n",
              "      <th>train_score</th>\n",
              "    </tr>\n",
              "  </thead>\n",
              "  <tbody>\n",
              "    <tr>\n",
              "      <th>0</th>\n",
              "      <td>1.779226</td>\n",
              "      <td>0.104844</td>\n",
              "      <td>(DecisionTreeRegressor(criterion='mse', max_de...</td>\n",
              "      <td>-554.042118</td>\n",
              "      <td>-239.506931</td>\n",
              "    </tr>\n",
              "    <tr>\n",
              "      <th>1</th>\n",
              "      <td>0.256920</td>\n",
              "      <td>0.103721</td>\n",
              "      <td>(DecisionTreeRegressor(criterion='mse', max_de...</td>\n",
              "      <td>-631.888785</td>\n",
              "      <td>-225.198489</td>\n",
              "    </tr>\n",
              "    <tr>\n",
              "      <th>2</th>\n",
              "      <td>0.242142</td>\n",
              "      <td>0.103692</td>\n",
              "      <td>(DecisionTreeRegressor(criterion='mse', max_de...</td>\n",
              "      <td>-643.843583</td>\n",
              "      <td>-225.334486</td>\n",
              "    </tr>\n",
              "  </tbody>\n",
              "</table>\n",
              "</div>"
            ],
            "text/plain": [
              "   fit_time  score_time                                          estimator  \\\n",
              "0  1.779226    0.104844  (DecisionTreeRegressor(criterion='mse', max_de...   \n",
              "1  0.256920    0.103721  (DecisionTreeRegressor(criterion='mse', max_de...   \n",
              "2  0.242142    0.103692  (DecisionTreeRegressor(criterion='mse', max_de...   \n",
              "\n",
              "   test_score  train_score  \n",
              "0 -554.042118  -239.506931  \n",
              "1 -631.888785  -225.198489  \n",
              "2 -643.843583  -225.334486  "
            ]
          },
          "metadata": {
            "tags": []
          },
          "execution_count": 63
        }
      ]
    },
    {
      "cell_type": "code",
      "metadata": {
        "id": "Q_yq-qaEKPb2",
        "colab_type": "code",
        "colab": {
          "base_uri": "https://localhost:8080/",
          "height": 35
        },
        "outputId": "46a03d3c-8c6e-4841-c958-44f6f342d60d"
      },
      "source": [
        "-scores['test_score'].mean(), -scores['train_score'].mean()"
      ],
      "execution_count": 64,
      "outputs": [
        {
          "output_type": "execute_result",
          "data": {
            "text/plain": [
              "(609.9248286604361, 230.01330218068537)"
            ]
          },
          "metadata": {
            "tags": []
          },
          "execution_count": 64
        }
      ]
    },
    {
      "cell_type": "code",
      "metadata": {
        "id": "TJJu-UH0LZ2P",
        "colab_type": "code",
        "colab": {}
      },
      "source": [
        ""
      ],
      "execution_count": 0,
      "outputs": []
    },
    {
      "cell_type": "markdown",
      "metadata": {
        "colab_type": "text",
        "id": "_ryO1hVKr-6f"
      },
      "source": [
        "### Validation Curve\n",
        "\n",
        "https://scikit-learn.org/stable/modules/generated/sklearn.model_selection.validation_curve.html\n",
        "\n",
        "> Validation curve. Determine training and test scores for varying parameter values. This is similar to grid search with one parameter."
      ]
    },
    {
      "cell_type": "code",
      "metadata": {
        "colab_type": "code",
        "id": "apKk4vKiwgtM",
        "colab": {
          "base_uri": "https://localhost:8080/",
          "height": 283
        },
        "outputId": "2f72e263-86bb-417f-ede1-99cad72fdde8"
      },
      "source": [
        "# Modified from cell 13 at\n",
        "# https://jakevdp.github.io/PythonDataScienceHandbook/05.03-hyperparameters-and-model-validation.html#Validation-curves-in-Scikit-Learn\n",
        "\n",
        "%matplotlib inline\n",
        "import matplotlib.pyplot as plt\n",
        "import numpy as np\n",
        "from sklearn.model_selection import validation_curve\n",
        "\n",
        "model = RandomForestRegressor(n_estimators=100)\n",
        "\n",
        "depth = [2, 3, 4, 5, 6]\n",
        "train_score, val_score = validation_curve(\n",
        "    model, X_train, y_train,\n",
        "    param_name='max_depth', param_range=depth,  #Param_name-what are we tuning. #Param_range-what list of numbers\n",
        "    scoring='neg_mean_absolute_error', cv=3)\n",
        "\n",
        "plt.plot(depth, np.median(train_score, 1), color='blue', label='training score')\n",
        "plt.plot(depth, np.median(val_score, 1), color='red', label='validation score')\n",
        "plt.legend(loc='best')\n",
        "plt.xlabel('depth');"
      ],
      "execution_count": 65,
      "outputs": [
        {
          "output_type": "display_data",
          "data": {
            "image/png": "[encoded data removed]",
            "text/plain": [
              "<Figure size 432x288 with 1 Axes>"
            ]
          },
          "metadata": {
            "tags": []
          }
        }
      ]
    },
    {
      "cell_type": "markdown",
      "metadata": {
        "colab_type": "text",
        "id": "DQoMvZ7-yCAQ"
      },
      "source": [
        "### `RandomizedSearchCV`\n",
        "\n",
        "https://scikit-learn.org/stable/modules/generated/sklearn.model_selection.RandomizedSearchCV.html\n",
        "\n",
        "https://scikit-learn.org/stable/modules/grid_search.html"
      ]
    },
    {
      "cell_type": "code",
      "metadata": {
        "colab_type": "code",
        "id": "bk_dX_mByKm7",
        "colab": {
          "base_uri": "https://localhost:8080/",
          "height": 381
        },
        "outputId": "a17a03b0-3786-4ead-8e9c-81c42d598b80"
      },
      "source": [
        "# TODO\n",
        "from sklearn.model_selection import RandomizedSearchCV\n",
        "\n",
        "param_distributions = {\n",
        "    'n_estimators': [100,200],\n",
        "    'max_depth': [4,5],\n",
        "    'criterion': ['mse','mae']\n",
        "}\n",
        "\n",
        "gridsearch = RandomizedSearchCV(\n",
        "    RandomForestRegressor(n_jobs=-1, random_state=42),\n",
        "    param_distributions=param_distributions, n_iter=8,\n",
        "    cv=3, scoring='neg_mean_absolute_error',verbose=10,\n",
        "    return_train_score=True, n_jobs=-1\n",
        ")\n",
        "\n",
        "gridsearch.fit(X_train,y_train)"
      ],
      "execution_count": 66,
      "outputs": [
        {
          "output_type": "stream",
          "text": [
            "Fitting 3 folds for each of 8 candidates, totalling 24 fits\n"
          ],
          "name": "stdout"
        },
        {
          "output_type": "stream",
          "text": [
            "[Parallel(n_jobs=-1)]: Using backend LokyBackend with 2 concurrent workers.\n",
            "[Parallel(n_jobs=-1)]: Done   1 tasks      | elapsed:    0.9s\n",
            "[Parallel(n_jobs=-1)]: Done   4 tasks      | elapsed:    1.5s\n",
            "[Parallel(n_jobs=-1)]: Done   9 tasks      | elapsed:    3.0s\n",
            "[Parallel(n_jobs=-1)]: Done  14 tasks      | elapsed:    4.9s\n",
            "[Parallel(n_jobs=-1)]: Done  21 tasks      | elapsed:   10.9s\n",
            "[Parallel(n_jobs=-1)]: Done  24 out of  24 | elapsed:   14.3s remaining:    0.0s\n",
            "[Parallel(n_jobs=-1)]: Done  24 out of  24 | elapsed:   14.3s finished\n"
          ],
          "name": "stderr"
        },
        {
          "output_type": "execute_result",
          "data": {
            "text/plain": [
              "RandomizedSearchCV(cv=3, error_score='raise-deprecating',\n",
              "          estimator=RandomForestRegressor(bootstrap=True, criterion='mse', max_depth=None,\n",
              "           max_features='auto', max_leaf_nodes=None,\n",
              "           min_impurity_decrease=0.0, min_impurity_split=None,\n",
              "           min_samples_leaf=1, min_samples_split=2,\n",
              "           min_weight_fraction_leaf=0.0, n_estimators='warn', n_jobs=-1,\n",
              "           oob_score=False, random_state=42, verbose=0, warm_start=False),\n",
              "          fit_params=None, iid='warn', n_iter=8, n_jobs=-1,\n",
              "          param_distributions={'n_estimators': [100, 200], 'max_depth': [4, 5], 'criterion': ['mse', 'mae']},\n",
              "          pre_dispatch='2*n_jobs', random_state=None, refit=True,\n",
              "          return_train_score=True, scoring='neg_mean_absolute_error',\n",
              "          verbose=10)"
            ]
          },
          "metadata": {
            "tags": []
          },
          "execution_count": 66
        }
      ]
    },
    {
      "cell_type": "code",
      "metadata": {
        "id": "iZ4GjrfTQ8ih",
        "colab_type": "code",
        "colab": {
          "base_uri": "https://localhost:8080/",
          "height": 730
        },
        "outputId": "06b5efb9-7d74-4b13-af1a-e1928e46cd73"
      },
      "source": [
        "result = pd.DataFrame(gridsearch.cv_results_)\n",
        "result.sort_values(by='rank_test_score')"
      ],
      "execution_count": 67,
      "outputs": [
        {
          "output_type": "execute_result",
          "data": {
            "text/html": [
              "<div>\n",
              "<style scoped>\n",
              "    .dataframe tbody tr th:only-of-type {\n",
              "        vertical-align: middle;\n",
              "    }\n",
              "\n",
              "    .dataframe tbody tr th {\n",
              "        vertical-align: top;\n",
              "    }\n",
              "\n",
              "    .dataframe thead th {\n",
              "        text-align: right;\n",
              "    }\n",
              "</style>\n",
              "<table border=\"1\" class=\"dataframe\">\n",
              "  <thead>\n",
              "    <tr style=\"text-align: right;\">\n",
              "      <th></th>\n",
              "      <th>mean_fit_time</th>\n",
              "      <th>std_fit_time</th>\n",
              "      <th>mean_score_time</th>\n",
              "      <th>std_score_time</th>\n",
              "      <th>param_n_estimators</th>\n",
              "      <th>param_max_depth</th>\n",
              "      <th>param_criterion</th>\n",
              "      <th>params</th>\n",
              "      <th>split0_test_score</th>\n",
              "      <th>split1_test_score</th>\n",
              "      <th>split2_test_score</th>\n",
              "      <th>mean_test_score</th>\n",
              "      <th>std_test_score</th>\n",
              "      <th>rank_test_score</th>\n",
              "      <th>split0_train_score</th>\n",
              "      <th>split1_train_score</th>\n",
              "      <th>split2_train_score</th>\n",
              "      <th>mean_train_score</th>\n",
              "      <th>std_train_score</th>\n",
              "    </tr>\n",
              "  </thead>\n",
              "  <tbody>\n",
              "    <tr>\n",
              "      <th>7</th>\n",
              "      <td>1.895683</td>\n",
              "      <td>0.382651</td>\n",
              "      <td>0.106230</td>\n",
              "      <td>0.003214</td>\n",
              "      <td>200</td>\n",
              "      <td>5</td>\n",
              "      <td>mae</td>\n",
              "      <td>{'n_estimators': 200, 'max_depth': 5, 'criteri...</td>\n",
              "      <td>-537.343224</td>\n",
              "      <td>-633.188069</td>\n",
              "      <td>-611.812399</td>\n",
              "      <td>-594.114564</td>\n",
              "      <td>41.080965</td>\n",
              "      <td>1</td>\n",
              "      <td>-514.399139</td>\n",
              "      <td>-476.132208</td>\n",
              "      <td>-486.784755</td>\n",
              "      <td>-492.438701</td>\n",
              "      <td>16.125856</td>\n",
              "    </tr>\n",
              "    <tr>\n",
              "      <th>6</th>\n",
              "      <td>0.987069</td>\n",
              "      <td>0.072572</td>\n",
              "      <td>0.113894</td>\n",
              "      <td>0.003776</td>\n",
              "      <td>100</td>\n",
              "      <td>5</td>\n",
              "      <td>mae</td>\n",
              "      <td>{'n_estimators': 100, 'max_depth': 5, 'criteri...</td>\n",
              "      <td>-539.744330</td>\n",
              "      <td>-635.247773</td>\n",
              "      <td>-610.870031</td>\n",
              "      <td>-595.287378</td>\n",
              "      <td>40.516179</td>\n",
              "      <td>2</td>\n",
              "      <td>-513.924961</td>\n",
              "      <td>-475.585023</td>\n",
              "      <td>-489.148606</td>\n",
              "      <td>-492.886197</td>\n",
              "      <td>15.873771</td>\n",
              "    </tr>\n",
              "    <tr>\n",
              "      <th>4</th>\n",
              "      <td>1.009928</td>\n",
              "      <td>0.040825</td>\n",
              "      <td>0.103754</td>\n",
              "      <td>0.000161</td>\n",
              "      <td>100</td>\n",
              "      <td>4</td>\n",
              "      <td>mae</td>\n",
              "      <td>{'n_estimators': 100, 'max_depth': 4, 'criteri...</td>\n",
              "      <td>-545.553738</td>\n",
              "      <td>-635.478629</td>\n",
              "      <td>-609.898505</td>\n",
              "      <td>-596.976957</td>\n",
              "      <td>37.831612</td>\n",
              "      <td>3</td>\n",
              "      <td>-554.610927</td>\n",
              "      <td>-515.603583</td>\n",
              "      <td>-525.162173</td>\n",
              "      <td>-531.792227</td>\n",
              "      <td>16.600431</td>\n",
              "    </tr>\n",
              "    <tr>\n",
              "      <th>5</th>\n",
              "      <td>1.938236</td>\n",
              "      <td>0.051033</td>\n",
              "      <td>0.121150</td>\n",
              "      <td>0.004834</td>\n",
              "      <td>200</td>\n",
              "      <td>4</td>\n",
              "      <td>mae</td>\n",
              "      <td>{'n_estimators': 200, 'max_depth': 4, 'criteri...</td>\n",
              "      <td>-545.615950</td>\n",
              "      <td>-634.226674</td>\n",
              "      <td>-611.571316</td>\n",
              "      <td>-597.137980</td>\n",
              "      <td>37.587285</td>\n",
              "      <td>4</td>\n",
              "      <td>-554.012714</td>\n",
              "      <td>-515.754478</td>\n",
              "      <td>-524.948497</td>\n",
              "      <td>-531.571896</td>\n",
              "      <td>16.305934</td>\n",
              "    </tr>\n",
              "    <tr>\n",
              "      <th>3</th>\n",
              "      <td>0.403856</td>\n",
              "      <td>0.046462</td>\n",
              "      <td>0.105074</td>\n",
              "      <td>0.002042</td>\n",
              "      <td>200</td>\n",
              "      <td>5</td>\n",
              "      <td>mse</td>\n",
              "      <td>{'n_estimators': 200, 'max_depth': 5, 'criteri...</td>\n",
              "      <td>-545.774354</td>\n",
              "      <td>-637.307005</td>\n",
              "      <td>-627.616934</td>\n",
              "      <td>-603.566098</td>\n",
              "      <td>41.055966</td>\n",
              "      <td>5</td>\n",
              "      <td>-524.163469</td>\n",
              "      <td>-490.204130</td>\n",
              "      <td>-490.472466</td>\n",
              "      <td>-501.613355</td>\n",
              "      <td>15.945715</td>\n",
              "    </tr>\n",
              "    <tr>\n",
              "      <th>2</th>\n",
              "      <td>0.275020</td>\n",
              "      <td>0.000816</td>\n",
              "      <td>0.103981</td>\n",
              "      <td>0.000345</td>\n",
              "      <td>100</td>\n",
              "      <td>5</td>\n",
              "      <td>mse</td>\n",
              "      <td>{'n_estimators': 100, 'max_depth': 5, 'criteri...</td>\n",
              "      <td>-546.995243</td>\n",
              "      <td>-639.080607</td>\n",
              "      <td>-629.837818</td>\n",
              "      <td>-605.304556</td>\n",
              "      <td>41.403214</td>\n",
              "      <td>6</td>\n",
              "      <td>-526.882336</td>\n",
              "      <td>-490.560190</td>\n",
              "      <td>-492.252512</td>\n",
              "      <td>-503.231679</td>\n",
              "      <td>16.737805</td>\n",
              "    </tr>\n",
              "    <tr>\n",
              "      <th>1</th>\n",
              "      <td>0.376399</td>\n",
              "      <td>0.030497</td>\n",
              "      <td>0.104482</td>\n",
              "      <td>0.001543</td>\n",
              "      <td>200</td>\n",
              "      <td>4</td>\n",
              "      <td>mse</td>\n",
              "      <td>{'n_estimators': 200, 'max_depth': 4, 'criteri...</td>\n",
              "      <td>-555.634757</td>\n",
              "      <td>-640.866167</td>\n",
              "      <td>-625.853913</td>\n",
              "      <td>-607.451613</td>\n",
              "      <td>37.149085</td>\n",
              "      <td>7</td>\n",
              "      <td>-572.252550</td>\n",
              "      <td>-529.625674</td>\n",
              "      <td>-536.655286</td>\n",
              "      <td>-546.177836</td>\n",
              "      <td>18.659615</td>\n",
              "    </tr>\n",
              "    <tr>\n",
              "      <th>0</th>\n",
              "      <td>0.283340</td>\n",
              "      <td>0.004971</td>\n",
              "      <td>0.104440</td>\n",
              "      <td>0.000902</td>\n",
              "      <td>100</td>\n",
              "      <td>4</td>\n",
              "      <td>mse</td>\n",
              "      <td>{'n_estimators': 100, 'max_depth': 4, 'criteri...</td>\n",
              "      <td>-557.174302</td>\n",
              "      <td>-642.450417</td>\n",
              "      <td>-629.072181</td>\n",
              "      <td>-609.565633</td>\n",
              "      <td>37.446700</td>\n",
              "      <td>8</td>\n",
              "      <td>-574.472102</td>\n",
              "      <td>-530.248079</td>\n",
              "      <td>-538.576526</td>\n",
              "      <td>-547.765569</td>\n",
              "      <td>19.188016</td>\n",
              "    </tr>\n",
              "  </tbody>\n",
              "</table>\n",
              "</div>"
            ],
            "text/plain": [
              "   mean_fit_time  std_fit_time  mean_score_time  std_score_time  \\\n",
              "7       1.895683      0.382651         0.106230        0.003214   \n",
              "6       0.987069      0.072572         0.113894        0.003776   \n",
              "4       1.009928      0.040825         0.103754        0.000161   \n",
              "5       1.938236      0.051033         0.121150        0.004834   \n",
              "3       0.403856      0.046462         0.105074        0.002042   \n",
              "2       0.275020      0.000816         0.103981        0.000345   \n",
              "1       0.376399      0.030497         0.104482        0.001543   \n",
              "0       0.283340      0.004971         0.104440        0.000902   \n",
              "\n",
              "  param_n_estimators param_max_depth param_criterion  \\\n",
              "7                200               5             mae   \n",
              "6                100               5             mae   \n",
              "4                100               4             mae   \n",
              "5                200               4             mae   \n",
              "3                200               5             mse   \n",
              "2                100               5             mse   \n",
              "1                200               4             mse   \n",
              "0                100               4             mse   \n",
              "\n",
              "                                              params  split0_test_score  \\\n",
              "7  {'n_estimators': 200, 'max_depth': 5, 'criteri...        -537.343224   \n",
              "6  {'n_estimators': 100, 'max_depth': 5, 'criteri...        -539.744330   \n",
              "4  {'n_estimators': 100, 'max_depth': 4, 'criteri...        -545.553738   \n",
              "5  {'n_estimators': 200, 'max_depth': 4, 'criteri...        -545.615950   \n",
              "3  {'n_estimators': 200, 'max_depth': 5, 'criteri...        -545.774354   \n",
              "2  {'n_estimators': 100, 'max_depth': 5, 'criteri...        -546.995243   \n",
              "1  {'n_estimators': 200, 'max_depth': 4, 'criteri...        -555.634757   \n",
              "0  {'n_estimators': 100, 'max_depth': 4, 'criteri...        -557.174302   \n",
              "\n",
              "   split1_test_score  split2_test_score  mean_test_score  std_test_score  \\\n",
              "7        -633.188069        -611.812399      -594.114564       41.080965   \n",
              "6        -635.247773        -610.870031      -595.287378       40.516179   \n",
              "4        -635.478629        -609.898505      -596.976957       37.831612   \n",
              "5        -634.226674        -611.571316      -597.137980       37.587285   \n",
              "3        -637.307005        -627.616934      -603.566098       41.055966   \n",
              "2        -639.080607        -629.837818      -605.304556       41.403214   \n",
              "1        -640.866167        -625.853913      -607.451613       37.149085   \n",
              "0        -642.450417        -629.072181      -609.565633       37.446700   \n",
              "\n",
              "   rank_test_score  split0_train_score  split1_train_score  \\\n",
              "7                1         -514.399139         -476.132208   \n",
              "6                2         -513.924961         -475.585023   \n",
              "4                3         -554.610927         -515.603583   \n",
              "5                4         -554.012714         -515.754478   \n",
              "3                5         -524.163469         -490.204130   \n",
              "2                6         -526.882336         -490.560190   \n",
              "1                7         -572.252550         -529.625674   \n",
              "0                8         -574.472102         -530.248079   \n",
              "\n",
              "   split2_train_score  mean_train_score  std_train_score  \n",
              "7         -486.784755       -492.438701        16.125856  \n",
              "6         -489.148606       -492.886197        15.873771  \n",
              "4         -525.162173       -531.792227        16.600431  \n",
              "5         -524.948497       -531.571896        16.305934  \n",
              "3         -490.472466       -501.613355        15.945715  \n",
              "2         -492.252512       -503.231679        16.737805  \n",
              "1         -536.655286       -546.177836        18.659615  \n",
              "0         -538.576526       -547.765569        19.188016  "
            ]
          },
          "metadata": {
            "tags": []
          },
          "execution_count": 67
        }
      ]
    },
    {
      "cell_type": "code",
      "metadata": {
        "id": "QFxdquCJRqWn",
        "colab_type": "code",
        "colab": {
          "base_uri": "https://localhost:8080/",
          "height": 121
        },
        "outputId": "c7bc7d89-b7d3-45b1-bca8-dde4eee6af3a"
      },
      "source": [
        "gridsearch.best_estimator_"
      ],
      "execution_count": 68,
      "outputs": [
        {
          "output_type": "execute_result",
          "data": {
            "text/plain": [
              "RandomForestRegressor(bootstrap=True, criterion='mae', max_depth=5,\n",
              "           max_features='auto', max_leaf_nodes=None,\n",
              "           min_impurity_decrease=0.0, min_impurity_split=None,\n",
              "           min_samples_leaf=1, min_samples_split=2,\n",
              "           min_weight_fraction_leaf=0.0, n_estimators=200, n_jobs=-1,\n",
              "           oob_score=False, random_state=42, verbose=0, warm_start=False)"
            ]
          },
          "metadata": {
            "tags": []
          },
          "execution_count": 68
        }
      ]
    },
    {
      "cell_type": "markdown",
      "metadata": {
        "colab_type": "text",
        "id": "ZW5HfYtU0GW2"
      },
      "source": [
        "## FEATURE ENGINEERING!"
      ]
    },
    {
      "cell_type": "markdown",
      "metadata": {
        "colab_type": "text",
        "id": "0ms-eoOHFvPG"
      },
      "source": [
        "Jake VanderPlas demonstrates this feature engineering: \n",
        "https://jakevdp.github.io/PythonDataScienceHandbook/05.06-linear-regression.html#Example:-Predicting-Bicycle-Traffic"
      ]
    },
    {
      "cell_type": "code",
      "metadata": {
        "colab_type": "code",
        "id": "sEwME8wR3A5g",
        "colab": {}
      },
      "source": [
        "# Modified from code cells 17-21 at\n",
        "# https://jakevdp.github.io/PythonDataScienceHandbook/05.06-linear-regression.html#Example:-Predicting-Bicycle-Traffic\n",
        "\n",
        "def jake_wrangle(X):  \n",
        "    X = X.copy()\n",
        "\n",
        "    # patterns of use generally vary from day to day; \n",
        "    # let's add binary columns that indicate the day of the week:\n",
        "    days = ['Mon', 'Tue', 'Wed', 'Thu', 'Fri', 'Sat', 'Sun']\n",
        "    for i, day in enumerate(days):\n",
        "        X[day] = (X.index.dayofweek == i).astype(float)\n",
        "\n",
        "\n",
        "    # we might expect riders to behave differently on holidays; \n",
        "    # let's add an indicator of this as well:\n",
        "    from pandas.tseries.holiday import USFederalHolidayCalendar\n",
        "    cal = USFederalHolidayCalendar()\n",
        "    holidays = cal.holidays('2012', '2016')\n",
        "    X = X.join(pd.Series(1, index=holidays, name='holiday'))\n",
        "    X['holiday'].fillna(0, inplace=True)\n",
        "\n",
        "\n",
        "    # We also might suspect that the hours of daylight would affect \n",
        "    # how many people ride; let's use the standard astronomical calculation \n",
        "    # to add this information:\n",
        "    def hours_of_daylight(date, axis=23.44, latitude=47.61):\n",
        "        \"\"\"Compute the hours of daylight for the given date\"\"\"\n",
        "        days = (date - pd.datetime(2000, 12, 21)).days\n",
        "        m = (1. - np.tan(np.radians(latitude))\n",
        "             * np.tan(np.radians(axis) * np.cos(days * 2 * np.pi / 365.25)))\n",
        "        return 24. * np.degrees(np.arccos(1 - np.clip(m, 0, 2))) / 180.\n",
        "\n",
        "    X['daylight_hrs'] = list(map(hours_of_daylight, X.index))\n",
        "\n",
        "    \n",
        "    # temperatures are in 1/10 deg C; convert to C\n",
        "    X['TMIN'] /= 10\n",
        "    X['TMAX'] /= 10\n",
        "    \n",
        "    # We can also calcuate the average temperature.\n",
        "    X['Temp (C)'] = 0.5 * (X['TMIN'] + X['TMAX'])\n",
        "\n",
        "    # precip is in 1/10 mm; convert to inches\n",
        "    X['PRCP'] /= 254\n",
        "\n",
        "    # In addition to the inches of precipitation, let's add a flag that \n",
        "    # indicates whether a day is dry (has zero precipitation):\n",
        "    X['dry day'] = (X['PRCP'] == 0).astype(int)\n",
        "\n",
        "\n",
        "    # Let's add a counter that increases from day 1, and measures how many \n",
        "    # years have passed. This will let us measure any observed annual increase \n",
        "    # or decrease in daily crossings:\n",
        "    X['annual'] = (X.index - X.index[0]).days / 365.\n",
        "\n",
        "    return X\n",
        "\n",
        "X_train = jake_wrangle(X_train)"
      ],
      "execution_count": 0,
      "outputs": []
    },
    {
      "cell_type": "markdown",
      "metadata": {
        "colab_type": "text",
        "id": "dDGkAv813Wtj"
      },
      "source": [
        "### Linear Regression (with new features)"
      ]
    },
    {
      "cell_type": "code",
      "metadata": {
        "colab_type": "code",
        "id": "cj3HTM6p5F1A",
        "colab": {
          "base_uri": "https://localhost:8080/",
          "height": 141
        },
        "outputId": "5bdd0d6c-5568-4b7d-a4c6-5c898edd613b"
      },
      "source": [
        "# TODO\n",
        "scores = cross_validate(LinearRegression(), X_train, y_train, \n",
        "                        scoring='neg_mean_absolute_error', cv=3,\n",
        "                        return_train_score=True, return_estimator=True)\n",
        "pd.DataFrame(scores)"
      ],
      "execution_count": 70,
      "outputs": [
        {
          "output_type": "execute_result",
          "data": {
            "text/html": [
              "<div>\n",
              "<style scoped>\n",
              "    .dataframe tbody tr th:only-of-type {\n",
              "        vertical-align: middle;\n",
              "    }\n",
              "\n",
              "    .dataframe tbody tr th {\n",
              "        vertical-align: top;\n",
              "    }\n",
              "\n",
              "    .dataframe thead th {\n",
              "        text-align: right;\n",
              "    }\n",
              "</style>\n",
              "<table border=\"1\" class=\"dataframe\">\n",
              "  <thead>\n",
              "    <tr style=\"text-align: right;\">\n",
              "      <th></th>\n",
              "      <th>fit_time</th>\n",
              "      <th>score_time</th>\n",
              "      <th>estimator</th>\n",
              "      <th>test_score</th>\n",
              "      <th>train_score</th>\n",
              "    </tr>\n",
              "  </thead>\n",
              "  <tbody>\n",
              "    <tr>\n",
              "      <th>0</th>\n",
              "      <td>0.009207</td>\n",
              "      <td>0.001852</td>\n",
              "      <td>LinearRegression(copy_X=True, fit_intercept=Tr...</td>\n",
              "      <td>-297.692524</td>\n",
              "      <td>-294.532315</td>\n",
              "    </tr>\n",
              "    <tr>\n",
              "      <th>1</th>\n",
              "      <td>0.006717</td>\n",
              "      <td>0.002123</td>\n",
              "      <td>LinearRegression(copy_X=True, fit_intercept=Tr...</td>\n",
              "      <td>-300.419037</td>\n",
              "      <td>-283.779461</td>\n",
              "    </tr>\n",
              "    <tr>\n",
              "      <th>2</th>\n",
              "      <td>0.004729</td>\n",
              "      <td>0.001690</td>\n",
              "      <td>LinearRegression(copy_X=True, fit_intercept=Tr...</td>\n",
              "      <td>-322.640378</td>\n",
              "      <td>-283.509114</td>\n",
              "    </tr>\n",
              "  </tbody>\n",
              "</table>\n",
              "</div>"
            ],
            "text/plain": [
              "   fit_time  score_time                                          estimator  \\\n",
              "0  0.009207    0.001852  LinearRegression(copy_X=True, fit_intercept=Tr...   \n",
              "1  0.006717    0.002123  LinearRegression(copy_X=True, fit_intercept=Tr...   \n",
              "2  0.004729    0.001690  LinearRegression(copy_X=True, fit_intercept=Tr...   \n",
              "\n",
              "   test_score  train_score  \n",
              "0 -297.692524  -294.532315  \n",
              "1 -300.419037  -283.779461  \n",
              "2 -322.640378  -283.509114  "
            ]
          },
          "metadata": {
            "tags": []
          },
          "execution_count": 70
        }
      ]
    },
    {
      "cell_type": "markdown",
      "metadata": {
        "colab_type": "text",
        "id": "b6zxN2xB3bX_"
      },
      "source": [
        "### Random Forest (with new features)"
      ]
    },
    {
      "cell_type": "code",
      "metadata": {
        "colab_type": "code",
        "id": "3sWUDZIz1-kk",
        "colab": {
          "base_uri": "https://localhost:8080/",
          "height": 329
        },
        "outputId": "7a63f7fe-bbf6-468d-93a5-e8bf9eadd73a"
      },
      "source": [
        "# TODO\n",
        "param_distributions = {\n",
        "    'n_estimators': [100],\n",
        "    'max_depth': [5, 10, 15, None],\n",
        "    'criterion': ['mae']\n",
        "}\n",
        "\n",
        "gridsearch = RandomizedSearchCV(\n",
        "    RandomForestRegressor(n_jobs=-1, random_state=42),\n",
        "    param_distributions=param_distributions, n_iter=4,\n",
        "    cv=3, scoring='neg_mean_absolute_error',verbose=10,\n",
        "    return_train_score=True, n_jobs=-1\n",
        ")\n",
        "\n",
        "gridsearch.fit(X_train,y_train)"
      ],
      "execution_count": 71,
      "outputs": [
        {
          "output_type": "stream",
          "text": [
            "Fitting 3 folds for each of 4 candidates, totalling 12 fits\n"
          ],
          "name": "stdout"
        },
        {
          "output_type": "stream",
          "text": [
            "[Parallel(n_jobs=-1)]: Using backend LokyBackend with 2 concurrent workers.\n",
            "[Parallel(n_jobs=-1)]: Done   1 tasks      | elapsed:    2.7s\n",
            "[Parallel(n_jobs=-1)]: Done   4 tasks      | elapsed:    6.3s\n",
            "[Parallel(n_jobs=-1)]: Done   9 tasks      | elapsed:   16.4s\n",
            "[Parallel(n_jobs=-1)]: Done  12 out of  12 | elapsed:   20.8s finished\n"
          ],
          "name": "stderr"
        },
        {
          "output_type": "execute_result",
          "data": {
            "text/plain": [
              "RandomizedSearchCV(cv=3, error_score='raise-deprecating',\n",
              "          estimator=RandomForestRegressor(bootstrap=True, criterion='mse', max_depth=None,\n",
              "           max_features='auto', max_leaf_nodes=None,\n",
              "           min_impurity_decrease=0.0, min_impurity_split=None,\n",
              "           min_samples_leaf=1, min_samples_split=2,\n",
              "           min_weight_fraction_leaf=0.0, n_estimators='warn', n_jobs=-1,\n",
              "           oob_score=False, random_state=42, verbose=0, warm_start=False),\n",
              "          fit_params=None, iid='warn', n_iter=4, n_jobs=-1,\n",
              "          param_distributions={'n_estimators': [100], 'max_depth': [5, 10, 15, None], 'criterion': ['mae']},\n",
              "          pre_dispatch='2*n_jobs', random_state=None, refit=True,\n",
              "          return_train_score=True, scoring='neg_mean_absolute_error',\n",
              "          verbose=10)"
            ]
          },
          "metadata": {
            "tags": []
          },
          "execution_count": 71
        }
      ]
    },
    {
      "cell_type": "code",
      "metadata": {
        "id": "Wfez4xytVbQ2",
        "colab_type": "code",
        "colab": {}
      },
      "source": [
        ""
      ],
      "execution_count": 0,
      "outputs": []
    },
    {
      "cell_type": "markdown",
      "metadata": {
        "colab_type": "text",
        "id": "edpJ87A8A8sd"
      },
      "source": [
        "\n",
        "### Feature engineering, explained by Francois Chollet\n",
        "\n",
        "> _Feature engineering_ is the process of using your own knowledge about the data and about the machine learning algorithm at hand to make the algorithm work better by applying hardcoded (nonlearned) transformations to the data before it goes into the model. In many cases, it isn’t reasonable to expect a machine-learning model to be able to learn from completely arbitrary data. The data needs to be presented to the model in a way that will make the model’s job easier.\n",
        "\n",
        "> Let’s look at an intuitive example. Suppose you’re trying to develop a model that can take as input an image of a clock and can output the time of day.\n",
        "\n",
        "> If you choose to use the raw pixels of the image as input data, then you have a difficult machine-learning problem on your hands. You’ll need a convolutional neural network to solve it, and you’ll have to expend quite a bit of computational resources to train the network.\n",
        "\n",
        "> But if you already understand the problem at a high level (you understand how humans read time on a clock face), then you can come up with much better input features for a machine-learning algorithm: for instance, write a Python script to follow the black pixels of the clock hands and output the (x, y) coordinates of the tip of each hand. Then a simple machine-learning algorithm can learn to associate these coordinates with the appropriate time of day.\n",
        "\n",
        "> You can go even further: do a coordinate change, and express the (x, y) coordinates as polar coordinates with regard to the center of the image. Your input will become the angle theta of each clock hand. At this point, your features are making the problem so easy that no machine learning is required; a simple rounding operation and dictionary lookup are enough to recover the approximate time of day.\n",
        "\n",
        "> That’s the essence of feature engineering: making a problem easier by expressing it in a simpler way. It usually requires understanding the problem in depth.\n",
        "\n",
        "> Before convolutional neural networks became successful on the MNIST digit-classification problem, solutions were typically based on hardcoded features such as the number of loops in a digit image, the height of each digit in an image, a histogram of pixel values, and so on.\n",
        "\n",
        "> Neural networks are capable of automatically extracting useful features from raw data. Does this mean you don’t have to worry about feature engineering as long as you’re using deep neural networks? No, for two reasons:\n",
        "\n",
        "> - Good features still allow you to solve problems more elegantly while using fewer resources. For instance, it would be ridiculous to solve the problem of reading a clock face using a convolutional neural network.\n",
        "> - Good features let you solve a problem with far less data. The ability of deep-learning models to learn features on their own relies on having lots of training data available; if you have only a few samples, then the information value in their features becomes critical.\n"
      ]
    },
    {
      "cell_type": "markdown",
      "metadata": {
        "colab_type": "text",
        "id": "oux-dd-5FD6p"
      },
      "source": [
        "# ASSIGNMENT\n",
        "\n",
        "**1.** Complete the notebook cells that were originally commented **`TODO`**. \n",
        "\n",
        "**2.** Then, focus on feature engineering to improve your cross validation scores. Collaborate with your cohort on Slack. You could start with the ideas [Jake VanderPlas suggests:](https://jakevdp.github.io/PythonDataScienceHandbook/05.06-linear-regression.html#Example:-Predicting-Bicycle-Traffic)\n",
        "\n",
        "> Our model is almost certainly missing some relevant information. For example, nonlinear effects (such as effects of precipitation and cold temperature) and nonlinear trends within each variable (such as disinclination to ride at very cold and very hot temperatures) cannot be accounted for in this model. Additionally, we have thrown away some of the finer-grained information (such as the difference between a rainy morning and a rainy afternoon), and we have ignored correlations between days (such as the possible effect of a rainy Tuesday on Wednesday's numbers, or the effect of an unexpected sunny day after a streak of rainy days). These are all potentially interesting effects, and you now have the tools to begin exploring them if you wish!\n",
        "\n",
        "**3.** Experiment with the Categorical Encoding notebook.\n",
        "\n",
        "**4.** At the end of the day, take the last step in the \"universal workflow of machine learning\" — \"You can train your final production model on all the available data (training and validation) and evaluate it one last time on the test set.\"\n",
        "\n",
        "See the [`RandomizedSearchCV`](https://scikit-learn.org/stable/modules/generated/sklearn.model_selection.RandomizedSearchCV.html) documentation for the `refit` parameter, `best_estimator_` attribute, and `predict` method:\n",
        "\n",
        "> **refit : boolean, or string, default=True**\n",
        "\n",
        "> Refit an estimator using the best found parameters on the whole dataset.\n",
        "\n",
        "> The refitted estimator is made available at the `best_estimator_` attribute and permits using `predict` directly on this `GridSearchCV` instance.\n",
        "\n",
        "### STRETCH\n",
        "\n",
        "**A.** Apply this lesson other datasets you've worked with, like Ames Housing, Bank Marketing, or others.\n",
        "\n",
        "**B.** In additon to `RandomizedSearchCV`, scikit-learn has [`GridSearchCV`](https://scikit-learn.org/stable/modules/generated/sklearn.model_selection.GridSearchCV.html). Another library called scikit-optimize has [`BayesSearchCV`](https://scikit-optimize.github.io/notebooks/sklearn-gridsearchcv-replacement.html). Experiment with these alternatives.\n",
        "\n",
        "**C.** _[Introduction to Machine Learning with Python](http://shop.oreilly.com/product/0636920030515.do)_ discusses options for \"Grid-Searching Which Model To Use\" in Chapter 6:\n",
        "\n",
        "> You can even go further in combining GridSearchCV and Pipeline: it is also possible to search over the actual steps being performed in the pipeline (say whether to use StandardScaler or MinMaxScaler). This leads to an even bigger search space and should be considered carefully. Trying all possible solutions is usually not a viable machine learning strategy. However, here is an example comparing a RandomForestClassifier and an SVC ...\n",
        "\n",
        "The example is shown in [the accompanying notebook](https://github.com/amueller/introduction_to_ml_with_python/blob/master/06-algorithm-chains-and-pipelines.ipynb), code cells 35-37. Could you apply this concept to your own pipelines?"
      ]
    },
    {
      "cell_type": "markdown",
      "metadata": {
        "id": "kIl0MLTG7N4J",
        "colab_type": "text"
      },
      "source": [
        "##Exploratory: What does the data look like?"
      ]
    },
    {
      "cell_type": "code",
      "metadata": {
        "id": "UYKOB_l13fSP",
        "colab_type": "code",
        "colab": {
          "base_uri": "https://localhost:8080/",
          "height": 35
        },
        "outputId": "55d144a9-24c4-4a95-a892-69e5b8a26996"
      },
      "source": [
        "#  What does the data look like: shape? range? targe and features?\n",
        "\n",
        "daily.shape"
      ],
      "execution_count": 73,
      "outputs": [
        {
          "output_type": "execute_result",
          "data": {
            "text/plain": [
              "(1063, 8)"
            ]
          },
          "metadata": {
            "tags": []
          },
          "execution_count": 73
        }
      ]
    },
    {
      "cell_type": "code",
      "metadata": {
        "id": "UfStz1Z53uv7",
        "colab_type": "code",
        "colab": {
          "base_uri": "https://localhost:8080/",
          "height": 202
        },
        "outputId": "33e926aa-b0c7-437a-8ea1-b4d03825a3cb"
      },
      "source": [
        "daily.head()"
      ],
      "execution_count": 74,
      "outputs": [
        {
          "output_type": "execute_result",
          "data": {
            "text/html": [
              "<div>\n",
              "<style scoped>\n",
              "    .dataframe tbody tr th:only-of-type {\n",
              "        vertical-align: middle;\n",
              "    }\n",
              "\n",
              "    .dataframe tbody tr th {\n",
              "        vertical-align: top;\n",
              "    }\n",
              "\n",
              "    .dataframe thead th {\n",
              "        text-align: right;\n",
              "    }\n",
              "</style>\n",
              "<table border=\"1\" class=\"dataframe\">\n",
              "  <thead>\n",
              "    <tr style=\"text-align: right;\">\n",
              "      <th></th>\n",
              "      <th>Total</th>\n",
              "      <th>PRCP</th>\n",
              "      <th>SNOW</th>\n",
              "      <th>SNWD</th>\n",
              "      <th>TMAX</th>\n",
              "      <th>TMIN</th>\n",
              "      <th>AWND</th>\n",
              "      <th>Total_yesterday</th>\n",
              "    </tr>\n",
              "  </thead>\n",
              "  <tbody>\n",
              "    <tr>\n",
              "      <th>2012-10-04</th>\n",
              "      <td>3475.0</td>\n",
              "      <td>0</td>\n",
              "      <td>0</td>\n",
              "      <td>0</td>\n",
              "      <td>189</td>\n",
              "      <td>83</td>\n",
              "      <td>65</td>\n",
              "      <td>3521.0</td>\n",
              "    </tr>\n",
              "    <tr>\n",
              "      <th>2012-10-05</th>\n",
              "      <td>3148.0</td>\n",
              "      <td>0</td>\n",
              "      <td>0</td>\n",
              "      <td>0</td>\n",
              "      <td>217</td>\n",
              "      <td>89</td>\n",
              "      <td>57</td>\n",
              "      <td>3475.0</td>\n",
              "    </tr>\n",
              "    <tr>\n",
              "      <th>2012-10-06</th>\n",
              "      <td>2006.0</td>\n",
              "      <td>0</td>\n",
              "      <td>0</td>\n",
              "      <td>0</td>\n",
              "      <td>239</td>\n",
              "      <td>78</td>\n",
              "      <td>51</td>\n",
              "      <td>3148.0</td>\n",
              "    </tr>\n",
              "    <tr>\n",
              "      <th>2012-10-07</th>\n",
              "      <td>2142.0</td>\n",
              "      <td>0</td>\n",
              "      <td>0</td>\n",
              "      <td>0</td>\n",
              "      <td>239</td>\n",
              "      <td>78</td>\n",
              "      <td>13</td>\n",
              "      <td>2006.0</td>\n",
              "    </tr>\n",
              "    <tr>\n",
              "      <th>2012-10-08</th>\n",
              "      <td>3537.0</td>\n",
              "      <td>0</td>\n",
              "      <td>0</td>\n",
              "      <td>0</td>\n",
              "      <td>211</td>\n",
              "      <td>78</td>\n",
              "      <td>19</td>\n",
              "      <td>2142.0</td>\n",
              "    </tr>\n",
              "  </tbody>\n",
              "</table>\n",
              "</div>"
            ],
            "text/plain": [
              "             Total  PRCP  SNOW  SNWD  TMAX  TMIN  AWND  Total_yesterday\n",
              "2012-10-04  3475.0     0     0     0   189    83    65           3521.0\n",
              "2012-10-05  3148.0     0     0     0   217    89    57           3475.0\n",
              "2012-10-06  2006.0     0     0     0   239    78    51           3148.0\n",
              "2012-10-07  2142.0     0     0     0   239    78    13           2006.0\n",
              "2012-10-08  3537.0     0     0     0   211    78    19           2142.0"
            ]
          },
          "metadata": {
            "tags": []
          },
          "execution_count": 74
        }
      ]
    },
    {
      "cell_type": "code",
      "metadata": {
        "id": "Yi3jXh3u3sPE",
        "colab_type": "code",
        "colab": {
          "base_uri": "https://localhost:8080/",
          "height": 202
        },
        "outputId": "d974988a-509b-4b7b-962b-1fdcca52c228"
      },
      "source": [
        "daily.tail()"
      ],
      "execution_count": 75,
      "outputs": [
        {
          "output_type": "execute_result",
          "data": {
            "text/html": [
              "<div>\n",
              "<style scoped>\n",
              "    .dataframe tbody tr th:only-of-type {\n",
              "        vertical-align: middle;\n",
              "    }\n",
              "\n",
              "    .dataframe tbody tr th {\n",
              "        vertical-align: top;\n",
              "    }\n",
              "\n",
              "    .dataframe thead th {\n",
              "        text-align: right;\n",
              "    }\n",
              "</style>\n",
              "<table border=\"1\" class=\"dataframe\">\n",
              "  <thead>\n",
              "    <tr style=\"text-align: right;\">\n",
              "      <th></th>\n",
              "      <th>Total</th>\n",
              "      <th>PRCP</th>\n",
              "      <th>SNOW</th>\n",
              "      <th>SNWD</th>\n",
              "      <th>TMAX</th>\n",
              "      <th>TMIN</th>\n",
              "      <th>AWND</th>\n",
              "      <th>Total_yesterday</th>\n",
              "    </tr>\n",
              "  </thead>\n",
              "  <tbody>\n",
              "    <tr>\n",
              "      <th>2015-08-28</th>\n",
              "      <td>2653.0</td>\n",
              "      <td>5</td>\n",
              "      <td>0</td>\n",
              "      <td>0</td>\n",
              "      <td>233</td>\n",
              "      <td>156</td>\n",
              "      <td>26</td>\n",
              "      <td>4336.0</td>\n",
              "    </tr>\n",
              "    <tr>\n",
              "      <th>2015-08-29</th>\n",
              "      <td>699.0</td>\n",
              "      <td>325</td>\n",
              "      <td>0</td>\n",
              "      <td>0</td>\n",
              "      <td>222</td>\n",
              "      <td>133</td>\n",
              "      <td>58</td>\n",
              "      <td>2653.0</td>\n",
              "    </tr>\n",
              "    <tr>\n",
              "      <th>2015-08-30</th>\n",
              "      <td>1213.0</td>\n",
              "      <td>102</td>\n",
              "      <td>0</td>\n",
              "      <td>0</td>\n",
              "      <td>200</td>\n",
              "      <td>128</td>\n",
              "      <td>47</td>\n",
              "      <td>699.0</td>\n",
              "    </tr>\n",
              "    <tr>\n",
              "      <th>2015-08-31</th>\n",
              "      <td>2823.0</td>\n",
              "      <td>0</td>\n",
              "      <td>0</td>\n",
              "      <td>0</td>\n",
              "      <td>189</td>\n",
              "      <td>161</td>\n",
              "      <td>58</td>\n",
              "      <td>1213.0</td>\n",
              "    </tr>\n",
              "    <tr>\n",
              "      <th>2015-09-01</th>\n",
              "      <td>2876.0</td>\n",
              "      <td>58</td>\n",
              "      <td>0</td>\n",
              "      <td>0</td>\n",
              "      <td>194</td>\n",
              "      <td>139</td>\n",
              "      <td>-9999</td>\n",
              "      <td>2823.0</td>\n",
              "    </tr>\n",
              "  </tbody>\n",
              "</table>\n",
              "</div>"
            ],
            "text/plain": [
              "             Total  PRCP  SNOW  SNWD  TMAX  TMIN  AWND  Total_yesterday\n",
              "2015-08-28  2653.0     5     0     0   233   156    26           4336.0\n",
              "2015-08-29   699.0   325     0     0   222   133    58           2653.0\n",
              "2015-08-30  1213.0   102     0     0   200   128    47            699.0\n",
              "2015-08-31  2823.0     0     0     0   189   161    58           1213.0\n",
              "2015-09-01  2876.0    58     0     0   194   139 -9999           2823.0"
            ]
          },
          "metadata": {
            "tags": []
          },
          "execution_count": 75
        }
      ]
    },
    {
      "cell_type": "markdown",
      "metadata": {
        "id": "U51_wNKg7TXw",
        "colab_type": "text"
      },
      "source": [
        "##Choose a metric for validating the data"
      ]
    },
    {
      "cell_type": "code",
      "metadata": {
        "id": "Ipk3Dut73yID",
        "colab_type": "code",
        "colab": {}
      },
      "source": [
        "# Choose a metric for validating the data\n",
        "from sklearn.metrics import mean_absolute_error"
      ],
      "execution_count": 0,
      "outputs": []
    },
    {
      "cell_type": "markdown",
      "metadata": {
        "id": "er4hx8CF7WYL",
        "colab_type": "text"
      },
      "source": [
        "##Determine Evaluation Protocol"
      ]
    },
    {
      "cell_type": "code",
      "metadata": {
        "id": "iGtGuV5X4apT",
        "colab_type": "code",
        "colab": {
          "base_uri": "https://localhost:8080/",
          "height": 35
        },
        "outputId": "f8b90811-5ea6-402b-8e34-4f4b2b6e75c2"
      },
      "source": [
        "# Hyperparametrer optimization and performance estimation: 3-way, train/val/test, or cross-validation w/ indpt test set\n",
        "\n",
        "# Cross-Validation w/ independent test set\n",
        "## \"Out of time\" test set(last 100 days of the data)\n",
        "\n",
        "# Everything but the last 100 days\n",
        "train = daily[:-100]\n",
        "\n",
        "# Last 100 days\n",
        "test = daily[-100:]\n",
        "\n",
        "# Shape\n",
        "train.shape, test.shape"
      ],
      "execution_count": 77,
      "outputs": [
        {
          "output_type": "execute_result",
          "data": {
            "text/plain": [
              "((963, 8), (100, 8))"
            ]
          },
          "metadata": {
            "tags": []
          },
          "execution_count": 77
        }
      ]
    },
    {
      "cell_type": "code",
      "metadata": {
        "id": "j8Iap0so5TdL",
        "colab_type": "code",
        "colab": {
          "base_uri": "https://localhost:8080/",
          "height": 35
        },
        "outputId": "e96b9b16-0855-464c-86c9-36f549d30be7"
      },
      "source": [
        "X_train = train.drop(columns='Total')\n",
        "y_train = train['Total']\n",
        "\n",
        "X_test = test.drop(columns='Total')\n",
        "y_test = test['Total']\n",
        "\n",
        "X_train.shape, y_train.shape, X_test.shape, X_test.shape"
      ],
      "execution_count": 78,
      "outputs": [
        {
          "output_type": "execute_result",
          "data": {
            "text/plain": [
              "((963, 7), (963,), (100, 7), (100, 7))"
            ]
          },
          "metadata": {
            "tags": []
          },
          "execution_count": 78
        }
      ]
    },
    {
      "cell_type": "markdown",
      "metadata": {
        "id": "HhgIT-S07zVk",
        "colab_type": "text"
      },
      "source": [
        "##Develop a first model that does better than the basic baseline"
      ]
    },
    {
      "cell_type": "code",
      "metadata": {
        "id": "N5zGXgoO7yL8",
        "colab_type": "code",
        "colab": {
          "base_uri": "https://localhost:8080/",
          "height": 301
        },
        "outputId": "1306a67a-f3a7-4d62-cc0b-fd056d19ca02"
      },
      "source": [
        "%matplotlib inline\n",
        "import seaborn as sns\n",
        "sns.distplot(y_train)"
      ],
      "execution_count": 79,
      "outputs": [
        {
          "output_type": "execute_result",
          "data": {
            "text/plain": [
              "<matplotlib.axes._subplots.AxesSubplot at 0x7fd5a0b5ccc0>"
            ]
          },
          "metadata": {
            "tags": []
          },
          "execution_count": 79
        },
        {
          "output_type": "display_data",
          "data": {
            "image/png": "[encoded data removed]",
            "text/plain": [
              "<Figure size 432x288 with 1 Axes>"
            ]
          },
          "metadata": {
            "tags": []
          }
        }
      ]
    },
    {
      "cell_type": "code",
      "metadata": {
        "id": "W1Gs-gky7628",
        "colab_type": "code",
        "colab": {
          "base_uri": "https://localhost:8080/",
          "height": 173
        },
        "outputId": "8d379e9f-2798-4ae1-89ee-b5d86a0f703b"
      },
      "source": [
        "y_train.describe()"
      ],
      "execution_count": 80,
      "outputs": [
        {
          "output_type": "execute_result",
          "data": {
            "text/plain": [
              "count     963.000000\n",
              "mean     2534.329180\n",
              "std      1224.065027\n",
              "min        98.000000\n",
              "25%      1755.000000\n",
              "50%      2381.000000\n",
              "75%      3317.500000\n",
              "max      6088.000000\n",
              "Name: Total, dtype: float64"
            ]
          },
          "metadata": {
            "tags": []
          },
          "execution_count": 80
        }
      ]
    },
    {
      "cell_type": "code",
      "metadata": {
        "id": "QHP19qsh8JMD",
        "colab_type": "code",
        "colab": {
          "base_uri": "https://localhost:8080/",
          "height": 35
        },
        "outputId": "12f7df75-33e0-45a2-fc23-691159028954"
      },
      "source": [
        "#Basic Baseline 1 - Predicting the median\n",
        "y_pred = [y_train.median()] * len(y_train)\n",
        "mean_absolute_error(y_train, y_pred)"
      ],
      "execution_count": 81,
      "outputs": [
        {
          "output_type": "execute_result",
          "data": {
            "text/plain": [
              "971.9376947040498"
            ]
          },
          "metadata": {
            "tags": []
          },
          "execution_count": 81
        }
      ]
    },
    {
      "cell_type": "code",
      "metadata": {
        "id": "JlmWQ3_y8UWM",
        "colab_type": "code",
        "colab": {
          "base_uri": "https://localhost:8080/",
          "height": 35
        },
        "outputId": "152a1406-f1d4-4dcc-804d-4ea970f78622"
      },
      "source": [
        "#Basic Baseline 2 - Predicting yesterday \n",
        "y_pred = X_train['Total_yesterday']\n",
        "mean_absolute_error(y_train, y_pred)"
      ],
      "execution_count": 82,
      "outputs": [
        {
          "output_type": "execute_result",
          "data": {
            "text/plain": [
              "708.061266874351"
            ]
          },
          "metadata": {
            "tags": []
          },
          "execution_count": 82
        }
      ]
    },
    {
      "cell_type": "markdown",
      "metadata": {
        "id": "tBatDaFH_2AN",
        "colab_type": "text"
      },
      "source": [
        "##First model that does better than the baseline"
      ]
    },
    {
      "cell_type": "code",
      "metadata": {
        "id": "kfsqUFvU8b30",
        "colab_type": "code",
        "colab": {}
      },
      "source": [
        "from sklearn.linear_model import LinearRegression\n",
        "from sklearn.model_selection import cross_validate\n",
        "\n",
        "scores = cross_validate(LinearRegression(), X_train, y_train,\n",
        "                       scoring='neg_mean_absolute_error', cv=3,\n",
        "                       return_train_score=True, return_estimator=True)"
      ],
      "execution_count": 0,
      "outputs": []
    },
    {
      "cell_type": "code",
      "metadata": {
        "id": "MqGqPGRXAIss",
        "colab_type": "code",
        "colab": {
          "base_uri": "https://localhost:8080/",
          "height": 141
        },
        "outputId": "f3dc0cc7-a8e4-4c69-9f57-755903440f47"
      },
      "source": [
        "pd.DataFrame(scores)"
      ],
      "execution_count": 84,
      "outputs": [
        {
          "output_type": "execute_result",
          "data": {
            "text/html": [
              "<div>\n",
              "<style scoped>\n",
              "    .dataframe tbody tr th:only-of-type {\n",
              "        vertical-align: middle;\n",
              "    }\n",
              "\n",
              "    .dataframe tbody tr th {\n",
              "        vertical-align: top;\n",
              "    }\n",
              "\n",
              "    .dataframe thead th {\n",
              "        text-align: right;\n",
              "    }\n",
              "</style>\n",
              "<table border=\"1\" class=\"dataframe\">\n",
              "  <thead>\n",
              "    <tr style=\"text-align: right;\">\n",
              "      <th></th>\n",
              "      <th>fit_time</th>\n",
              "      <th>score_time</th>\n",
              "      <th>estimator</th>\n",
              "      <th>test_score</th>\n",
              "      <th>train_score</th>\n",
              "    </tr>\n",
              "  </thead>\n",
              "  <tbody>\n",
              "    <tr>\n",
              "      <th>0</th>\n",
              "      <td>0.005666</td>\n",
              "      <td>0.007856</td>\n",
              "      <td>LinearRegression(copy_X=True, fit_intercept=Tr...</td>\n",
              "      <td>-555.186275</td>\n",
              "      <td>-619.509206</td>\n",
              "    </tr>\n",
              "    <tr>\n",
              "      <th>1</th>\n",
              "      <td>0.004611</td>\n",
              "      <td>0.001336</td>\n",
              "      <td>LinearRegression(copy_X=True, fit_intercept=Tr...</td>\n",
              "      <td>-651.126513</td>\n",
              "      <td>-583.427702</td>\n",
              "    </tr>\n",
              "    <tr>\n",
              "      <th>2</th>\n",
              "      <td>0.002961</td>\n",
              "      <td>0.001231</td>\n",
              "      <td>LinearRegression(copy_X=True, fit_intercept=Tr...</td>\n",
              "      <td>-615.965800</td>\n",
              "      <td>-589.341301</td>\n",
              "    </tr>\n",
              "  </tbody>\n",
              "</table>\n",
              "</div>"
            ],
            "text/plain": [
              "   fit_time  score_time                                          estimator  \\\n",
              "0  0.005666    0.007856  LinearRegression(copy_X=True, fit_intercept=Tr...   \n",
              "1  0.004611    0.001336  LinearRegression(copy_X=True, fit_intercept=Tr...   \n",
              "2  0.002961    0.001231  LinearRegression(copy_X=True, fit_intercept=Tr...   \n",
              "\n",
              "   test_score  train_score  \n",
              "0 -555.186275  -619.509206  \n",
              "1 -651.126513  -583.427702  \n",
              "2 -615.965800  -589.341301  "
            ]
          },
          "metadata": {
            "tags": []
          },
          "execution_count": 84
        }
      ]
    },
    {
      "cell_type": "code",
      "metadata": {
        "id": "qWmpYKAcAKPU",
        "colab_type": "code",
        "colab": {
          "base_uri": "https://localhost:8080/",
          "height": 35
        },
        "outputId": "77de1503-48f7-4247-98bb-126ba7dc55c2"
      },
      "source": [
        "# sklearn default MAE is negative so putting - will change it to positive\n",
        "-scores['test_score'].mean()"
      ],
      "execution_count": 85,
      "outputs": [
        {
          "output_type": "execute_result",
          "data": {
            "text/plain": [
              "607.4261958631806"
            ]
          },
          "metadata": {
            "tags": []
          },
          "execution_count": 85
        }
      ]
    },
    {
      "cell_type": "code",
      "metadata": {
        "id": "51fxU1z0APpN",
        "colab_type": "code",
        "colab": {
          "base_uri": "https://localhost:8080/",
          "height": 537
        },
        "outputId": "d15605fa-be49-4cd0-85f3-6fedbf50da9a"
      },
      "source": [
        "for i, model in enumerate(scores['estimator']):\n",
        "  coefficents = model.coef_\n",
        "  intercept = model.intercept_\n",
        "  features_names = X_train.columns\n",
        "  \n",
        "  print(f'Model from cross-validation fold #{i}')\n",
        "  print(f'Intercept: {intercept}')\n",
        "  print(pd.Series(coefficents, features_names).to_string(),'\\n')\n",
        "  \n",
        "# SNWD coefficents are unsure since the 3 folds show negative and positive values\n",
        "# Look for consistent coefficents"
      ],
      "execution_count": 87,
      "outputs": [
        {
          "output_type": "stream",
          "text": [
            "Model from cross-validation fold #0\n",
            "Intercept: 566.7766337283679\n",
            "PRCP               -3.525103\n",
            "SNOW               -0.082029\n",
            "SNWD              -12.045027\n",
            "TMAX                9.475238\n",
            "TMIN               -4.607775\n",
            "AWND               -2.745191\n",
            "Total_yesterday     0.417360 \n",
            "\n",
            "Model from cross-validation fold #1\n",
            "Intercept: 671.9064515706045\n",
            "PRCP               -2.772253\n",
            "SNOW               -0.000995\n",
            "SNWD               20.800688\n",
            "TMAX                8.804948\n",
            "TMIN               -3.741386\n",
            "AWND               -6.108300\n",
            "Total_yesterday     0.405074 \n",
            "\n",
            "Model from cross-validation fold #2\n",
            "Intercept: 465.84525362296563\n",
            "PRCP               -2.876196\n",
            "SNOW               -0.016432\n",
            "SNWD               -8.809696\n",
            "TMAX               10.419441\n",
            "TMIN               -5.862868\n",
            "AWND               -2.398991\n",
            "Total_yesterday     0.423493 \n",
            "\n"
          ],
          "name": "stdout"
        }
      ]
    },
    {
      "cell_type": "markdown",
      "metadata": {
        "id": "Zq98YnB-BmWJ",
        "colab_type": "text"
      },
      "source": [
        "##Develop Overfit model"
      ]
    },
    {
      "cell_type": "code",
      "metadata": {
        "id": "LgW0R6fcA0Jd",
        "colab_type": "code",
        "colab": {
          "base_uri": "https://localhost:8080/",
          "height": 141
        },
        "outputId": "7f50736d-3d96-4bae-f899-937cebb94822"
      },
      "source": [
        "from sklearn.ensemble import RandomForestRegressor\n",
        "\n",
        "# n_estimator: how many trees in the forest, max_depth controls the split\n",
        "model = RandomForestRegressor(n_estimators=100, max_depth=None, n_jobs=-1)\n",
        "\n",
        "scores = cross_validate(model, X_train, y_train,\n",
        "                       scoring='neg_mean_absolute_error',\n",
        "                       cv=3, return_train_score=True,\n",
        "                       return_estimator=True)\n",
        "\n",
        "pd.DataFrame(scores)"
      ],
      "execution_count": 89,
      "outputs": [
        {
          "output_type": "execute_result",
          "data": {
            "text/html": [
              "<div>\n",
              "<style scoped>\n",
              "    .dataframe tbody tr th:only-of-type {\n",
              "        vertical-align: middle;\n",
              "    }\n",
              "\n",
              "    .dataframe tbody tr th {\n",
              "        vertical-align: top;\n",
              "    }\n",
              "\n",
              "    .dataframe thead th {\n",
              "        text-align: right;\n",
              "    }\n",
              "</style>\n",
              "<table border=\"1\" class=\"dataframe\">\n",
              "  <thead>\n",
              "    <tr style=\"text-align: right;\">\n",
              "      <th></th>\n",
              "      <th>fit_time</th>\n",
              "      <th>score_time</th>\n",
              "      <th>estimator</th>\n",
              "      <th>test_score</th>\n",
              "      <th>train_score</th>\n",
              "    </tr>\n",
              "  </thead>\n",
              "  <tbody>\n",
              "    <tr>\n",
              "      <th>0</th>\n",
              "      <td>1.491566</td>\n",
              "      <td>0.104661</td>\n",
              "      <td>(DecisionTreeRegressor(criterion='mse', max_de...</td>\n",
              "      <td>-559.963146</td>\n",
              "      <td>-241.841838</td>\n",
              "    </tr>\n",
              "    <tr>\n",
              "      <th>1</th>\n",
              "      <td>0.236545</td>\n",
              "      <td>0.103508</td>\n",
              "      <td>(DecisionTreeRegressor(criterion='mse', max_de...</td>\n",
              "      <td>-643.896978</td>\n",
              "      <td>-223.905592</td>\n",
              "    </tr>\n",
              "    <tr>\n",
              "      <th>2</th>\n",
              "      <td>0.242387</td>\n",
              "      <td>0.103579</td>\n",
              "      <td>(DecisionTreeRegressor(criterion='mse', max_de...</td>\n",
              "      <td>-645.845016</td>\n",
              "      <td>-226.766526</td>\n",
              "    </tr>\n",
              "  </tbody>\n",
              "</table>\n",
              "</div>"
            ],
            "text/plain": [
              "   fit_time  score_time                                          estimator  \\\n",
              "0  1.491566    0.104661  (DecisionTreeRegressor(criterion='mse', max_de...   \n",
              "1  0.236545    0.103508  (DecisionTreeRegressor(criterion='mse', max_de...   \n",
              "2  0.242387    0.103579  (DecisionTreeRegressor(criterion='mse', max_de...   \n",
              "\n",
              "   test_score  train_score  \n",
              "0 -559.963146  -241.841838  \n",
              "1 -643.896978  -223.905592  \n",
              "2 -645.845016  -226.766526  "
            ]
          },
          "metadata": {
            "tags": []
          },
          "execution_count": 89
        }
      ]
    },
    {
      "cell_type": "code",
      "metadata": {
        "id": "VWWjOQcVCbKF",
        "colab_type": "code",
        "colab": {
          "base_uri": "https://localhost:8080/",
          "height": 35
        },
        "outputId": "1fe91c9e-7ddf-4df4-9331-7d39862cdd0d"
      },
      "source": [
        "-scores['test_score'].mean(), -scores['train_score'].mean()"
      ],
      "execution_count": 92,
      "outputs": [
        {
          "output_type": "execute_result",
          "data": {
            "text/plain": [
              "(616.5683800623052, 230.83798546209758)"
            ]
          },
          "metadata": {
            "tags": []
          },
          "execution_count": 92
        }
      ]
    },
    {
      "cell_type": "markdown",
      "metadata": {
        "id": "lT4A4GmiC_6O",
        "colab_type": "text"
      },
      "source": [
        "##Validation curve"
      ]
    },
    {
      "cell_type": "code",
      "metadata": {
        "id": "eGCa5uzvCx0N",
        "colab_type": "code",
        "colab": {
          "base_uri": "https://localhost:8080/",
          "height": 301
        },
        "outputId": "df4122e1-457c-49cf-b411-a33c38f4a7f4"
      },
      "source": [
        "import numpy as np\n",
        "import matplotlib.pyplot as plt\n",
        "from sklearn.model_selection import validation_curve\n",
        "\n",
        "model = RandomForestRegressor(n_estimators=100)\n",
        "\n",
        "depth = [2,3,4,5,6]\n",
        "train_score, val_score = validation_curve(\n",
        "    model, X_train, y_train, param_name='max_depth', # Param-name-What are we tuning\n",
        "    param_range=depth, scoring='neg_mean_absolute_error', # Param range-How much should we tune,range.\n",
        "    cv=3\n",
        ")\n",
        "\n",
        "plt.plot(depth, np.median(train_score, axis=1), color='blue', label='traing score')\n",
        "plt.plot(depth, np.median(val_score, axis=1), color='red', label='validation score')\n",
        "plt.legend(loc='best')\n",
        "plt.xlabel('depth')\n",
        "plt.ylabel('MAE')\n",
        "\n",
        "#From the curve we can see a depth of 4 to 6 yields similar MAE"
      ],
      "execution_count": 93,
      "outputs": [
        {
          "output_type": "execute_result",
          "data": {
            "text/plain": [
              "Text(0, 0.5, 'MAE')"
            ]
          },
          "metadata": {
            "tags": []
          },
          "execution_count": 93
        },
        {
          "output_type": "display_data",
          "data": {
            "image/png": "[encoded data removed]",
            "text/plain": [
              "<Figure size 432x288 with 1 Axes>"
            ]
          },
          "metadata": {
            "tags": []
          }
        }
      ]
    },
    {
      "cell_type": "markdown",
      "metadata": {
        "id": "6Y9iWGT-Eao2",
        "colab_type": "text"
      },
      "source": [
        "##RandomizedSearchCV"
      ]
    },
    {
      "cell_type": "code",
      "metadata": {
        "id": "lE0uH-lLELTV",
        "colab_type": "code",
        "colab": {
          "base_uri": "https://localhost:8080/",
          "height": 381
        },
        "outputId": "6723d936-2613-419b-b1c8-eaa71fe3a4f8"
      },
      "source": [
        "from sklearn.model_selection import RandomizedSearchCV\n",
        "\n",
        "# Give a param distribution\n",
        "param_distributions = {\n",
        "    'n_estimators': [100,200],\n",
        "    'max_depth': [4,5,6],\n",
        "    'criterion': ['mse', 'mae']\n",
        "}\n",
        "\n",
        "# Instantiate - model => param_dist=>\n",
        "r_gridsearch = RandomizedSearchCV(\n",
        "    RandomForestRegressor(n_jobs=-1, random_state=42),\n",
        "    param_distributions=param_distributions,\n",
        "    n_iter=12, # no. of param_distributions: 2*3*2\n",
        "    cv=3, scoring='neg_mean_absolute_error',\n",
        "    verbose=10, return_train_score=True,\n",
        "    n_jobs=-1\n",
        ")\n",
        "\n",
        "r_gridsearch.fit(X_train, y_train)"
      ],
      "execution_count": 98,
      "outputs": [
        {
          "output_type": "stream",
          "text": [
            "Fitting 3 folds for each of 12 candidates, totalling 36 fits\n"
          ],
          "name": "stdout"
        },
        {
          "output_type": "stream",
          "text": [
            "[Parallel(n_jobs=-1)]: Using backend LokyBackend with 2 concurrent workers.\n",
            "[Parallel(n_jobs=-1)]: Done   1 tasks      | elapsed:    1.8s\n",
            "[Parallel(n_jobs=-1)]: Done   4 tasks      | elapsed:    2.4s\n",
            "[Parallel(n_jobs=-1)]: Done   9 tasks      | elapsed:    3.9s\n",
            "[Parallel(n_jobs=-1)]: Done  14 tasks      | elapsed:    5.1s\n",
            "[Parallel(n_jobs=-1)]: Done  21 tasks      | elapsed:    8.2s\n",
            "[Parallel(n_jobs=-1)]: Done  28 tasks      | elapsed:   15.2s\n",
            "[Parallel(n_jobs=-1)]: Done  36 out of  36 | elapsed:   22.4s finished\n"
          ],
          "name": "stderr"
        },
        {
          "output_type": "execute_result",
          "data": {
            "text/plain": [
              "RandomizedSearchCV(cv=3, error_score='raise-deprecating',\n",
              "          estimator=RandomForestRegressor(bootstrap=True, criterion='mse', max_depth=None,\n",
              "           max_features='auto', max_leaf_nodes=None,\n",
              "           min_impurity_decrease=0.0, min_impurity_split=None,\n",
              "           min_samples_leaf=1, min_samples_split=2,\n",
              "           min_weight_fraction_leaf=0.0, n_estimators='warn', n_jobs=-1,\n",
              "           oob_score=False, random_state=42, verbose=0, warm_start=False),\n",
              "          fit_params=None, iid='warn', n_iter=12, n_jobs=-1,\n",
              "          param_distributions={'n_estimators': [100, 200], 'max_depth': [4, 5, 6], 'criterion': ['mse', 'mae']},\n",
              "          pre_dispatch='2*n_jobs', random_state=None, refit=True,\n",
              "          return_train_score=True, scoring='neg_mean_absolute_error',\n",
              "          verbose=10)"
            ]
          },
          "metadata": {
            "tags": []
          },
          "execution_count": 98
        }
      ]
    },
    {
      "cell_type": "code",
      "metadata": {
        "id": "0JaoAf2iFexd",
        "colab_type": "code",
        "colab": {
          "base_uri": "https://localhost:8080/",
          "height": 1078
        },
        "outputId": "b05b8e60-2d91-4fb2-afc9-3eee22c411e0"
      },
      "source": [
        "results = pd.DataFrame(r_gridsearch.cv_results_)\n",
        "print(f'Best result from the search of {len(results)} parameter combinations')\n",
        "results.sort_values(by='rank_test_score')"
      ],
      "execution_count": 99,
      "outputs": [
        {
          "output_type": "stream",
          "text": [
            "Best result from the search of 12 parameter combinations\n"
          ],
          "name": "stdout"
        },
        {
          "output_type": "execute_result",
          "data": {
            "text/html": [
              "<div>\n",
              "<style scoped>\n",
              "    .dataframe tbody tr th:only-of-type {\n",
              "        vertical-align: middle;\n",
              "    }\n",
              "\n",
              "    .dataframe tbody tr th {\n",
              "        vertical-align: top;\n",
              "    }\n",
              "\n",
              "    .dataframe thead th {\n",
              "        text-align: right;\n",
              "    }\n",
              "</style>\n",
              "<table border=\"1\" class=\"dataframe\">\n",
              "  <thead>\n",
              "    <tr style=\"text-align: right;\">\n",
              "      <th></th>\n",
              "      <th>mean_fit_time</th>\n",
              "      <th>std_fit_time</th>\n",
              "      <th>mean_score_time</th>\n",
              "      <th>std_score_time</th>\n",
              "      <th>param_n_estimators</th>\n",
              "      <th>param_max_depth</th>\n",
              "      <th>param_criterion</th>\n",
              "      <th>params</th>\n",
              "      <th>split0_test_score</th>\n",
              "      <th>split1_test_score</th>\n",
              "      <th>split2_test_score</th>\n",
              "      <th>mean_test_score</th>\n",
              "      <th>std_test_score</th>\n",
              "      <th>rank_test_score</th>\n",
              "      <th>split0_train_score</th>\n",
              "      <th>split1_train_score</th>\n",
              "      <th>split2_train_score</th>\n",
              "      <th>mean_train_score</th>\n",
              "      <th>std_train_score</th>\n",
              "    </tr>\n",
              "  </thead>\n",
              "  <tbody>\n",
              "    <tr>\n",
              "      <th>9</th>\n",
              "      <td>2.130136</td>\n",
              "      <td>0.073371</td>\n",
              "      <td>0.107648</td>\n",
              "      <td>0.002523</td>\n",
              "      <td>200</td>\n",
              "      <td>5</td>\n",
              "      <td>mae</td>\n",
              "      <td>{'n_estimators': 200, 'max_depth': 5, 'criteri...</td>\n",
              "      <td>-537.343224</td>\n",
              "      <td>-633.188069</td>\n",
              "      <td>-611.812399</td>\n",
              "      <td>-594.114564</td>\n",
              "      <td>41.080965</td>\n",
              "      <td>1</td>\n",
              "      <td>-514.399139</td>\n",
              "      <td>-476.132208</td>\n",
              "      <td>-486.784755</td>\n",
              "      <td>-492.438701</td>\n",
              "      <td>16.125856</td>\n",
              "    </tr>\n",
              "    <tr>\n",
              "      <th>8</th>\n",
              "      <td>1.111265</td>\n",
              "      <td>0.039195</td>\n",
              "      <td>0.103321</td>\n",
              "      <td>0.000051</td>\n",
              "      <td>100</td>\n",
              "      <td>5</td>\n",
              "      <td>mae</td>\n",
              "      <td>{'n_estimators': 100, 'max_depth': 5, 'criteri...</td>\n",
              "      <td>-539.744330</td>\n",
              "      <td>-635.247773</td>\n",
              "      <td>-610.870031</td>\n",
              "      <td>-595.287378</td>\n",
              "      <td>40.516179</td>\n",
              "      <td>2</td>\n",
              "      <td>-513.924961</td>\n",
              "      <td>-475.585023</td>\n",
              "      <td>-489.148606</td>\n",
              "      <td>-492.886197</td>\n",
              "      <td>15.873771</td>\n",
              "    </tr>\n",
              "    <tr>\n",
              "      <th>11</th>\n",
              "      <td>2.021309</td>\n",
              "      <td>0.412532</td>\n",
              "      <td>0.112571</td>\n",
              "      <td>0.006524</td>\n",
              "      <td>200</td>\n",
              "      <td>6</td>\n",
              "      <td>mae</td>\n",
              "      <td>{'n_estimators': 200, 'max_depth': 6, 'criteri...</td>\n",
              "      <td>-536.176394</td>\n",
              "      <td>-634.438964</td>\n",
              "      <td>-616.764159</td>\n",
              "      <td>-595.793172</td>\n",
              "      <td>42.768523</td>\n",
              "      <td>3</td>\n",
              "      <td>-474.152025</td>\n",
              "      <td>-436.446195</td>\n",
              "      <td>-445.245440</td>\n",
              "      <td>-451.947887</td>\n",
              "      <td>16.106406</td>\n",
              "    </tr>\n",
              "    <tr>\n",
              "      <th>6</th>\n",
              "      <td>0.832654</td>\n",
              "      <td>0.028402</td>\n",
              "      <td>0.112786</td>\n",
              "      <td>0.006638</td>\n",
              "      <td>100</td>\n",
              "      <td>4</td>\n",
              "      <td>mae</td>\n",
              "      <td>{'n_estimators': 100, 'max_depth': 4, 'criteri...</td>\n",
              "      <td>-545.553738</td>\n",
              "      <td>-635.478629</td>\n",
              "      <td>-609.898505</td>\n",
              "      <td>-596.976957</td>\n",
              "      <td>37.831612</td>\n",
              "      <td>4</td>\n",
              "      <td>-554.610927</td>\n",
              "      <td>-515.603583</td>\n",
              "      <td>-525.162173</td>\n",
              "      <td>-531.792227</td>\n",
              "      <td>16.600431</td>\n",
              "    </tr>\n",
              "    <tr>\n",
              "      <th>7</th>\n",
              "      <td>1.814703</td>\n",
              "      <td>0.056312</td>\n",
              "      <td>0.109837</td>\n",
              "      <td>0.006425</td>\n",
              "      <td>200</td>\n",
              "      <td>4</td>\n",
              "      <td>mae</td>\n",
              "      <td>{'n_estimators': 200, 'max_depth': 4, 'criteri...</td>\n",
              "      <td>-545.615950</td>\n",
              "      <td>-634.226674</td>\n",
              "      <td>-611.571316</td>\n",
              "      <td>-597.137980</td>\n",
              "      <td>37.587285</td>\n",
              "      <td>5</td>\n",
              "      <td>-554.012714</td>\n",
              "      <td>-515.754478</td>\n",
              "      <td>-524.948497</td>\n",
              "      <td>-531.571896</td>\n",
              "      <td>16.305934</td>\n",
              "    </tr>\n",
              "    <tr>\n",
              "      <th>10</th>\n",
              "      <td>1.150622</td>\n",
              "      <td>0.167337</td>\n",
              "      <td>0.115813</td>\n",
              "      <td>0.003352</td>\n",
              "      <td>100</td>\n",
              "      <td>6</td>\n",
              "      <td>mae</td>\n",
              "      <td>{'n_estimators': 100, 'max_depth': 6, 'criteri...</td>\n",
              "      <td>-540.013660</td>\n",
              "      <td>-636.042445</td>\n",
              "      <td>-619.068287</td>\n",
              "      <td>-598.374798</td>\n",
              "      <td>41.845328</td>\n",
              "      <td>6</td>\n",
              "      <td>-474.232492</td>\n",
              "      <td>-438.072399</td>\n",
              "      <td>-448.129798</td>\n",
              "      <td>-453.478229</td>\n",
              "      <td>15.239037</td>\n",
              "    </tr>\n",
              "    <tr>\n",
              "      <th>5</th>\n",
              "      <td>0.414510</td>\n",
              "      <td>0.009770</td>\n",
              "      <td>0.110578</td>\n",
              "      <td>0.007367</td>\n",
              "      <td>200</td>\n",
              "      <td>6</td>\n",
              "      <td>mse</td>\n",
              "      <td>{'n_estimators': 200, 'max_depth': 6, 'criteri...</td>\n",
              "      <td>-545.032520</td>\n",
              "      <td>-634.148296</td>\n",
              "      <td>-630.734519</td>\n",
              "      <td>-603.305112</td>\n",
              "      <td>41.228507</td>\n",
              "      <td>7</td>\n",
              "      <td>-471.657315</td>\n",
              "      <td>-444.369670</td>\n",
              "      <td>-441.991815</td>\n",
              "      <td>-452.672933</td>\n",
              "      <td>13.459040</td>\n",
              "    </tr>\n",
              "    <tr>\n",
              "      <th>3</th>\n",
              "      <td>0.395130</td>\n",
              "      <td>0.043782</td>\n",
              "      <td>0.103763</td>\n",
              "      <td>0.000342</td>\n",
              "      <td>200</td>\n",
              "      <td>5</td>\n",
              "      <td>mse</td>\n",
              "      <td>{'n_estimators': 200, 'max_depth': 5, 'criteri...</td>\n",
              "      <td>-545.774354</td>\n",
              "      <td>-637.307005</td>\n",
              "      <td>-627.616934</td>\n",
              "      <td>-603.566098</td>\n",
              "      <td>41.055966</td>\n",
              "      <td>8</td>\n",
              "      <td>-524.163469</td>\n",
              "      <td>-490.204130</td>\n",
              "      <td>-490.472466</td>\n",
              "      <td>-501.613355</td>\n",
              "      <td>15.945715</td>\n",
              "    </tr>\n",
              "    <tr>\n",
              "      <th>4</th>\n",
              "      <td>0.269613</td>\n",
              "      <td>0.007289</td>\n",
              "      <td>0.104972</td>\n",
              "      <td>0.002029</td>\n",
              "      <td>100</td>\n",
              "      <td>6</td>\n",
              "      <td>mse</td>\n",
              "      <td>{'n_estimators': 100, 'max_depth': 6, 'criteri...</td>\n",
              "      <td>-547.057739</td>\n",
              "      <td>-635.494678</td>\n",
              "      <td>-632.033237</td>\n",
              "      <td>-604.861885</td>\n",
              "      <td>40.898124</td>\n",
              "      <td>9</td>\n",
              "      <td>-473.010107</td>\n",
              "      <td>-445.337172</td>\n",
              "      <td>-444.033458</td>\n",
              "      <td>-454.126912</td>\n",
              "      <td>13.363038</td>\n",
              "    </tr>\n",
              "    <tr>\n",
              "      <th>2</th>\n",
              "      <td>0.233440</td>\n",
              "      <td>0.042840</td>\n",
              "      <td>0.104939</td>\n",
              "      <td>0.002281</td>\n",
              "      <td>100</td>\n",
              "      <td>5</td>\n",
              "      <td>mse</td>\n",
              "      <td>{'n_estimators': 100, 'max_depth': 5, 'criteri...</td>\n",
              "      <td>-546.995243</td>\n",
              "      <td>-639.080607</td>\n",
              "      <td>-629.837818</td>\n",
              "      <td>-605.304556</td>\n",
              "      <td>41.403214</td>\n",
              "      <td>10</td>\n",
              "      <td>-526.882336</td>\n",
              "      <td>-490.560190</td>\n",
              "      <td>-492.252512</td>\n",
              "      <td>-503.231679</td>\n",
              "      <td>16.737805</td>\n",
              "    </tr>\n",
              "    <tr>\n",
              "      <th>1</th>\n",
              "      <td>0.361412</td>\n",
              "      <td>0.032381</td>\n",
              "      <td>0.103909</td>\n",
              "      <td>0.000591</td>\n",
              "      <td>200</td>\n",
              "      <td>4</td>\n",
              "      <td>mse</td>\n",
              "      <td>{'n_estimators': 200, 'max_depth': 4, 'criteri...</td>\n",
              "      <td>-555.634757</td>\n",
              "      <td>-640.866167</td>\n",
              "      <td>-625.853913</td>\n",
              "      <td>-607.451613</td>\n",
              "      <td>37.149085</td>\n",
              "      <td>11</td>\n",
              "      <td>-572.252550</td>\n",
              "      <td>-529.625674</td>\n",
              "      <td>-536.655286</td>\n",
              "      <td>-546.177836</td>\n",
              "      <td>18.659615</td>\n",
              "    </tr>\n",
              "    <tr>\n",
              "      <th>0</th>\n",
              "      <td>0.229610</td>\n",
              "      <td>0.046058</td>\n",
              "      <td>0.103992</td>\n",
              "      <td>0.000654</td>\n",
              "      <td>100</td>\n",
              "      <td>4</td>\n",
              "      <td>mse</td>\n",
              "      <td>{'n_estimators': 100, 'max_depth': 4, 'criteri...</td>\n",
              "      <td>-557.174302</td>\n",
              "      <td>-642.450417</td>\n",
              "      <td>-629.072181</td>\n",
              "      <td>-609.565633</td>\n",
              "      <td>37.446700</td>\n",
              "      <td>12</td>\n",
              "      <td>-574.472102</td>\n",
              "      <td>-530.248079</td>\n",
              "      <td>-538.576526</td>\n",
              "      <td>-547.765569</td>\n",
              "      <td>19.188016</td>\n",
              "    </tr>\n",
              "  </tbody>\n",
              "</table>\n",
              "</div>"
            ],
            "text/plain": [
              "    mean_fit_time  std_fit_time  mean_score_time  std_score_time  \\\n",
              "9        2.130136      0.073371         0.107648        0.002523   \n",
              "8        1.111265      0.039195         0.103321        0.000051   \n",
              "11       2.021309      0.412532         0.112571        0.006524   \n",
              "6        0.832654      0.028402         0.112786        0.006638   \n",
              "7        1.814703      0.056312         0.109837        0.006425   \n",
              "10       1.150622      0.167337         0.115813        0.003352   \n",
              "5        0.414510      0.009770         0.110578        0.007367   \n",
              "3        0.395130      0.043782         0.103763        0.000342   \n",
              "4        0.269613      0.007289         0.104972        0.002029   \n",
              "2        0.233440      0.042840         0.104939        0.002281   \n",
              "1        0.361412      0.032381         0.103909        0.000591   \n",
              "0        0.229610      0.046058         0.103992        0.000654   \n",
              "\n",
              "   param_n_estimators param_max_depth param_criterion  \\\n",
              "9                 200               5             mae   \n",
              "8                 100               5             mae   \n",
              "11                200               6             mae   \n",
              "6                 100               4             mae   \n",
              "7                 200               4             mae   \n",
              "10                100               6             mae   \n",
              "5                 200               6             mse   \n",
              "3                 200               5             mse   \n",
              "4                 100               6             mse   \n",
              "2                 100               5             mse   \n",
              "1                 200               4             mse   \n",
              "0                 100               4             mse   \n",
              "\n",
              "                                               params  split0_test_score  \\\n",
              "9   {'n_estimators': 200, 'max_depth': 5, 'criteri...        -537.343224   \n",
              "8   {'n_estimators': 100, 'max_depth': 5, 'criteri...        -539.744330   \n",
              "11  {'n_estimators': 200, 'max_depth': 6, 'criteri...        -536.176394   \n",
              "6   {'n_estimators': 100, 'max_depth': 4, 'criteri...        -545.553738   \n",
              "7   {'n_estimators': 200, 'max_depth': 4, 'criteri...        -545.615950   \n",
              "10  {'n_estimators': 100, 'max_depth': 6, 'criteri...        -540.013660   \n",
              "5   {'n_estimators': 200, 'max_depth': 6, 'criteri...        -545.032520   \n",
              "3   {'n_estimators': 200, 'max_depth': 5, 'criteri...        -545.774354   \n",
              "4   {'n_estimators': 100, 'max_depth': 6, 'criteri...        -547.057739   \n",
              "2   {'n_estimators': 100, 'max_depth': 5, 'criteri...        -546.995243   \n",
              "1   {'n_estimators': 200, 'max_depth': 4, 'criteri...        -555.634757   \n",
              "0   {'n_estimators': 100, 'max_depth': 4, 'criteri...        -557.174302   \n",
              "\n",
              "    split1_test_score  split2_test_score  mean_test_score  std_test_score  \\\n",
              "9         -633.188069        -611.812399      -594.114564       41.080965   \n",
              "8         -635.247773        -610.870031      -595.287378       40.516179   \n",
              "11        -634.438964        -616.764159      -595.793172       42.768523   \n",
              "6         -635.478629        -609.898505      -596.976957       37.831612   \n",
              "7         -634.226674        -611.571316      -597.137980       37.587285   \n",
              "10        -636.042445        -619.068287      -598.374798       41.845328   \n",
              "5         -634.148296        -630.734519      -603.305112       41.228507   \n",
              "3         -637.307005        -627.616934      -603.566098       41.055966   \n",
              "4         -635.494678        -632.033237      -604.861885       40.898124   \n",
              "2         -639.080607        -629.837818      -605.304556       41.403214   \n",
              "1         -640.866167        -625.853913      -607.451613       37.149085   \n",
              "0         -642.450417        -629.072181      -609.565633       37.446700   \n",
              "\n",
              "    rank_test_score  split0_train_score  split1_train_score  \\\n",
              "9                 1         -514.399139         -476.132208   \n",
              "8                 2         -513.924961         -475.585023   \n",
              "11                3         -474.152025         -436.446195   \n",
              "6                 4         -554.610927         -515.603583   \n",
              "7                 5         -554.012714         -515.754478   \n",
              "10                6         -474.232492         -438.072399   \n",
              "5                 7         -471.657315         -444.369670   \n",
              "3                 8         -524.163469         -490.204130   \n",
              "4                 9         -473.010107         -445.337172   \n",
              "2                10         -526.882336         -490.560190   \n",
              "1                11         -572.252550         -529.625674   \n",
              "0                12         -574.472102         -530.248079   \n",
              "\n",
              "    split2_train_score  mean_train_score  std_train_score  \n",
              "9          -486.784755       -492.438701        16.125856  \n",
              "8          -489.148606       -492.886197        15.873771  \n",
              "11         -445.245440       -451.947887        16.106406  \n",
              "6          -525.162173       -531.792227        16.600431  \n",
              "7          -524.948497       -531.571896        16.305934  \n",
              "10         -448.129798       -453.478229        15.239037  \n",
              "5          -441.991815       -452.672933        13.459040  \n",
              "3          -490.472466       -501.613355        15.945715  \n",
              "4          -444.033458       -454.126912        13.363038  \n",
              "2          -492.252512       -503.231679        16.737805  \n",
              "1          -536.655286       -546.177836        18.659615  \n",
              "0          -538.576526       -547.765569        19.188016  "
            ]
          },
          "metadata": {
            "tags": []
          },
          "execution_count": 99
        }
      ]
    },
    {
      "cell_type": "code",
      "metadata": {
        "id": "NBN_3LqZGcgW",
        "colab_type": "code",
        "colab": {
          "base_uri": "https://localhost:8080/",
          "height": 121
        },
        "outputId": "ea895ace-57be-472c-9ffe-02b11f105c40"
      },
      "source": [
        "# Get the best estimator from the randomizedsearchcv\n",
        "\n",
        "r_gridsearch.best_estimator_"
      ],
      "execution_count": 100,
      "outputs": [
        {
          "output_type": "execute_result",
          "data": {
            "text/plain": [
              "RandomForestRegressor(bootstrap=True, criterion='mae', max_depth=5,\n",
              "           max_features='auto', max_leaf_nodes=None,\n",
              "           min_impurity_decrease=0.0, min_impurity_split=None,\n",
              "           min_samples_leaf=1, min_samples_split=2,\n",
              "           min_weight_fraction_leaf=0.0, n_estimators=200, n_jobs=-1,\n",
              "           oob_score=False, random_state=42, verbose=0, warm_start=False)"
            ]
          },
          "metadata": {
            "tags": []
          },
          "execution_count": 100
        }
      ]
    },
    {
      "cell_type": "markdown",
      "metadata": {
        "id": "AeEZyN_4G16o",
        "colab_type": "text"
      },
      "source": [
        "##Feature Engineering"
      ]
    },
    {
      "cell_type": "code",
      "metadata": {
        "id": "C9Hwdyv9GoNt",
        "colab_type": "code",
        "colab": {}
      },
      "source": [
        "# Modified from code cells 17-21 at\n",
        "# https://jakevdp.github.io/PythonDataScienceHandbook/05.06-linear-regression.html#Example:-Predicting-Bicycle-Traffic\n",
        "\n",
        "def jake_wrangle(X):  \n",
        "    X = X.copy()\n",
        "\n",
        "    # patterns of use generally vary from day to day; \n",
        "    # let's add binary columns that indicate the day of the week:\n",
        "    days = ['Mon', 'Tue', 'Wed', 'Thu', 'Fri', 'Sat', 'Sun']\n",
        "    for i, day in enumerate(days):\n",
        "        X[day] = (X.index.dayofweek == i).astype(float)\n",
        "\n",
        "\n",
        "    # we might expect riders to behave differently on holidays; \n",
        "    # let's add an indicator of this as well:\n",
        "    from pandas.tseries.holiday import USFederalHolidayCalendar\n",
        "    cal = USFederalHolidayCalendar()\n",
        "    holidays = cal.holidays('2012', '2016')\n",
        "    X = X.join(pd.Series(1, index=holidays, name='holiday'))\n",
        "    X['holiday'].fillna(0, inplace=True)\n",
        "\n",
        "\n",
        "    # We also might suspect that the hours of daylight would affect \n",
        "    # how many people ride; let's use the standard astronomical calculation \n",
        "    # to add this information:\n",
        "    def hours_of_daylight(date, axis=23.44, latitude=47.61):\n",
        "        \"\"\"Compute the hours of daylight for the given date\"\"\"\n",
        "        days = (date - pd.datetime(2000, 12, 21)).days\n",
        "        m = (1. - np.tan(np.radians(latitude))\n",
        "             * np.tan(np.radians(axis) * np.cos(days * 2 * np.pi / 365.25)))\n",
        "        return 24. * np.degrees(np.arccos(1 - np.clip(m, 0, 2))) / 180.\n",
        "\n",
        "    X['daylight_hrs'] = list(map(hours_of_daylight, X.index))\n",
        "\n",
        "    \n",
        "    # temperatures are in 1/10 deg C; convert to C\n",
        "    X['TMIN'] /= 10\n",
        "    X['TMAX'] /= 10\n",
        "    \n",
        "    # We can also calcuate the average temperature.\n",
        "    X['Temp (C)'] = 0.5 * (X['TMIN'] + X['TMAX'])\n",
        "\n",
        "    # precip is in 1/10 mm; convert to inches\n",
        "    X['PRCP'] /= 254\n",
        "\n",
        "    # In addition to the inches of precipitation, let's add a flag that \n",
        "    # indicates whether a day is dry (has zero precipitation):\n",
        "    X['dry day'] = (X['PRCP'] == 0).astype(int)\n",
        "\n",
        "\n",
        "    # Let's add a counter that increases from day 1, and measures how many \n",
        "    # years have passed. This will let us measure any observed annual increase \n",
        "    # or decrease in daily crossings:\n",
        "    X['annual'] = (X.index - X.index[0]).days / 365.\n",
        "\n",
        "    return X\n",
        "\n",
        "X_train = jake_wrangle(X_train)"
      ],
      "execution_count": 0,
      "outputs": []
    },
    {
      "cell_type": "markdown",
      "metadata": {
        "id": "oMHWb8lPG4gE",
        "colab_type": "text"
      },
      "source": [
        "##Linear Regression with new features"
      ]
    },
    {
      "cell_type": "code",
      "metadata": {
        "id": "tS_HEKMdG3i9",
        "colab_type": "code",
        "colab": {
          "base_uri": "https://localhost:8080/",
          "height": 141
        },
        "outputId": "fca02fac-33cf-438b-d3d2-e8ef80122d7a"
      },
      "source": [
        "scores = cross_validate(LinearRegression(), X_train, y_train,\n",
        "                       scoring='neg_mean_absolute_error', cv=3,\n",
        "                       return_train_score=True, return_estimator=True)\n",
        "\n",
        "pd.DataFrame(scores)"
      ],
      "execution_count": 102,
      "outputs": [
        {
          "output_type": "execute_result",
          "data": {
            "text/html": [
              "<div>\n",
              "<style scoped>\n",
              "    .dataframe tbody tr th:only-of-type {\n",
              "        vertical-align: middle;\n",
              "    }\n",
              "\n",
              "    .dataframe tbody tr th {\n",
              "        vertical-align: top;\n",
              "    }\n",
              "\n",
              "    .dataframe thead th {\n",
              "        text-align: right;\n",
              "    }\n",
              "</style>\n",
              "<table border=\"1\" class=\"dataframe\">\n",
              "  <thead>\n",
              "    <tr style=\"text-align: right;\">\n",
              "      <th></th>\n",
              "      <th>fit_time</th>\n",
              "      <th>score_time</th>\n",
              "      <th>estimator</th>\n",
              "      <th>test_score</th>\n",
              "      <th>train_score</th>\n",
              "    </tr>\n",
              "  </thead>\n",
              "  <tbody>\n",
              "    <tr>\n",
              "      <th>0</th>\n",
              "      <td>0.010813</td>\n",
              "      <td>0.005072</td>\n",
              "      <td>LinearRegression(copy_X=True, fit_intercept=Tr...</td>\n",
              "      <td>-297.692524</td>\n",
              "      <td>-294.532315</td>\n",
              "    </tr>\n",
              "    <tr>\n",
              "      <th>1</th>\n",
              "      <td>0.004387</td>\n",
              "      <td>0.001734</td>\n",
              "      <td>LinearRegression(copy_X=True, fit_intercept=Tr...</td>\n",
              "      <td>-300.419037</td>\n",
              "      <td>-283.779461</td>\n",
              "    </tr>\n",
              "    <tr>\n",
              "      <th>2</th>\n",
              "      <td>0.004166</td>\n",
              "      <td>0.001564</td>\n",
              "      <td>LinearRegression(copy_X=True, fit_intercept=Tr...</td>\n",
              "      <td>-322.640378</td>\n",
              "      <td>-283.509114</td>\n",
              "    </tr>\n",
              "  </tbody>\n",
              "</table>\n",
              "</div>"
            ],
            "text/plain": [
              "   fit_time  score_time                                          estimator  \\\n",
              "0  0.010813    0.005072  LinearRegression(copy_X=True, fit_intercept=Tr...   \n",
              "1  0.004387    0.001734  LinearRegression(copy_X=True, fit_intercept=Tr...   \n",
              "2  0.004166    0.001564  LinearRegression(copy_X=True, fit_intercept=Tr...   \n",
              "\n",
              "   test_score  train_score  \n",
              "0 -297.692524  -294.532315  \n",
              "1 -300.419037  -283.779461  \n",
              "2 -322.640378  -283.509114  "
            ]
          },
          "metadata": {
            "tags": []
          },
          "execution_count": 102
        }
      ]
    },
    {
      "cell_type": "code",
      "metadata": {
        "id": "a7G8rdcrHKDV",
        "colab_type": "code",
        "colab": {
          "base_uri": "https://localhost:8080/",
          "height": 35
        },
        "outputId": "8533f93a-470a-4c00-c46b-a216ef2ac3ec"
      },
      "source": [
        "# Score improves with the features added to the model\n",
        "-scores['test_score'].mean()"
      ],
      "execution_count": 103,
      "outputs": [
        {
          "output_type": "execute_result",
          "data": {
            "text/plain": [
              "306.9173130794428"
            ]
          },
          "metadata": {
            "tags": []
          },
          "execution_count": 103
        }
      ]
    },
    {
      "cell_type": "markdown",
      "metadata": {
        "id": "JpQMqlM2HURe",
        "colab_type": "text"
      },
      "source": [
        "##Random Forest with new features"
      ]
    },
    {
      "cell_type": "code",
      "metadata": {
        "id": "eRvLxmdVHOG2",
        "colab_type": "code",
        "colab": {
          "base_uri": "https://localhost:8080/",
          "height": 381
        },
        "outputId": "d8f3c018-c1ff-409d-a41d-549cc2e05a15"
      },
      "source": [
        "param_distributions = {\n",
        "    'n_estimators': [100, 200], \n",
        "    'max_depth': [5, 10, 15], \n",
        "    'criterion': ['mae','mse']\n",
        "}\n",
        "\n",
        "r_gridsearch = RandomizedSearchCV(\n",
        "    RandomForestRegressor(n_jobs=-1, random_state=42), \n",
        "    param_distributions=param_distributions, \n",
        "    n_iter=12, \n",
        "    cv=3, \n",
        "    scoring='neg_mean_absolute_error', \n",
        "    verbose=10, \n",
        "    return_train_score=True, \n",
        "    n_jobs=-1\n",
        ")\n",
        "\n",
        "r_gridsearch.fit(X_train, y_train)"
      ],
      "execution_count": 109,
      "outputs": [
        {
          "output_type": "stream",
          "text": [
            "Fitting 3 folds for each of 12 candidates, totalling 36 fits\n"
          ],
          "name": "stdout"
        },
        {
          "output_type": "stream",
          "text": [
            "[Parallel(n_jobs=-1)]: Using backend LokyBackend with 2 concurrent workers.\n",
            "[Parallel(n_jobs=-1)]: Done   1 tasks      | elapsed:    1.9s\n",
            "[Parallel(n_jobs=-1)]: Done   4 tasks      | elapsed:    7.0s\n",
            "[Parallel(n_jobs=-1)]: Done   9 tasks      | elapsed:   15.8s\n",
            "[Parallel(n_jobs=-1)]: Done  14 tasks      | elapsed:   30.3s\n",
            "[Parallel(n_jobs=-1)]: Done  21 tasks      | elapsed:   42.2s\n",
            "[Parallel(n_jobs=-1)]: Done  28 tasks      | elapsed:   45.4s\n",
            "[Parallel(n_jobs=-1)]: Done  36 out of  36 | elapsed:   49.2s finished\n"
          ],
          "name": "stderr"
        },
        {
          "output_type": "execute_result",
          "data": {
            "text/plain": [
              "RandomizedSearchCV(cv=3, error_score='raise-deprecating',\n",
              "          estimator=RandomForestRegressor(bootstrap=True, criterion='mse', max_depth=None,\n",
              "           max_features='auto', max_leaf_nodes=None,\n",
              "           min_impurity_decrease=0.0, min_impurity_split=None,\n",
              "           min_samples_leaf=1, min_samples_split=2,\n",
              "           min_weight_fraction_leaf=0.0, n_estimators='warn', n_jobs=-1,\n",
              "           oob_score=False, random_state=42, verbose=0, warm_start=False),\n",
              "          fit_params=None, iid='warn', n_iter=12, n_jobs=-1,\n",
              "          param_distributions={'n_estimators': [100, 200], 'max_depth': [5, 10, 15], 'criterion': ['mae', 'mse']},\n",
              "          pre_dispatch='2*n_jobs', random_state=None, refit=True,\n",
              "          return_train_score=True, scoring='neg_mean_absolute_error',\n",
              "          verbose=10)"
            ]
          },
          "metadata": {
            "tags": []
          },
          "execution_count": 109
        }
      ]
    },
    {
      "cell_type": "code",
      "metadata": {
        "id": "6iVj8VJtHjLm",
        "colab_type": "code",
        "colab": {
          "base_uri": "https://localhost:8080/",
          "height": 1061
        },
        "outputId": "6aff79fc-29bc-4a2e-f5b2-1626e98d7374"
      },
      "source": [
        "pd.DataFrame(r_gridsearch.cv_results_).sort_values(by='rank_test_score')"
      ],
      "execution_count": 110,
      "outputs": [
        {
          "output_type": "execute_result",
          "data": {
            "text/html": [
              "<div>\n",
              "<style scoped>\n",
              "    .dataframe tbody tr th:only-of-type {\n",
              "        vertical-align: middle;\n",
              "    }\n",
              "\n",
              "    .dataframe tbody tr th {\n",
              "        vertical-align: top;\n",
              "    }\n",
              "\n",
              "    .dataframe thead th {\n",
              "        text-align: right;\n",
              "    }\n",
              "</style>\n",
              "<table border=\"1\" class=\"dataframe\">\n",
              "  <thead>\n",
              "    <tr style=\"text-align: right;\">\n",
              "      <th></th>\n",
              "      <th>mean_fit_time</th>\n",
              "      <th>std_fit_time</th>\n",
              "      <th>mean_score_time</th>\n",
              "      <th>std_score_time</th>\n",
              "      <th>param_n_estimators</th>\n",
              "      <th>param_max_depth</th>\n",
              "      <th>param_criterion</th>\n",
              "      <th>params</th>\n",
              "      <th>split0_test_score</th>\n",
              "      <th>split1_test_score</th>\n",
              "      <th>split2_test_score</th>\n",
              "      <th>mean_test_score</th>\n",
              "      <th>std_test_score</th>\n",
              "      <th>rank_test_score</th>\n",
              "      <th>split0_train_score</th>\n",
              "      <th>split1_train_score</th>\n",
              "      <th>split2_train_score</th>\n",
              "      <th>mean_train_score</th>\n",
              "      <th>std_train_score</th>\n",
              "    </tr>\n",
              "  </thead>\n",
              "  <tbody>\n",
              "    <tr>\n",
              "      <th>9</th>\n",
              "      <td>0.804096</td>\n",
              "      <td>0.043257</td>\n",
              "      <td>0.110316</td>\n",
              "      <td>0.001208</td>\n",
              "      <td>200</td>\n",
              "      <td>10</td>\n",
              "      <td>mse</td>\n",
              "      <td>{'n_estimators': 200, 'max_depth': 10, 'criter...</td>\n",
              "      <td>-315.515451</td>\n",
              "      <td>-332.720534</td>\n",
              "      <td>-298.379353</td>\n",
              "      <td>-315.538446</td>\n",
              "      <td>14.019738</td>\n",
              "      <td>1</td>\n",
              "      <td>-128.276043</td>\n",
              "      <td>-120.659238</td>\n",
              "      <td>-130.271118</td>\n",
              "      <td>-126.402133</td>\n",
              "      <td>4.141715</td>\n",
              "    </tr>\n",
              "    <tr>\n",
              "      <th>11</th>\n",
              "      <td>0.881737</td>\n",
              "      <td>0.106705</td>\n",
              "      <td>0.103921</td>\n",
              "      <td>0.000280</td>\n",
              "      <td>200</td>\n",
              "      <td>15</td>\n",
              "      <td>mse</td>\n",
              "      <td>{'n_estimators': 200, 'max_depth': 15, 'criter...</td>\n",
              "      <td>-323.149926</td>\n",
              "      <td>-329.898275</td>\n",
              "      <td>-294.720332</td>\n",
              "      <td>-315.922844</td>\n",
              "      <td>15.243467</td>\n",
              "      <td>2</td>\n",
              "      <td>-105.427318</td>\n",
              "      <td>-100.092800</td>\n",
              "      <td>-110.359711</td>\n",
              "      <td>-105.293276</td>\n",
              "      <td>4.192520</td>\n",
              "    </tr>\n",
              "    <tr>\n",
              "      <th>10</th>\n",
              "      <td>0.394788</td>\n",
              "      <td>0.062286</td>\n",
              "      <td>0.107314</td>\n",
              "      <td>0.003009</td>\n",
              "      <td>100</td>\n",
              "      <td>15</td>\n",
              "      <td>mse</td>\n",
              "      <td>{'n_estimators': 100, 'max_depth': 15, 'criter...</td>\n",
              "      <td>-323.043446</td>\n",
              "      <td>-331.321099</td>\n",
              "      <td>-296.776135</td>\n",
              "      <td>-317.046893</td>\n",
              "      <td>14.726566</td>\n",
              "      <td>3</td>\n",
              "      <td>-106.595676</td>\n",
              "      <td>-101.715652</td>\n",
              "      <td>-111.778023</td>\n",
              "      <td>-106.696450</td>\n",
              "      <td>4.108564</td>\n",
              "    </tr>\n",
              "    <tr>\n",
              "      <th>8</th>\n",
              "      <td>0.435907</td>\n",
              "      <td>0.034487</td>\n",
              "      <td>0.107162</td>\n",
              "      <td>0.003449</td>\n",
              "      <td>100</td>\n",
              "      <td>10</td>\n",
              "      <td>mse</td>\n",
              "      <td>{'n_estimators': 100, 'max_depth': 10, 'criter...</td>\n",
              "      <td>-316.550148</td>\n",
              "      <td>-334.938789</td>\n",
              "      <td>-302.219725</td>\n",
              "      <td>-317.902887</td>\n",
              "      <td>13.391707</td>\n",
              "      <td>4</td>\n",
              "      <td>-131.622574</td>\n",
              "      <td>-122.276241</td>\n",
              "      <td>-132.089683</td>\n",
              "      <td>-128.662832</td>\n",
              "      <td>4.520027</td>\n",
              "    </tr>\n",
              "    <tr>\n",
              "      <th>3</th>\n",
              "      <td>6.381803</td>\n",
              "      <td>0.088336</td>\n",
              "      <td>0.119187</td>\n",
              "      <td>0.004369</td>\n",
              "      <td>200</td>\n",
              "      <td>10</td>\n",
              "      <td>mae</td>\n",
              "      <td>{'n_estimators': 200, 'max_depth': 10, 'criter...</td>\n",
              "      <td>-339.636059</td>\n",
              "      <td>-323.365576</td>\n",
              "      <td>-300.122492</td>\n",
              "      <td>-321.041376</td>\n",
              "      <td>16.214848</td>\n",
              "      <td>5</td>\n",
              "      <td>-141.293836</td>\n",
              "      <td>-127.463446</td>\n",
              "      <td>-143.127461</td>\n",
              "      <td>-137.294914</td>\n",
              "      <td>6.992085</td>\n",
              "    </tr>\n",
              "    <tr>\n",
              "      <th>5</th>\n",
              "      <td>6.649339</td>\n",
              "      <td>0.538355</td>\n",
              "      <td>0.113289</td>\n",
              "      <td>0.004672</td>\n",
              "      <td>200</td>\n",
              "      <td>15</td>\n",
              "      <td>mae</td>\n",
              "      <td>{'n_estimators': 200, 'max_depth': 15, 'criter...</td>\n",
              "      <td>-343.774081</td>\n",
              "      <td>-319.609167</td>\n",
              "      <td>-301.557150</td>\n",
              "      <td>-321.646799</td>\n",
              "      <td>17.295111</td>\n",
              "      <td>6</td>\n",
              "      <td>-110.517449</td>\n",
              "      <td>-101.515779</td>\n",
              "      <td>-113.195125</td>\n",
              "      <td>-108.409451</td>\n",
              "      <td>4.995633</td>\n",
              "    </tr>\n",
              "    <tr>\n",
              "      <th>4</th>\n",
              "      <td>3.589499</td>\n",
              "      <td>0.201782</td>\n",
              "      <td>0.119014</td>\n",
              "      <td>0.001553</td>\n",
              "      <td>100</td>\n",
              "      <td>15</td>\n",
              "      <td>mae</td>\n",
              "      <td>{'n_estimators': 100, 'max_depth': 15, 'criter...</td>\n",
              "      <td>-347.235405</td>\n",
              "      <td>-319.651340</td>\n",
              "      <td>-304.428754</td>\n",
              "      <td>-323.771833</td>\n",
              "      <td>17.716963</td>\n",
              "      <td>7</td>\n",
              "      <td>-112.552009</td>\n",
              "      <td>-102.188061</td>\n",
              "      <td>-116.336075</td>\n",
              "      <td>-110.358715</td>\n",
              "      <td>5.980495</td>\n",
              "    </tr>\n",
              "    <tr>\n",
              "      <th>2</th>\n",
              "      <td>3.165762</td>\n",
              "      <td>0.060272</td>\n",
              "      <td>0.118299</td>\n",
              "      <td>0.002345</td>\n",
              "      <td>100</td>\n",
              "      <td>10</td>\n",
              "      <td>mae</td>\n",
              "      <td>{'n_estimators': 100, 'max_depth': 10, 'criter...</td>\n",
              "      <td>-349.442196</td>\n",
              "      <td>-324.468287</td>\n",
              "      <td>-297.640561</td>\n",
              "      <td>-323.850348</td>\n",
              "      <td>21.152443</td>\n",
              "      <td>8</td>\n",
              "      <td>-143.936106</td>\n",
              "      <td>-128.380117</td>\n",
              "      <td>-145.615195</td>\n",
              "      <td>-139.310472</td>\n",
              "      <td>7.759267</td>\n",
              "    </tr>\n",
              "    <tr>\n",
              "      <th>7</th>\n",
              "      <td>0.621371</td>\n",
              "      <td>0.060176</td>\n",
              "      <td>0.108151</td>\n",
              "      <td>0.004888</td>\n",
              "      <td>200</td>\n",
              "      <td>5</td>\n",
              "      <td>mse</td>\n",
              "      <td>{'n_estimators': 200, 'max_depth': 5, 'criteri...</td>\n",
              "      <td>-331.627407</td>\n",
              "      <td>-389.920862</td>\n",
              "      <td>-333.878525</td>\n",
              "      <td>-351.808932</td>\n",
              "      <td>26.964870</td>\n",
              "      <td>9</td>\n",
              "      <td>-283.867200</td>\n",
              "      <td>-259.035807</td>\n",
              "      <td>-284.651644</td>\n",
              "      <td>-275.851550</td>\n",
              "      <td>11.894838</td>\n",
              "    </tr>\n",
              "    <tr>\n",
              "      <th>6</th>\n",
              "      <td>0.402234</td>\n",
              "      <td>0.033243</td>\n",
              "      <td>0.111205</td>\n",
              "      <td>0.006337</td>\n",
              "      <td>100</td>\n",
              "      <td>5</td>\n",
              "      <td>mse</td>\n",
              "      <td>{'n_estimators': 100, 'max_depth': 5, 'criteri...</td>\n",
              "      <td>-333.075474</td>\n",
              "      <td>-391.966189</td>\n",
              "      <td>-338.787957</td>\n",
              "      <td>-354.609873</td>\n",
              "      <td>26.517653</td>\n",
              "      <td>10</td>\n",
              "      <td>-285.416421</td>\n",
              "      <td>-260.352104</td>\n",
              "      <td>-288.596603</td>\n",
              "      <td>-278.121709</td>\n",
              "      <td>12.631905</td>\n",
              "    </tr>\n",
              "    <tr>\n",
              "      <th>1</th>\n",
              "      <td>4.548615</td>\n",
              "      <td>0.033336</td>\n",
              "      <td>0.123588</td>\n",
              "      <td>0.002833</td>\n",
              "      <td>200</td>\n",
              "      <td>5</td>\n",
              "      <td>mae</td>\n",
              "      <td>{'n_estimators': 200, 'max_depth': 5, 'criteri...</td>\n",
              "      <td>-356.324579</td>\n",
              "      <td>-383.678715</td>\n",
              "      <td>-333.667445</td>\n",
              "      <td>-357.890247</td>\n",
              "      <td>20.447009</td>\n",
              "      <td>11</td>\n",
              "      <td>-298.027368</td>\n",
              "      <td>-265.316632</td>\n",
              "      <td>-293.241772</td>\n",
              "      <td>-285.528590</td>\n",
              "      <td>14.424931</td>\n",
              "    </tr>\n",
              "    <tr>\n",
              "      <th>0</th>\n",
              "      <td>1.897066</td>\n",
              "      <td>0.164504</td>\n",
              "      <td>0.119509</td>\n",
              "      <td>0.001879</td>\n",
              "      <td>100</td>\n",
              "      <td>5</td>\n",
              "      <td>mae</td>\n",
              "      <td>{'n_estimators': 100, 'max_depth': 5, 'criteri...</td>\n",
              "      <td>-360.615374</td>\n",
              "      <td>-387.242134</td>\n",
              "      <td>-335.736137</td>\n",
              "      <td>-361.197882</td>\n",
              "      <td>21.031269</td>\n",
              "      <td>12</td>\n",
              "      <td>-299.174914</td>\n",
              "      <td>-266.206192</td>\n",
              "      <td>-294.979984</td>\n",
              "      <td>-286.787030</td>\n",
              "      <td>14.653271</td>\n",
              "    </tr>\n",
              "  </tbody>\n",
              "</table>\n",
              "</div>"
            ],
            "text/plain": [
              "    mean_fit_time  std_fit_time  mean_score_time  std_score_time  \\\n",
              "9        0.804096      0.043257         0.110316        0.001208   \n",
              "11       0.881737      0.106705         0.103921        0.000280   \n",
              "10       0.394788      0.062286         0.107314        0.003009   \n",
              "8        0.435907      0.034487         0.107162        0.003449   \n",
              "3        6.381803      0.088336         0.119187        0.004369   \n",
              "5        6.649339      0.538355         0.113289        0.004672   \n",
              "4        3.589499      0.201782         0.119014        0.001553   \n",
              "2        3.165762      0.060272         0.118299        0.002345   \n",
              "7        0.621371      0.060176         0.108151        0.004888   \n",
              "6        0.402234      0.033243         0.111205        0.006337   \n",
              "1        4.548615      0.033336         0.123588        0.002833   \n",
              "0        1.897066      0.164504         0.119509        0.001879   \n",
              "\n",
              "   param_n_estimators param_max_depth param_criterion  \\\n",
              "9                 200              10             mse   \n",
              "11                200              15             mse   \n",
              "10                100              15             mse   \n",
              "8                 100              10             mse   \n",
              "3                 200              10             mae   \n",
              "5                 200              15             mae   \n",
              "4                 100              15             mae   \n",
              "2                 100              10             mae   \n",
              "7                 200               5             mse   \n",
              "6                 100               5             mse   \n",
              "1                 200               5             mae   \n",
              "0                 100               5             mae   \n",
              "\n",
              "                                               params  split0_test_score  \\\n",
              "9   {'n_estimators': 200, 'max_depth': 10, 'criter...        -315.515451   \n",
              "11  {'n_estimators': 200, 'max_depth': 15, 'criter...        -323.149926   \n",
              "10  {'n_estimators': 100, 'max_depth': 15, 'criter...        -323.043446   \n",
              "8   {'n_estimators': 100, 'max_depth': 10, 'criter...        -316.550148   \n",
              "3   {'n_estimators': 200, 'max_depth': 10, 'criter...        -339.636059   \n",
              "5   {'n_estimators': 200, 'max_depth': 15, 'criter...        -343.774081   \n",
              "4   {'n_estimators': 100, 'max_depth': 15, 'criter...        -347.235405   \n",
              "2   {'n_estimators': 100, 'max_depth': 10, 'criter...        -349.442196   \n",
              "7   {'n_estimators': 200, 'max_depth': 5, 'criteri...        -331.627407   \n",
              "6   {'n_estimators': 100, 'max_depth': 5, 'criteri...        -333.075474   \n",
              "1   {'n_estimators': 200, 'max_depth': 5, 'criteri...        -356.324579   \n",
              "0   {'n_estimators': 100, 'max_depth': 5, 'criteri...        -360.615374   \n",
              "\n",
              "    split1_test_score  split2_test_score  mean_test_score  std_test_score  \\\n",
              "9         -332.720534        -298.379353      -315.538446       14.019738   \n",
              "11        -329.898275        -294.720332      -315.922844       15.243467   \n",
              "10        -331.321099        -296.776135      -317.046893       14.726566   \n",
              "8         -334.938789        -302.219725      -317.902887       13.391707   \n",
              "3         -323.365576        -300.122492      -321.041376       16.214848   \n",
              "5         -319.609167        -301.557150      -321.646799       17.295111   \n",
              "4         -319.651340        -304.428754      -323.771833       17.716963   \n",
              "2         -324.468287        -297.640561      -323.850348       21.152443   \n",
              "7         -389.920862        -333.878525      -351.808932       26.964870   \n",
              "6         -391.966189        -338.787957      -354.609873       26.517653   \n",
              "1         -383.678715        -333.667445      -357.890247       20.447009   \n",
              "0         -387.242134        -335.736137      -361.197882       21.031269   \n",
              "\n",
              "    rank_test_score  split0_train_score  split1_train_score  \\\n",
              "9                 1         -128.276043         -120.659238   \n",
              "11                2         -105.427318         -100.092800   \n",
              "10                3         -106.595676         -101.715652   \n",
              "8                 4         -131.622574         -122.276241   \n",
              "3                 5         -141.293836         -127.463446   \n",
              "5                 6         -110.517449         -101.515779   \n",
              "4                 7         -112.552009         -102.188061   \n",
              "2                 8         -143.936106         -128.380117   \n",
              "7                 9         -283.867200         -259.035807   \n",
              "6                10         -285.416421         -260.352104   \n",
              "1                11         -298.027368         -265.316632   \n",
              "0                12         -299.174914         -266.206192   \n",
              "\n",
              "    split2_train_score  mean_train_score  std_train_score  \n",
              "9          -130.271118       -126.402133         4.141715  \n",
              "11         -110.359711       -105.293276         4.192520  \n",
              "10         -111.778023       -106.696450         4.108564  \n",
              "8          -132.089683       -128.662832         4.520027  \n",
              "3          -143.127461       -137.294914         6.992085  \n",
              "5          -113.195125       -108.409451         4.995633  \n",
              "4          -116.336075       -110.358715         5.980495  \n",
              "2          -145.615195       -139.310472         7.759267  \n",
              "7          -284.651644       -275.851550        11.894838  \n",
              "6          -288.596603       -278.121709        12.631905  \n",
              "1          -293.241772       -285.528590        14.424931  \n",
              "0          -294.979984       -286.787030        14.653271  "
            ]
          },
          "metadata": {
            "tags": []
          },
          "execution_count": 110
        }
      ]
    },
    {
      "cell_type": "code",
      "metadata": {
        "id": "wVh5M3JbH75t",
        "colab_type": "code",
        "colab": {
          "base_uri": "https://localhost:8080/",
          "height": 121
        },
        "outputId": "45b721f3-dd8f-42ab-b7fa-80ad2d1abf0c"
      },
      "source": [
        "r_gridsearch.best_estimator_"
      ],
      "execution_count": 111,
      "outputs": [
        {
          "output_type": "execute_result",
          "data": {
            "text/plain": [
              "RandomForestRegressor(bootstrap=True, criterion='mse', max_depth=10,\n",
              "           max_features='auto', max_leaf_nodes=None,\n",
              "           min_impurity_decrease=0.0, min_impurity_split=None,\n",
              "           min_samples_leaf=1, min_samples_split=2,\n",
              "           min_weight_fraction_leaf=0.0, n_estimators=200, n_jobs=-1,\n",
              "           oob_score=False, random_state=42, verbose=0, warm_start=False)"
            ]
          },
          "metadata": {
            "tags": []
          },
          "execution_count": 111
        }
      ]
    },
    {
      "cell_type": "code",
      "metadata": {
        "id": "3paNPHSpIyeN",
        "colab_type": "code",
        "colab": {
          "base_uri": "https://localhost:8080/",
          "height": 326
        },
        "outputId": "ba368966-b966-45aa-bff6-bb066d9c2fbe"
      },
      "source": [
        "X_train.head()"
      ],
      "execution_count": 112,
      "outputs": [
        {
          "output_type": "execute_result",
          "data": {
            "text/html": [
              "<div>\n",
              "<style scoped>\n",
              "    .dataframe tbody tr th:only-of-type {\n",
              "        vertical-align: middle;\n",
              "    }\n",
              "\n",
              "    .dataframe tbody tr th {\n",
              "        vertical-align: top;\n",
              "    }\n",
              "\n",
              "    .dataframe thead th {\n",
              "        text-align: right;\n",
              "    }\n",
              "</style>\n",
              "<table border=\"1\" class=\"dataframe\">\n",
              "  <thead>\n",
              "    <tr style=\"text-align: right;\">\n",
              "      <th></th>\n",
              "      <th>PRCP</th>\n",
              "      <th>SNOW</th>\n",
              "      <th>SNWD</th>\n",
              "      <th>TMAX</th>\n",
              "      <th>TMIN</th>\n",
              "      <th>AWND</th>\n",
              "      <th>Total_yesterday</th>\n",
              "      <th>Mon</th>\n",
              "      <th>Tue</th>\n",
              "      <th>Wed</th>\n",
              "      <th>Thu</th>\n",
              "      <th>Fri</th>\n",
              "      <th>Sat</th>\n",
              "      <th>Sun</th>\n",
              "      <th>holiday</th>\n",
              "      <th>daylight_hrs</th>\n",
              "      <th>Temp (C)</th>\n",
              "      <th>dry day</th>\n",
              "      <th>annual</th>\n",
              "    </tr>\n",
              "  </thead>\n",
              "  <tbody>\n",
              "    <tr>\n",
              "      <th>2012-10-04</th>\n",
              "      <td>0.0</td>\n",
              "      <td>0</td>\n",
              "      <td>0</td>\n",
              "      <td>18.9</td>\n",
              "      <td>8.3</td>\n",
              "      <td>65</td>\n",
              "      <td>3521.0</td>\n",
              "      <td>0.0</td>\n",
              "      <td>0.0</td>\n",
              "      <td>0.0</td>\n",
              "      <td>1.0</td>\n",
              "      <td>0.0</td>\n",
              "      <td>0.0</td>\n",
              "      <td>0.0</td>\n",
              "      <td>0.0</td>\n",
              "      <td>11.219142</td>\n",
              "      <td>13.60</td>\n",
              "      <td>1</td>\n",
              "      <td>0.000000</td>\n",
              "    </tr>\n",
              "    <tr>\n",
              "      <th>2012-10-05</th>\n",
              "      <td>0.0</td>\n",
              "      <td>0</td>\n",
              "      <td>0</td>\n",
              "      <td>21.7</td>\n",
              "      <td>8.9</td>\n",
              "      <td>57</td>\n",
              "      <td>3475.0</td>\n",
              "      <td>0.0</td>\n",
              "      <td>0.0</td>\n",
              "      <td>0.0</td>\n",
              "      <td>0.0</td>\n",
              "      <td>1.0</td>\n",
              "      <td>0.0</td>\n",
              "      <td>0.0</td>\n",
              "      <td>0.0</td>\n",
              "      <td>11.161038</td>\n",
              "      <td>15.30</td>\n",
              "      <td>1</td>\n",
              "      <td>0.002740</td>\n",
              "    </tr>\n",
              "    <tr>\n",
              "      <th>2012-10-06</th>\n",
              "      <td>0.0</td>\n",
              "      <td>0</td>\n",
              "      <td>0</td>\n",
              "      <td>23.9</td>\n",
              "      <td>7.8</td>\n",
              "      <td>51</td>\n",
              "      <td>3148.0</td>\n",
              "      <td>0.0</td>\n",
              "      <td>0.0</td>\n",
              "      <td>0.0</td>\n",
              "      <td>0.0</td>\n",
              "      <td>0.0</td>\n",
              "      <td>1.0</td>\n",
              "      <td>0.0</td>\n",
              "      <td>0.0</td>\n",
              "      <td>11.103056</td>\n",
              "      <td>15.85</td>\n",
              "      <td>1</td>\n",
              "      <td>0.005479</td>\n",
              "    </tr>\n",
              "    <tr>\n",
              "      <th>2012-10-07</th>\n",
              "      <td>0.0</td>\n",
              "      <td>0</td>\n",
              "      <td>0</td>\n",
              "      <td>23.9</td>\n",
              "      <td>7.8</td>\n",
              "      <td>13</td>\n",
              "      <td>2006.0</td>\n",
              "      <td>0.0</td>\n",
              "      <td>0.0</td>\n",
              "      <td>0.0</td>\n",
              "      <td>0.0</td>\n",
              "      <td>0.0</td>\n",
              "      <td>0.0</td>\n",
              "      <td>1.0</td>\n",
              "      <td>0.0</td>\n",
              "      <td>11.045208</td>\n",
              "      <td>15.85</td>\n",
              "      <td>1</td>\n",
              "      <td>0.008219</td>\n",
              "    </tr>\n",
              "    <tr>\n",
              "      <th>2012-10-08</th>\n",
              "      <td>0.0</td>\n",
              "      <td>0</td>\n",
              "      <td>0</td>\n",
              "      <td>21.1</td>\n",
              "      <td>7.8</td>\n",
              "      <td>19</td>\n",
              "      <td>2142.0</td>\n",
              "      <td>1.0</td>\n",
              "      <td>0.0</td>\n",
              "      <td>0.0</td>\n",
              "      <td>0.0</td>\n",
              "      <td>0.0</td>\n",
              "      <td>0.0</td>\n",
              "      <td>0.0</td>\n",
              "      <td>1.0</td>\n",
              "      <td>10.987503</td>\n",
              "      <td>14.45</td>\n",
              "      <td>1</td>\n",
              "      <td>0.010959</td>\n",
              "    </tr>\n",
              "  </tbody>\n",
              "</table>\n",
              "</div>"
            ],
            "text/plain": [
              "            PRCP  SNOW  SNWD  TMAX  TMIN  AWND  Total_yesterday  Mon  Tue  \\\n",
              "2012-10-04   0.0     0     0  18.9   8.3    65           3521.0  0.0  0.0   \n",
              "2012-10-05   0.0     0     0  21.7   8.9    57           3475.0  0.0  0.0   \n",
              "2012-10-06   0.0     0     0  23.9   7.8    51           3148.0  0.0  0.0   \n",
              "2012-10-07   0.0     0     0  23.9   7.8    13           2006.0  0.0  0.0   \n",
              "2012-10-08   0.0     0     0  21.1   7.8    19           2142.0  1.0  0.0   \n",
              "\n",
              "            Wed  Thu  Fri  Sat  Sun  holiday  daylight_hrs  Temp (C)  dry day  \\\n",
              "2012-10-04  0.0  1.0  0.0  0.0  0.0      0.0     11.219142     13.60        1   \n",
              "2012-10-05  0.0  0.0  1.0  0.0  0.0      0.0     11.161038     15.30        1   \n",
              "2012-10-06  0.0  0.0  0.0  1.0  0.0      0.0     11.103056     15.85        1   \n",
              "2012-10-07  0.0  0.0  0.0  0.0  1.0      0.0     11.045208     15.85        1   \n",
              "2012-10-08  0.0  0.0  0.0  0.0  0.0      1.0     10.987503     14.45        1   \n",
              "\n",
              "              annual  \n",
              "2012-10-04  0.000000  \n",
              "2012-10-05  0.002740  \n",
              "2012-10-06  0.005479  \n",
              "2012-10-07  0.008219  \n",
              "2012-10-08  0.010959  "
            ]
          },
          "metadata": {
            "tags": []
          },
          "execution_count": 112
        }
      ]
    },
    {
      "cell_type": "code",
      "metadata": {
        "id": "7pQF9l9-QiWQ",
        "colab_type": "code",
        "colab": {}
      },
      "source": [
        "# Drop function\n",
        "def drop(df, col):\n",
        "  return df.drop(columns=col)"
      ],
      "execution_count": 0,
      "outputs": []
    },
    {
      "cell_type": "code",
      "metadata": {
        "id": "X4Ck0IkGJNTO",
        "colab_type": "code",
        "colab": {}
      },
      "source": [
        "##### FEATURE ENGINEERING #####\n",
        "\n",
        "# New feature - Room temperature. Tested and little affect on model\n",
        "X_train['Room Temp'] = ((X_train['Temp (C)'] >= 20) & (X_train['Temp (C)'] <= 22.22)).astype(int)\n",
        "\n",
        "# New feature - Cold\n",
        "X_train['Cold'] = (X_train['Temp (C)'] <= 0).astype(int)\n",
        "\n",
        "# New feature - Hot\n",
        "X_train['Hot'] = (X_train['Temp (C)'] >= 26.66).astype(int)\n"
      ],
      "execution_count": 0,
      "outputs": []
    },
    {
      "cell_type": "code",
      "metadata": {
        "id": "VFvmHiecSr_M",
        "colab_type": "code",
        "colab": {
          "base_uri": "https://localhost:8080/",
          "height": 355
        },
        "outputId": "a8e798d6-af14-44cc-f6d4-e8aaf72efc79"
      },
      "source": [
        "X_train.head()"
      ],
      "execution_count": 165,
      "outputs": [
        {
          "output_type": "execute_result",
          "data": {
            "text/html": [
              "<div>\n",
              "<style scoped>\n",
              "    .dataframe tbody tr th:only-of-type {\n",
              "        vertical-align: middle;\n",
              "    }\n",
              "\n",
              "    .dataframe tbody tr th {\n",
              "        vertical-align: top;\n",
              "    }\n",
              "\n",
              "    .dataframe thead th {\n",
              "        text-align: right;\n",
              "    }\n",
              "</style>\n",
              "<table border=\"1\" class=\"dataframe\">\n",
              "  <thead>\n",
              "    <tr style=\"text-align: right;\">\n",
              "      <th></th>\n",
              "      <th>PRCP</th>\n",
              "      <th>SNOW</th>\n",
              "      <th>SNWD</th>\n",
              "      <th>TMAX</th>\n",
              "      <th>TMIN</th>\n",
              "      <th>AWND</th>\n",
              "      <th>Total_yesterday</th>\n",
              "      <th>Mon</th>\n",
              "      <th>Tue</th>\n",
              "      <th>Wed</th>\n",
              "      <th>...</th>\n",
              "      <th>Sat</th>\n",
              "      <th>Sun</th>\n",
              "      <th>holiday</th>\n",
              "      <th>daylight_hrs</th>\n",
              "      <th>Temp (C)</th>\n",
              "      <th>dry day</th>\n",
              "      <th>annual</th>\n",
              "      <th>Cold</th>\n",
              "      <th>Hot</th>\n",
              "      <th>Room Temp</th>\n",
              "    </tr>\n",
              "  </thead>\n",
              "  <tbody>\n",
              "    <tr>\n",
              "      <th>2012-10-04</th>\n",
              "      <td>0.0</td>\n",
              "      <td>0</td>\n",
              "      <td>0</td>\n",
              "      <td>18.9</td>\n",
              "      <td>8.3</td>\n",
              "      <td>65</td>\n",
              "      <td>3521.0</td>\n",
              "      <td>0.0</td>\n",
              "      <td>0.0</td>\n",
              "      <td>0.0</td>\n",
              "      <td>...</td>\n",
              "      <td>0.0</td>\n",
              "      <td>0.0</td>\n",
              "      <td>0.0</td>\n",
              "      <td>11.219142</td>\n",
              "      <td>13.60</td>\n",
              "      <td>1</td>\n",
              "      <td>0.000000</td>\n",
              "      <td>0</td>\n",
              "      <td>0</td>\n",
              "      <td>0</td>\n",
              "    </tr>\n",
              "    <tr>\n",
              "      <th>2012-10-05</th>\n",
              "      <td>0.0</td>\n",
              "      <td>0</td>\n",
              "      <td>0</td>\n",
              "      <td>21.7</td>\n",
              "      <td>8.9</td>\n",
              "      <td>57</td>\n",
              "      <td>3475.0</td>\n",
              "      <td>0.0</td>\n",
              "      <td>0.0</td>\n",
              "      <td>0.0</td>\n",
              "      <td>...</td>\n",
              "      <td>0.0</td>\n",
              "      <td>0.0</td>\n",
              "      <td>0.0</td>\n",
              "      <td>11.161038</td>\n",
              "      <td>15.30</td>\n",
              "      <td>1</td>\n",
              "      <td>0.002740</td>\n",
              "      <td>0</td>\n",
              "      <td>0</td>\n",
              "      <td>0</td>\n",
              "    </tr>\n",
              "    <tr>\n",
              "      <th>2012-10-06</th>\n",
              "      <td>0.0</td>\n",
              "      <td>0</td>\n",
              "      <td>0</td>\n",
              "      <td>23.9</td>\n",
              "      <td>7.8</td>\n",
              "      <td>51</td>\n",
              "      <td>3148.0</td>\n",
              "      <td>0.0</td>\n",
              "      <td>0.0</td>\n",
              "      <td>0.0</td>\n",
              "      <td>...</td>\n",
              "      <td>1.0</td>\n",
              "      <td>0.0</td>\n",
              "      <td>0.0</td>\n",
              "      <td>11.103056</td>\n",
              "      <td>15.85</td>\n",
              "      <td>1</td>\n",
              "      <td>0.005479</td>\n",
              "      <td>0</td>\n",
              "      <td>0</td>\n",
              "      <td>0</td>\n",
              "    </tr>\n",
              "    <tr>\n",
              "      <th>2012-10-07</th>\n",
              "      <td>0.0</td>\n",
              "      <td>0</td>\n",
              "      <td>0</td>\n",
              "      <td>23.9</td>\n",
              "      <td>7.8</td>\n",
              "      <td>13</td>\n",
              "      <td>2006.0</td>\n",
              "      <td>0.0</td>\n",
              "      <td>0.0</td>\n",
              "      <td>0.0</td>\n",
              "      <td>...</td>\n",
              "      <td>0.0</td>\n",
              "      <td>1.0</td>\n",
              "      <td>0.0</td>\n",
              "      <td>11.045208</td>\n",
              "      <td>15.85</td>\n",
              "      <td>1</td>\n",
              "      <td>0.008219</td>\n",
              "      <td>0</td>\n",
              "      <td>0</td>\n",
              "      <td>0</td>\n",
              "    </tr>\n",
              "    <tr>\n",
              "      <th>2012-10-08</th>\n",
              "      <td>0.0</td>\n",
              "      <td>0</td>\n",
              "      <td>0</td>\n",
              "      <td>21.1</td>\n",
              "      <td>7.8</td>\n",
              "      <td>19</td>\n",
              "      <td>2142.0</td>\n",
              "      <td>1.0</td>\n",
              "      <td>0.0</td>\n",
              "      <td>0.0</td>\n",
              "      <td>...</td>\n",
              "      <td>0.0</td>\n",
              "      <td>0.0</td>\n",
              "      <td>1.0</td>\n",
              "      <td>10.987503</td>\n",
              "      <td>14.45</td>\n",
              "      <td>1</td>\n",
              "      <td>0.010959</td>\n",
              "      <td>0</td>\n",
              "      <td>0</td>\n",
              "      <td>0</td>\n",
              "    </tr>\n",
              "  </tbody>\n",
              "</table>\n",
              "<p>5 rows × 22 columns</p>\n",
              "</div>"
            ],
            "text/plain": [
              "            PRCP  SNOW  SNWD  TMAX  TMIN  AWND  Total_yesterday  Mon  Tue  \\\n",
              "2012-10-04   0.0     0     0  18.9   8.3    65           3521.0  0.0  0.0   \n",
              "2012-10-05   0.0     0     0  21.7   8.9    57           3475.0  0.0  0.0   \n",
              "2012-10-06   0.0     0     0  23.9   7.8    51           3148.0  0.0  0.0   \n",
              "2012-10-07   0.0     0     0  23.9   7.8    13           2006.0  0.0  0.0   \n",
              "2012-10-08   0.0     0     0  21.1   7.8    19           2142.0  1.0  0.0   \n",
              "\n",
              "            Wed  ...  Sat  Sun  holiday  daylight_hrs  Temp (C)  dry day  \\\n",
              "2012-10-04  0.0  ...  0.0  0.0      0.0     11.219142     13.60        1   \n",
              "2012-10-05  0.0  ...  0.0  0.0      0.0     11.161038     15.30        1   \n",
              "2012-10-06  0.0  ...  1.0  0.0      0.0     11.103056     15.85        1   \n",
              "2012-10-07  0.0  ...  0.0  1.0      0.0     11.045208     15.85        1   \n",
              "2012-10-08  0.0  ...  0.0  0.0      1.0     10.987503     14.45        1   \n",
              "\n",
              "              annual  Cold  Hot  Room Temp  \n",
              "2012-10-04  0.000000     0    0          0  \n",
              "2012-10-05  0.002740     0    0          0  \n",
              "2012-10-06  0.005479     0    0          0  \n",
              "2012-10-07  0.008219     0    0          0  \n",
              "2012-10-08  0.010959     0    0          0  \n",
              "\n",
              "[5 rows x 22 columns]"
            ]
          },
          "metadata": {
            "tags": []
          },
          "execution_count": 165
        }
      ]
    },
    {
      "cell_type": "code",
      "metadata": {
        "id": "jV92KSunKCre",
        "colab_type": "code",
        "colab": {
          "base_uri": "https://localhost:8080/",
          "height": 141
        },
        "outputId": "6053a0c1-28e4-4c94-c574-ddf0bccc00bd"
      },
      "source": [
        "#Linear Regression\n",
        "\n",
        "#Score\n",
        "scores = cross_validate(LinearRegression(), X_train, y_train, scoring='neg_mean_absolute_error', \n",
        "                        cv=3, return_train_score=True, return_estimator=True)\n",
        "\n",
        "pd.DataFrame(scores)"
      ],
      "execution_count": 166,
      "outputs": [
        {
          "output_type": "execute_result",
          "data": {
            "text/html": [
              "<div>\n",
              "<style scoped>\n",
              "    .dataframe tbody tr th:only-of-type {\n",
              "        vertical-align: middle;\n",
              "    }\n",
              "\n",
              "    .dataframe tbody tr th {\n",
              "        vertical-align: top;\n",
              "    }\n",
              "\n",
              "    .dataframe thead th {\n",
              "        text-align: right;\n",
              "    }\n",
              "</style>\n",
              "<table border=\"1\" class=\"dataframe\">\n",
              "  <thead>\n",
              "    <tr style=\"text-align: right;\">\n",
              "      <th></th>\n",
              "      <th>fit_time</th>\n",
              "      <th>score_time</th>\n",
              "      <th>estimator</th>\n",
              "      <th>test_score</th>\n",
              "      <th>train_score</th>\n",
              "    </tr>\n",
              "  </thead>\n",
              "  <tbody>\n",
              "    <tr>\n",
              "      <th>0</th>\n",
              "      <td>0.015598</td>\n",
              "      <td>0.002011</td>\n",
              "      <td>LinearRegression(copy_X=True, fit_intercept=Tr...</td>\n",
              "      <td>-306.071628</td>\n",
              "      <td>-289.496384</td>\n",
              "    </tr>\n",
              "    <tr>\n",
              "      <th>1</th>\n",
              "      <td>0.004085</td>\n",
              "      <td>0.001551</td>\n",
              "      <td>LinearRegression(copy_X=True, fit_intercept=Tr...</td>\n",
              "      <td>-297.880104</td>\n",
              "      <td>-282.935853</td>\n",
              "    </tr>\n",
              "    <tr>\n",
              "      <th>2</th>\n",
              "      <td>0.007616</td>\n",
              "      <td>0.001634</td>\n",
              "      <td>LinearRegression(copy_X=True, fit_intercept=Tr...</td>\n",
              "      <td>-322.712371</td>\n",
              "      <td>-281.999342</td>\n",
              "    </tr>\n",
              "  </tbody>\n",
              "</table>\n",
              "</div>"
            ],
            "text/plain": [
              "   fit_time  score_time                                          estimator  \\\n",
              "0  0.015598    0.002011  LinearRegression(copy_X=True, fit_intercept=Tr...   \n",
              "1  0.004085    0.001551  LinearRegression(copy_X=True, fit_intercept=Tr...   \n",
              "2  0.007616    0.001634  LinearRegression(copy_X=True, fit_intercept=Tr...   \n",
              "\n",
              "   test_score  train_score  \n",
              "0 -306.071628  -289.496384  \n",
              "1 -297.880104  -282.935853  \n",
              "2 -322.712371  -281.999342  "
            ]
          },
          "metadata": {
            "tags": []
          },
          "execution_count": 166
        }
      ]
    },
    {
      "cell_type": "code",
      "metadata": {
        "id": "JiWkDJTLLs56",
        "colab_type": "code",
        "colab": {
          "base_uri": "https://localhost:8080/",
          "height": 35
        },
        "outputId": "5fc43db3-732f-4cc7-d1b3-b22c6b5e3c4b"
      },
      "source": [
        "-scores['test_score'].mean()"
      ],
      "execution_count": 167,
      "outputs": [
        {
          "output_type": "execute_result",
          "data": {
            "text/plain": [
              "308.88803419153413"
            ]
          },
          "metadata": {
            "tags": []
          },
          "execution_count": 167
        }
      ]
    },
    {
      "cell_type": "code",
      "metadata": {
        "id": "3scXatycLyHG",
        "colab_type": "code",
        "colab": {
          "base_uri": "https://localhost:8080/",
          "height": 347
        },
        "outputId": "864fab62-4dc9-481a-d5f5-bb87cf0ac743"
      },
      "source": [
        "# Random Forest Randomized Search\n",
        "\n",
        "param_distributions = {\n",
        "    'n_estimators': [100],\n",
        "    'max_depth': [5,10,15],\n",
        "    'criterion': ['mae']\n",
        "}\n",
        "\n",
        "r_gridsearch = RandomizedSearchCV(\n",
        "    RandomForestRegressor(n_jobs=-1, random_state=42),\n",
        "    param_distributions=param_distributions,\n",
        "    n_iter=3,\n",
        "    cv=3,\n",
        "    scoring='neg_mean_absolute_error',\n",
        "    verbose=10,\n",
        "    return_train_score=True,\n",
        "    n_jobs=-1\n",
        ")\n",
        "\n",
        "r_gridsearch.fit(X_train, y_train)"
      ],
      "execution_count": 168,
      "outputs": [
        {
          "output_type": "stream",
          "text": [
            "Fitting 3 folds for each of 3 candidates, totalling 9 fits\n"
          ],
          "name": "stdout"
        },
        {
          "output_type": "stream",
          "text": [
            "[Parallel(n_jobs=-1)]: Using backend LokyBackend with 2 concurrent workers.\n",
            "[Parallel(n_jobs=-1)]: Done   1 tasks      | elapsed:    2.4s\n",
            "[Parallel(n_jobs=-1)]: Done   4 tasks      | elapsed:    6.0s\n",
            "[Parallel(n_jobs=-1)]: Done   7 out of   9 | elapsed:   12.5s remaining:    3.6s\n",
            "[Parallel(n_jobs=-1)]: Done   9 out of   9 | elapsed:   14.8s finished\n",
            "[Parallel(n_jobs=-1)]: Done   9 out of   9 | elapsed:   14.8s remaining:    0.0s\n"
          ],
          "name": "stderr"
        },
        {
          "output_type": "execute_result",
          "data": {
            "text/plain": [
              "RandomizedSearchCV(cv=3, error_score='raise-deprecating',\n",
              "          estimator=RandomForestRegressor(bootstrap=True, criterion='mse', max_depth=None,\n",
              "           max_features='auto', max_leaf_nodes=None,\n",
              "           min_impurity_decrease=0.0, min_impurity_split=None,\n",
              "           min_samples_leaf=1, min_samples_split=2,\n",
              "           min_weight_fraction_leaf=0.0, n_estimators='warn', n_jobs=-1,\n",
              "           oob_score=False, random_state=42, verbose=0, warm_start=False),\n",
              "          fit_params=None, iid='warn', n_iter=3, n_jobs=-1,\n",
              "          param_distributions={'n_estimators': [100], 'max_depth': [5, 10, 15], 'criterion': ['mae']},\n",
              "          pre_dispatch='2*n_jobs', random_state=None, refit=True,\n",
              "          return_train_score=True, scoring='neg_mean_absolute_error',\n",
              "          verbose=10)"
            ]
          },
          "metadata": {
            "tags": []
          },
          "execution_count": 168
        }
      ]
    },
    {
      "cell_type": "code",
      "metadata": {
        "id": "CskQbDGNPSq3",
        "colab_type": "code",
        "colab": {
          "base_uri": "https://localhost:8080/",
          "height": 317
        },
        "outputId": "9e606a13-64ee-4942-fb8a-f643a3ef1deb"
      },
      "source": [
        "pd.DataFrame(r_gridsearch.cv_results_).sort_values(by='rank_test_score')"
      ],
      "execution_count": 169,
      "outputs": [
        {
          "output_type": "execute_result",
          "data": {
            "text/html": [
              "<div>\n",
              "<style scoped>\n",
              "    .dataframe tbody tr th:only-of-type {\n",
              "        vertical-align: middle;\n",
              "    }\n",
              "\n",
              "    .dataframe tbody tr th {\n",
              "        vertical-align: top;\n",
              "    }\n",
              "\n",
              "    .dataframe thead th {\n",
              "        text-align: right;\n",
              "    }\n",
              "</style>\n",
              "<table border=\"1\" class=\"dataframe\">\n",
              "  <thead>\n",
              "    <tr style=\"text-align: right;\">\n",
              "      <th></th>\n",
              "      <th>mean_fit_time</th>\n",
              "      <th>std_fit_time</th>\n",
              "      <th>mean_score_time</th>\n",
              "      <th>std_score_time</th>\n",
              "      <th>param_n_estimators</th>\n",
              "      <th>param_max_depth</th>\n",
              "      <th>param_criterion</th>\n",
              "      <th>params</th>\n",
              "      <th>split0_test_score</th>\n",
              "      <th>split1_test_score</th>\n",
              "      <th>split2_test_score</th>\n",
              "      <th>mean_test_score</th>\n",
              "      <th>std_test_score</th>\n",
              "      <th>rank_test_score</th>\n",
              "      <th>split0_train_score</th>\n",
              "      <th>split1_train_score</th>\n",
              "      <th>split2_train_score</th>\n",
              "      <th>mean_train_score</th>\n",
              "      <th>std_train_score</th>\n",
              "    </tr>\n",
              "  </thead>\n",
              "  <tbody>\n",
              "    <tr>\n",
              "      <th>2</th>\n",
              "      <td>3.087710</td>\n",
              "      <td>0.645201</td>\n",
              "      <td>0.113317</td>\n",
              "      <td>0.007279</td>\n",
              "      <td>100</td>\n",
              "      <td>15</td>\n",
              "      <td>mae</td>\n",
              "      <td>{'n_estimators': 100, 'max_depth': 15, 'criter...</td>\n",
              "      <td>-346.689720</td>\n",
              "      <td>-322.019315</td>\n",
              "      <td>-303.620639</td>\n",
              "      <td>-324.109891</td>\n",
              "      <td>17.644911</td>\n",
              "      <td>1</td>\n",
              "      <td>-112.078910</td>\n",
              "      <td>-103.654852</td>\n",
              "      <td>-115.282383</td>\n",
              "      <td>-110.338715</td>\n",
              "      <td>4.903813</td>\n",
              "    </tr>\n",
              "    <tr>\n",
              "      <th>1</th>\n",
              "      <td>3.249569</td>\n",
              "      <td>0.027128</td>\n",
              "      <td>0.113043</td>\n",
              "      <td>0.002706</td>\n",
              "      <td>100</td>\n",
              "      <td>10</td>\n",
              "      <td>mae</td>\n",
              "      <td>{'n_estimators': 100, 'max_depth': 10, 'criter...</td>\n",
              "      <td>-349.097477</td>\n",
              "      <td>-324.146402</td>\n",
              "      <td>-301.874003</td>\n",
              "      <td>-325.039294</td>\n",
              "      <td>19.289238</td>\n",
              "      <td>2</td>\n",
              "      <td>-142.402290</td>\n",
              "      <td>-128.134977</td>\n",
              "      <td>-144.891986</td>\n",
              "      <td>-138.476417</td>\n",
              "      <td>7.382804</td>\n",
              "    </tr>\n",
              "    <tr>\n",
              "      <th>0</th>\n",
              "      <td>2.317899</td>\n",
              "      <td>0.108210</td>\n",
              "      <td>0.111145</td>\n",
              "      <td>0.008242</td>\n",
              "      <td>100</td>\n",
              "      <td>5</td>\n",
              "      <td>mae</td>\n",
              "      <td>{'n_estimators': 100, 'max_depth': 5, 'criteri...</td>\n",
              "      <td>-362.779081</td>\n",
              "      <td>-386.728178</td>\n",
              "      <td>-337.792056</td>\n",
              "      <td>-362.433105</td>\n",
              "      <td>19.979586</td>\n",
              "      <td>3</td>\n",
              "      <td>-298.992726</td>\n",
              "      <td>-265.850382</td>\n",
              "      <td>-295.139198</td>\n",
              "      <td>-286.660768</td>\n",
              "      <td>14.799022</td>\n",
              "    </tr>\n",
              "  </tbody>\n",
              "</table>\n",
              "</div>"
            ],
            "text/plain": [
              "   mean_fit_time  std_fit_time  mean_score_time  std_score_time  \\\n",
              "2       3.087710      0.645201         0.113317        0.007279   \n",
              "1       3.249569      0.027128         0.113043        0.002706   \n",
              "0       2.317899      0.108210         0.111145        0.008242   \n",
              "\n",
              "  param_n_estimators param_max_depth param_criterion  \\\n",
              "2                100              15             mae   \n",
              "1                100              10             mae   \n",
              "0                100               5             mae   \n",
              "\n",
              "                                              params  split0_test_score  \\\n",
              "2  {'n_estimators': 100, 'max_depth': 15, 'criter...        -346.689720   \n",
              "1  {'n_estimators': 100, 'max_depth': 10, 'criter...        -349.097477   \n",
              "0  {'n_estimators': 100, 'max_depth': 5, 'criteri...        -362.779081   \n",
              "\n",
              "   split1_test_score  split2_test_score  mean_test_score  std_test_score  \\\n",
              "2        -322.019315        -303.620639      -324.109891       17.644911   \n",
              "1        -324.146402        -301.874003      -325.039294       19.289238   \n",
              "0        -386.728178        -337.792056      -362.433105       19.979586   \n",
              "\n",
              "   rank_test_score  split0_train_score  split1_train_score  \\\n",
              "2                1         -112.078910         -103.654852   \n",
              "1                2         -142.402290         -128.134977   \n",
              "0                3         -298.992726         -265.850382   \n",
              "\n",
              "   split2_train_score  mean_train_score  std_train_score  \n",
              "2         -115.282383       -110.338715         4.903813  \n",
              "1         -144.891986       -138.476417         7.382804  \n",
              "0         -295.139198       -286.660768        14.799022  "
            ]
          },
          "metadata": {
            "tags": []
          },
          "execution_count": 169
        }
      ]
    },
    {
      "cell_type": "code",
      "metadata": {
        "id": "4ecbiO_vPme_",
        "colab_type": "code",
        "colab": {
          "base_uri": "https://localhost:8080/",
          "height": 121
        },
        "outputId": "d310304e-dd67-48fb-cf68-6f705e3830f1"
      },
      "source": [
        "r_gridsearch.best_estimator_"
      ],
      "execution_count": 170,
      "outputs": [
        {
          "output_type": "execute_result",
          "data": {
            "text/plain": [
              "RandomForestRegressor(bootstrap=True, criterion='mae', max_depth=15,\n",
              "           max_features='auto', max_leaf_nodes=None,\n",
              "           min_impurity_decrease=0.0, min_impurity_split=None,\n",
              "           min_samples_leaf=1, min_samples_split=2,\n",
              "           min_weight_fraction_leaf=0.0, n_estimators=100, n_jobs=-1,\n",
              "           oob_score=False, random_state=42, verbose=0, warm_start=False)"
            ]
          },
          "metadata": {
            "tags": []
          },
          "execution_count": 170
        }
      ]
    },
    {
      "cell_type": "code",
      "metadata": {
        "id": "egLW8jtyTpnf",
        "colab_type": "code",
        "colab": {}
      },
      "source": [
        ""
      ],
      "execution_count": 0,
      "outputs": []
    }
  ]
}