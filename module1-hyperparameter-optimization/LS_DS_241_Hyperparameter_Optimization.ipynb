{
  "nbformat": 4,
  "nbformat_minor": 0,
  "metadata": {
    "colab": {
      "name": "Copy of LS_DS_243_Select_models_and_parameters.ipynb",
      "version": "0.3.2",
      "provenance": [],
      "collapsed_sections": []
    },
    "language_info": {
      "codemirror_mode": {
        "name": "ipython",
        "version": 3
      },
      "file_extension": ".py",
      "mimetype": "text/x-python",
      "name": "python",
      "nbconvert_exporter": "python",
      "pygments_lexer": "ipython3",
      "version": "3.7.1"
    },
    "kernelspec": {
      "display_name": "Python 3",
      "language": "python",
      "name": "python3"
    }
  },
  "cells": [
    {
      "cell_type": "markdown",
      "metadata": {
        "colab_type": "text",
        "id": "O67uhlT4MExK"
      },
      "source": [
        "_Lambda School Data Science — Practicing & Understanding Predictive Modeling_\n",
        "\n",
        "# Hyperparameter Optimization"
      ]
    },
    {
      "cell_type": "markdown",
      "metadata": {
        "colab_type": "text",
        "id": "VE4rfZd4NUGA"
      },
      "source": [
        "Today we'll use this process:\n",
        "\n",
        "## \"A universal workflow of machine learning\"\n",
        "\n",
        "_Excerpt from Francois Chollet, [Deep Learning with Python](https://github.com/fchollet/deep-learning-with-python-notebooks/blob/master/README.md), Chapter 4: Fundamentals of machine learning_\n",
        " \n",
        "**1. Define the problem at hand and the data on which you’ll train.** Collect this data, or annotate it with labels if need be.\n",
        "\n",
        "**2. Choose how you’ll measure success on your problem.** Which metrics will you monitor on your validation data?\n",
        "\n",
        "**3. Determine your evaluation protocol:** hold-out validation? K-fold validation? Which portion of the data should you use for validation?\n",
        "\n",
        "**4. Develop a first model that does better than a basic baseline:** a model with statistical power.\n",
        "\n",
        "**5. Develop a model that overfits.** The universal tension in machine learning is between optimization and generalization; the ideal model is one that stands right at the border between underfitting and overfitting; between undercapacity and overcapacity. To figure out where this border lies, first you must cross it.\n",
        "\n",
        "**6. Regularize your model and tune its hyperparameters, based on performance on the validation data.** Repeatedly modify your model, train it, evaluate on your validation data (not the test data, at this point), modify it again, and repeat, until the model is as good as it can get. \n",
        "\n",
        "**Iterate on feature engineering: add new features, or remove features that don’t seem to be informative.** \n",
        "\n",
        "Once you’ve developed a satisfactory model configuration, you can **train your final production model on all the available data (training and validation) and evaluate it one last time on the test set.**\n"
      ]
    },
    {
      "cell_type": "markdown",
      "metadata": {
        "colab_type": "text",
        "id": "3kt6bzEcOIaa"
      },
      "source": [
        "## 1. Define the problem at hand and the data on which you'll train"
      ]
    },
    {
      "cell_type": "markdown",
      "metadata": {
        "colab_type": "text",
        "id": "di16k7vpRg67"
      },
      "source": [
        "We'll apply the workflow to a [project from _Python Data Science Handbook_](https://jakevdp.github.io/PythonDataScienceHandbook/05.06-linear-regression.html#Example:-Predicting-Bicycle-Traffic) by Jake VanderPlas:\n",
        "\n",
        "> **Predicting Bicycle Traffic**\n",
        "\n",
        "> As an example, let's take a look at whether we can predict the number of bicycle trips across Seattle's Fremont Bridge based on weather, season, and other factors.\n",
        "\n",
        "> We will join the bike data with another dataset, and try to determine the extent to which weather and seasonal factors—temperature, precipitation, and daylight hours—affect the volume of bicycle traffic through this corridor. Fortunately, the NOAA makes available their daily [weather station data](http://www.ncdc.noaa.gov/cdo-web/search?datasetid=GHCND) (I used station ID USW00024233) and we can easily use Pandas to join the two data sources.\n",
        "\n",
        "> Let's start by loading the two datasets, indexing by date:"
      ]
    },
    {
      "cell_type": "markdown",
      "metadata": {
        "colab_type": "text",
        "id": "19dpb_d0R1A6"
      },
      "source": [
        "So this is a regression problem, not a classification problem. We'll define the target, choose an evaluation metric, and choose models that are appropriate for regression problems.\n",
        "\n",
        "\n"
      ]
    },
    {
      "cell_type": "markdown",
      "metadata": {
        "colab_type": "text",
        "id": "os1zruXQ30KM"
      },
      "source": [
        "### Download data"
      ]
    },
    {
      "cell_type": "code",
      "metadata": {
        "colab_type": "code",
        "id": "5XVu-HSeMDtV",
        "colab": {
          "base_uri": "https://localhost:8080/",
          "height": 97
        },
        "outputId": "f9c24286-c346-425c-8d70-91454383a7f0"
      },
      "source": [
        "!curl -o FremontBridge.csv https://data.seattle.gov/api/views/65db-xm6k/rows.csv?accessType=DOWNLOAD"
      ],
      "execution_count": 1,
      "outputs": [
        {
          "output_type": "stream",
          "text": [
            "  % Total    % Received % Xferd  Average Speed   Time    Time     Time  Current\n",
            "                                 Dload  Upload   Total   Spent    Left  Speed\n",
            "100 1616k    0 1616k    0     0   328k      0 --:--:--  0:00:04 --:--:--  343k\n"
          ],
          "name": "stdout"
        }
      ]
    },
    {
      "cell_type": "code",
      "metadata": {
        "colab_type": "code",
        "id": "sih_7mTzMdfr",
        "colab": {
          "base_uri": "https://localhost:8080/",
          "height": 233
        },
        "outputId": "0faac9d3-5a09-4eeb-9e4a-7959f1b3c4b9"
      },
      "source": [
        "!wget https://raw.githubusercontent.com/jakevdp/PythonDataScienceHandbook/master/notebooks/data/BicycleWeather.csv"
      ],
      "execution_count": 2,
      "outputs": [
        {
          "output_type": "stream",
          "text": [
            "--2019-05-13 16:08:21--  https://raw.githubusercontent.com/jakevdp/PythonDataScienceHandbook/master/notebooks/data/BicycleWeather.csv\n",
            "Resolving raw.githubusercontent.com (raw.githubusercontent.com)... 151.101.0.133, 151.101.64.133, 151.101.128.133, ...\n",
            "Connecting to raw.githubusercontent.com (raw.githubusercontent.com)|151.101.0.133|:443... connected.\n",
            "HTTP request sent, awaiting response... 200 OK\n",
            "Length: 234945 (229K) [text/plain]\n",
            "Saving to: ‘BicycleWeather.csv’\n",
            "\n",
            "\rBicycleWeather.csv    0%[                    ]       0  --.-KB/s               \rBicycleWeather.csv  100%[===================>] 229.44K  --.-KB/s    in 0.03s   \n",
            "\n",
            "2019-05-13 16:08:22 (7.71 MB/s) - ‘BicycleWeather.csv’ saved [234945/234945]\n",
            "\n"
          ],
          "name": "stdout"
        }
      ]
    },
    {
      "cell_type": "markdown",
      "metadata": {
        "colab_type": "text",
        "id": "9GYm74kD34OQ"
      },
      "source": [
        "### Load data"
      ]
    },
    {
      "cell_type": "code",
      "metadata": {
        "colab_type": "code",
        "id": "BfQ7gE28MNdF",
        "colab": {}
      },
      "source": [
        "# Modified from cells 15, 16, and 20, at\n",
        "# https://jakevdp.github.io/PythonDataScienceHandbook/05.06-linear-regression.html#Example:-Predicting-Bicycle-Traffic\n",
        "\n",
        "import pandas as pd\n",
        "\n",
        "# Download and join data into a dataframe\n",
        "def load(): \n",
        "    fremont_bridge = 'https://data.seattle.gov/api/views/65db-xm6k/rows.csv?accessType=DOWNLOAD'\n",
        "    \n",
        "    bicycle_weather = 'https://raw.githubusercontent.com/jakevdp/PythonDataScienceHandbook/master/notebooks/data/BicycleWeather.csv'\n",
        "\n",
        "    counts = pd.read_csv(fremont_bridge, index_col='Date', parse_dates=True, \n",
        "                         infer_datetime_format=True)\n",
        "\n",
        "    weather = pd.read_csv(bicycle_weather, index_col='DATE', parse_dates=True, \n",
        "                          infer_datetime_format=True)\n",
        "\n",
        "    daily = counts.resample('d').sum()\n",
        "    daily['Total'] = daily.sum(axis=1)\n",
        "    daily = daily[['Total']] # remove other columns\n",
        "\n",
        "    weather_columns = ['PRCP', 'SNOW', 'SNWD', 'TMAX', 'TMIN', 'AWND']\n",
        "    daily = daily.join(weather[weather_columns], how='inner')\n",
        "    \n",
        "    # Make a feature for yesterday's total\n",
        "    daily['Total_yesterday'] = daily.Total.shift(1)\n",
        "    daily = daily.drop(index=daily.index[0])\n",
        "    \n",
        "    return daily\n",
        "\n",
        "daily = load()"
      ],
      "execution_count": 0,
      "outputs": []
    },
    {
      "cell_type": "markdown",
      "metadata": {
        "colab_type": "text",
        "id": "VVB3g4704An5"
      },
      "source": [
        "### First fast look at the data\n",
        "- What's the shape?\n",
        "- What's the date range?\n",
        "- What's the target and the features?"
      ]
    },
    {
      "cell_type": "code",
      "metadata": {
        "colab_type": "code",
        "id": "t50E2fTUWBBU",
        "colab": {
          "base_uri": "https://localhost:8080/",
          "height": 34
        },
        "outputId": "04720169-cede-4402-9eff-fe6170675c55"
      },
      "source": [
        "# TODO\n",
        "daily.shape"
      ],
      "execution_count": 5,
      "outputs": [
        {
          "output_type": "execute_result",
          "data": {
            "text/plain": [
              "(1063, 8)"
            ]
          },
          "metadata": {
            "tags": []
          },
          "execution_count": 5
        }
      ]
    },
    {
      "cell_type": "code",
      "metadata": {
        "id": "fOK1I0Ir9pGE",
        "colab_type": "code",
        "colab": {
          "base_uri": "https://localhost:8080/",
          "height": 111
        },
        "outputId": "3e3b3f4d-f3d7-45e7-e9b4-56733219b92c"
      },
      "source": [
        "daily.head(2)"
      ],
      "execution_count": 8,
      "outputs": [
        {
          "output_type": "execute_result",
          "data": {
            "text/html": [
              "<div>\n",
              "<style scoped>\n",
              "    .dataframe tbody tr th:only-of-type {\n",
              "        vertical-align: middle;\n",
              "    }\n",
              "\n",
              "    .dataframe tbody tr th {\n",
              "        vertical-align: top;\n",
              "    }\n",
              "\n",
              "    .dataframe thead th {\n",
              "        text-align: right;\n",
              "    }\n",
              "</style>\n",
              "<table border=\"1\" class=\"dataframe\">\n",
              "  <thead>\n",
              "    <tr style=\"text-align: right;\">\n",
              "      <th></th>\n",
              "      <th>Total</th>\n",
              "      <th>PRCP</th>\n",
              "      <th>SNOW</th>\n",
              "      <th>SNWD</th>\n",
              "      <th>TMAX</th>\n",
              "      <th>TMIN</th>\n",
              "      <th>AWND</th>\n",
              "      <th>Total_yesterday</th>\n",
              "    </tr>\n",
              "  </thead>\n",
              "  <tbody>\n",
              "    <tr>\n",
              "      <th>2012-10-04</th>\n",
              "      <td>3475.0</td>\n",
              "      <td>0</td>\n",
              "      <td>0</td>\n",
              "      <td>0</td>\n",
              "      <td>189</td>\n",
              "      <td>83</td>\n",
              "      <td>65</td>\n",
              "      <td>3521.0</td>\n",
              "    </tr>\n",
              "    <tr>\n",
              "      <th>2012-10-05</th>\n",
              "      <td>3148.0</td>\n",
              "      <td>0</td>\n",
              "      <td>0</td>\n",
              "      <td>0</td>\n",
              "      <td>217</td>\n",
              "      <td>89</td>\n",
              "      <td>57</td>\n",
              "      <td>3475.0</td>\n",
              "    </tr>\n",
              "  </tbody>\n",
              "</table>\n",
              "</div>"
            ],
            "text/plain": [
              "             Total  PRCP  SNOW  SNWD  TMAX  TMIN  AWND  Total_yesterday\n",
              "2012-10-04  3475.0     0     0     0   189    83    65           3521.0\n",
              "2012-10-05  3148.0     0     0     0   217    89    57           3475.0"
            ]
          },
          "metadata": {
            "tags": []
          },
          "execution_count": 8
        }
      ]
    },
    {
      "cell_type": "code",
      "metadata": {
        "id": "0HCMMImV9sdg",
        "colab_type": "code",
        "colab": {
          "base_uri": "https://localhost:8080/",
          "height": 111
        },
        "outputId": "fee61b69-7e3e-4a2f-8855-471d7ee5b403"
      },
      "source": [
        "daily.tail(2)"
      ],
      "execution_count": 9,
      "outputs": [
        {
          "output_type": "execute_result",
          "data": {
            "text/html": [
              "<div>\n",
              "<style scoped>\n",
              "    .dataframe tbody tr th:only-of-type {\n",
              "        vertical-align: middle;\n",
              "    }\n",
              "\n",
              "    .dataframe tbody tr th {\n",
              "        vertical-align: top;\n",
              "    }\n",
              "\n",
              "    .dataframe thead th {\n",
              "        text-align: right;\n",
              "    }\n",
              "</style>\n",
              "<table border=\"1\" class=\"dataframe\">\n",
              "  <thead>\n",
              "    <tr style=\"text-align: right;\">\n",
              "      <th></th>\n",
              "      <th>Total</th>\n",
              "      <th>PRCP</th>\n",
              "      <th>SNOW</th>\n",
              "      <th>SNWD</th>\n",
              "      <th>TMAX</th>\n",
              "      <th>TMIN</th>\n",
              "      <th>AWND</th>\n",
              "      <th>Total_yesterday</th>\n",
              "    </tr>\n",
              "  </thead>\n",
              "  <tbody>\n",
              "    <tr>\n",
              "      <th>2015-08-31</th>\n",
              "      <td>2823.0</td>\n",
              "      <td>0</td>\n",
              "      <td>0</td>\n",
              "      <td>0</td>\n",
              "      <td>189</td>\n",
              "      <td>161</td>\n",
              "      <td>58</td>\n",
              "      <td>1213.0</td>\n",
              "    </tr>\n",
              "    <tr>\n",
              "      <th>2015-09-01</th>\n",
              "      <td>2876.0</td>\n",
              "      <td>58</td>\n",
              "      <td>0</td>\n",
              "      <td>0</td>\n",
              "      <td>194</td>\n",
              "      <td>139</td>\n",
              "      <td>-9999</td>\n",
              "      <td>2823.0</td>\n",
              "    </tr>\n",
              "  </tbody>\n",
              "</table>\n",
              "</div>"
            ],
            "text/plain": [
              "             Total  PRCP  SNOW  SNWD  TMAX  TMIN  AWND  Total_yesterday\n",
              "2015-08-31  2823.0     0     0     0   189   161    58           1213.0\n",
              "2015-09-01  2876.0    58     0     0   194   139 -9999           2823.0"
            ]
          },
          "metadata": {
            "tags": []
          },
          "execution_count": 9
        }
      ]
    },
    {
      "cell_type": "code",
      "metadata": {
        "id": "D2yCojhC9_m8",
        "colab_type": "code",
        "colab": {
          "base_uri": "https://localhost:8080/",
          "height": 238
        },
        "outputId": "8277d79c-4ca1-4a50-864f-1b3e79e070fa"
      },
      "source": [
        "daily.info()"
      ],
      "execution_count": 11,
      "outputs": [
        {
          "output_type": "stream",
          "text": [
            "<class 'pandas.core.frame.DataFrame'>\n",
            "DatetimeIndex: 1063 entries, 2012-10-04 to 2015-09-01\n",
            "Data columns (total 8 columns):\n",
            "Total              1063 non-null float64\n",
            "PRCP               1063 non-null int64\n",
            "SNOW               1063 non-null int64\n",
            "SNWD               1063 non-null int64\n",
            "TMAX               1063 non-null int64\n",
            "TMIN               1063 non-null int64\n",
            "AWND               1063 non-null int64\n",
            "Total_yesterday    1063 non-null float64\n",
            "dtypes: float64(2), int64(6)\n",
            "memory usage: 74.7 KB\n"
          ],
          "name": "stdout"
        }
      ]
    },
    {
      "cell_type": "markdown",
      "metadata": {
        "colab_type": "text",
        "id": "XgMvCsaWJR7Q"
      },
      "source": [
        "Target\n",
        "- Total : Daily total number of bicycle trips across Seattle's Fremont Bridge\n",
        "\n",
        "Features\n",
        "- Date (index) : from 2012-10-04 to 2015-09-01\n",
        "- Total_yesterday : Total trips yesterday\n",
        "- PRCP : Precipitation (1/10 mm)\n",
        "- SNOW : Snowfall (1/10 mm)\n",
        "- SNWD : Snow depth (1/10 mm)\n",
        "- TMAX : Maximum temperature (1/10 Celsius)\n",
        "- TMIN : Minimum temperature (1/10 Celsius)\n",
        "- AWND : Average daily wind speed (1/10 meters per second)"
      ]
    },
    {
      "cell_type": "markdown",
      "metadata": {
        "colab_type": "text",
        "id": "lenL-przSYCo"
      },
      "source": [
        "## 2. Choose how you’ll measure success on your problem.\n",
        "\n",
        "Which metrics will you monitor on your validation data?\n",
        "\n",
        "This is a regression problem, so we need to choose a regression [metric](https://scikit-learn.org/stable/modules/model_evaluation.html#common-cases-predefined-values).\n",
        "\n",
        "\n",
        "\n",
        "I'll choose mean absolute error.\n",
        "\n"
      ]
    },
    {
      "cell_type": "code",
      "metadata": {
        "colab_type": "code",
        "id": "1TqbomapSyRP",
        "colab": {}
      },
      "source": [
        "# TODO\n",
        "from sklearn.metrics import mean_absolute_error"
      ],
      "execution_count": 0,
      "outputs": []
    },
    {
      "cell_type": "markdown",
      "metadata": {
        "colab_type": "text",
        "id": "IRHrB3rsS5hF"
      },
      "source": [
        "## 3. Determine your evaluation protocol \n",
        "\n",
        "We're doing model selection, hyperparameter optimization, and performance estimation. So generally we have two ideal [options](https://sebastianraschka.com/images/blog/2018/model-evaluation-selection-part4/model-eval-conclusions.jpg) to choose from:\n",
        "\n",
        "- 3-way holdout method (train/validation/test split)\n",
        "- Cross-validation with independent test set\n",
        "\n",
        "I'll choose cross-validation with independent test set. Scikit-learn makes cross-validation convenient for us!\n",
        "\n",
        "Specifically, I will use random shuffled cross validation to train and validate, but I will hold out an \"out-of-time\" test set, from the last 100 days of data:\n",
        "\n",
        "\n",
        "\n"
      ]
    },
    {
      "cell_type": "code",
      "metadata": {
        "colab_type": "code",
        "id": "A3xo6HgbPMFm",
        "colab": {
          "base_uri": "https://localhost:8080/",
          "height": 34
        },
        "outputId": "c9e2ee76-3c85-4c7f-e49d-e6f02823e1b2"
      },
      "source": [
        "# TODO\n",
        "train = daily[:-100] # first, up to last 100 days -train\n",
        "test = daily[-100:] # last one hundred days - test\n",
        "\n",
        "train.shape, test.shape"
      ],
      "execution_count": 16,
      "outputs": [
        {
          "output_type": "execute_result",
          "data": {
            "text/plain": [
              "((963, 8), (100, 8))"
            ]
          },
          "metadata": {
            "tags": []
          },
          "execution_count": 16
        }
      ]
    },
    {
      "cell_type": "code",
      "metadata": {
        "id": "RQRWSQA8AKlp",
        "colab_type": "code",
        "colab": {
          "base_uri": "https://localhost:8080/",
          "height": 34
        },
        "outputId": "a074f457-185f-4b21-9cc1-4159d02889b3"
      },
      "source": [
        "X_train = train.drop(columns='Total')\n",
        "y_train = train['Total']\n",
        "\n",
        "X_test = test.drop(columns='Total')\n",
        "y_test = test['Total']\n",
        "\n",
        "\n",
        "X_train.shape, y_train.shape, X_test.shape, y_test.shape"
      ],
      "execution_count": 17,
      "outputs": [
        {
          "output_type": "execute_result",
          "data": {
            "text/plain": [
              "((963, 7), (963,), (100, 7), (100,))"
            ]
          },
          "metadata": {
            "tags": []
          },
          "execution_count": 17
        }
      ]
    },
    {
      "cell_type": "markdown",
      "metadata": {
        "colab_type": "text",
        "id": "vH6IsORQTvTU"
      },
      "source": [
        "## 4. Develop a first model that does better than a basic baseline"
      ]
    },
    {
      "cell_type": "markdown",
      "metadata": {
        "colab_type": "text",
        "id": "DJBs2nQkj7oB"
      },
      "source": [
        "### Look at the target's distribution and descriptive stats"
      ]
    },
    {
      "cell_type": "code",
      "metadata": {
        "colab_type": "code",
        "id": "P5peakv9Zs71",
        "colab": {
          "base_uri": "https://localhost:8080/",
          "height": 300
        },
        "outputId": "7df7ee84-d129-4e56-86d0-20da8603311e"
      },
      "source": [
        "# TODO\n",
        "%matplotlib inline\n",
        "import seaborn as sns\n",
        "\n",
        "sns.distplot(y_train)"
      ],
      "execution_count": 18,
      "outputs": [
        {
          "output_type": "execute_result",
          "data": {
            "text/plain": [
              "<matplotlib.axes._subplots.AxesSubplot at 0x7f3c18520fd0>"
            ]
          },
          "metadata": {
            "tags": []
          },
          "execution_count": 18
        },
        {
          "output_type": "display_data",
          "data": {
            "image/png": "[encoded data removed]",
            "text/plain": [
              "<Figure size 432x288 with 1 Axes>"
            ]
          },
          "metadata": {
            "tags": []
          }
        }
      ]
    },
    {
      "cell_type": "code",
      "metadata": {
        "id": "Yq8iaV5iAxTj",
        "colab_type": "code",
        "colab": {
          "base_uri": "https://localhost:8080/",
          "height": 170
        },
        "outputId": "0b94a846-4c87-40cc-9357-62d435025964"
      },
      "source": [
        "y_train.describe()"
      ],
      "execution_count": 19,
      "outputs": [
        {
          "output_type": "execute_result",
          "data": {
            "text/plain": [
              "count     963.000000\n",
              "mean     2534.329180\n",
              "std      1224.065027\n",
              "min        98.000000\n",
              "25%      1755.000000\n",
              "50%      2381.000000\n",
              "75%      3317.500000\n",
              "max      6088.000000\n",
              "Name: Total, dtype: float64"
            ]
          },
          "metadata": {
            "tags": []
          },
          "execution_count": 19
        }
      ]
    },
    {
      "cell_type": "markdown",
      "metadata": {
        "colab_type": "text",
        "id": "fEjxxgV9kExY"
      },
      "source": [
        "### Basic baseline 1"
      ]
    },
    {
      "cell_type": "code",
      "metadata": {
        "colab_type": "code",
        "id": "6GepKdQjYcEP",
        "colab": {
          "base_uri": "https://localhost:8080/",
          "height": 34
        },
        "outputId": "fbccfbeb-b9ef-457e-cde4-ef492af36b54"
      },
      "source": [
        "# TODO\n",
        "y_pred = [y_train.median()] * len(y_train)\n",
        "mean_absolute_error(y_train, y_pred)"
      ],
      "execution_count": 20,
      "outputs": [
        {
          "output_type": "execute_result",
          "data": {
            "text/plain": [
              "971.9376947040498"
            ]
          },
          "metadata": {
            "tags": []
          },
          "execution_count": 20
        }
      ]
    },
    {
      "cell_type": "markdown",
      "metadata": {
        "colab_type": "text",
        "id": "tN2I_F3FkIHb"
      },
      "source": [
        "### Basic baseline 2"
      ]
    },
    {
      "cell_type": "code",
      "metadata": {
        "id": "VhEp6HYECkw5",
        "colab_type": "code",
        "colab": {
          "base_uri": "https://localhost:8080/",
          "height": 80
        },
        "outputId": "7fdbe2fc-cb54-43c7-cdb8-50aaf76ebd51"
      },
      "source": [
        "X_train.head(1)"
      ],
      "execution_count": 21,
      "outputs": [
        {
          "output_type": "execute_result",
          "data": {
            "text/html": [
              "<div>\n",
              "<style scoped>\n",
              "    .dataframe tbody tr th:only-of-type {\n",
              "        vertical-align: middle;\n",
              "    }\n",
              "\n",
              "    .dataframe tbody tr th {\n",
              "        vertical-align: top;\n",
              "    }\n",
              "\n",
              "    .dataframe thead th {\n",
              "        text-align: right;\n",
              "    }\n",
              "</style>\n",
              "<table border=\"1\" class=\"dataframe\">\n",
              "  <thead>\n",
              "    <tr style=\"text-align: right;\">\n",
              "      <th></th>\n",
              "      <th>PRCP</th>\n",
              "      <th>SNOW</th>\n",
              "      <th>SNWD</th>\n",
              "      <th>TMAX</th>\n",
              "      <th>TMIN</th>\n",
              "      <th>AWND</th>\n",
              "      <th>Total_yesterday</th>\n",
              "    </tr>\n",
              "  </thead>\n",
              "  <tbody>\n",
              "    <tr>\n",
              "      <th>2012-10-04</th>\n",
              "      <td>0</td>\n",
              "      <td>0</td>\n",
              "      <td>0</td>\n",
              "      <td>189</td>\n",
              "      <td>83</td>\n",
              "      <td>65</td>\n",
              "      <td>3521.0</td>\n",
              "    </tr>\n",
              "  </tbody>\n",
              "</table>\n",
              "</div>"
            ],
            "text/plain": [
              "            PRCP  SNOW  SNWD  TMAX  TMIN  AWND  Total_yesterday\n",
              "2012-10-04     0     0     0   189    83    65           3521.0"
            ]
          },
          "metadata": {
            "tags": []
          },
          "execution_count": 21
        }
      ]
    },
    {
      "cell_type": "code",
      "metadata": {
        "id": "YXRJiP5qCm9V",
        "colab_type": "code",
        "colab": {
          "base_uri": "https://localhost:8080/",
          "height": 68
        },
        "outputId": "70f55058-1d0d-47c0-a905-85a2422d6b5e"
      },
      "source": [
        "y_train.head(2)"
      ],
      "execution_count": 23,
      "outputs": [
        {
          "output_type": "execute_result",
          "data": {
            "text/plain": [
              "2012-10-04    3475.0\n",
              "2012-10-05    3148.0\n",
              "Name: Total, dtype: float64"
            ]
          },
          "metadata": {
            "tags": []
          },
          "execution_count": 23
        }
      ]
    },
    {
      "cell_type": "code",
      "metadata": {
        "colab_type": "code",
        "id": "ZW8bhZFtTunV",
        "colab": {
          "base_uri": "https://localhost:8080/",
          "height": 34
        },
        "outputId": "3f72cd99-353c-41f1-fd39-5a651d2a3908"
      },
      "source": [
        "# TODO\n",
        "y_pred = X_train['Total_yesterday']\n",
        "mean_absolute_error(y_train, y_pred)"
      ],
      "execution_count": 24,
      "outputs": [
        {
          "output_type": "execute_result",
          "data": {
            "text/plain": [
              "708.061266874351"
            ]
          },
          "metadata": {
            "tags": []
          },
          "execution_count": 24
        }
      ]
    },
    {
      "cell_type": "markdown",
      "metadata": {
        "colab_type": "text",
        "id": "Ggf3VpxwkJ0T"
      },
      "source": [
        "### First model that does better than a basic baseline"
      ]
    },
    {
      "cell_type": "markdown",
      "metadata": {
        "colab_type": "text",
        "id": "KfaqL1Ezer2-"
      },
      "source": [
        "https://scikit-learn.org/stable/modules/generated/sklearn.model_selection.cross_validate.html"
      ]
    },
    {
      "cell_type": "code",
      "metadata": {
        "colab_type": "code",
        "id": "OeBtU68skfW-",
        "colab": {}
      },
      "source": [
        "# TODO\n",
        "from sklearn.linear_model import LinearRegression\n",
        "from sklearn.model_selection import cross_validate\n",
        "\n",
        "scores = cross_validate(LinearRegression(), X_train, y_train,\n",
        "                        scoring='neg_mean_absolute_error', cv=3,\n",
        "                       return_train_score=True, return_estimator=True)\n",
        "\n"
      ],
      "execution_count": 0,
      "outputs": []
    },
    {
      "cell_type": "code",
      "metadata": {
        "id": "xWoTQqT4ELav",
        "colab_type": "code",
        "colab": {
          "base_uri": "https://localhost:8080/",
          "height": 142
        },
        "outputId": "e9a947f3-bdee-41a8-e1da-a1f35d44ba74"
      },
      "source": [
        "pd.DataFrame(scores)"
      ],
      "execution_count": 27,
      "outputs": [
        {
          "output_type": "execute_result",
          "data": {
            "text/html": [
              "<div>\n",
              "<style scoped>\n",
              "    .dataframe tbody tr th:only-of-type {\n",
              "        vertical-align: middle;\n",
              "    }\n",
              "\n",
              "    .dataframe tbody tr th {\n",
              "        vertical-align: top;\n",
              "    }\n",
              "\n",
              "    .dataframe thead th {\n",
              "        text-align: right;\n",
              "    }\n",
              "</style>\n",
              "<table border=\"1\" class=\"dataframe\">\n",
              "  <thead>\n",
              "    <tr style=\"text-align: right;\">\n",
              "      <th></th>\n",
              "      <th>fit_time</th>\n",
              "      <th>score_time</th>\n",
              "      <th>estimator</th>\n",
              "      <th>test_score</th>\n",
              "      <th>train_score</th>\n",
              "    </tr>\n",
              "  </thead>\n",
              "  <tbody>\n",
              "    <tr>\n",
              "      <th>0</th>\n",
              "      <td>0.025751</td>\n",
              "      <td>0.001744</td>\n",
              "      <td>LinearRegression(copy_X=True, fit_intercept=Tr...</td>\n",
              "      <td>-555.186275</td>\n",
              "      <td>-619.509206</td>\n",
              "    </tr>\n",
              "    <tr>\n",
              "      <th>1</th>\n",
              "      <td>0.002825</td>\n",
              "      <td>0.001178</td>\n",
              "      <td>LinearRegression(copy_X=True, fit_intercept=Tr...</td>\n",
              "      <td>-651.126513</td>\n",
              "      <td>-583.427702</td>\n",
              "    </tr>\n",
              "    <tr>\n",
              "      <th>2</th>\n",
              "      <td>0.002984</td>\n",
              "      <td>0.001185</td>\n",
              "      <td>LinearRegression(copy_X=True, fit_intercept=Tr...</td>\n",
              "      <td>-615.965800</td>\n",
              "      <td>-589.341301</td>\n",
              "    </tr>\n",
              "  </tbody>\n",
              "</table>\n",
              "</div>"
            ],
            "text/plain": [
              "   fit_time  score_time                                          estimator  \\\n",
              "0  0.025751    0.001744  LinearRegression(copy_X=True, fit_intercept=Tr...   \n",
              "1  0.002825    0.001178  LinearRegression(copy_X=True, fit_intercept=Tr...   \n",
              "2  0.002984    0.001185  LinearRegression(copy_X=True, fit_intercept=Tr...   \n",
              "\n",
              "   test_score  train_score  \n",
              "0 -555.186275  -619.509206  \n",
              "1 -651.126513  -583.427702  \n",
              "2 -615.965800  -589.341301  "
            ]
          },
          "metadata": {
            "tags": []
          },
          "execution_count": 27
        }
      ]
    },
    {
      "cell_type": "code",
      "metadata": {
        "id": "k1CVO0QKE-SQ",
        "colab_type": "code",
        "colab": {
          "base_uri": "https://localhost:8080/",
          "height": 34
        },
        "outputId": "cf2a72e8-e769-4dd0-ac1c-5cef5779d3ca"
      },
      "source": [
        "-scores['test_score'].mean()"
      ],
      "execution_count": 29,
      "outputs": [
        {
          "output_type": "execute_result",
          "data": {
            "text/plain": [
              "607.4261958631806"
            ]
          },
          "metadata": {
            "tags": []
          },
          "execution_count": 29
        }
      ]
    },
    {
      "cell_type": "code",
      "metadata": {
        "id": "P2VhTIH8KvH0",
        "colab_type": "code",
        "colab": {
          "base_uri": "https://localhost:8080/",
          "height": 34
        },
        "outputId": "cb5445fa-b6b9-4538-d9e0-832d15b4453e"
      },
      "source": [
        "-scores['train_score'].mean()"
      ],
      "execution_count": 40,
      "outputs": [
        {
          "output_type": "execute_result",
          "data": {
            "text/plain": [
              "228.01092938733123"
            ]
          },
          "metadata": {
            "tags": []
          },
          "execution_count": 40
        }
      ]
    },
    {
      "cell_type": "code",
      "metadata": {
        "id": "JkJth15UFYJC",
        "colab_type": "code",
        "colab": {
          "base_uri": "https://localhost:8080/",
          "height": 578
        },
        "outputId": "3653151a-ca75-4f04-ccc9-a69c5c1346dc"
      },
      "source": [
        "for i, model in enumerate(scores['estimator']):\n",
        "  coefficients = model.coef_\n",
        "  intercept = model.intercept_\n",
        "  feature_names = X_train.columns\n",
        "  \n",
        "  print(f'model from cross validation fold #{i}')\n",
        "  \n",
        "  print('Intercept', intercept)\n",
        "  print(pd.Series(coefficients, feature_names).to_string())\n",
        "  print('\\n')"
      ],
      "execution_count": 34,
      "outputs": [
        {
          "output_type": "stream",
          "text": [
            "model from cross validation fold #0\n",
            "Intercept 566.7766337283679\n",
            "PRCP               -3.525103\n",
            "SNOW               -0.082029\n",
            "SNWD              -12.045027\n",
            "TMAX                9.475238\n",
            "TMIN               -4.607775\n",
            "AWND               -2.745191\n",
            "Total_yesterday     0.417360\n",
            "\n",
            "\n",
            "model from cross validation fold #1\n",
            "Intercept 671.9064515706045\n",
            "PRCP               -2.772253\n",
            "SNOW               -0.000995\n",
            "SNWD               20.800688\n",
            "TMAX                8.804948\n",
            "TMIN               -3.741386\n",
            "AWND               -6.108300\n",
            "Total_yesterday     0.405074\n",
            "\n",
            "\n",
            "model from cross validation fold #2\n",
            "Intercept 465.84525362296563\n",
            "PRCP               -2.876196\n",
            "SNOW               -0.016432\n",
            "SNWD               -8.809696\n",
            "TMAX               10.419441\n",
            "TMIN               -5.862868\n",
            "AWND               -2.398991\n",
            "Total_yesterday     0.423493\n",
            "\n",
            "\n"
          ],
          "name": "stdout"
        }
      ]
    },
    {
      "cell_type": "markdown",
      "metadata": {
        "colab_type": "text",
        "id": "fg1YI4X8n9nI"
      },
      "source": [
        "## 5. Develop a model that overfits. \n",
        "\n",
        "\"The universal tension in machine learning is between optimization and generalization; the ideal model is one that stands right at the border between underfitting and overfitting; between undercapacity and overcapacity. To figure out where this border lies, first you must cross it.\" —Chollet"
      ]
    },
    {
      "cell_type": "markdown",
      "metadata": {
        "colab_type": "text",
        "id": "lodd6UPOoy89"
      },
      "source": [
        "<img src=\"https://jakevdp.github.io/PythonDataScienceHandbook/figures/05.03-validation-curve.png\">\n",
        "\n",
        "Diagram Source: https://jakevdp.github.io/PythonDataScienceHandbook/05.03-hyperparameters-and-model-validation.html#Validation-curves-in-Scikit-Learn"
      ]
    },
    {
      "cell_type": "markdown",
      "metadata": {
        "colab_type": "text",
        "id": "xj82P0VdwYlh"
      },
      "source": [
        "### Random Forest?\n",
        "\n",
        "https://scikit-learn.org/stable/modules/generated/sklearn.ensemble.RandomForestRegressor.html"
      ]
    },
    {
      "cell_type": "code",
      "metadata": {
        "colab_type": "code",
        "id": "_yYXpk99C4cM",
        "colab": {
          "base_uri": "https://localhost:8080/",
          "height": 142
        },
        "outputId": "f1e96866-1d00-45d5-e5fb-6f131dbd4533"
      },
      "source": [
        "# TODO\n",
        "from sklearn.ensemble import RandomForestRegressor \n",
        "\n",
        "model = RandomForestRegressor(n_estimators=100, max_depth=None, n_jobs=-1)\n",
        "\n",
        "scores = cross_validate(model, X_train, y_train, \n",
        "                       scoring='neg_mean_absolute_error', cv=3,\n",
        "                       return_train_score=True, return_estimator=True)\n",
        "\n",
        "pd.DataFrame(scores)\n",
        "\n"
      ],
      "execution_count": 36,
      "outputs": [
        {
          "output_type": "execute_result",
          "data": {
            "text/html": [
              "<div>\n",
              "<style scoped>\n",
              "    .dataframe tbody tr th:only-of-type {\n",
              "        vertical-align: middle;\n",
              "    }\n",
              "\n",
              "    .dataframe tbody tr th {\n",
              "        vertical-align: top;\n",
              "    }\n",
              "\n",
              "    .dataframe thead th {\n",
              "        text-align: right;\n",
              "    }\n",
              "</style>\n",
              "<table border=\"1\" class=\"dataframe\">\n",
              "  <thead>\n",
              "    <tr style=\"text-align: right;\">\n",
              "      <th></th>\n",
              "      <th>fit_time</th>\n",
              "      <th>score_time</th>\n",
              "      <th>estimator</th>\n",
              "      <th>test_score</th>\n",
              "      <th>train_score</th>\n",
              "    </tr>\n",
              "  </thead>\n",
              "  <tbody>\n",
              "    <tr>\n",
              "      <th>0</th>\n",
              "      <td>2.029517</td>\n",
              "      <td>0.116514</td>\n",
              "      <td>(DecisionTreeRegressor(criterion='mse', max_de...</td>\n",
              "      <td>-557.697383</td>\n",
              "      <td>-241.502227</td>\n",
              "    </tr>\n",
              "    <tr>\n",
              "      <th>1</th>\n",
              "      <td>0.242185</td>\n",
              "      <td>0.103456</td>\n",
              "      <td>(DecisionTreeRegressor(criterion='mse', max_de...</td>\n",
              "      <td>-643.770312</td>\n",
              "      <td>-221.146729</td>\n",
              "    </tr>\n",
              "    <tr>\n",
              "      <th>2</th>\n",
              "      <td>0.233032</td>\n",
              "      <td>0.103418</td>\n",
              "      <td>(DecisionTreeRegressor(criterion='mse', max_de...</td>\n",
              "      <td>-638.614455</td>\n",
              "      <td>-221.383832</td>\n",
              "    </tr>\n",
              "  </tbody>\n",
              "</table>\n",
              "</div>"
            ],
            "text/plain": [
              "   fit_time  score_time                                          estimator  \\\n",
              "0  2.029517    0.116514  (DecisionTreeRegressor(criterion='mse', max_de...   \n",
              "1  0.242185    0.103456  (DecisionTreeRegressor(criterion='mse', max_de...   \n",
              "2  0.233032    0.103418  (DecisionTreeRegressor(criterion='mse', max_de...   \n",
              "\n",
              "   test_score  train_score  \n",
              "0 -557.697383  -241.502227  \n",
              "1 -643.770312  -221.146729  \n",
              "2 -638.614455  -221.383832  "
            ]
          },
          "metadata": {
            "tags": []
          },
          "execution_count": 36
        }
      ]
    },
    {
      "cell_type": "code",
      "metadata": {
        "id": "wsSW9NyAKVif",
        "colab_type": "code",
        "colab": {
          "base_uri": "https://localhost:8080/",
          "height": 34
        },
        "outputId": "5b40693b-644e-4783-9f67-0f9d67ee33d6"
      },
      "source": [
        "-scores['test_score'].mean()"
      ],
      "execution_count": 38,
      "outputs": [
        {
          "output_type": "execute_result",
          "data": {
            "text/plain": [
              "613.3607165109034"
            ]
          },
          "metadata": {
            "tags": []
          },
          "execution_count": 38
        }
      ]
    },
    {
      "cell_type": "code",
      "metadata": {
        "id": "oEFkCfeiKnHM",
        "colab_type": "code",
        "colab": {
          "base_uri": "https://localhost:8080/",
          "height": 34
        },
        "outputId": "e93a7cf2-4ee7-4462-aae3-6050a38950e3"
      },
      "source": [
        "-scores['train_score'].mean()"
      ],
      "execution_count": 39,
      "outputs": [
        {
          "output_type": "execute_result",
          "data": {
            "text/plain": [
              "228.01092938733123"
            ]
          },
          "metadata": {
            "tags": []
          },
          "execution_count": 39
        }
      ]
    },
    {
      "cell_type": "markdown",
      "metadata": {
        "colab_type": "text",
        "id": "_ryO1hVKr-6f"
      },
      "source": [
        "### Validation Curve\n",
        "\n",
        "https://scikit-learn.org/stable/modules/generated/sklearn.model_selection.validation_curve.html\n",
        "\n",
        "> Validation curve. Determine training and test scores for varying parameter values. This is similar to grid search with one parameter."
      ]
    },
    {
      "cell_type": "code",
      "metadata": {
        "id": "5rLindAVL1Ru",
        "colab_type": "code",
        "colab": {}
      },
      "source": [
        "import numpy as np"
      ],
      "execution_count": 0,
      "outputs": []
    },
    {
      "cell_type": "code",
      "metadata": {
        "colab_type": "code",
        "id": "apKk4vKiwgtM",
        "colab": {
          "base_uri": "https://localhost:8080/",
          "height": 283
        },
        "outputId": "12c627c3-869a-4171-f986-2d3924479320"
      },
      "source": [
        "# Modified from cell 13 at\n",
        "# https://jakevdp.github.io/PythonDataScienceHandbook/05.03-hyperparameters-and-model-validation.html#Validation-curves-in-Scikit-Learn\n",
        "\n",
        "%matplotlib inline\n",
        "import matplotlib.pyplot as plt\n",
        "from sklearn.model_selection import validation_curve\n",
        "\n",
        "model = RandomForestRegressor(n_estimators=100)\n",
        "\n",
        "depth = [2, 3, 4, 5, 6]\n",
        "train_score, val_score = validation_curve(\n",
        "    model, X_train, y_train,\n",
        "    param_name='max_depth', param_range=depth, \n",
        "    scoring='neg_mean_absolute_error', cv=3)\n",
        "\n",
        "plt.plot(depth, np.median(train_score, 1), color='blue', label='training score')\n",
        "plt.plot(depth, np.median(val_score, 1), color='red', label='validation score')\n",
        "plt.legend(loc='best')\n",
        "plt.xlabel('depth');"
      ],
      "execution_count": 43,
      "outputs": [
        {
          "output_type": "display_data",
          "data": {
            "image/png": "[encoded data removed]",
            "text/plain": [
              "<Figure size 432x288 with 1 Axes>"
            ]
          },
          "metadata": {
            "tags": []
          }
        }
      ]
    },
    {
      "cell_type": "markdown",
      "metadata": {
        "colab_type": "text",
        "id": "DQoMvZ7-yCAQ"
      },
      "source": [
        "### `RandomizedSearchCV`\n",
        "\n",
        "https://scikit-learn.org/stable/modules/generated/sklearn.model_selection.RandomizedSearchCV.html\n",
        "\n",
        "https://scikit-learn.org/stable/modules/grid_search.html"
      ]
    },
    {
      "cell_type": "code",
      "metadata": {
        "colab_type": "code",
        "id": "bk_dX_mByKm7",
        "colab": {
          "base_uri": "https://localhost:8080/",
          "height": 374
        },
        "outputId": "0fbc75a9-e6b3-4f94-d5f6-c122d4768575"
      },
      "source": [
        "# TODO\n",
        "from sklearn.model_selection import RandomizedSearchCV\n",
        "\n",
        "param_distributions = {\n",
        "    'n_estimators' : [100, 200],\n",
        "    'max_depth' : [4,5],\n",
        "    'criterion':  ['mse', 'mae']\n",
        "}\n",
        "\n",
        "gridsearch = RandomizedSearchCV(\n",
        "    RandomForestRegressor(n_jobs=-1, random_state=42),\n",
        "    param_distributions= param_distributions,\n",
        "    n_iter=8,\n",
        "    cv=3,\n",
        "    scoring='neg_mean_absolute_error',\n",
        "    verbose=10,\n",
        "    return_train_score=True,\n",
        "    n_jobs=-1\n",
        ")\n",
        "\n",
        "gridsearch.fit(X_train, y_train)"
      ],
      "execution_count": 45,
      "outputs": [
        {
          "output_type": "stream",
          "text": [
            "Fitting 3 folds for each of 8 candidates, totalling 24 fits\n"
          ],
          "name": "stdout"
        },
        {
          "output_type": "stream",
          "text": [
            "[Parallel(n_jobs=-1)]: Using backend LokyBackend with 2 concurrent workers.\n",
            "[Parallel(n_jobs=-1)]: Done   1 tasks      | elapsed:    1.7s\n",
            "[Parallel(n_jobs=-1)]: Done   4 tasks      | elapsed:    2.3s\n",
            "[Parallel(n_jobs=-1)]: Done   9 tasks      | elapsed:    3.6s\n",
            "[Parallel(n_jobs=-1)]: Done  14 tasks      | elapsed:    5.5s\n",
            "[Parallel(n_jobs=-1)]: Done  21 tasks      | elapsed:   11.1s\n",
            "[Parallel(n_jobs=-1)]: Done  24 out of  24 | elapsed:   14.5s remaining:    0.0s\n",
            "[Parallel(n_jobs=-1)]: Done  24 out of  24 | elapsed:   14.5s finished\n"
          ],
          "name": "stderr"
        },
        {
          "output_type": "execute_result",
          "data": {
            "text/plain": [
              "RandomizedSearchCV(cv=3, error_score='raise-deprecating',\n",
              "          estimator=RandomForestRegressor(bootstrap=True, criterion='mse', max_depth=None,\n",
              "           max_features='auto', max_leaf_nodes=None,\n",
              "           min_impurity_decrease=0.0, min_impurity_split=None,\n",
              "           min_samples_leaf=1, min_samples_split=2,\n",
              "           min_weight_fraction_leaf=0.0, n_estimators='warn', n_jobs=-1,\n",
              "           oob_score=False, random_state=42, verbose=0, warm_start=False),\n",
              "          fit_params=None, iid='warn', n_iter=8, n_jobs=-1,\n",
              "          param_distributions={'n_estimators': [100, 200], 'max_depth': [4, 5], 'criterion': ['mse', 'mae']},\n",
              "          pre_dispatch='2*n_jobs', random_state=None, refit=True,\n",
              "          return_train_score=True, scoring='neg_mean_absolute_error',\n",
              "          verbose=10)"
            ]
          },
          "metadata": {
            "tags": []
          },
          "execution_count": 45
        }
      ]
    },
    {
      "cell_type": "code",
      "metadata": {
        "id": "sLREdn-DQ7uw",
        "colab_type": "code",
        "colab": {
          "base_uri": "https://localhost:8080/",
          "height": 745
        },
        "outputId": "b2a74486-eb7c-41f3-afd3-985f2ea77dc0"
      },
      "source": [
        "results = pd.DataFrame(gridsearch.cv_results_)\n",
        "results.sort_values(by='rank_test_score')"
      ],
      "execution_count": 46,
      "outputs": [
        {
          "output_type": "execute_result",
          "data": {
            "text/html": [
              "<div>\n",
              "<style scoped>\n",
              "    .dataframe tbody tr th:only-of-type {\n",
              "        vertical-align: middle;\n",
              "    }\n",
              "\n",
              "    .dataframe tbody tr th {\n",
              "        vertical-align: top;\n",
              "    }\n",
              "\n",
              "    .dataframe thead th {\n",
              "        text-align: right;\n",
              "    }\n",
              "</style>\n",
              "<table border=\"1\" class=\"dataframe\">\n",
              "  <thead>\n",
              "    <tr style=\"text-align: right;\">\n",
              "      <th></th>\n",
              "      <th>mean_fit_time</th>\n",
              "      <th>std_fit_time</th>\n",
              "      <th>mean_score_time</th>\n",
              "      <th>std_score_time</th>\n",
              "      <th>param_n_estimators</th>\n",
              "      <th>param_max_depth</th>\n",
              "      <th>param_criterion</th>\n",
              "      <th>params</th>\n",
              "      <th>split0_test_score</th>\n",
              "      <th>split1_test_score</th>\n",
              "      <th>split2_test_score</th>\n",
              "      <th>mean_test_score</th>\n",
              "      <th>std_test_score</th>\n",
              "      <th>rank_test_score</th>\n",
              "      <th>split0_train_score</th>\n",
              "      <th>split1_train_score</th>\n",
              "      <th>split2_train_score</th>\n",
              "      <th>mean_train_score</th>\n",
              "      <th>std_train_score</th>\n",
              "    </tr>\n",
              "  </thead>\n",
              "  <tbody>\n",
              "    <tr>\n",
              "      <th>7</th>\n",
              "      <td>1.800154</td>\n",
              "      <td>0.296266</td>\n",
              "      <td>0.110795</td>\n",
              "      <td>0.006070</td>\n",
              "      <td>200</td>\n",
              "      <td>5</td>\n",
              "      <td>mae</td>\n",
              "      <td>{'n_estimators': 200, 'max_depth': 5, 'criteri...</td>\n",
              "      <td>-537.343224</td>\n",
              "      <td>-633.188069</td>\n",
              "      <td>-611.812399</td>\n",
              "      <td>-594.114564</td>\n",
              "      <td>41.080965</td>\n",
              "      <td>1</td>\n",
              "      <td>-514.399139</td>\n",
              "      <td>-476.132208</td>\n",
              "      <td>-486.784755</td>\n",
              "      <td>-492.438701</td>\n",
              "      <td>16.125856</td>\n",
              "    </tr>\n",
              "    <tr>\n",
              "      <th>6</th>\n",
              "      <td>0.947933</td>\n",
              "      <td>0.051213</td>\n",
              "      <td>0.114623</td>\n",
              "      <td>0.003760</td>\n",
              "      <td>100</td>\n",
              "      <td>5</td>\n",
              "      <td>mae</td>\n",
              "      <td>{'n_estimators': 100, 'max_depth': 5, 'criteri...</td>\n",
              "      <td>-539.744330</td>\n",
              "      <td>-635.247773</td>\n",
              "      <td>-610.870031</td>\n",
              "      <td>-595.287378</td>\n",
              "      <td>40.516179</td>\n",
              "      <td>2</td>\n",
              "      <td>-513.924961</td>\n",
              "      <td>-475.585023</td>\n",
              "      <td>-489.148606</td>\n",
              "      <td>-492.886197</td>\n",
              "      <td>15.873771</td>\n",
              "    </tr>\n",
              "    <tr>\n",
              "      <th>4</th>\n",
              "      <td>0.970933</td>\n",
              "      <td>0.014057</td>\n",
              "      <td>0.113051</td>\n",
              "      <td>0.006350</td>\n",
              "      <td>100</td>\n",
              "      <td>4</td>\n",
              "      <td>mae</td>\n",
              "      <td>{'n_estimators': 100, 'max_depth': 4, 'criteri...</td>\n",
              "      <td>-545.553738</td>\n",
              "      <td>-635.478629</td>\n",
              "      <td>-609.898505</td>\n",
              "      <td>-596.976957</td>\n",
              "      <td>37.831612</td>\n",
              "      <td>3</td>\n",
              "      <td>-554.610927</td>\n",
              "      <td>-515.603583</td>\n",
              "      <td>-525.162173</td>\n",
              "      <td>-531.792227</td>\n",
              "      <td>16.600431</td>\n",
              "    </tr>\n",
              "    <tr>\n",
              "      <th>5</th>\n",
              "      <td>1.795299</td>\n",
              "      <td>0.056301</td>\n",
              "      <td>0.117019</td>\n",
              "      <td>0.003495</td>\n",
              "      <td>200</td>\n",
              "      <td>4</td>\n",
              "      <td>mae</td>\n",
              "      <td>{'n_estimators': 200, 'max_depth': 4, 'criteri...</td>\n",
              "      <td>-545.615950</td>\n",
              "      <td>-634.226674</td>\n",
              "      <td>-611.571316</td>\n",
              "      <td>-597.137980</td>\n",
              "      <td>37.587285</td>\n",
              "      <td>4</td>\n",
              "      <td>-554.012714</td>\n",
              "      <td>-515.754478</td>\n",
              "      <td>-524.948497</td>\n",
              "      <td>-531.571896</td>\n",
              "      <td>16.305934</td>\n",
              "    </tr>\n",
              "    <tr>\n",
              "      <th>3</th>\n",
              "      <td>0.363939</td>\n",
              "      <td>0.031293</td>\n",
              "      <td>0.105531</td>\n",
              "      <td>0.002258</td>\n",
              "      <td>200</td>\n",
              "      <td>5</td>\n",
              "      <td>mse</td>\n",
              "      <td>{'n_estimators': 200, 'max_depth': 5, 'criteri...</td>\n",
              "      <td>-545.774354</td>\n",
              "      <td>-637.307005</td>\n",
              "      <td>-627.616934</td>\n",
              "      <td>-603.566098</td>\n",
              "      <td>41.055966</td>\n",
              "      <td>5</td>\n",
              "      <td>-524.163469</td>\n",
              "      <td>-490.204130</td>\n",
              "      <td>-490.472466</td>\n",
              "      <td>-501.613355</td>\n",
              "      <td>15.945715</td>\n",
              "    </tr>\n",
              "    <tr>\n",
              "      <th>2</th>\n",
              "      <td>0.220526</td>\n",
              "      <td>0.051628</td>\n",
              "      <td>0.104541</td>\n",
              "      <td>0.001388</td>\n",
              "      <td>100</td>\n",
              "      <td>5</td>\n",
              "      <td>mse</td>\n",
              "      <td>{'n_estimators': 100, 'max_depth': 5, 'criteri...</td>\n",
              "      <td>-546.995243</td>\n",
              "      <td>-639.080607</td>\n",
              "      <td>-629.837818</td>\n",
              "      <td>-605.304556</td>\n",
              "      <td>41.403214</td>\n",
              "      <td>6</td>\n",
              "      <td>-526.882336</td>\n",
              "      <td>-490.560190</td>\n",
              "      <td>-492.252512</td>\n",
              "      <td>-503.231679</td>\n",
              "      <td>16.737805</td>\n",
              "    </tr>\n",
              "    <tr>\n",
              "      <th>1</th>\n",
              "      <td>0.316100</td>\n",
              "      <td>0.019895</td>\n",
              "      <td>0.104027</td>\n",
              "      <td>0.000582</td>\n",
              "      <td>200</td>\n",
              "      <td>4</td>\n",
              "      <td>mse</td>\n",
              "      <td>{'n_estimators': 200, 'max_depth': 4, 'criteri...</td>\n",
              "      <td>-555.634757</td>\n",
              "      <td>-640.866167</td>\n",
              "      <td>-625.853913</td>\n",
              "      <td>-607.451613</td>\n",
              "      <td>37.149085</td>\n",
              "      <td>7</td>\n",
              "      <td>-572.252550</td>\n",
              "      <td>-529.625674</td>\n",
              "      <td>-536.655286</td>\n",
              "      <td>-546.177836</td>\n",
              "      <td>18.659615</td>\n",
              "    </tr>\n",
              "    <tr>\n",
              "      <th>0</th>\n",
              "      <td>0.152668</td>\n",
              "      <td>0.000879</td>\n",
              "      <td>0.104120</td>\n",
              "      <td>0.000289</td>\n",
              "      <td>100</td>\n",
              "      <td>4</td>\n",
              "      <td>mse</td>\n",
              "      <td>{'n_estimators': 100, 'max_depth': 4, 'criteri...</td>\n",
              "      <td>-557.174302</td>\n",
              "      <td>-642.450417</td>\n",
              "      <td>-629.072181</td>\n",
              "      <td>-609.565633</td>\n",
              "      <td>37.446700</td>\n",
              "      <td>8</td>\n",
              "      <td>-574.472102</td>\n",
              "      <td>-530.248079</td>\n",
              "      <td>-538.576526</td>\n",
              "      <td>-547.765569</td>\n",
              "      <td>19.188016</td>\n",
              "    </tr>\n",
              "  </tbody>\n",
              "</table>\n",
              "</div>"
            ],
            "text/plain": [
              "   mean_fit_time  std_fit_time  mean_score_time  std_score_time  \\\n",
              "7       1.800154      0.296266         0.110795        0.006070   \n",
              "6       0.947933      0.051213         0.114623        0.003760   \n",
              "4       0.970933      0.014057         0.113051        0.006350   \n",
              "5       1.795299      0.056301         0.117019        0.003495   \n",
              "3       0.363939      0.031293         0.105531        0.002258   \n",
              "2       0.220526      0.051628         0.104541        0.001388   \n",
              "1       0.316100      0.019895         0.104027        0.000582   \n",
              "0       0.152668      0.000879         0.104120        0.000289   \n",
              "\n",
              "  param_n_estimators param_max_depth param_criterion  \\\n",
              "7                200               5             mae   \n",
              "6                100               5             mae   \n",
              "4                100               4             mae   \n",
              "5                200               4             mae   \n",
              "3                200               5             mse   \n",
              "2                100               5             mse   \n",
              "1                200               4             mse   \n",
              "0                100               4             mse   \n",
              "\n",
              "                                              params  split0_test_score  \\\n",
              "7  {'n_estimators': 200, 'max_depth': 5, 'criteri...        -537.343224   \n",
              "6  {'n_estimators': 100, 'max_depth': 5, 'criteri...        -539.744330   \n",
              "4  {'n_estimators': 100, 'max_depth': 4, 'criteri...        -545.553738   \n",
              "5  {'n_estimators': 200, 'max_depth': 4, 'criteri...        -545.615950   \n",
              "3  {'n_estimators': 200, 'max_depth': 5, 'criteri...        -545.774354   \n",
              "2  {'n_estimators': 100, 'max_depth': 5, 'criteri...        -546.995243   \n",
              "1  {'n_estimators': 200, 'max_depth': 4, 'criteri...        -555.634757   \n",
              "0  {'n_estimators': 100, 'max_depth': 4, 'criteri...        -557.174302   \n",
              "\n",
              "   split1_test_score  split2_test_score  mean_test_score  std_test_score  \\\n",
              "7        -633.188069        -611.812399      -594.114564       41.080965   \n",
              "6        -635.247773        -610.870031      -595.287378       40.516179   \n",
              "4        -635.478629        -609.898505      -596.976957       37.831612   \n",
              "5        -634.226674        -611.571316      -597.137980       37.587285   \n",
              "3        -637.307005        -627.616934      -603.566098       41.055966   \n",
              "2        -639.080607        -629.837818      -605.304556       41.403214   \n",
              "1        -640.866167        -625.853913      -607.451613       37.149085   \n",
              "0        -642.450417        -629.072181      -609.565633       37.446700   \n",
              "\n",
              "   rank_test_score  split0_train_score  split1_train_score  \\\n",
              "7                1         -514.399139         -476.132208   \n",
              "6                2         -513.924961         -475.585023   \n",
              "4                3         -554.610927         -515.603583   \n",
              "5                4         -554.012714         -515.754478   \n",
              "3                5         -524.163469         -490.204130   \n",
              "2                6         -526.882336         -490.560190   \n",
              "1                7         -572.252550         -529.625674   \n",
              "0                8         -574.472102         -530.248079   \n",
              "\n",
              "   split2_train_score  mean_train_score  std_train_score  \n",
              "7         -486.784755       -492.438701        16.125856  \n",
              "6         -489.148606       -492.886197        15.873771  \n",
              "4         -525.162173       -531.792227        16.600431  \n",
              "5         -524.948497       -531.571896        16.305934  \n",
              "3         -490.472466       -501.613355        15.945715  \n",
              "2         -492.252512       -503.231679        16.737805  \n",
              "1         -536.655286       -546.177836        18.659615  \n",
              "0         -538.576526       -547.765569        19.188016  "
            ]
          },
          "metadata": {
            "tags": []
          },
          "execution_count": 46
        }
      ]
    },
    {
      "cell_type": "code",
      "metadata": {
        "id": "0BvV5C9AR3Gu",
        "colab_type": "code",
        "colab": {
          "base_uri": "https://localhost:8080/",
          "height": 119
        },
        "outputId": "36f006d2-7058-4774-e0a0-478030156ff8"
      },
      "source": [
        "gridsearch.best_estimator_"
      ],
      "execution_count": 47,
      "outputs": [
        {
          "output_type": "execute_result",
          "data": {
            "text/plain": [
              "RandomForestRegressor(bootstrap=True, criterion='mae', max_depth=5,\n",
              "           max_features='auto', max_leaf_nodes=None,\n",
              "           min_impurity_decrease=0.0, min_impurity_split=None,\n",
              "           min_samples_leaf=1, min_samples_split=2,\n",
              "           min_weight_fraction_leaf=0.0, n_estimators=200, n_jobs=-1,\n",
              "           oob_score=False, random_state=42, verbose=0, warm_start=False)"
            ]
          },
          "metadata": {
            "tags": []
          },
          "execution_count": 47
        }
      ]
    },
    {
      "cell_type": "markdown",
      "metadata": {
        "colab_type": "text",
        "id": "ZW5HfYtU0GW2"
      },
      "source": [
        "## FEATURE ENGINEERING!"
      ]
    },
    {
      "cell_type": "markdown",
      "metadata": {
        "colab_type": "text",
        "id": "0ms-eoOHFvPG"
      },
      "source": [
        "Jake VanderPlas demonstrates this feature engineering: \n",
        "https://jakevdp.github.io/PythonDataScienceHandbook/05.06-linear-regression.html#Example:-Predicting-Bicycle-Traffic"
      ]
    },
    {
      "cell_type": "code",
      "metadata": {
        "colab_type": "code",
        "id": "sEwME8wR3A5g",
        "colab": {}
      },
      "source": [
        "# Modified from code cells 17-21 at\n",
        "# https://jakevdp.github.io/PythonDataScienceHandbook/05.06-linear-regression.html#Example:-Predicting-Bicycle-Traffic\n",
        "\n",
        "def jake_wrangle(X):  \n",
        "    X = X.copy()\n",
        "\n",
        "    # patterns of use generally vary from day to day; \n",
        "    # let's add binary columns that indicate the day of the week:\n",
        "    days = ['Mon', 'Tue', 'Wed', 'Thu', 'Fri', 'Sat', 'Sun']\n",
        "    for i, day in enumerate(days):\n",
        "        X[day] = (X.index.dayofweek == i).astype(float)\n",
        "\n",
        "\n",
        "    # we might expect riders to behave differently on holidays; \n",
        "    # let's add an indicator of this as well:\n",
        "    from pandas.tseries.holiday import USFederalHolidayCalendar\n",
        "    cal = USFederalHolidayCalendar()\n",
        "    holidays = cal.holidays('2012', '2016')\n",
        "    X = X.join(pd.Series(1, index=holidays, name='holiday'))\n",
        "    X['holiday'].fillna(0, inplace=True)\n",
        "\n",
        "\n",
        "    # We also might suspect that the hours of daylight would affect \n",
        "    # how many people ride; let's use the standard astronomical calculation \n",
        "    # to add this information:\n",
        "    def hours_of_daylight(date, axis=23.44, latitude=47.61):\n",
        "        \"\"\"Compute the hours of daylight for the given date\"\"\"\n",
        "        days = (date - pd.datetime(2000, 12, 21)).days\n",
        "        m = (1. - np.tan(np.radians(latitude))\n",
        "             * np.tan(np.radians(axis) * np.cos(days * 2 * np.pi / 365.25)))\n",
        "        return 24. * np.degrees(np.arccos(1 - np.clip(m, 0, 2))) / 180.\n",
        "\n",
        "    X['daylight_hrs'] = list(map(hours_of_daylight, X.index))\n",
        "\n",
        "    \n",
        "    # temperatures are in 1/10 deg C; convert to C\n",
        "    X['TMIN'] /= 10\n",
        "    X['TMAX'] /= 10\n",
        "    \n",
        "    # We can also calcuate the average temperature.\n",
        "    X['Temp (C)'] = 0.5 * (X['TMIN'] + X['TMAX'])\n",
        "\n",
        "    # precip is in 1/10 mm; convert to inches\n",
        "    X['PRCP'] /= 254\n",
        "\n",
        "    # In addition to the inches of precipitation, let's add a flag that \n",
        "    # indicates whether a day is dry (has zero precipitation):\n",
        "    X['dry day'] = (X['PRCP'] == 0).astype(int)\n",
        "\n",
        "\n",
        "    # Let's add a counter that increases from day 1, and measures how many \n",
        "    # years have passed. This will let us measure any observed annual increase \n",
        "    # or decrease in daily crossings:\n",
        "    X['annual'] = (X.index - X.index[0]).days / 365.\n",
        "\n",
        "    return X\n",
        "\n",
        "X_train = jake_wrangle(X_train)"
      ],
      "execution_count": 0,
      "outputs": []
    },
    {
      "cell_type": "markdown",
      "metadata": {
        "colab_type": "text",
        "id": "dDGkAv813Wtj"
      },
      "source": [
        "### Linear Regression (with new features)"
      ]
    },
    {
      "cell_type": "code",
      "metadata": {
        "colab_type": "code",
        "id": "cj3HTM6p5F1A",
        "colab": {
          "base_uri": "https://localhost:8080/",
          "height": 142
        },
        "outputId": "56aff62f-7552-403e-8a5d-6c4c586c49c7"
      },
      "source": [
        "# TODO\n",
        "scores = cross_validate(LinearRegression(), X_train, y_train, scoring='neg_mean_absolute_error', cv=3, return_train_score=True, return_estimator=True)\n",
        "\n",
        "pd.DataFrame(scores)\n"
      ],
      "execution_count": 50,
      "outputs": [
        {
          "output_type": "execute_result",
          "data": {
            "text/html": [
              "<div>\n",
              "<style scoped>\n",
              "    .dataframe tbody tr th:only-of-type {\n",
              "        vertical-align: middle;\n",
              "    }\n",
              "\n",
              "    .dataframe tbody tr th {\n",
              "        vertical-align: top;\n",
              "    }\n",
              "\n",
              "    .dataframe thead th {\n",
              "        text-align: right;\n",
              "    }\n",
              "</style>\n",
              "<table border=\"1\" class=\"dataframe\">\n",
              "  <thead>\n",
              "    <tr style=\"text-align: right;\">\n",
              "      <th></th>\n",
              "      <th>fit_time</th>\n",
              "      <th>score_time</th>\n",
              "      <th>estimator</th>\n",
              "      <th>test_score</th>\n",
              "      <th>train_score</th>\n",
              "    </tr>\n",
              "  </thead>\n",
              "  <tbody>\n",
              "    <tr>\n",
              "      <th>0</th>\n",
              "      <td>0.010351</td>\n",
              "      <td>0.002407</td>\n",
              "      <td>LinearRegression(copy_X=True, fit_intercept=Tr...</td>\n",
              "      <td>-297.692524</td>\n",
              "      <td>-294.532315</td>\n",
              "    </tr>\n",
              "    <tr>\n",
              "      <th>1</th>\n",
              "      <td>0.003842</td>\n",
              "      <td>0.001550</td>\n",
              "      <td>LinearRegression(copy_X=True, fit_intercept=Tr...</td>\n",
              "      <td>-300.419037</td>\n",
              "      <td>-283.779461</td>\n",
              "    </tr>\n",
              "    <tr>\n",
              "      <th>2</th>\n",
              "      <td>0.003771</td>\n",
              "      <td>0.001429</td>\n",
              "      <td>LinearRegression(copy_X=True, fit_intercept=Tr...</td>\n",
              "      <td>-322.640378</td>\n",
              "      <td>-283.509114</td>\n",
              "    </tr>\n",
              "  </tbody>\n",
              "</table>\n",
              "</div>"
            ],
            "text/plain": [
              "   fit_time  score_time                                          estimator  \\\n",
              "0  0.010351    0.002407  LinearRegression(copy_X=True, fit_intercept=Tr...   \n",
              "1  0.003842    0.001550  LinearRegression(copy_X=True, fit_intercept=Tr...   \n",
              "2  0.003771    0.001429  LinearRegression(copy_X=True, fit_intercept=Tr...   \n",
              "\n",
              "   test_score  train_score  \n",
              "0 -297.692524  -294.532315  \n",
              "1 -300.419037  -283.779461  \n",
              "2 -322.640378  -283.509114  "
            ]
          },
          "metadata": {
            "tags": []
          },
          "execution_count": 50
        }
      ]
    },
    {
      "cell_type": "code",
      "metadata": {
        "id": "WuJ4ZMF1UnGA",
        "colab_type": "code",
        "colab": {
          "base_uri": "https://localhost:8080/",
          "height": 34
        },
        "outputId": "1e92b0c6-2756-4ba9-bdd4-213125bf53a0"
      },
      "source": [
        "-scores['test_score'].mean()"
      ],
      "execution_count": 51,
      "outputs": [
        {
          "output_type": "execute_result",
          "data": {
            "text/plain": [
              "306.9173130794428"
            ]
          },
          "metadata": {
            "tags": []
          },
          "execution_count": 51
        }
      ]
    },
    {
      "cell_type": "markdown",
      "metadata": {
        "colab_type": "text",
        "id": "b6zxN2xB3bX_"
      },
      "source": [
        "### Random Forest (with new features)"
      ]
    },
    {
      "cell_type": "code",
      "metadata": {
        "colab_type": "code",
        "id": "3sWUDZIz1-kk",
        "colab": {
          "base_uri": "https://localhost:8080/",
          "height": 397
        },
        "outputId": "dcab9597-4296-448b-dfa7-a522550fe5f4"
      },
      "source": [
        "# TODO\n",
        "\n",
        "param_distributions = {\n",
        "    'n_estimators' : [100],\n",
        "    'max_depth' : [5,10, 15, None],\n",
        "    'criterion' : ['mae']\n",
        "}\n",
        "\n",
        "gridsearch = RandomizedSearchCV(\n",
        "    RandomForestRegressor(n_jobs=-1, random_state=42),\n",
        "    param_distributions= param_distributions,\n",
        "    n_iter=8,\n",
        "    cv=3,\n",
        "    scoring='neg_mean_absolute_error',\n",
        "    verbose=10,\n",
        "    return_train_score=True,\n",
        "    n_jobs=-1\n",
        ")\n",
        "\n",
        "gridsearch.fit(X_train, y_train)"
      ],
      "execution_count": 53,
      "outputs": [
        {
          "output_type": "stream",
          "text": [
            "Fitting 3 folds for each of 4 candidates, totalling 12 fits\n"
          ],
          "name": "stdout"
        },
        {
          "output_type": "stream",
          "text": [
            "/usr/local/lib/python3.6/dist-packages/sklearn/model_selection/_search.py:271: UserWarning: The total space of parameters 4 is smaller than n_iter=8. Running 4 iterations. For exhaustive searches, use GridSearchCV.\n",
            "  % (grid_size, self.n_iter, grid_size), UserWarning)\n",
            "[Parallel(n_jobs=-1)]: Using backend LokyBackend with 2 concurrent workers.\n",
            "[Parallel(n_jobs=-1)]: Done   1 tasks      | elapsed:    3.8s\n",
            "[Parallel(n_jobs=-1)]: Done   4 tasks      | elapsed:    7.2s\n",
            "[Parallel(n_jobs=-1)]: Done   9 tasks      | elapsed:   17.3s\n",
            "[Parallel(n_jobs=-1)]: Done  12 out of  12 | elapsed:   21.4s finished\n"
          ],
          "name": "stderr"
        },
        {
          "output_type": "execute_result",
          "data": {
            "text/plain": [
              "RandomizedSearchCV(cv=3, error_score='raise-deprecating',\n",
              "          estimator=RandomForestRegressor(bootstrap=True, criterion='mse', max_depth=None,\n",
              "           max_features='auto', max_leaf_nodes=None,\n",
              "           min_impurity_decrease=0.0, min_impurity_split=None,\n",
              "           min_samples_leaf=1, min_samples_split=2,\n",
              "           min_weight_fraction_leaf=0.0, n_estimators='warn', n_jobs=-1,\n",
              "           oob_score=False, random_state=42, verbose=0, warm_start=False),\n",
              "          fit_params=None, iid='warn', n_iter=8, n_jobs=-1,\n",
              "          param_distributions={'n_estimators': [100], 'max_depth': [5, 10, 15, None], 'criterion': ['mae']},\n",
              "          pre_dispatch='2*n_jobs', random_state=None, refit=True,\n",
              "          return_train_score=True, scoring='neg_mean_absolute_error',\n",
              "          verbose=10)"
            ]
          },
          "metadata": {
            "tags": []
          },
          "execution_count": 53
        }
      ]
    },
    {
      "cell_type": "code",
      "metadata": {
        "id": "I9UgEBhmVfBU",
        "colab_type": "code",
        "colab": {
          "base_uri": "https://localhost:8080/",
          "height": 417
        },
        "outputId": "7f60aa83-79e6-4762-c047-6ecc6b7294f9"
      },
      "source": [
        "results = pd.DataFrame(gridsearch.cv_results_)\n",
        "results.sort_values(by='rank_test_score')"
      ],
      "execution_count": 54,
      "outputs": [
        {
          "output_type": "execute_result",
          "data": {
            "text/html": [
              "<div>\n",
              "<style scoped>\n",
              "    .dataframe tbody tr th:only-of-type {\n",
              "        vertical-align: middle;\n",
              "    }\n",
              "\n",
              "    .dataframe tbody tr th {\n",
              "        vertical-align: top;\n",
              "    }\n",
              "\n",
              "    .dataframe thead th {\n",
              "        text-align: right;\n",
              "    }\n",
              "</style>\n",
              "<table border=\"1\" class=\"dataframe\">\n",
              "  <thead>\n",
              "    <tr style=\"text-align: right;\">\n",
              "      <th></th>\n",
              "      <th>mean_fit_time</th>\n",
              "      <th>std_fit_time</th>\n",
              "      <th>mean_score_time</th>\n",
              "      <th>std_score_time</th>\n",
              "      <th>param_n_estimators</th>\n",
              "      <th>param_max_depth</th>\n",
              "      <th>param_criterion</th>\n",
              "      <th>params</th>\n",
              "      <th>split0_test_score</th>\n",
              "      <th>split1_test_score</th>\n",
              "      <th>split2_test_score</th>\n",
              "      <th>mean_test_score</th>\n",
              "      <th>std_test_score</th>\n",
              "      <th>rank_test_score</th>\n",
              "      <th>split0_train_score</th>\n",
              "      <th>split1_train_score</th>\n",
              "      <th>split2_train_score</th>\n",
              "      <th>mean_train_score</th>\n",
              "      <th>std_train_score</th>\n",
              "    </tr>\n",
              "  </thead>\n",
              "  <tbody>\n",
              "    <tr>\n",
              "      <th>2</th>\n",
              "      <td>3.414963</td>\n",
              "      <td>0.026476</td>\n",
              "      <td>0.117581</td>\n",
              "      <td>0.001567</td>\n",
              "      <td>100</td>\n",
              "      <td>15</td>\n",
              "      <td>mae</td>\n",
              "      <td>{'n_estimators': 100, 'max_depth': 15, 'criter...</td>\n",
              "      <td>-347.235405</td>\n",
              "      <td>-319.651340</td>\n",
              "      <td>-304.428754</td>\n",
              "      <td>-323.771833</td>\n",
              "      <td>17.716963</td>\n",
              "      <td>1</td>\n",
              "      <td>-112.552009</td>\n",
              "      <td>-102.188061</td>\n",
              "      <td>-116.336075</td>\n",
              "      <td>-110.358715</td>\n",
              "      <td>5.980495</td>\n",
              "    </tr>\n",
              "    <tr>\n",
              "      <th>1</th>\n",
              "      <td>3.075271</td>\n",
              "      <td>0.058317</td>\n",
              "      <td>0.118511</td>\n",
              "      <td>0.003687</td>\n",
              "      <td>100</td>\n",
              "      <td>10</td>\n",
              "      <td>mae</td>\n",
              "      <td>{'n_estimators': 100, 'max_depth': 10, 'criter...</td>\n",
              "      <td>-349.442196</td>\n",
              "      <td>-324.468287</td>\n",
              "      <td>-297.640561</td>\n",
              "      <td>-323.850348</td>\n",
              "      <td>21.152443</td>\n",
              "      <td>2</td>\n",
              "      <td>-143.936106</td>\n",
              "      <td>-128.380117</td>\n",
              "      <td>-145.615195</td>\n",
              "      <td>-139.310472</td>\n",
              "      <td>7.759267</td>\n",
              "    </tr>\n",
              "    <tr>\n",
              "      <th>3</th>\n",
              "      <td>3.424113</td>\n",
              "      <td>0.106442</td>\n",
              "      <td>0.112424</td>\n",
              "      <td>0.006629</td>\n",
              "      <td>100</td>\n",
              "      <td>None</td>\n",
              "      <td>mae</td>\n",
              "      <td>{'n_estimators': 100, 'max_depth': None, 'crit...</td>\n",
              "      <td>-358.797290</td>\n",
              "      <td>-320.268505</td>\n",
              "      <td>-301.250794</td>\n",
              "      <td>-326.772196</td>\n",
              "      <td>23.939135</td>\n",
              "      <td>3</td>\n",
              "      <td>-108.845631</td>\n",
              "      <td>-99.839463</td>\n",
              "      <td>-113.803692</td>\n",
              "      <td>-107.496262</td>\n",
              "      <td>5.780168</td>\n",
              "    </tr>\n",
              "    <tr>\n",
              "      <th>0</th>\n",
              "      <td>2.335735</td>\n",
              "      <td>0.102967</td>\n",
              "      <td>0.106006</td>\n",
              "      <td>0.002237</td>\n",
              "      <td>100</td>\n",
              "      <td>5</td>\n",
              "      <td>mae</td>\n",
              "      <td>{'n_estimators': 100, 'max_depth': 5, 'criteri...</td>\n",
              "      <td>-360.615374</td>\n",
              "      <td>-387.242134</td>\n",
              "      <td>-335.736137</td>\n",
              "      <td>-361.197882</td>\n",
              "      <td>21.031269</td>\n",
              "      <td>4</td>\n",
              "      <td>-299.174914</td>\n",
              "      <td>-266.206192</td>\n",
              "      <td>-294.979984</td>\n",
              "      <td>-286.787030</td>\n",
              "      <td>14.653271</td>\n",
              "    </tr>\n",
              "  </tbody>\n",
              "</table>\n",
              "</div>"
            ],
            "text/plain": [
              "   mean_fit_time  std_fit_time  mean_score_time  std_score_time  \\\n",
              "2       3.414963      0.026476         0.117581        0.001567   \n",
              "1       3.075271      0.058317         0.118511        0.003687   \n",
              "3       3.424113      0.106442         0.112424        0.006629   \n",
              "0       2.335735      0.102967         0.106006        0.002237   \n",
              "\n",
              "  param_n_estimators param_max_depth param_criterion  \\\n",
              "2                100              15             mae   \n",
              "1                100              10             mae   \n",
              "3                100            None             mae   \n",
              "0                100               5             mae   \n",
              "\n",
              "                                              params  split0_test_score  \\\n",
              "2  {'n_estimators': 100, 'max_depth': 15, 'criter...        -347.235405   \n",
              "1  {'n_estimators': 100, 'max_depth': 10, 'criter...        -349.442196   \n",
              "3  {'n_estimators': 100, 'max_depth': None, 'crit...        -358.797290   \n",
              "0  {'n_estimators': 100, 'max_depth': 5, 'criteri...        -360.615374   \n",
              "\n",
              "   split1_test_score  split2_test_score  mean_test_score  std_test_score  \\\n",
              "2        -319.651340        -304.428754      -323.771833       17.716963   \n",
              "1        -324.468287        -297.640561      -323.850348       21.152443   \n",
              "3        -320.268505        -301.250794      -326.772196       23.939135   \n",
              "0        -387.242134        -335.736137      -361.197882       21.031269   \n",
              "\n",
              "   rank_test_score  split0_train_score  split1_train_score  \\\n",
              "2                1         -112.552009         -102.188061   \n",
              "1                2         -143.936106         -128.380117   \n",
              "3                3         -108.845631          -99.839463   \n",
              "0                4         -299.174914         -266.206192   \n",
              "\n",
              "   split2_train_score  mean_train_score  std_train_score  \n",
              "2         -116.336075       -110.358715         5.980495  \n",
              "1         -145.615195       -139.310472         7.759267  \n",
              "3         -113.803692       -107.496262         5.780168  \n",
              "0         -294.979984       -286.787030        14.653271  "
            ]
          },
          "metadata": {
            "tags": []
          },
          "execution_count": 54
        }
      ]
    },
    {
      "cell_type": "markdown",
      "metadata": {
        "colab_type": "text",
        "id": "edpJ87A8A8sd"
      },
      "source": [
        "\n",
        "### Feature engineering, explained by Francois Chollet\n",
        "\n",
        "> _Feature engineering_ is the process of using your own knowledge about the data and about the machine learning algorithm at hand to make the algorithm work better by applying hardcoded (nonlearned) transformations to the data before it goes into the model. In many cases, it isn’t reasonable to expect a machine-learning model to be able to learn from completely arbitrary data. The data needs to be presented to the model in a way that will make the model’s job easier.\n",
        "\n",
        "> Let’s look at an intuitive example. Suppose you’re trying to develop a model that can take as input an image of a clock and can output the time of day.\n",
        "\n",
        "> If you choose to use the raw pixels of the image as input data, then you have a difficult machine-learning problem on your hands. You’ll need a convolutional neural network to solve it, and you’ll have to expend quite a bit of computational resources to train the network.\n",
        "\n",
        "> But if you already understand the problem at a high level (you understand how humans read time on a clock face), then you can come up with much better input features for a machine-learning algorithm: for instance, write a Python script to follow the black pixels of the clock hands and output the (x, y) coordinates of the tip of each hand. Then a simple machine-learning algorithm can learn to associate these coordinates with the appropriate time of day.\n",
        "\n",
        "> You can go even further: do a coordinate change, and express the (x, y) coordinates as polar coordinates with regard to the center of the image. Your input will become the angle theta of each clock hand. At this point, your features are making the problem so easy that no machine learning is required; a simple rounding operation and dictionary lookup are enough to recover the approximate time of day.\n",
        "\n",
        "> That’s the essence of feature engineering: making a problem easier by expressing it in a simpler way. It usually requires understanding the problem in depth.\n",
        "\n",
        "> Before convolutional neural networks became successful on the MNIST digit-classification problem, solutions were typically based on hardcoded features such as the number of loops in a digit image, the height of each digit in an image, a histogram of pixel values, and so on.\n",
        "\n",
        "> Neural networks are capable of automatically extracting useful features from raw data. Does this mean you don’t have to worry about feature engineering as long as you’re using deep neural networks? No, for two reasons:\n",
        "\n",
        "> - Good features still allow you to solve problems more elegantly while using fewer resources. For instance, it would be ridiculous to solve the problem of reading a clock face using a convolutional neural network.\n",
        "> - Good features let you solve a problem with far less data. The ability of deep-learning models to learn features on their own relies on having lots of training data available; if you have only a few samples, then the information value in their features becomes critical.\n"
      ]
    },
    {
      "cell_type": "markdown",
      "metadata": {
        "colab_type": "text",
        "id": "oux-dd-5FD6p"
      },
      "source": [
        "# ASSIGNMENT\n",
        "\n",
        "**1.** Complete the notebook cells that were originally commented **`TODO`**. \n",
        "\n",
        "**2.** Then, focus on feature engineering to improve your cross validation scores. Collaborate with your cohort on Slack. You could start with the ideas [Jake VanderPlas suggests:](https://jakevdp.github.io/PythonDataScienceHandbook/05.06-linear-regression.html#Example:-Predicting-Bicycle-Traffic)\n",
        "\n",
        "> Our model is almost certainly missing some relevant information. For example, nonlinear effects (such as effects of precipitation and cold temperature) and nonlinear trends within each variable (such as disinclination to ride at very cold and very hot temperatures) cannot be accounted for in this model. Additionally, we have thrown away some of the finer-grained information (such as the difference between a rainy morning and a rainy afternoon), and we have ignored correlations between days (such as the possible effect of a rainy Tuesday on Wednesday's numbers, or the effect of an unexpected sunny day after a streak of rainy days). These are all potentially interesting effects, and you now have the tools to begin exploring them if you wish!\n",
        "\n",
        "**3.** Experiment with the Categorical Encoding notebook.\n",
        "\n",
        "**4.** At the end of the day, take the last step in the \"universal workflow of machine learning\" — \"You can train your final production model on all the available data (training and validation) and evaluate it one last time on the test set.\"\n",
        "\n",
        "See the [`RandomizedSearchCV`](https://scikit-learn.org/stable/modules/generated/sklearn.model_selection.RandomizedSearchCV.html) documentation for the `refit` parameter, `best_estimator_` attribute, and `predict` method:\n",
        "\n",
        "> **refit : boolean, or string, default=True**\n",
        "\n",
        "> Refit an estimator using the best found parameters on the whole dataset.\n",
        "\n",
        "> The refitted estimator is made available at the `best_estimator_` attribute and permits using `predict` directly on this `GridSearchCV` instance.\n",
        "\n",
        "### STRETCH\n",
        "\n",
        "**A.** Apply this lesson other datasets you've worked with, like Ames Housing, Bank Marketing, or others.\n",
        "\n",
        "**B.** In additon to `RandomizedSearchCV`, scikit-learn has [`GridSearchCV`](https://scikit-learn.org/stable/modules/generated/sklearn.model_selection.GridSearchCV.html). Another library called scikit-optimize has [`BayesSearchCV`](https://scikit-optimize.github.io/notebooks/sklearn-gridsearchcv-replacement.html). Experiment with these alternatives.\n",
        "\n",
        "**C.** _[Introduction to Machine Learning with Python](http://shop.oreilly.com/product/0636920030515.do)_ discusses options for \"Grid-Searching Which Model To Use\" in Chapter 6:\n",
        "\n",
        "> You can even go further in combining GridSearchCV and Pipeline: it is also possible to search over the actual steps being performed in the pipeline (say whether to use StandardScaler or MinMaxScaler). This leads to an even bigger search space and should be considered carefully. Trying all possible solutions is usually not a viable machine learning strategy. However, here is an example comparing a RandomForestClassifier and an SVC ...\n",
        "\n",
        "The example is shown in [the accompanying notebook](https://github.com/amueller/introduction_to_ml_with_python/blob/master/06-algorithm-chains-and-pipelines.ipynb), code cells 35-37. Could you apply this concept to your own pipelines?"
      ]
    }
  ]
}